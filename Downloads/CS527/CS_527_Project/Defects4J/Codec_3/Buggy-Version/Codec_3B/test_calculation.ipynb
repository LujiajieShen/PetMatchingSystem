{
 "cells": [
  {
   "cell_type": "code",
   "execution_count": 2,
   "id": "1dc4206e-cc6b-4bac-8266-3e66ac51c3e6",
   "metadata": {},
   "outputs": [
    {
     "name": "stdout",
     "output_type": "stream",
     "text": [
      "[47, 49, 51, 53, 59, 65, 66, 937, 938, 940, 921, 922, 924, 925, 926, 928, 812, 813, 814, 815, 816, 817, 818, 819, 821, 822, 823, 831, 832, 833, 834, 835, 836, 837, 839, 847, 849, 850, 851, 852, 859, 860, 861, 862, 863, 864, 865, 867, 875, 876, 878, 879, 948, 957, 967, 977, 989, 1001, 1012, 1013, 1014, 1016, 1017, 1018, 1019, 1023, 75, 87, 88, 89, 92, 93, 95, 97, 98, 105, 106, 108, 109, 110, 113, 114, 115, 117, 118, 120, 121, 123, 124, 125, 127, 128, 130, 131, 133, 134, 136, 137, 138, 140, 141, 143, 144, 145, 147, 148, 149, 152, 153, 154, 156, 157, 159, 160, 161, 163, 164, 166, 167, 169, 170, 172, 173, 174, 176, 177, 179, 180, 182, 183, 185, 186, 190, 202, 203, 205, 215, 254, 272, 273, 275, 284, 285, 286, 287, 288, 289, 290, 291, 292, 293, 295, 296, 297, 299, 300, 301, 302, 304, 305, 306, 307, 308, 310, 311, 313, 315, 317, 318, 320, 321, 322, 323, 325, 329, 338, 339, 341, 342, 344, 347, 349, 351, 352, 355, 364, 365, 366, 367, 369, 370, 371, 373, 374, 376, 377, 378, 380, 383, 385, 395, 397, 398, 399, 402, 403, 405, 406, 407, 409, 410, 412, 422, 423, 424, 425, 426, 427, 428, 429, 431, 433, 434, 435, 436, 437, 439, 440, 441, 442, 443, 444, 445, 447, 448, 449, 450, 452, 454, 455, 456, 458, 460, 461, 462, 463, 465, 466, 468, 477, 478, 479, 480, 481, 482, 484, 486, 487, 488, 489, 491, 493, 494, 496, 497, 498, 500, 502, 512, 513, 514, 515, 518, 520, 528, 530, 531, 532, 534, 536, 538, 539, 540, 541, 542, 543, 544, 545, 546, 549, 550, 552, 555, 564, 565, 566, 568, 570, 572, 573, 575, 584, 585, 586, 588, 589, 591, 601, 602, 603, 604, 606, 608, 618, 620, 621, 623, 624, 625, 626, 629, 631, 633, 634, 636, 637, 639, 641, 642, 647, 648, 649, 650, 652, 655, 657, 659, 661, 670, 672, 675, 677, 679, 682, 683, 685, 688, 689, 691, 693, 702, 703, 704, 705, 706, 707, 708, 710, 712, 713, 714, 716, 718, 720, 721, 723, 732, 734, 735, 737, 738, 739, 741, 744, 746, 747, 748, 750, 752, 753, 754, 756, 757, 759, 762, 771, 772, 773, 775, 776, 777, 779, 781, 783, 791, 793, 794, 796, 797, 799, 801, 803, 229, 245, 246, 907, 908, 909, 910, 911, 914, 890, 891, 898, 262, 263]\n"
     ]
    }
   ],
   "source": [
    "import xml.etree.ElementTree as ET\n",
    "\n",
    "def extract_line_numbers(xml_file_path, class_name):\n",
    "    # Parse the XML file\n",
    "    tree = ET.parse(xml_file_path)\n",
    "    root = tree.getroot()\n",
    "\n",
    "    # Initialize a list to collect line numbers\n",
    "    line_numbers = []\n",
    "\n",
    "    # Function to recursively find all line numbers under the specified class name\n",
    "    def find_line_numbers(element, target_class):\n",
    "        for child in element:\n",
    "            if child.tag == \"class\" and child.get(\"name\") == target_class:\n",
    "                # If the class is found, get line numbers from its child elements\n",
    "                for lines in child.findall(\".//line\"):\n",
    "                    line_number = lines.get(\"number\")\n",
    "                    if line_number:\n",
    "                        if int(line_number) in line_numbers:\n",
    "                            continue\n",
    "                        line_numbers.append(int(line_number))\n",
    "            else:\n",
    "                # Continue searching recursively through other elements\n",
    "                find_line_numbers(child, target_class)\n",
    "\n",
    "    # Start the search from the root for the specified class name\n",
    "    find_line_numbers(root, class_name)\n",
    "\n",
    "    return line_numbers\n",
    "\n",
    "# Example usage\n",
    "xml_file_path = 'coverage.xml'  # Replace with your actual XML file path\n",
    "class_name = 'org.apache.commons.codec.language.DoubleMetaphone'\n",
    "line_numbers = extract_line_numbers(xml_file_path, class_name)\n",
    "print(line_numbers)"
   ]
  },
  {
   "cell_type": "code",
   "execution_count": 5,
   "id": "4209b6d0-9529-4924-b794-b2d1752c0cf7",
   "metadata": {},
   "outputs": [
    {
     "name": "stdout",
     "output_type": "stream",
     "text": [
      "{47: [0, 0], 49: [0, 0], 51: [0, 0], 53: [0, 0], 59: [0, 0], 65: [0, 0], 66: [0, 0], 937: [0, 0], 938: [0, 0], 940: [0, 0], 921: [0, 0], 922: [0, 0], 924: [0, 0], 925: [0, 0], 926: [0, 0], 928: [0, 0], 812: [0, 0], 813: [0, 0], 814: [0, 0], 815: [0, 0], 816: [0, 0], 817: [0, 0], 818: [0, 0], 819: [0, 0], 821: [0, 0], 822: [0, 0], 823: [0, 0], 831: [0, 0], 832: [0, 0], 833: [0, 0], 834: [0, 0], 835: [0, 0], 836: [0, 0], 837: [0, 0], 839: [0, 0], 847: [0, 0], 849: [0, 0], 850: [0, 0], 851: [0, 0], 852: [0, 0], 859: [0, 0], 860: [0, 0], 861: [0, 0], 862: [0, 0], 863: [0, 0], 864: [0, 0], 865: [0, 0], 867: [0, 0], 875: [0, 0], 876: [0, 0], 878: [0, 0], 879: [0, 0], 948: [0, 0], 957: [0, 0], 967: [0, 0], 977: [0, 0], 989: [0, 0], 1001: [0, 0], 1012: [0, 0], 1013: [0, 0], 1014: [0, 0], 1016: [0, 0], 1017: [0, 0], 1018: [0, 0], 1019: [0, 0], 1023: [0, 0], 75: [0, 0], 87: [0, 0], 88: [0, 0], 89: [0, 0], 92: [0, 0], 93: [0, 0], 95: [0, 0], 97: [0, 0], 98: [0, 0], 105: [0, 0], 106: [0, 0], 108: [0, 0], 109: [0, 0], 110: [0, 0], 113: [0, 0], 114: [0, 0], 115: [0, 0], 117: [0, 0], 118: [0, 0], 120: [0, 0], 121: [0, 0], 123: [0, 0], 124: [0, 0], 125: [0, 0], 127: [0, 0], 128: [0, 0], 130: [0, 0], 131: [0, 0], 133: [0, 0], 134: [0, 0], 136: [0, 0], 137: [0, 0], 138: [0, 0], 140: [0, 0], 141: [0, 0], 143: [0, 0], 144: [0, 0], 145: [0, 0], 147: [0, 0], 148: [0, 0], 149: [0, 0], 152: [0, 0], 153: [0, 0], 154: [0, 0], 156: [0, 0], 157: [0, 0], 159: [0, 0], 160: [0, 0], 161: [0, 0], 163: [0, 0], 164: [0, 0], 166: [0, 0], 167: [0, 0], 169: [0, 0], 170: [0, 0], 172: [0, 0], 173: [0, 0], 174: [0, 0], 176: [0, 0], 177: [0, 0], 179: [0, 0], 180: [0, 0], 182: [0, 0], 183: [0, 0], 185: [0, 0], 186: [0, 0], 190: [0, 0], 202: [0, 0], 203: [0, 0], 205: [0, 0], 215: [0, 0], 254: [0, 0], 272: [0, 0], 273: [0, 0], 275: [0, 0], 284: [0, 0], 285: [0, 0], 286: [0, 0], 287: [0, 0], 288: [0, 0], 289: [0, 0], 290: [0, 0], 291: [0, 0], 292: [0, 0], 293: [0, 0], 295: [0, 0], 296: [0, 0], 297: [0, 0], 299: [0, 0], 300: [0, 0], 301: [0, 0], 302: [0, 0], 304: [0, 0], 305: [0, 0], 306: [0, 0], 307: [0, 0], 308: [0, 0], 310: [0, 0], 311: [0, 0], 313: [0, 0], 315: [0, 0], 317: [0, 0], 318: [0, 0], 320: [0, 0], 321: [0, 0], 322: [0, 0], 323: [0, 0], 325: [0, 0], 329: [0, 0], 338: [0, 0], 339: [0, 0], 341: [0, 0], 342: [0, 0], 344: [0, 0], 347: [0, 0], 349: [0, 0], 351: [0, 0], 352: [0, 0], 355: [0, 0], 364: [0, 0], 365: [0, 0], 366: [0, 0], 367: [0, 0], 369: [0, 0], 370: [0, 0], 371: [0, 0], 373: [0, 0], 374: [0, 0], 376: [0, 0], 377: [0, 0], 378: [0, 0], 380: [0, 0], 383: [0, 0], 385: [0, 0], 395: [0, 0], 397: [0, 0], 398: [0, 0], 399: [0, 0], 402: [0, 0], 403: [0, 0], 405: [0, 0], 406: [0, 0], 407: [0, 0], 409: [0, 0], 410: [0, 0], 412: [0, 0], 422: [0, 0], 423: [0, 0], 424: [0, 0], 425: [0, 0], 426: [0, 0], 427: [0, 0], 428: [0, 0], 429: [0, 0], 431: [0, 0], 433: [0, 0], 434: [0, 0], 435: [0, 0], 436: [0, 0], 437: [0, 0], 439: [0, 0], 440: [0, 0], 441: [0, 0], 442: [0, 0], 443: [0, 0], 444: [0, 0], 445: [0, 0], 447: [0, 0], 448: [0, 0], 449: [0, 0], 450: [0, 0], 452: [0, 0], 454: [0, 0], 455: [0, 0], 456: [0, 0], 458: [0, 0], 460: [0, 0], 461: [0, 0], 462: [0, 0], 463: [0, 0], 465: [0, 0], 466: [0, 0], 468: [0, 0], 477: [0, 0], 478: [0, 0], 479: [0, 0], 480: [0, 0], 481: [0, 0], 482: [0, 0], 484: [0, 0], 486: [0, 0], 487: [0, 0], 488: [0, 0], 489: [0, 0], 491: [0, 0], 493: [0, 0], 494: [0, 0], 496: [0, 0], 497: [0, 0], 498: [0, 0], 500: [0, 0], 502: [0, 0], 512: [0, 0], 513: [0, 0], 514: [0, 0], 515: [0, 0], 518: [0, 0], 520: [0, 0], 528: [0, 0], 530: [0, 0], 531: [0, 0], 532: [0, 0], 534: [0, 0], 536: [0, 0], 538: [0, 0], 539: [0, 0], 540: [0, 0], 541: [0, 0], 542: [0, 0], 543: [0, 0], 544: [0, 0], 545: [0, 0], 546: [0, 0], 549: [0, 0], 550: [0, 0], 552: [0, 0], 555: [0, 0], 564: [0, 0], 565: [0, 0], 566: [0, 0], 568: [0, 0], 570: [0, 0], 572: [0, 0], 573: [0, 0], 575: [0, 0], 584: [0, 0], 585: [0, 0], 586: [0, 0], 588: [0, 0], 589: [0, 0], 591: [0, 0], 601: [0, 0], 602: [0, 0], 603: [0, 0], 604: [0, 0], 606: [0, 0], 608: [0, 0], 618: [0, 0], 620: [0, 0], 621: [0, 0], 623: [0, 0], 624: [0, 0], 625: [0, 0], 626: [0, 0], 629: [0, 0], 631: [0, 0], 633: [0, 0], 634: [0, 0], 636: [0, 0], 637: [0, 0], 639: [0, 0], 641: [0, 0], 642: [0, 0], 647: [0, 0], 648: [0, 0], 649: [0, 0], 650: [0, 0], 652: [0, 0], 655: [0, 0], 657: [0, 0], 659: [0, 0], 661: [0, 0], 670: [0, 0], 672: [0, 0], 675: [0, 0], 677: [0, 0], 679: [0, 0], 682: [0, 0], 683: [0, 0], 685: [0, 0], 688: [0, 0], 689: [0, 0], 691: [0, 0], 693: [0, 0], 702: [0, 0], 703: [0, 0], 704: [0, 0], 705: [0, 0], 706: [0, 0], 707: [0, 0], 708: [0, 0], 710: [0, 0], 712: [0, 0], 713: [0, 0], 714: [0, 0], 716: [0, 0], 718: [0, 0], 720: [0, 0], 721: [0, 0], 723: [0, 0], 732: [0, 0], 734: [0, 0], 735: [0, 0], 737: [0, 0], 738: [0, 0], 739: [0, 0], 741: [0, 0], 744: [0, 0], 746: [0, 0], 747: [0, 0], 748: [0, 0], 750: [0, 0], 752: [0, 0], 753: [0, 0], 754: [0, 0], 756: [0, 0], 757: [0, 0], 759: [0, 0], 762: [0, 0], 771: [0, 0], 772: [0, 0], 773: [0, 0], 775: [0, 0], 776: [0, 0], 777: [0, 0], 779: [0, 0], 781: [0, 0], 783: [0, 0], 791: [0, 0], 793: [0, 0], 794: [0, 0], 796: [0, 0], 797: [0, 0], 799: [0, 0], 801: [0, 0], 803: [0, 0], 229: [0, 0], 245: [0, 0], 246: [0, 0], 907: [0, 0], 908: [0, 0], 909: [0, 0], 910: [0, 0], 911: [0, 0], 914: [0, 0], 890: [0, 0], 891: [0, 0], 898: [0, 0], 262: [0, 0], 263: [0, 0]}\n"
     ]
    },
    {
     "name": "stderr",
     "output_type": "stream",
     "text": [
      "Extract test suite......................................................... OK\n",
      "Running ant (compile.gen.tests)............................................ OK\n",
      "Running ant (coverage.instrument).......................................... OK\n",
      "Running ant (run.gen.tests)................................................ OK\n",
      "Running ant (coverage.report).............................................. OK\n",
      "Extract test suite......................................................... OK\n",
      "Running ant (compile.gen.tests)............................................ "
     ]
    },
    {
     "name": "stdout",
     "output_type": "stream",
     "text": [
      "       Lines total: 414\n",
      "     Lines covered: 179\n",
      "  Conditions total: 450\n",
      "Conditions covered: 111\n",
      "     Line coverage: 43.2%\n",
      "Condition coverage: 24.7%\n"
     ]
    },
    {
     "name": "stderr",
     "output_type": "stream",
     "text": [
      "OK\n",
      "Running ant (coverage.instrument).......................................... OK\n",
      "Running ant (run.gen.tests)................................................ OK\n",
      "Running ant (coverage.report).............................................. OK\n",
      "Extract test suite......................................................... OK\n",
      "Running ant (compile.gen.tests)............................................ "
     ]
    },
    {
     "name": "stdout",
     "output_type": "stream",
     "text": [
      "       Lines total: 414\n",
      "     Lines covered: 117\n",
      "  Conditions total: 450\n",
      "Conditions covered: 74\n",
      "     Line coverage: 28.3%\n",
      "Condition coverage: 16.4%\n"
     ]
    },
    {
     "name": "stderr",
     "output_type": "stream",
     "text": [
      "OK\n",
      "Running ant (coverage.instrument).......................................... OK\n",
      "Running ant (run.gen.tests)................................................ OK\n",
      "Running ant (coverage.report).............................................. OK\n",
      "Extract test suite......................................................... OK\n",
      "Running ant (compile.gen.tests)............................................ "
     ]
    },
    {
     "name": "stdout",
     "output_type": "stream",
     "text": [
      "       Lines total: 414\n",
      "     Lines covered: 111\n",
      "  Conditions total: 450\n",
      "Conditions covered: 75\n",
      "     Line coverage: 26.8%\n",
      "Condition coverage: 16.7%\n"
     ]
    },
    {
     "name": "stderr",
     "output_type": "stream",
     "text": [
      "OK\n",
      "Running ant (coverage.instrument).......................................... OK\n",
      "Running ant (run.gen.tests)................................................ OK\n",
      "Running ant (coverage.report).............................................. OK\n",
      "Extract test suite......................................................... OK\n",
      "Running ant (compile.gen.tests)............................................ "
     ]
    },
    {
     "name": "stdout",
     "output_type": "stream",
     "text": [
      "       Lines total: 414\n",
      "     Lines covered: 74\n",
      "  Conditions total: 450\n",
      "Conditions covered: 40\n",
      "     Line coverage: 17.9%\n",
      "Condition coverage: 8.9%\n"
     ]
    },
    {
     "name": "stderr",
     "output_type": "stream",
     "text": [
      "OK\n",
      "Running ant (coverage.instrument).......................................... OK\n",
      "Running ant (run.gen.tests)................................................ OK\n",
      "Running ant (coverage.report).............................................. OK\n",
      "Extract test suite......................................................... OK\n",
      "Running ant (compile.gen.tests)............................................ "
     ]
    },
    {
     "name": "stdout",
     "output_type": "stream",
     "text": [
      "       Lines total: 414\n",
      "     Lines covered: 13\n",
      "  Conditions total: 450\n",
      "Conditions covered: 2\n",
      "     Line coverage: 3.1%\n",
      "Condition coverage: 0.4%\n"
     ]
    },
    {
     "name": "stderr",
     "output_type": "stream",
     "text": [
      "OK\n",
      "Running ant (coverage.instrument).......................................... OK\n",
      "Running ant (run.gen.tests)................................................ OK\n",
      "Running ant (coverage.report).............................................. OK\n",
      "Extract test suite......................................................... OK\n",
      "Running ant (compile.gen.tests)............................................ "
     ]
    },
    {
     "name": "stdout",
     "output_type": "stream",
     "text": [
      "       Lines total: 414\n",
      "     Lines covered: 103\n",
      "  Conditions total: 450\n",
      "Conditions covered: 64\n",
      "     Line coverage: 24.9%\n",
      "Condition coverage: 14.2%\n"
     ]
    },
    {
     "name": "stderr",
     "output_type": "stream",
     "text": [
      "OK\n",
      "Running ant (coverage.instrument).......................................... OK\n",
      "Running ant (run.gen.tests)................................................ OK\n",
      "Running ant (coverage.report).............................................. OK\n",
      "Extract test suite......................................................... OK\n",
      "Running ant (compile.gen.tests)............................................ "
     ]
    },
    {
     "name": "stdout",
     "output_type": "stream",
     "text": [
      "       Lines total: 414\n",
      "     Lines covered: 64\n",
      "  Conditions total: 450\n",
      "Conditions covered: 31\n",
      "     Line coverage: 15.5%\n",
      "Condition coverage: 6.9%\n"
     ]
    },
    {
     "name": "stderr",
     "output_type": "stream",
     "text": [
      "OK\n",
      "Running ant (coverage.instrument).......................................... OK\n",
      "Running ant (run.gen.tests)................................................ OK\n",
      "Running ant (coverage.report).............................................. OK\n",
      "Extract test suite......................................................... OK\n",
      "Running ant (compile.gen.tests)............................................ "
     ]
    },
    {
     "name": "stdout",
     "output_type": "stream",
     "text": [
      "       Lines total: 414\n",
      "     Lines covered: 110\n",
      "  Conditions total: 450\n",
      "Conditions covered: 64\n",
      "     Line coverage: 26.6%\n",
      "Condition coverage: 14.2%\n"
     ]
    },
    {
     "name": "stderr",
     "output_type": "stream",
     "text": [
      "OK\n",
      "Running ant (coverage.instrument).......................................... OK\n",
      "Running ant (run.gen.tests)................................................ OK\n",
      "Running ant (coverage.report).............................................. OK\n",
      "Extract test suite......................................................... OK\n",
      "Running ant (compile.gen.tests)............................................ "
     ]
    },
    {
     "name": "stdout",
     "output_type": "stream",
     "text": [
      "       Lines total: 414\n",
      "     Lines covered: 49\n",
      "  Conditions total: 450\n",
      "Conditions covered: 30\n",
      "     Line coverage: 11.8%\n",
      "Condition coverage: 6.7%\n"
     ]
    },
    {
     "name": "stderr",
     "output_type": "stream",
     "text": [
      "OK\n",
      "Running ant (coverage.instrument).......................................... OK\n",
      "Running ant (run.gen.tests)................................................ OK\n",
      "Running ant (coverage.report).............................................. OK\n",
      "Extract test suite......................................................... OK\n",
      "Running ant (compile.gen.tests)............................................ "
     ]
    },
    {
     "name": "stdout",
     "output_type": "stream",
     "text": [
      "       Lines total: 414\n",
      "     Lines covered: 70\n",
      "  Conditions total: 450\n",
      "Conditions covered: 37\n",
      "     Line coverage: 16.9%\n",
      "Condition coverage: 8.2%\n"
     ]
    },
    {
     "name": "stderr",
     "output_type": "stream",
     "text": [
      "OK\n",
      "Running ant (coverage.instrument).......................................... OK\n",
      "Running ant (run.gen.tests)................................................ OK\n",
      "Running ant (coverage.report).............................................. OK\n",
      "Extract test suite......................................................... OK\n",
      "Running ant (compile.gen.tests)............................................ "
     ]
    },
    {
     "name": "stdout",
     "output_type": "stream",
     "text": [
      "       Lines total: 414\n",
      "     Lines covered: 84\n",
      "  Conditions total: 450\n",
      "Conditions covered: 51\n",
      "     Line coverage: 20.3%\n",
      "Condition coverage: 11.3%\n"
     ]
    },
    {
     "name": "stderr",
     "output_type": "stream",
     "text": [
      "OK\n",
      "Running ant (coverage.instrument).......................................... OK\n",
      "Running ant (run.gen.tests)................................................ OK\n",
      "Running ant (coverage.report).............................................. OK\n",
      "Extract test suite......................................................... OK\n",
      "Running ant (compile.gen.tests)............................................ "
     ]
    },
    {
     "name": "stdout",
     "output_type": "stream",
     "text": [
      "       Lines total: 414\n",
      "     Lines covered: 97\n",
      "  Conditions total: 450\n",
      "Conditions covered: 60\n",
      "     Line coverage: 23.4%\n",
      "Condition coverage: 13.3%\n"
     ]
    },
    {
     "name": "stderr",
     "output_type": "stream",
     "text": [
      "OK\n",
      "Running ant (coverage.instrument).......................................... OK\n",
      "Running ant (run.gen.tests)................................................ OK\n",
      "Running ant (coverage.report).............................................. OK\n",
      "Extract test suite......................................................... OK\n",
      "Running ant (compile.gen.tests)............................................ "
     ]
    },
    {
     "name": "stdout",
     "output_type": "stream",
     "text": [
      "       Lines total: 414\n",
      "     Lines covered: 112\n",
      "  Conditions total: 450\n",
      "Conditions covered: 65\n",
      "     Line coverage: 27.1%\n",
      "Condition coverage: 14.4%\n"
     ]
    },
    {
     "name": "stderr",
     "output_type": "stream",
     "text": [
      "OK\n",
      "Running ant (coverage.instrument).......................................... OK\n",
      "Running ant (run.gen.tests)................................................ OK\n",
      "Running ant (coverage.report).............................................. OK\n",
      "Extract test suite......................................................... OK\n",
      "Running ant (compile.gen.tests)............................................ "
     ]
    },
    {
     "name": "stdout",
     "output_type": "stream",
     "text": [
      "       Lines total: 414\n",
      "     Lines covered: 99\n",
      "  Conditions total: 450\n",
      "Conditions covered: 57\n",
      "     Line coverage: 23.9%\n",
      "Condition coverage: 12.7%\n"
     ]
    },
    {
     "name": "stderr",
     "output_type": "stream",
     "text": [
      "OK\n",
      "Running ant (coverage.instrument).......................................... OK\n",
      "Running ant (run.gen.tests)................................................ OK\n",
      "Running ant (coverage.report).............................................. OK\n",
      "Extract test suite......................................................... OK\n",
      "Running ant (compile.gen.tests)............................................ "
     ]
    },
    {
     "name": "stdout",
     "output_type": "stream",
     "text": [
      "       Lines total: 414\n",
      "     Lines covered: 73\n",
      "  Conditions total: 450\n",
      "Conditions covered: 40\n",
      "     Line coverage: 17.6%\n",
      "Condition coverage: 8.9%\n"
     ]
    },
    {
     "name": "stderr",
     "output_type": "stream",
     "text": [
      "OK\n",
      "Running ant (coverage.instrument).......................................... OK\n",
      "Running ant (run.gen.tests)................................................ OK\n",
      "Running ant (coverage.report).............................................. OK\n",
      "Extract test suite......................................................... OK\n",
      "Running ant (compile.gen.tests)............................................ "
     ]
    },
    {
     "name": "stdout",
     "output_type": "stream",
     "text": [
      "       Lines total: 414\n",
      "     Lines covered: 88\n",
      "  Conditions total: 450\n",
      "Conditions covered: 48\n",
      "     Line coverage: 21.3%\n",
      "Condition coverage: 10.7%\n"
     ]
    },
    {
     "name": "stderr",
     "output_type": "stream",
     "text": [
      "OK\n",
      "Running ant (coverage.instrument).......................................... OK\n",
      "Running ant (run.gen.tests)................................................ OK\n",
      "Running ant (coverage.report).............................................. OK\n",
      "Extract test suite......................................................... OK\n",
      "Running ant (compile.gen.tests)............................................ "
     ]
    },
    {
     "name": "stdout",
     "output_type": "stream",
     "text": [
      "       Lines total: 414\n",
      "     Lines covered: 94\n",
      "  Conditions total: 450\n",
      "Conditions covered: 55\n",
      "     Line coverage: 22.7%\n",
      "Condition coverage: 12.2%\n"
     ]
    },
    {
     "name": "stderr",
     "output_type": "stream",
     "text": [
      "OK\n",
      "Running ant (coverage.instrument).......................................... OK\n",
      "Running ant (run.gen.tests)................................................ OK\n",
      "Running ant (coverage.report).............................................. OK\n",
      "Extract test suite......................................................... OK\n",
      "Running ant (compile.gen.tests)............................................ "
     ]
    },
    {
     "name": "stdout",
     "output_type": "stream",
     "text": [
      "       Lines total: 414\n",
      "     Lines covered: 10\n",
      "  Conditions total: 450\n",
      "Conditions covered: 1\n",
      "     Line coverage: 2.4%\n",
      "Condition coverage: 0.2%\n"
     ]
    },
    {
     "name": "stderr",
     "output_type": "stream",
     "text": [
      "OK\n",
      "Running ant (coverage.instrument).......................................... OK\n",
      "Running ant (run.gen.tests)................................................ OK\n",
      "Running ant (coverage.report).............................................. OK\n",
      "Extract test suite......................................................... OK\n",
      "Running ant (compile.gen.tests)............................................ "
     ]
    },
    {
     "name": "stdout",
     "output_type": "stream",
     "text": [
      "       Lines total: 414\n",
      "     Lines covered: 62\n",
      "  Conditions total: 450\n",
      "Conditions covered: 27\n",
      "     Line coverage: 15.0%\n",
      "Condition coverage: 6.0%\n"
     ]
    },
    {
     "name": "stderr",
     "output_type": "stream",
     "text": [
      "OK\n",
      "Running ant (coverage.instrument).......................................... OK\n",
      "Running ant (run.gen.tests)................................................ OK\n",
      "Running ant (coverage.report).............................................. OK\n",
      "Extract test suite......................................................... OK\n",
      "Running ant (compile.gen.tests)............................................ "
     ]
    },
    {
     "name": "stdout",
     "output_type": "stream",
     "text": [
      "       Lines total: 414\n",
      "     Lines covered: 85\n",
      "  Conditions total: 450\n",
      "Conditions covered: 51\n",
      "     Line coverage: 20.5%\n",
      "Condition coverage: 11.3%\n"
     ]
    },
    {
     "name": "stderr",
     "output_type": "stream",
     "text": [
      "OK\n",
      "Running ant (coverage.instrument).......................................... OK\n",
      "Running ant (run.gen.tests)................................................ OK\n",
      "Running ant (coverage.report).............................................. OK\n",
      "Extract test suite......................................................... OK\n",
      "Running ant (compile.gen.tests)............................................ "
     ]
    },
    {
     "name": "stdout",
     "output_type": "stream",
     "text": [
      "       Lines total: 414\n",
      "     Lines covered: 108\n",
      "  Conditions total: 450\n",
      "Conditions covered: 59\n",
      "     Line coverage: 26.1%\n",
      "Condition coverage: 13.1%\n"
     ]
    },
    {
     "name": "stderr",
     "output_type": "stream",
     "text": [
      "OK\n",
      "Running ant (coverage.instrument).......................................... OK\n",
      "Running ant (run.gen.tests)................................................ OK\n",
      "Running ant (coverage.report).............................................. OK\n",
      "Extract test suite......................................................... OK\n",
      "Running ant (compile.gen.tests)............................................ "
     ]
    },
    {
     "name": "stdout",
     "output_type": "stream",
     "text": [
      "       Lines total: 414\n",
      "     Lines covered: 69\n",
      "  Conditions total: 450\n",
      "Conditions covered: 37\n",
      "     Line coverage: 16.7%\n",
      "Condition coverage: 8.2%\n"
     ]
    },
    {
     "name": "stderr",
     "output_type": "stream",
     "text": [
      "OK\n",
      "Running ant (coverage.instrument).......................................... OK\n",
      "Running ant (run.gen.tests)................................................ OK\n",
      "Running ant (coverage.report).............................................. OK\n",
      "Extract test suite......................................................... OK\n",
      "Running ant (compile.gen.tests)............................................ "
     ]
    },
    {
     "name": "stdout",
     "output_type": "stream",
     "text": [
      "       Lines total: 414\n",
      "     Lines covered: 101\n",
      "  Conditions total: 450\n",
      "Conditions covered: 61\n",
      "     Line coverage: 24.4%\n",
      "Condition coverage: 13.6%\n"
     ]
    },
    {
     "name": "stderr",
     "output_type": "stream",
     "text": [
      "OK\n",
      "Running ant (coverage.instrument).......................................... OK\n",
      "Running ant (run.gen.tests)................................................ OK\n",
      "Running ant (coverage.report).............................................. OK\n",
      "Extract test suite......................................................... OK\n",
      "Running ant (compile.gen.tests)............................................ "
     ]
    },
    {
     "name": "stdout",
     "output_type": "stream",
     "text": [
      "       Lines total: 414\n",
      "     Lines covered: 74\n",
      "  Conditions total: 450\n",
      "Conditions covered: 40\n",
      "     Line coverage: 17.9%\n",
      "Condition coverage: 8.9%\n"
     ]
    },
    {
     "name": "stderr",
     "output_type": "stream",
     "text": [
      "OK\n",
      "Running ant (coverage.instrument).......................................... OK\n",
      "Running ant (run.gen.tests)................................................ OK\n",
      "Running ant (coverage.report).............................................. OK\n",
      "Extract test suite......................................................... OK\n",
      "Running ant (compile.gen.tests)............................................ "
     ]
    },
    {
     "name": "stdout",
     "output_type": "stream",
     "text": [
      "       Lines total: 414\n",
      "     Lines covered: 126\n",
      "  Conditions total: 450\n",
      "Conditions covered: 77\n",
      "     Line coverage: 30.4%\n",
      "Condition coverage: 17.1%\n"
     ]
    },
    {
     "name": "stderr",
     "output_type": "stream",
     "text": [
      "OK\n",
      "Running ant (coverage.instrument).......................................... OK\n",
      "Running ant (run.gen.tests)................................................ OK\n",
      "Running ant (coverage.report).............................................. OK\n",
      "Extract test suite......................................................... OK\n",
      "Running ant (compile.gen.tests)............................................ "
     ]
    },
    {
     "name": "stdout",
     "output_type": "stream",
     "text": [
      "       Lines total: 414\n",
      "     Lines covered: 72\n",
      "  Conditions total: 450\n",
      "Conditions covered: 45\n",
      "     Line coverage: 17.4%\n",
      "Condition coverage: 10.0%\n"
     ]
    },
    {
     "name": "stderr",
     "output_type": "stream",
     "text": [
      "OK\n",
      "Running ant (coverage.instrument).......................................... OK\n",
      "Running ant (run.gen.tests)................................................ OK\n",
      "Running ant (coverage.report).............................................. OK\n",
      "Extract test suite......................................................... OK\n",
      "Running ant (compile.gen.tests)............................................ "
     ]
    },
    {
     "name": "stdout",
     "output_type": "stream",
     "text": [
      "       Lines total: 414\n",
      "     Lines covered: 86\n",
      "  Conditions total: 450\n",
      "Conditions covered: 56\n",
      "     Line coverage: 20.8%\n",
      "Condition coverage: 12.4%\n"
     ]
    },
    {
     "name": "stderr",
     "output_type": "stream",
     "text": [
      "OK\n",
      "Running ant (coverage.instrument).......................................... OK\n",
      "Running ant (run.gen.tests)................................................ OK\n",
      "Running ant (coverage.report).............................................. OK\n",
      "Extract test suite......................................................... OK\n",
      "Running ant (compile.gen.tests)............................................ "
     ]
    },
    {
     "name": "stdout",
     "output_type": "stream",
     "text": [
      "       Lines total: 414\n",
      "     Lines covered: 61\n",
      "  Conditions total: 450\n",
      "Conditions covered: 26\n",
      "     Line coverage: 14.7%\n",
      "Condition coverage: 5.8%\n"
     ]
    },
    {
     "name": "stderr",
     "output_type": "stream",
     "text": [
      "OK\n",
      "Running ant (coverage.instrument).......................................... OK\n",
      "Running ant (run.gen.tests)................................................ OK\n",
      "Running ant (coverage.report).............................................. OK\n",
      "Extract test suite......................................................... OK\n",
      "Running ant (compile.gen.tests)............................................ "
     ]
    },
    {
     "name": "stdout",
     "output_type": "stream",
     "text": [
      "       Lines total: 414\n",
      "     Lines covered: 101\n",
      "  Conditions total: 450\n",
      "Conditions covered: 51\n",
      "     Line coverage: 24.4%\n",
      "Condition coverage: 11.3%\n"
     ]
    },
    {
     "name": "stderr",
     "output_type": "stream",
     "text": [
      "OK\n",
      "Running ant (coverage.instrument).......................................... OK\n",
      "Running ant (run.gen.tests)................................................ OK\n",
      "Running ant (coverage.report).............................................. OK\n",
      "Extract test suite......................................................... OK\n",
      "Running ant (compile.gen.tests)............................................ "
     ]
    },
    {
     "name": "stdout",
     "output_type": "stream",
     "text": [
      "       Lines total: 414\n",
      "     Lines covered: 114\n",
      "  Conditions total: 450\n",
      "Conditions covered: 65\n",
      "     Line coverage: 27.5%\n",
      "Condition coverage: 14.4%\n"
     ]
    },
    {
     "name": "stderr",
     "output_type": "stream",
     "text": [
      "OK\n",
      "Running ant (coverage.instrument).......................................... OK\n",
      "Running ant (run.gen.tests)................................................ OK\n",
      "Running ant (coverage.report).............................................. OK\n",
      "Extract test suite......................................................... OK\n",
      "Running ant (compile.gen.tests)............................................ "
     ]
    },
    {
     "name": "stdout",
     "output_type": "stream",
     "text": [
      "       Lines total: 414\n",
      "     Lines covered: 109\n",
      "  Conditions total: 450\n",
      "Conditions covered: 65\n",
      "     Line coverage: 26.3%\n",
      "Condition coverage: 14.4%\n"
     ]
    },
    {
     "name": "stderr",
     "output_type": "stream",
     "text": [
      "OK\n",
      "Running ant (coverage.instrument).......................................... OK\n",
      "Running ant (run.gen.tests)................................................ OK\n",
      "Running ant (coverage.report).............................................. OK\n",
      "Extract test suite......................................................... OK\n",
      "Running ant (compile.gen.tests)............................................ "
     ]
    },
    {
     "name": "stdout",
     "output_type": "stream",
     "text": [
      "       Lines total: 414\n",
      "     Lines covered: 91\n",
      "  Conditions total: 450\n",
      "Conditions covered: 53\n",
      "     Line coverage: 22.0%\n",
      "Condition coverage: 11.8%\n"
     ]
    },
    {
     "name": "stderr",
     "output_type": "stream",
     "text": [
      "OK\n",
      "Running ant (coverage.instrument).......................................... OK\n",
      "Running ant (run.gen.tests)................................................ OK\n",
      "Running ant (coverage.report).............................................. OK\n",
      "Extract test suite......................................................... OK\n",
      "Running ant (compile.gen.tests)............................................ "
     ]
    },
    {
     "name": "stdout",
     "output_type": "stream",
     "text": [
      "       Lines total: 414\n",
      "     Lines covered: 92\n",
      "  Conditions total: 450\n",
      "Conditions covered: 46\n",
      "     Line coverage: 22.2%\n",
      "Condition coverage: 10.2%\n"
     ]
    },
    {
     "name": "stderr",
     "output_type": "stream",
     "text": [
      "OK\n",
      "Running ant (coverage.instrument).......................................... OK\n",
      "Running ant (run.gen.tests)................................................ OK\n",
      "Running ant (coverage.report).............................................. OK\n",
      "Extract test suite......................................................... OK\n",
      "Running ant (compile.gen.tests)............................................ "
     ]
    },
    {
     "name": "stdout",
     "output_type": "stream",
     "text": [
      "       Lines total: 414\n",
      "     Lines covered: 89\n",
      "  Conditions total: 450\n",
      "Conditions covered: 44\n",
      "     Line coverage: 21.5%\n",
      "Condition coverage: 9.8%\n"
     ]
    },
    {
     "name": "stderr",
     "output_type": "stream",
     "text": [
      "OK\n",
      "Running ant (coverage.instrument).......................................... OK\n",
      "Running ant (run.gen.tests)................................................ OK\n",
      "Running ant (coverage.report).............................................. OK\n",
      "Extract test suite......................................................... OK\n",
      "Running ant (compile.gen.tests)............................................ "
     ]
    },
    {
     "name": "stdout",
     "output_type": "stream",
     "text": [
      "       Lines total: 414\n",
      "     Lines covered: 82\n",
      "  Conditions total: 450\n",
      "Conditions covered: 46\n",
      "     Line coverage: 19.8%\n",
      "Condition coverage: 10.2%\n"
     ]
    },
    {
     "name": "stderr",
     "output_type": "stream",
     "text": [
      "OK\n",
      "Running ant (coverage.instrument).......................................... OK\n",
      "Running ant (run.gen.tests)................................................ OK\n",
      "Running ant (coverage.report).............................................. OK\n",
      "Extract test suite......................................................... OK\n",
      "Running ant (compile.gen.tests)............................................ "
     ]
    },
    {
     "name": "stdout",
     "output_type": "stream",
     "text": [
      "       Lines total: 414\n",
      "     Lines covered: 114\n",
      "  Conditions total: 450\n",
      "Conditions covered: 74\n",
      "     Line coverage: 27.5%\n",
      "Condition coverage: 16.4%\n"
     ]
    },
    {
     "name": "stderr",
     "output_type": "stream",
     "text": [
      "OK\n",
      "Running ant (coverage.instrument).......................................... OK\n",
      "Running ant (run.gen.tests)................................................ OK\n",
      "Running ant (coverage.report).............................................. OK\n",
      "Extract test suite......................................................... OK\n",
      "Running ant (compile.gen.tests)............................................ "
     ]
    },
    {
     "name": "stdout",
     "output_type": "stream",
     "text": [
      "       Lines total: 414\n",
      "     Lines covered: 72\n",
      "  Conditions total: 450\n",
      "Conditions covered: 39\n",
      "     Line coverage: 17.4%\n",
      "Condition coverage: 8.7%\n"
     ]
    },
    {
     "name": "stderr",
     "output_type": "stream",
     "text": [
      "OK\n",
      "Running ant (coverage.instrument).......................................... OK\n",
      "Running ant (run.gen.tests)................................................ OK\n",
      "Running ant (coverage.report).............................................. OK\n",
      "Extract test suite......................................................... OK\n",
      "Running ant (compile.gen.tests)............................................ "
     ]
    },
    {
     "name": "stdout",
     "output_type": "stream",
     "text": [
      "       Lines total: 414\n",
      "     Lines covered: 79\n",
      "  Conditions total: 450\n",
      "Conditions covered: 42\n",
      "     Line coverage: 19.1%\n",
      "Condition coverage: 9.3%\n"
     ]
    },
    {
     "name": "stderr",
     "output_type": "stream",
     "text": [
      "OK\n",
      "Running ant (coverage.instrument).......................................... OK\n",
      "Running ant (run.gen.tests)................................................ OK\n",
      "Running ant (coverage.report).............................................. OK\n",
      "Extract test suite......................................................... OK\n",
      "Running ant (compile.gen.tests)............................................ "
     ]
    },
    {
     "name": "stdout",
     "output_type": "stream",
     "text": [
      "       Lines total: 414\n",
      "     Lines covered: 100\n",
      "  Conditions total: 450\n",
      "Conditions covered: 56\n",
      "     Line coverage: 24.2%\n",
      "Condition coverage: 12.4%\n"
     ]
    },
    {
     "name": "stderr",
     "output_type": "stream",
     "text": [
      "OK\n",
      "Running ant (coverage.instrument).......................................... OK\n",
      "Running ant (run.gen.tests)................................................ OK\n",
      "Running ant (coverage.report).............................................. OK\n",
      "Extract test suite......................................................... OK\n",
      "Running ant (compile.gen.tests)............................................ "
     ]
    },
    {
     "name": "stdout",
     "output_type": "stream",
     "text": [
      "       Lines total: 414\n",
      "     Lines covered: 74\n",
      "  Conditions total: 450\n",
      "Conditions covered: 43\n",
      "     Line coverage: 17.9%\n",
      "Condition coverage: 9.6%\n"
     ]
    },
    {
     "name": "stderr",
     "output_type": "stream",
     "text": [
      "OK\n",
      "Running ant (coverage.instrument).......................................... OK\n",
      "Running ant (run.gen.tests)................................................ OK\n",
      "Running ant (coverage.report).............................................. OK\n",
      "Extract test suite......................................................... OK\n",
      "Running ant (compile.gen.tests)............................................ "
     ]
    },
    {
     "name": "stdout",
     "output_type": "stream",
     "text": [
      "       Lines total: 414\n",
      "     Lines covered: 54\n",
      "  Conditions total: 450\n",
      "Conditions covered: 26\n",
      "     Line coverage: 13.0%\n",
      "Condition coverage: 5.8%\n"
     ]
    },
    {
     "name": "stderr",
     "output_type": "stream",
     "text": [
      "OK\n",
      "Running ant (coverage.instrument).......................................... OK\n",
      "Running ant (run.gen.tests)................................................ OK\n",
      "Running ant (coverage.report).............................................. OK\n",
      "Extract test suite......................................................... OK\n",
      "Running ant (compile.gen.tests)............................................ "
     ]
    },
    {
     "name": "stdout",
     "output_type": "stream",
     "text": [
      "       Lines total: 414\n",
      "     Lines covered: 78\n",
      "  Conditions total: 450\n",
      "Conditions covered: 45\n",
      "     Line coverage: 18.8%\n",
      "Condition coverage: 10.0%\n"
     ]
    },
    {
     "name": "stderr",
     "output_type": "stream",
     "text": [
      "OK\n",
      "Running ant (coverage.instrument).......................................... OK\n",
      "Running ant (run.gen.tests)................................................ OK\n",
      "Running ant (coverage.report).............................................. OK\n",
      "Extract test suite......................................................... OK\n",
      "Running ant (compile.gen.tests)............................................ "
     ]
    },
    {
     "name": "stdout",
     "output_type": "stream",
     "text": [
      "       Lines total: 414\n",
      "     Lines covered: 80\n",
      "  Conditions total: 450\n",
      "Conditions covered: 43\n",
      "     Line coverage: 19.3%\n",
      "Condition coverage: 9.6%\n"
     ]
    },
    {
     "name": "stderr",
     "output_type": "stream",
     "text": [
      "OK\n",
      "Running ant (coverage.instrument).......................................... OK\n",
      "Running ant (run.gen.tests)................................................ OK\n",
      "Running ant (coverage.report).............................................. OK\n",
      "Extract test suite......................................................... OK\n",
      "Running ant (compile.gen.tests)............................................ "
     ]
    },
    {
     "name": "stdout",
     "output_type": "stream",
     "text": [
      "       Lines total: 414\n",
      "     Lines covered: 97\n",
      "  Conditions total: 450\n",
      "Conditions covered: 54\n",
      "     Line coverage: 23.4%\n",
      "Condition coverage: 12.0%\n"
     ]
    },
    {
     "name": "stderr",
     "output_type": "stream",
     "text": [
      "OK\n",
      "Running ant (coverage.instrument).......................................... OK\n",
      "Running ant (run.gen.tests)................................................ OK\n",
      "Running ant (coverage.report).............................................. OK\n",
      "Extract test suite......................................................... OK\n",
      "Running ant (compile.gen.tests)............................................ "
     ]
    },
    {
     "name": "stdout",
     "output_type": "stream",
     "text": [
      "       Lines total: 414\n",
      "     Lines covered: 83\n",
      "  Conditions total: 450\n",
      "Conditions covered: 46\n",
      "     Line coverage: 20.0%\n",
      "Condition coverage: 10.2%\n"
     ]
    },
    {
     "name": "stderr",
     "output_type": "stream",
     "text": [
      "OK\n",
      "Running ant (coverage.instrument).......................................... OK\n",
      "Running ant (run.gen.tests)................................................ OK\n",
      "Running ant (coverage.report).............................................. OK\n",
      "Extract test suite......................................................... OK\n",
      "Running ant (compile.gen.tests)............................................ "
     ]
    },
    {
     "name": "stdout",
     "output_type": "stream",
     "text": [
      "       Lines total: 414\n",
      "     Lines covered: 84\n",
      "  Conditions total: 450\n",
      "Conditions covered: 43\n",
      "     Line coverage: 20.3%\n",
      "Condition coverage: 9.6%\n"
     ]
    },
    {
     "name": "stderr",
     "output_type": "stream",
     "text": [
      "OK\n",
      "Running ant (coverage.instrument).......................................... OK\n",
      "Running ant (run.gen.tests)................................................ OK\n",
      "Running ant (coverage.report).............................................. OK\n",
      "Extract test suite......................................................... OK\n",
      "Running ant (compile.gen.tests)............................................ "
     ]
    },
    {
     "name": "stdout",
     "output_type": "stream",
     "text": [
      "       Lines total: 414\n",
      "     Lines covered: 113\n",
      "  Conditions total: 450\n",
      "Conditions covered: 69\n",
      "     Line coverage: 27.3%\n",
      "Condition coverage: 15.3%\n"
     ]
    },
    {
     "name": "stderr",
     "output_type": "stream",
     "text": [
      "OK\n",
      "Running ant (coverage.instrument).......................................... OK\n",
      "Running ant (run.gen.tests)................................................ OK\n",
      "Running ant (coverage.report).............................................. OK\n",
      "Extract test suite......................................................... OK\n",
      "Running ant (compile.gen.tests)............................................ "
     ]
    },
    {
     "name": "stdout",
     "output_type": "stream",
     "text": [
      "       Lines total: 414\n",
      "     Lines covered: 91\n",
      "  Conditions total: 450\n",
      "Conditions covered: 55\n",
      "     Line coverage: 22.0%\n",
      "Condition coverage: 12.2%\n"
     ]
    },
    {
     "name": "stderr",
     "output_type": "stream",
     "text": [
      "OK\n",
      "Running ant (coverage.instrument).......................................... OK\n",
      "Running ant (run.gen.tests)................................................ OK\n",
      "Running ant (coverage.report).............................................. OK\n",
      "Extract test suite......................................................... OK\n",
      "Running ant (compile.gen.tests)............................................ "
     ]
    },
    {
     "name": "stdout",
     "output_type": "stream",
     "text": [
      "       Lines total: 414\n",
      "     Lines covered: 73\n",
      "  Conditions total: 450\n",
      "Conditions covered: 40\n",
      "     Line coverage: 17.6%\n",
      "Condition coverage: 8.9%\n"
     ]
    },
    {
     "name": "stderr",
     "output_type": "stream",
     "text": [
      "OK\n",
      "Running ant (coverage.instrument).......................................... OK\n",
      "Running ant (run.gen.tests)................................................ OK\n",
      "Running ant (coverage.report).............................................. OK\n",
      "Extract test suite......................................................... OK\n",
      "Running ant (compile.gen.tests)............................................ "
     ]
    },
    {
     "name": "stdout",
     "output_type": "stream",
     "text": [
      "       Lines total: 414\n",
      "     Lines covered: 52\n",
      "  Conditions total: 450\n",
      "Conditions covered: 21\n",
      "     Line coverage: 12.6%\n",
      "Condition coverage: 4.7%\n"
     ]
    },
    {
     "name": "stderr",
     "output_type": "stream",
     "text": [
      "OK\n",
      "Running ant (coverage.instrument).......................................... OK\n",
      "Running ant (run.gen.tests)................................................ OK\n",
      "Running ant (coverage.report).............................................. OK\n",
      "Extract test suite......................................................... OK\n",
      "Running ant (compile.gen.tests)............................................ "
     ]
    },
    {
     "name": "stdout",
     "output_type": "stream",
     "text": [
      "       Lines total: 414\n",
      "     Lines covered: 63\n",
      "  Conditions total: 450\n",
      "Conditions covered: 34\n",
      "     Line coverage: 15.2%\n",
      "Condition coverage: 7.6%\n"
     ]
    },
    {
     "name": "stderr",
     "output_type": "stream",
     "text": [
      "OK\n",
      "Running ant (coverage.instrument).......................................... OK\n",
      "Running ant (run.gen.tests)................................................ OK\n",
      "Running ant (coverage.report).............................................. OK\n",
      "Extract test suite......................................................... OK\n",
      "Running ant (compile.gen.tests)............................................ "
     ]
    },
    {
     "name": "stdout",
     "output_type": "stream",
     "text": [
      "       Lines total: 414\n",
      "     Lines covered: 102\n",
      "  Conditions total: 450\n",
      "Conditions covered: 60\n",
      "     Line coverage: 24.6%\n",
      "Condition coverage: 13.3%\n"
     ]
    },
    {
     "name": "stderr",
     "output_type": "stream",
     "text": [
      "OK\n",
      "Running ant (coverage.instrument).......................................... OK\n",
      "Running ant (run.gen.tests)................................................ OK\n",
      "Running ant (coverage.report).............................................. OK\n",
      "Extract test suite......................................................... OK\n",
      "Running ant (compile.gen.tests)............................................ "
     ]
    },
    {
     "name": "stdout",
     "output_type": "stream",
     "text": [
      "       Lines total: 414\n",
      "     Lines covered: 86\n",
      "  Conditions total: 450\n",
      "Conditions covered: 49\n",
      "     Line coverage: 20.8%\n",
      "Condition coverage: 10.9%\n"
     ]
    },
    {
     "name": "stderr",
     "output_type": "stream",
     "text": [
      "OK\n",
      "Running ant (coverage.instrument).......................................... OK\n",
      "Running ant (run.gen.tests)................................................ OK\n",
      "Running ant (coverage.report).............................................. OK\n",
      "Extract test suite......................................................... OK\n",
      "Running ant (compile.gen.tests)............................................ "
     ]
    },
    {
     "name": "stdout",
     "output_type": "stream",
     "text": [
      "       Lines total: 414\n",
      "     Lines covered: 69\n",
      "  Conditions total: 450\n",
      "Conditions covered: 33\n",
      "     Line coverage: 16.7%\n",
      "Condition coverage: 7.3%\n"
     ]
    },
    {
     "name": "stderr",
     "output_type": "stream",
     "text": [
      "OK\n",
      "Running ant (coverage.instrument).......................................... OK\n",
      "Running ant (run.gen.tests)................................................ OK\n",
      "Running ant (coverage.report).............................................. OK\n",
      "Extract test suite......................................................... OK\n",
      "Running ant (compile.gen.tests)............................................ "
     ]
    },
    {
     "name": "stdout",
     "output_type": "stream",
     "text": [
      "       Lines total: 414\n",
      "     Lines covered: 72\n",
      "  Conditions total: 450\n",
      "Conditions covered: 41\n",
      "     Line coverage: 17.4%\n",
      "Condition coverage: 9.1%\n"
     ]
    },
    {
     "name": "stderr",
     "output_type": "stream",
     "text": [
      "OK\n",
      "Running ant (coverage.instrument).......................................... OK\n",
      "Running ant (run.gen.tests)................................................ OK\n",
      "Running ant (coverage.report).............................................. OK\n",
      "Extract test suite......................................................... OK\n",
      "Running ant (compile.gen.tests)............................................ "
     ]
    },
    {
     "name": "stdout",
     "output_type": "stream",
     "text": [
      "       Lines total: 414\n",
      "     Lines covered: 97\n",
      "  Conditions total: 450\n",
      "Conditions covered: 54\n",
      "     Line coverage: 23.4%\n",
      "Condition coverage: 12.0%\n"
     ]
    },
    {
     "name": "stderr",
     "output_type": "stream",
     "text": [
      "OK\n",
      "Running ant (coverage.instrument).......................................... OK\n",
      "Running ant (run.gen.tests)................................................ OK\n",
      "Running ant (coverage.report).............................................. OK\n",
      "Extract test suite......................................................... OK\n",
      "Running ant (compile.gen.tests)............................................ "
     ]
    },
    {
     "name": "stdout",
     "output_type": "stream",
     "text": [
      "       Lines total: 414\n",
      "     Lines covered: 78\n",
      "  Conditions total: 450\n",
      "Conditions covered: 43\n",
      "     Line coverage: 18.8%\n",
      "Condition coverage: 9.6%\n"
     ]
    },
    {
     "name": "stderr",
     "output_type": "stream",
     "text": [
      "OK\n",
      "Running ant (coverage.instrument).......................................... OK\n",
      "Running ant (run.gen.tests)................................................ OK\n",
      "Running ant (coverage.report).............................................. OK\n",
      "Extract test suite......................................................... OK\n",
      "Running ant (compile.gen.tests)............................................ "
     ]
    },
    {
     "name": "stdout",
     "output_type": "stream",
     "text": [
      "       Lines total: 414\n",
      "     Lines covered: 81\n",
      "  Conditions total: 450\n",
      "Conditions covered: 49\n",
      "     Line coverage: 19.6%\n",
      "Condition coverage: 10.9%\n"
     ]
    },
    {
     "name": "stderr",
     "output_type": "stream",
     "text": [
      "OK\n",
      "Running ant (coverage.instrument).......................................... OK\n",
      "Running ant (run.gen.tests)................................................ OK\n",
      "Running ant (coverage.report).............................................. OK\n",
      "Extract test suite......................................................... OK\n",
      "Running ant (compile.gen.tests)............................................ "
     ]
    },
    {
     "name": "stdout",
     "output_type": "stream",
     "text": [
      "       Lines total: 414\n",
      "     Lines covered: 72\n",
      "  Conditions total: 450\n",
      "Conditions covered: 46\n",
      "     Line coverage: 17.4%\n",
      "Condition coverage: 10.2%\n"
     ]
    },
    {
     "name": "stderr",
     "output_type": "stream",
     "text": [
      "OK\n",
      "Running ant (coverage.instrument).......................................... OK\n",
      "Running ant (run.gen.tests)................................................ OK\n",
      "Running ant (coverage.report).............................................. OK\n",
      "Extract test suite......................................................... OK\n",
      "Running ant (compile.gen.tests)............................................ "
     ]
    },
    {
     "name": "stdout",
     "output_type": "stream",
     "text": [
      "       Lines total: 414\n",
      "     Lines covered: 132\n",
      "  Conditions total: 450\n",
      "Conditions covered: 79\n",
      "     Line coverage: 31.9%\n",
      "Condition coverage: 17.6%\n"
     ]
    },
    {
     "name": "stderr",
     "output_type": "stream",
     "text": [
      "OK\n",
      "Running ant (coverage.instrument).......................................... OK\n",
      "Running ant (run.gen.tests)................................................ OK\n",
      "Running ant (coverage.report).............................................. OK\n",
      "Extract test suite......................................................... OK\n",
      "Running ant (compile.gen.tests)............................................ "
     ]
    },
    {
     "name": "stdout",
     "output_type": "stream",
     "text": [
      "       Lines total: 414\n",
      "     Lines covered: 59\n",
      "  Conditions total: 450\n",
      "Conditions covered: 26\n",
      "     Line coverage: 14.3%\n",
      "Condition coverage: 5.8%\n"
     ]
    },
    {
     "name": "stderr",
     "output_type": "stream",
     "text": [
      "OK\n",
      "Running ant (coverage.instrument).......................................... OK\n",
      "Running ant (run.gen.tests)................................................ OK\n",
      "Running ant (coverage.report).............................................. OK\n",
      "Extract test suite......................................................... OK\n",
      "Running ant (compile.gen.tests)............................................ "
     ]
    },
    {
     "name": "stdout",
     "output_type": "stream",
     "text": [
      "       Lines total: 414\n",
      "     Lines covered: 101\n",
      "  Conditions total: 450\n",
      "Conditions covered: 58\n",
      "     Line coverage: 24.4%\n",
      "Condition coverage: 12.9%\n"
     ]
    },
    {
     "name": "stderr",
     "output_type": "stream",
     "text": [
      "OK\n",
      "Running ant (coverage.instrument).......................................... OK\n",
      "Running ant (run.gen.tests)................................................ OK\n",
      "Running ant (coverage.report).............................................. OK\n",
      "Extract test suite......................................................... OK\n",
      "Running ant (compile.gen.tests)............................................ "
     ]
    },
    {
     "name": "stdout",
     "output_type": "stream",
     "text": [
      "       Lines total: 414\n",
      "     Lines covered: 67\n",
      "  Conditions total: 450\n",
      "Conditions covered: 33\n",
      "     Line coverage: 16.2%\n",
      "Condition coverage: 7.3%\n"
     ]
    },
    {
     "name": "stderr",
     "output_type": "stream",
     "text": [
      "OK\n",
      "Running ant (coverage.instrument).......................................... OK\n",
      "Running ant (run.gen.tests)................................................ OK\n",
      "Running ant (coverage.report).............................................. OK\n",
      "Extract test suite......................................................... OK\n",
      "Running ant (compile.gen.tests)............................................ "
     ]
    },
    {
     "name": "stdout",
     "output_type": "stream",
     "text": [
      "       Lines total: 414\n",
      "     Lines covered: 72\n",
      "  Conditions total: 450\n",
      "Conditions covered: 34\n",
      "     Line coverage: 17.4%\n",
      "Condition coverage: 7.6%\n"
     ]
    },
    {
     "name": "stderr",
     "output_type": "stream",
     "text": [
      "OK\n",
      "Running ant (coverage.instrument).......................................... OK\n",
      "Running ant (run.gen.tests)................................................ OK\n",
      "Running ant (coverage.report).............................................. OK\n",
      "Extract test suite......................................................... OK\n",
      "Running ant (compile.gen.tests)............................................ "
     ]
    },
    {
     "name": "stdout",
     "output_type": "stream",
     "text": [
      "       Lines total: 414\n",
      "     Lines covered: 84\n",
      "  Conditions total: 450\n",
      "Conditions covered: 45\n",
      "     Line coverage: 20.3%\n",
      "Condition coverage: 10.0%\n"
     ]
    },
    {
     "name": "stderr",
     "output_type": "stream",
     "text": [
      "OK\n",
      "Running ant (coverage.instrument).......................................... OK\n",
      "Running ant (run.gen.tests)................................................ OK\n",
      "Running ant (coverage.report).............................................. OK\n",
      "Extract test suite......................................................... OK\n",
      "Running ant (compile.gen.tests)............................................ "
     ]
    },
    {
     "name": "stdout",
     "output_type": "stream",
     "text": [
      "       Lines total: 414\n",
      "     Lines covered: 49\n",
      "  Conditions total: 450\n",
      "Conditions covered: 20\n",
      "     Line coverage: 11.8%\n",
      "Condition coverage: 4.4%\n"
     ]
    },
    {
     "name": "stderr",
     "output_type": "stream",
     "text": [
      "OK\n",
      "Running ant (coverage.instrument).......................................... OK\n",
      "Running ant (run.gen.tests)................................................ OK\n",
      "Running ant (coverage.report).............................................. OK\n",
      "Extract test suite......................................................... OK\n",
      "Running ant (compile.gen.tests)............................................ "
     ]
    },
    {
     "name": "stdout",
     "output_type": "stream",
     "text": [
      "       Lines total: 414\n",
      "     Lines covered: 69\n",
      "  Conditions total: 450\n",
      "Conditions covered: 31\n",
      "     Line coverage: 16.7%\n",
      "Condition coverage: 6.9%\n"
     ]
    },
    {
     "name": "stderr",
     "output_type": "stream",
     "text": [
      "OK\n",
      "Running ant (coverage.instrument).......................................... OK\n",
      "Running ant (run.gen.tests)................................................ OK\n",
      "Running ant (coverage.report).............................................. OK\n",
      "Extract test suite......................................................... OK\n",
      "Running ant (compile.gen.tests)............................................ "
     ]
    },
    {
     "name": "stdout",
     "output_type": "stream",
     "text": [
      "       Lines total: 414\n",
      "     Lines covered: 89\n",
      "  Conditions total: 450\n",
      "Conditions covered: 47\n",
      "     Line coverage: 21.5%\n",
      "Condition coverage: 10.4%\n"
     ]
    },
    {
     "name": "stderr",
     "output_type": "stream",
     "text": [
      "OK\n",
      "Running ant (coverage.instrument).......................................... OK\n",
      "Running ant (run.gen.tests)................................................ OK\n",
      "Running ant (coverage.report).............................................. OK\n",
      "Extract test suite......................................................... OK\n",
      "Running ant (compile.gen.tests)............................................ "
     ]
    },
    {
     "name": "stdout",
     "output_type": "stream",
     "text": [
      "       Lines total: 414\n",
      "     Lines covered: 85\n",
      "  Conditions total: 450\n",
      "Conditions covered: 45\n",
      "     Line coverage: 20.5%\n",
      "Condition coverage: 10.0%\n"
     ]
    },
    {
     "name": "stderr",
     "output_type": "stream",
     "text": [
      "OK\n",
      "Running ant (coverage.instrument).......................................... OK\n",
      "Running ant (run.gen.tests)................................................ OK\n",
      "Running ant (coverage.report).............................................. OK\n",
      "Extract test suite......................................................... OK\n",
      "Running ant (compile.gen.tests)............................................ "
     ]
    },
    {
     "name": "stdout",
     "output_type": "stream",
     "text": [
      "       Lines total: 414\n",
      "     Lines covered: 65\n",
      "  Conditions total: 450\n",
      "Conditions covered: 35\n",
      "     Line coverage: 15.7%\n",
      "Condition coverage: 7.8%\n"
     ]
    },
    {
     "name": "stderr",
     "output_type": "stream",
     "text": [
      "OK\n",
      "Running ant (coverage.instrument).......................................... OK\n",
      "Running ant (run.gen.tests)................................................ OK\n",
      "Running ant (coverage.report).............................................. OK\n",
      "Extract test suite......................................................... OK\n",
      "Running ant (compile.gen.tests)............................................ "
     ]
    },
    {
     "name": "stdout",
     "output_type": "stream",
     "text": [
      "       Lines total: 414\n",
      "     Lines covered: 82\n",
      "  Conditions total: 450\n",
      "Conditions covered: 49\n",
      "     Line coverage: 19.8%\n",
      "Condition coverage: 10.9%\n"
     ]
    },
    {
     "name": "stderr",
     "output_type": "stream",
     "text": [
      "OK\n",
      "Running ant (coverage.instrument).......................................... OK\n",
      "Running ant (run.gen.tests)................................................ OK\n",
      "Running ant (coverage.report).............................................. OK\n",
      "Extract test suite......................................................... OK\n",
      "Running ant (compile.gen.tests)............................................ "
     ]
    },
    {
     "name": "stdout",
     "output_type": "stream",
     "text": [
      "       Lines total: 414\n",
      "     Lines covered: 113\n",
      "  Conditions total: 450\n",
      "Conditions covered: 67\n",
      "     Line coverage: 27.3%\n",
      "Condition coverage: 14.9%\n"
     ]
    },
    {
     "name": "stderr",
     "output_type": "stream",
     "text": [
      "OK\n",
      "Running ant (coverage.instrument).......................................... OK\n",
      "Running ant (run.gen.tests)................................................ OK\n",
      "Running ant (coverage.report).............................................. OK\n",
      "Extract test suite......................................................... OK\n",
      "Running ant (compile.gen.tests)............................................ "
     ]
    },
    {
     "name": "stdout",
     "output_type": "stream",
     "text": [
      "       Lines total: 414\n",
      "     Lines covered: 73\n",
      "  Conditions total: 450\n",
      "Conditions covered: 40\n",
      "     Line coverage: 17.6%\n",
      "Condition coverage: 8.9%\n"
     ]
    },
    {
     "name": "stderr",
     "output_type": "stream",
     "text": [
      "OK\n",
      "Running ant (coverage.instrument).......................................... OK\n",
      "Running ant (run.gen.tests)................................................ OK\n",
      "Running ant (coverage.report).............................................. OK\n",
      "Extract test suite......................................................... OK\n",
      "Running ant (compile.gen.tests)............................................ "
     ]
    },
    {
     "name": "stdout",
     "output_type": "stream",
     "text": [
      "       Lines total: 414\n",
      "     Lines covered: 62\n",
      "  Conditions total: 450\n",
      "Conditions covered: 31\n",
      "     Line coverage: 15.0%\n",
      "Condition coverage: 6.9%\n"
     ]
    },
    {
     "name": "stderr",
     "output_type": "stream",
     "text": [
      "OK\n",
      "Running ant (coverage.instrument).......................................... OK\n",
      "Running ant (run.gen.tests)................................................ OK\n",
      "Running ant (coverage.report).............................................. OK\n",
      "Extract test suite......................................................... OK\n",
      "Running ant (compile.gen.tests)............................................ "
     ]
    },
    {
     "name": "stdout",
     "output_type": "stream",
     "text": [
      "       Lines total: 414\n",
      "     Lines covered: 15\n",
      "  Conditions total: 450\n",
      "Conditions covered: 3\n",
      "     Line coverage: 3.6%\n",
      "Condition coverage: 0.7%\n"
     ]
    },
    {
     "name": "stderr",
     "output_type": "stream",
     "text": [
      "OK\n",
      "Running ant (coverage.instrument).......................................... OK\n",
      "Running ant (run.gen.tests)................................................ OK\n",
      "Running ant (coverage.report).............................................. OK\n",
      "Extract test suite......................................................... OK\n",
      "Running ant (compile.gen.tests)............................................ "
     ]
    },
    {
     "name": "stdout",
     "output_type": "stream",
     "text": [
      "       Lines total: 414\n",
      "     Lines covered: 110\n",
      "  Conditions total: 450\n",
      "Conditions covered: 61\n",
      "     Line coverage: 26.6%\n",
      "Condition coverage: 13.6%\n"
     ]
    },
    {
     "name": "stderr",
     "output_type": "stream",
     "text": [
      "OK\n",
      "Running ant (coverage.instrument).......................................... OK\n",
      "Running ant (run.gen.tests)................................................ OK\n",
      "Running ant (coverage.report).............................................. OK\n",
      "Extract test suite......................................................... OK\n",
      "Running ant (compile.gen.tests)............................................ "
     ]
    },
    {
     "name": "stdout",
     "output_type": "stream",
     "text": [
      "       Lines total: 414\n",
      "     Lines covered: 9\n",
      "  Conditions total: 450\n",
      "Conditions covered: 1\n",
      "     Line coverage: 2.2%\n",
      "Condition coverage: 0.2%\n"
     ]
    },
    {
     "name": "stderr",
     "output_type": "stream",
     "text": [
      "OK\n",
      "Running ant (coverage.instrument).......................................... OK\n",
      "Running ant (run.gen.tests)................................................ OK\n",
      "Running ant (coverage.report).............................................. OK\n",
      "Extract test suite......................................................... OK\n",
      "Running ant (compile.gen.tests)............................................ "
     ]
    },
    {
     "name": "stdout",
     "output_type": "stream",
     "text": [
      "       Lines total: 414\n",
      "     Lines covered: 19\n",
      "  Conditions total: 450\n",
      "Conditions covered: 4\n",
      "     Line coverage: 4.6%\n",
      "Condition coverage: 0.9%\n"
     ]
    },
    {
     "name": "stderr",
     "output_type": "stream",
     "text": [
      "OK\n",
      "Running ant (coverage.instrument).......................................... OK\n",
      "Running ant (run.gen.tests)................................................ OK\n",
      "Running ant (coverage.report).............................................. OK\n",
      "Extract test suite......................................................... OK\n",
      "Running ant (compile.gen.tests)............................................ "
     ]
    },
    {
     "name": "stdout",
     "output_type": "stream",
     "text": [
      "       Lines total: 414\n",
      "     Lines covered: 19\n",
      "  Conditions total: 450\n",
      "Conditions covered: 4\n",
      "     Line coverage: 4.6%\n",
      "Condition coverage: 0.9%\n"
     ]
    },
    {
     "name": "stderr",
     "output_type": "stream",
     "text": [
      "OK\n",
      "Running ant (coverage.instrument).......................................... OK\n",
      "Running ant (run.gen.tests)................................................ OK\n",
      "Running ant (coverage.report).............................................. OK\n",
      "Extract test suite......................................................... OK\n",
      "Running ant (compile.gen.tests)............................................ "
     ]
    },
    {
     "name": "stdout",
     "output_type": "stream",
     "text": [
      "       Lines total: 414\n",
      "     Lines covered: 15\n",
      "  Conditions total: 450\n",
      "Conditions covered: 3\n",
      "     Line coverage: 3.6%\n",
      "Condition coverage: 0.7%\n"
     ]
    },
    {
     "name": "stderr",
     "output_type": "stream",
     "text": [
      "OK\n",
      "Running ant (coverage.instrument).......................................... OK\n",
      "Running ant (run.gen.tests)................................................ OK\n",
      "Running ant (coverage.report).............................................. OK\n",
      "Extract test suite......................................................... OK\n",
      "Running ant (compile.gen.tests)............................................ "
     ]
    },
    {
     "name": "stdout",
     "output_type": "stream",
     "text": [
      "       Lines total: 414\n",
      "     Lines covered: 7\n",
      "  Conditions total: 450\n",
      "Conditions covered: 0\n",
      "     Line coverage: 1.7%\n",
      "Condition coverage: 0.0%\n"
     ]
    },
    {
     "name": "stderr",
     "output_type": "stream",
     "text": [
      "OK\n",
      "Running ant (coverage.instrument).......................................... OK\n",
      "Running ant (run.gen.tests)................................................ OK\n",
      "Running ant (coverage.report).............................................. OK\n",
      "Extract test suite......................................................... OK\n",
      "Running ant (compile.gen.tests)............................................ "
     ]
    },
    {
     "name": "stdout",
     "output_type": "stream",
     "text": [
      "       Lines total: 414\n",
      "     Lines covered: 81\n",
      "  Conditions total: 450\n",
      "Conditions covered: 41\n",
      "     Line coverage: 19.6%\n",
      "Condition coverage: 9.1%\n"
     ]
    },
    {
     "name": "stderr",
     "output_type": "stream",
     "text": [
      "OK\n",
      "Running ant (coverage.instrument).......................................... OK\n",
      "Running ant (run.gen.tests)................................................ OK\n",
      "Running ant (coverage.report).............................................. OK\n",
      "Extract test suite......................................................... OK\n",
      "Running ant (compile.gen.tests)............................................ "
     ]
    },
    {
     "name": "stdout",
     "output_type": "stream",
     "text": [
      "       Lines total: 414\n",
      "     Lines covered: 37\n",
      "  Conditions total: 450\n",
      "Conditions covered: 7\n",
      "     Line coverage: 8.9%\n",
      "Condition coverage: 1.6%\n"
     ]
    },
    {
     "name": "stderr",
     "output_type": "stream",
     "text": [
      "OK\n",
      "Running ant (coverage.instrument).......................................... OK\n",
      "Running ant (run.gen.tests)................................................ OK\n",
      "Running ant (coverage.report).............................................. OK\n",
      "Extract test suite......................................................... OK\n",
      "Running ant (compile.gen.tests)............................................ "
     ]
    },
    {
     "name": "stdout",
     "output_type": "stream",
     "text": [
      "       Lines total: 414\n",
      "     Lines covered: 32\n",
      "  Conditions total: 450\n",
      "Conditions covered: 6\n",
      "     Line coverage: 7.7%\n",
      "Condition coverage: 1.3%\n"
     ]
    },
    {
     "name": "stderr",
     "output_type": "stream",
     "text": [
      "OK\n",
      "Running ant (coverage.instrument).......................................... OK\n",
      "Running ant (run.gen.tests)................................................ OK\n",
      "Running ant (coverage.report).............................................. OK\n",
      "Extract test suite......................................................... OK\n",
      "Running ant (compile.gen.tests)............................................ "
     ]
    },
    {
     "name": "stdout",
     "output_type": "stream",
     "text": [
      "       Lines total: 414\n",
      "     Lines covered: 27\n",
      "  Conditions total: 450\n",
      "Conditions covered: 5\n",
      "     Line coverage: 6.5%\n",
      "Condition coverage: 1.1%\n"
     ]
    },
    {
     "name": "stderr",
     "output_type": "stream",
     "text": [
      "OK\n",
      "Running ant (coverage.instrument).......................................... OK\n",
      "Running ant (run.gen.tests)................................................ OK\n",
      "Running ant (coverage.report).............................................. OK\n",
      "Extract test suite......................................................... OK\n",
      "Running ant (compile.gen.tests)............................................ "
     ]
    },
    {
     "name": "stdout",
     "output_type": "stream",
     "text": [
      "       Lines total: 414\n",
      "     Lines covered: 94\n",
      "  Conditions total: 450\n",
      "Conditions covered: 54\n",
      "     Line coverage: 22.7%\n",
      "Condition coverage: 12.0%\n"
     ]
    },
    {
     "name": "stderr",
     "output_type": "stream",
     "text": [
      "OK\n",
      "Running ant (coverage.instrument).......................................... OK\n",
      "Running ant (run.gen.tests)................................................ OK\n",
      "Running ant (coverage.report).............................................. OK\n",
      "Extract test suite......................................................... OK\n",
      "Running ant (compile.gen.tests)............................................ "
     ]
    },
    {
     "name": "stdout",
     "output_type": "stream",
     "text": [
      "       Lines total: 414\n",
      "     Lines covered: 58\n",
      "  Conditions total: 450\n",
      "Conditions covered: 27\n",
      "     Line coverage: 14.0%\n",
      "Condition coverage: 6.0%\n"
     ]
    },
    {
     "name": "stderr",
     "output_type": "stream",
     "text": [
      "OK\n",
      "Running ant (coverage.instrument).......................................... OK\n",
      "Running ant (run.gen.tests)................................................ OK\n",
      "Running ant (coverage.report).............................................. OK\n",
      "Extract test suite......................................................... OK\n",
      "Running ant (compile.gen.tests)............................................ "
     ]
    },
    {
     "name": "stdout",
     "output_type": "stream",
     "text": [
      "       Lines total: 414\n",
      "     Lines covered: 61\n",
      "  Conditions total: 450\n",
      "Conditions covered: 29\n",
      "     Line coverage: 14.7%\n",
      "Condition coverage: 6.4%\n"
     ]
    },
    {
     "name": "stderr",
     "output_type": "stream",
     "text": [
      "OK\n",
      "Running ant (coverage.instrument).......................................... OK\n",
      "Running ant (run.gen.tests)................................................ OK\n",
      "Running ant (coverage.report).............................................. OK\n",
      "Extract test suite......................................................... OK\n",
      "Running ant (compile.gen.tests)............................................ "
     ]
    },
    {
     "name": "stdout",
     "output_type": "stream",
     "text": [
      "       Lines total: 414\n",
      "     Lines covered: 37\n",
      "  Conditions total: 450\n",
      "Conditions covered: 20\n",
      "     Line coverage: 8.9%\n",
      "Condition coverage: 4.4%\n"
     ]
    },
    {
     "name": "stderr",
     "output_type": "stream",
     "text": [
      "OK\n",
      "Running ant (coverage.instrument).......................................... OK\n",
      "Running ant (run.gen.tests)................................................ OK\n",
      "Running ant (coverage.report).............................................. OK\n",
      "Extract test suite......................................................... OK\n",
      "Running ant (compile.gen.tests)............................................ "
     ]
    },
    {
     "name": "stdout",
     "output_type": "stream",
     "text": [
      "       Lines total: 414\n",
      "     Lines covered: 110\n",
      "  Conditions total: 450\n",
      "Conditions covered: 62\n",
      "     Line coverage: 26.6%\n",
      "Condition coverage: 13.8%\n"
     ]
    },
    {
     "name": "stderr",
     "output_type": "stream",
     "text": [
      "OK\n",
      "Running ant (coverage.instrument).......................................... OK\n",
      "Running ant (run.gen.tests)................................................ OK\n",
      "Running ant (coverage.report).............................................. OK\n",
      "Extract test suite......................................................... OK\n",
      "Running ant (compile.gen.tests)............................................ "
     ]
    },
    {
     "name": "stdout",
     "output_type": "stream",
     "text": [
      "       Lines total: 414\n",
      "     Lines covered: 35\n",
      "  Conditions total: 450\n",
      "Conditions covered: 17\n",
      "     Line coverage: 8.5%\n",
      "Condition coverage: 3.8%\n"
     ]
    },
    {
     "name": "stderr",
     "output_type": "stream",
     "text": [
      "OK\n",
      "Running ant (coverage.instrument).......................................... OK\n",
      "Running ant (run.gen.tests)................................................ OK\n",
      "Running ant (coverage.report).............................................. OK\n",
      "Extract test suite......................................................... OK\n",
      "Running ant (compile.gen.tests)............................................ "
     ]
    },
    {
     "name": "stdout",
     "output_type": "stream",
     "text": [
      "       Lines total: 414\n",
      "     Lines covered: 8\n",
      "  Conditions total: 450\n",
      "Conditions covered: 2\n",
      "     Line coverage: 1.9%\n",
      "Condition coverage: 0.4%\n"
     ]
    },
    {
     "name": "stderr",
     "output_type": "stream",
     "text": [
      "OK\n",
      "Running ant (coverage.instrument).......................................... OK\n",
      "Running ant (run.gen.tests)................................................ OK\n",
      "Running ant (coverage.report).............................................. OK\n",
      "Extract test suite......................................................... OK\n",
      "Running ant (compile.gen.tests)............................................ "
     ]
    },
    {
     "name": "stdout",
     "output_type": "stream",
     "text": [
      "       Lines total: 414\n",
      "     Lines covered: 16\n",
      "  Conditions total: 450\n",
      "Conditions covered: 3\n",
      "     Line coverage: 3.9%\n",
      "Condition coverage: 0.7%\n"
     ]
    },
    {
     "name": "stderr",
     "output_type": "stream",
     "text": [
      "OK\n",
      "Running ant (coverage.instrument).......................................... OK\n",
      "Running ant (run.gen.tests)................................................ OK\n",
      "Running ant (coverage.report).............................................. OK\n",
      "Extract test suite......................................................... OK\n",
      "Running ant (compile.gen.tests)............................................ "
     ]
    },
    {
     "name": "stdout",
     "output_type": "stream",
     "text": [
      "       Lines total: 414\n",
      "     Lines covered: 36\n",
      "  Conditions total: 450\n",
      "Conditions covered: 7\n",
      "     Line coverage: 8.7%\n",
      "Condition coverage: 1.6%\n"
     ]
    },
    {
     "name": "stderr",
     "output_type": "stream",
     "text": [
      "OK\n",
      "Running ant (coverage.instrument).......................................... OK\n",
      "Running ant (run.gen.tests)................................................ OK\n",
      "Running ant (coverage.report).............................................. OK\n",
      "Extract test suite......................................................... OK\n",
      "Running ant (compile.gen.tests)............................................ "
     ]
    },
    {
     "name": "stdout",
     "output_type": "stream",
     "text": [
      "       Lines total: 414\n",
      "     Lines covered: 43\n",
      "  Conditions total: 450\n",
      "Conditions covered: 11\n",
      "     Line coverage: 10.4%\n",
      "Condition coverage: 2.4%\n"
     ]
    },
    {
     "name": "stderr",
     "output_type": "stream",
     "text": [
      "OK\n",
      "Running ant (coverage.instrument).......................................... OK\n",
      "Running ant (run.gen.tests)................................................ OK\n",
      "Running ant (coverage.report).............................................. OK\n",
      "Extract test suite......................................................... OK\n",
      "Running ant (compile.gen.tests)............................................ "
     ]
    },
    {
     "name": "stdout",
     "output_type": "stream",
     "text": [
      "       Lines total: 414\n",
      "     Lines covered: 57\n",
      "  Conditions total: 450\n",
      "Conditions covered: 27\n",
      "     Line coverage: 13.8%\n",
      "Condition coverage: 6.0%\n"
     ]
    },
    {
     "name": "stderr",
     "output_type": "stream",
     "text": [
      "OK\n",
      "Running ant (coverage.instrument).......................................... OK\n",
      "Running ant (run.gen.tests)................................................ OK\n",
      "Running ant (coverage.report).............................................. OK\n",
      "Extract test suite......................................................... OK\n",
      "Running ant (compile.gen.tests)............................................ "
     ]
    },
    {
     "name": "stdout",
     "output_type": "stream",
     "text": [
      "       Lines total: 414\n",
      "     Lines covered: 25\n",
      "  Conditions total: 450\n",
      "Conditions covered: 4\n",
      "     Line coverage: 6.0%\n",
      "Condition coverage: 0.9%\n"
     ]
    },
    {
     "name": "stderr",
     "output_type": "stream",
     "text": [
      "OK\n",
      "Running ant (coverage.instrument).......................................... OK\n",
      "Running ant (run.gen.tests)................................................ OK\n",
      "Running ant (coverage.report).............................................. OK\n",
      "Extract test suite......................................................... OK\n",
      "Running ant (compile.gen.tests)............................................ "
     ]
    },
    {
     "name": "stdout",
     "output_type": "stream",
     "text": [
      "       Lines total: 414\n",
      "     Lines covered: 99\n",
      "  Conditions total: 450\n",
      "Conditions covered: 59\n",
      "     Line coverage: 23.9%\n",
      "Condition coverage: 13.1%\n"
     ]
    },
    {
     "name": "stderr",
     "output_type": "stream",
     "text": [
      "OK\n",
      "Running ant (coverage.instrument).......................................... OK\n",
      "Running ant (run.gen.tests)................................................ OK\n",
      "Running ant (coverage.report).............................................. OK\n",
      "Extract test suite......................................................... OK\n",
      "Running ant (compile.gen.tests)............................................ "
     ]
    },
    {
     "name": "stdout",
     "output_type": "stream",
     "text": [
      "       Lines total: 414\n",
      "     Lines covered: 92\n",
      "  Conditions total: 450\n",
      "Conditions covered: 54\n",
      "     Line coverage: 22.2%\n",
      "Condition coverage: 12.0%\n"
     ]
    },
    {
     "name": "stderr",
     "output_type": "stream",
     "text": [
      "OK\n",
      "Running ant (coverage.instrument).......................................... OK\n",
      "Running ant (run.gen.tests)................................................ OK\n",
      "Running ant (coverage.report).............................................. OK\n",
      "Extract test suite......................................................... OK\n",
      "Running ant (compile.gen.tests)............................................ "
     ]
    },
    {
     "name": "stdout",
     "output_type": "stream",
     "text": [
      "       Lines total: 414\n",
      "     Lines covered: 20\n",
      "  Conditions total: 450\n",
      "Conditions covered: 4\n",
      "     Line coverage: 4.8%\n",
      "Condition coverage: 0.9%\n"
     ]
    },
    {
     "name": "stderr",
     "output_type": "stream",
     "text": [
      "OK\n",
      "Running ant (coverage.instrument).......................................... OK\n",
      "Running ant (run.gen.tests)................................................ OK\n",
      "Running ant (coverage.report).............................................. OK\n",
      "Extract test suite......................................................... OK\n",
      "Running ant (compile.gen.tests)............................................ "
     ]
    },
    {
     "name": "stdout",
     "output_type": "stream",
     "text": [
      "       Lines total: 414\n",
      "     Lines covered: 38\n",
      "  Conditions total: 450\n",
      "Conditions covered: 7\n",
      "     Line coverage: 9.2%\n",
      "Condition coverage: 1.6%\n"
     ]
    },
    {
     "name": "stderr",
     "output_type": "stream",
     "text": [
      "OK\n",
      "Running ant (coverage.instrument).......................................... OK\n",
      "Running ant (run.gen.tests)................................................ OK\n",
      "Running ant (coverage.report).............................................. OK\n",
      "Extract test suite......................................................... OK\n",
      "Running ant (compile.gen.tests)............................................ "
     ]
    },
    {
     "name": "stdout",
     "output_type": "stream",
     "text": [
      "       Lines total: 414\n",
      "     Lines covered: 46\n",
      "  Conditions total: 450\n",
      "Conditions covered: 10\n",
      "     Line coverage: 11.1%\n",
      "Condition coverage: 2.2%\n"
     ]
    },
    {
     "name": "stderr",
     "output_type": "stream",
     "text": [
      "OK\n",
      "Running ant (coverage.instrument).......................................... OK\n",
      "Running ant (run.gen.tests)................................................ OK\n",
      "Running ant (coverage.report).............................................. OK\n",
      "Extract test suite......................................................... OK\n",
      "Running ant (compile.gen.tests)............................................ "
     ]
    },
    {
     "name": "stdout",
     "output_type": "stream",
     "text": [
      "       Lines total: 414\n",
      "     Lines covered: 20\n",
      "  Conditions total: 450\n",
      "Conditions covered: 5\n",
      "     Line coverage: 4.8%\n",
      "Condition coverage: 1.1%\n"
     ]
    },
    {
     "name": "stderr",
     "output_type": "stream",
     "text": [
      "OK\n",
      "Running ant (coverage.instrument).......................................... OK\n",
      "Running ant (run.gen.tests)................................................ OK\n",
      "Running ant (coverage.report).............................................. OK\n",
      "Extract test suite......................................................... OK\n",
      "Running ant (compile.gen.tests)............................................ "
     ]
    },
    {
     "name": "stdout",
     "output_type": "stream",
     "text": [
      "       Lines total: 414\n",
      "     Lines covered: 44\n",
      "  Conditions total: 450\n",
      "Conditions covered: 8\n",
      "     Line coverage: 10.6%\n",
      "Condition coverage: 1.8%\n"
     ]
    },
    {
     "name": "stderr",
     "output_type": "stream",
     "text": [
      "OK\n",
      "Running ant (coverage.instrument).......................................... OK\n",
      "Running ant (run.gen.tests)................................................ OK\n",
      "Running ant (coverage.report).............................................. OK\n",
      "Extract test suite......................................................... OK\n",
      "Running ant (compile.gen.tests)............................................ "
     ]
    },
    {
     "name": "stdout",
     "output_type": "stream",
     "text": [
      "       Lines total: 414\n",
      "     Lines covered: 92\n",
      "  Conditions total: 450\n",
      "Conditions covered: 54\n",
      "     Line coverage: 22.2%\n",
      "Condition coverage: 12.0%\n"
     ]
    },
    {
     "name": "stderr",
     "output_type": "stream",
     "text": [
      "OK\n",
      "Running ant (coverage.instrument).......................................... OK\n",
      "Running ant (run.gen.tests)................................................ OK\n",
      "Running ant (coverage.report).............................................. OK\n",
      "Extract test suite......................................................... OK\n",
      "Running ant (compile.gen.tests)............................................ "
     ]
    },
    {
     "name": "stdout",
     "output_type": "stream",
     "text": [
      "       Lines total: 414\n",
      "     Lines covered: 78\n",
      "  Conditions total: 450\n",
      "Conditions covered: 45\n",
      "     Line coverage: 18.8%\n",
      "Condition coverage: 10.0%\n"
     ]
    },
    {
     "name": "stderr",
     "output_type": "stream",
     "text": [
      "OK\n",
      "Running ant (coverage.instrument).......................................... OK\n",
      "Running ant (run.gen.tests)................................................ OK\n",
      "Running ant (coverage.report).............................................. OK\n",
      "Extract test suite......................................................... OK\n",
      "Running ant (compile.gen.tests)............................................ "
     ]
    },
    {
     "name": "stdout",
     "output_type": "stream",
     "text": [
      "       Lines total: 414\n",
      "     Lines covered: 27\n",
      "  Conditions total: 450\n",
      "Conditions covered: 6\n",
      "     Line coverage: 6.5%\n",
      "Condition coverage: 1.3%\n"
     ]
    },
    {
     "name": "stderr",
     "output_type": "stream",
     "text": [
      "OK\n",
      "Running ant (coverage.instrument).......................................... OK\n",
      "Running ant (run.gen.tests)................................................ OK\n",
      "Running ant (coverage.report).............................................. OK\n",
      "Extract test suite......................................................... OK\n",
      "Running ant (compile.gen.tests)............................................ "
     ]
    },
    {
     "name": "stdout",
     "output_type": "stream",
     "text": [
      "       Lines total: 414\n",
      "     Lines covered: 115\n",
      "  Conditions total: 450\n",
      "Conditions covered: 66\n",
      "     Line coverage: 27.8%\n",
      "Condition coverage: 14.7%\n"
     ]
    },
    {
     "name": "stderr",
     "output_type": "stream",
     "text": [
      "OK\n",
      "Running ant (coverage.instrument).......................................... OK\n",
      "Running ant (run.gen.tests)................................................ OK\n",
      "Running ant (coverage.report).............................................. OK\n",
      "Extract test suite......................................................... OK\n",
      "Running ant (compile.gen.tests)............................................ "
     ]
    },
    {
     "name": "stdout",
     "output_type": "stream",
     "text": [
      "       Lines total: 414\n",
      "     Lines covered: 122\n",
      "  Conditions total: 450\n",
      "Conditions covered: 71\n",
      "     Line coverage: 29.5%\n",
      "Condition coverage: 15.8%\n"
     ]
    },
    {
     "name": "stderr",
     "output_type": "stream",
     "text": [
      "OK\n",
      "Running ant (coverage.instrument).......................................... OK\n",
      "Running ant (run.gen.tests)................................................ OK\n",
      "Running ant (coverage.report).............................................. OK\n",
      "Extract test suite......................................................... OK\n",
      "Running ant (compile.gen.tests)............................................ "
     ]
    },
    {
     "name": "stdout",
     "output_type": "stream",
     "text": [
      "       Lines total: 414\n",
      "     Lines covered: 38\n",
      "  Conditions total: 450\n",
      "Conditions covered: 7\n",
      "     Line coverage: 9.2%\n",
      "Condition coverage: 1.6%\n"
     ]
    },
    {
     "name": "stderr",
     "output_type": "stream",
     "text": [
      "OK\n",
      "Running ant (coverage.instrument).......................................... OK\n",
      "Running ant (run.gen.tests)................................................ OK\n",
      "Running ant (coverage.report).............................................. OK\n",
      "Extract test suite......................................................... OK\n",
      "Running ant (compile.gen.tests)............................................ "
     ]
    },
    {
     "name": "stdout",
     "output_type": "stream",
     "text": [
      "       Lines total: 414\n",
      "     Lines covered: 41\n",
      "  Conditions total: 450\n",
      "Conditions covered: 8\n",
      "     Line coverage: 9.9%\n",
      "Condition coverage: 1.8%\n"
     ]
    },
    {
     "name": "stderr",
     "output_type": "stream",
     "text": [
      "OK\n",
      "Running ant (coverage.instrument).......................................... OK\n",
      "Running ant (run.gen.tests)................................................ OK\n",
      "Running ant (coverage.report).............................................. OK\n",
      "Extract test suite......................................................... OK\n",
      "Running ant (compile.gen.tests)............................................ "
     ]
    },
    {
     "name": "stdout",
     "output_type": "stream",
     "text": [
      "       Lines total: 414\n",
      "     Lines covered: 90\n",
      "  Conditions total: 450\n",
      "Conditions covered: 55\n",
      "     Line coverage: 21.7%\n",
      "Condition coverage: 12.2%\n"
     ]
    },
    {
     "name": "stderr",
     "output_type": "stream",
     "text": [
      "OK\n",
      "Running ant (coverage.instrument).......................................... OK\n",
      "Running ant (run.gen.tests)................................................ OK\n",
      "Running ant (coverage.report).............................................. OK\n",
      "Extract test suite......................................................... OK\n",
      "Running ant (compile.gen.tests)............................................ "
     ]
    },
    {
     "name": "stdout",
     "output_type": "stream",
     "text": [
      "       Lines total: 414\n",
      "     Lines covered: 49\n",
      "  Conditions total: 450\n",
      "Conditions covered: 11\n",
      "     Line coverage: 11.8%\n",
      "Condition coverage: 2.4%\n"
     ]
    },
    {
     "name": "stderr",
     "output_type": "stream",
     "text": [
      "OK\n",
      "Running ant (coverage.instrument).......................................... OK\n",
      "Running ant (run.gen.tests)................................................ OK\n",
      "Running ant (coverage.report).............................................. OK\n",
      "Extract test suite......................................................... OK\n",
      "Running ant (compile.gen.tests)............................................ "
     ]
    },
    {
     "name": "stdout",
     "output_type": "stream",
     "text": [
      "       Lines total: 414\n",
      "     Lines covered: 41\n",
      "  Conditions total: 450\n",
      "Conditions covered: 8\n",
      "     Line coverage: 9.9%\n",
      "Condition coverage: 1.8%\n"
     ]
    },
    {
     "name": "stderr",
     "output_type": "stream",
     "text": [
      "OK\n",
      "Running ant (coverage.instrument).......................................... OK\n",
      "Running ant (run.gen.tests)................................................ OK\n",
      "Running ant (coverage.report).............................................. OK\n",
      "Extract test suite......................................................... OK\n",
      "Running ant (compile.gen.tests)............................................ "
     ]
    },
    {
     "name": "stdout",
     "output_type": "stream",
     "text": [
      "       Lines total: 414\n",
      "     Lines covered: 38\n",
      "  Conditions total: 450\n",
      "Conditions covered: 7\n",
      "     Line coverage: 9.2%\n",
      "Condition coverage: 1.6%\n"
     ]
    },
    {
     "name": "stderr",
     "output_type": "stream",
     "text": [
      "OK\n",
      "Running ant (coverage.instrument).......................................... OK\n",
      "Running ant (run.gen.tests)................................................ OK\n",
      "Running ant (coverage.report).............................................. OK\n",
      "Extract test suite......................................................... OK\n",
      "Running ant (compile.gen.tests)............................................ "
     ]
    },
    {
     "name": "stdout",
     "output_type": "stream",
     "text": [
      "       Lines total: 414\n",
      "     Lines covered: 92\n",
      "  Conditions total: 450\n",
      "Conditions covered: 53\n",
      "     Line coverage: 22.2%\n",
      "Condition coverage: 11.8%\n"
     ]
    },
    {
     "name": "stderr",
     "output_type": "stream",
     "text": [
      "OK\n",
      "Running ant (coverage.instrument).......................................... OK\n",
      "Running ant (run.gen.tests)................................................ OK\n",
      "Running ant (coverage.report).............................................. OK\n",
      "Extract test suite......................................................... OK\n",
      "Running ant (compile.gen.tests)............................................ "
     ]
    },
    {
     "name": "stdout",
     "output_type": "stream",
     "text": [
      "       Lines total: 414\n",
      "     Lines covered: 20\n",
      "  Conditions total: 450\n",
      "Conditions covered: 4\n",
      "     Line coverage: 4.8%\n",
      "Condition coverage: 0.9%\n"
     ]
    },
    {
     "name": "stderr",
     "output_type": "stream",
     "text": [
      "OK\n",
      "Running ant (coverage.instrument).......................................... OK\n",
      "Running ant (run.gen.tests)................................................ OK\n",
      "Running ant (coverage.report).............................................. OK\n",
      "Extract test suite......................................................... OK\n",
      "Running ant (compile.gen.tests)............................................ "
     ]
    },
    {
     "name": "stdout",
     "output_type": "stream",
     "text": [
      "       Lines total: 414\n",
      "     Lines covered: 94\n",
      "  Conditions total: 450\n",
      "Conditions covered: 53\n",
      "     Line coverage: 22.7%\n",
      "Condition coverage: 11.8%\n"
     ]
    },
    {
     "name": "stderr",
     "output_type": "stream",
     "text": [
      "OK\n",
      "Running ant (coverage.instrument).......................................... OK\n",
      "Running ant (run.gen.tests)................................................ OK\n",
      "Running ant (coverage.report).............................................. OK\n",
      "Extract test suite......................................................... OK\n",
      "Running ant (compile.gen.tests)............................................ "
     ]
    },
    {
     "name": "stdout",
     "output_type": "stream",
     "text": [
      "       Lines total: 414\n",
      "     Lines covered: 35\n",
      "  Conditions total: 450\n",
      "Conditions covered: 6\n",
      "     Line coverage: 8.5%\n",
      "Condition coverage: 1.3%\n"
     ]
    },
    {
     "name": "stderr",
     "output_type": "stream",
     "text": [
      "OK\n",
      "Running ant (coverage.instrument).......................................... OK\n",
      "Running ant (run.gen.tests)................................................ OK\n",
      "Running ant (coverage.report).............................................. OK\n",
      "Extract test suite......................................................... OK\n",
      "Running ant (compile.gen.tests)............................................ "
     ]
    },
    {
     "name": "stdout",
     "output_type": "stream",
     "text": [
      "       Lines total: 414\n",
      "     Lines covered: 44\n",
      "  Conditions total: 450\n",
      "Conditions covered: 8\n",
      "     Line coverage: 10.6%\n",
      "Condition coverage: 1.8%\n"
     ]
    },
    {
     "name": "stderr",
     "output_type": "stream",
     "text": [
      "OK\n",
      "Running ant (coverage.instrument).......................................... OK\n",
      "Running ant (run.gen.tests)................................................ OK\n",
      "Running ant (coverage.report).............................................. OK\n",
      "Extract test suite......................................................... OK\n",
      "Running ant (compile.gen.tests)............................................ "
     ]
    },
    {
     "name": "stdout",
     "output_type": "stream",
     "text": [
      "       Lines total: 414\n",
      "     Lines covered: 36\n",
      "  Conditions total: 450\n",
      "Conditions covered: 5\n",
      "     Line coverage: 8.7%\n",
      "Condition coverage: 1.1%\n"
     ]
    },
    {
     "name": "stderr",
     "output_type": "stream",
     "text": [
      "OK\n",
      "Running ant (coverage.instrument).......................................... OK\n",
      "Running ant (run.gen.tests)................................................ OK\n",
      "Running ant (coverage.report).............................................. OK\n",
      "Extract test suite......................................................... OK\n",
      "Running ant (compile.gen.tests)............................................ "
     ]
    },
    {
     "name": "stdout",
     "output_type": "stream",
     "text": [
      "       Lines total: 414\n",
      "     Lines covered: 59\n",
      "  Conditions total: 450\n",
      "Conditions covered: 28\n",
      "     Line coverage: 14.3%\n",
      "Condition coverage: 6.2%\n"
     ]
    },
    {
     "name": "stderr",
     "output_type": "stream",
     "text": [
      "OK\n",
      "Running ant (coverage.instrument).......................................... OK\n",
      "Running ant (run.gen.tests)................................................ OK\n",
      "Running ant (coverage.report).............................................. OK\n",
      "Extract test suite......................................................... OK\n",
      "Running ant (compile.gen.tests)............................................ "
     ]
    },
    {
     "name": "stdout",
     "output_type": "stream",
     "text": [
      "       Lines total: 414\n",
      "     Lines covered: 85\n",
      "  Conditions total: 450\n",
      "Conditions covered: 49\n",
      "     Line coverage: 20.5%\n",
      "Condition coverage: 10.9%\n"
     ]
    },
    {
     "name": "stderr",
     "output_type": "stream",
     "text": [
      "OK\n",
      "Running ant (coverage.instrument).......................................... OK\n",
      "Running ant (run.gen.tests)................................................ OK\n",
      "Running ant (coverage.report).............................................. OK\n",
      "Extract test suite......................................................... OK\n",
      "Running ant (compile.gen.tests)............................................ "
     ]
    },
    {
     "name": "stdout",
     "output_type": "stream",
     "text": [
      "       Lines total: 414\n",
      "     Lines covered: 84\n",
      "  Conditions total: 450\n",
      "Conditions covered: 47\n",
      "     Line coverage: 20.3%\n",
      "Condition coverage: 10.4%\n"
     ]
    },
    {
     "name": "stderr",
     "output_type": "stream",
     "text": [
      "OK\n",
      "Running ant (coverage.instrument).......................................... OK\n",
      "Running ant (run.gen.tests)................................................ OK\n",
      "Running ant (coverage.report).............................................. OK\n",
      "Extract test suite......................................................... OK\n",
      "Running ant (compile.gen.tests)............................................ "
     ]
    },
    {
     "name": "stdout",
     "output_type": "stream",
     "text": [
      "       Lines total: 414\n",
      "     Lines covered: 94\n",
      "  Conditions total: 450\n",
      "Conditions covered: 53\n",
      "     Line coverage: 22.7%\n",
      "Condition coverage: 11.8%\n"
     ]
    },
    {
     "name": "stderr",
     "output_type": "stream",
     "text": [
      "OK\n",
      "Running ant (coverage.instrument).......................................... OK\n",
      "Running ant (run.gen.tests)................................................ OK\n",
      "Running ant (coverage.report).............................................. OK\n",
      "Extract test suite......................................................... OK\n",
      "Running ant (compile.gen.tests)............................................ "
     ]
    },
    {
     "name": "stdout",
     "output_type": "stream",
     "text": [
      "       Lines total: 414\n",
      "     Lines covered: 44\n",
      "  Conditions total: 450\n",
      "Conditions covered: 10\n",
      "     Line coverage: 10.6%\n",
      "Condition coverage: 2.2%\n"
     ]
    },
    {
     "name": "stderr",
     "output_type": "stream",
     "text": [
      "OK\n",
      "Running ant (coverage.instrument).......................................... OK\n",
      "Running ant (run.gen.tests)................................................ OK\n",
      "Running ant (coverage.report).............................................. OK\n",
      "Extract test suite......................................................... OK\n",
      "Running ant (compile.gen.tests)............................................ "
     ]
    },
    {
     "name": "stdout",
     "output_type": "stream",
     "text": [
      "       Lines total: 414\n",
      "     Lines covered: 44\n",
      "  Conditions total: 450\n",
      "Conditions covered: 8\n",
      "     Line coverage: 10.6%\n",
      "Condition coverage: 1.8%\n"
     ]
    },
    {
     "name": "stderr",
     "output_type": "stream",
     "text": [
      "OK\n",
      "Running ant (coverage.instrument).......................................... OK\n",
      "Running ant (run.gen.tests)................................................ OK\n",
      "Running ant (coverage.report).............................................. OK\n",
      "Extract test suite......................................................... OK\n",
      "Running ant (compile.gen.tests)............................................ "
     ]
    },
    {
     "name": "stdout",
     "output_type": "stream",
     "text": [
      "       Lines total: 414\n",
      "     Lines covered: 99\n",
      "  Conditions total: 450\n",
      "Conditions covered: 52\n",
      "     Line coverage: 23.9%\n",
      "Condition coverage: 11.6%\n"
     ]
    },
    {
     "name": "stderr",
     "output_type": "stream",
     "text": [
      "OK\n",
      "Running ant (coverage.instrument).......................................... OK\n",
      "Running ant (run.gen.tests)................................................ OK\n",
      "Running ant (coverage.report).............................................. OK\n",
      "Extract test suite......................................................... OK\n",
      "Running ant (compile.gen.tests)............................................ "
     ]
    },
    {
     "name": "stdout",
     "output_type": "stream",
     "text": [
      "       Lines total: 414\n",
      "     Lines covered: 89\n",
      "  Conditions total: 450\n",
      "Conditions covered: 50\n",
      "     Line coverage: 21.5%\n",
      "Condition coverage: 11.1%\n"
     ]
    },
    {
     "name": "stderr",
     "output_type": "stream",
     "text": [
      "OK\n",
      "Running ant (coverage.instrument).......................................... OK\n",
      "Running ant (run.gen.tests)................................................ OK\n",
      "Running ant (coverage.report).............................................. OK\n",
      "Extract test suite......................................................... OK\n",
      "Running ant (compile.gen.tests)............................................ "
     ]
    },
    {
     "name": "stdout",
     "output_type": "stream",
     "text": [
      "       Lines total: 414\n",
      "     Lines covered: 57\n",
      "  Conditions total: 450\n",
      "Conditions covered: 28\n",
      "     Line coverage: 13.8%\n",
      "Condition coverage: 6.2%\n"
     ]
    },
    {
     "name": "stderr",
     "output_type": "stream",
     "text": [
      "OK\n",
      "Running ant (coverage.instrument).......................................... OK\n",
      "Running ant (run.gen.tests)................................................ OK\n",
      "Running ant (coverage.report).............................................. OK\n",
      "Extract test suite......................................................... OK\n",
      "Running ant (compile.gen.tests)............................................ "
     ]
    },
    {
     "name": "stdout",
     "output_type": "stream",
     "text": [
      "       Lines total: 414\n",
      "     Lines covered: 31\n",
      "  Conditions total: 450\n",
      "Conditions covered: 6\n",
      "     Line coverage: 7.5%\n",
      "Condition coverage: 1.3%\n"
     ]
    },
    {
     "name": "stderr",
     "output_type": "stream",
     "text": [
      "OK\n",
      "Running ant (coverage.instrument).......................................... OK\n",
      "Running ant (run.gen.tests)................................................ OK\n",
      "Running ant (coverage.report).............................................. OK\n",
      "Extract test suite......................................................... OK\n",
      "Running ant (compile.gen.tests)............................................ "
     ]
    },
    {
     "name": "stdout",
     "output_type": "stream",
     "text": [
      "       Lines total: 414\n",
      "     Lines covered: 171\n",
      "  Conditions total: 450\n",
      "Conditions covered: 116\n",
      "     Line coverage: 41.3%\n",
      "Condition coverage: 25.8%\n"
     ]
    },
    {
     "name": "stderr",
     "output_type": "stream",
     "text": [
      "OK\n",
      "Running ant (coverage.instrument).......................................... OK\n",
      "Running ant (run.gen.tests)................................................ OK\n",
      "Running ant (coverage.report).............................................. OK\n",
      "Extract test suite......................................................... OK\n",
      "Running ant (compile.gen.tests)............................................ "
     ]
    },
    {
     "name": "stdout",
     "output_type": "stream",
     "text": [
      "       Lines total: 414\n",
      "     Lines covered: 81\n",
      "  Conditions total: 450\n",
      "Conditions covered: 45\n",
      "     Line coverage: 19.6%\n",
      "Condition coverage: 10.0%\n"
     ]
    },
    {
     "name": "stderr",
     "output_type": "stream",
     "text": [
      "OK\n",
      "Running ant (coverage.instrument).......................................... OK\n",
      "Running ant (run.gen.tests)................................................ OK\n",
      "Running ant (coverage.report).............................................. OK\n",
      "Extract test suite......................................................... OK\n",
      "Running ant (compile.gen.tests)............................................ "
     ]
    },
    {
     "name": "stdout",
     "output_type": "stream",
     "text": [
      "       Lines total: 414\n",
      "     Lines covered: 94\n",
      "  Conditions total: 450\n",
      "Conditions covered: 54\n",
      "     Line coverage: 22.7%\n",
      "Condition coverage: 12.0%\n"
     ]
    },
    {
     "name": "stderr",
     "output_type": "stream",
     "text": [
      "OK\n",
      "Running ant (coverage.instrument).......................................... OK\n",
      "Running ant (run.gen.tests)................................................ OK\n",
      "Running ant (coverage.report).............................................. OK\n",
      "Extract test suite......................................................... OK\n",
      "Running ant (compile.gen.tests)............................................ "
     ]
    },
    {
     "name": "stdout",
     "output_type": "stream",
     "text": [
      "       Lines total: 414\n",
      "     Lines covered: 42\n",
      "  Conditions total: 450\n",
      "Conditions covered: 8\n",
      "     Line coverage: 10.1%\n",
      "Condition coverage: 1.8%\n"
     ]
    },
    {
     "name": "stderr",
     "output_type": "stream",
     "text": [
      "OK\n",
      "Running ant (coverage.instrument).......................................... OK\n",
      "Running ant (run.gen.tests)................................................ OK\n",
      "Running ant (coverage.report).............................................. OK\n",
      "Extract test suite......................................................... OK\n",
      "Running ant (compile.gen.tests)............................................ "
     ]
    },
    {
     "name": "stdout",
     "output_type": "stream",
     "text": [
      "       Lines total: 414\n",
      "     Lines covered: 10\n",
      "  Conditions total: 450\n",
      "Conditions covered: 5\n",
      "     Line coverage: 2.4%\n",
      "Condition coverage: 1.1%\n"
     ]
    },
    {
     "name": "stderr",
     "output_type": "stream",
     "text": [
      "OK\n",
      "Running ant (coverage.instrument).......................................... OK\n",
      "Running ant (run.gen.tests)................................................ OK\n",
      "Running ant (coverage.report).............................................. OK\n",
      "Extract test suite......................................................... OK\n",
      "Running ant (compile.gen.tests)............................................ "
     ]
    },
    {
     "name": "stdout",
     "output_type": "stream",
     "text": [
      "       Lines total: 414\n",
      "     Lines covered: 41\n",
      "  Conditions total: 450\n",
      "Conditions covered: 8\n",
      "     Line coverage: 9.9%\n",
      "Condition coverage: 1.8%\n"
     ]
    },
    {
     "name": "stderr",
     "output_type": "stream",
     "text": [
      "OK\n",
      "Running ant (coverage.instrument).......................................... OK\n",
      "Running ant (run.gen.tests)................................................ OK\n",
      "Running ant (coverage.report).............................................. OK\n",
      "Extract test suite......................................................... OK\n",
      "Running ant (compile.gen.tests)............................................ "
     ]
    },
    {
     "name": "stdout",
     "output_type": "stream",
     "text": [
      "       Lines total: 414\n",
      "     Lines covered: 18\n",
      "  Conditions total: 450\n",
      "Conditions covered: 1\n",
      "     Line coverage: 4.3%\n",
      "Condition coverage: 0.2%\n"
     ]
    },
    {
     "name": "stderr",
     "output_type": "stream",
     "text": [
      "OK\n",
      "Running ant (coverage.instrument).......................................... OK\n",
      "Running ant (run.gen.tests)................................................ OK\n",
      "Running ant (coverage.report).............................................. OK\n",
      "Extract test suite......................................................... OK\n",
      "Running ant (compile.gen.tests)............................................ "
     ]
    },
    {
     "name": "stdout",
     "output_type": "stream",
     "text": [
      "       Lines total: 414\n",
      "     Lines covered: 46\n",
      "  Conditions total: 450\n",
      "Conditions covered: 11\n",
      "     Line coverage: 11.1%\n",
      "Condition coverage: 2.4%\n"
     ]
    },
    {
     "name": "stderr",
     "output_type": "stream",
     "text": [
      "OK\n",
      "Running ant (coverage.instrument).......................................... OK\n",
      "Running ant (run.gen.tests)................................................ OK\n",
      "Running ant (coverage.report).............................................. OK\n",
      "Extract test suite......................................................... OK\n",
      "Running ant (compile.gen.tests)............................................ "
     ]
    },
    {
     "name": "stdout",
     "output_type": "stream",
     "text": [
      "       Lines total: 414\n",
      "     Lines covered: 59\n",
      "  Conditions total: 450\n",
      "Conditions covered: 27\n",
      "     Line coverage: 14.3%\n",
      "Condition coverage: 6.0%\n"
     ]
    },
    {
     "name": "stderr",
     "output_type": "stream",
     "text": [
      "OK\n",
      "Running ant (coverage.instrument).......................................... OK\n",
      "Running ant (run.gen.tests)................................................ OK\n",
      "Running ant (coverage.report).............................................. OK\n",
      "Extract test suite......................................................... OK\n",
      "Running ant (compile.gen.tests)............................................ "
     ]
    },
    {
     "name": "stdout",
     "output_type": "stream",
     "text": [
      "       Lines total: 414\n",
      "     Lines covered: 94\n",
      "  Conditions total: 450\n",
      "Conditions covered: 53\n",
      "     Line coverage: 22.7%\n",
      "Condition coverage: 11.8%\n"
     ]
    },
    {
     "name": "stderr",
     "output_type": "stream",
     "text": [
      "OK\n",
      "Running ant (coverage.instrument).......................................... OK\n",
      "Running ant (run.gen.tests)................................................ OK\n",
      "Running ant (coverage.report).............................................. OK\n",
      "Extract test suite......................................................... OK\n",
      "Running ant (compile.gen.tests)............................................ "
     ]
    },
    {
     "name": "stdout",
     "output_type": "stream",
     "text": [
      "       Lines total: 414\n",
      "     Lines covered: 44\n",
      "  Conditions total: 450\n",
      "Conditions covered: 9\n",
      "     Line coverage: 10.6%\n",
      "Condition coverage: 2.0%\n"
     ]
    },
    {
     "name": "stderr",
     "output_type": "stream",
     "text": [
      "OK\n",
      "Running ant (coverage.instrument).......................................... OK\n",
      "Running ant (run.gen.tests)................................................ OK\n",
      "Running ant (coverage.report).............................................. OK\n",
      "Extract test suite......................................................... OK\n",
      "Running ant (compile.gen.tests)............................................ "
     ]
    },
    {
     "name": "stdout",
     "output_type": "stream",
     "text": [
      "       Lines total: 414\n",
      "     Lines covered: 45\n",
      "  Conditions total: 450\n",
      "Conditions covered: 9\n",
      "     Line coverage: 10.9%\n",
      "Condition coverage: 2.0%\n"
     ]
    },
    {
     "name": "stderr",
     "output_type": "stream",
     "text": [
      "OK\n",
      "Running ant (coverage.instrument).......................................... OK\n",
      "Running ant (run.gen.tests)................................................ OK\n",
      "Running ant (coverage.report).............................................. OK\n",
      "Extract test suite......................................................... OK\n",
      "Running ant (compile.gen.tests)............................................ "
     ]
    },
    {
     "name": "stdout",
     "output_type": "stream",
     "text": [
      "       Lines total: 414\n",
      "     Lines covered: 7\n",
      "  Conditions total: 450\n",
      "Conditions covered: 2\n",
      "     Line coverage: 1.7%\n",
      "Condition coverage: 0.4%\n"
     ]
    },
    {
     "name": "stderr",
     "output_type": "stream",
     "text": [
      "OK\n",
      "Running ant (coverage.instrument).......................................... OK\n",
      "Running ant (run.gen.tests)................................................ OK\n",
      "Running ant (coverage.report).............................................. OK\n",
      "Extract test suite......................................................... OK\n",
      "Running ant (compile.gen.tests)............................................ "
     ]
    },
    {
     "name": "stdout",
     "output_type": "stream",
     "text": [
      "       Lines total: 414\n",
      "     Lines covered: 47\n",
      "  Conditions total: 450\n",
      "Conditions covered: 8\n",
      "     Line coverage: 11.4%\n",
      "Condition coverage: 1.8%\n"
     ]
    },
    {
     "name": "stderr",
     "output_type": "stream",
     "text": [
      "OK\n",
      "Running ant (coverage.instrument).......................................... OK\n",
      "Running ant (run.gen.tests)................................................ OK\n",
      "Running ant (coverage.report).............................................. OK\n",
      "Extract test suite......................................................... OK\n",
      "Running ant (compile.gen.tests)............................................ "
     ]
    },
    {
     "name": "stdout",
     "output_type": "stream",
     "text": [
      "       Lines total: 414\n",
      "     Lines covered: 106\n",
      "  Conditions total: 450\n",
      "Conditions covered: 57\n",
      "     Line coverage: 25.6%\n",
      "Condition coverage: 12.7%\n"
     ]
    },
    {
     "name": "stderr",
     "output_type": "stream",
     "text": [
      "OK\n",
      "Running ant (coverage.instrument).......................................... OK\n",
      "Running ant (run.gen.tests)................................................ OK\n",
      "Running ant (coverage.report).............................................. OK\n",
      "Extract test suite......................................................... OK\n",
      "Running ant (compile.gen.tests)............................................ "
     ]
    },
    {
     "name": "stdout",
     "output_type": "stream",
     "text": [
      "       Lines total: 414\n",
      "     Lines covered: 71\n",
      "  Conditions total: 450\n",
      "Conditions covered: 35\n",
      "     Line coverage: 17.1%\n",
      "Condition coverage: 7.8%\n"
     ]
    },
    {
     "name": "stderr",
     "output_type": "stream",
     "text": [
      "OK\n",
      "Running ant (coverage.instrument).......................................... OK\n",
      "Running ant (run.gen.tests)................................................ OK\n",
      "Running ant (coverage.report).............................................. OK\n",
      "Extract test suite......................................................... OK\n",
      "Running ant (compile.gen.tests)............................................ "
     ]
    },
    {
     "name": "stdout",
     "output_type": "stream",
     "text": [
      "       Lines total: 414\n",
      "     Lines covered: 64\n",
      "  Conditions total: 450\n",
      "Conditions covered: 30\n",
      "     Line coverage: 15.5%\n",
      "Condition coverage: 6.7%\n"
     ]
    },
    {
     "name": "stderr",
     "output_type": "stream",
     "text": [
      "OK\n",
      "Running ant (coverage.instrument).......................................... OK\n",
      "Running ant (run.gen.tests)................................................ OK\n",
      "Running ant (coverage.report).............................................. OK\n",
      "Extract test suite......................................................... OK\n",
      "Running ant (compile.gen.tests)............................................ "
     ]
    },
    {
     "name": "stdout",
     "output_type": "stream",
     "text": [
      "       Lines total: 414\n",
      "     Lines covered: 39\n",
      "  Conditions total: 450\n",
      "Conditions covered: 8\n",
      "     Line coverage: 9.4%\n",
      "Condition coverage: 1.8%\n"
     ]
    },
    {
     "name": "stderr",
     "output_type": "stream",
     "text": [
      "OK\n",
      "Running ant (coverage.instrument).......................................... OK\n",
      "Running ant (run.gen.tests)................................................ OK\n",
      "Running ant (coverage.report).............................................. OK\n",
      "Extract test suite......................................................... OK\n",
      "Running ant (compile.gen.tests)............................................ "
     ]
    },
    {
     "name": "stdout",
     "output_type": "stream",
     "text": [
      "       Lines total: 414\n",
      "     Lines covered: 41\n",
      "  Conditions total: 450\n",
      "Conditions covered: 7\n",
      "     Line coverage: 9.9%\n",
      "Condition coverage: 1.6%\n"
     ]
    },
    {
     "name": "stderr",
     "output_type": "stream",
     "text": [
      "OK\n",
      "Running ant (coverage.instrument).......................................... OK\n",
      "Running ant (run.gen.tests)................................................ OK\n",
      "Running ant (coverage.report).............................................. OK\n",
      "Extract test suite......................................................... OK\n",
      "Running ant (compile.gen.tests)............................................ "
     ]
    },
    {
     "name": "stdout",
     "output_type": "stream",
     "text": [
      "       Lines total: 414\n",
      "     Lines covered: 77\n",
      "  Conditions total: 450\n",
      "Conditions covered: 44\n",
      "     Line coverage: 18.6%\n",
      "Condition coverage: 9.8%\n"
     ]
    },
    {
     "name": "stderr",
     "output_type": "stream",
     "text": [
      "OK\n",
      "Running ant (coverage.instrument).......................................... OK\n",
      "Running ant (run.gen.tests)................................................ OK\n",
      "Running ant (coverage.report).............................................. OK\n",
      "Extract test suite......................................................... OK\n",
      "Running ant (compile.gen.tests)............................................ "
     ]
    },
    {
     "name": "stdout",
     "output_type": "stream",
     "text": [
      "       Lines total: 414\n",
      "     Lines covered: 40\n",
      "  Conditions total: 450\n",
      "Conditions covered: 6\n",
      "     Line coverage: 9.7%\n",
      "Condition coverage: 1.3%\n"
     ]
    },
    {
     "name": "stderr",
     "output_type": "stream",
     "text": [
      "OK\n",
      "Running ant (coverage.instrument).......................................... OK\n",
      "Running ant (run.gen.tests)................................................ OK\n",
      "Running ant (coverage.report).............................................. OK\n",
      "Extract test suite......................................................... OK\n",
      "Running ant (compile.gen.tests)............................................ "
     ]
    },
    {
     "name": "stdout",
     "output_type": "stream",
     "text": [
      "       Lines total: 414\n",
      "     Lines covered: 113\n",
      "  Conditions total: 450\n",
      "Conditions covered: 61\n",
      "     Line coverage: 27.3%\n",
      "Condition coverage: 13.6%\n"
     ]
    },
    {
     "name": "stderr",
     "output_type": "stream",
     "text": [
      "OK\n",
      "Running ant (coverage.instrument).......................................... OK\n",
      "Running ant (run.gen.tests)................................................ OK\n",
      "Running ant (coverage.report).............................................. OK\n",
      "Extract test suite......................................................... OK\n",
      "Running ant (compile.gen.tests)............................................ "
     ]
    },
    {
     "name": "stdout",
     "output_type": "stream",
     "text": [
      "       Lines total: 414\n",
      "     Lines covered: 99\n",
      "  Conditions total: 450\n",
      "Conditions covered: 56\n",
      "     Line coverage: 23.9%\n",
      "Condition coverage: 12.4%\n"
     ]
    },
    {
     "name": "stderr",
     "output_type": "stream",
     "text": [
      "OK\n",
      "Running ant (coverage.instrument).......................................... OK\n",
      "Running ant (run.gen.tests)................................................ OK\n",
      "Running ant (coverage.report).............................................. OK\n",
      "Extract test suite......................................................... OK\n",
      "Running ant (compile.gen.tests)............................................ "
     ]
    },
    {
     "name": "stdout",
     "output_type": "stream",
     "text": [
      "       Lines total: 414\n",
      "     Lines covered: 57\n",
      "  Conditions total: 450\n",
      "Conditions covered: 26\n",
      "     Line coverage: 13.8%\n",
      "Condition coverage: 5.8%\n"
     ]
    },
    {
     "name": "stderr",
     "output_type": "stream",
     "text": [
      "OK\n",
      "Running ant (coverage.instrument).......................................... OK\n",
      "Running ant (run.gen.tests)................................................ OK\n",
      "Running ant (coverage.report).............................................. OK\n",
      "Extract test suite......................................................... OK\n",
      "Running ant (compile.gen.tests)............................................ "
     ]
    },
    {
     "name": "stdout",
     "output_type": "stream",
     "text": [
      "       Lines total: 414\n",
      "     Lines covered: 26\n",
      "  Conditions total: 450\n",
      "Conditions covered: 4\n",
      "     Line coverage: 6.3%\n",
      "Condition coverage: 0.9%\n"
     ]
    },
    {
     "name": "stderr",
     "output_type": "stream",
     "text": [
      "OK\n",
      "Running ant (coverage.instrument).......................................... OK\n",
      "Running ant (run.gen.tests)................................................ OK\n",
      "Running ant (coverage.report).............................................. OK\n",
      "Extract test suite......................................................... OK\n",
      "Running ant (compile.gen.tests)............................................ "
     ]
    },
    {
     "name": "stdout",
     "output_type": "stream",
     "text": [
      "       Lines total: 414\n",
      "     Lines covered: 92\n",
      "  Conditions total: 450\n",
      "Conditions covered: 54\n",
      "     Line coverage: 22.2%\n",
      "Condition coverage: 12.0%\n"
     ]
    },
    {
     "name": "stderr",
     "output_type": "stream",
     "text": [
      "OK\n",
      "Running ant (coverage.instrument).......................................... OK\n",
      "Running ant (run.gen.tests)................................................ OK\n",
      "Running ant (coverage.report).............................................. OK\n",
      "Extract test suite......................................................... OK\n",
      "Running ant (compile.gen.tests)............................................ "
     ]
    },
    {
     "name": "stdout",
     "output_type": "stream",
     "text": [
      "       Lines total: 414\n",
      "     Lines covered: 37\n",
      "  Conditions total: 450\n",
      "Conditions covered: 19\n",
      "     Line coverage: 8.9%\n",
      "Condition coverage: 4.2%\n"
     ]
    },
    {
     "name": "stderr",
     "output_type": "stream",
     "text": [
      "OK\n",
      "Running ant (coverage.instrument).......................................... OK\n",
      "Running ant (run.gen.tests)................................................ OK\n",
      "Running ant (coverage.report).............................................. OK\n",
      "Extract test suite......................................................... OK\n",
      "Running ant (compile.gen.tests)............................................ "
     ]
    },
    {
     "name": "stdout",
     "output_type": "stream",
     "text": [
      "       Lines total: 414\n",
      "     Lines covered: 50\n",
      "  Conditions total: 450\n",
      "Conditions covered: 10\n",
      "     Line coverage: 12.1%\n",
      "Condition coverage: 2.2%\n"
     ]
    },
    {
     "name": "stderr",
     "output_type": "stream",
     "text": [
      "OK\n",
      "Running ant (coverage.instrument).......................................... OK\n",
      "Running ant (run.gen.tests)................................................ OK\n",
      "Running ant (coverage.report).............................................. OK\n",
      "Extract test suite......................................................... OK\n",
      "Running ant (compile.gen.tests)............................................ "
     ]
    },
    {
     "name": "stdout",
     "output_type": "stream",
     "text": [
      "       Lines total: 414\n",
      "     Lines covered: 8\n",
      "  Conditions total: 450\n",
      "Conditions covered: 2\n",
      "     Line coverage: 1.9%\n",
      "Condition coverage: 0.4%\n"
     ]
    },
    {
     "name": "stderr",
     "output_type": "stream",
     "text": [
      "OK\n",
      "Running ant (coverage.instrument).......................................... OK\n",
      "Running ant (run.gen.tests)................................................ OK\n",
      "Running ant (coverage.report).............................................. OK\n",
      "Extract test suite......................................................... OK\n",
      "Running ant (compile.gen.tests)............................................ "
     ]
    },
    {
     "name": "stdout",
     "output_type": "stream",
     "text": [
      "       Lines total: 414\n",
      "     Lines covered: 86\n",
      "  Conditions total: 450\n",
      "Conditions covered: 50\n",
      "     Line coverage: 20.8%\n",
      "Condition coverage: 11.1%\n"
     ]
    },
    {
     "name": "stderr",
     "output_type": "stream",
     "text": [
      "OK\n",
      "Running ant (coverage.instrument).......................................... OK\n",
      "Running ant (run.gen.tests)................................................ OK\n",
      "Running ant (coverage.report).............................................. OK\n",
      "Extract test suite......................................................... OK\n",
      "Running ant (compile.gen.tests)............................................ "
     ]
    },
    {
     "name": "stdout",
     "output_type": "stream",
     "text": [
      "       Lines total: 414\n",
      "     Lines covered: 37\n",
      "  Conditions total: 450\n",
      "Conditions covered: 7\n",
      "     Line coverage: 8.9%\n",
      "Condition coverage: 1.6%\n"
     ]
    },
    {
     "name": "stderr",
     "output_type": "stream",
     "text": [
      "OK\n",
      "Running ant (coverage.instrument).......................................... OK\n",
      "Running ant (run.gen.tests)................................................ OK\n",
      "Running ant (coverage.report).............................................. OK\n",
      "Extract test suite......................................................... OK\n",
      "Running ant (compile.gen.tests)............................................ "
     ]
    },
    {
     "name": "stdout",
     "output_type": "stream",
     "text": [
      "       Lines total: 414\n",
      "     Lines covered: 104\n",
      "  Conditions total: 450\n",
      "Conditions covered: 59\n",
      "     Line coverage: 25.1%\n",
      "Condition coverage: 13.1%\n"
     ]
    },
    {
     "name": "stderr",
     "output_type": "stream",
     "text": [
      "OK\n",
      "Running ant (coverage.instrument).......................................... OK\n",
      "Running ant (run.gen.tests)................................................ OK\n",
      "Running ant (coverage.report).............................................. OK\n",
      "Extract test suite......................................................... OK\n",
      "Running ant (compile.gen.tests)............................................ "
     ]
    },
    {
     "name": "stdout",
     "output_type": "stream",
     "text": [
      "       Lines total: 414\n",
      "     Lines covered: 31\n",
      "  Conditions total: 450\n",
      "Conditions covered: 6\n",
      "     Line coverage: 7.5%\n",
      "Condition coverage: 1.3%\n"
     ]
    },
    {
     "name": "stderr",
     "output_type": "stream",
     "text": [
      "OK\n",
      "Running ant (coverage.instrument).......................................... OK\n",
      "Running ant (run.gen.tests)................................................ OK\n",
      "Running ant (coverage.report).............................................. OK\n",
      "Extract test suite......................................................... OK\n",
      "Running ant (compile.gen.tests)............................................ "
     ]
    },
    {
     "name": "stdout",
     "output_type": "stream",
     "text": [
      "       Lines total: 414\n",
      "     Lines covered: 126\n",
      "  Conditions total: 450\n",
      "Conditions covered: 82\n",
      "     Line coverage: 30.4%\n",
      "Condition coverage: 18.2%\n"
     ]
    },
    {
     "name": "stderr",
     "output_type": "stream",
     "text": [
      "OK\n",
      "Running ant (coverage.instrument).......................................... OK\n",
      "Running ant (run.gen.tests)................................................ OK\n",
      "Running ant (coverage.report).............................................. OK\n",
      "Extract test suite......................................................... OK\n",
      "Running ant (compile.gen.tests)............................................ "
     ]
    },
    {
     "name": "stdout",
     "output_type": "stream",
     "text": [
      "       Lines total: 414\n",
      "     Lines covered: 44\n",
      "  Conditions total: 450\n",
      "Conditions covered: 8\n",
      "     Line coverage: 10.6%\n",
      "Condition coverage: 1.8%\n"
     ]
    },
    {
     "name": "stderr",
     "output_type": "stream",
     "text": [
      "OK\n",
      "Running ant (coverage.instrument).......................................... OK\n",
      "Running ant (run.gen.tests)................................................ OK\n",
      "Running ant (coverage.report).............................................. OK\n",
      "Extract test suite......................................................... OK\n",
      "Running ant (compile.gen.tests)............................................ "
     ]
    },
    {
     "name": "stdout",
     "output_type": "stream",
     "text": [
      "       Lines total: 414\n",
      "     Lines covered: 45\n",
      "  Conditions total: 450\n",
      "Conditions covered: 11\n",
      "     Line coverage: 10.9%\n",
      "Condition coverage: 2.4%\n"
     ]
    },
    {
     "name": "stderr",
     "output_type": "stream",
     "text": [
      "OK\n",
      "Running ant (coverage.instrument).......................................... OK\n",
      "Running ant (run.gen.tests)................................................ OK\n",
      "Running ant (coverage.report).............................................. OK\n",
      "Extract test suite......................................................... OK\n",
      "Running ant (compile.gen.tests)............................................ "
     ]
    },
    {
     "name": "stdout",
     "output_type": "stream",
     "text": [
      "       Lines total: 414\n",
      "     Lines covered: 38\n",
      "  Conditions total: 450\n",
      "Conditions covered: 7\n",
      "     Line coverage: 9.2%\n",
      "Condition coverage: 1.6%\n"
     ]
    },
    {
     "name": "stderr",
     "output_type": "stream",
     "text": [
      "OK\n",
      "Running ant (coverage.instrument).......................................... OK\n",
      "Running ant (run.gen.tests)................................................ OK\n",
      "Running ant (coverage.report).............................................. OK\n",
      "Extract test suite......................................................... OK\n",
      "Running ant (compile.gen.tests)............................................ "
     ]
    },
    {
     "name": "stdout",
     "output_type": "stream",
     "text": [
      "       Lines total: 414\n",
      "     Lines covered: 91\n",
      "  Conditions total: 450\n",
      "Conditions covered: 52\n",
      "     Line coverage: 22.0%\n",
      "Condition coverage: 11.6%\n"
     ]
    },
    {
     "name": "stderr",
     "output_type": "stream",
     "text": [
      "OK\n",
      "Running ant (coverage.instrument).......................................... OK\n",
      "Running ant (run.gen.tests)................................................ OK\n",
      "Running ant (coverage.report).............................................. OK\n",
      "Extract test suite......................................................... OK\n",
      "Running ant (compile.gen.tests)............................................ "
     ]
    },
    {
     "name": "stdout",
     "output_type": "stream",
     "text": [
      "       Lines total: 414\n",
      "     Lines covered: 85\n",
      "  Conditions total: 450\n",
      "Conditions covered: 49\n",
      "     Line coverage: 20.5%\n",
      "Condition coverage: 10.9%\n"
     ]
    },
    {
     "name": "stderr",
     "output_type": "stream",
     "text": [
      "OK\n",
      "Running ant (coverage.instrument).......................................... OK\n",
      "Running ant (run.gen.tests)................................................ OK\n",
      "Running ant (coverage.report).............................................. OK\n",
      "Extract test suite......................................................... OK\n",
      "Running ant (compile.gen.tests)............................................ "
     ]
    },
    {
     "name": "stdout",
     "output_type": "stream",
     "text": [
      "       Lines total: 414\n",
      "     Lines covered: 178\n",
      "  Conditions total: 450\n",
      "Conditions covered: 120\n",
      "     Line coverage: 43.0%\n",
      "Condition coverage: 26.7%\n"
     ]
    },
    {
     "name": "stderr",
     "output_type": "stream",
     "text": [
      "OK\n",
      "Running ant (coverage.instrument).......................................... OK\n",
      "Running ant (run.gen.tests)................................................ OK\n",
      "Running ant (coverage.report).............................................. OK\n",
      "Extract test suite......................................................... OK\n",
      "Running ant (compile.gen.tests)............................................ "
     ]
    },
    {
     "name": "stdout",
     "output_type": "stream",
     "text": [
      "       Lines total: 414\n",
      "     Lines covered: 89\n",
      "  Conditions total: 450\n",
      "Conditions covered: 50\n",
      "     Line coverage: 21.5%\n",
      "Condition coverage: 11.1%\n"
     ]
    },
    {
     "name": "stderr",
     "output_type": "stream",
     "text": [
      "OK\n",
      "Running ant (coverage.instrument).......................................... OK\n",
      "Running ant (run.gen.tests)................................................ OK\n",
      "Running ant (coverage.report).............................................. OK\n",
      "Extract test suite......................................................... "
     ]
    },
    {
     "name": "stdout",
     "output_type": "stream",
     "text": [
      "       Lines total: 414\n",
      "     Lines covered: 36\n",
      "  Conditions total: 450\n",
      "Conditions covered: 6\n",
      "     Line coverage: 8.7%\n",
      "Condition coverage: 1.3%\n"
     ]
    },
    {
     "name": "stderr",
     "output_type": "stream",
     "text": [
      "OK\n",
      "Running ant (compile.gen.tests)............................................ OK\n",
      "Running ant (coverage.instrument).......................................... OK\n",
      "Running ant (run.gen.tests)................................................ OK\n",
      "Running ant (coverage.report).............................................. OK\n",
      "Extract test suite......................................................... OK\n",
      "Running ant (compile.gen.tests)............................................ "
     ]
    },
    {
     "name": "stdout",
     "output_type": "stream",
     "text": [
      "       Lines total: 414\n",
      "     Lines covered: 45\n",
      "  Conditions total: 450\n",
      "Conditions covered: 25\n",
      "     Line coverage: 10.9%\n",
      "Condition coverage: 5.6%\n"
     ]
    },
    {
     "name": "stderr",
     "output_type": "stream",
     "text": [
      "OK\n",
      "Running ant (coverage.instrument).......................................... OK\n",
      "Running ant (run.gen.tests)................................................ OK\n",
      "Running ant (coverage.report).............................................. OK\n",
      "Extract test suite......................................................... OK\n",
      "Running ant (compile.gen.tests)............................................ "
     ]
    },
    {
     "name": "stdout",
     "output_type": "stream",
     "text": [
      "       Lines total: 414\n",
      "     Lines covered: 22\n",
      "  Conditions total: 450\n",
      "Conditions covered: 2\n",
      "     Line coverage: 5.3%\n",
      "Condition coverage: 0.4%\n"
     ]
    },
    {
     "name": "stderr",
     "output_type": "stream",
     "text": [
      "OK\n",
      "Running ant (coverage.instrument).......................................... OK\n",
      "Running ant (run.gen.tests)................................................ OK\n",
      "Running ant (coverage.report).............................................. OK\n",
      "Extract test suite......................................................... OK\n",
      "Running ant (compile.gen.tests)............................................ "
     ]
    },
    {
     "name": "stdout",
     "output_type": "stream",
     "text": [
      "       Lines total: 414\n",
      "     Lines covered: 43\n",
      "  Conditions total: 450\n",
      "Conditions covered: 7\n",
      "     Line coverage: 10.4%\n",
      "Condition coverage: 1.6%\n"
     ]
    },
    {
     "name": "stderr",
     "output_type": "stream",
     "text": [
      "OK\n",
      "Running ant (coverage.instrument).......................................... OK\n",
      "Running ant (run.gen.tests)................................................ OK\n",
      "Running ant (coverage.report).............................................. OK\n",
      "Extract test suite......................................................... OK\n",
      "Running ant (compile.gen.tests)............................................ "
     ]
    },
    {
     "name": "stdout",
     "output_type": "stream",
     "text": [
      "       Lines total: 414\n",
      "     Lines covered: 38\n",
      "  Conditions total: 450\n",
      "Conditions covered: 7\n",
      "     Line coverage: 9.2%\n",
      "Condition coverage: 1.6%\n"
     ]
    },
    {
     "name": "stderr",
     "output_type": "stream",
     "text": [
      "OK\n",
      "Running ant (coverage.instrument).......................................... OK\n",
      "Running ant (run.gen.tests)................................................ OK\n",
      "Running ant (coverage.report).............................................. OK\n",
      "Extract test suite......................................................... OK\n",
      "Running ant (compile.gen.tests)............................................ "
     ]
    },
    {
     "name": "stdout",
     "output_type": "stream",
     "text": [
      "       Lines total: 414\n",
      "     Lines covered: 95\n",
      "  Conditions total: 450\n",
      "Conditions covered: 57\n",
      "     Line coverage: 22.9%\n",
      "Condition coverage: 12.7%\n"
     ]
    },
    {
     "name": "stderr",
     "output_type": "stream",
     "text": [
      "OK\n",
      "Running ant (coverage.instrument).......................................... OK\n",
      "Running ant (run.gen.tests)................................................ OK\n",
      "Running ant (coverage.report).............................................. OK\n",
      "Extract test suite......................................................... OK\n",
      "Running ant (compile.gen.tests)............................................ "
     ]
    },
    {
     "name": "stdout",
     "output_type": "stream",
     "text": [
      "       Lines total: 414\n",
      "     Lines covered: 44\n",
      "  Conditions total: 450\n",
      "Conditions covered: 9\n",
      "     Line coverage: 10.6%\n",
      "Condition coverage: 2.0%\n"
     ]
    },
    {
     "name": "stderr",
     "output_type": "stream",
     "text": [
      "OK\n",
      "Running ant (coverage.instrument).......................................... OK\n",
      "Running ant (run.gen.tests)................................................ OK\n",
      "Running ant (coverage.report).............................................. OK\n",
      "Extract test suite......................................................... OK\n",
      "Running ant (compile.gen.tests)............................................ "
     ]
    },
    {
     "name": "stdout",
     "output_type": "stream",
     "text": [
      "       Lines total: 414\n",
      "     Lines covered: 184\n",
      "  Conditions total: 450\n",
      "Conditions covered: 124\n",
      "     Line coverage: 44.4%\n",
      "Condition coverage: 27.6%\n"
     ]
    },
    {
     "name": "stderr",
     "output_type": "stream",
     "text": [
      "OK\n",
      "Running ant (coverage.instrument).......................................... OK\n",
      "Running ant (run.gen.tests)................................................ OK\n",
      "Running ant (coverage.report).............................................. OK\n",
      "Extract test suite......................................................... OK\n",
      "Running ant (compile.gen.tests)............................................ "
     ]
    },
    {
     "name": "stdout",
     "output_type": "stream",
     "text": [
      "       Lines total: 414\n",
      "     Lines covered: 172\n",
      "  Conditions total: 450\n",
      "Conditions covered: 117\n",
      "     Line coverage: 41.5%\n",
      "Condition coverage: 26.0%\n"
     ]
    },
    {
     "name": "stderr",
     "output_type": "stream",
     "text": [
      "OK\n",
      "Running ant (coverage.instrument).......................................... OK\n",
      "Running ant (run.gen.tests)................................................ OK\n",
      "Running ant (coverage.report).............................................. OK\n",
      "Extract test suite......................................................... OK\n",
      "Running ant (compile.gen.tests)............................................ "
     ]
    },
    {
     "name": "stdout",
     "output_type": "stream",
     "text": [
      "       Lines total: 414\n",
      "     Lines covered: 94\n",
      "  Conditions total: 450\n",
      "Conditions covered: 52\n",
      "     Line coverage: 22.7%\n",
      "Condition coverage: 11.6%\n"
     ]
    },
    {
     "name": "stderr",
     "output_type": "stream",
     "text": [
      "OK\n",
      "Running ant (coverage.instrument).......................................... OK\n",
      "Running ant (run.gen.tests)................................................ OK\n",
      "Running ant (coverage.report).............................................. OK\n",
      "Extract test suite......................................................... OK\n",
      "Running ant (compile.gen.tests)............................................ "
     ]
    },
    {
     "name": "stdout",
     "output_type": "stream",
     "text": [
      "       Lines total: 414\n",
      "     Lines covered: 31\n",
      "  Conditions total: 450\n",
      "Conditions covered: 8\n",
      "     Line coverage: 7.5%\n",
      "Condition coverage: 1.8%\n"
     ]
    },
    {
     "name": "stderr",
     "output_type": "stream",
     "text": [
      "OK\n",
      "Running ant (coverage.instrument).......................................... OK\n",
      "Running ant (run.gen.tests)................................................ OK\n",
      "Running ant (coverage.report).............................................. OK\n",
      "Extract test suite......................................................... OK\n",
      "Running ant (compile.gen.tests)............................................ "
     ]
    },
    {
     "name": "stdout",
     "output_type": "stream",
     "text": [
      "       Lines total: 414\n",
      "     Lines covered: 93\n",
      "  Conditions total: 450\n",
      "Conditions covered: 55\n",
      "     Line coverage: 22.5%\n",
      "Condition coverage: 12.2%\n"
     ]
    },
    {
     "name": "stderr",
     "output_type": "stream",
     "text": [
      "OK\n",
      "Running ant (coverage.instrument).......................................... OK\n",
      "Running ant (run.gen.tests)................................................ OK\n",
      "Running ant (coverage.report).............................................. OK\n",
      "Extract test suite......................................................... OK\n",
      "Running ant (compile.gen.tests)............................................ "
     ]
    },
    {
     "name": "stdout",
     "output_type": "stream",
     "text": [
      "       Lines total: 414\n",
      "     Lines covered: 28\n",
      "  Conditions total: 450\n",
      "Conditions covered: 4\n",
      "     Line coverage: 6.8%\n",
      "Condition coverage: 0.9%\n"
     ]
    },
    {
     "name": "stderr",
     "output_type": "stream",
     "text": [
      "OK\n",
      "Running ant (coverage.instrument).......................................... OK\n",
      "Running ant (run.gen.tests)................................................ OK\n",
      "Running ant (coverage.report).............................................. OK\n",
      "Extract test suite......................................................... OK\n",
      "Running ant (compile.gen.tests)............................................ "
     ]
    },
    {
     "name": "stdout",
     "output_type": "stream",
     "text": [
      "       Lines total: 414\n",
      "     Lines covered: 41\n",
      "  Conditions total: 450\n",
      "Conditions covered: 8\n",
      "     Line coverage: 9.9%\n",
      "Condition coverage: 1.8%\n"
     ]
    },
    {
     "name": "stderr",
     "output_type": "stream",
     "text": [
      "OK\n",
      "Running ant (coverage.instrument).......................................... OK\n",
      "Running ant (run.gen.tests)................................................ OK\n",
      "Running ant (coverage.report).............................................. OK\n",
      "Extract test suite......................................................... OK\n",
      "Running ant (compile.gen.tests)............................................ "
     ]
    },
    {
     "name": "stdout",
     "output_type": "stream",
     "text": [
      "       Lines total: 414\n",
      "     Lines covered: 41\n",
      "  Conditions total: 450\n",
      "Conditions covered: 8\n",
      "     Line coverage: 9.9%\n",
      "Condition coverage: 1.8%\n"
     ]
    },
    {
     "name": "stderr",
     "output_type": "stream",
     "text": [
      "OK\n",
      "Running ant (coverage.instrument).......................................... OK\n",
      "Running ant (run.gen.tests)................................................ OK\n",
      "Running ant (coverage.report).............................................. OK\n",
      "Extract test suite......................................................... OK\n",
      "Running ant (compile.gen.tests)............................................ "
     ]
    },
    {
     "name": "stdout",
     "output_type": "stream",
     "text": [
      "       Lines total: 414\n",
      "     Lines covered: 92\n",
      "  Conditions total: 450\n",
      "Conditions covered: 54\n",
      "     Line coverage: 22.2%\n",
      "Condition coverage: 12.0%\n"
     ]
    },
    {
     "name": "stderr",
     "output_type": "stream",
     "text": [
      "OK\n",
      "Running ant (coverage.instrument).......................................... OK\n",
      "Running ant (run.gen.tests)................................................ OK\n",
      "Running ant (coverage.report).............................................. OK\n",
      "Extract test suite......................................................... OK\n",
      "Running ant (compile.gen.tests)............................................ "
     ]
    },
    {
     "name": "stdout",
     "output_type": "stream",
     "text": [
      "       Lines total: 414\n",
      "     Lines covered: 101\n",
      "  Conditions total: 450\n",
      "Conditions covered: 53\n",
      "     Line coverage: 24.4%\n",
      "Condition coverage: 11.8%\n"
     ]
    },
    {
     "name": "stderr",
     "output_type": "stream",
     "text": [
      "OK\n",
      "Running ant (coverage.instrument).......................................... OK\n",
      "Running ant (run.gen.tests)................................................ OK\n",
      "Running ant (coverage.report).............................................. OK\n",
      "Extract test suite......................................................... OK\n",
      "Running ant (compile.gen.tests)............................................ "
     ]
    },
    {
     "name": "stdout",
     "output_type": "stream",
     "text": [
      "       Lines total: 414\n",
      "     Lines covered: 64\n",
      "  Conditions total: 450\n",
      "Conditions covered: 25\n",
      "     Line coverage: 15.5%\n",
      "Condition coverage: 5.6%\n"
     ]
    },
    {
     "name": "stderr",
     "output_type": "stream",
     "text": [
      "OK\n",
      "Running ant (coverage.instrument).......................................... OK\n",
      "Running ant (run.gen.tests)................................................ OK\n",
      "Running ant (coverage.report).............................................. OK\n",
      "Extract test suite......................................................... OK\n",
      "Running ant (compile.gen.tests)............................................ "
     ]
    },
    {
     "name": "stdout",
     "output_type": "stream",
     "text": [
      "       Lines total: 414\n",
      "     Lines covered: 44\n",
      "  Conditions total: 450\n",
      "Conditions covered: 8\n",
      "     Line coverage: 10.6%\n",
      "Condition coverage: 1.8%\n"
     ]
    },
    {
     "name": "stderr",
     "output_type": "stream",
     "text": [
      "OK\n",
      "Running ant (coverage.instrument).......................................... OK\n",
      "Running ant (run.gen.tests)................................................ OK\n",
      "Running ant (coverage.report).............................................. OK\n",
      "Extract test suite......................................................... OK\n",
      "Running ant (compile.gen.tests)............................................ "
     ]
    },
    {
     "name": "stdout",
     "output_type": "stream",
     "text": [
      "       Lines total: 414\n",
      "     Lines covered: 171\n",
      "  Conditions total: 450\n",
      "Conditions covered: 116\n",
      "     Line coverage: 41.3%\n",
      "Condition coverage: 25.8%\n"
     ]
    },
    {
     "name": "stderr",
     "output_type": "stream",
     "text": [
      "OK\n",
      "Running ant (coverage.instrument).......................................... OK\n",
      "Running ant (run.gen.tests)................................................ OK\n",
      "Running ant (coverage.report).............................................. OK\n",
      "Extract test suite......................................................... OK\n",
      "Running ant (compile.gen.tests)............................................ "
     ]
    },
    {
     "name": "stdout",
     "output_type": "stream",
     "text": [
      "       Lines total: 414\n",
      "     Lines covered: 27\n",
      "  Conditions total: 450\n",
      "Conditions covered: 5\n",
      "     Line coverage: 6.5%\n",
      "Condition coverage: 1.1%\n"
     ]
    },
    {
     "name": "stderr",
     "output_type": "stream",
     "text": [
      "OK\n",
      "Running ant (coverage.instrument).......................................... OK\n",
      "Running ant (run.gen.tests)................................................ OK\n",
      "Running ant (coverage.report).............................................. OK\n",
      "Extract test suite......................................................... OK\n",
      "Running ant (compile.gen.tests)............................................ "
     ]
    },
    {
     "name": "stdout",
     "output_type": "stream",
     "text": [
      "       Lines total: 414\n",
      "     Lines covered: 39\n",
      "  Conditions total: 450\n",
      "Conditions covered: 7\n",
      "     Line coverage: 9.4%\n",
      "Condition coverage: 1.6%\n"
     ]
    },
    {
     "name": "stderr",
     "output_type": "stream",
     "text": [
      "OK\n",
      "Running ant (coverage.instrument).......................................... OK\n",
      "Running ant (run.gen.tests)................................................ OK\n",
      "Running ant (coverage.report).............................................. OK\n",
      "Extract test suite......................................................... OK\n",
      "Running ant (compile.gen.tests)............................................ "
     ]
    },
    {
     "name": "stdout",
     "output_type": "stream",
     "text": [
      "       Lines total: 414\n",
      "     Lines covered: 77\n",
      "  Conditions total: 450\n",
      "Conditions covered: 38\n",
      "     Line coverage: 18.6%\n",
      "Condition coverage: 8.4%\n"
     ]
    },
    {
     "name": "stderr",
     "output_type": "stream",
     "text": [
      "OK\n",
      "Running ant (coverage.instrument).......................................... OK\n",
      "Running ant (run.gen.tests)................................................ OK\n",
      "Running ant (coverage.report).............................................. OK\n",
      "Extract test suite......................................................... OK\n",
      "Running ant (compile.gen.tests)............................................ "
     ]
    },
    {
     "name": "stdout",
     "output_type": "stream",
     "text": [
      "       Lines total: 414\n",
      "     Lines covered: 100\n",
      "  Conditions total: 450\n",
      "Conditions covered: 59\n",
      "     Line coverage: 24.2%\n",
      "Condition coverage: 13.1%\n"
     ]
    },
    {
     "name": "stderr",
     "output_type": "stream",
     "text": [
      "OK\n",
      "Running ant (coverage.instrument).......................................... OK\n",
      "Running ant (run.gen.tests)................................................ OK\n",
      "Running ant (coverage.report).............................................. OK\n",
      "Extract test suite......................................................... OK\n",
      "Running ant (compile.gen.tests)............................................ "
     ]
    },
    {
     "name": "stdout",
     "output_type": "stream",
     "text": [
      "       Lines total: 414\n",
      "     Lines covered: 97\n",
      "  Conditions total: 450\n",
      "Conditions covered: 58\n",
      "     Line coverage: 23.4%\n",
      "Condition coverage: 12.9%\n"
     ]
    },
    {
     "name": "stderr",
     "output_type": "stream",
     "text": [
      "OK\n",
      "Running ant (coverage.instrument).......................................... OK\n",
      "Running ant (run.gen.tests)................................................ OK\n",
      "Running ant (coverage.report).............................................. OK\n",
      "Extract test suite......................................................... OK\n",
      "Running ant (compile.gen.tests)............................................ "
     ]
    },
    {
     "name": "stdout",
     "output_type": "stream",
     "text": [
      "       Lines total: 414\n",
      "     Lines covered: 45\n",
      "  Conditions total: 450\n",
      "Conditions covered: 9\n",
      "     Line coverage: 10.9%\n",
      "Condition coverage: 2.0%\n"
     ]
    },
    {
     "name": "stderr",
     "output_type": "stream",
     "text": [
      "OK\n",
      "Running ant (coverage.instrument).......................................... OK\n",
      "Running ant (run.gen.tests)................................................ OK\n",
      "Running ant (coverage.report).............................................. OK\n",
      "Extract test suite......................................................... OK\n",
      "Running ant (compile.gen.tests)............................................ "
     ]
    },
    {
     "name": "stdout",
     "output_type": "stream",
     "text": [
      "       Lines total: 414\n",
      "     Lines covered: 96\n",
      "  Conditions total: 450\n",
      "Conditions covered: 51\n",
      "     Line coverage: 23.2%\n",
      "Condition coverage: 11.3%\n"
     ]
    },
    {
     "name": "stderr",
     "output_type": "stream",
     "text": [
      "OK\n",
      "Running ant (coverage.instrument).......................................... OK\n",
      "Running ant (run.gen.tests)................................................ OK\n",
      "Running ant (coverage.report).............................................. OK\n",
      "Extract test suite......................................................... OK\n",
      "Running ant (compile.gen.tests)............................................ "
     ]
    },
    {
     "name": "stdout",
     "output_type": "stream",
     "text": [
      "       Lines total: 414\n",
      "     Lines covered: 193\n",
      "  Conditions total: 450\n",
      "Conditions covered: 129\n",
      "     Line coverage: 46.6%\n",
      "Condition coverage: 28.7%\n"
     ]
    },
    {
     "name": "stderr",
     "output_type": "stream",
     "text": [
      "OK\n",
      "Running ant (coverage.instrument).......................................... OK\n",
      "Running ant (run.gen.tests)................................................ OK\n",
      "Running ant (coverage.report).............................................. OK\n",
      "Extract test suite......................................................... OK\n",
      "Running ant (compile.gen.tests)............................................ "
     ]
    },
    {
     "name": "stdout",
     "output_type": "stream",
     "text": [
      "       Lines total: 414\n",
      "     Lines covered: 98\n",
      "  Conditions total: 450\n",
      "Conditions covered: 56\n",
      "     Line coverage: 23.7%\n",
      "Condition coverage: 12.4%\n"
     ]
    },
    {
     "name": "stderr",
     "output_type": "stream",
     "text": [
      "OK\n",
      "Running ant (coverage.instrument).......................................... OK\n",
      "Running ant (run.gen.tests)................................................ OK\n",
      "Running ant (coverage.report).............................................. OK\n",
      "Extract test suite......................................................... OK\n",
      "Running ant (compile.gen.tests)............................................ "
     ]
    },
    {
     "name": "stdout",
     "output_type": "stream",
     "text": [
      "       Lines total: 414\n",
      "     Lines covered: 45\n",
      "  Conditions total: 450\n",
      "Conditions covered: 9\n",
      "     Line coverage: 10.9%\n",
      "Condition coverage: 2.0%\n"
     ]
    },
    {
     "name": "stderr",
     "output_type": "stream",
     "text": [
      "OK\n",
      "Running ant (coverage.instrument).......................................... OK\n",
      "Running ant (run.gen.tests)................................................ OK\n",
      "Running ant (coverage.report).............................................. OK\n",
      "Extract test suite......................................................... OK\n",
      "Running ant (compile.gen.tests)............................................ "
     ]
    },
    {
     "name": "stdout",
     "output_type": "stream",
     "text": [
      "       Lines total: 414\n",
      "     Lines covered: 36\n",
      "  Conditions total: 450\n",
      "Conditions covered: 6\n",
      "     Line coverage: 8.7%\n",
      "Condition coverage: 1.3%\n"
     ]
    },
    {
     "name": "stderr",
     "output_type": "stream",
     "text": [
      "OK\n",
      "Running ant (coverage.instrument).......................................... OK\n",
      "Running ant (run.gen.tests)................................................ OK\n",
      "Running ant (coverage.report).............................................. OK\n",
      "Extract test suite......................................................... OK\n",
      "Running ant (compile.gen.tests)............................................ "
     ]
    },
    {
     "name": "stdout",
     "output_type": "stream",
     "text": [
      "       Lines total: 414\n",
      "     Lines covered: 22\n",
      "  Conditions total: 450\n",
      "Conditions covered: 5\n",
      "     Line coverage: 5.3%\n",
      "Condition coverage: 1.1%\n"
     ]
    },
    {
     "name": "stderr",
     "output_type": "stream",
     "text": [
      "OK\n",
      "Running ant (coverage.instrument).......................................... OK\n",
      "Running ant (run.gen.tests)................................................ OK\n",
      "Running ant (coverage.report).............................................. OK\n",
      "Extract test suite......................................................... OK\n",
      "Running ant (compile.gen.tests)............................................ "
     ]
    },
    {
     "name": "stdout",
     "output_type": "stream",
     "text": [
      "       Lines total: 414\n",
      "     Lines covered: 117\n",
      "  Conditions total: 450\n",
      "Conditions covered: 62\n",
      "     Line coverage: 28.3%\n",
      "Condition coverage: 13.8%\n"
     ]
    },
    {
     "name": "stderr",
     "output_type": "stream",
     "text": [
      "OK\n",
      "Running ant (coverage.instrument).......................................... OK\n",
      "Running ant (run.gen.tests)................................................ OK\n",
      "Running ant (coverage.report).............................................. OK\n",
      "Extract test suite......................................................... OK\n",
      "Running ant (compile.gen.tests)............................................ "
     ]
    },
    {
     "name": "stdout",
     "output_type": "stream",
     "text": [
      "       Lines total: 414\n",
      "     Lines covered: 24\n",
      "  Conditions total: 450\n",
      "Conditions covered: 3\n",
      "     Line coverage: 5.8%\n",
      "Condition coverage: 0.7%\n"
     ]
    },
    {
     "name": "stderr",
     "output_type": "stream",
     "text": [
      "OK\n",
      "Running ant (coverage.instrument).......................................... OK\n",
      "Running ant (run.gen.tests)................................................ OK\n",
      "Running ant (coverage.report).............................................. OK\n",
      "Extract test suite......................................................... OK\n",
      "Running ant (compile.gen.tests)............................................ "
     ]
    },
    {
     "name": "stdout",
     "output_type": "stream",
     "text": [
      "       Lines total: 414\n",
      "     Lines covered: 79\n",
      "  Conditions total: 450\n",
      "Conditions covered: 44\n",
      "     Line coverage: 19.1%\n",
      "Condition coverage: 9.8%\n"
     ]
    },
    {
     "name": "stderr",
     "output_type": "stream",
     "text": [
      "OK\n",
      "Running ant (coverage.instrument).......................................... OK\n",
      "Running ant (run.gen.tests)................................................ OK\n",
      "Running ant (coverage.report).............................................. OK\n",
      "Extract test suite......................................................... OK\n",
      "Running ant (compile.gen.tests)............................................ "
     ]
    },
    {
     "name": "stdout",
     "output_type": "stream",
     "text": [
      "       Lines total: 414\n",
      "     Lines covered: 47\n",
      "  Conditions total: 450\n",
      "Conditions covered: 20\n",
      "     Line coverage: 11.4%\n",
      "Condition coverage: 4.4%\n"
     ]
    },
    {
     "name": "stderr",
     "output_type": "stream",
     "text": [
      "OK\n",
      "Running ant (coverage.instrument).......................................... OK\n",
      "Running ant (run.gen.tests)................................................ OK\n",
      "Running ant (coverage.report).............................................. OK\n",
      "Extract test suite......................................................... OK\n",
      "Running ant (compile.gen.tests)............................................ "
     ]
    },
    {
     "name": "stdout",
     "output_type": "stream",
     "text": [
      "       Lines total: 414\n",
      "     Lines covered: 47\n",
      "  Conditions total: 450\n",
      "Conditions covered: 9\n",
      "     Line coverage: 11.4%\n",
      "Condition coverage: 2.0%\n"
     ]
    },
    {
     "name": "stderr",
     "output_type": "stream",
     "text": [
      "OK\n",
      "Running ant (coverage.instrument).......................................... OK\n",
      "Running ant (run.gen.tests)................................................ OK\n",
      "Running ant (coverage.report).............................................. OK\n",
      "Extract test suite......................................................... OK\n",
      "Running ant (compile.gen.tests)............................................ "
     ]
    },
    {
     "name": "stdout",
     "output_type": "stream",
     "text": [
      "       Lines total: 414\n",
      "     Lines covered: 39\n",
      "  Conditions total: 450\n",
      "Conditions covered: 8\n",
      "     Line coverage: 9.4%\n",
      "Condition coverage: 1.8%\n"
     ]
    },
    {
     "name": "stderr",
     "output_type": "stream",
     "text": [
      "OK\n",
      "Running ant (coverage.instrument).......................................... OK\n",
      "Running ant (run.gen.tests)................................................ OK\n",
      "Running ant (coverage.report).............................................. OK\n",
      "Extract test suite......................................................... OK\n",
      "Running ant (compile.gen.tests)............................................ "
     ]
    },
    {
     "name": "stdout",
     "output_type": "stream",
     "text": [
      "       Lines total: 414\n",
      "     Lines covered: 148\n",
      "  Conditions total: 450\n",
      "Conditions covered: 103\n",
      "     Line coverage: 35.7%\n",
      "Condition coverage: 22.9%\n"
     ]
    },
    {
     "name": "stderr",
     "output_type": "stream",
     "text": [
      "OK\n",
      "Running ant (coverage.instrument).......................................... OK\n",
      "Running ant (run.gen.tests)................................................ OK\n",
      "Running ant (coverage.report).............................................. OK\n",
      "Extract test suite......................................................... OK\n",
      "Running ant (compile.gen.tests)............................................ "
     ]
    },
    {
     "name": "stdout",
     "output_type": "stream",
     "text": [
      "       Lines total: 414\n",
      "     Lines covered: 73\n",
      "  Conditions total: 450\n",
      "Conditions covered: 41\n",
      "     Line coverage: 17.6%\n",
      "Condition coverage: 9.1%\n"
     ]
    },
    {
     "name": "stderr",
     "output_type": "stream",
     "text": [
      "OK\n",
      "Running ant (coverage.instrument).......................................... OK\n",
      "Running ant (run.gen.tests)................................................ OK\n",
      "Running ant (coverage.report).............................................. OK\n",
      "Extract test suite......................................................... OK\n",
      "Running ant (compile.gen.tests)............................................ "
     ]
    },
    {
     "name": "stdout",
     "output_type": "stream",
     "text": [
      "       Lines total: 414\n",
      "     Lines covered: 7\n",
      "  Conditions total: 450\n",
      "Conditions covered: 3\n",
      "     Line coverage: 1.7%\n",
      "Condition coverage: 0.7%\n"
     ]
    },
    {
     "name": "stderr",
     "output_type": "stream",
     "text": [
      "OK\n",
      "Running ant (coverage.instrument).......................................... OK\n",
      "Running ant (run.gen.tests)................................................ OK\n",
      "Running ant (coverage.report).............................................. OK\n",
      "Extract test suite......................................................... OK\n",
      "Running ant (compile.gen.tests)............................................ "
     ]
    },
    {
     "name": "stdout",
     "output_type": "stream",
     "text": [
      "       Lines total: 414\n",
      "     Lines covered: 35\n",
      "  Conditions total: 450\n",
      "Conditions covered: 8\n",
      "     Line coverage: 8.5%\n",
      "Condition coverage: 1.8%\n"
     ]
    },
    {
     "name": "stderr",
     "output_type": "stream",
     "text": [
      "OK\n",
      "Running ant (coverage.instrument).......................................... OK\n",
      "Running ant (run.gen.tests)................................................ OK\n",
      "Running ant (coverage.report).............................................. OK\n",
      "Extract test suite......................................................... OK\n",
      "Running ant (compile.gen.tests)............................................ "
     ]
    },
    {
     "name": "stdout",
     "output_type": "stream",
     "text": [
      "       Lines total: 414\n",
      "     Lines covered: 94\n",
      "  Conditions total: 450\n",
      "Conditions covered: 53\n",
      "     Line coverage: 22.7%\n",
      "Condition coverage: 11.8%\n"
     ]
    },
    {
     "name": "stderr",
     "output_type": "stream",
     "text": [
      "OK\n",
      "Running ant (coverage.instrument).......................................... OK\n",
      "Running ant (run.gen.tests)................................................ OK\n",
      "Running ant (coverage.report).............................................. OK\n",
      "Extract test suite......................................................... OK\n",
      "Running ant (compile.gen.tests)............................................ "
     ]
    },
    {
     "name": "stdout",
     "output_type": "stream",
     "text": [
      "       Lines total: 414\n",
      "     Lines covered: 86\n",
      "  Conditions total: 450\n",
      "Conditions covered: 49\n",
      "     Line coverage: 20.8%\n",
      "Condition coverage: 10.9%\n"
     ]
    },
    {
     "name": "stderr",
     "output_type": "stream",
     "text": [
      "OK\n",
      "Running ant (coverage.instrument).......................................... OK\n",
      "Running ant (run.gen.tests)................................................ OK\n",
      "Running ant (coverage.report).............................................. OK\n",
      "Extract test suite......................................................... OK\n",
      "Running ant (compile.gen.tests)............................................ "
     ]
    },
    {
     "name": "stdout",
     "output_type": "stream",
     "text": [
      "       Lines total: 414\n",
      "     Lines covered: 33\n",
      "  Conditions total: 450\n",
      "Conditions covered: 6\n",
      "     Line coverage: 8.0%\n",
      "Condition coverage: 1.3%\n"
     ]
    },
    {
     "name": "stderr",
     "output_type": "stream",
     "text": [
      "OK\n",
      "Running ant (coverage.instrument).......................................... OK\n",
      "Running ant (run.gen.tests)................................................ OK\n",
      "Running ant (coverage.report).............................................. OK\n",
      "Extract test suite......................................................... OK\n",
      "Running ant (compile.gen.tests)............................................ "
     ]
    },
    {
     "name": "stdout",
     "output_type": "stream",
     "text": [
      "       Lines total: 414\n",
      "     Lines covered: 114\n",
      "  Conditions total: 450\n",
      "Conditions covered: 61\n",
      "     Line coverage: 27.5%\n",
      "Condition coverage: 13.6%\n"
     ]
    },
    {
     "name": "stderr",
     "output_type": "stream",
     "text": [
      "OK\n",
      "Running ant (coverage.instrument).......................................... OK\n",
      "Running ant (run.gen.tests)................................................ OK\n",
      "Running ant (coverage.report).............................................. OK\n",
      "Extract test suite......................................................... OK\n",
      "Running ant (compile.gen.tests)............................................ "
     ]
    },
    {
     "name": "stdout",
     "output_type": "stream",
     "text": [
      "       Lines total: 414\n",
      "     Lines covered: 48\n",
      "  Conditions total: 450\n",
      "Conditions covered: 10\n",
      "     Line coverage: 11.6%\n",
      "Condition coverage: 2.2%\n"
     ]
    },
    {
     "name": "stderr",
     "output_type": "stream",
     "text": [
      "OK\n",
      "Running ant (coverage.instrument).......................................... OK\n",
      "Running ant (run.gen.tests)................................................ OK\n",
      "Running ant (coverage.report).............................................. OK\n",
      "Extract test suite......................................................... OK\n",
      "Running ant (compile.gen.tests)............................................ "
     ]
    },
    {
     "name": "stdout",
     "output_type": "stream",
     "text": [
      "       Lines total: 414\n",
      "     Lines covered: 20\n",
      "  Conditions total: 450\n",
      "Conditions covered: 4\n",
      "     Line coverage: 4.8%\n",
      "Condition coverage: 0.9%\n"
     ]
    },
    {
     "name": "stderr",
     "output_type": "stream",
     "text": [
      "OK\n",
      "Running ant (coverage.instrument).......................................... OK\n",
      "Running ant (run.gen.tests)................................................ OK\n",
      "Running ant (coverage.report).............................................. OK\n",
      "Extract test suite......................................................... OK\n",
      "Running ant (compile.gen.tests)............................................ "
     ]
    },
    {
     "name": "stdout",
     "output_type": "stream",
     "text": [
      "       Lines total: 414\n",
      "     Lines covered: 97\n",
      "  Conditions total: 450\n",
      "Conditions covered: 59\n",
      "     Line coverage: 23.4%\n",
      "Condition coverage: 13.1%\n"
     ]
    },
    {
     "name": "stderr",
     "output_type": "stream",
     "text": [
      "OK\n",
      "Running ant (coverage.instrument).......................................... OK\n",
      "Running ant (run.gen.tests)................................................ OK\n",
      "Running ant (coverage.report).............................................. OK\n",
      "Extract test suite......................................................... OK\n",
      "Running ant (compile.gen.tests)............................................ "
     ]
    },
    {
     "name": "stdout",
     "output_type": "stream",
     "text": [
      "       Lines total: 414\n",
      "     Lines covered: 97\n",
      "  Conditions total: 450\n",
      "Conditions covered: 58\n",
      "     Line coverage: 23.4%\n",
      "Condition coverage: 12.9%\n"
     ]
    },
    {
     "name": "stderr",
     "output_type": "stream",
     "text": [
      "OK\n",
      "Running ant (coverage.instrument).......................................... OK\n",
      "Running ant (run.gen.tests)................................................ OK\n",
      "Running ant (coverage.report).............................................. OK\n",
      "Extract test suite......................................................... OK\n",
      "Running ant (compile.gen.tests)............................................ "
     ]
    },
    {
     "name": "stdout",
     "output_type": "stream",
     "text": [
      "       Lines total: 414\n",
      "     Lines covered: 96\n",
      "  Conditions total: 450\n",
      "Conditions covered: 57\n",
      "     Line coverage: 23.2%\n",
      "Condition coverage: 12.7%\n"
     ]
    },
    {
     "name": "stderr",
     "output_type": "stream",
     "text": [
      "OK\n",
      "Running ant (coverage.instrument).......................................... OK\n",
      "Running ant (run.gen.tests)................................................ OK\n",
      "Running ant (coverage.report).............................................. OK\n",
      "Extract test suite......................................................... OK\n",
      "Running ant (compile.gen.tests)............................................ "
     ]
    },
    {
     "name": "stdout",
     "output_type": "stream",
     "text": [
      "       Lines total: 414\n",
      "     Lines covered: 82\n",
      "  Conditions total: 450\n",
      "Conditions covered: 42\n",
      "     Line coverage: 19.8%\n",
      "Condition coverage: 9.3%\n"
     ]
    },
    {
     "name": "stderr",
     "output_type": "stream",
     "text": [
      "OK\n",
      "Running ant (coverage.instrument).......................................... OK\n",
      "Running ant (run.gen.tests)................................................ OK\n",
      "Running ant (coverage.report).............................................. OK\n",
      "Extract test suite......................................................... OK\n",
      "Running ant (compile.gen.tests)............................................ "
     ]
    },
    {
     "name": "stdout",
     "output_type": "stream",
     "text": [
      "       Lines total: 414\n",
      "     Lines covered: 100\n",
      "  Conditions total: 450\n",
      "Conditions covered: 57\n",
      "     Line coverage: 24.2%\n",
      "Condition coverage: 12.7%\n"
     ]
    },
    {
     "name": "stderr",
     "output_type": "stream",
     "text": [
      "OK\n",
      "Running ant (coverage.instrument).......................................... OK\n",
      "Running ant (run.gen.tests)................................................ OK\n",
      "Running ant (coverage.report).............................................. OK\n",
      "Extract test suite......................................................... OK\n",
      "Running ant (compile.gen.tests)............................................ "
     ]
    },
    {
     "name": "stdout",
     "output_type": "stream",
     "text": [
      "       Lines total: 414\n",
      "     Lines covered: 63\n",
      "  Conditions total: 450\n",
      "Conditions covered: 28\n",
      "     Line coverage: 15.2%\n",
      "Condition coverage: 6.2%\n"
     ]
    },
    {
     "name": "stderr",
     "output_type": "stream",
     "text": [
      "OK\n",
      "Running ant (coverage.instrument).......................................... OK\n",
      "Running ant (run.gen.tests)................................................ OK\n",
      "Running ant (coverage.report).............................................. OK\n",
      "Extract test suite......................................................... OK\n",
      "Running ant (compile.gen.tests)............................................ "
     ]
    },
    {
     "name": "stdout",
     "output_type": "stream",
     "text": [
      "       Lines total: 414\n",
      "     Lines covered: 35\n",
      "  Conditions total: 450\n",
      "Conditions covered: 6\n",
      "     Line coverage: 8.5%\n",
      "Condition coverage: 1.3%\n"
     ]
    },
    {
     "name": "stderr",
     "output_type": "stream",
     "text": [
      "OK\n",
      "Running ant (coverage.instrument).......................................... OK\n",
      "Running ant (run.gen.tests)................................................ OK\n",
      "Running ant (coverage.report).............................................. OK\n",
      "Extract test suite......................................................... OK\n",
      "Running ant (compile.gen.tests)............................................ "
     ]
    },
    {
     "name": "stdout",
     "output_type": "stream",
     "text": [
      "       Lines total: 414\n",
      "     Lines covered: 92\n",
      "  Conditions total: 450\n",
      "Conditions covered: 53\n",
      "     Line coverage: 22.2%\n",
      "Condition coverage: 11.8%\n"
     ]
    },
    {
     "name": "stderr",
     "output_type": "stream",
     "text": [
      "OK\n",
      "Running ant (coverage.instrument).......................................... OK\n",
      "Running ant (run.gen.tests)................................................ OK\n",
      "Running ant (coverage.report).............................................. OK\n",
      "Extract test suite......................................................... OK\n",
      "Running ant (compile.gen.tests)............................................ "
     ]
    },
    {
     "name": "stdout",
     "output_type": "stream",
     "text": [
      "       Lines total: 414\n",
      "     Lines covered: 192\n",
      "  Conditions total: 450\n",
      "Conditions covered: 127\n",
      "     Line coverage: 46.4%\n",
      "Condition coverage: 28.2%\n"
     ]
    },
    {
     "name": "stderr",
     "output_type": "stream",
     "text": [
      "OK\n",
      "Running ant (coverage.instrument).......................................... OK\n",
      "Running ant (run.gen.tests)................................................ OK\n",
      "Running ant (coverage.report).............................................. OK\n",
      "Extract test suite......................................................... OK\n",
      "Running ant (compile.gen.tests)............................................ "
     ]
    },
    {
     "name": "stdout",
     "output_type": "stream",
     "text": [
      "       Lines total: 414\n",
      "     Lines covered: 46\n",
      "  Conditions total: 450\n",
      "Conditions covered: 11\n",
      "     Line coverage: 11.1%\n",
      "Condition coverage: 2.4%\n"
     ]
    },
    {
     "name": "stderr",
     "output_type": "stream",
     "text": [
      "OK\n",
      "Running ant (coverage.instrument).......................................... OK\n",
      "Running ant (run.gen.tests)................................................ OK\n",
      "Running ant (coverage.report).............................................. OK\n",
      "Extract test suite......................................................... OK\n",
      "Running ant (compile.gen.tests)............................................ "
     ]
    },
    {
     "name": "stdout",
     "output_type": "stream",
     "text": [
      "       Lines total: 414\n",
      "     Lines covered: 181\n",
      "  Conditions total: 450\n",
      "Conditions covered: 113\n",
      "     Line coverage: 43.7%\n",
      "Condition coverage: 25.1%\n"
     ]
    },
    {
     "name": "stderr",
     "output_type": "stream",
     "text": [
      "OK\n",
      "Running ant (coverage.instrument).......................................... OK\n",
      "Running ant (run.gen.tests)................................................ OK\n",
      "Running ant (coverage.report).............................................. OK\n",
      "Extract test suite......................................................... OK\n",
      "Running ant (compile.gen.tests)............................................ "
     ]
    },
    {
     "name": "stdout",
     "output_type": "stream",
     "text": [
      "       Lines total: 414\n",
      "     Lines covered: 35\n",
      "  Conditions total: 450\n",
      "Conditions covered: 6\n",
      "     Line coverage: 8.5%\n",
      "Condition coverage: 1.3%\n"
     ]
    },
    {
     "name": "stderr",
     "output_type": "stream",
     "text": [
      "OK\n",
      "Running ant (coverage.instrument).......................................... OK\n",
      "Running ant (run.gen.tests)................................................ OK\n",
      "Running ant (coverage.report).............................................. OK\n",
      "Extract test suite......................................................... OK\n",
      "Running ant (compile.gen.tests)............................................ "
     ]
    },
    {
     "name": "stdout",
     "output_type": "stream",
     "text": [
      "       Lines total: 414\n",
      "     Lines covered: 45\n",
      "  Conditions total: 450\n",
      "Conditions covered: 9\n",
      "     Line coverage: 10.9%\n",
      "Condition coverage: 2.0%\n"
     ]
    },
    {
     "name": "stderr",
     "output_type": "stream",
     "text": [
      "OK\n",
      "Running ant (coverage.instrument).......................................... OK\n",
      "Running ant (run.gen.tests)................................................ OK\n",
      "Running ant (coverage.report).............................................. OK\n",
      "Extract test suite......................................................... OK\n",
      "Running ant (compile.gen.tests)............................................ "
     ]
    },
    {
     "name": "stdout",
     "output_type": "stream",
     "text": [
      "       Lines total: 414\n",
      "     Lines covered: 39\n",
      "  Conditions total: 450\n",
      "Conditions covered: 8\n",
      "     Line coverage: 9.4%\n",
      "Condition coverage: 1.8%\n"
     ]
    },
    {
     "name": "stderr",
     "output_type": "stream",
     "text": [
      "OK\n",
      "Running ant (coverage.instrument).......................................... OK\n",
      "Running ant (run.gen.tests)................................................ OK\n",
      "Running ant (coverage.report).............................................. OK\n",
      "Extract test suite......................................................... OK\n",
      "Running ant (compile.gen.tests)............................................ "
     ]
    },
    {
     "name": "stdout",
     "output_type": "stream",
     "text": [
      "       Lines total: 414\n",
      "     Lines covered: 39\n",
      "  Conditions total: 450\n",
      "Conditions covered: 18\n",
      "     Line coverage: 9.4%\n",
      "Condition coverage: 4.0%\n"
     ]
    },
    {
     "name": "stderr",
     "output_type": "stream",
     "text": [
      "OK\n",
      "Running ant (coverage.instrument).......................................... OK\n",
      "Running ant (run.gen.tests)................................................ OK\n",
      "Running ant (coverage.report).............................................. OK\n",
      "Extract test suite......................................................... OK\n",
      "Running ant (compile.gen.tests)............................................ "
     ]
    },
    {
     "name": "stdout",
     "output_type": "stream",
     "text": [
      "       Lines total: 414\n",
      "     Lines covered: 154\n",
      "  Conditions total: 450\n",
      "Conditions covered: 107\n",
      "     Line coverage: 37.2%\n",
      "Condition coverage: 23.8%\n"
     ]
    },
    {
     "name": "stderr",
     "output_type": "stream",
     "text": [
      "OK\n",
      "Running ant (coverage.instrument).......................................... OK\n",
      "Running ant (run.gen.tests)................................................ OK\n",
      "Running ant (coverage.report).............................................. OK\n",
      "Extract test suite......................................................... OK\n",
      "Running ant (compile.gen.tests)............................................ "
     ]
    },
    {
     "name": "stdout",
     "output_type": "stream",
     "text": [
      "       Lines total: 414\n",
      "     Lines covered: 18\n",
      "  Conditions total: 450\n",
      "Conditions covered: 5\n",
      "     Line coverage: 4.3%\n",
      "Condition coverage: 1.1%\n"
     ]
    },
    {
     "name": "stderr",
     "output_type": "stream",
     "text": [
      "OK\n",
      "Running ant (coverage.instrument).......................................... OK\n",
      "Running ant (run.gen.tests)................................................ OK\n",
      "Running ant (coverage.report).............................................. OK\n",
      "Extract test suite......................................................... OK\n",
      "Running ant (compile.gen.tests)............................................ "
     ]
    },
    {
     "name": "stdout",
     "output_type": "stream",
     "text": [
      "       Lines total: 414\n",
      "     Lines covered: 79\n",
      "  Conditions total: 450\n",
      "Conditions covered: 44\n",
      "     Line coverage: 19.1%\n",
      "Condition coverage: 9.8%\n"
     ]
    },
    {
     "name": "stderr",
     "output_type": "stream",
     "text": [
      "OK\n",
      "Running ant (coverage.instrument).......................................... OK\n",
      "Running ant (run.gen.tests)................................................ OK\n",
      "Running ant (coverage.report).............................................. OK\n",
      "Extract test suite......................................................... OK\n",
      "Running ant (compile.gen.tests)............................................ "
     ]
    },
    {
     "name": "stdout",
     "output_type": "stream",
     "text": [
      "       Lines total: 414\n",
      "     Lines covered: 96\n",
      "  Conditions total: 450\n",
      "Conditions covered: 58\n",
      "     Line coverage: 23.2%\n",
      "Condition coverage: 12.9%\n"
     ]
    },
    {
     "name": "stderr",
     "output_type": "stream",
     "text": [
      "OK\n",
      "Running ant (coverage.instrument).......................................... OK\n",
      "Running ant (run.gen.tests)................................................ OK\n",
      "Running ant (coverage.report).............................................. OK\n",
      "Extract test suite......................................................... OK\n",
      "Running ant (compile.gen.tests)............................................ "
     ]
    },
    {
     "name": "stdout",
     "output_type": "stream",
     "text": [
      "       Lines total: 414\n",
      "     Lines covered: 77\n",
      "  Conditions total: 450\n",
      "Conditions covered: 44\n",
      "     Line coverage: 18.6%\n",
      "Condition coverage: 9.8%\n"
     ]
    },
    {
     "name": "stderr",
     "output_type": "stream",
     "text": [
      "OK\n",
      "Running ant (coverage.instrument).......................................... OK\n",
      "Running ant (run.gen.tests)................................................ OK\n",
      "Running ant (coverage.report).............................................. OK\n",
      "Extract test suite......................................................... OK\n",
      "Running ant (compile.gen.tests)............................................ "
     ]
    },
    {
     "name": "stdout",
     "output_type": "stream",
     "text": [
      "       Lines total: 414\n",
      "     Lines covered: 96\n",
      "  Conditions total: 450\n",
      "Conditions covered: 57\n",
      "     Line coverage: 23.2%\n",
      "Condition coverage: 12.7%\n"
     ]
    },
    {
     "name": "stderr",
     "output_type": "stream",
     "text": [
      "OK\n",
      "Running ant (coverage.instrument).......................................... OK\n",
      "Running ant (run.gen.tests)................................................ OK\n",
      "Running ant (coverage.report).............................................. OK\n",
      "Extract test suite......................................................... OK\n",
      "Running ant (compile.gen.tests)............................................ "
     ]
    },
    {
     "name": "stdout",
     "output_type": "stream",
     "text": [
      "       Lines total: 414\n",
      "     Lines covered: 87\n",
      "  Conditions total: 450\n",
      "Conditions covered: 50\n",
      "     Line coverage: 21.0%\n",
      "Condition coverage: 11.1%\n"
     ]
    },
    {
     "name": "stderr",
     "output_type": "stream",
     "text": [
      "OK\n",
      "Running ant (coverage.instrument).......................................... OK\n",
      "Running ant (run.gen.tests)................................................ OK\n",
      "Running ant (coverage.report).............................................. OK\n",
      "Extract test suite......................................................... OK\n",
      "Running ant (compile.gen.tests)............................................ "
     ]
    },
    {
     "name": "stdout",
     "output_type": "stream",
     "text": [
      "       Lines total: 414\n",
      "     Lines covered: 25\n",
      "  Conditions total: 450\n",
      "Conditions covered: 4\n",
      "     Line coverage: 6.0%\n",
      "Condition coverage: 0.9%\n"
     ]
    },
    {
     "name": "stderr",
     "output_type": "stream",
     "text": [
      "OK\n",
      "Running ant (coverage.instrument).......................................... OK\n",
      "Running ant (run.gen.tests)................................................ OK\n",
      "Running ant (coverage.report).............................................. OK\n",
      "Extract test suite......................................................... OK\n",
      "Running ant (compile.gen.tests)............................................ "
     ]
    },
    {
     "name": "stdout",
     "output_type": "stream",
     "text": [
      "       Lines total: 414\n",
      "     Lines covered: 107\n",
      "  Conditions total: 450\n",
      "Conditions covered: 59\n",
      "     Line coverage: 25.8%\n",
      "Condition coverage: 13.1%\n"
     ]
    },
    {
     "name": "stderr",
     "output_type": "stream",
     "text": [
      "OK\n",
      "Running ant (coverage.instrument).......................................... OK\n",
      "Running ant (run.gen.tests)................................................ OK\n",
      "Running ant (coverage.report).............................................. OK\n",
      "Extract test suite......................................................... OK\n",
      "Running ant (compile.gen.tests)............................................ "
     ]
    },
    {
     "name": "stdout",
     "output_type": "stream",
     "text": [
      "       Lines total: 414\n",
      "     Lines covered: 33\n",
      "  Conditions total: 450\n",
      "Conditions covered: 6\n",
      "     Line coverage: 8.0%\n",
      "Condition coverage: 1.3%\n"
     ]
    },
    {
     "name": "stderr",
     "output_type": "stream",
     "text": [
      "OK\n",
      "Running ant (coverage.instrument).......................................... OK\n",
      "Running ant (run.gen.tests)................................................ OK\n",
      "Running ant (coverage.report).............................................. OK\n",
      "Extract test suite......................................................... OK\n",
      "Running ant (compile.gen.tests)............................................ "
     ]
    },
    {
     "name": "stdout",
     "output_type": "stream",
     "text": [
      "       Lines total: 414\n",
      "     Lines covered: 149\n",
      "  Conditions total: 450\n",
      "Conditions covered: 103\n",
      "     Line coverage: 36.0%\n",
      "Condition coverage: 22.9%\n"
     ]
    },
    {
     "name": "stderr",
     "output_type": "stream",
     "text": [
      "OK\n",
      "Running ant (coverage.instrument).......................................... OK\n",
      "Running ant (run.gen.tests)................................................ OK\n",
      "Running ant (coverage.report).............................................. OK\n",
      "Extract test suite......................................................... OK\n",
      "Running ant (compile.gen.tests)............................................ "
     ]
    },
    {
     "name": "stdout",
     "output_type": "stream",
     "text": [
      "       Lines total: 414\n",
      "     Lines covered: 50\n",
      "  Conditions total: 450\n",
      "Conditions covered: 10\n",
      "     Line coverage: 12.1%\n",
      "Condition coverage: 2.2%\n"
     ]
    },
    {
     "name": "stderr",
     "output_type": "stream",
     "text": [
      "OK\n",
      "Running ant (coverage.instrument).......................................... OK\n",
      "Running ant (run.gen.tests)................................................ OK\n",
      "Running ant (coverage.report).............................................. OK\n",
      "Extract test suite......................................................... OK\n",
      "Running ant (compile.gen.tests)............................................ "
     ]
    },
    {
     "name": "stdout",
     "output_type": "stream",
     "text": [
      "       Lines total: 414\n",
      "     Lines covered: 94\n",
      "  Conditions total: 450\n",
      "Conditions covered: 55\n",
      "     Line coverage: 22.7%\n",
      "Condition coverage: 12.2%\n"
     ]
    },
    {
     "name": "stderr",
     "output_type": "stream",
     "text": [
      "OK\n",
      "Running ant (coverage.instrument).......................................... OK\n",
      "Running ant (run.gen.tests)................................................ OK\n",
      "Running ant (coverage.report).............................................. OK\n",
      "Extract test suite......................................................... OK\n",
      "Running ant (compile.gen.tests)............................................ "
     ]
    },
    {
     "name": "stdout",
     "output_type": "stream",
     "text": [
      "       Lines total: 414\n",
      "     Lines covered: 42\n",
      "  Conditions total: 450\n",
      "Conditions covered: 8\n",
      "     Line coverage: 10.1%\n",
      "Condition coverage: 1.8%\n"
     ]
    },
    {
     "name": "stderr",
     "output_type": "stream",
     "text": [
      "OK\n",
      "Running ant (coverage.instrument).......................................... OK\n",
      "Running ant (run.gen.tests)................................................ OK\n",
      "Running ant (coverage.report).............................................. OK\n",
      "Extract test suite......................................................... OK\n",
      "Running ant (compile.gen.tests)............................................ "
     ]
    },
    {
     "name": "stdout",
     "output_type": "stream",
     "text": [
      "       Lines total: 414\n",
      "     Lines covered: 12\n",
      "  Conditions total: 450\n",
      "Conditions covered: 3\n",
      "     Line coverage: 2.9%\n",
      "Condition coverage: 0.7%\n"
     ]
    },
    {
     "name": "stderr",
     "output_type": "stream",
     "text": [
      "OK\n",
      "Running ant (coverage.instrument).......................................... OK\n",
      "Running ant (run.gen.tests)................................................ OK\n",
      "Running ant (coverage.report).............................................. OK\n",
      "Extract test suite......................................................... OK\n",
      "Running ant (compile.gen.tests)............................................ "
     ]
    },
    {
     "name": "stdout",
     "output_type": "stream",
     "text": [
      "       Lines total: 414\n",
      "     Lines covered: 39\n",
      "  Conditions total: 450\n",
      "Conditions covered: 7\n",
      "     Line coverage: 9.4%\n",
      "Condition coverage: 1.6%\n"
     ]
    },
    {
     "name": "stderr",
     "output_type": "stream",
     "text": [
      "OK\n",
      "Running ant (coverage.instrument).......................................... OK\n",
      "Running ant (run.gen.tests)................................................ OK\n",
      "Running ant (coverage.report).............................................. OK\n",
      "Extract test suite......................................................... OK\n",
      "Running ant (compile.gen.tests)............................................ "
     ]
    },
    {
     "name": "stdout",
     "output_type": "stream",
     "text": [
      "       Lines total: 414\n",
      "     Lines covered: 35\n",
      "  Conditions total: 450\n",
      "Conditions covered: 18\n",
      "     Line coverage: 8.5%\n",
      "Condition coverage: 4.0%\n"
     ]
    },
    {
     "name": "stderr",
     "output_type": "stream",
     "text": [
      "OK\n",
      "Running ant (coverage.instrument).......................................... OK\n",
      "Running ant (run.gen.tests)................................................ OK\n",
      "Running ant (coverage.report).............................................. OK\n",
      "Extract test suite......................................................... OK\n",
      "Running ant (compile.gen.tests)............................................ "
     ]
    },
    {
     "name": "stdout",
     "output_type": "stream",
     "text": [
      "       Lines total: 414\n",
      "     Lines covered: 41\n",
      "  Conditions total: 450\n",
      "Conditions covered: 8\n",
      "     Line coverage: 9.9%\n",
      "Condition coverage: 1.8%\n"
     ]
    },
    {
     "name": "stderr",
     "output_type": "stream",
     "text": [
      "OK\n",
      "Running ant (coverage.instrument).......................................... OK\n",
      "Running ant (run.gen.tests)................................................ OK\n",
      "Running ant (coverage.report).............................................. OK\n",
      "Extract test suite......................................................... OK\n",
      "Running ant (compile.gen.tests)............................................ "
     ]
    },
    {
     "name": "stdout",
     "output_type": "stream",
     "text": [
      "       Lines total: 414\n",
      "     Lines covered: 7\n",
      "  Conditions total: 450\n",
      "Conditions covered: 2\n",
      "     Line coverage: 1.7%\n",
      "Condition coverage: 0.4%\n"
     ]
    },
    {
     "name": "stderr",
     "output_type": "stream",
     "text": [
      "OK\n",
      "Running ant (coverage.instrument).......................................... OK\n",
      "Running ant (run.gen.tests)................................................ OK\n",
      "Running ant (coverage.report).............................................. OK\n",
      "Extract test suite......................................................... OK\n",
      "Running ant (compile.gen.tests)............................................ "
     ]
    },
    {
     "name": "stdout",
     "output_type": "stream",
     "text": [
      "       Lines total: 414\n",
      "     Lines covered: 23\n",
      "  Conditions total: 450\n",
      "Conditions covered: 3\n",
      "     Line coverage: 5.6%\n",
      "Condition coverage: 0.7%\n"
     ]
    },
    {
     "name": "stderr",
     "output_type": "stream",
     "text": [
      "OK\n",
      "Running ant (coverage.instrument).......................................... OK\n",
      "Running ant (run.gen.tests)................................................ OK\n",
      "Running ant (coverage.report).............................................. OK\n",
      "Extract test suite......................................................... OK\n",
      "Running ant (compile.gen.tests)............................................ "
     ]
    },
    {
     "name": "stdout",
     "output_type": "stream",
     "text": [
      "       Lines total: 414\n",
      "     Lines covered: 31\n",
      "  Conditions total: 450\n",
      "Conditions covered: 6\n",
      "     Line coverage: 7.5%\n",
      "Condition coverage: 1.3%\n"
     ]
    },
    {
     "name": "stderr",
     "output_type": "stream",
     "text": [
      "OK\n",
      "Running ant (coverage.instrument).......................................... OK\n",
      "Running ant (run.gen.tests)................................................ OK\n",
      "Running ant (coverage.report).............................................. OK\n",
      "Extract test suite......................................................... OK\n",
      "Running ant (compile.gen.tests)............................................ "
     ]
    },
    {
     "name": "stdout",
     "output_type": "stream",
     "text": [
      "       Lines total: 414\n",
      "     Lines covered: 38\n",
      "  Conditions total: 450\n",
      "Conditions covered: 7\n",
      "     Line coverage: 9.2%\n",
      "Condition coverage: 1.6%\n"
     ]
    },
    {
     "name": "stderr",
     "output_type": "stream",
     "text": [
      "OK\n",
      "Running ant (coverage.instrument).......................................... OK\n",
      "Running ant (run.gen.tests)................................................ OK\n",
      "Running ant (coverage.report).............................................. OK\n",
      "Extract test suite......................................................... OK\n",
      "Running ant (compile.gen.tests)............................................ "
     ]
    },
    {
     "name": "stdout",
     "output_type": "stream",
     "text": [
      "       Lines total: 414\n",
      "     Lines covered: 81\n",
      "  Conditions total: 450\n",
      "Conditions covered: 46\n",
      "     Line coverage: 19.6%\n",
      "Condition coverage: 10.2%\n"
     ]
    },
    {
     "name": "stderr",
     "output_type": "stream",
     "text": [
      "OK\n",
      "Running ant (coverage.instrument).......................................... OK\n",
      "Running ant (run.gen.tests)................................................ OK\n",
      "Running ant (coverage.report).............................................. OK\n",
      "Extract test suite......................................................... OK\n",
      "Running ant (compile.gen.tests)............................................ "
     ]
    },
    {
     "name": "stdout",
     "output_type": "stream",
     "text": [
      "       Lines total: 414\n",
      "     Lines covered: 110\n",
      "  Conditions total: 450\n",
      "Conditions covered: 61\n",
      "     Line coverage: 26.6%\n",
      "Condition coverage: 13.6%\n"
     ]
    },
    {
     "name": "stderr",
     "output_type": "stream",
     "text": [
      "OK\n",
      "Running ant (coverage.instrument).......................................... OK\n",
      "Running ant (run.gen.tests)................................................ OK\n",
      "Running ant (coverage.report).............................................. OK\n",
      "Extract test suite......................................................... OK\n",
      "Running ant (compile.gen.tests)............................................ "
     ]
    },
    {
     "name": "stdout",
     "output_type": "stream",
     "text": [
      "       Lines total: 414\n",
      "     Lines covered: 84\n",
      "  Conditions total: 450\n",
      "Conditions covered: 45\n",
      "     Line coverage: 20.3%\n",
      "Condition coverage: 10.0%\n"
     ]
    },
    {
     "name": "stderr",
     "output_type": "stream",
     "text": [
      "OK\n",
      "Running ant (coverage.instrument).......................................... OK\n",
      "Running ant (run.gen.tests)................................................ OK\n",
      "Running ant (coverage.report).............................................. OK\n",
      "Extract test suite......................................................... OK\n",
      "Running ant (compile.gen.tests)............................................ "
     ]
    },
    {
     "name": "stdout",
     "output_type": "stream",
     "text": [
      "       Lines total: 414\n",
      "     Lines covered: 63\n",
      "  Conditions total: 450\n",
      "Conditions covered: 29\n",
      "     Line coverage: 15.2%\n",
      "Condition coverage: 6.4%\n"
     ]
    },
    {
     "name": "stderr",
     "output_type": "stream",
     "text": [
      "OK\n",
      "Running ant (coverage.instrument).......................................... OK\n",
      "Running ant (run.gen.tests)................................................ OK\n",
      "Running ant (coverage.report).............................................. OK\n",
      "Extract test suite......................................................... OK\n",
      "Running ant (compile.gen.tests)............................................ "
     ]
    },
    {
     "name": "stdout",
     "output_type": "stream",
     "text": [
      "       Lines total: 414\n",
      "     Lines covered: 81\n",
      "  Conditions total: 450\n",
      "Conditions covered: 46\n",
      "     Line coverage: 19.6%\n",
      "Condition coverage: 10.2%\n"
     ]
    },
    {
     "name": "stderr",
     "output_type": "stream",
     "text": [
      "OK\n",
      "Running ant (coverage.instrument).......................................... OK\n",
      "Running ant (run.gen.tests)................................................ OK\n",
      "Running ant (coverage.report).............................................. OK\n",
      "Extract test suite......................................................... OK\n",
      "Running ant (compile.gen.tests)............................................ "
     ]
    },
    {
     "name": "stdout",
     "output_type": "stream",
     "text": [
      "       Lines total: 414\n",
      "     Lines covered: 44\n",
      "  Conditions total: 450\n",
      "Conditions covered: 8\n",
      "     Line coverage: 10.6%\n",
      "Condition coverage: 1.8%\n"
     ]
    },
    {
     "name": "stderr",
     "output_type": "stream",
     "text": [
      "OK\n",
      "Running ant (coverage.instrument).......................................... OK\n",
      "Running ant (run.gen.tests)................................................ OK\n",
      "Running ant (coverage.report).............................................. OK\n",
      "Extract test suite......................................................... OK\n",
      "Running ant (compile.gen.tests)............................................ "
     ]
    },
    {
     "name": "stdout",
     "output_type": "stream",
     "text": [
      "       Lines total: 414\n",
      "     Lines covered: 99\n",
      "  Conditions total: 450\n",
      "Conditions covered: 59\n",
      "     Line coverage: 23.9%\n",
      "Condition coverage: 13.1%\n"
     ]
    },
    {
     "name": "stderr",
     "output_type": "stream",
     "text": [
      "OK\n",
      "Running ant (coverage.instrument).......................................... OK\n",
      "Running ant (run.gen.tests)................................................ OK\n",
      "Running ant (coverage.report).............................................. OK\n",
      "Extract test suite......................................................... OK\n",
      "Running ant (compile.gen.tests)............................................ "
     ]
    },
    {
     "name": "stdout",
     "output_type": "stream",
     "text": [
      "       Lines total: 414\n",
      "     Lines covered: 53\n",
      "  Conditions total: 450\n",
      "Conditions covered: 12\n",
      "     Line coverage: 12.8%\n",
      "Condition coverage: 2.7%\n"
     ]
    },
    {
     "name": "stderr",
     "output_type": "stream",
     "text": [
      "OK\n",
      "Running ant (coverage.instrument).......................................... OK\n",
      "Running ant (run.gen.tests)................................................ OK\n",
      "Running ant (coverage.report).............................................. OK\n",
      "Extract test suite......................................................... OK\n",
      "Running ant (compile.gen.tests)............................................ "
     ]
    },
    {
     "name": "stdout",
     "output_type": "stream",
     "text": [
      "       Lines total: 414\n",
      "     Lines covered: 78\n",
      "  Conditions total: 450\n",
      "Conditions covered: 35\n",
      "     Line coverage: 18.8%\n",
      "Condition coverage: 7.8%\n"
     ]
    },
    {
     "name": "stderr",
     "output_type": "stream",
     "text": [
      "OK\n",
      "Running ant (coverage.instrument).......................................... OK\n",
      "Running ant (run.gen.tests)................................................ OK\n",
      "Running ant (coverage.report).............................................. OK\n",
      "Extract test suite......................................................... OK\n",
      "Running ant (compile.gen.tests)............................................ "
     ]
    },
    {
     "name": "stdout",
     "output_type": "stream",
     "text": [
      "       Lines total: 414\n",
      "     Lines covered: 49\n",
      "  Conditions total: 450\n",
      "Conditions covered: 11\n",
      "     Line coverage: 11.8%\n",
      "Condition coverage: 2.4%\n"
     ]
    },
    {
     "name": "stderr",
     "output_type": "stream",
     "text": [
      "OK\n",
      "Running ant (coverage.instrument).......................................... OK\n",
      "Running ant (run.gen.tests)................................................ OK\n",
      "Running ant (coverage.report).............................................. OK\n",
      "Extract test suite......................................................... OK\n",
      "Running ant (compile.gen.tests)............................................ "
     ]
    },
    {
     "name": "stdout",
     "output_type": "stream",
     "text": [
      "       Lines total: 414\n",
      "     Lines covered: 28\n",
      "  Conditions total: 450\n",
      "Conditions covered: 5\n",
      "     Line coverage: 6.8%\n",
      "Condition coverage: 1.1%\n"
     ]
    },
    {
     "name": "stderr",
     "output_type": "stream",
     "text": [
      "OK\n",
      "Running ant (coverage.instrument).......................................... OK\n",
      "Running ant (run.gen.tests)................................................ OK\n",
      "Running ant (coverage.report).............................................. OK\n",
      "Extract test suite......................................................... OK\n",
      "Running ant (compile.gen.tests)............................................ "
     ]
    },
    {
     "name": "stdout",
     "output_type": "stream",
     "text": [
      "       Lines total: 414\n",
      "     Lines covered: 24\n",
      "  Conditions total: 450\n",
      "Conditions covered: 4\n",
      "     Line coverage: 5.8%\n",
      "Condition coverage: 0.9%\n"
     ]
    },
    {
     "name": "stderr",
     "output_type": "stream",
     "text": [
      "OK\n",
      "Running ant (coverage.instrument).......................................... OK\n",
      "Running ant (run.gen.tests)................................................ OK\n",
      "Running ant (coverage.report).............................................. OK\n",
      "Extract test suite......................................................... OK\n",
      "Running ant (compile.gen.tests)............................................ "
     ]
    },
    {
     "name": "stdout",
     "output_type": "stream",
     "text": [
      "       Lines total: 414\n",
      "     Lines covered: 180\n",
      "  Conditions total: 450\n",
      "Conditions covered: 112\n",
      "     Line coverage: 43.5%\n",
      "Condition coverage: 24.9%\n"
     ]
    },
    {
     "name": "stderr",
     "output_type": "stream",
     "text": [
      "OK\n",
      "Running ant (coverage.instrument).......................................... OK\n",
      "Running ant (run.gen.tests)................................................ OK\n",
      "Running ant (coverage.report).............................................. OK\n",
      "Extract test suite......................................................... OK\n",
      "Running ant (compile.gen.tests)............................................ "
     ]
    },
    {
     "name": "stdout",
     "output_type": "stream",
     "text": [
      "       Lines total: 414\n",
      "     Lines covered: 35\n",
      "  Conditions total: 450\n",
      "Conditions covered: 18\n",
      "     Line coverage: 8.5%\n",
      "Condition coverage: 4.0%\n"
     ]
    },
    {
     "name": "stderr",
     "output_type": "stream",
     "text": [
      "OK\n",
      "Running ant (coverage.instrument).......................................... OK\n",
      "Running ant (run.gen.tests)................................................ OK\n",
      "Running ant (coverage.report).............................................. OK\n",
      "Extract test suite......................................................... OK\n",
      "Running ant (compile.gen.tests)............................................ "
     ]
    },
    {
     "name": "stdout",
     "output_type": "stream",
     "text": [
      "       Lines total: 414\n",
      "     Lines covered: 8\n",
      "  Conditions total: 450\n",
      "Conditions covered: 0\n",
      "     Line coverage: 1.9%\n",
      "Condition coverage: 0.0%\n"
     ]
    },
    {
     "name": "stderr",
     "output_type": "stream",
     "text": [
      "OK\n",
      "Running ant (coverage.instrument).......................................... OK\n",
      "Running ant (run.gen.tests)................................................ OK\n",
      "Running ant (coverage.report).............................................. OK\n",
      "Extract test suite......................................................... OK\n",
      "Running ant (compile.gen.tests)............................................ "
     ]
    },
    {
     "name": "stdout",
     "output_type": "stream",
     "text": [
      "       Lines total: 414\n",
      "     Lines covered: 36\n",
      "  Conditions total: 450\n",
      "Conditions covered: 19\n",
      "     Line coverage: 8.7%\n",
      "Condition coverage: 4.2%\n"
     ]
    },
    {
     "name": "stderr",
     "output_type": "stream",
     "text": [
      "OK\n",
      "Running ant (coverage.instrument).......................................... OK\n",
      "Running ant (run.gen.tests)................................................ OK\n",
      "Running ant (coverage.report).............................................. OK\n",
      "Extract test suite......................................................... OK\n",
      "Running ant (compile.gen.tests)............................................ "
     ]
    },
    {
     "name": "stdout",
     "output_type": "stream",
     "text": [
      "       Lines total: 414\n",
      "     Lines covered: 42\n",
      "  Conditions total: 450\n",
      "Conditions covered: 8\n",
      "     Line coverage: 10.1%\n",
      "Condition coverage: 1.8%\n"
     ]
    },
    {
     "name": "stderr",
     "output_type": "stream",
     "text": [
      "OK\n",
      "Running ant (coverage.instrument).......................................... OK\n",
      "Running ant (run.gen.tests)................................................ OK\n",
      "Running ant (coverage.report).............................................. OK\n",
      "Extract test suite......................................................... OK\n",
      "Running ant (compile.gen.tests)............................................ "
     ]
    },
    {
     "name": "stdout",
     "output_type": "stream",
     "text": [
      "       Lines total: 414\n",
      "     Lines covered: 45\n",
      "  Conditions total: 450\n",
      "Conditions covered: 8\n",
      "     Line coverage: 10.9%\n",
      "Condition coverage: 1.8%\n"
     ]
    },
    {
     "name": "stderr",
     "output_type": "stream",
     "text": [
      "OK\n",
      "Running ant (coverage.instrument).......................................... OK\n",
      "Running ant (run.gen.tests)................................................ OK\n",
      "Running ant (coverage.report).............................................. OK\n",
      "Extract test suite......................................................... OK\n",
      "Running ant (compile.gen.tests)............................................ "
     ]
    },
    {
     "name": "stdout",
     "output_type": "stream",
     "text": [
      "       Lines total: 414\n",
      "     Lines covered: 38\n",
      "  Conditions total: 450\n",
      "Conditions covered: 7\n",
      "     Line coverage: 9.2%\n",
      "Condition coverage: 1.6%\n"
     ]
    },
    {
     "name": "stderr",
     "output_type": "stream",
     "text": [
      "OK\n",
      "Running ant (coverage.instrument).......................................... OK\n",
      "Running ant (run.gen.tests)................................................ OK\n",
      "Running ant (coverage.report).............................................. OK\n",
      "Extract test suite......................................................... OK\n",
      "Running ant (compile.gen.tests)............................................ "
     ]
    },
    {
     "name": "stdout",
     "output_type": "stream",
     "text": [
      "       Lines total: 414\n",
      "     Lines covered: 50\n",
      "  Conditions total: 450\n",
      "Conditions covered: 12\n",
      "     Line coverage: 12.1%\n",
      "Condition coverage: 2.7%\n"
     ]
    },
    {
     "name": "stderr",
     "output_type": "stream",
     "text": [
      "OK\n",
      "Running ant (coverage.instrument).......................................... OK\n",
      "Running ant (run.gen.tests)................................................ OK\n",
      "Running ant (coverage.report).............................................. OK\n",
      "Extract test suite......................................................... OK\n",
      "Running ant (compile.gen.tests)............................................ "
     ]
    },
    {
     "name": "stdout",
     "output_type": "stream",
     "text": [
      "       Lines total: 414\n",
      "     Lines covered: 99\n",
      "  Conditions total: 450\n",
      "Conditions covered: 56\n",
      "     Line coverage: 23.9%\n",
      "Condition coverage: 12.4%\n"
     ]
    },
    {
     "name": "stderr",
     "output_type": "stream",
     "text": [
      "OK\n",
      "Running ant (coverage.instrument).......................................... OK\n",
      "Running ant (run.gen.tests)................................................ OK\n",
      "Running ant (coverage.report).............................................. OK\n",
      "Extract test suite......................................................... OK\n",
      "Running ant (compile.gen.tests)............................................ "
     ]
    },
    {
     "name": "stdout",
     "output_type": "stream",
     "text": [
      "       Lines total: 414\n",
      "     Lines covered: 45\n",
      "  Conditions total: 450\n",
      "Conditions covered: 8\n",
      "     Line coverage: 10.9%\n",
      "Condition coverage: 1.8%\n"
     ]
    },
    {
     "name": "stderr",
     "output_type": "stream",
     "text": [
      "OK\n",
      "Running ant (coverage.instrument).......................................... OK\n",
      "Running ant (run.gen.tests)................................................ OK\n",
      "Running ant (coverage.report).............................................. OK\n",
      "Extract test suite......................................................... OK\n",
      "Running ant (compile.gen.tests)............................................ "
     ]
    },
    {
     "name": "stdout",
     "output_type": "stream",
     "text": [
      "       Lines total: 414\n",
      "     Lines covered: 40\n",
      "  Conditions total: 450\n",
      "Conditions covered: 20\n",
      "     Line coverage: 9.7%\n",
      "Condition coverage: 4.4%\n"
     ]
    },
    {
     "name": "stderr",
     "output_type": "stream",
     "text": [
      "OK\n",
      "Running ant (coverage.instrument).......................................... OK\n",
      "Running ant (run.gen.tests)................................................ OK\n",
      "Running ant (coverage.report).............................................. OK\n",
      "Extract test suite......................................................... OK\n",
      "Running ant (compile.gen.tests)............................................ "
     ]
    },
    {
     "name": "stdout",
     "output_type": "stream",
     "text": [
      "       Lines total: 414\n",
      "     Lines covered: 79\n",
      "  Conditions total: 450\n",
      "Conditions covered: 41\n",
      "     Line coverage: 19.1%\n",
      "Condition coverage: 9.1%\n"
     ]
    },
    {
     "name": "stderr",
     "output_type": "stream",
     "text": [
      "OK\n",
      "Running ant (coverage.instrument).......................................... OK\n",
      "Running ant (run.gen.tests)................................................ OK\n",
      "Running ant (coverage.report).............................................. OK\n",
      "Extract test suite......................................................... OK\n",
      "Running ant (compile.gen.tests)............................................ "
     ]
    },
    {
     "name": "stdout",
     "output_type": "stream",
     "text": [
      "       Lines total: 414\n",
      "     Lines covered: 94\n",
      "  Conditions total: 450\n",
      "Conditions covered: 55\n",
      "     Line coverage: 22.7%\n",
      "Condition coverage: 12.2%\n"
     ]
    },
    {
     "name": "stderr",
     "output_type": "stream",
     "text": [
      "OK\n",
      "Running ant (coverage.instrument).......................................... OK\n",
      "Running ant (run.gen.tests)................................................ OK\n",
      "Running ant (coverage.report).............................................. OK\n",
      "Extract test suite......................................................... OK\n",
      "Running ant (compile.gen.tests)............................................ "
     ]
    },
    {
     "name": "stdout",
     "output_type": "stream",
     "text": [
      "       Lines total: 414\n",
      "     Lines covered: 47\n",
      "  Conditions total: 450\n",
      "Conditions covered: 10\n",
      "     Line coverage: 11.4%\n",
      "Condition coverage: 2.2%\n"
     ]
    },
    {
     "name": "stderr",
     "output_type": "stream",
     "text": [
      "OK\n",
      "Running ant (coverage.instrument).......................................... OK\n",
      "Running ant (run.gen.tests)................................................ OK\n",
      "Running ant (coverage.report).............................................. OK\n",
      "Extract test suite......................................................... OK\n",
      "Running ant (compile.gen.tests)............................................ "
     ]
    },
    {
     "name": "stdout",
     "output_type": "stream",
     "text": [
      "       Lines total: 414\n",
      "     Lines covered: 113\n",
      "  Conditions total: 450\n",
      "Conditions covered: 61\n",
      "     Line coverage: 27.3%\n",
      "Condition coverage: 13.6%\n"
     ]
    },
    {
     "name": "stderr",
     "output_type": "stream",
     "text": [
      "OK\n",
      "Running ant (coverage.instrument).......................................... OK\n",
      "Running ant (run.gen.tests)................................................ OK\n",
      "Running ant (coverage.report).............................................. OK\n",
      "Extract test suite......................................................... OK\n",
      "Running ant (compile.gen.tests)............................................ "
     ]
    },
    {
     "name": "stdout",
     "output_type": "stream",
     "text": [
      "       Lines total: 414\n",
      "     Lines covered: 42\n",
      "  Conditions total: 450\n",
      "Conditions covered: 7\n",
      "     Line coverage: 10.1%\n",
      "Condition coverage: 1.6%\n"
     ]
    },
    {
     "name": "stderr",
     "output_type": "stream",
     "text": [
      "OK\n",
      "Running ant (coverage.instrument).......................................... OK\n",
      "Running ant (run.gen.tests)................................................ OK\n",
      "Running ant (coverage.report).............................................. OK\n",
      "Extract test suite......................................................... OK\n",
      "Running ant (compile.gen.tests)............................................ "
     ]
    },
    {
     "name": "stdout",
     "output_type": "stream",
     "text": [
      "       Lines total: 414\n",
      "     Lines covered: 38\n",
      "  Conditions total: 450\n",
      "Conditions covered: 9\n",
      "     Line coverage: 9.2%\n",
      "Condition coverage: 2.0%\n"
     ]
    },
    {
     "name": "stderr",
     "output_type": "stream",
     "text": [
      "OK\n",
      "Running ant (coverage.instrument).......................................... OK\n",
      "Running ant (run.gen.tests)................................................ OK\n",
      "Running ant (coverage.report).............................................. OK\n",
      "Extract test suite......................................................... OK\n",
      "Running ant (compile.gen.tests)............................................ "
     ]
    },
    {
     "name": "stdout",
     "output_type": "stream",
     "text": [
      "       Lines total: 414\n",
      "     Lines covered: 39\n",
      "  Conditions total: 450\n",
      "Conditions covered: 8\n",
      "     Line coverage: 9.4%\n",
      "Condition coverage: 1.8%\n"
     ]
    },
    {
     "name": "stderr",
     "output_type": "stream",
     "text": [
      "OK\n",
      "Running ant (coverage.instrument).......................................... OK\n",
      "Running ant (run.gen.tests)................................................ OK\n",
      "Running ant (coverage.report).............................................. OK\n",
      "Extract test suite......................................................... OK\n",
      "Running ant (compile.gen.tests)............................................ "
     ]
    },
    {
     "name": "stdout",
     "output_type": "stream",
     "text": [
      "       Lines total: 414\n",
      "     Lines covered: 7\n",
      "  Conditions total: 450\n",
      "Conditions covered: 2\n",
      "     Line coverage: 1.7%\n",
      "Condition coverage: 0.4%\n"
     ]
    },
    {
     "name": "stderr",
     "output_type": "stream",
     "text": [
      "OK\n",
      "Running ant (coverage.instrument).......................................... OK\n",
      "Running ant (run.gen.tests)................................................ OK\n",
      "Running ant (coverage.report).............................................. OK\n",
      "Extract test suite......................................................... OK\n",
      "Running ant (compile.gen.tests)............................................ "
     ]
    },
    {
     "name": "stdout",
     "output_type": "stream",
     "text": [
      "       Lines total: 414\n",
      "     Lines covered: 83\n",
      "  Conditions total: 450\n",
      "Conditions covered: 47\n",
      "     Line coverage: 20.0%\n",
      "Condition coverage: 10.4%\n"
     ]
    },
    {
     "name": "stderr",
     "output_type": "stream",
     "text": [
      "OK\n",
      "Running ant (coverage.instrument).......................................... OK\n",
      "Running ant (run.gen.tests)................................................ OK\n",
      "Running ant (coverage.report).............................................. OK\n",
      "Extract test suite......................................................... OK\n",
      "Running ant (compile.gen.tests)............................................ "
     ]
    },
    {
     "name": "stdout",
     "output_type": "stream",
     "text": [
      "       Lines total: 414\n",
      "     Lines covered: 39\n",
      "  Conditions total: 450\n",
      "Conditions covered: 10\n",
      "     Line coverage: 9.4%\n",
      "Condition coverage: 2.2%\n"
     ]
    },
    {
     "name": "stderr",
     "output_type": "stream",
     "text": [
      "OK\n",
      "Running ant (coverage.instrument).......................................... OK\n",
      "Running ant (run.gen.tests)................................................ OK\n",
      "Running ant (coverage.report).............................................. OK\n",
      "Extract test suite......................................................... OK\n",
      "Running ant (compile.gen.tests)............................................ "
     ]
    },
    {
     "name": "stdout",
     "output_type": "stream",
     "text": [
      "       Lines total: 414\n",
      "     Lines covered: 64\n",
      "  Conditions total: 450\n",
      "Conditions covered: 29\n",
      "     Line coverage: 15.5%\n",
      "Condition coverage: 6.4%\n"
     ]
    },
    {
     "name": "stderr",
     "output_type": "stream",
     "text": [
      "OK\n",
      "Running ant (coverage.instrument).......................................... OK\n",
      "Running ant (run.gen.tests)................................................ OK\n",
      "Running ant (coverage.report).............................................. OK\n",
      "Extract test suite......................................................... OK\n",
      "Running ant (compile.gen.tests)............................................ "
     ]
    },
    {
     "name": "stdout",
     "output_type": "stream",
     "text": [
      "       Lines total: 414\n",
      "     Lines covered: 33\n",
      "  Conditions total: 450\n",
      "Conditions covered: 6\n",
      "     Line coverage: 8.0%\n",
      "Condition coverage: 1.3%\n"
     ]
    },
    {
     "name": "stderr",
     "output_type": "stream",
     "text": [
      "OK\n",
      "Running ant (coverage.instrument).......................................... OK\n",
      "Running ant (run.gen.tests)................................................ OK\n",
      "Running ant (coverage.report).............................................. OK\n",
      "Extract test suite......................................................... OK\n",
      "Running ant (compile.gen.tests)............................................ "
     ]
    },
    {
     "name": "stdout",
     "output_type": "stream",
     "text": [
      "       Lines total: 414\n",
      "     Lines covered: 158\n",
      "  Conditions total: 450\n",
      "Conditions covered: 110\n",
      "     Line coverage: 38.2%\n",
      "Condition coverage: 24.4%\n"
     ]
    },
    {
     "name": "stderr",
     "output_type": "stream",
     "text": [
      "OK\n",
      "Running ant (coverage.instrument).......................................... OK\n",
      "Running ant (run.gen.tests)................................................ OK\n",
      "Running ant (coverage.report).............................................. OK\n",
      "Extract test suite......................................................... OK\n",
      "Running ant (compile.gen.tests)............................................ "
     ]
    },
    {
     "name": "stdout",
     "output_type": "stream",
     "text": [
      "       Lines total: 414\n",
      "     Lines covered: 17\n",
      "  Conditions total: 450\n",
      "Conditions covered: 3\n",
      "     Line coverage: 4.1%\n",
      "Condition coverage: 0.7%\n"
     ]
    },
    {
     "name": "stderr",
     "output_type": "stream",
     "text": [
      "OK\n",
      "Running ant (coverage.instrument).......................................... OK\n",
      "Running ant (run.gen.tests)................................................ OK\n",
      "Running ant (coverage.report).............................................. OK\n",
      "Extract test suite......................................................... OK\n",
      "Running ant (compile.gen.tests)............................................ "
     ]
    },
    {
     "name": "stdout",
     "output_type": "stream",
     "text": [
      "       Lines total: 414\n",
      "     Lines covered: 39\n",
      "  Conditions total: 450\n",
      "Conditions covered: 20\n",
      "     Line coverage: 9.4%\n",
      "Condition coverage: 4.4%\n"
     ]
    },
    {
     "name": "stderr",
     "output_type": "stream",
     "text": [
      "OK\n",
      "Running ant (coverage.instrument).......................................... OK\n",
      "Running ant (run.gen.tests)................................................ OK\n",
      "Running ant (coverage.report).............................................. OK\n",
      "Extract test suite......................................................... OK\n",
      "Running ant (compile.gen.tests)............................................ "
     ]
    },
    {
     "name": "stdout",
     "output_type": "stream",
     "text": [
      "       Lines total: 414\n",
      "     Lines covered: 98\n",
      "  Conditions total: 450\n",
      "Conditions covered: 52\n",
      "     Line coverage: 23.7%\n",
      "Condition coverage: 11.6%\n"
     ]
    },
    {
     "name": "stderr",
     "output_type": "stream",
     "text": [
      "OK\n",
      "Running ant (coverage.instrument).......................................... OK\n",
      "Running ant (run.gen.tests)................................................ OK\n",
      "Running ant (coverage.report).............................................. OK\n",
      "Extract test suite......................................................... OK\n",
      "Running ant (compile.gen.tests)............................................ "
     ]
    },
    {
     "name": "stdout",
     "output_type": "stream",
     "text": [
      "       Lines total: 414\n",
      "     Lines covered: 47\n",
      "  Conditions total: 450\n",
      "Conditions covered: 12\n",
      "     Line coverage: 11.4%\n",
      "Condition coverage: 2.7%\n"
     ]
    },
    {
     "name": "stderr",
     "output_type": "stream",
     "text": [
      "OK\n",
      "Running ant (coverage.instrument).......................................... OK\n",
      "Running ant (run.gen.tests)................................................ OK\n",
      "Running ant (coverage.report).............................................. OK\n",
      "Extract test suite......................................................... OK\n",
      "Running ant (compile.gen.tests)............................................ "
     ]
    },
    {
     "name": "stdout",
     "output_type": "stream",
     "text": [
      "       Lines total: 414\n",
      "     Lines covered: 7\n",
      "  Conditions total: 450\n",
      "Conditions covered: 2\n",
      "     Line coverage: 1.7%\n",
      "Condition coverage: 0.4%\n"
     ]
    },
    {
     "name": "stderr",
     "output_type": "stream",
     "text": [
      "OK\n",
      "Running ant (coverage.instrument).......................................... OK\n",
      "Running ant (run.gen.tests)................................................ OK\n",
      "Running ant (coverage.report).............................................. OK\n",
      "Extract test suite......................................................... OK\n",
      "Running ant (compile.gen.tests)............................................ "
     ]
    },
    {
     "name": "stdout",
     "output_type": "stream",
     "text": [
      "       Lines total: 414\n",
      "     Lines covered: 96\n",
      "  Conditions total: 450\n",
      "Conditions covered: 57\n",
      "     Line coverage: 23.2%\n",
      "Condition coverage: 12.7%\n"
     ]
    },
    {
     "name": "stderr",
     "output_type": "stream",
     "text": [
      "OK\n",
      "Running ant (coverage.instrument).......................................... OK\n",
      "Running ant (run.gen.tests)................................................ OK\n",
      "Running ant (coverage.report).............................................. OK\n",
      "Extract test suite......................................................... OK\n",
      "Running ant (compile.gen.tests)............................................ "
     ]
    },
    {
     "name": "stdout",
     "output_type": "stream",
     "text": [
      "       Lines total: 414\n",
      "     Lines covered: 42\n",
      "  Conditions total: 450\n",
      "Conditions covered: 8\n",
      "     Line coverage: 10.1%\n",
      "Condition coverage: 1.8%\n"
     ]
    },
    {
     "name": "stderr",
     "output_type": "stream",
     "text": [
      "OK\n",
      "Running ant (coverage.instrument).......................................... OK\n",
      "Running ant (run.gen.tests)................................................ OK\n",
      "Running ant (coverage.report).............................................. OK\n",
      "Extract test suite......................................................... OK\n",
      "Running ant (compile.gen.tests)............................................ "
     ]
    },
    {
     "name": "stdout",
     "output_type": "stream",
     "text": [
      "       Lines total: 414\n",
      "     Lines covered: 37\n",
      "  Conditions total: 450\n",
      "Conditions covered: 7\n",
      "     Line coverage: 8.9%\n",
      "Condition coverage: 1.6%\n"
     ]
    },
    {
     "name": "stderr",
     "output_type": "stream",
     "text": [
      "OK\n",
      "Running ant (coverage.instrument).......................................... OK\n",
      "Running ant (run.gen.tests)................................................ OK\n",
      "Running ant (coverage.report).............................................. OK\n",
      "Extract test suite......................................................... OK\n",
      "Running ant (compile.gen.tests)............................................ "
     ]
    },
    {
     "name": "stdout",
     "output_type": "stream",
     "text": [
      "       Lines total: 414\n",
      "     Lines covered: 77\n",
      "  Conditions total: 450\n",
      "Conditions covered: 44\n",
      "     Line coverage: 18.6%\n",
      "Condition coverage: 9.8%\n"
     ]
    },
    {
     "name": "stderr",
     "output_type": "stream",
     "text": [
      "OK\n",
      "Running ant (coverage.instrument).......................................... OK\n",
      "Running ant (run.gen.tests)................................................ OK\n",
      "Running ant (coverage.report).............................................. OK\n",
      "Extract test suite......................................................... OK\n",
      "Running ant (compile.gen.tests)............................................ "
     ]
    },
    {
     "name": "stdout",
     "output_type": "stream",
     "text": [
      "       Lines total: 414\n",
      "     Lines covered: 99\n",
      "  Conditions total: 450\n",
      "Conditions covered: 58\n",
      "     Line coverage: 23.9%\n",
      "Condition coverage: 12.9%\n"
     ]
    },
    {
     "name": "stderr",
     "output_type": "stream",
     "text": [
      "OK\n",
      "Running ant (coverage.instrument).......................................... OK\n",
      "Running ant (run.gen.tests)................................................ OK\n",
      "Running ant (coverage.report).............................................. OK\n",
      "Extract test suite......................................................... OK\n",
      "Running ant (compile.gen.tests)............................................ "
     ]
    },
    {
     "name": "stdout",
     "output_type": "stream",
     "text": [
      "       Lines total: 414\n",
      "     Lines covered: 69\n",
      "  Conditions total: 450\n",
      "Conditions covered: 31\n",
      "     Line coverage: 16.7%\n",
      "Condition coverage: 6.9%\n"
     ]
    },
    {
     "name": "stderr",
     "output_type": "stream",
     "text": [
      "OK\n",
      "Running ant (coverage.instrument).......................................... OK\n",
      "Running ant (run.gen.tests)................................................ OK\n",
      "Running ant (coverage.report).............................................. OK\n",
      "Extract test suite......................................................... OK\n",
      "Running ant (compile.gen.tests)............................................ "
     ]
    },
    {
     "name": "stdout",
     "output_type": "stream",
     "text": [
      "       Lines total: 414\n",
      "     Lines covered: 154\n",
      "  Conditions total: 450\n",
      "Conditions covered: 107\n",
      "     Line coverage: 37.2%\n",
      "Condition coverage: 23.8%\n"
     ]
    },
    {
     "name": "stderr",
     "output_type": "stream",
     "text": [
      "OK\n",
      "Running ant (coverage.instrument).......................................... OK\n",
      "Running ant (run.gen.tests)................................................ OK\n",
      "Running ant (coverage.report).............................................. OK\n",
      "Extract test suite......................................................... OK\n",
      "Running ant (compile.gen.tests)............................................ "
     ]
    },
    {
     "name": "stdout",
     "output_type": "stream",
     "text": [
      "       Lines total: 414\n",
      "     Lines covered: 49\n",
      "  Conditions total: 450\n",
      "Conditions covered: 11\n",
      "     Line coverage: 11.8%\n",
      "Condition coverage: 2.4%\n"
     ]
    },
    {
     "name": "stderr",
     "output_type": "stream",
     "text": [
      "OK\n",
      "Running ant (coverage.instrument).......................................... OK\n",
      "Running ant (run.gen.tests)................................................ OK\n",
      "Running ant (coverage.report).............................................. OK\n",
      "Extract test suite......................................................... OK\n",
      "Running ant (compile.gen.tests)............................................ "
     ]
    },
    {
     "name": "stdout",
     "output_type": "stream",
     "text": [
      "       Lines total: 414\n",
      "     Lines covered: 45\n",
      "  Conditions total: 450\n",
      "Conditions covered: 8\n",
      "     Line coverage: 10.9%\n",
      "Condition coverage: 1.8%\n"
     ]
    },
    {
     "name": "stderr",
     "output_type": "stream",
     "text": [
      "OK\n",
      "Running ant (coverage.instrument).......................................... OK\n",
      "Running ant (run.gen.tests)................................................ OK\n",
      "Running ant (coverage.report).............................................. OK\n",
      "Extract test suite......................................................... OK\n",
      "Running ant (compile.gen.tests)............................................ "
     ]
    },
    {
     "name": "stdout",
     "output_type": "stream",
     "text": [
      "       Lines total: 414\n",
      "     Lines covered: 24\n",
      "  Conditions total: 450\n",
      "Conditions covered: 3\n",
      "     Line coverage: 5.8%\n",
      "Condition coverage: 0.7%\n"
     ]
    },
    {
     "name": "stderr",
     "output_type": "stream",
     "text": [
      "OK\n",
      "Running ant (coverage.instrument).......................................... OK\n",
      "Running ant (run.gen.tests)................................................ OK\n",
      "Running ant (coverage.report).............................................. OK\n",
      "Extract test suite......................................................... OK\n",
      "Running ant (compile.gen.tests)............................................ "
     ]
    },
    {
     "name": "stdout",
     "output_type": "stream",
     "text": [
      "       Lines total: 414\n",
      "     Lines covered: 33\n",
      "  Conditions total: 450\n",
      "Conditions covered: 6\n",
      "     Line coverage: 8.0%\n",
      "Condition coverage: 1.3%\n"
     ]
    },
    {
     "name": "stderr",
     "output_type": "stream",
     "text": [
      "OK\n",
      "Running ant (coverage.instrument).......................................... OK\n",
      "Running ant (run.gen.tests)................................................ OK\n",
      "Running ant (coverage.report).............................................. OK\n",
      "Extract test suite......................................................... OK\n",
      "Running ant (compile.gen.tests)............................................ "
     ]
    },
    {
     "name": "stdout",
     "output_type": "stream",
     "text": [
      "       Lines total: 414\n",
      "     Lines covered: 20\n",
      "  Conditions total: 450\n",
      "Conditions covered: 5\n",
      "     Line coverage: 4.8%\n",
      "Condition coverage: 1.1%\n"
     ]
    },
    {
     "name": "stderr",
     "output_type": "stream",
     "text": [
      "OK\n",
      "Running ant (coverage.instrument).......................................... OK\n",
      "Running ant (run.gen.tests)................................................ OK\n",
      "Running ant (coverage.report).............................................. OK\n",
      "Extract test suite......................................................... OK\n",
      "Running ant (compile.gen.tests)............................................ "
     ]
    },
    {
     "name": "stdout",
     "output_type": "stream",
     "text": [
      "       Lines total: 414\n",
      "     Lines covered: 47\n",
      "  Conditions total: 450\n",
      "Conditions covered: 8\n",
      "     Line coverage: 11.4%\n",
      "Condition coverage: 1.8%\n"
     ]
    },
    {
     "name": "stderr",
     "output_type": "stream",
     "text": [
      "OK\n",
      "Running ant (coverage.instrument).......................................... OK\n",
      "Running ant (run.gen.tests)................................................ OK\n",
      "Running ant (coverage.report).............................................. OK\n",
      "Extract test suite......................................................... OK\n",
      "Running ant (compile.gen.tests)............................................ "
     ]
    },
    {
     "name": "stdout",
     "output_type": "stream",
     "text": [
      "       Lines total: 414\n",
      "     Lines covered: 62\n",
      "  Conditions total: 450\n",
      "Conditions covered: 29\n",
      "     Line coverage: 15.0%\n",
      "Condition coverage: 6.4%\n"
     ]
    },
    {
     "name": "stderr",
     "output_type": "stream",
     "text": [
      "OK\n",
      "Running ant (coverage.instrument).......................................... OK\n",
      "Running ant (run.gen.tests)................................................ OK\n",
      "Running ant (coverage.report).............................................. OK\n",
      "Extract test suite......................................................... OK\n",
      "Running ant (compile.gen.tests)............................................ "
     ]
    },
    {
     "name": "stdout",
     "output_type": "stream",
     "text": [
      "       Lines total: 414\n",
      "     Lines covered: 97\n",
      "  Conditions total: 450\n",
      "Conditions covered: 57\n",
      "     Line coverage: 23.4%\n",
      "Condition coverage: 12.7%\n"
     ]
    },
    {
     "name": "stderr",
     "output_type": "stream",
     "text": [
      "OK\n",
      "Running ant (coverage.instrument).......................................... OK\n",
      "Running ant (run.gen.tests)................................................ OK\n",
      "Running ant (coverage.report).............................................. OK\n",
      "Extract test suite......................................................... OK\n",
      "Running ant (compile.gen.tests)............................................ "
     ]
    },
    {
     "name": "stdout",
     "output_type": "stream",
     "text": [
      "       Lines total: 414\n",
      "     Lines covered: 49\n",
      "  Conditions total: 450\n",
      "Conditions covered: 10\n",
      "     Line coverage: 11.8%\n",
      "Condition coverage: 2.2%\n"
     ]
    },
    {
     "name": "stderr",
     "output_type": "stream",
     "text": [
      "OK\n",
      "Running ant (coverage.instrument).......................................... OK\n",
      "Running ant (run.gen.tests)................................................ OK\n",
      "Running ant (coverage.report).............................................. OK\n",
      "Extract test suite......................................................... OK\n",
      "Running ant (compile.gen.tests)............................................ "
     ]
    },
    {
     "name": "stdout",
     "output_type": "stream",
     "text": [
      "       Lines total: 414\n",
      "     Lines covered: 45\n",
      "  Conditions total: 450\n",
      "Conditions covered: 11\n",
      "     Line coverage: 10.9%\n",
      "Condition coverage: 2.4%\n"
     ]
    },
    {
     "name": "stderr",
     "output_type": "stream",
     "text": [
      "OK\n",
      "Running ant (coverage.instrument).......................................... OK\n",
      "Running ant (run.gen.tests)................................................ OK\n",
      "Running ant (coverage.report).............................................. OK\n",
      "Extract test suite......................................................... OK\n",
      "Running ant (compile.gen.tests)............................................ "
     ]
    },
    {
     "name": "stdout",
     "output_type": "stream",
     "text": [
      "       Lines total: 414\n",
      "     Lines covered: 59\n",
      "  Conditions total: 450\n",
      "Conditions covered: 28\n",
      "     Line coverage: 14.3%\n",
      "Condition coverage: 6.2%\n"
     ]
    },
    {
     "name": "stderr",
     "output_type": "stream",
     "text": [
      "OK\n",
      "Running ant (coverage.instrument).......................................... OK\n",
      "Running ant (run.gen.tests)................................................ OK\n",
      "Running ant (coverage.report).............................................. OK\n",
      "Extract test suite......................................................... OK\n",
      "Running ant (compile.gen.tests)............................................ "
     ]
    },
    {
     "name": "stdout",
     "output_type": "stream",
     "text": [
      "       Lines total: 414\n",
      "     Lines covered: 38\n",
      "  Conditions total: 450\n",
      "Conditions covered: 6\n",
      "     Line coverage: 9.2%\n",
      "Condition coverage: 1.3%\n"
     ]
    },
    {
     "name": "stderr",
     "output_type": "stream",
     "text": [
      "OK\n",
      "Running ant (coverage.instrument).......................................... OK\n",
      "Running ant (run.gen.tests)................................................ OK\n",
      "Running ant (coverage.report).............................................. OK\n",
      "Extract test suite......................................................... OK\n",
      "Running ant (compile.gen.tests)............................................ "
     ]
    },
    {
     "name": "stdout",
     "output_type": "stream",
     "text": [
      "       Lines total: 414\n",
      "     Lines covered: 40\n",
      "  Conditions total: 450\n",
      "Conditions covered: 8\n",
      "     Line coverage: 9.7%\n",
      "Condition coverage: 1.8%\n"
     ]
    },
    {
     "name": "stderr",
     "output_type": "stream",
     "text": [
      "OK\n",
      "Running ant (coverage.instrument).......................................... OK\n",
      "Running ant (run.gen.tests)................................................ OK\n",
      "Running ant (coverage.report).............................................. OK\n",
      "Extract test suite......................................................... OK\n",
      "Running ant (compile.gen.tests)............................................ "
     ]
    },
    {
     "name": "stdout",
     "output_type": "stream",
     "text": [
      "       Lines total: 414\n",
      "     Lines covered: 38\n",
      "  Conditions total: 450\n",
      "Conditions covered: 7\n",
      "     Line coverage: 9.2%\n",
      "Condition coverage: 1.6%\n"
     ]
    },
    {
     "name": "stderr",
     "output_type": "stream",
     "text": [
      "OK\n",
      "Running ant (coverage.instrument).......................................... OK\n",
      "Running ant (run.gen.tests)................................................ OK\n",
      "Running ant (coverage.report).............................................. OK\n",
      "Extract test suite......................................................... OK\n",
      "Running ant (compile.gen.tests)............................................ "
     ]
    },
    {
     "name": "stdout",
     "output_type": "stream",
     "text": [
      "       Lines total: 414\n",
      "     Lines covered: 46\n",
      "  Conditions total: 450\n",
      "Conditions covered: 10\n",
      "     Line coverage: 11.1%\n",
      "Condition coverage: 2.2%\n"
     ]
    },
    {
     "name": "stderr",
     "output_type": "stream",
     "text": [
      "OK\n",
      "Running ant (coverage.instrument).......................................... OK\n",
      "Running ant (run.gen.tests)................................................ OK\n",
      "Running ant (coverage.report).............................................. OK\n",
      "Extract test suite......................................................... OK\n",
      "Running ant (compile.gen.tests)............................................ "
     ]
    },
    {
     "name": "stdout",
     "output_type": "stream",
     "text": [
      "       Lines total: 414\n",
      "     Lines covered: 45\n",
      "  Conditions total: 450\n",
      "Conditions covered: 10\n",
      "     Line coverage: 10.9%\n",
      "Condition coverage: 2.2%\n"
     ]
    },
    {
     "name": "stderr",
     "output_type": "stream",
     "text": [
      "OK\n",
      "Running ant (coverage.instrument).......................................... OK\n",
      "Running ant (run.gen.tests)................................................ OK\n",
      "Running ant (coverage.report).............................................. OK\n",
      "Extract test suite......................................................... OK\n",
      "Running ant (compile.gen.tests)............................................ "
     ]
    },
    {
     "name": "stdout",
     "output_type": "stream",
     "text": [
      "       Lines total: 414\n",
      "     Lines covered: 22\n",
      "  Conditions total: 450\n",
      "Conditions covered: 6\n",
      "     Line coverage: 5.3%\n",
      "Condition coverage: 1.3%\n"
     ]
    },
    {
     "name": "stderr",
     "output_type": "stream",
     "text": [
      "OK\n",
      "Running ant (coverage.instrument).......................................... OK\n",
      "Running ant (run.gen.tests)................................................ OK\n",
      "Running ant (coverage.report).............................................. OK\n",
      "Extract test suite......................................................... OK\n",
      "Running ant (compile.gen.tests)............................................ "
     ]
    },
    {
     "name": "stdout",
     "output_type": "stream",
     "text": [
      "       Lines total: 414\n",
      "     Lines covered: 39\n",
      "  Conditions total: 450\n",
      "Conditions covered: 19\n",
      "     Line coverage: 9.4%\n",
      "Condition coverage: 4.2%\n"
     ]
    },
    {
     "name": "stderr",
     "output_type": "stream",
     "text": [
      "OK\n",
      "Running ant (coverage.instrument).......................................... OK\n",
      "Running ant (run.gen.tests)................................................ OK\n",
      "Running ant (coverage.report).............................................. OK\n",
      "Extract test suite......................................................... OK\n",
      "Running ant (compile.gen.tests)............................................ "
     ]
    },
    {
     "name": "stdout",
     "output_type": "stream",
     "text": [
      "       Lines total: 414\n",
      "     Lines covered: 61\n",
      "  Conditions total: 450\n",
      "Conditions covered: 27\n",
      "     Line coverage: 14.7%\n",
      "Condition coverage: 6.0%\n"
     ]
    },
    {
     "name": "stderr",
     "output_type": "stream",
     "text": [
      "OK\n",
      "Running ant (coverage.instrument).......................................... OK\n",
      "Running ant (run.gen.tests)................................................ OK\n",
      "Running ant (coverage.report).............................................. OK\n",
      "Extract test suite......................................................... OK\n",
      "Running ant (compile.gen.tests)............................................ "
     ]
    },
    {
     "name": "stdout",
     "output_type": "stream",
     "text": [
      "       Lines total: 414\n",
      "     Lines covered: 33\n",
      "  Conditions total: 450\n",
      "Conditions covered: 6\n",
      "     Line coverage: 8.0%\n",
      "Condition coverage: 1.3%\n"
     ]
    },
    {
     "name": "stderr",
     "output_type": "stream",
     "text": [
      "OK\n",
      "Running ant (coverage.instrument).......................................... OK\n",
      "Running ant (run.gen.tests)................................................ OK\n",
      "Running ant (coverage.report).............................................. OK\n",
      "Extract test suite......................................................... OK\n",
      "Running ant (compile.gen.tests)............................................ "
     ]
    },
    {
     "name": "stdout",
     "output_type": "stream",
     "text": [
      "       Lines total: 414\n",
      "     Lines covered: 86\n",
      "  Conditions total: 450\n",
      "Conditions covered: 49\n",
      "     Line coverage: 20.8%\n",
      "Condition coverage: 10.9%\n"
     ]
    },
    {
     "name": "stderr",
     "output_type": "stream",
     "text": [
      "OK\n",
      "Running ant (coverage.instrument).......................................... OK\n",
      "Running ant (run.gen.tests)................................................ OK\n",
      "Running ant (coverage.report).............................................. OK\n",
      "Extract test suite......................................................... OK\n",
      "Running ant (compile.gen.tests)............................................ "
     ]
    },
    {
     "name": "stdout",
     "output_type": "stream",
     "text": [
      "       Lines total: 414\n",
      "     Lines covered: 111\n",
      "  Conditions total: 450\n",
      "Conditions covered: 61\n",
      "     Line coverage: 26.8%\n",
      "Condition coverage: 13.6%\n"
     ]
    },
    {
     "name": "stderr",
     "output_type": "stream",
     "text": [
      "OK\n",
      "Running ant (coverage.instrument).......................................... OK\n",
      "Running ant (run.gen.tests)................................................ OK\n",
      "Running ant (coverage.report).............................................. OK\n",
      "Extract test suite......................................................... OK\n",
      "Running ant (compile.gen.tests)............................................ "
     ]
    },
    {
     "name": "stdout",
     "output_type": "stream",
     "text": [
      "       Lines total: 414\n",
      "     Lines covered: 185\n",
      "  Conditions total: 450\n",
      "Conditions covered: 115\n",
      "     Line coverage: 44.7%\n",
      "Condition coverage: 25.6%\n"
     ]
    },
    {
     "name": "stderr",
     "output_type": "stream",
     "text": [
      "OK\n",
      "Running ant (coverage.instrument).......................................... OK\n",
      "Running ant (run.gen.tests)................................................ OK\n",
      "Running ant (coverage.report).............................................. OK\n",
      "Extract test suite......................................................... OK\n",
      "Running ant (compile.gen.tests)............................................ "
     ]
    },
    {
     "name": "stdout",
     "output_type": "stream",
     "text": [
      "       Lines total: 414\n",
      "     Lines covered: 89\n",
      "  Conditions total: 450\n",
      "Conditions covered: 52\n",
      "     Line coverage: 21.5%\n",
      "Condition coverage: 11.6%\n"
     ]
    },
    {
     "name": "stderr",
     "output_type": "stream",
     "text": [
      "OK\n",
      "Running ant (coverage.instrument).......................................... OK\n",
      "Running ant (run.gen.tests)................................................ OK\n",
      "Running ant (coverage.report).............................................. OK\n",
      "Extract test suite......................................................... OK\n",
      "Running ant (compile.gen.tests)............................................ "
     ]
    },
    {
     "name": "stdout",
     "output_type": "stream",
     "text": [
      "       Lines total: 414\n",
      "     Lines covered: 35\n",
      "  Conditions total: 450\n",
      "Conditions covered: 18\n",
      "     Line coverage: 8.5%\n",
      "Condition coverage: 4.0%\n"
     ]
    },
    {
     "name": "stderr",
     "output_type": "stream",
     "text": [
      "OK\n",
      "Running ant (coverage.instrument).......................................... OK\n",
      "Running ant (run.gen.tests)................................................ OK\n",
      "Running ant (coverage.report).............................................. OK\n",
      "Extract test suite......................................................... OK\n",
      "Running ant (compile.gen.tests)............................................ "
     ]
    },
    {
     "name": "stdout",
     "output_type": "stream",
     "text": [
      "       Lines total: 414\n",
      "     Lines covered: 24\n",
      "  Conditions total: 450\n",
      "Conditions covered: 4\n",
      "     Line coverage: 5.8%\n",
      "Condition coverage: 0.9%\n"
     ]
    },
    {
     "name": "stderr",
     "output_type": "stream",
     "text": [
      "OK\n",
      "Running ant (coverage.instrument).......................................... OK\n",
      "Running ant (run.gen.tests)................................................ OK\n",
      "Running ant (coverage.report).............................................. OK\n",
      "Extract test suite......................................................... OK\n",
      "Running ant (compile.gen.tests)............................................ "
     ]
    },
    {
     "name": "stdout",
     "output_type": "stream",
     "text": [
      "       Lines total: 414\n",
      "     Lines covered: 47\n",
      "  Conditions total: 450\n",
      "Conditions covered: 8\n",
      "     Line coverage: 11.4%\n",
      "Condition coverage: 1.8%\n"
     ]
    },
    {
     "name": "stderr",
     "output_type": "stream",
     "text": [
      "OK\n",
      "Running ant (coverage.instrument).......................................... OK\n",
      "Running ant (run.gen.tests)................................................ OK\n",
      "Running ant (coverage.report).............................................. OK\n",
      "Extract test suite......................................................... OK\n",
      "Running ant (compile.gen.tests)............................................ "
     ]
    },
    {
     "name": "stdout",
     "output_type": "stream",
     "text": [
      "       Lines total: 414\n",
      "     Lines covered: 45\n",
      "  Conditions total: 450\n",
      "Conditions covered: 8\n",
      "     Line coverage: 10.9%\n",
      "Condition coverage: 1.8%\n"
     ]
    },
    {
     "name": "stderr",
     "output_type": "stream",
     "text": [
      "OK\n",
      "Running ant (coverage.instrument).......................................... OK\n",
      "Running ant (run.gen.tests)................................................ OK\n",
      "Running ant (coverage.report).............................................. OK\n",
      "Extract test suite......................................................... OK\n",
      "Running ant (compile.gen.tests)............................................ "
     ]
    },
    {
     "name": "stdout",
     "output_type": "stream",
     "text": [
      "       Lines total: 414\n",
      "     Lines covered: 93\n",
      "  Conditions total: 450\n",
      "Conditions covered: 55\n",
      "     Line coverage: 22.5%\n",
      "Condition coverage: 12.2%\n"
     ]
    },
    {
     "name": "stderr",
     "output_type": "stream",
     "text": [
      "OK\n",
      "Running ant (coverage.instrument).......................................... OK\n",
      "Running ant (run.gen.tests)................................................ OK\n",
      "Running ant (coverage.report).............................................. OK\n",
      "Extract test suite......................................................... OK\n",
      "Running ant (compile.gen.tests)............................................ "
     ]
    },
    {
     "name": "stdout",
     "output_type": "stream",
     "text": [
      "       Lines total: 414\n",
      "     Lines covered: 28\n",
      "  Conditions total: 450\n",
      "Conditions covered: 5\n",
      "     Line coverage: 6.8%\n",
      "Condition coverage: 1.1%\n"
     ]
    },
    {
     "name": "stderr",
     "output_type": "stream",
     "text": [
      "OK\n",
      "Running ant (coverage.instrument).......................................... OK\n",
      "Running ant (run.gen.tests)................................................ OK\n",
      "Running ant (coverage.report).............................................. OK\n",
      "Extract test suite......................................................... OK\n",
      "Running ant (compile.gen.tests)............................................ "
     ]
    },
    {
     "name": "stdout",
     "output_type": "stream",
     "text": [
      "       Lines total: 414\n",
      "     Lines covered: 79\n",
      "  Conditions total: 450\n",
      "Conditions covered: 40\n",
      "     Line coverage: 19.1%\n",
      "Condition coverage: 8.9%\n"
     ]
    },
    {
     "name": "stderr",
     "output_type": "stream",
     "text": [
      "OK\n",
      "Running ant (coverage.instrument).......................................... OK\n",
      "Running ant (run.gen.tests)................................................ OK\n",
      "Running ant (coverage.report).............................................. OK\n",
      "Extract test suite......................................................... OK\n",
      "Running ant (compile.gen.tests)............................................ "
     ]
    },
    {
     "name": "stdout",
     "output_type": "stream",
     "text": [
      "       Lines total: 414\n",
      "     Lines covered: 44\n",
      "  Conditions total: 450\n",
      "Conditions covered: 25\n",
      "     Line coverage: 10.6%\n",
      "Condition coverage: 5.6%\n"
     ]
    },
    {
     "name": "stderr",
     "output_type": "stream",
     "text": [
      "OK\n",
      "Running ant (coverage.instrument).......................................... OK\n",
      "Running ant (run.gen.tests)................................................ OK\n",
      "Running ant (coverage.report).............................................. OK\n",
      "Extract test suite......................................................... OK\n",
      "Running ant (compile.gen.tests)............................................ "
     ]
    },
    {
     "name": "stdout",
     "output_type": "stream",
     "text": [
      "       Lines total: 414\n",
      "     Lines covered: 113\n",
      "  Conditions total: 450\n",
      "Conditions covered: 59\n",
      "     Line coverage: 27.3%\n",
      "Condition coverage: 13.1%\n"
     ]
    },
    {
     "name": "stderr",
     "output_type": "stream",
     "text": [
      "OK\n",
      "Running ant (coverage.instrument).......................................... OK\n",
      "Running ant (run.gen.tests)................................................ OK\n",
      "Running ant (coverage.report).............................................. OK\n",
      "Extract test suite......................................................... OK\n",
      "Running ant (compile.gen.tests)............................................ "
     ]
    },
    {
     "name": "stdout",
     "output_type": "stream",
     "text": [
      "       Lines total: 414\n",
      "     Lines covered: 176\n",
      "  Conditions total: 450\n",
      "Conditions covered: 110\n",
      "     Line coverage: 42.5%\n",
      "Condition coverage: 24.4%\n"
     ]
    },
    {
     "name": "stderr",
     "output_type": "stream",
     "text": [
      "OK\n",
      "Running ant (coverage.instrument).......................................... OK\n",
      "Running ant (run.gen.tests)................................................ OK\n",
      "Running ant (coverage.report).............................................. OK\n",
      "Extract test suite......................................................... OK\n",
      "Running ant (compile.gen.tests)............................................ "
     ]
    },
    {
     "name": "stdout",
     "output_type": "stream",
     "text": [
      "       Lines total: 414\n",
      "     Lines covered: 155\n",
      "  Conditions total: 450\n",
      "Conditions covered: 109\n",
      "     Line coverage: 37.4%\n",
      "Condition coverage: 24.2%\n"
     ]
    },
    {
     "name": "stderr",
     "output_type": "stream",
     "text": [
      "OK\n",
      "Running ant (coverage.instrument).......................................... OK\n",
      "Running ant (run.gen.tests)................................................ OK\n",
      "Running ant (coverage.report).............................................. OK\n",
      "Extract test suite......................................................... OK\n",
      "Running ant (compile.gen.tests)............................................ "
     ]
    },
    {
     "name": "stdout",
     "output_type": "stream",
     "text": [
      "       Lines total: 414\n",
      "     Lines covered: 85\n",
      "  Conditions total: 450\n",
      "Conditions covered: 49\n",
      "     Line coverage: 20.5%\n",
      "Condition coverage: 10.9%\n"
     ]
    },
    {
     "name": "stderr",
     "output_type": "stream",
     "text": [
      "OK\n",
      "Running ant (coverage.instrument).......................................... OK\n",
      "Running ant (run.gen.tests)................................................ OK\n",
      "Running ant (coverage.report).............................................. OK\n",
      "Extract test suite......................................................... OK\n",
      "Running ant (compile.gen.tests)............................................ "
     ]
    },
    {
     "name": "stdout",
     "output_type": "stream",
     "text": [
      "       Lines total: 414\n",
      "     Lines covered: 35\n",
      "  Conditions total: 450\n",
      "Conditions covered: 18\n",
      "     Line coverage: 8.5%\n",
      "Condition coverage: 4.0%\n"
     ]
    },
    {
     "name": "stderr",
     "output_type": "stream",
     "text": [
      "OK\n",
      "Running ant (coverage.instrument).......................................... OK\n",
      "Running ant (run.gen.tests)................................................ OK\n",
      "Running ant (coverage.report).............................................. OK\n",
      "Extract test suite......................................................... OK\n",
      "Running ant (compile.gen.tests)............................................ "
     ]
    },
    {
     "name": "stdout",
     "output_type": "stream",
     "text": [
      "       Lines total: 414\n",
      "     Lines covered: 83\n",
      "  Conditions total: 450\n",
      "Conditions covered: 47\n",
      "     Line coverage: 20.0%\n",
      "Condition coverage: 10.4%\n"
     ]
    },
    {
     "name": "stderr",
     "output_type": "stream",
     "text": [
      "OK\n",
      "Running ant (coverage.instrument).......................................... OK\n",
      "Running ant (run.gen.tests)................................................ OK\n",
      "Running ant (coverage.report).............................................. OK\n",
      "Extract test suite......................................................... OK\n",
      "Running ant (compile.gen.tests)............................................ "
     ]
    },
    {
     "name": "stdout",
     "output_type": "stream",
     "text": [
      "       Lines total: 414\n",
      "     Lines covered: 25\n",
      "  Conditions total: 450\n",
      "Conditions covered: 5\n",
      "     Line coverage: 6.0%\n",
      "Condition coverage: 1.1%\n"
     ]
    },
    {
     "name": "stderr",
     "output_type": "stream",
     "text": [
      "OK\n",
      "Running ant (coverage.instrument).......................................... OK\n",
      "Running ant (run.gen.tests)................................................ OK\n",
      "Running ant (coverage.report).............................................. OK\n",
      "Extract test suite......................................................... OK\n",
      "Running ant (compile.gen.tests)............................................ "
     ]
    },
    {
     "name": "stdout",
     "output_type": "stream",
     "text": [
      "       Lines total: 414\n",
      "     Lines covered: 45\n",
      "  Conditions total: 450\n",
      "Conditions covered: 10\n",
      "     Line coverage: 10.9%\n",
      "Condition coverage: 2.2%\n"
     ]
    },
    {
     "name": "stderr",
     "output_type": "stream",
     "text": [
      "OK\n",
      "Running ant (coverage.instrument).......................................... OK\n",
      "Running ant (run.gen.tests)................................................ OK\n",
      "Running ant (coverage.report).............................................. OK\n",
      "Extract test suite......................................................... OK\n",
      "Running ant (compile.gen.tests)............................................ "
     ]
    },
    {
     "name": "stdout",
     "output_type": "stream",
     "text": [
      "       Lines total: 414\n",
      "     Lines covered: 28\n",
      "  Conditions total: 450\n",
      "Conditions covered: 5\n",
      "     Line coverage: 6.8%\n",
      "Condition coverage: 1.1%\n"
     ]
    },
    {
     "name": "stderr",
     "output_type": "stream",
     "text": [
      "OK\n",
      "Running ant (coverage.instrument).......................................... OK\n",
      "Running ant (run.gen.tests)................................................ OK\n",
      "Running ant (coverage.report).............................................. OK\n",
      "Extract test suite......................................................... OK\n",
      "Running ant (compile.gen.tests)............................................ "
     ]
    },
    {
     "name": "stdout",
     "output_type": "stream",
     "text": [
      "       Lines total: 414\n",
      "     Lines covered: 80\n",
      "  Conditions total: 450\n",
      "Conditions covered: 41\n",
      "     Line coverage: 19.3%\n",
      "Condition coverage: 9.1%\n"
     ]
    },
    {
     "name": "stderr",
     "output_type": "stream",
     "text": [
      "OK\n",
      "Running ant (coverage.instrument).......................................... OK\n",
      "Running ant (run.gen.tests)................................................ OK\n",
      "Running ant (coverage.report).............................................. OK\n",
      "Extract test suite......................................................... OK\n",
      "Running ant (compile.gen.tests)............................................ "
     ]
    },
    {
     "name": "stdout",
     "output_type": "stream",
     "text": [
      "       Lines total: 414\n",
      "     Lines covered: 141\n",
      "  Conditions total: 450\n",
      "Conditions covered: 88\n",
      "     Line coverage: 34.1%\n",
      "Condition coverage: 19.6%\n"
     ]
    },
    {
     "name": "stderr",
     "output_type": "stream",
     "text": [
      "OK\n",
      "Running ant (coverage.instrument).......................................... OK\n",
      "Running ant (run.gen.tests)................................................ OK\n",
      "Running ant (coverage.report).............................................. OK\n",
      "Extract test suite......................................................... OK\n",
      "Running ant (compile.gen.tests)............................................ "
     ]
    },
    {
     "name": "stdout",
     "output_type": "stream",
     "text": [
      "       Lines total: 414\n",
      "     Lines covered: 47\n",
      "  Conditions total: 450\n",
      "Conditions covered: 10\n",
      "     Line coverage: 11.4%\n",
      "Condition coverage: 2.2%\n"
     ]
    },
    {
     "name": "stderr",
     "output_type": "stream",
     "text": [
      "OK\n",
      "Running ant (coverage.instrument).......................................... OK\n",
      "Running ant (run.gen.tests)................................................ OK\n",
      "Running ant (coverage.report).............................................. OK\n",
      "Extract test suite......................................................... OK\n",
      "Running ant (compile.gen.tests)............................................ "
     ]
    },
    {
     "name": "stdout",
     "output_type": "stream",
     "text": [
      "       Lines total: 414\n",
      "     Lines covered: 101\n",
      "  Conditions total: 450\n",
      "Conditions covered: 52\n",
      "     Line coverage: 24.4%\n",
      "Condition coverage: 11.6%\n"
     ]
    },
    {
     "name": "stderr",
     "output_type": "stream",
     "text": [
      "OK\n",
      "Running ant (coverage.instrument).......................................... OK\n",
      "Running ant (run.gen.tests)................................................ OK\n",
      "Running ant (coverage.report).............................................. OK\n",
      "Extract test suite......................................................... OK\n",
      "Running ant (compile.gen.tests)............................................ "
     ]
    },
    {
     "name": "stdout",
     "output_type": "stream",
     "text": [
      "       Lines total: 414\n",
      "     Lines covered: 109\n",
      "  Conditions total: 450\n",
      "Conditions covered: 66\n",
      "     Line coverage: 26.3%\n",
      "Condition coverage: 14.7%\n"
     ]
    },
    {
     "name": "stderr",
     "output_type": "stream",
     "text": [
      "OK\n",
      "Running ant (coverage.instrument).......................................... OK\n",
      "Running ant (run.gen.tests)................................................ OK\n",
      "Running ant (coverage.report).............................................. OK\n",
      "Extract test suite......................................................... OK\n",
      "Running ant (compile.gen.tests)............................................ "
     ]
    },
    {
     "name": "stdout",
     "output_type": "stream",
     "text": [
      "       Lines total: 414\n",
      "     Lines covered: 94\n",
      "  Conditions total: 450\n",
      "Conditions covered: 55\n",
      "     Line coverage: 22.7%\n",
      "Condition coverage: 12.2%\n"
     ]
    },
    {
     "name": "stderr",
     "output_type": "stream",
     "text": [
      "OK\n",
      "Running ant (coverage.instrument).......................................... OK\n",
      "Running ant (run.gen.tests)................................................ OK\n",
      "Running ant (coverage.report).............................................. OK\n",
      "Extract test suite......................................................... OK\n",
      "Running ant (compile.gen.tests)............................................ "
     ]
    },
    {
     "name": "stdout",
     "output_type": "stream",
     "text": [
      "       Lines total: 414\n",
      "     Lines covered: 45\n",
      "  Conditions total: 450\n",
      "Conditions covered: 9\n",
      "     Line coverage: 10.9%\n",
      "Condition coverage: 2.0%\n"
     ]
    },
    {
     "name": "stderr",
     "output_type": "stream",
     "text": [
      "OK\n",
      "Running ant (coverage.instrument).......................................... OK\n",
      "Running ant (run.gen.tests)................................................ OK\n",
      "Running ant (coverage.report).............................................. OK\n",
      "Extract test suite......................................................... OK\n",
      "Running ant (compile.gen.tests)............................................ "
     ]
    },
    {
     "name": "stdout",
     "output_type": "stream",
     "text": [
      "       Lines total: 414\n",
      "     Lines covered: 92\n",
      "  Conditions total: 450\n",
      "Conditions covered: 53\n",
      "     Line coverage: 22.2%\n",
      "Condition coverage: 11.8%\n"
     ]
    },
    {
     "name": "stderr",
     "output_type": "stream",
     "text": [
      "OK\n",
      "Running ant (coverage.instrument).......................................... OK\n",
      "Running ant (run.gen.tests)................................................ OK\n",
      "Running ant (coverage.report).............................................. OK\n",
      "Extract test suite......................................................... OK\n",
      "Running ant (compile.gen.tests)............................................ "
     ]
    },
    {
     "name": "stdout",
     "output_type": "stream",
     "text": [
      "       Lines total: 414\n",
      "     Lines covered: 34\n",
      "  Conditions total: 450\n",
      "Conditions covered: 6\n",
      "     Line coverage: 8.2%\n",
      "Condition coverage: 1.3%\n"
     ]
    },
    {
     "name": "stderr",
     "output_type": "stream",
     "text": [
      "OK\n",
      "Running ant (coverage.instrument).......................................... OK\n",
      "Running ant (run.gen.tests)................................................ OK\n",
      "Running ant (coverage.report).............................................. OK\n",
      "Extract test suite......................................................... OK\n",
      "Running ant (compile.gen.tests)............................................ "
     ]
    },
    {
     "name": "stdout",
     "output_type": "stream",
     "text": [
      "       Lines total: 414\n",
      "     Lines covered: 61\n",
      "  Conditions total: 450\n",
      "Conditions covered: 27\n",
      "     Line coverage: 14.7%\n",
      "Condition coverage: 6.0%\n"
     ]
    },
    {
     "name": "stderr",
     "output_type": "stream",
     "text": [
      "OK\n",
      "Running ant (coverage.instrument).......................................... OK\n",
      "Running ant (run.gen.tests)................................................ OK\n",
      "Running ant (coverage.report).............................................. OK\n",
      "Extract test suite......................................................... OK\n",
      "Running ant (compile.gen.tests)............................................ "
     ]
    },
    {
     "name": "stdout",
     "output_type": "stream",
     "text": [
      "       Lines total: 414\n",
      "     Lines covered: 95\n",
      "  Conditions total: 450\n",
      "Conditions covered: 56\n",
      "     Line coverage: 22.9%\n",
      "Condition coverage: 12.4%\n"
     ]
    },
    {
     "name": "stderr",
     "output_type": "stream",
     "text": [
      "OK\n",
      "Running ant (coverage.instrument).......................................... OK\n",
      "Running ant (run.gen.tests)................................................ OK\n",
      "Running ant (coverage.report).............................................. OK\n",
      "Extract test suite......................................................... OK\n",
      "Running ant (compile.gen.tests)............................................ "
     ]
    },
    {
     "name": "stdout",
     "output_type": "stream",
     "text": [
      "       Lines total: 414\n",
      "     Lines covered: 96\n",
      "  Conditions total: 450\n",
      "Conditions covered: 56\n",
      "     Line coverage: 23.2%\n",
      "Condition coverage: 12.4%\n"
     ]
    },
    {
     "name": "stderr",
     "output_type": "stream",
     "text": [
      "OK\n",
      "Running ant (coverage.instrument).......................................... OK\n",
      "Running ant (run.gen.tests)................................................ OK\n",
      "Running ant (coverage.report).............................................. OK\n",
      "Extract test suite......................................................... OK\n",
      "Running ant (compile.gen.tests)............................................ "
     ]
    },
    {
     "name": "stdout",
     "output_type": "stream",
     "text": [
      "       Lines total: 414\n",
      "     Lines covered: 98\n",
      "  Conditions total: 450\n",
      "Conditions covered: 58\n",
      "     Line coverage: 23.7%\n",
      "Condition coverage: 12.9%\n"
     ]
    },
    {
     "name": "stderr",
     "output_type": "stream",
     "text": [
      "OK\n",
      "Running ant (coverage.instrument).......................................... OK\n",
      "Running ant (run.gen.tests)................................................ OK\n",
      "Running ant (coverage.report).............................................. OK\n",
      "Extract test suite......................................................... OK\n",
      "Running ant (compile.gen.tests)............................................ "
     ]
    },
    {
     "name": "stdout",
     "output_type": "stream",
     "text": [
      "       Lines total: 414\n",
      "     Lines covered: 95\n",
      "  Conditions total: 450\n",
      "Conditions covered: 56\n",
      "     Line coverage: 22.9%\n",
      "Condition coverage: 12.4%\n"
     ]
    },
    {
     "name": "stderr",
     "output_type": "stream",
     "text": [
      "OK\n",
      "Running ant (coverage.instrument).......................................... OK\n",
      "Running ant (run.gen.tests)................................................ OK\n",
      "Running ant (coverage.report).............................................. OK\n",
      "Extract test suite......................................................... OK\n",
      "Running ant (compile.gen.tests)............................................ "
     ]
    },
    {
     "name": "stdout",
     "output_type": "stream",
     "text": [
      "       Lines total: 414\n",
      "     Lines covered: 174\n",
      "  Conditions total: 450\n",
      "Conditions covered: 118\n",
      "     Line coverage: 42.0%\n",
      "Condition coverage: 26.2%\n"
     ]
    },
    {
     "name": "stderr",
     "output_type": "stream",
     "text": [
      "OK\n",
      "Running ant (coverage.instrument).......................................... OK\n",
      "Running ant (run.gen.tests)................................................ OK\n",
      "Running ant (coverage.report).............................................. OK\n",
      "Extract test suite......................................................... OK\n",
      "Running ant (compile.gen.tests)............................................ "
     ]
    },
    {
     "name": "stdout",
     "output_type": "stream",
     "text": [
      "       Lines total: 414\n",
      "     Lines covered: 109\n",
      "  Conditions total: 450\n",
      "Conditions covered: 58\n",
      "     Line coverage: 26.3%\n",
      "Condition coverage: 12.9%\n"
     ]
    },
    {
     "name": "stderr",
     "output_type": "stream",
     "text": [
      "OK\n",
      "Running ant (coverage.instrument).......................................... OK\n",
      "Running ant (run.gen.tests)................................................ OK\n",
      "Running ant (coverage.report).............................................. OK\n",
      "Extract test suite......................................................... OK\n",
      "Running ant (compile.gen.tests)............................................ "
     ]
    },
    {
     "name": "stdout",
     "output_type": "stream",
     "text": [
      "       Lines total: 414\n",
      "     Lines covered: 42\n",
      "  Conditions total: 450\n",
      "Conditions covered: 8\n",
      "     Line coverage: 10.1%\n",
      "Condition coverage: 1.8%\n"
     ]
    },
    {
     "name": "stderr",
     "output_type": "stream",
     "text": [
      "OK\n",
      "Running ant (coverage.instrument).......................................... OK\n",
      "Running ant (run.gen.tests)................................................ OK\n",
      "Running ant (coverage.report).............................................. OK\n",
      "Extract test suite......................................................... OK\n",
      "Running ant (compile.gen.tests)............................................ "
     ]
    },
    {
     "name": "stdout",
     "output_type": "stream",
     "text": [
      "       Lines total: 414\n",
      "     Lines covered: 54\n",
      "  Conditions total: 450\n",
      "Conditions covered: 26\n",
      "     Line coverage: 13.0%\n",
      "Condition coverage: 5.8%\n"
     ]
    },
    {
     "name": "stderr",
     "output_type": "stream",
     "text": [
      "OK\n",
      "Running ant (coverage.instrument).......................................... OK\n",
      "Running ant (run.gen.tests)................................................ OK\n",
      "Running ant (coverage.report).............................................. OK\n",
      "Extract test suite......................................................... OK\n",
      "Running ant (compile.gen.tests)............................................ "
     ]
    },
    {
     "name": "stdout",
     "output_type": "stream",
     "text": [
      "       Lines total: 414\n",
      "     Lines covered: 44\n",
      "  Conditions total: 450\n",
      "Conditions covered: 8\n",
      "     Line coverage: 10.6%\n",
      "Condition coverage: 1.8%\n"
     ]
    },
    {
     "name": "stderr",
     "output_type": "stream",
     "text": [
      "OK\n",
      "Running ant (coverage.instrument).......................................... OK\n",
      "Running ant (run.gen.tests)................................................ OK\n",
      "Running ant (coverage.report).............................................. OK\n",
      "Extract test suite......................................................... OK\n",
      "Running ant (compile.gen.tests)............................................ "
     ]
    },
    {
     "name": "stdout",
     "output_type": "stream",
     "text": [
      "       Lines total: 414\n",
      "     Lines covered: 42\n",
      "  Conditions total: 450\n",
      "Conditions covered: 9\n",
      "     Line coverage: 10.1%\n",
      "Condition coverage: 2.0%\n"
     ]
    },
    {
     "name": "stderr",
     "output_type": "stream",
     "text": [
      "OK\n",
      "Running ant (coverage.instrument).......................................... OK\n",
      "Running ant (run.gen.tests)................................................ OK\n",
      "Running ant (coverage.report).............................................. OK\n",
      "Extract test suite......................................................... OK\n",
      "Running ant (compile.gen.tests)............................................ "
     ]
    },
    {
     "name": "stdout",
     "output_type": "stream",
     "text": [
      "       Lines total: 414\n",
      "     Lines covered: 155\n",
      "  Conditions total: 450\n",
      "Conditions covered: 112\n",
      "     Line coverage: 37.4%\n",
      "Condition coverage: 24.9%\n"
     ]
    },
    {
     "name": "stderr",
     "output_type": "stream",
     "text": [
      "OK\n",
      "Running ant (coverage.instrument).......................................... OK\n",
      "Running ant (run.gen.tests)................................................ OK\n",
      "Running ant (coverage.report).............................................. OK\n",
      "Extract test suite......................................................... OK\n",
      "Running ant (compile.gen.tests)............................................ "
     ]
    },
    {
     "name": "stdout",
     "output_type": "stream",
     "text": [
      "       Lines total: 414\n",
      "     Lines covered: 73\n",
      "  Conditions total: 450\n",
      "Conditions covered: 37\n",
      "     Line coverage: 17.6%\n",
      "Condition coverage: 8.2%\n"
     ]
    },
    {
     "name": "stderr",
     "output_type": "stream",
     "text": [
      "OK\n",
      "Running ant (coverage.instrument).......................................... OK\n",
      "Running ant (run.gen.tests)................................................ OK\n",
      "Running ant (coverage.report).............................................. OK\n",
      "Extract test suite......................................................... OK\n",
      "Running ant (compile.gen.tests)............................................ "
     ]
    },
    {
     "name": "stdout",
     "output_type": "stream",
     "text": [
      "       Lines total: 414\n",
      "     Lines covered: 45\n",
      "  Conditions total: 450\n",
      "Conditions covered: 12\n",
      "     Line coverage: 10.9%\n",
      "Condition coverage: 2.7%\n"
     ]
    },
    {
     "name": "stderr",
     "output_type": "stream",
     "text": [
      "OK\n",
      "Running ant (coverage.instrument).......................................... OK\n",
      "Running ant (run.gen.tests)................................................ OK\n",
      "Running ant (coverage.report).............................................. OK\n",
      "Extract test suite......................................................... OK\n",
      "Running ant (compile.gen.tests)............................................ "
     ]
    },
    {
     "name": "stdout",
     "output_type": "stream",
     "text": [
      "       Lines total: 414\n",
      "     Lines covered: 45\n",
      "  Conditions total: 450\n",
      "Conditions covered: 8\n",
      "     Line coverage: 10.9%\n",
      "Condition coverage: 1.8%\n"
     ]
    },
    {
     "name": "stderr",
     "output_type": "stream",
     "text": [
      "OK\n",
      "Running ant (coverage.instrument).......................................... OK\n",
      "Running ant (run.gen.tests)................................................ OK\n",
      "Running ant (coverage.report).............................................. OK\n",
      "Extract test suite......................................................... OK\n",
      "Running ant (compile.gen.tests)............................................ "
     ]
    },
    {
     "name": "stdout",
     "output_type": "stream",
     "text": [
      "       Lines total: 414\n",
      "     Lines covered: 46\n",
      "  Conditions total: 450\n",
      "Conditions covered: 10\n",
      "     Line coverage: 11.1%\n",
      "Condition coverage: 2.2%\n"
     ]
    },
    {
     "name": "stderr",
     "output_type": "stream",
     "text": [
      "OK\n",
      "Running ant (coverage.instrument).......................................... OK\n",
      "Running ant (run.gen.tests)................................................ OK\n",
      "Running ant (coverage.report).............................................. OK\n",
      "Extract test suite......................................................... OK\n",
      "Running ant (compile.gen.tests)............................................ "
     ]
    },
    {
     "name": "stdout",
     "output_type": "stream",
     "text": [
      "       Lines total: 414\n",
      "     Lines covered: 96\n",
      "  Conditions total: 450\n",
      "Conditions covered: 51\n",
      "     Line coverage: 23.2%\n",
      "Condition coverage: 11.3%\n"
     ]
    },
    {
     "name": "stderr",
     "output_type": "stream",
     "text": [
      "OK\n",
      "Running ant (coverage.instrument).......................................... OK\n",
      "Running ant (run.gen.tests)................................................ OK\n",
      "Running ant (coverage.report).............................................. OK\n",
      "Extract test suite......................................................... OK\n",
      "Running ant (compile.gen.tests)............................................ "
     ]
    },
    {
     "name": "stdout",
     "output_type": "stream",
     "text": [
      "       Lines total: 414\n",
      "     Lines covered: 98\n",
      "  Conditions total: 450\n",
      "Conditions covered: 58\n",
      "     Line coverage: 23.7%\n",
      "Condition coverage: 12.9%\n"
     ]
    },
    {
     "name": "stderr",
     "output_type": "stream",
     "text": [
      "OK\n",
      "Running ant (coverage.instrument).......................................... OK\n",
      "Running ant (run.gen.tests)................................................ OK\n",
      "Running ant (coverage.report).............................................. OK\n",
      "Extract test suite......................................................... OK\n",
      "Running ant (compile.gen.tests)............................................ "
     ]
    },
    {
     "name": "stdout",
     "output_type": "stream",
     "text": [
      "       Lines total: 414\n",
      "     Lines covered: 58\n",
      "  Conditions total: 450\n",
      "Conditions covered: 31\n",
      "     Line coverage: 14.0%\n",
      "Condition coverage: 6.9%\n"
     ]
    },
    {
     "name": "stderr",
     "output_type": "stream",
     "text": [
      "OK\n",
      "Running ant (coverage.instrument).......................................... OK\n",
      "Running ant (run.gen.tests)................................................ OK\n",
      "Running ant (coverage.report).............................................. OK\n",
      "Extract test suite......................................................... OK\n",
      "Running ant (compile.gen.tests)............................................ "
     ]
    },
    {
     "name": "stdout",
     "output_type": "stream",
     "text": [
      "       Lines total: 414\n",
      "     Lines covered: 107\n",
      "  Conditions total: 450\n",
      "Conditions covered: 58\n",
      "     Line coverage: 25.8%\n",
      "Condition coverage: 12.9%\n"
     ]
    },
    {
     "name": "stderr",
     "output_type": "stream",
     "text": [
      "OK\n",
      "Running ant (coverage.instrument).......................................... OK\n",
      "Running ant (run.gen.tests)................................................ OK\n",
      "Running ant (coverage.report).............................................. OK\n",
      "Extract test suite......................................................... OK\n",
      "Running ant (compile.gen.tests)............................................ "
     ]
    },
    {
     "name": "stdout",
     "output_type": "stream",
     "text": [
      "       Lines total: 414\n",
      "     Lines covered: 92\n",
      "  Conditions total: 450\n",
      "Conditions covered: 53\n",
      "     Line coverage: 22.2%\n",
      "Condition coverage: 11.8%\n"
     ]
    },
    {
     "name": "stderr",
     "output_type": "stream",
     "text": [
      "OK\n",
      "Running ant (coverage.instrument).......................................... OK\n",
      "Running ant (run.gen.tests)................................................ OK\n",
      "Running ant (coverage.report).............................................. OK\n",
      "Extract test suite......................................................... OK\n",
      "Running ant (compile.gen.tests)............................................ "
     ]
    },
    {
     "name": "stdout",
     "output_type": "stream",
     "text": [
      "       Lines total: 414\n",
      "     Lines covered: 85\n",
      "  Conditions total: 450\n",
      "Conditions covered: 40\n",
      "     Line coverage: 20.5%\n",
      "Condition coverage: 8.9%\n"
     ]
    },
    {
     "name": "stderr",
     "output_type": "stream",
     "text": [
      "OK\n",
      "Running ant (coverage.instrument).......................................... OK\n",
      "Running ant (run.gen.tests)................................................ OK\n",
      "Running ant (coverage.report).............................................. OK\n",
      "Extract test suite......................................................... OK\n",
      "Running ant (compile.gen.tests)............................................ "
     ]
    },
    {
     "name": "stdout",
     "output_type": "stream",
     "text": [
      "       Lines total: 414\n",
      "     Lines covered: 181\n",
      "  Conditions total: 450\n",
      "Conditions covered: 113\n",
      "     Line coverage: 43.7%\n",
      "Condition coverage: 25.1%\n"
     ]
    },
    {
     "name": "stderr",
     "output_type": "stream",
     "text": [
      "OK\n",
      "Running ant (coverage.instrument).......................................... OK\n",
      "Running ant (run.gen.tests)................................................ OK\n",
      "Running ant (coverage.report).............................................. OK\n",
      "Extract test suite......................................................... OK\n",
      "Running ant (compile.gen.tests)............................................ "
     ]
    },
    {
     "name": "stdout",
     "output_type": "stream",
     "text": [
      "       Lines total: 414\n",
      "     Lines covered: 66\n",
      "  Conditions total: 450\n",
      "Conditions covered: 29\n",
      "     Line coverage: 15.9%\n",
      "Condition coverage: 6.4%\n"
     ]
    },
    {
     "name": "stderr",
     "output_type": "stream",
     "text": [
      "OK\n",
      "Running ant (coverage.instrument).......................................... OK\n",
      "Running ant (run.gen.tests)................................................ OK\n",
      "Running ant (coverage.report).............................................. OK\n",
      "Extract test suite......................................................... OK\n",
      "Running ant (compile.gen.tests)............................................ "
     ]
    },
    {
     "name": "stdout",
     "output_type": "stream",
     "text": [
      "       Lines total: 414\n",
      "     Lines covered: 44\n",
      "  Conditions total: 450\n",
      "Conditions covered: 8\n",
      "     Line coverage: 10.6%\n",
      "Condition coverage: 1.8%\n"
     ]
    },
    {
     "name": "stderr",
     "output_type": "stream",
     "text": [
      "OK\n",
      "Running ant (coverage.instrument).......................................... OK\n",
      "Running ant (run.gen.tests)................................................ OK\n",
      "Running ant (coverage.report).............................................. OK\n",
      "Extract test suite......................................................... OK\n",
      "Running ant (compile.gen.tests)............................................ "
     ]
    },
    {
     "name": "stdout",
     "output_type": "stream",
     "text": [
      "       Lines total: 414\n",
      "     Lines covered: 94\n",
      "  Conditions total: 450\n",
      "Conditions covered: 51\n",
      "     Line coverage: 22.7%\n",
      "Condition coverage: 11.3%\n"
     ]
    },
    {
     "name": "stderr",
     "output_type": "stream",
     "text": [
      "OK\n",
      "Running ant (coverage.instrument).......................................... OK\n",
      "Running ant (run.gen.tests)................................................ OK\n",
      "Running ant (coverage.report).............................................. OK\n",
      "Extract test suite......................................................... OK\n",
      "Running ant (compile.gen.tests)............................................ "
     ]
    },
    {
     "name": "stdout",
     "output_type": "stream",
     "text": [
      "       Lines total: 414\n",
      "     Lines covered: 85\n",
      "  Conditions total: 450\n",
      "Conditions covered: 47\n",
      "     Line coverage: 20.5%\n",
      "Condition coverage: 10.4%\n"
     ]
    },
    {
     "name": "stderr",
     "output_type": "stream",
     "text": [
      "OK\n",
      "Running ant (coverage.instrument).......................................... OK\n",
      "Running ant (run.gen.tests)................................................ OK\n",
      "Running ant (coverage.report).............................................. OK\n",
      "Extract test suite......................................................... OK\n",
      "Running ant (compile.gen.tests)............................................ "
     ]
    },
    {
     "name": "stdout",
     "output_type": "stream",
     "text": [
      "       Lines total: 414\n",
      "     Lines covered: 39\n",
      "  Conditions total: 450\n",
      "Conditions covered: 7\n",
      "     Line coverage: 9.4%\n",
      "Condition coverage: 1.6%\n"
     ]
    },
    {
     "name": "stderr",
     "output_type": "stream",
     "text": [
      "OK\n",
      "Running ant (coverage.instrument).......................................... OK\n",
      "Running ant (run.gen.tests)................................................ OK\n",
      "Running ant (coverage.report).............................................. OK\n",
      "Extract test suite......................................................... OK\n",
      "Running ant (compile.gen.tests)............................................ "
     ]
    },
    {
     "name": "stdout",
     "output_type": "stream",
     "text": [
      "       Lines total: 414\n",
      "     Lines covered: 55\n",
      "  Conditions total: 450\n",
      "Conditions covered: 26\n",
      "     Line coverage: 13.3%\n",
      "Condition coverage: 5.8%\n"
     ]
    },
    {
     "name": "stderr",
     "output_type": "stream",
     "text": [
      "OK\n",
      "Running ant (coverage.instrument).......................................... OK\n",
      "Running ant (run.gen.tests)................................................ OK\n",
      "Running ant (coverage.report).............................................. OK\n",
      "Extract test suite......................................................... OK\n",
      "Running ant (compile.gen.tests)............................................ "
     ]
    },
    {
     "name": "stdout",
     "output_type": "stream",
     "text": [
      "       Lines total: 414\n",
      "     Lines covered: 41\n",
      "  Conditions total: 450\n",
      "Conditions covered: 8\n",
      "     Line coverage: 9.9%\n",
      "Condition coverage: 1.8%\n"
     ]
    },
    {
     "name": "stderr",
     "output_type": "stream",
     "text": [
      "OK\n",
      "Running ant (coverage.instrument).......................................... OK\n",
      "Running ant (run.gen.tests)................................................ OK\n",
      "Running ant (coverage.report).............................................. OK\n",
      "Extract test suite......................................................... OK\n",
      "Running ant (compile.gen.tests)............................................ "
     ]
    },
    {
     "name": "stdout",
     "output_type": "stream",
     "text": [
      "       Lines total: 414\n",
      "     Lines covered: 43\n",
      "  Conditions total: 450\n",
      "Conditions covered: 23\n",
      "     Line coverage: 10.4%\n",
      "Condition coverage: 5.1%\n"
     ]
    },
    {
     "name": "stderr",
     "output_type": "stream",
     "text": [
      "OK\n",
      "Running ant (coverage.instrument).......................................... OK\n",
      "Running ant (run.gen.tests)................................................ OK\n",
      "Running ant (coverage.report).............................................. OK\n",
      "Extract test suite......................................................... OK\n",
      "Running ant (compile.gen.tests)............................................ "
     ]
    },
    {
     "name": "stdout",
     "output_type": "stream",
     "text": [
      "       Lines total: 414\n",
      "     Lines covered: 78\n",
      "  Conditions total: 450\n",
      "Conditions covered: 44\n",
      "     Line coverage: 18.8%\n",
      "Condition coverage: 9.8%\n"
     ]
    },
    {
     "name": "stderr",
     "output_type": "stream",
     "text": [
      "OK\n",
      "Running ant (coverage.instrument).......................................... OK\n",
      "Running ant (run.gen.tests)................................................ OK\n",
      "Running ant (coverage.report).............................................. OK\n",
      "Extract test suite......................................................... OK\n",
      "Running ant (compile.gen.tests)............................................ "
     ]
    },
    {
     "name": "stdout",
     "output_type": "stream",
     "text": [
      "       Lines total: 414\n",
      "     Lines covered: 45\n",
      "  Conditions total: 450\n",
      "Conditions covered: 8\n",
      "     Line coverage: 10.9%\n",
      "Condition coverage: 1.8%\n"
     ]
    },
    {
     "name": "stderr",
     "output_type": "stream",
     "text": [
      "OK\n",
      "Running ant (coverage.instrument).......................................... OK\n",
      "Running ant (run.gen.tests)................................................ OK\n",
      "Running ant (coverage.report).............................................. OK\n",
      "Extract test suite......................................................... OK\n",
      "Running ant (compile.gen.tests)............................................ "
     ]
    },
    {
     "name": "stdout",
     "output_type": "stream",
     "text": [
      "       Lines total: 414\n",
      "     Lines covered: 34\n",
      "  Conditions total: 450\n",
      "Conditions covered: 6\n",
      "     Line coverage: 8.2%\n",
      "Condition coverage: 1.3%\n"
     ]
    },
    {
     "name": "stderr",
     "output_type": "stream",
     "text": [
      "OK\n",
      "Running ant (coverage.instrument).......................................... OK\n",
      "Running ant (run.gen.tests)................................................ OK\n",
      "Running ant (coverage.report).............................................. OK\n",
      "Extract test suite......................................................... OK\n",
      "Running ant (compile.gen.tests)............................................ "
     ]
    },
    {
     "name": "stdout",
     "output_type": "stream",
     "text": [
      "       Lines total: 414\n",
      "     Lines covered: 87\n",
      "  Conditions total: 450\n",
      "Conditions covered: 50\n",
      "     Line coverage: 21.0%\n",
      "Condition coverage: 11.1%\n"
     ]
    },
    {
     "name": "stderr",
     "output_type": "stream",
     "text": [
      "OK\n",
      "Running ant (coverage.instrument).......................................... OK\n",
      "Running ant (run.gen.tests)................................................ OK\n",
      "Running ant (coverage.report).............................................. OK\n",
      "Extract test suite......................................................... OK\n",
      "Running ant (compile.gen.tests)............................................ "
     ]
    },
    {
     "name": "stdout",
     "output_type": "stream",
     "text": [
      "       Lines total: 414\n",
      "     Lines covered: 39\n",
      "  Conditions total: 450\n",
      "Conditions covered: 19\n",
      "     Line coverage: 9.4%\n",
      "Condition coverage: 4.2%\n"
     ]
    },
    {
     "name": "stderr",
     "output_type": "stream",
     "text": [
      "OK\n",
      "Running ant (coverage.instrument).......................................... OK\n",
      "Running ant (run.gen.tests)................................................ OK\n",
      "Running ant (coverage.report).............................................. OK\n",
      "Extract test suite......................................................... OK\n",
      "Running ant (compile.gen.tests)............................................ "
     ]
    },
    {
     "name": "stdout",
     "output_type": "stream",
     "text": [
      "       Lines total: 414\n",
      "     Lines covered: 87\n",
      "  Conditions total: 450\n",
      "Conditions covered: 49\n",
      "     Line coverage: 21.0%\n",
      "Condition coverage: 10.9%\n"
     ]
    },
    {
     "name": "stderr",
     "output_type": "stream",
     "text": [
      "OK\n",
      "Running ant (coverage.instrument).......................................... OK\n",
      "Running ant (run.gen.tests)................................................ OK\n",
      "Running ant (coverage.report).............................................. OK\n",
      "Extract test suite......................................................... OK\n",
      "Running ant (compile.gen.tests)............................................ "
     ]
    },
    {
     "name": "stdout",
     "output_type": "stream",
     "text": [
      "       Lines total: 414\n",
      "     Lines covered: 98\n",
      "  Conditions total: 450\n",
      "Conditions covered: 59\n",
      "     Line coverage: 23.7%\n",
      "Condition coverage: 13.1%\n"
     ]
    },
    {
     "name": "stderr",
     "output_type": "stream",
     "text": [
      "OK\n",
      "Running ant (coverage.instrument).......................................... OK\n",
      "Running ant (run.gen.tests)................................................ OK\n",
      "Running ant (coverage.report).............................................. OK\n",
      "Extract test suite......................................................... OK\n",
      "Running ant (compile.gen.tests)............................................ "
     ]
    },
    {
     "name": "stdout",
     "output_type": "stream",
     "text": [
      "       Lines total: 414\n",
      "     Lines covered: 59\n",
      "  Conditions total: 450\n",
      "Conditions covered: 27\n",
      "     Line coverage: 14.3%\n",
      "Condition coverage: 6.0%\n"
     ]
    },
    {
     "name": "stderr",
     "output_type": "stream",
     "text": [
      "OK\n",
      "Running ant (coverage.instrument).......................................... OK\n",
      "Running ant (run.gen.tests)................................................ OK\n",
      "Running ant (coverage.report).............................................. OK\n",
      "Extract test suite......................................................... OK\n",
      "Running ant (compile.gen.tests)............................................ "
     ]
    },
    {
     "name": "stdout",
     "output_type": "stream",
     "text": [
      "       Lines total: 414\n",
      "     Lines covered: 81\n",
      "  Conditions total: 450\n",
      "Conditions covered: 46\n",
      "     Line coverage: 19.6%\n",
      "Condition coverage: 10.2%\n"
     ]
    },
    {
     "name": "stderr",
     "output_type": "stream",
     "text": [
      "OK\n",
      "Running ant (coverage.instrument).......................................... OK\n",
      "Running ant (run.gen.tests)................................................ OK\n",
      "Running ant (coverage.report).............................................. OK\n",
      "Extract test suite......................................................... OK\n",
      "Running ant (compile.gen.tests)............................................ "
     ]
    },
    {
     "name": "stdout",
     "output_type": "stream",
     "text": [
      "       Lines total: 414\n",
      "     Lines covered: 97\n",
      "  Conditions total: 450\n",
      "Conditions covered: 56\n",
      "     Line coverage: 23.4%\n",
      "Condition coverage: 12.4%\n"
     ]
    },
    {
     "name": "stderr",
     "output_type": "stream",
     "text": [
      "OK\n",
      "Running ant (coverage.instrument).......................................... OK\n",
      "Running ant (run.gen.tests)................................................ OK\n",
      "Running ant (coverage.report).............................................. OK\n",
      "Extract test suite......................................................... OK\n",
      "Running ant (compile.gen.tests)............................................ "
     ]
    },
    {
     "name": "stdout",
     "output_type": "stream",
     "text": [
      "       Lines total: 414\n",
      "     Lines covered: 24\n",
      "  Conditions total: 450\n",
      "Conditions covered: 3\n",
      "     Line coverage: 5.8%\n",
      "Condition coverage: 0.7%\n"
     ]
    },
    {
     "name": "stderr",
     "output_type": "stream",
     "text": [
      "OK\n",
      "Running ant (coverage.instrument).......................................... OK\n",
      "Running ant (run.gen.tests)................................................ OK\n",
      "Running ant (coverage.report).............................................. OK\n",
      "Extract test suite......................................................... OK\n",
      "Running ant (compile.gen.tests)............................................ "
     ]
    },
    {
     "name": "stdout",
     "output_type": "stream",
     "text": [
      "       Lines total: 414\n",
      "     Lines covered: 7\n",
      "  Conditions total: 450\n",
      "Conditions covered: 2\n",
      "     Line coverage: 1.7%\n",
      "Condition coverage: 0.4%\n"
     ]
    },
    {
     "name": "stderr",
     "output_type": "stream",
     "text": [
      "OK\n",
      "Running ant (coverage.instrument).......................................... OK\n",
      "Running ant (run.gen.tests)................................................ OK\n",
      "Running ant (coverage.report).............................................. OK\n",
      "Extract test suite......................................................... OK\n",
      "Running ant (compile.gen.tests)............................................ "
     ]
    },
    {
     "name": "stdout",
     "output_type": "stream",
     "text": [
      "       Lines total: 414\n",
      "     Lines covered: 42\n",
      "  Conditions total: 450\n",
      "Conditions covered: 8\n",
      "     Line coverage: 10.1%\n",
      "Condition coverage: 1.8%\n"
     ]
    },
    {
     "name": "stderr",
     "output_type": "stream",
     "text": [
      "OK\n",
      "Running ant (coverage.instrument).......................................... OK\n",
      "Running ant (run.gen.tests)................................................ OK\n",
      "Running ant (coverage.report).............................................. OK\n",
      "Extract test suite......................................................... OK\n",
      "Running ant (compile.gen.tests)............................................ "
     ]
    },
    {
     "name": "stdout",
     "output_type": "stream",
     "text": [
      "       Lines total: 414\n",
      "     Lines covered: 92\n",
      "  Conditions total: 450\n",
      "Conditions covered: 53\n",
      "     Line coverage: 22.2%\n",
      "Condition coverage: 11.8%\n"
     ]
    },
    {
     "name": "stderr",
     "output_type": "stream",
     "text": [
      "OK\n",
      "Running ant (coverage.instrument).......................................... OK\n",
      "Running ant (run.gen.tests)................................................ OK\n",
      "Running ant (coverage.report).............................................. OK\n",
      "Extract test suite......................................................... OK\n",
      "Running ant (compile.gen.tests)............................................ "
     ]
    },
    {
     "name": "stdout",
     "output_type": "stream",
     "text": [
      "       Lines total: 414\n",
      "     Lines covered: 40\n",
      "  Conditions total: 450\n",
      "Conditions covered: 18\n",
      "     Line coverage: 9.7%\n",
      "Condition coverage: 4.0%\n"
     ]
    },
    {
     "name": "stderr",
     "output_type": "stream",
     "text": [
      "OK\n",
      "Running ant (coverage.instrument).......................................... OK\n",
      "Running ant (run.gen.tests)................................................ OK\n",
      "Running ant (coverage.report).............................................. OK\n",
      "Extract test suite......................................................... OK\n",
      "Running ant (compile.gen.tests)............................................ "
     ]
    },
    {
     "name": "stdout",
     "output_type": "stream",
     "text": [
      "       Lines total: 414\n",
      "     Lines covered: 89\n",
      "  Conditions total: 450\n",
      "Conditions covered: 49\n",
      "     Line coverage: 21.5%\n",
      "Condition coverage: 10.9%\n"
     ]
    },
    {
     "name": "stderr",
     "output_type": "stream",
     "text": [
      "OK\n",
      "Running ant (coverage.instrument).......................................... OK\n",
      "Running ant (run.gen.tests)................................................ OK\n",
      "Running ant (coverage.report).............................................. OK\n",
      "Extract test suite......................................................... OK\n",
      "Running ant (compile.gen.tests)............................................ "
     ]
    },
    {
     "name": "stdout",
     "output_type": "stream",
     "text": [
      "       Lines total: 414\n",
      "     Lines covered: 25\n",
      "  Conditions total: 450\n",
      "Conditions covered: 5\n",
      "     Line coverage: 6.0%\n",
      "Condition coverage: 1.1%\n"
     ]
    },
    {
     "name": "stderr",
     "output_type": "stream",
     "text": [
      "OK\n",
      "Running ant (coverage.instrument).......................................... OK\n",
      "Running ant (run.gen.tests)................................................ OK\n",
      "Running ant (coverage.report).............................................. OK\n",
      "Extract test suite......................................................... OK\n",
      "Running ant (compile.gen.tests)............................................ "
     ]
    },
    {
     "name": "stdout",
     "output_type": "stream",
     "text": [
      "       Lines total: 414\n",
      "     Lines covered: 85\n",
      "  Conditions total: 450\n",
      "Conditions covered: 48\n",
      "     Line coverage: 20.5%\n",
      "Condition coverage: 10.7%\n"
     ]
    },
    {
     "name": "stderr",
     "output_type": "stream",
     "text": [
      "OK\n",
      "Running ant (coverage.instrument).......................................... OK\n",
      "Running ant (run.gen.tests)................................................ OK\n",
      "Running ant (coverage.report).............................................. OK\n",
      "Extract test suite......................................................... OK\n",
      "Running ant (compile.gen.tests)............................................ "
     ]
    },
    {
     "name": "stdout",
     "output_type": "stream",
     "text": [
      "       Lines total: 414\n",
      "     Lines covered: 38\n",
      "  Conditions total: 450\n",
      "Conditions covered: 7\n",
      "     Line coverage: 9.2%\n",
      "Condition coverage: 1.6%\n"
     ]
    },
    {
     "name": "stderr",
     "output_type": "stream",
     "text": [
      "OK\n",
      "Running ant (coverage.instrument).......................................... OK\n",
      "Running ant (run.gen.tests)................................................ OK\n",
      "Running ant (coverage.report).............................................. OK\n",
      "Extract test suite......................................................... OK\n",
      "Running ant (compile.gen.tests)............................................ "
     ]
    },
    {
     "name": "stdout",
     "output_type": "stream",
     "text": [
      "       Lines total: 414\n",
      "     Lines covered: 77\n",
      "  Conditions total: 450\n",
      "Conditions covered: 44\n",
      "     Line coverage: 18.6%\n",
      "Condition coverage: 9.8%\n"
     ]
    },
    {
     "name": "stderr",
     "output_type": "stream",
     "text": [
      "OK\n",
      "Running ant (coverage.instrument).......................................... OK\n",
      "Running ant (run.gen.tests)................................................ OK\n",
      "Running ant (coverage.report).............................................. OK\n",
      "Extract test suite......................................................... OK\n",
      "Running ant (compile.gen.tests)............................................ "
     ]
    },
    {
     "name": "stdout",
     "output_type": "stream",
     "text": [
      "       Lines total: 414\n",
      "     Lines covered: 178\n",
      "  Conditions total: 450\n",
      "Conditions covered: 110\n",
      "     Line coverage: 43.0%\n",
      "Condition coverage: 24.4%\n"
     ]
    },
    {
     "name": "stderr",
     "output_type": "stream",
     "text": [
      "OK\n",
      "Running ant (coverage.instrument).......................................... OK\n",
      "Running ant (run.gen.tests)................................................ OK\n",
      "Running ant (coverage.report).............................................. OK\n",
      "Extract test suite......................................................... OK\n",
      "Running ant (compile.gen.tests)............................................ "
     ]
    },
    {
     "name": "stdout",
     "output_type": "stream",
     "text": [
      "       Lines total: 414\n",
      "     Lines covered: 79\n",
      "  Conditions total: 450\n",
      "Conditions covered: 41\n",
      "     Line coverage: 19.1%\n",
      "Condition coverage: 9.1%\n"
     ]
    },
    {
     "name": "stderr",
     "output_type": "stream",
     "text": [
      "OK\n",
      "Running ant (coverage.instrument).......................................... OK\n",
      "Running ant (run.gen.tests)................................................ OK\n",
      "Running ant (coverage.report).............................................. OK\n",
      "Extract test suite......................................................... OK\n",
      "Running ant (compile.gen.tests)............................................ "
     ]
    },
    {
     "name": "stdout",
     "output_type": "stream",
     "text": [
      "       Lines total: 414\n",
      "     Lines covered: 23\n",
      "  Conditions total: 450\n",
      "Conditions covered: 3\n",
      "     Line coverage: 5.6%\n",
      "Condition coverage: 0.7%\n"
     ]
    },
    {
     "name": "stderr",
     "output_type": "stream",
     "text": [
      "OK\n",
      "Running ant (coverage.instrument).......................................... OK\n",
      "Running ant (run.gen.tests)................................................ OK\n",
      "Running ant (coverage.report).............................................. OK\n",
      "Extract test suite......................................................... OK\n",
      "Running ant (compile.gen.tests)............................................ "
     ]
    },
    {
     "name": "stdout",
     "output_type": "stream",
     "text": [
      "       Lines total: 414\n",
      "     Lines covered: 65\n",
      "  Conditions total: 450\n",
      "Conditions covered: 28\n",
      "     Line coverage: 15.7%\n",
      "Condition coverage: 6.2%\n"
     ]
    },
    {
     "name": "stderr",
     "output_type": "stream",
     "text": [
      "OK\n",
      "Running ant (coverage.instrument).......................................... OK\n",
      "Running ant (run.gen.tests)................................................ OK\n",
      "Running ant (coverage.report).............................................. OK\n",
      "Extract test suite......................................................... OK\n",
      "Running ant (compile.gen.tests)............................................ "
     ]
    },
    {
     "name": "stdout",
     "output_type": "stream",
     "text": [
      "       Lines total: 414\n",
      "     Lines covered: 27\n",
      "  Conditions total: 450\n",
      "Conditions covered: 5\n",
      "     Line coverage: 6.5%\n",
      "Condition coverage: 1.1%\n"
     ]
    },
    {
     "name": "stderr",
     "output_type": "stream",
     "text": [
      "OK\n",
      "Running ant (coverage.instrument).......................................... OK\n",
      "Running ant (run.gen.tests)................................................ OK\n",
      "Running ant (coverage.report).............................................. OK\n",
      "Extract test suite......................................................... OK\n",
      "Running ant (compile.gen.tests)............................................ "
     ]
    },
    {
     "name": "stdout",
     "output_type": "stream",
     "text": [
      "       Lines total: 414\n",
      "     Lines covered: 32\n",
      "  Conditions total: 450\n",
      "Conditions covered: 6\n",
      "     Line coverage: 7.7%\n",
      "Condition coverage: 1.3%\n"
     ]
    },
    {
     "name": "stderr",
     "output_type": "stream",
     "text": [
      "OK\n",
      "Running ant (coverage.instrument).......................................... OK\n",
      "Running ant (run.gen.tests)................................................ OK\n",
      "Running ant (coverage.report).............................................. OK\n",
      "Extract test suite......................................................... OK\n",
      "Running ant (compile.gen.tests)............................................ "
     ]
    },
    {
     "name": "stdout",
     "output_type": "stream",
     "text": [
      "       Lines total: 414\n",
      "     Lines covered: 96\n",
      "  Conditions total: 450\n",
      "Conditions covered: 57\n",
      "     Line coverage: 23.2%\n",
      "Condition coverage: 12.7%\n"
     ]
    },
    {
     "name": "stderr",
     "output_type": "stream",
     "text": [
      "OK\n",
      "Running ant (coverage.instrument).......................................... OK\n",
      "Running ant (run.gen.tests)................................................ OK\n",
      "Running ant (coverage.report).............................................. OK\n",
      "Extract test suite......................................................... OK\n",
      "Running ant (compile.gen.tests)............................................ "
     ]
    },
    {
     "name": "stdout",
     "output_type": "stream",
     "text": [
      "       Lines total: 414\n",
      "     Lines covered: 93\n",
      "  Conditions total: 450\n",
      "Conditions covered: 55\n",
      "     Line coverage: 22.5%\n",
      "Condition coverage: 12.2%\n"
     ]
    },
    {
     "name": "stderr",
     "output_type": "stream",
     "text": [
      "OK\n",
      "Running ant (coverage.instrument).......................................... OK\n",
      "Running ant (run.gen.tests)................................................ OK\n",
      "Running ant (coverage.report).............................................. OK\n",
      "Extract test suite......................................................... OK\n",
      "Running ant (compile.gen.tests)............................................ "
     ]
    },
    {
     "name": "stdout",
     "output_type": "stream",
     "text": [
      "       Lines total: 414\n",
      "     Lines covered: 85\n",
      "  Conditions total: 450\n",
      "Conditions covered: 40\n",
      "     Line coverage: 20.5%\n",
      "Condition coverage: 8.9%\n"
     ]
    },
    {
     "name": "stderr",
     "output_type": "stream",
     "text": [
      "OK\n",
      "Running ant (coverage.instrument).......................................... OK\n",
      "Running ant (run.gen.tests)................................................ OK\n",
      "Running ant (coverage.report).............................................. OK\n",
      "Extract test suite......................................................... OK\n",
      "Running ant (compile.gen.tests)............................................ "
     ]
    },
    {
     "name": "stdout",
     "output_type": "stream",
     "text": [
      "       Lines total: 414\n",
      "     Lines covered: 114\n",
      "  Conditions total: 450\n",
      "Conditions covered: 63\n",
      "     Line coverage: 27.5%\n",
      "Condition coverage: 14.0%\n"
     ]
    },
    {
     "name": "stderr",
     "output_type": "stream",
     "text": [
      "OK\n",
      "Running ant (coverage.instrument).......................................... OK\n",
      "Running ant (run.gen.tests)................................................ OK\n",
      "Running ant (coverage.report).............................................. OK\n",
      "Extract test suite......................................................... OK\n",
      "Running ant (compile.gen.tests)............................................ "
     ]
    },
    {
     "name": "stdout",
     "output_type": "stream",
     "text": [
      "       Lines total: 414\n",
      "     Lines covered: 37\n",
      "  Conditions total: 450\n",
      "Conditions covered: 7\n",
      "     Line coverage: 8.9%\n",
      "Condition coverage: 1.6%\n"
     ]
    },
    {
     "name": "stderr",
     "output_type": "stream",
     "text": [
      "OK\n",
      "Running ant (coverage.instrument).......................................... OK\n",
      "Running ant (run.gen.tests)................................................ OK\n",
      "Running ant (coverage.report).............................................. OK\n",
      "Extract test suite......................................................... OK\n",
      "Running ant (compile.gen.tests)............................................ "
     ]
    },
    {
     "name": "stdout",
     "output_type": "stream",
     "text": [
      "       Lines total: 414\n",
      "     Lines covered: 184\n",
      "  Conditions total: 450\n",
      "Conditions covered: 124\n",
      "     Line coverage: 44.4%\n",
      "Condition coverage: 27.6%\n"
     ]
    },
    {
     "name": "stderr",
     "output_type": "stream",
     "text": [
      "OK\n",
      "Running ant (coverage.instrument).......................................... OK\n",
      "Running ant (run.gen.tests)................................................ OK\n",
      "Running ant (coverage.report).............................................. OK\n",
      "Extract test suite......................................................... OK\n",
      "Running ant (compile.gen.tests)............................................ "
     ]
    },
    {
     "name": "stdout",
     "output_type": "stream",
     "text": [
      "       Lines total: 414\n",
      "     Lines covered: 55\n",
      "  Conditions total: 450\n",
      "Conditions covered: 26\n",
      "     Line coverage: 13.3%\n",
      "Condition coverage: 5.8%\n"
     ]
    },
    {
     "name": "stderr",
     "output_type": "stream",
     "text": [
      "OK\n",
      "Running ant (coverage.instrument).......................................... OK\n",
      "Running ant (run.gen.tests)................................................ OK\n",
      "Running ant (coverage.report).............................................. OK\n",
      "Extract test suite......................................................... OK\n",
      "Running ant (compile.gen.tests)............................................ "
     ]
    },
    {
     "name": "stdout",
     "output_type": "stream",
     "text": [
      "       Lines total: 414\n",
      "     Lines covered: 39\n",
      "  Conditions total: 450\n",
      "Conditions covered: 18\n",
      "     Line coverage: 9.4%\n",
      "Condition coverage: 4.0%\n"
     ]
    },
    {
     "name": "stderr",
     "output_type": "stream",
     "text": [
      "OK\n",
      "Running ant (coverage.instrument).......................................... OK\n",
      "Running ant (run.gen.tests)................................................ OK\n",
      "Running ant (coverage.report).............................................. OK\n",
      "Extract test suite......................................................... OK\n",
      "Running ant (compile.gen.tests)............................................ "
     ]
    },
    {
     "name": "stdout",
     "output_type": "stream",
     "text": [
      "       Lines total: 414\n",
      "     Lines covered: 7\n",
      "  Conditions total: 450\n",
      "Conditions covered: 2\n",
      "     Line coverage: 1.7%\n",
      "Condition coverage: 0.4%\n"
     ]
    },
    {
     "name": "stderr",
     "output_type": "stream",
     "text": [
      "OK\n",
      "Running ant (coverage.instrument).......................................... OK\n",
      "Running ant (run.gen.tests)................................................ OK\n",
      "Running ant (coverage.report).............................................. OK\n",
      "Extract test suite......................................................... OK\n",
      "Running ant (compile.gen.tests)............................................ "
     ]
    },
    {
     "name": "stdout",
     "output_type": "stream",
     "text": [
      "       Lines total: 414\n",
      "     Lines covered: 44\n",
      "  Conditions total: 450\n",
      "Conditions covered: 9\n",
      "     Line coverage: 10.6%\n",
      "Condition coverage: 2.0%\n"
     ]
    },
    {
     "name": "stderr",
     "output_type": "stream",
     "text": [
      "OK\n",
      "Running ant (coverage.instrument).......................................... OK\n",
      "Running ant (run.gen.tests)................................................ OK\n",
      "Running ant (coverage.report).............................................. OK\n",
      "Extract test suite......................................................... OK\n",
      "Running ant (compile.gen.tests)............................................ "
     ]
    },
    {
     "name": "stdout",
     "output_type": "stream",
     "text": [
      "       Lines total: 414\n",
      "     Lines covered: 7\n",
      "  Conditions total: 450\n",
      "Conditions covered: 2\n",
      "     Line coverage: 1.7%\n",
      "Condition coverage: 0.4%\n"
     ]
    },
    {
     "name": "stderr",
     "output_type": "stream",
     "text": [
      "OK\n",
      "Running ant (coverage.instrument).......................................... OK\n",
      "Running ant (run.gen.tests)................................................ OK\n",
      "Running ant (coverage.report).............................................. OK\n",
      "Extract test suite......................................................... OK\n",
      "Running ant (compile.gen.tests)............................................ "
     ]
    },
    {
     "name": "stdout",
     "output_type": "stream",
     "text": [
      "       Lines total: 414\n",
      "     Lines covered: 41\n",
      "  Conditions total: 450\n",
      "Conditions covered: 8\n",
      "     Line coverage: 9.9%\n",
      "Condition coverage: 1.8%\n"
     ]
    },
    {
     "name": "stderr",
     "output_type": "stream",
     "text": [
      "OK\n",
      "Running ant (coverage.instrument).......................................... OK\n",
      "Running ant (run.gen.tests)................................................ OK\n",
      "Running ant (coverage.report).............................................. OK\n",
      "Extract test suite......................................................... OK\n",
      "Running ant (compile.gen.tests)............................................ "
     ]
    },
    {
     "name": "stdout",
     "output_type": "stream",
     "text": [
      "       Lines total: 414\n",
      "     Lines covered: 113\n",
      "  Conditions total: 450\n",
      "Conditions covered: 61\n",
      "     Line coverage: 27.3%\n",
      "Condition coverage: 13.6%\n"
     ]
    },
    {
     "name": "stderr",
     "output_type": "stream",
     "text": [
      "OK\n",
      "Running ant (coverage.instrument).......................................... OK\n",
      "Running ant (run.gen.tests)................................................ OK\n",
      "Running ant (coverage.report).............................................. OK\n",
      "Extract test suite......................................................... OK\n",
      "Running ant (compile.gen.tests)............................................ "
     ]
    },
    {
     "name": "stdout",
     "output_type": "stream",
     "text": [
      "       Lines total: 414\n",
      "     Lines covered: 10\n",
      "  Conditions total: 450\n",
      "Conditions covered: 6\n",
      "     Line coverage: 2.4%\n",
      "Condition coverage: 1.3%\n"
     ]
    },
    {
     "name": "stderr",
     "output_type": "stream",
     "text": [
      "OK\n",
      "Running ant (coverage.instrument).......................................... OK\n",
      "Running ant (run.gen.tests)................................................ OK\n",
      "Running ant (coverage.report).............................................. OK\n",
      "Extract test suite......................................................... OK\n",
      "Running ant (compile.gen.tests)............................................ "
     ]
    },
    {
     "name": "stdout",
     "output_type": "stream",
     "text": [
      "       Lines total: 414\n",
      "     Lines covered: 48\n",
      "  Conditions total: 450\n",
      "Conditions covered: 11\n",
      "     Line coverage: 11.6%\n",
      "Condition coverage: 2.4%\n"
     ]
    },
    {
     "name": "stderr",
     "output_type": "stream",
     "text": [
      "OK\n",
      "Running ant (coverage.instrument).......................................... OK\n",
      "Running ant (run.gen.tests)................................................ OK\n",
      "Running ant (coverage.report).............................................. OK\n",
      "Extract test suite......................................................... OK\n",
      "Running ant (compile.gen.tests)............................................ "
     ]
    },
    {
     "name": "stdout",
     "output_type": "stream",
     "text": [
      "       Lines total: 414\n",
      "     Lines covered: 185\n",
      "  Conditions total: 450\n",
      "Conditions covered: 125\n",
      "     Line coverage: 44.7%\n",
      "Condition coverage: 27.8%\n"
     ]
    },
    {
     "name": "stderr",
     "output_type": "stream",
     "text": [
      "OK\n",
      "Running ant (coverage.instrument).......................................... OK\n",
      "Running ant (run.gen.tests)................................................ OK\n",
      "Running ant (coverage.report).............................................. OK\n",
      "Extract test suite......................................................... OK\n",
      "Running ant (compile.gen.tests)............................................ "
     ]
    },
    {
     "name": "stdout",
     "output_type": "stream",
     "text": [
      "       Lines total: 414\n",
      "     Lines covered: 39\n",
      "  Conditions total: 450\n",
      "Conditions covered: 19\n",
      "     Line coverage: 9.4%\n",
      "Condition coverage: 4.2%\n"
     ]
    },
    {
     "name": "stderr",
     "output_type": "stream",
     "text": [
      "OK\n",
      "Running ant (coverage.instrument).......................................... OK\n",
      "Running ant (run.gen.tests)................................................ OK\n",
      "Running ant (coverage.report).............................................. OK\n",
      "Extract test suite......................................................... OK\n",
      "Running ant (compile.gen.tests)............................................ "
     ]
    },
    {
     "name": "stdout",
     "output_type": "stream",
     "text": [
      "       Lines total: 414\n",
      "     Lines covered: 94\n",
      "  Conditions total: 450\n",
      "Conditions covered: 55\n",
      "     Line coverage: 22.7%\n",
      "Condition coverage: 12.2%\n"
     ]
    },
    {
     "name": "stderr",
     "output_type": "stream",
     "text": [
      "OK\n",
      "Running ant (coverage.instrument).......................................... OK\n",
      "Running ant (run.gen.tests)................................................ OK\n",
      "Running ant (coverage.report).............................................. OK\n",
      "Extract test suite......................................................... OK\n",
      "Running ant (compile.gen.tests)............................................ "
     ]
    },
    {
     "name": "stdout",
     "output_type": "stream",
     "text": [
      "       Lines total: 414\n",
      "     Lines covered: 97\n",
      "  Conditions total: 450\n",
      "Conditions covered: 58\n",
      "     Line coverage: 23.4%\n",
      "Condition coverage: 12.9%\n"
     ]
    },
    {
     "name": "stderr",
     "output_type": "stream",
     "text": [
      "OK\n",
      "Running ant (coverage.instrument).......................................... OK\n",
      "Running ant (run.gen.tests)................................................ OK\n",
      "Running ant (coverage.report).............................................. OK\n",
      "Extract test suite......................................................... OK\n",
      "Running ant (compile.gen.tests)............................................ "
     ]
    },
    {
     "name": "stdout",
     "output_type": "stream",
     "text": [
      "       Lines total: 414\n",
      "     Lines covered: 17\n",
      "  Conditions total: 450\n",
      "Conditions covered: 3\n",
      "     Line coverage: 4.1%\n",
      "Condition coverage: 0.7%\n"
     ]
    },
    {
     "name": "stderr",
     "output_type": "stream",
     "text": [
      "OK\n",
      "Running ant (coverage.instrument).......................................... OK\n",
      "Running ant (run.gen.tests)................................................ OK\n",
      "Running ant (coverage.report).............................................. OK\n",
      "Extract test suite......................................................... OK\n",
      "Running ant (compile.gen.tests)............................................ "
     ]
    },
    {
     "name": "stdout",
     "output_type": "stream",
     "text": [
      "       Lines total: 414\n",
      "     Lines covered: 27\n",
      "  Conditions total: 450\n",
      "Conditions covered: 4\n",
      "     Line coverage: 6.5%\n",
      "Condition coverage: 0.9%\n"
     ]
    },
    {
     "name": "stderr",
     "output_type": "stream",
     "text": [
      "OK\n",
      "Running ant (coverage.instrument).......................................... OK\n",
      "Running ant (run.gen.tests)................................................ OK\n",
      "Running ant (coverage.report).............................................. OK\n",
      "Extract test suite......................................................... OK\n",
      "Running ant (compile.gen.tests)............................................ "
     ]
    },
    {
     "name": "stdout",
     "output_type": "stream",
     "text": [
      "       Lines total: 414\n",
      "     Lines covered: 36\n",
      "  Conditions total: 450\n",
      "Conditions covered: 6\n",
      "     Line coverage: 8.7%\n",
      "Condition coverage: 1.3%\n"
     ]
    },
    {
     "name": "stderr",
     "output_type": "stream",
     "text": [
      "OK\n",
      "Running ant (coverage.instrument).......................................... OK\n",
      "Running ant (run.gen.tests)................................................ OK\n",
      "Running ant (coverage.report).............................................. OK\n",
      "Extract test suite......................................................... OK\n",
      "Running ant (compile.gen.tests)............................................ "
     ]
    },
    {
     "name": "stdout",
     "output_type": "stream",
     "text": [
      "       Lines total: 414\n",
      "     Lines covered: 117\n",
      "  Conditions total: 450\n",
      "Conditions covered: 60\n",
      "     Line coverage: 28.3%\n",
      "Condition coverage: 13.3%\n"
     ]
    },
    {
     "name": "stderr",
     "output_type": "stream",
     "text": [
      "OK\n",
      "Running ant (coverage.instrument).......................................... OK\n",
      "Running ant (run.gen.tests)................................................ OK\n",
      "Running ant (coverage.report).............................................. OK\n",
      "Extract test suite......................................................... OK\n",
      "Running ant (compile.gen.tests)............................................ "
     ]
    },
    {
     "name": "stdout",
     "output_type": "stream",
     "text": [
      "       Lines total: 414\n",
      "     Lines covered: 180\n",
      "  Conditions total: 450\n",
      "Conditions covered: 123\n",
      "     Line coverage: 43.5%\n",
      "Condition coverage: 27.3%\n"
     ]
    },
    {
     "name": "stderr",
     "output_type": "stream",
     "text": [
      "OK\n",
      "Running ant (coverage.instrument).......................................... OK\n",
      "Running ant (run.gen.tests)................................................ OK\n",
      "Running ant (coverage.report).............................................. OK\n",
      "Extract test suite......................................................... OK\n",
      "Running ant (compile.gen.tests)............................................ "
     ]
    },
    {
     "name": "stdout",
     "output_type": "stream",
     "text": [
      "       Lines total: 414\n",
      "     Lines covered: 38\n",
      "  Conditions total: 450\n",
      "Conditions covered: 18\n",
      "     Line coverage: 9.2%\n",
      "Condition coverage: 4.0%\n"
     ]
    },
    {
     "name": "stderr",
     "output_type": "stream",
     "text": [
      "OK\n",
      "Running ant (coverage.instrument).......................................... OK\n",
      "Running ant (run.gen.tests)................................................ OK\n",
      "Running ant (coverage.report).............................................. OK\n",
      "Extract test suite......................................................... OK\n",
      "Running ant (compile.gen.tests)............................................ "
     ]
    },
    {
     "name": "stdout",
     "output_type": "stream",
     "text": [
      "       Lines total: 414\n",
      "     Lines covered: 37\n",
      "  Conditions total: 450\n",
      "Conditions covered: 17\n",
      "     Line coverage: 8.9%\n",
      "Condition coverage: 3.8%\n"
     ]
    },
    {
     "name": "stderr",
     "output_type": "stream",
     "text": [
      "OK\n",
      "Running ant (coverage.instrument).......................................... OK\n",
      "Running ant (run.gen.tests)................................................ OK\n",
      "Running ant (coverage.report).............................................. OK\n",
      "Extract test suite......................................................... OK\n",
      "Running ant (compile.gen.tests)............................................ "
     ]
    },
    {
     "name": "stdout",
     "output_type": "stream",
     "text": [
      "       Lines total: 414\n",
      "     Lines covered: 26\n",
      "  Conditions total: 450\n",
      "Conditions covered: 3\n",
      "     Line coverage: 6.3%\n",
      "Condition coverage: 0.7%\n"
     ]
    },
    {
     "name": "stderr",
     "output_type": "stream",
     "text": [
      "OK\n",
      "Running ant (coverage.instrument).......................................... OK\n",
      "Running ant (run.gen.tests)................................................ OK\n",
      "Running ant (coverage.report).............................................. OK\n",
      "Extract test suite......................................................... OK\n",
      "Running ant (compile.gen.tests)............................................ "
     ]
    },
    {
     "name": "stdout",
     "output_type": "stream",
     "text": [
      "       Lines total: 414\n",
      "     Lines covered: 73\n",
      "  Conditions total: 450\n",
      "Conditions covered: 33\n",
      "     Line coverage: 17.6%\n",
      "Condition coverage: 7.3%\n"
     ]
    },
    {
     "name": "stderr",
     "output_type": "stream",
     "text": [
      "OK\n",
      "Running ant (coverage.instrument).......................................... OK\n",
      "Running ant (run.gen.tests)................................................ OK\n",
      "Running ant (coverage.report).............................................. OK\n",
      "Extract test suite......................................................... OK\n",
      "Running ant (compile.gen.tests)............................................ "
     ]
    },
    {
     "name": "stdout",
     "output_type": "stream",
     "text": [
      "       Lines total: 414\n",
      "     Lines covered: 39\n",
      "  Conditions total: 450\n",
      "Conditions covered: 9\n",
      "     Line coverage: 9.4%\n",
      "Condition coverage: 2.0%\n"
     ]
    },
    {
     "name": "stderr",
     "output_type": "stream",
     "text": [
      "OK\n",
      "Running ant (coverage.instrument).......................................... OK\n",
      "Running ant (run.gen.tests)................................................ OK\n",
      "Running ant (coverage.report).............................................. OK\n",
      "Extract test suite......................................................... OK\n",
      "Running ant (compile.gen.tests)............................................ "
     ]
    },
    {
     "name": "stdout",
     "output_type": "stream",
     "text": [
      "       Lines total: 414\n",
      "     Lines covered: 149\n",
      "  Conditions total: 450\n",
      "Conditions covered: 103\n",
      "     Line coverage: 36.0%\n",
      "Condition coverage: 22.9%\n"
     ]
    },
    {
     "name": "stderr",
     "output_type": "stream",
     "text": [
      "OK\n",
      "Running ant (coverage.instrument).......................................... OK\n",
      "Running ant (run.gen.tests)................................................ OK\n",
      "Running ant (coverage.report).............................................. OK\n",
      "Extract test suite......................................................... OK\n",
      "Running ant (compile.gen.tests)............................................ "
     ]
    },
    {
     "name": "stdout",
     "output_type": "stream",
     "text": [
      "       Lines total: 414\n",
      "     Lines covered: 46\n",
      "  Conditions total: 450\n",
      "Conditions covered: 8\n",
      "     Line coverage: 11.1%\n",
      "Condition coverage: 1.8%\n"
     ]
    },
    {
     "name": "stderr",
     "output_type": "stream",
     "text": [
      "OK\n",
      "Running ant (coverage.instrument).......................................... OK\n",
      "Running ant (run.gen.tests)................................................ OK\n",
      "Running ant (coverage.report).............................................. OK\n",
      "Extract test suite......................................................... OK\n",
      "Running ant (compile.gen.tests)............................................ "
     ]
    },
    {
     "name": "stdout",
     "output_type": "stream",
     "text": [
      "       Lines total: 414\n",
      "     Lines covered: 42\n",
      "  Conditions total: 450\n",
      "Conditions covered: 9\n",
      "     Line coverage: 10.1%\n",
      "Condition coverage: 2.0%\n"
     ]
    },
    {
     "name": "stderr",
     "output_type": "stream",
     "text": [
      "OK\n",
      "Running ant (coverage.instrument).......................................... OK\n",
      "Running ant (run.gen.tests)................................................ OK\n",
      "Running ant (coverage.report).............................................. OK\n",
      "Extract test suite......................................................... OK\n",
      "Running ant (compile.gen.tests)............................................ "
     ]
    },
    {
     "name": "stdout",
     "output_type": "stream",
     "text": [
      "       Lines total: 414\n",
      "     Lines covered: 49\n",
      "  Conditions total: 450\n",
      "Conditions covered: 25\n",
      "     Line coverage: 11.8%\n",
      "Condition coverage: 5.6%\n"
     ]
    },
    {
     "name": "stderr",
     "output_type": "stream",
     "text": [
      "OK\n",
      "Running ant (coverage.instrument).......................................... OK\n",
      "Running ant (run.gen.tests)................................................ OK\n",
      "Running ant (coverage.report).............................................. "
     ]
    },
    {
     "name": "stdout",
     "output_type": "stream",
     "text": [
      "       Lines total: 414\n",
      "     Lines covered: 41\n",
      "  Conditions total: 450\n",
      "Conditions covered: 8\n",
      "     Line coverage: 9.9%\n",
      "Condition coverage: 1.8%\n"
     ]
    },
    {
     "name": "stderr",
     "output_type": "stream",
     "text": [
      "OK\n"
     ]
    }
   ],
   "source": [
    "import subprocess\n",
    "import xml.etree.ElementTree as ET\n",
    "\n",
    "\n",
    "line_info = {number: [0, 0] for number in line_numbers}\n",
    "\n",
    "print(line_info)\n",
    "\n",
    "failed_evo_tests = []\n",
    "\n",
    "suspiciousness_scores = {}\n",
    "\n",
    "# Path to the coverage file\n",
    "coverage_xml_path = \"/Users/hugoyin/Desktop/UIUC/CS_527/CS_527_Project/Defects4J/Codec_3/Buggy-Version/Codec_3B/coverage.xml\"\n",
    "\n",
    "\n",
    "\n",
    "for i in range(76):\n",
    "    visited = []\n",
    "    test_name = f\"test{i:02d}\"  # Formats i to 3 digits, padded with zeros\n",
    "    command = f\"defects4j coverage -t org.apache.commons.codec.language.DoubleMetaphone_ESTest::{test_name} -s /Users/hugoyin/Desktop/UIUC/CS_527/defects4j/tests/Codec/evosuite/1/Codec-3b-evosuite.1.tar.bz2\"\n",
    "    \n",
    "    # Run the command\n",
    "    subprocess.run(command, shell=True, check=True)\n",
    "    \n",
    "    # Parse the coverage XML file\n",
    "    tree = ET.parse(coverage_xml_path)\n",
    "    root = tree.getroot()\n",
    "\n",
    "    class_xpath = \".//class[@name='org.apache.commons.codec.language.DoubleMetaphone']\"\n",
    "    metaphone_class = root.find(class_xpath)\n",
    "    \n",
    "    if metaphone_class is not None:\n",
    "        for line in metaphone_class.findall(\".//line\"):\n",
    "            num = int(line.get('number'))\n",
    "            if num in visited:\n",
    "                continue\n",
    "    \n",
    "            if num in line_numbers:\n",
    "                hits = int(line.get('hits'))\n",
    "                if hits > 0:\n",
    "                    if test_name in failed_evo_tests:\n",
    "                        line_info[num][0] += 1\n",
    "                    else:\n",
    "                        line_info[num][1] += 1\n",
    "    \n",
    "            visited.append(num)\n",
    "                \n",
    "\n",
    "for i in range(370):\n",
    "    index = i + 1\n",
    "    visited = []\n",
    "    test_name = f\"test{index:03d}\"  # Formats i to 3 digits, padded with zeros\n",
    "    command = f\"defects4j coverage -t org.apache.commons.codec.language.RegressionTest0::{test_name} -s /Users/hugoyin/Desktop/UIUC/CS_527/defects4j/tests/Codec/randoop/1/Codec-3b-randoop.1.tar.bz2\"\n",
    "    \n",
    "    # Run the command\n",
    "    subprocess.run(command, shell=True, check=True)\n",
    "    \n",
    "    # Parse the coverage XML file\n",
    "    tree = ET.parse(coverage_xml_path)\n",
    "    root = tree.getroot()\n",
    "\n",
    "    class_xpath = \".//class[@name='org.apache.commons.codec.language.DoubleMetaphone']\"\n",
    "    metaphone_class = root.find(class_xpath)\n",
    "    \n",
    "    if metaphone_class is not None:\n",
    "        for line in metaphone_class.findall(\".//line\"):\n",
    "            num = int(line.get('number'))\n",
    "            if num in visited:\n",
    "                continue\n",
    "    \n",
    "            if num in line_numbers:\n",
    "                hits = int(line.get('hits'))\n",
    "                if hits > 0:\n",
    "                    line_info[num][1] += 1\n",
    "    \n",
    "            visited.append(num)"
   ]
  },
  {
   "cell_type": "code",
   "execution_count": 6,
   "id": "4db251a1-9326-4672-8c92-22713eb0f6a9",
   "metadata": {},
   "outputs": [
    {
     "data": {
      "text/plain": [
       "{47: [0, 446],\n",
       " 49: [0, 446],\n",
       " 51: [0, 446],\n",
       " 53: [0, 446],\n",
       " 59: [0, 434],\n",
       " 65: [0, 434],\n",
       " 66: [0, 434],\n",
       " 937: [0, 254],\n",
       " 938: [0, 126],\n",
       " 940: [0, 237],\n",
       " 921: [0, 423],\n",
       " 922: [0, 1],\n",
       " 924: [0, 422],\n",
       " 925: [0, 422],\n",
       " 926: [0, 305],\n",
       " 928: [0, 269],\n",
       " 812: [0, 49],\n",
       " 813: [0, 1],\n",
       " 814: [0, 48],\n",
       " 815: [0, 9],\n",
       " 816: [0, 39],\n",
       " 817: [0, 27],\n",
       " 818: [0, 38],\n",
       " 819: [0, 32],\n",
       " 821: [0, 32],\n",
       " 822: [0, 32],\n",
       " 823: [0, 0],\n",
       " 831: [0, 31],\n",
       " 832: [0, 29],\n",
       " 833: [0, 2],\n",
       " 834: [0, 0],\n",
       " 835: [0, 1],\n",
       " 836: [0, 1],\n",
       " 837: [0, 1],\n",
       " 839: [0, 0],\n",
       " 847: [0, 31],\n",
       " 849: [0, 0],\n",
       " 850: [0, 0],\n",
       " 851: [0, 0],\n",
       " 852: [0, 0],\n",
       " 859: [0, 3],\n",
       " 860: [0, 0],\n",
       " 861: [0, 1],\n",
       " 862: [0, 2],\n",
       " 863: [0, 0],\n",
       " 864: [0, 0],\n",
       " 865: [0, 0],\n",
       " 867: [0, 2],\n",
       " 875: [0, 62],\n",
       " 876: [0, 26],\n",
       " 878: [0, 48],\n",
       " 879: [0, 0],\n",
       " 948: [0, 184],\n",
       " 957: [0, 207],\n",
       " 967: [0, 136],\n",
       " 977: [0, 46],\n",
       " 989: [0, 1],\n",
       " 1001: [0, 2],\n",
       " 1012: [0, 231],\n",
       " 1013: [0, 231],\n",
       " 1014: [0, 212],\n",
       " 1016: [0, 212],\n",
       " 1017: [0, 210],\n",
       " 1018: [0, 79],\n",
       " 1019: [0, 79],\n",
       " 1023: [0, 229],\n",
       " 75: [0, 363],\n",
       " 87: [0, 423],\n",
       " 88: [0, 423],\n",
       " 89: [0, 306],\n",
       " 92: [0, 269],\n",
       " 93: [0, 269],\n",
       " 95: [0, 269],\n",
       " 97: [0, 269],\n",
       " 98: [0, 251],\n",
       " 105: [0, 201],\n",
       " 106: [0, 201],\n",
       " 108: [0, 5],\n",
       " 109: [0, 5],\n",
       " 110: [0, 5],\n",
       " 113: [0, 0],\n",
       " 114: [0, 0],\n",
       " 115: [0, 0],\n",
       " 117: [0, 49],\n",
       " 118: [0, 49],\n",
       " 120: [0, 25],\n",
       " 121: [0, 25],\n",
       " 123: [0, 10],\n",
       " 124: [0, 10],\n",
       " 125: [0, 10],\n",
       " 127: [0, 111],\n",
       " 128: [0, 111],\n",
       " 130: [0, 110],\n",
       " 131: [0, 110],\n",
       " 133: [0, 15],\n",
       " 134: [0, 15],\n",
       " 136: [0, 90],\n",
       " 137: [0, 90],\n",
       " 138: [0, 90],\n",
       " 140: [0, 13],\n",
       " 141: [0, 13],\n",
       " 143: [0, 62],\n",
       " 144: [0, 62],\n",
       " 145: [0, 62],\n",
       " 147: [0, 66],\n",
       " 148: [0, 66],\n",
       " 149: [0, 66],\n",
       " 152: [0, 0],\n",
       " 153: [0, 0],\n",
       " 154: [0, 0],\n",
       " 156: [0, 156],\n",
       " 157: [0, 156],\n",
       " 159: [0, 6],\n",
       " 160: [0, 6],\n",
       " 161: [0, 6],\n",
       " 163: [0, 168],\n",
       " 164: [0, 168],\n",
       " 166: [0, 71],\n",
       " 167: [0, 71],\n",
       " 169: [0, 25],\n",
       " 170: [0, 25],\n",
       " 172: [0, 7],\n",
       " 173: [0, 7],\n",
       " 174: [0, 7],\n",
       " 176: [0, 18],\n",
       " 177: [0, 18],\n",
       " 179: [0, 32],\n",
       " 180: [0, 32],\n",
       " 182: [0, 9],\n",
       " 183: [0, 9],\n",
       " 185: [0, 157],\n",
       " 186: [0, 157],\n",
       " 190: [0, 269],\n",
       " 202: [0, 61],\n",
       " 203: [0, 49],\n",
       " 205: [0, 15],\n",
       " 215: [0, 147],\n",
       " 254: [0, 425],\n",
       " 272: [0, 201],\n",
       " 273: [0, 164],\n",
       " 275: [0, 201],\n",
       " 284: [0, 49],\n",
       " 285: [0, 6],\n",
       " 286: [0, 6],\n",
       " 287: [0, 43],\n",
       " 288: [0, 1],\n",
       " 289: [0, 1],\n",
       " 290: [0, 42],\n",
       " 291: [0, 31],\n",
       " 292: [0, 37],\n",
       " 293: [0, 0],\n",
       " 295: [0, 1],\n",
       " 296: [0, 1],\n",
       " 297: [0, 36],\n",
       " 299: [0, 0],\n",
       " 300: [0, 0],\n",
       " 301: [0, 36],\n",
       " 302: [0, 0],\n",
       " 304: [0, 3],\n",
       " 305: [0, 33],\n",
       " 306: [0, 1],\n",
       " 307: [0, 1],\n",
       " 308: [0, 32],\n",
       " 310: [0, 2],\n",
       " 311: [0, 1],\n",
       " 313: [0, 1],\n",
       " 315: [0, 2],\n",
       " 317: [0, 30],\n",
       " 318: [0, 30],\n",
       " 320: [0, 0],\n",
       " 321: [0, 30],\n",
       " 322: [0, 0],\n",
       " 323: [0, 0],\n",
       " 325: [0, 30],\n",
       " 329: [0, 46],\n",
       " 338: [0, 3],\n",
       " 339: [0, 0],\n",
       " 341: [0, 2],\n",
       " 342: [0, 0],\n",
       " 344: [0, 2],\n",
       " 347: [0, 0],\n",
       " 349: [0, 2],\n",
       " 351: [0, 1],\n",
       " 352: [0, 1],\n",
       " 355: [0, 3],\n",
       " 364: [0, 31],\n",
       " 365: [0, 0],\n",
       " 366: [0, 0],\n",
       " 367: [0, 31],\n",
       " 369: [0, 0],\n",
       " 370: [0, 0],\n",
       " 371: [0, 31],\n",
       " 373: [0, 2],\n",
       " 374: [0, 2],\n",
       " 376: [0, 29],\n",
       " 377: [0, 28],\n",
       " 378: [0, 0],\n",
       " 380: [0, 28],\n",
       " 383: [0, 1],\n",
       " 385: [0, 29],\n",
       " 395: [0, 25],\n",
       " 397: [0, 1],\n",
       " 398: [0, 0],\n",
       " 399: [0, 0],\n",
       " 402: [0, 1],\n",
       " 403: [0, 1],\n",
       " 405: [0, 24],\n",
       " 406: [0, 1],\n",
       " 407: [0, 1],\n",
       " 409: [0, 23],\n",
       " 410: [0, 23],\n",
       " 412: [0, 25],\n",
       " 422: [0, 111],\n",
       " 423: [0, 2],\n",
       " 424: [0, 111],\n",
       " 425: [0, 2],\n",
       " 426: [0, 0],\n",
       " 427: [0, 2],\n",
       " 428: [0, 0],\n",
       " 429: [0, 1],\n",
       " 431: [0, 1],\n",
       " 433: [0, 2],\n",
       " 434: [0, 109],\n",
       " 435: [0, 1],\n",
       " 436: [0, 1],\n",
       " 437: [0, 108],\n",
       " 439: [0, 0],\n",
       " 440: [0, 0],\n",
       " 441: [0, 108],\n",
       " 442: [0, 0],\n",
       " 443: [0, 0],\n",
       " 444: [0, 0],\n",
       " 445: [0, 0],\n",
       " 447: [0, 1],\n",
       " 448: [0, 1],\n",
       " 449: [0, 107],\n",
       " 450: [0, 0],\n",
       " 452: [0, 3],\n",
       " 454: [0, 0],\n",
       " 455: [0, 3],\n",
       " 456: [0, 0],\n",
       " 458: [0, 3],\n",
       " 460: [0, 3],\n",
       " 461: [0, 105],\n",
       " 462: [0, 1],\n",
       " 463: [0, 1],\n",
       " 465: [0, 104],\n",
       " 466: [0, 104],\n",
       " 468: [0, 111],\n",
       " 477: [0, 2],\n",
       " 478: [0, 1],\n",
       " 479: [0, 1],\n",
       " 480: [0, 1],\n",
       " 481: [0, 0],\n",
       " 482: [0, 0],\n",
       " 484: [0, 0],\n",
       " 486: [0, 0],\n",
       " 487: [0, 1],\n",
       " 488: [0, 0],\n",
       " 489: [0, 0],\n",
       " 491: [0, 0],\n",
       " 493: [0, 1],\n",
       " 494: [0, 0],\n",
       " 496: [0, 0],\n",
       " 497: [0, 1],\n",
       " 498: [0, 1],\n",
       " 500: [0, 1],\n",
       " 502: [0, 2],\n",
       " 512: [0, 110],\n",
       " 513: [0, 0],\n",
       " 514: [0, 69],\n",
       " 515: [0, 69],\n",
       " 518: [0, 48],\n",
       " 520: [0, 110],\n",
       " 528: [0, 15],\n",
       " 530: [0, 2],\n",
       " 531: [0, 0],\n",
       " 532: [0, 1],\n",
       " 534: [0, 1],\n",
       " 536: [0, 2],\n",
       " 538: [0, 13],\n",
       " 539: [0, 1],\n",
       " 540: [0, 12],\n",
       " 541: [0, 0],\n",
       " 542: [0, 0],\n",
       " 543: [0, 12],\n",
       " 544: [0, 1],\n",
       " 545: [0, 11],\n",
       " 546: [0, 7],\n",
       " 549: [0, 13],\n",
       " 550: [0, 1],\n",
       " 552: [0, 12],\n",
       " 555: [0, 15],\n",
       " 564: [0, 13],\n",
       " 565: [0, 3],\n",
       " 566: [0, 1],\n",
       " 568: [0, 2],\n",
       " 570: [0, 3],\n",
       " 572: [0, 10],\n",
       " 573: [0, 10],\n",
       " 575: [0, 13],\n",
       " 584: [0, 156],\n",
       " 585: [0, 1],\n",
       " 586: [0, 1],\n",
       " 588: [0, 155],\n",
       " 589: [0, 155],\n",
       " 591: [0, 156],\n",
       " 601: [0, 168],\n",
       " 602: [0, 0],\n",
       " 603: [0, 0],\n",
       " 604: [0, 1],\n",
       " 606: [0, 167],\n",
       " 608: [0, 168],\n",
       " 618: [0, 71],\n",
       " 620: [0, 1],\n",
       " 621: [0, 70],\n",
       " 623: [0, 1],\n",
       " 624: [0, 1],\n",
       " 625: [0, 69],\n",
       " 626: [0, 1],\n",
       " 629: [0, 0],\n",
       " 631: [0, 1],\n",
       " 633: [0, 1],\n",
       " 634: [0, 68],\n",
       " 636: [0, 1],\n",
       " 637: [0, 0],\n",
       " 639: [0, 1],\n",
       " 641: [0, 1],\n",
       " 642: [0, 67],\n",
       " 647: [0, 2],\n",
       " 648: [0, 2],\n",
       " 649: [0, 65],\n",
       " 650: [0, 4],\n",
       " 652: [0, 61],\n",
       " 655: [0, 0],\n",
       " 657: [0, 61],\n",
       " 659: [0, 61],\n",
       " 661: [0, 71],\n",
       " 670: [0, 4],\n",
       " 672: [0, 2],\n",
       " 675: [0, 0],\n",
       " 677: [0, 0],\n",
       " 679: [0, 0],\n",
       " 682: [0, 2],\n",
       " 683: [0, 1],\n",
       " 685: [0, 1],\n",
       " 688: [0, 2],\n",
       " 689: [0, 1],\n",
       " 691: [0, 1],\n",
       " 693: [0, 4],\n",
       " 702: [0, 25],\n",
       " 703: [0, 12],\n",
       " 704: [0, 12],\n",
       " 705: [0, 13],\n",
       " 706: [0, 1],\n",
       " 707: [0, 1],\n",
       " 708: [0, 12],\n",
       " 710: [0, 2],\n",
       " 712: [0, 0],\n",
       " 713: [0, 0],\n",
       " 714: [0, 0],\n",
       " 716: [0, 2],\n",
       " 718: [0, 2],\n",
       " 720: [0, 11],\n",
       " 721: [0, 11],\n",
       " 723: [0, 25],\n",
       " 732: [0, 18],\n",
       " 734: [0, 1],\n",
       " 735: [0, 1],\n",
       " 737: [0, 17],\n",
       " 738: [0, 0],\n",
       " 739: [0, 3],\n",
       " 741: [0, 2],\n",
       " 744: [0, 1],\n",
       " 746: [0, 3],\n",
       " 747: [0, 14],\n",
       " 748: [0, 0],\n",
       " 750: [0, 0],\n",
       " 752: [0, 2],\n",
       " 753: [0, 2],\n",
       " 754: [0, 12],\n",
       " 756: [0, 0],\n",
       " 757: [0, 0],\n",
       " 759: [0, 12],\n",
       " 762: [0, 18],\n",
       " 771: [0, 32],\n",
       " 772: [0, 1],\n",
       " 773: [0, 1],\n",
       " 775: [0, 31],\n",
       " 776: [0, 0],\n",
       " 777: [0, 0],\n",
       " 779: [0, 31],\n",
       " 781: [0, 31],\n",
       " 783: [0, 32],\n",
       " 791: [0, 9],\n",
       " 793: [0, 0],\n",
       " 794: [0, 0],\n",
       " 796: [0, 9],\n",
       " 797: [0, 5],\n",
       " 799: [0, 4],\n",
       " 801: [0, 9],\n",
       " 803: [0, 9],\n",
       " 229: [0, 32],\n",
       " 245: [0, 82],\n",
       " 246: [0, 0],\n",
       " 907: [0, 269],\n",
       " 908: [0, 269],\n",
       " 909: [0, 269],\n",
       " 910: [0, 9],\n",
       " 911: [0, 9],\n",
       " 914: [0, 269],\n",
       " 890: [0, 269],\n",
       " 891: [0, 0],\n",
       " 898: [0, 154],\n",
       " 262: [0, 260],\n",
       " 263: [0, 260]}"
      ]
     },
     "execution_count": 6,
     "metadata": {},
     "output_type": "execute_result"
    }
   ],
   "source": [
    "line_info"
   ]
  },
  {
   "cell_type": "code",
   "execution_count": 7,
   "id": "9aa6427a-4d89-4b81-9bf8-c6cea8ff5932",
   "metadata": {},
   "outputs": [
    {
     "name": "stdout",
     "output_type": "stream",
     "text": [
      "['org.apache.commons.codec.language.DoubleMetaphone2Test::testDoubleMetaphoneAlternate']\n"
     ]
    },
    {
     "name": "stderr",
     "output_type": "stream",
     "text": [
      "Running ant (compile.tests)................................................ OK\n",
      "Running ant (coverage.instrument).......................................... OK\n",
      "Running ant (run.dev.tests)................................................ OK\n",
      "Running ant (coverage.report).............................................. OK\n",
      "Running ant (compile.tests)................................................ "
     ]
    },
    {
     "name": "stdout",
     "output_type": "stream",
     "text": [
      "       Lines total: 414\n",
      "     Lines covered: 104\n",
      "  Conditions total: 450\n",
      "Conditions covered: 69\n",
      "     Line coverage: 25.1%\n",
      "Condition coverage: 15.3%\n"
     ]
    },
    {
     "name": "stderr",
     "output_type": "stream",
     "text": [
      "OK\n",
      "Running ant (coverage.instrument).......................................... OK\n",
      "Running ant (run.dev.tests)................................................ OK\n",
      "Running ant (coverage.report).............................................. OK\n",
      "Running ant (compile.tests)................................................ "
     ]
    },
    {
     "name": "stdout",
     "output_type": "stream",
     "text": [
      "       Lines total: 414\n",
      "     Lines covered: 9\n",
      "  Conditions total: 450\n",
      "Conditions covered: 1\n",
      "     Line coverage: 2.2%\n",
      "Condition coverage: 0.2%\n"
     ]
    },
    {
     "name": "stderr",
     "output_type": "stream",
     "text": [
      "OK\n",
      "Running ant (coverage.instrument).......................................... OK\n",
      "Running ant (run.dev.tests)................................................ OK\n",
      "Running ant (coverage.report).............................................. OK\n",
      "Running ant (compile.tests)................................................ "
     ]
    },
    {
     "name": "stdout",
     "output_type": "stream",
     "text": [
      "       Lines total: 414\n",
      "     Lines covered: 0\n",
      "  Conditions total: 450\n",
      "Conditions covered: 0\n",
      "     Line coverage: 0.0%\n",
      "Condition coverage: 0.0%\n"
     ]
    },
    {
     "name": "stderr",
     "output_type": "stream",
     "text": [
      "OK\n",
      "Running ant (coverage.instrument).......................................... OK\n",
      "Running ant (run.dev.tests)................................................ OK\n",
      "Running ant (coverage.report).............................................. OK\n",
      "Running ant (compile.tests)................................................ "
     ]
    },
    {
     "name": "stdout",
     "output_type": "stream",
     "text": [
      "       Lines total: 414\n",
      "     Lines covered: 0\n",
      "  Conditions total: 450\n",
      "Conditions covered: 0\n",
      "     Line coverage: 0.0%\n",
      "Condition coverage: 0.0%\n"
     ]
    },
    {
     "name": "stderr",
     "output_type": "stream",
     "text": [
      "OK\n",
      "Running ant (coverage.instrument).......................................... OK\n",
      "Running ant (run.dev.tests)................................................ OK\n",
      "Running ant (coverage.report).............................................. OK\n",
      "Running ant (compile.tests)................................................ "
     ]
    },
    {
     "name": "stdout",
     "output_type": "stream",
     "text": [
      "       Lines total: 414\n",
      "     Lines covered: 380\n",
      "  Conditions total: 450\n",
      "Conditions covered: 386\n",
      "     Line coverage: 91.8%\n",
      "Condition coverage: 85.8%\n"
     ]
    },
    {
     "name": "stderr",
     "output_type": "stream",
     "text": [
      "OK\n",
      "Running ant (coverage.instrument).......................................... OK\n",
      "Running ant (run.dev.tests)................................................ OK\n",
      "Running ant (coverage.report).............................................. OK\n",
      "WARNING: Some tests failed (see /Users/hugoyin/Desktop/UIUC/CS_527/CS_527_Project/Defects4J/Codec_3/Buggy-Version/Codec_3B/failing_tests)!\n",
      "Running ant (compile.tests)................................................ "
     ]
    },
    {
     "name": "stdout",
     "output_type": "stream",
     "text": [
      "       Lines total: 414\n",
      "     Lines covered: 186\n",
      "  Conditions total: 450\n",
      "Conditions covered: 135\n",
      "     Line coverage: 44.9%\n",
      "Condition coverage: 30.0%\n"
     ]
    },
    {
     "name": "stderr",
     "output_type": "stream",
     "text": [
      "OK\n",
      "Running ant (coverage.instrument).......................................... OK\n",
      "Running ant (run.dev.tests)................................................ OK\n",
      "Running ant (coverage.report).............................................. OK\n",
      "Running ant (compile.tests)................................................ "
     ]
    },
    {
     "name": "stdout",
     "output_type": "stream",
     "text": [
      "       Lines total: 414\n",
      "     Lines covered: 87\n",
      "  Conditions total: 450\n",
      "Conditions covered: 47\n",
      "     Line coverage: 21.0%\n",
      "Condition coverage: 10.4%\n"
     ]
    },
    {
     "name": "stderr",
     "output_type": "stream",
     "text": [
      "OK\n",
      "Running ant (coverage.instrument).......................................... OK\n",
      "Running ant (run.dev.tests)................................................ OK\n",
      "Running ant (coverage.report).............................................. OK\n",
      "Running ant (compile.tests)................................................ "
     ]
    },
    {
     "name": "stdout",
     "output_type": "stream",
     "text": [
      "       Lines total: 414\n",
      "     Lines covered: 164\n",
      "  Conditions total: 450\n",
      "Conditions covered: 109\n",
      "     Line coverage: 39.6%\n",
      "Condition coverage: 24.2%\n"
     ]
    },
    {
     "name": "stderr",
     "output_type": "stream",
     "text": [
      "OK\n",
      "Running ant (coverage.instrument).......................................... OK\n",
      "Running ant (run.dev.tests)................................................ OK\n",
      "Running ant (coverage.report).............................................. OK\n",
      "Running ant (compile.tests)................................................ "
     ]
    },
    {
     "name": "stdout",
     "output_type": "stream",
     "text": [
      "       Lines total: 414\n",
      "     Lines covered: 16\n",
      "  Conditions total: 450\n",
      "Conditions covered: 4\n",
      "     Line coverage: 3.9%\n",
      "Condition coverage: 0.9%\n"
     ]
    },
    {
     "name": "stderr",
     "output_type": "stream",
     "text": [
      "OK\n",
      "Running ant (coverage.instrument).......................................... OK\n",
      "Running ant (run.dev.tests)................................................ OK\n",
      "Running ant (coverage.report).............................................. OK\n",
      "Running ant (compile.tests)................................................ "
     ]
    },
    {
     "name": "stdout",
     "output_type": "stream",
     "text": [
      "       Lines total: 414\n",
      "     Lines covered: 64\n",
      "  Conditions total: 450\n",
      "Conditions covered: 36\n",
      "     Line coverage: 15.5%\n",
      "Condition coverage: 8.0%\n"
     ]
    },
    {
     "name": "stderr",
     "output_type": "stream",
     "text": [
      "OK\n",
      "Running ant (coverage.instrument).......................................... OK\n",
      "Running ant (run.dev.tests)................................................ OK\n",
      "Running ant (coverage.report).............................................. OK\n",
      "Running ant (compile.tests)................................................ "
     ]
    },
    {
     "name": "stdout",
     "output_type": "stream",
     "text": [
      "       Lines total: 414\n",
      "     Lines covered: 7\n",
      "  Conditions total: 450\n",
      "Conditions covered: 0\n",
      "     Line coverage: 1.7%\n",
      "Condition coverage: 0.0%\n"
     ]
    },
    {
     "name": "stderr",
     "output_type": "stream",
     "text": [
      "OK\n",
      "Running ant (coverage.instrument).......................................... OK\n",
      "Running ant (run.dev.tests)................................................ OK\n",
      "Running ant (coverage.report).............................................. OK\n",
      "Running ant (compile.tests)................................................ "
     ]
    },
    {
     "name": "stdout",
     "output_type": "stream",
     "text": [
      "       Lines total: 414\n",
      "     Lines covered: 79\n",
      "  Conditions total: 450\n",
      "Conditions covered: 40\n",
      "     Line coverage: 19.1%\n",
      "Condition coverage: 8.9%\n"
     ]
    },
    {
     "name": "stderr",
     "output_type": "stream",
     "text": [
      "OK\n",
      "Running ant (coverage.instrument).......................................... OK\n",
      "Running ant (run.dev.tests)................................................ OK\n",
      "Running ant (coverage.report).............................................. OK\n",
      "Running ant (compile.tests)................................................ "
     ]
    },
    {
     "name": "stdout",
     "output_type": "stream",
     "text": [
      "       Lines total: 414\n",
      "     Lines covered: 346\n",
      "  Conditions total: 450\n",
      "Conditions covered: 329\n",
      "     Line coverage: 83.6%\n",
      "Condition coverage: 73.1%\n"
     ]
    },
    {
     "name": "stderr",
     "output_type": "stream",
     "text": [
      "OK\n",
      "Running ant (coverage.instrument).......................................... OK\n",
      "Running ant (run.dev.tests)................................................ OK\n",
      "Running ant (coverage.report).............................................. OK\n",
      "Running ant (compile.tests)................................................ "
     ]
    },
    {
     "name": "stdout",
     "output_type": "stream",
     "text": [
      "       Lines total: 414\n",
      "     Lines covered: 331\n",
      "  Conditions total: 450\n",
      "Conditions covered: 307\n",
      "     Line coverage: 80.0%\n",
      "Condition coverage: 68.2%\n"
     ]
    },
    {
     "name": "stderr",
     "output_type": "stream",
     "text": [
      "OK\n",
      "Running ant (coverage.instrument).......................................... OK\n",
      "Running ant (run.dev.tests)................................................ OK\n",
      "Running ant (coverage.report).............................................. OK\n",
      "Running ant (compile.tests)................................................ "
     ]
    },
    {
     "name": "stdout",
     "output_type": "stream",
     "text": [
      "       Lines total: 414\n",
      "     Lines covered: 243\n",
      "  Conditions total: 450\n",
      "Conditions covered: 176\n",
      "     Line coverage: 58.7%\n",
      "Condition coverage: 39.1%\n"
     ]
    },
    {
     "name": "stderr",
     "output_type": "stream",
     "text": [
      "OK\n",
      "Running ant (coverage.instrument).......................................... OK\n",
      "Running ant (run.dev.tests)................................................ OK\n",
      "Running ant (coverage.report).............................................. OK\n",
      "Running ant (compile.tests)................................................ "
     ]
    },
    {
     "name": "stdout",
     "output_type": "stream",
     "text": [
      "       Lines total: 414\n",
      "     Lines covered: 51\n",
      "  Conditions total: 450\n",
      "Conditions covered: 23\n",
      "     Line coverage: 12.3%\n",
      "Condition coverage: 5.1%\n"
     ]
    },
    {
     "name": "stderr",
     "output_type": "stream",
     "text": [
      "OK\n",
      "Running ant (coverage.instrument).......................................... OK\n",
      "Running ant (run.dev.tests)................................................ OK\n",
      "Running ant (coverage.report).............................................. OK\n",
      "Running ant (compile.tests)................................................ "
     ]
    },
    {
     "name": "stdout",
     "output_type": "stream",
     "text": [
      "       Lines total: 414\n",
      "     Lines covered: 74\n",
      "  Conditions total: 450\n",
      "Conditions covered: 36\n",
      "     Line coverage: 17.9%\n",
      "Condition coverage: 8.0%\n"
     ]
    },
    {
     "name": "stderr",
     "output_type": "stream",
     "text": [
      "OK\n",
      "Running ant (coverage.instrument).......................................... OK\n",
      "Running ant (run.dev.tests)................................................ OK\n",
      "Running ant (coverage.report).............................................. OK\n",
      "Running ant (compile.tests)................................................ "
     ]
    },
    {
     "name": "stdout",
     "output_type": "stream",
     "text": [
      "       Lines total: 414\n",
      "     Lines covered: 7\n",
      "  Conditions total: 450\n",
      "Conditions covered: 0\n",
      "     Line coverage: 1.7%\n",
      "Condition coverage: 0.0%\n"
     ]
    },
    {
     "name": "stderr",
     "output_type": "stream",
     "text": [
      "OK\n",
      "Running ant (coverage.instrument).......................................... OK\n",
      "Running ant (run.dev.tests)................................................ OK\n",
      "Running ant (coverage.report).............................................. OK\n",
      "Running ant (compile.tests)................................................ "
     ]
    },
    {
     "name": "stdout",
     "output_type": "stream",
     "text": [
      "       Lines total: 414\n",
      "     Lines covered: 7\n",
      "  Conditions total: 450\n",
      "Conditions covered: 0\n",
      "     Line coverage: 1.7%\n",
      "Condition coverage: 0.0%\n"
     ]
    },
    {
     "name": "stderr",
     "output_type": "stream",
     "text": [
      "OK\n",
      "Running ant (coverage.instrument).......................................... OK\n",
      "Running ant (run.dev.tests)................................................ OK\n",
      "Running ant (coverage.report).............................................. OK\n",
      "Running ant (compile.tests)................................................ "
     ]
    },
    {
     "name": "stdout",
     "output_type": "stream",
     "text": [
      "       Lines total: 414\n",
      "     Lines covered: 7\n",
      "  Conditions total: 450\n",
      "Conditions covered: 0\n",
      "     Line coverage: 1.7%\n",
      "Condition coverage: 0.0%\n"
     ]
    },
    {
     "name": "stderr",
     "output_type": "stream",
     "text": [
      "OK\n",
      "Running ant (coverage.instrument).......................................... OK\n",
      "Running ant (run.dev.tests)................................................ OK\n",
      "Running ant (coverage.report).............................................. "
     ]
    },
    {
     "name": "stdout",
     "output_type": "stream",
     "text": [
      "       Lines total: 414\n",
      "     Lines covered: 7\n",
      "  Conditions total: 450\n",
      "Conditions covered: 0\n",
      "     Line coverage: 1.7%\n",
      "Condition coverage: 0.0%\n"
     ]
    },
    {
     "name": "stderr",
     "output_type": "stream",
     "text": [
      "OK\n"
     ]
    }
   ],
   "source": [
    "default_failed_tests = \"../../Codec_3_test_failed.txt\"\n",
    "default_failed_list = []\n",
    "\n",
    "\n",
    "with open(default_failed_tests, 'r') as file:\n",
    "        # Read all lines from the file and convert each to an integer\n",
    "        default_failed_list = [line.strip() for line in file]\n",
    "\n",
    "print(default_failed_list)\n",
    "\n",
    "all_test_file = \"default_tests.txt\"\n",
    "relevant_class = [\"org.apache.commons.codec.StringEncoderComparatorTest\",\"org.apache.commons.codec.language.DoubleMetaphoneTest\",\"org.apache.commons.codec.language.DoubleMetaphone2Test\"]\n",
    "default_test_count = 0\n",
    "\n",
    "with open(all_test_file, 'r') as file:\n",
    "        for line in file:\n",
    "            test_name, test_class = line.strip().split('(')\n",
    "            test_class = test_class[:-1]  # Remove the closing parenthesis\n",
    "            if test_class not in relevant_class:\n",
    "                continue\n",
    "            complete_test = test_class + \"::\" + test_name\n",
    "            default_test_count += 1\n",
    "\n",
    "            visited = []\n",
    "            command = f\"defects4j coverage -t {complete_test}\"\n",
    "            \n",
    "            # Run the command\n",
    "            subprocess.run(command, shell=True, check=True)\n",
    "            \n",
    "            # Parse the coverage XML file\n",
    "            tree = ET.parse(coverage_xml_path)\n",
    "            root = tree.getroot()\n",
    "            \n",
    "            class_xpath = \".//class[@name='org.apache.commons.codec.language.DoubleMetaphone']\"\n",
    "            metaphone_class = root.find(class_xpath)\n",
    "            \n",
    "            if metaphone_class is not None:\n",
    "                for line in metaphone_class.findall(\".//line\"):\n",
    "                    num = int(line.get('number'))\n",
    "                    if num in visited:\n",
    "                        continue\n",
    "            \n",
    "                    if num in line_numbers:\n",
    "                        hits = int(line.get('hits'))\n",
    "                        if hits > 0:\n",
    "                            if complete_test in default_failed_list:\n",
    "                                line_info[num][0] += 1\n",
    "                            else:\n",
    "                                line_info[num][1] += 1\n",
    "            \n",
    "                    visited.append(num)"
   ]
  },
  {
   "cell_type": "code",
   "execution_count": 8,
   "id": "abefb6d5-ba34-4567-b44f-b871f88d6aee",
   "metadata": {},
   "outputs": [
    {
     "name": "stdout",
     "output_type": "stream",
     "text": [
      "21\n"
     ]
    },
    {
     "data": {
      "text/plain": [
       "{47: [1, 464],\n",
       " 49: [1, 464],\n",
       " 51: [1, 464],\n",
       " 53: [1, 464],\n",
       " 59: [1, 452],\n",
       " 65: [1, 452],\n",
       " 66: [1, 452],\n",
       " 937: [1, 264],\n",
       " 938: [1, 134],\n",
       " 940: [1, 246],\n",
       " 921: [1, 435],\n",
       " 922: [0, 2],\n",
       " 924: [1, 434],\n",
       " 925: [1, 434],\n",
       " 926: [0, 306],\n",
       " 928: [1, 280],\n",
       " 812: [1, 54],\n",
       " 813: [0, 2],\n",
       " 814: [1, 53],\n",
       " 815: [1, 14],\n",
       " 816: [1, 44],\n",
       " 817: [1, 32],\n",
       " 818: [1, 42],\n",
       " 819: [1, 36],\n",
       " 821: [0, 35],\n",
       " 822: [0, 35],\n",
       " 823: [0, 0],\n",
       " 831: [0, 34],\n",
       " 832: [0, 32],\n",
       " 833: [0, 5],\n",
       " 834: [0, 0],\n",
       " 835: [0, 4],\n",
       " 836: [0, 2],\n",
       " 837: [0, 1],\n",
       " 839: [0, 1],\n",
       " 847: [0, 34],\n",
       " 849: [0, 0],\n",
       " 850: [0, 0],\n",
       " 851: [0, 0],\n",
       " 852: [0, 0],\n",
       " 859: [1, 7],\n",
       " 860: [0, 0],\n",
       " 861: [0, 2],\n",
       " 862: [1, 6],\n",
       " 863: [0, 0],\n",
       " 864: [0, 0],\n",
       " 865: [0, 1],\n",
       " 867: [1, 6],\n",
       " 875: [1, 67],\n",
       " 876: [0, 29],\n",
       " 878: [1, 53],\n",
       " 879: [0, 0],\n",
       " 948: [1, 194],\n",
       " 957: [1, 216],\n",
       " 967: [1, 141],\n",
       " 977: [1, 53],\n",
       " 989: [0, 4],\n",
       " 1001: [0, 5],\n",
       " 1012: [1, 241],\n",
       " 1013: [1, 241],\n",
       " 1014: [1, 220],\n",
       " 1016: [1, 220],\n",
       " 1017: [1, 218],\n",
       " 1018: [1, 84],\n",
       " 1019: [1, 84],\n",
       " 1023: [1, 239],\n",
       " 75: [0, 366],\n",
       " 87: [1, 435],\n",
       " 88: [1, 435],\n",
       " 89: [0, 307],\n",
       " 92: [1, 280],\n",
       " 93: [1, 280],\n",
       " 95: [1, 280],\n",
       " 97: [1, 280],\n",
       " 98: [1, 262],\n",
       " 105: [1, 210],\n",
       " 106: [1, 210],\n",
       " 108: [1, 12],\n",
       " 109: [1, 12],\n",
       " 110: [1, 12],\n",
       " 113: [0, 1],\n",
       " 114: [0, 1],\n",
       " 115: [0, 1],\n",
       " 117: [1, 54],\n",
       " 118: [1, 54],\n",
       " 120: [1, 32],\n",
       " 121: [1, 32],\n",
       " 123: [0, 15],\n",
       " 124: [0, 15],\n",
       " 125: [0, 15],\n",
       " 127: [1, 115],\n",
       " 128: [1, 115],\n",
       " 130: [1, 113],\n",
       " 131: [1, 113],\n",
       " 133: [0, 22],\n",
       " 134: [0, 22],\n",
       " 136: [1, 95],\n",
       " 137: [1, 95],\n",
       " 138: [1, 95],\n",
       " 140: [1, 19],\n",
       " 141: [1, 19],\n",
       " 143: [1, 67],\n",
       " 144: [1, 67],\n",
       " 145: [1, 67],\n",
       " 147: [1, 75],\n",
       " 148: [1, 75],\n",
       " 149: [1, 75],\n",
       " 152: [0, 1],\n",
       " 153: [0, 1],\n",
       " 154: [0, 1],\n",
       " 156: [1, 163],\n",
       " 157: [1, 163],\n",
       " 159: [0, 11],\n",
       " 160: [0, 11],\n",
       " 161: [0, 11],\n",
       " 163: [1, 175],\n",
       " 164: [1, 175],\n",
       " 166: [1, 78],\n",
       " 167: [1, 78],\n",
       " 169: [1, 30],\n",
       " 170: [1, 30],\n",
       " 172: [1, 12],\n",
       " 173: [1, 12],\n",
       " 174: [1, 12],\n",
       " 176: [1, 23],\n",
       " 177: [1, 23],\n",
       " 179: [0, 36],\n",
       " 180: [0, 36],\n",
       " 182: [0, 13],\n",
       " 183: [0, 13],\n",
       " 185: [0, 161],\n",
       " 186: [0, 161],\n",
       " 190: [1, 280],\n",
       " 202: [0, 64],\n",
       " 203: [0, 50],\n",
       " 205: [0, 17],\n",
       " 215: [0, 148],\n",
       " 254: [1, 436],\n",
       " 272: [1, 210],\n",
       " 273: [1, 170],\n",
       " 275: [1, 210],\n",
       " 284: [1, 54],\n",
       " 285: [0, 9],\n",
       " 286: [0, 9],\n",
       " 287: [1, 48],\n",
       " 288: [0, 4],\n",
       " 289: [0, 4],\n",
       " 290: [1, 47],\n",
       " 291: [0, 34],\n",
       " 292: [1, 42],\n",
       " 293: [0, 0],\n",
       " 295: [0, 3],\n",
       " 296: [0, 3],\n",
       " 297: [1, 41],\n",
       " 299: [0, 1],\n",
       " 300: [0, 1],\n",
       " 301: [1, 41],\n",
       " 302: [0, 0],\n",
       " 304: [0, 7],\n",
       " 305: [1, 38],\n",
       " 306: [1, 6],\n",
       " 307: [1, 6],\n",
       " 308: [1, 37],\n",
       " 310: [0, 5],\n",
       " 311: [0, 3],\n",
       " 313: [0, 4],\n",
       " 315: [0, 5],\n",
       " 317: [1, 35],\n",
       " 318: [1, 35],\n",
       " 320: [0, 1],\n",
       " 321: [1, 35],\n",
       " 322: [0, 0],\n",
       " 323: [0, 2],\n",
       " 325: [1, 34],\n",
       " 329: [1, 51],\n",
       " 338: [0, 7],\n",
       " 339: [0, 0],\n",
       " 341: [0, 5],\n",
       " 342: [0, 0],\n",
       " 344: [0, 5],\n",
       " 347: [0, 2],\n",
       " 349: [0, 5],\n",
       " 351: [0, 5],\n",
       " 352: [0, 5],\n",
       " 355: [0, 7],\n",
       " 364: [0, 34],\n",
       " 365: [0, 0],\n",
       " 366: [0, 0],\n",
       " 367: [0, 34],\n",
       " 369: [0, 1],\n",
       " 370: [0, 1],\n",
       " 371: [0, 34],\n",
       " 373: [0, 5],\n",
       " 374: [0, 5],\n",
       " 376: [0, 32],\n",
       " 377: [0, 31],\n",
       " 378: [0, 1],\n",
       " 380: [0, 31],\n",
       " 383: [0, 4],\n",
       " 385: [0, 32],\n",
       " 395: [1, 32],\n",
       " 397: [0, 3],\n",
       " 398: [0, 2],\n",
       " 399: [0, 2],\n",
       " 402: [0, 3],\n",
       " 403: [0, 3],\n",
       " 405: [1, 31],\n",
       " 406: [0, 4],\n",
       " 407: [0, 4],\n",
       " 409: [1, 30],\n",
       " 410: [1, 30],\n",
       " 412: [1, 32],\n",
       " 422: [1, 115],\n",
       " 423: [0, 5],\n",
       " 424: [1, 115],\n",
       " 425: [0, 5],\n",
       " 426: [0, 0],\n",
       " 427: [0, 5],\n",
       " 428: [0, 0],\n",
       " 429: [0, 4],\n",
       " 431: [0, 2],\n",
       " 433: [0, 5],\n",
       " 434: [1, 113],\n",
       " 435: [0, 2],\n",
       " 436: [0, 2],\n",
       " 437: [1, 112],\n",
       " 439: [0, 1],\n",
       " 440: [0, 1],\n",
       " 441: [1, 112],\n",
       " 442: [0, 0],\n",
       " 443: [0, 0],\n",
       " 444: [0, 0],\n",
       " 445: [0, 0],\n",
       " 447: [0, 3],\n",
       " 448: [0, 3],\n",
       " 449: [1, 111],\n",
       " 450: [0, 0],\n",
       " 452: [1, 6],\n",
       " 454: [0, 1],\n",
       " 455: [1, 6],\n",
       " 456: [0, 0],\n",
       " 458: [1, 6],\n",
       " 460: [1, 6],\n",
       " 461: [1, 109],\n",
       " 462: [1, 4],\n",
       " 463: [1, 4],\n",
       " 465: [0, 108],\n",
       " 466: [0, 108],\n",
       " 468: [1, 115],\n",
       " 477: [0, 5],\n",
       " 478: [0, 2],\n",
       " 479: [0, 2],\n",
       " 480: [0, 4],\n",
       " 481: [0, 3],\n",
       " 482: [0, 1],\n",
       " 484: [0, 2],\n",
       " 486: [0, 3],\n",
       " 487: [0, 4],\n",
       " 488: [0, 0],\n",
       " 489: [0, 0],\n",
       " 491: [0, 3],\n",
       " 493: [0, 4],\n",
       " 494: [0, 0],\n",
       " 496: [0, 3],\n",
       " 497: [0, 4],\n",
       " 498: [0, 3],\n",
       " 500: [0, 4],\n",
       " 502: [0, 5],\n",
       " 512: [1, 113],\n",
       " 513: [0, 0],\n",
       " 514: [0, 72],\n",
       " 515: [0, 72],\n",
       " 518: [1, 51],\n",
       " 520: [1, 113],\n",
       " 528: [0, 22],\n",
       " 530: [0, 4],\n",
       " 531: [0, 0],\n",
       " 532: [0, 3],\n",
       " 534: [0, 2],\n",
       " 536: [0, 4],\n",
       " 538: [0, 20],\n",
       " 539: [0, 8],\n",
       " 540: [0, 15],\n",
       " 541: [0, 0],\n",
       " 542: [0, 2],\n",
       " 543: [0, 15],\n",
       " 544: [0, 1],\n",
       " 545: [0, 14],\n",
       " 546: [0, 10],\n",
       " 549: [0, 20],\n",
       " 550: [0, 1],\n",
       " 552: [0, 19],\n",
       " 555: [0, 22],\n",
       " 564: [1, 19],\n",
       " 565: [1, 7],\n",
       " 566: [0, 2],\n",
       " 568: [1, 6],\n",
       " 570: [1, 7],\n",
       " 572: [1, 16],\n",
       " 573: [1, 16],\n",
       " 575: [1, 19],\n",
       " 584: [1, 163],\n",
       " 585: [0, 6],\n",
       " 586: [0, 6],\n",
       " 588: [1, 162],\n",
       " 589: [1, 162],\n",
       " 591: [1, 163],\n",
       " 601: [1, 175],\n",
       " 602: [0, 0],\n",
       " 603: [0, 0],\n",
       " 604: [1, 2],\n",
       " 606: [1, 174],\n",
       " 608: [1, 175],\n",
       " 618: [1, 78],\n",
       " 620: [0, 3],\n",
       " 621: [1, 77],\n",
       " 623: [0, 3],\n",
       " 624: [0, 3],\n",
       " 625: [1, 76],\n",
       " 626: [0, 4],\n",
       " 629: [0, 1],\n",
       " 631: [0, 4],\n",
       " 633: [0, 4],\n",
       " 634: [1, 75],\n",
       " 636: [0, 3],\n",
       " 637: [0, 0],\n",
       " 639: [0, 3],\n",
       " 641: [0, 3],\n",
       " 642: [1, 74],\n",
       " 647: [0, 5],\n",
       " 648: [0, 5],\n",
       " 649: [1, 72],\n",
       " 650: [0, 7],\n",
       " 652: [1, 68],\n",
       " 655: [0, 1],\n",
       " 657: [1, 68],\n",
       " 659: [1, 68],\n",
       " 661: [1, 78],\n",
       " 670: [0, 7],\n",
       " 672: [0, 5],\n",
       " 675: [0, 1],\n",
       " 677: [0, 1],\n",
       " 679: [0, 1],\n",
       " 682: [0, 5],\n",
       " 683: [0, 2],\n",
       " 685: [0, 4],\n",
       " 688: [0, 5],\n",
       " 689: [0, 4],\n",
       " 691: [0, 4],\n",
       " 693: [0, 7],\n",
       " 702: [1, 30],\n",
       " 703: [0, 15],\n",
       " 704: [0, 15],\n",
       " 705: [1, 18],\n",
       " 706: [0, 4],\n",
       " 707: [0, 4],\n",
       " 708: [1, 17],\n",
       " 710: [0, 6],\n",
       " 712: [0, 0],\n",
       " 713: [0, 0],\n",
       " 714: [0, 1],\n",
       " 716: [0, 6],\n",
       " 718: [0, 6],\n",
       " 720: [1, 16],\n",
       " 721: [1, 16],\n",
       " 723: [1, 30],\n",
       " 732: [1, 23],\n",
       " 734: [0, 4],\n",
       " 735: [0, 4],\n",
       " 737: [1, 22],\n",
       " 738: [0, 0],\n",
       " 739: [0, 6],\n",
       " 741: [0, 5],\n",
       " 744: [0, 4],\n",
       " 746: [0, 6],\n",
       " 747: [1, 19],\n",
       " 748: [0, 0],\n",
       " 750: [0, 0],\n",
       " 752: [0, 6],\n",
       " 753: [0, 6],\n",
       " 754: [1, 17],\n",
       " 756: [0, 2],\n",
       " 757: [0, 2],\n",
       " 759: [1, 16],\n",
       " 762: [1, 23],\n",
       " 771: [0, 36],\n",
       " 772: [0, 2],\n",
       " 773: [0, 2],\n",
       " 775: [0, 35],\n",
       " 776: [0, 0],\n",
       " 777: [0, 0],\n",
       " 779: [0, 35],\n",
       " 781: [0, 35],\n",
       " 783: [0, 36],\n",
       " 791: [0, 13],\n",
       " 793: [0, 1],\n",
       " 794: [0, 1],\n",
       " 796: [0, 13],\n",
       " 797: [0, 6],\n",
       " 799: [0, 8],\n",
       " 801: [0, 13],\n",
       " 803: [0, 13],\n",
       " 229: [0, 36],\n",
       " 245: [0, 89],\n",
       " 246: [0, 0],\n",
       " 907: [1, 280],\n",
       " 908: [1, 280],\n",
       " 909: [1, 280],\n",
       " 910: [0, 12],\n",
       " 911: [0, 12],\n",
       " 914: [1, 280],\n",
       " 890: [1, 280],\n",
       " 891: [0, 0],\n",
       " 898: [1, 159],\n",
       " 262: [0, 261],\n",
       " 263: [0, 261]}"
      ]
     },
     "execution_count": 8,
     "metadata": {},
     "output_type": "execute_result"
    }
   ],
   "source": [
    "print(default_test_count)\n",
    "line_info"
   ]
  },
  {
   "cell_type": "code",
   "execution_count": 9,
   "id": "d4359293-5516-4aa0-a5b4-920523d432d6",
   "metadata": {},
   "outputs": [
    {
     "data": {
      "text/plain": [
       "{47: 0.5010752688172043,\n",
       " 49: 0.5010752688172043,\n",
       " 51: 0.5010752688172043,\n",
       " 53: 0.5010752688172043,\n",
       " 59: 0.5076252723311546,\n",
       " 65: 0.5076252723311546,\n",
       " 66: 0.5076252723311546,\n",
       " 937: 0.6383561643835617,\n",
       " 938: 0.7766666666666666,\n",
       " 940: 0.6544943820224719,\n",
       " 921: 0.5172031076581576,\n",
       " 922: 0.0,\n",
       " 924: 0.5177777777777778,\n",
       " 925: 0.5177777777777778,\n",
       " 926: 0.0,\n",
       " 928: 0.6246648793565683,\n",
       " 812: 0.8961538461538462,\n",
       " 813: 0.0,\n",
       " 814: 0.8978805394990367,\n",
       " 815: 0.9708333333333334,\n",
       " 816: 0.9137254901960785,\n",
       " 817: 0.9357429718875502,\n",
       " 818: 0.9173228346456692,\n",
       " 819: 0.9282868525896414,\n",
       " 821: 0.0,\n",
       " 822: 0.0,\n",
       " 823: 0,\n",
       " 831: 0.0,\n",
       " 832: 0.0,\n",
       " 833: 0.0,\n",
       " 834: 0,\n",
       " 835: 0.0,\n",
       " 836: 0.0,\n",
       " 837: 0.0,\n",
       " 839: 0.0,\n",
       " 847: 0.0,\n",
       " 849: 0,\n",
       " 850: 0,\n",
       " 851: 0,\n",
       " 852: 0,\n",
       " 859: 0.985200845665962,\n",
       " 860: 0,\n",
       " 861: 0.0,\n",
       " 862: 0.9872881355932203,\n",
       " 863: 0,\n",
       " 864: 0,\n",
       " 865: 0.0,\n",
       " 867: 0.9872881355932203,\n",
       " 875: 0.8742964352720451,\n",
       " 876: 0.0,\n",
       " 878: 0.8978805394990367,\n",
       " 879: 0,\n",
       " 948: 0.706060606060606,\n",
       " 957: 0.6832844574780058,\n",
       " 967: 0.7677100494233937,\n",
       " 977: 0.8978805394990367,\n",
       " 989: 0.0,\n",
       " 1001: 0.0,\n",
       " 1012: 0.6591230551626591,\n",
       " 1013: 0.6591230551626591,\n",
       " 1014: 0.6793002915451896,\n",
       " 1016: 0.6793002915451896,\n",
       " 1017: 0.6812865497076024,\n",
       " 1018: 0.8472727272727272,\n",
       " 1019: 0.8472727272727272,\n",
       " 1023: 0.6609929078014184,\n",
       " 75: 0.0,\n",
       " 87: 0.5172031076581576,\n",
       " 88: 0.5172031076581576,\n",
       " 89: 0.0,\n",
       " 92: 0.6246648793565683,\n",
       " 93: 0.6246648793565683,\n",
       " 95: 0.6246648793565683,\n",
       " 97: 0.6246648793565683,\n",
       " 98: 0.6401098901098901,\n",
       " 105: 0.6893491124260355,\n",
       " 106: 0.6893491124260355,\n",
       " 108: 0.9748953974895397,\n",
       " 109: 0.9748953974895397,\n",
       " 110: 0.9748953974895397,\n",
       " 113: 0.0,\n",
       " 114: 0.0,\n",
       " 115: 0.0,\n",
       " 117: 0.8961538461538462,\n",
       " 118: 0.8961538461538462,\n",
       " 120: 0.9357429718875502,\n",
       " 121: 0.9357429718875502,\n",
       " 123: 0.0,\n",
       " 124: 0.0,\n",
       " 125: 0.0,\n",
       " 127: 0.802065404475043,\n",
       " 128: 0.802065404475043,\n",
       " 130: 0.8048359240069085,\n",
       " 131: 0.8048359240069085,\n",
       " 133: 0.0,\n",
       " 134: 0.0,\n",
       " 136: 0.8306595365418895,\n",
       " 137: 0.8306595365418895,\n",
       " 138: 0.8306595365418895,\n",
       " 140: 0.9608247422680412,\n",
       " 141: 0.9608247422680412,\n",
       " 143: 0.8742964352720451,\n",
       " 144: 0.8742964352720451,\n",
       " 145: 0.8742964352720451,\n",
       " 147: 0.8613678373382625,\n",
       " 148: 0.8613678373382625,\n",
       " 149: 0.8613678373382625,\n",
       " 152: 0.0,\n",
       " 153: 0.0,\n",
       " 154: 0.0,\n",
       " 156: 0.7408585055643879,\n",
       " 157: 0.7408585055643879,\n",
       " 159: 0.0,\n",
       " 160: 0.0,\n",
       " 161: 0.0,\n",
       " 163: 0.7269890795631826,\n",
       " 164: 0.7269890795631826,\n",
       " 166: 0.8566176470588235,\n",
       " 167: 0.8566176470588235,\n",
       " 169: 0.9395161290322581,\n",
       " 170: 0.9395161290322581,\n",
       " 172: 0.9748953974895397,\n",
       " 173: 0.9748953974895397,\n",
       " 174: 0.9748953974895397,\n",
       " 176: 0.9529652351738241,\n",
       " 177: 0.9529652351738241,\n",
       " 179: 0.0,\n",
       " 180: 0.0,\n",
       " 182: 0.0,\n",
       " 183: 0.0,\n",
       " 185: 0.0,\n",
       " 186: 0.0,\n",
       " 190: 0.6246648793565683,\n",
       " 202: 0.0,\n",
       " 203: 0.0,\n",
       " 205: 0.0,\n",
       " 215: 0.0,\n",
       " 254: 0.516629711751663,\n",
       " 272: 0.6893491124260355,\n",
       " 273: 0.7327044025157232,\n",
       " 275: 0.6893491124260355,\n",
       " 284: 0.8961538461538462,\n",
       " 285: 0.0,\n",
       " 286: 0.0,\n",
       " 287: 0.9066147859922178,\n",
       " 288: 0.0,\n",
       " 289: 0.0,\n",
       " 290: 0.9083820662768032,\n",
       " 291: 0.0,\n",
       " 292: 0.9173228346456692,\n",
       " 293: 0,\n",
       " 295: 0.0,\n",
       " 296: 0.0,\n",
       " 297: 0.9191321499013806,\n",
       " 299: 0.0,\n",
       " 300: 0.0,\n",
       " 301: 0.9191321499013806,\n",
       " 302: 0,\n",
       " 304: 0.0,\n",
       " 305: 0.9246031746031745,\n",
       " 306: 0.9872881355932203,\n",
       " 307: 0.9872881355932203,\n",
       " 308: 0.926441351888668,\n",
       " 310: 0.0,\n",
       " 311: 0.0,\n",
       " 313: 0.0,\n",
       " 315: 0.0,\n",
       " 317: 0.9301397205588822,\n",
       " 318: 0.9301397205588822,\n",
       " 320: 0.0,\n",
       " 321: 0.9301397205588822,\n",
       " 322: 0,\n",
       " 323: 0.0,\n",
       " 325: 0.932,\n",
       " 329: 0.9013539651837523,\n",
       " 338: 0.0,\n",
       " 339: 0,\n",
       " 341: 0.0,\n",
       " 342: 0,\n",
       " 344: 0.0,\n",
       " 347: 0.0,\n",
       " 349: 0.0,\n",
       " 351: 0.0,\n",
       " 352: 0.0,\n",
       " 355: 0.0,\n",
       " 364: 0.0,\n",
       " 365: 0,\n",
       " 366: 0,\n",
       " 367: 0.0,\n",
       " 369: 0.0,\n",
       " 370: 0.0,\n",
       " 371: 0.0,\n",
       " 373: 0.0,\n",
       " 374: 0.0,\n",
       " 376: 0.0,\n",
       " 377: 0.0,\n",
       " 378: 0.0,\n",
       " 380: 0.0,\n",
       " 383: 0.0,\n",
       " 385: 0.0,\n",
       " 395: 0.9357429718875502,\n",
       " 397: 0.0,\n",
       " 398: 0.0,\n",
       " 399: 0.0,\n",
       " 402: 0.0,\n",
       " 403: 0.0,\n",
       " 405: 0.937625754527163,\n",
       " 406: 0.0,\n",
       " 407: 0.0,\n",
       " 409: 0.9395161290322581,\n",
       " 410: 0.9395161290322581,\n",
       " 412: 0.9357429718875502,\n",
       " 422: 0.802065404475043,\n",
       " 423: 0.0,\n",
       " 424: 0.802065404475043,\n",
       " 425: 0.0,\n",
       " 426: 0,\n",
       " 427: 0.0,\n",
       " 428: 0,\n",
       " 429: 0.0,\n",
       " 431: 0.0,\n",
       " 433: 0.0,\n",
       " 434: 0.8048359240069085,\n",
       " 435: 0.0,\n",
       " 436: 0.0,\n",
       " 437: 0.8062283737024222,\n",
       " 439: 0.0,\n",
       " 440: 0.0,\n",
       " 441: 0.8062283737024222,\n",
       " 442: 0,\n",
       " 443: 0,\n",
       " 444: 0,\n",
       " 445: 0,\n",
       " 447: 0.0,\n",
       " 448: 0.0,\n",
       " 449: 0.8076256499133448,\n",
       " 450: 0,\n",
       " 452: 0.9872881355932203,\n",
       " 454: 0.0,\n",
       " 455: 0.9872881355932203,\n",
       " 456: 0,\n",
       " 458: 0.9872881355932203,\n",
       " 460: 0.9872881355932203,\n",
       " 461: 0.8104347826086957,\n",
       " 462: 0.9914893617021278,\n",
       " 463: 0.9914893617021278,\n",
       " 465: 0.0,\n",
       " 466: 0.0,\n",
       " 468: 0.802065404475043,\n",
       " 477: 0.0,\n",
       " 478: 0.0,\n",
       " 479: 0.0,\n",
       " 480: 0.0,\n",
       " 481: 0.0,\n",
       " 482: 0.0,\n",
       " 484: 0.0,\n",
       " 486: 0.0,\n",
       " 487: 0.0,\n",
       " 488: 0,\n",
       " 489: 0,\n",
       " 491: 0.0,\n",
       " 493: 0.0,\n",
       " 494: 0,\n",
       " 496: 0.0,\n",
       " 497: 0.0,\n",
       " 498: 0.0,\n",
       " 500: 0.0,\n",
       " 502: 0.0,\n",
       " 512: 0.8048359240069085,\n",
       " 513: 0,\n",
       " 514: 0.0,\n",
       " 515: 0.0,\n",
       " 518: 0.9013539651837523,\n",
       " 520: 0.8048359240069085,\n",
       " 528: 0.0,\n",
       " 530: 0.0,\n",
       " 531: 0,\n",
       " 532: 0.0,\n",
       " 534: 0.0,\n",
       " 536: 0.0,\n",
       " 538: 0.0,\n",
       " 539: 0.0,\n",
       " 540: 0.0,\n",
       " 541: 0,\n",
       " 542: 0.0,\n",
       " 543: 0.0,\n",
       " 544: 0.0,\n",
       " 545: 0.0,\n",
       " 546: 0.0,\n",
       " 549: 0.0,\n",
       " 550: 0.0,\n",
       " 552: 0.0,\n",
       " 555: 0.0,\n",
       " 564: 0.9608247422680412,\n",
       " 565: 0.985200845665962,\n",
       " 566: 0.0,\n",
       " 568: 0.9872881355932203,\n",
       " 570: 0.985200845665962,\n",
       " 572: 0.966804979253112,\n",
       " 573: 0.966804979253112,\n",
       " 575: 0.9608247422680412,\n",
       " 584: 0.7408585055643879,\n",
       " 585: 0.0,\n",
       " 586: 0.0,\n",
       " 588: 0.7420382165605096,\n",
       " 589: 0.7420382165605096,\n",
       " 591: 0.7408585055643879,\n",
       " 601: 0.7269890795631826,\n",
       " 602: 0,\n",
       " 603: 0,\n",
       " 604: 0.9957264957264956,\n",
       " 606: 0.728125,\n",
       " 608: 0.7269890795631826,\n",
       " 618: 0.8566176470588235,\n",
       " 620: 0.0,\n",
       " 621: 0.858195211786372,\n",
       " 623: 0.0,\n",
       " 624: 0.0,\n",
       " 625: 0.8597785977859779,\n",
       " 626: 0.0,\n",
       " 629: 0.0,\n",
       " 631: 0.0,\n",
       " 633: 0.0,\n",
       " 634: 0.8613678373382625,\n",
       " 636: 0.0,\n",
       " 637: 0,\n",
       " 639: 0.0,\n",
       " 641: 0.0,\n",
       " 642: 0.862962962962963,\n",
       " 647: 0.0,\n",
       " 648: 0.0,\n",
       " 649: 0.8661710037174721,\n",
       " 650: 0.0,\n",
       " 652: 0.8726591760299625,\n",
       " 655: 0.0,\n",
       " 657: 0.8726591760299625,\n",
       " 659: 0.8726591760299625,\n",
       " 661: 0.8566176470588235,\n",
       " 670: 0.0,\n",
       " 672: 0.0,\n",
       " 675: 0.0,\n",
       " 677: 0.0,\n",
       " 679: 0.0,\n",
       " 682: 0.0,\n",
       " 683: 0.0,\n",
       " 685: 0.0,\n",
       " 688: 0.0,\n",
       " 689: 0.0,\n",
       " 691: 0.0,\n",
       " 693: 0.0,\n",
       " 702: 0.9395161290322581,\n",
       " 703: 0.0,\n",
       " 704: 0.0,\n",
       " 705: 0.9628099173553718,\n",
       " 706: 0.0,\n",
       " 707: 0.0,\n",
       " 708: 0.9648033126293997,\n",
       " 710: 0.0,\n",
       " 712: 0,\n",
       " 713: 0,\n",
       " 714: 0.0,\n",
       " 716: 0.0,\n",
       " 718: 0.0,\n",
       " 720: 0.966804979253112,\n",
       " 721: 0.966804979253112,\n",
       " 723: 0.9395161290322581,\n",
       " 732: 0.9529652351738241,\n",
       " 734: 0.0,\n",
       " 735: 0.0,\n",
       " 737: 0.9549180327868851,\n",
       " 738: 0,\n",
       " 739: 0.0,\n",
       " 741: 0.0,\n",
       " 744: 0.0,\n",
       " 746: 0.0,\n",
       " 747: 0.9608247422680412,\n",
       " 748: 0,\n",
       " 750: 0,\n",
       " 752: 0.0,\n",
       " 753: 0.0,\n",
       " 754: 0.9648033126293997,\n",
       " 756: 0.0,\n",
       " 757: 0.0,\n",
       " 759: 0.966804979253112,\n",
       " 762: 0.9529652351738241,\n",
       " 771: 0.0,\n",
       " 772: 0.0,\n",
       " 773: 0.0,\n",
       " 775: 0.0,\n",
       " 776: 0,\n",
       " 777: 0,\n",
       " 779: 0.0,\n",
       " 781: 0.0,\n",
       " 783: 0.0,\n",
       " 791: 0.0,\n",
       " 793: 0.0,\n",
       " 794: 0.0,\n",
       " 796: 0.0,\n",
       " 797: 0.0,\n",
       " 799: 0.0,\n",
       " 801: 0.0,\n",
       " 803: 0.0,\n",
       " 229: 0.0,\n",
       " 245: 0.0,\n",
       " 246: 0,\n",
       " 907: 0.6246648793565683,\n",
       " 908: 0.6246648793565683,\n",
       " 909: 0.6246648793565683,\n",
       " 910: 0.0,\n",
       " 911: 0.0,\n",
       " 914: 0.6246648793565683,\n",
       " 890: 0.6246648793565683,\n",
       " 891: 0,\n",
       " 898: 0.7455999999999999,\n",
       " 262: 0.0,\n",
       " 263: 0.0}"
      ]
     },
     "execution_count": 9,
     "metadata": {},
     "output_type": "execute_result"
    }
   ],
   "source": [
    "total_fail = 1\n",
    "total_pass = 76 + 370 + default_test_count - total_fail\n",
    "for key, value in line_info.items():\n",
    "    failed = value[0]\n",
    "    passed = value[1]\n",
    "\n",
    "    if (failed == 0 and passed == 0):\n",
    "        suspiciousness_score = 0\n",
    "    else:\n",
    "        suspiciousness_score = (failed / total_fail) / ((failed / total_fail) + (passed / total_pass))\n",
    "    suspiciousness_scores[key] = suspiciousness_score\n",
    "\n",
    "suspiciousness_scores\n",
    "\n"
   ]
  },
  {
   "cell_type": "code",
   "execution_count": 10,
   "id": "74f448d3-56e1-4ef0-b6bf-2226779fce8f",
   "metadata": {},
   "outputs": [
    {
     "name": "stdout",
     "output_type": "stream",
     "text": [
      "{604: 1, 462: 2, 463: 2, 862: 4, 867: 4, 306: 4, 307: 4, 452: 4, 455: 4, 458: 4, 460: 4, 568: 4, 859: 13, 565: 13, 570: 13, 108: 16, 109: 16, 110: 16, 172: 16, 173: 16, 174: 16, 815: 22, 572: 23, 573: 23, 720: 23, 721: 23, 759: 23, 708: 28, 754: 28, 705: 30, 140: 31, 141: 31, 564: 31, 575: 31, 747: 31, 737: 36, 176: 37, 177: 37, 732: 37, 762: 37, 169: 41, 170: 41, 409: 41, 410: 41, 702: 41, 723: 41, 405: 47, 817: 48, 120: 48, 121: 48, 395: 48, 412: 48, 325: 53, 317: 54, 318: 54, 321: 54, 819: 57, 308: 58, 305: 59, 297: 60, 301: 60, 818: 62, 292: 62, 816: 64, 290: 65, 287: 66, 329: 67, 518: 67, 814: 69, 878: 69, 977: 69, 812: 72, 117: 72, 118: 72, 284: 72, 875: 76, 143: 76, 144: 76, 145: 76, 652: 80, 657: 80, 659: 80, 649: 83, 642: 84, 147: 85, 148: 85, 149: 85, 634: 85, 625: 89, 621: 90, 166: 91, 167: 91, 618: 91, 661: 91, 1018: 95, 1019: 95, 136: 97, 137: 97, 138: 97, 461: 100, 449: 101, 437: 102, 441: 102, 130: 104, 131: 104, 434: 104, 512: 104, 520: 104, 127: 109, 128: 109, 422: 109, 424: 109, 468: 109, 938: 114, 967: 115, 898: 116, 588: 117, 589: 117, 156: 119, 157: 119, 584: 119, 591: 119, 273: 123, 606: 124, 163: 125, 164: 125, 601: 125, 608: 125, 948: 129, 105: 130, 106: 130, 272: 130, 275: 130, 957: 134, 1017: 135, 1014: 136, 1016: 136, 1023: 138, 1012: 139, 1013: 139, 940: 141, 98: 142, 937: 143, 928: 144, 92: 144, 93: 144, 95: 144, 97: 144, 190: 144, 907: 144, 908: 144, 909: 144, 914: 144, 890: 144, 924: 155, 925: 155, 921: 157, 87: 157, 88: 157, 254: 160, 59: 161, 65: 161, 66: 161, 47: 164, 49: 164, 51: 164, 53: 164, 922: 168, 926: 168, 813: 168, 821: 168, 822: 168, 823: 168, 831: 168, 832: 168, 833: 168, 834: 168, 835: 168, 836: 168, 837: 168, 839: 168, 847: 168, 849: 168, 850: 168, 851: 168, 852: 168, 860: 168, 861: 168, 863: 168, 864: 168, 865: 168, 876: 168, 879: 168, 989: 168, 1001: 168, 75: 168, 89: 168, 113: 168, 114: 168, 115: 168, 123: 168, 124: 168, 125: 168, 133: 168, 134: 168, 152: 168, 153: 168, 154: 168, 159: 168, 160: 168, 161: 168, 179: 168, 180: 168, 182: 168, 183: 168, 185: 168, 186: 168, 202: 168, 203: 168, 205: 168, 215: 168, 285: 168, 286: 168, 288: 168, 289: 168, 291: 168, 293: 168, 295: 168, 296: 168, 299: 168, 300: 168, 302: 168, 304: 168, 310: 168, 311: 168, 313: 168, 315: 168, 320: 168, 322: 168, 323: 168, 338: 168, 339: 168, 341: 168, 342: 168, 344: 168, 347: 168, 349: 168, 351: 168, 352: 168, 355: 168, 364: 168, 365: 168, 366: 168, 367: 168, 369: 168, 370: 168, 371: 168, 373: 168, 374: 168, 376: 168, 377: 168, 378: 168, 380: 168, 383: 168, 385: 168, 397: 168, 398: 168, 399: 168, 402: 168, 403: 168, 406: 168, 407: 168, 423: 168, 425: 168, 426: 168, 427: 168, 428: 168, 429: 168, 431: 168, 433: 168, 435: 168, 436: 168, 439: 168, 440: 168, 442: 168, 443: 168, 444: 168, 445: 168, 447: 168, 448: 168, 450: 168, 454: 168, 456: 168, 465: 168, 466: 168, 477: 168, 478: 168, 479: 168, 480: 168, 481: 168, 482: 168, 484: 168, 486: 168, 487: 168, 488: 168, 489: 168, 491: 168, 493: 168, 494: 168, 496: 168, 497: 168, 498: 168, 500: 168, 502: 168, 513: 168, 514: 168, 515: 168, 528: 168, 530: 168, 531: 168, 532: 168, 534: 168, 536: 168, 538: 168, 539: 168, 540: 168, 541: 168, 542: 168, 543: 168, 544: 168, 545: 168, 546: 168, 549: 168, 550: 168, 552: 168, 555: 168, 566: 168, 585: 168, 586: 168, 602: 168, 603: 168, 620: 168, 623: 168, 624: 168, 626: 168, 629: 168, 631: 168, 633: 168, 636: 168, 637: 168, 639: 168, 641: 168, 647: 168, 648: 168, 650: 168, 655: 168, 670: 168, 672: 168, 675: 168, 677: 168, 679: 168, 682: 168, 683: 168, 685: 168, 688: 168, 689: 168, 691: 168, 693: 168, 703: 168, 704: 168, 706: 168, 707: 168, 710: 168, 712: 168, 713: 168, 714: 168, 716: 168, 718: 168, 734: 168, 735: 168, 738: 168, 739: 168, 741: 168, 744: 168, 746: 168, 748: 168, 750: 168, 752: 168, 753: 168, 756: 168, 757: 168, 771: 168, 772: 168, 773: 168, 775: 168, 776: 168, 777: 168, 779: 168, 781: 168, 783: 168, 791: 168, 793: 168, 794: 168, 796: 168, 797: 168, 799: 168, 801: 168, 803: 168, 229: 168, 245: 168, 246: 168, 910: 168, 911: 168, 891: 168, 262: 168, 263: 168}\n"
     ]
    }
   ],
   "source": [
    "sorted_items = sorted(suspiciousness_scores.items(), key=lambda item: item[1], reverse=True)\n",
    "\n",
    "# Assigning ranks, skipping ranks properly when there are ties\n",
    "modified_competition_ranking = {}\n",
    "current_rank = 1\n",
    "previous_value = None\n",
    "items_skipped = 0\n",
    "\n",
    "for index, (key, value) in enumerate(sorted_items):\n",
    "    if value == previous_value:\n",
    "        modified_competition_ranking[key] = current_rank\n",
    "        items_skipped += 1\n",
    "    else:\n",
    "        if previous_value is not None:\n",
    "            current_rank += items_skipped + 1\n",
    "        modified_competition_ranking[key] = current_rank\n",
    "        items_skipped = 0\n",
    "    previous_value = value\n",
    "\n",
    "# Printing the modified competition ranking\n",
    "print(modified_competition_ranking)"
   ]
  },
  {
   "cell_type": "code",
   "execution_count": 11,
   "id": "3d9e8d43-477e-413e-b713-fe83582a0f89",
   "metadata": {},
   "outputs": [
    {
     "name": "stdout",
     "output_type": "stream",
     "text": [
      "4\n"
     ]
    }
   ],
   "source": [
    "print(modified_competition_ranking[455])"
   ]
  },
  {
   "cell_type": "code",
   "execution_count": null,
   "id": "62519a1f-9dae-4d04-ac89-14ebacd9a152",
   "metadata": {},
   "outputs": [],
   "source": []
  }
 ],
 "metadata": {
  "kernelspec": {
   "display_name": "Python 3 (ipykernel)",
   "language": "python",
   "name": "python3"
  },
  "language_info": {
   "codemirror_mode": {
    "name": "ipython",
    "version": 3
   },
   "file_extension": ".py",
   "mimetype": "text/x-python",
   "name": "python",
   "nbconvert_exporter": "python",
   "pygments_lexer": "ipython3",
   "version": "3.11.7"
  }
 },
 "nbformat": 4,
 "nbformat_minor": 5
}
