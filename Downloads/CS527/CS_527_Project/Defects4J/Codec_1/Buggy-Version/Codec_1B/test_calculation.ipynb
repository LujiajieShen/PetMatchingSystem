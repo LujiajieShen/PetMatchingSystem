{
 "cells": [
  {
   "cell_type": "code",
   "execution_count": 1,
   "id": "0253df76-f0df-4302-a967-7dce93932c6c",
   "metadata": {},
   "outputs": [
    {
     "name": "stdout",
     "output_type": "stream",
     "text": [
      "[62, 68, 69, 365, 366, 368, 378, 397, 348, 390, 329, 330, 332, 334, 320, 321, 323, 325, 316, 82, 83, 84, 87, 88, 91, 93, 94, 96, 100, 101, 103, 105, 107, 108, 110, 112, 114, 115, 116, 118, 119, 120, 122, 124, 126, 127, 128, 130, 133, 134, 136, 138, 140, 141, 143, 145, 146, 150, 152, 154, 155, 158, 161, 163, 164, 165, 167, 169, 170, 172, 174, 175, 177, 178, 181, 183, 186, 188, 190, 193, 195, 197, 199, 201, 203, 206, 208, 211, 213, 214, 216, 218, 221, 223, 225, 227, 228, 230, 232, 234, 235, 244, 245, 247, 248, 249, 252, 254, 256, 258, 260, 262, 264, 265, 267, 270, 272, 274, 276, 278, 279, 281, 283, 286, 287, 289, 291, 293, 295, 297, 301, 302, 304, 306, 308, 309, 311, 312, 338, 339, 341, 342, 344, 403]\n"
     ]
    }
   ],
   "source": [
    "import xml.etree.ElementTree as ET\n",
    "\n",
    "def extract_line_numbers(xml_file_path, class_name):\n",
    "    # Parse the XML file\n",
    "    tree = ET.parse(xml_file_path)\n",
    "    root = tree.getroot()\n",
    "\n",
    "    # Initialize a list to collect line numbers\n",
    "    line_numbers = []\n",
    "\n",
    "    # Function to recursively find all line numbers under the specified class name\n",
    "    def find_line_numbers(element, target_class):\n",
    "        for child in element:\n",
    "            if child.tag == \"class\" and child.get(\"name\") == target_class:\n",
    "                # If the class is found, get line numbers from its child elements\n",
    "                for lines in child.findall(\".//line\"):\n",
    "                    line_number = lines.get(\"number\")\n",
    "                    if line_number:\n",
    "                        if int(line_number) in line_numbers:\n",
    "                            continue\n",
    "                        line_numbers.append(int(line_number))\n",
    "            else:\n",
    "                # Continue searching recursively through other elements\n",
    "                find_line_numbers(child, target_class)\n",
    "\n",
    "    # Start the search from the root for the specified class name\n",
    "    find_line_numbers(root, class_name)\n",
    "\n",
    "    return line_numbers\n",
    "\n",
    "# Example usage\n",
    "xml_file_path = 'coverage.xml'  # Replace with your actual XML file path\n",
    "class_name = 'org.apache.commons.codec.language.Metaphone'\n",
    "line_numbers = extract_line_numbers(xml_file_path, class_name)\n",
    "print(line_numbers)\n"
   ]
  },
  {
   "cell_type": "code",
   "execution_count": 3,
   "id": "a9fd8135-8bb5-4a2a-8dc4-7d62d30766ec",
   "metadata": {},
   "outputs": [
    {
     "name": "stdout",
     "output_type": "stream",
     "text": [
      "{62: [0, 0], 68: [0, 0], 69: [0, 0], 365: [0, 0], 366: [0, 0], 368: [0, 0], 378: [0, 0], 397: [0, 0], 348: [0, 0], 390: [0, 0], 329: [0, 0], 330: [0, 0], 332: [0, 0], 334: [0, 0], 320: [0, 0], 321: [0, 0], 323: [0, 0], 325: [0, 0], 316: [0, 0], 82: [0, 0], 83: [0, 0], 84: [0, 0], 87: [0, 0], 88: [0, 0], 91: [0, 0], 93: [0, 0], 94: [0, 0], 96: [0, 0], 100: [0, 0], 101: [0, 0], 103: [0, 0], 105: [0, 0], 107: [0, 0], 108: [0, 0], 110: [0, 0], 112: [0, 0], 114: [0, 0], 115: [0, 0], 116: [0, 0], 118: [0, 0], 119: [0, 0], 120: [0, 0], 122: [0, 0], 124: [0, 0], 126: [0, 0], 127: [0, 0], 128: [0, 0], 130: [0, 0], 133: [0, 0], 134: [0, 0], 136: [0, 0], 138: [0, 0], 140: [0, 0], 141: [0, 0], 143: [0, 0], 145: [0, 0], 146: [0, 0], 150: [0, 0], 152: [0, 0], 154: [0, 0], 155: [0, 0], 158: [0, 0], 161: [0, 0], 163: [0, 0], 164: [0, 0], 165: [0, 0], 167: [0, 0], 169: [0, 0], 170: [0, 0], 172: [0, 0], 174: [0, 0], 175: [0, 0], 177: [0, 0], 178: [0, 0], 181: [0, 0], 183: [0, 0], 186: [0, 0], 188: [0, 0], 190: [0, 0], 193: [0, 0], 195: [0, 0], 197: [0, 0], 199: [0, 0], 201: [0, 0], 203: [0, 0], 206: [0, 0], 208: [0, 0], 211: [0, 0], 213: [0, 0], 214: [0, 0], 216: [0, 0], 218: [0, 0], 221: [0, 0], 223: [0, 0], 225: [0, 0], 227: [0, 0], 228: [0, 0], 230: [0, 0], 232: [0, 0], 234: [0, 0], 235: [0, 0], 244: [0, 0], 245: [0, 0], 247: [0, 0], 248: [0, 0], 249: [0, 0], 252: [0, 0], 254: [0, 0], 256: [0, 0], 258: [0, 0], 260: [0, 0], 262: [0, 0], 264: [0, 0], 265: [0, 0], 267: [0, 0], 270: [0, 0], 272: [0, 0], 274: [0, 0], 276: [0, 0], 278: [0, 0], 279: [0, 0], 281: [0, 0], 283: [0, 0], 286: [0, 0], 287: [0, 0], 289: [0, 0], 291: [0, 0], 293: [0, 0], 295: [0, 0], 297: [0, 0], 301: [0, 0], 302: [0, 0], 304: [0, 0], 306: [0, 0], 308: [0, 0], 309: [0, 0], 311: [0, 0], 312: [0, 0], 338: [0, 0], 339: [0, 0], 341: [0, 0], 342: [0, 0], 344: [0, 0], 403: [0, 0]}\n"
     ]
    },
    {
     "name": "stderr",
     "output_type": "stream",
     "text": [
      "Extract test suite......................................................... OK\n",
      "Running ant (compile.gen.tests)............................................ OK\n",
      "Running ant (coverage.instrument).......................................... OK\n",
      "Running ant (run.gen.tests)................................................ OK\n",
      "Running ant (coverage.report).............................................. OK\n",
      "Extract test suite......................................................... OK\n",
      "Running ant (compile.gen.tests)............................................ "
     ]
    },
    {
     "name": "stdout",
     "output_type": "stream",
     "text": [
      "       Lines total: 234\n",
      "     Lines covered: 5\n",
      "  Conditions total: 184\n",
      "Conditions covered: 2\n",
      "     Line coverage: 2.1%\n",
      "Condition coverage: 1.1%\n"
     ]
    },
    {
     "name": "stderr",
     "output_type": "stream",
     "text": [
      "OK\n",
      "Running ant (coverage.instrument).......................................... OK\n",
      "Running ant (run.gen.tests)................................................ OK\n",
      "Running ant (coverage.report).............................................. OK\n",
      "Extract test suite......................................................... OK\n",
      "Running ant (compile.gen.tests)............................................ "
     ]
    },
    {
     "name": "stdout",
     "output_type": "stream",
     "text": [
      "       Lines total: 234\n",
      "     Lines covered: 5\n",
      "  Conditions total: 184\n",
      "Conditions covered: 1\n",
      "     Line coverage: 2.1%\n",
      "Condition coverage: 0.5%\n"
     ]
    },
    {
     "name": "stderr",
     "output_type": "stream",
     "text": [
      "OK\n",
      "Running ant (coverage.instrument).......................................... OK\n",
      "Running ant (run.gen.tests)................................................ OK\n",
      "Running ant (coverage.report).............................................. OK\n",
      "Extract test suite......................................................... OK\n",
      "Running ant (compile.gen.tests)............................................ "
     ]
    },
    {
     "name": "stdout",
     "output_type": "stream",
     "text": [
      "       Lines total: 234\n",
      "     Lines covered: 65\n",
      "  Conditions total: 184\n",
      "Conditions covered: 3\n",
      "     Line coverage: 27.8%\n",
      "Condition coverage: 1.6%\n"
     ]
    },
    {
     "name": "stderr",
     "output_type": "stream",
     "text": [
      "OK\n",
      "Running ant (coverage.instrument).......................................... OK\n",
      "Running ant (run.gen.tests)................................................ OK\n",
      "Running ant (coverage.report).............................................. OK\n",
      "Extract test suite......................................................... OK\n",
      "Running ant (compile.gen.tests)............................................ "
     ]
    },
    {
     "name": "stdout",
     "output_type": "stream",
     "text": [
      "       Lines total: 234\n",
      "     Lines covered: 4\n",
      "  Conditions total: 184\n",
      "Conditions covered: 1\n",
      "     Line coverage: 1.7%\n",
      "Condition coverage: 0.5%\n"
     ]
    },
    {
     "name": "stderr",
     "output_type": "stream",
     "text": [
      "OK\n",
      "Running ant (coverage.instrument).......................................... OK\n",
      "Running ant (run.gen.tests)................................................ OK\n",
      "Running ant (coverage.report).............................................. OK\n",
      "Extract test suite......................................................... OK\n",
      "Running ant (compile.gen.tests)............................................ "
     ]
    },
    {
     "name": "stdout",
     "output_type": "stream",
     "text": [
      "       Lines total: 234\n",
      "     Lines covered: 52\n",
      "  Conditions total: 184\n",
      "Conditions covered: 44\n",
      "     Line coverage: 22.2%\n",
      "Condition coverage: 23.9%\n"
     ]
    },
    {
     "name": "stderr",
     "output_type": "stream",
     "text": [
      "OK\n",
      "Running ant (coverage.instrument).......................................... OK\n",
      "Running ant (run.gen.tests)................................................ OK\n",
      "Running ant (coverage.report).............................................. OK\n",
      "Extract test suite......................................................... OK\n",
      "Running ant (compile.gen.tests)............................................ "
     ]
    },
    {
     "name": "stdout",
     "output_type": "stream",
     "text": [
      "       Lines total: 234\n",
      "     Lines covered: 7\n",
      "  Conditions total: 184\n",
      "Conditions covered: 1\n",
      "     Line coverage: 3.0%\n",
      "Condition coverage: 0.5%\n"
     ]
    },
    {
     "name": "stderr",
     "output_type": "stream",
     "text": [
      "OK\n",
      "Running ant (coverage.instrument).......................................... OK\n",
      "Running ant (run.gen.tests)................................................ OK\n",
      "Running ant (coverage.report).............................................. OK\n",
      "Extract test suite......................................................... OK\n",
      "Running ant (compile.gen.tests)............................................ "
     ]
    },
    {
     "name": "stdout",
     "output_type": "stream",
     "text": [
      "       Lines total: 234\n",
      "     Lines covered: 30\n",
      "  Conditions total: 184\n",
      "Conditions covered: 18\n",
      "     Line coverage: 12.8%\n",
      "Condition coverage: 9.8%\n"
     ]
    },
    {
     "name": "stderr",
     "output_type": "stream",
     "text": [
      "OK\n",
      "Running ant (coverage.instrument).......................................... OK\n",
      "Running ant (run.gen.tests)................................................ OK\n",
      "Running ant (coverage.report).............................................. OK\n",
      "WARNING: Some tests failed (see /Users/hugoyin/Desktop/UIUC/CS_527/CS_527_Project/Defects4J/Codec_1/Buggy-Version/Codec_1B/failing_tests)!\n",
      "Extract test suite......................................................... OK\n",
      "Running ant (compile.gen.tests)............................................ "
     ]
    },
    {
     "name": "stdout",
     "output_type": "stream",
     "text": [
      "       Lines total: 234\n",
      "     Lines covered: 48\n",
      "  Conditions total: 184\n",
      "Conditions covered: 32\n",
      "     Line coverage: 20.5%\n",
      "Condition coverage: 17.4%\n"
     ]
    },
    {
     "name": "stderr",
     "output_type": "stream",
     "text": [
      "OK\n",
      "Running ant (coverage.instrument).......................................... OK\n",
      "Running ant (run.gen.tests)................................................ OK\n",
      "Running ant (coverage.report).............................................. OK\n",
      "Extract test suite......................................................... OK\n",
      "Running ant (compile.gen.tests)............................................ "
     ]
    },
    {
     "name": "stdout",
     "output_type": "stream",
     "text": [
      "       Lines total: 234\n",
      "     Lines covered: 64\n",
      "  Conditions total: 184\n",
      "Conditions covered: 50\n",
      "     Line coverage: 27.4%\n",
      "Condition coverage: 27.2%\n"
     ]
    },
    {
     "name": "stderr",
     "output_type": "stream",
     "text": [
      "OK\n",
      "Running ant (coverage.instrument).......................................... OK\n",
      "Running ant (run.gen.tests)................................................ OK\n",
      "Running ant (coverage.report).............................................. OK\n",
      "WARNING: Some tests failed (see /Users/hugoyin/Desktop/UIUC/CS_527/CS_527_Project/Defects4J/Codec_1/Buggy-Version/Codec_1B/failing_tests)!\n",
      "Extract test suite......................................................... OK\n",
      "Running ant (compile.gen.tests)............................................ "
     ]
    },
    {
     "name": "stdout",
     "output_type": "stream",
     "text": [
      "       Lines total: 234\n",
      "     Lines covered: 61\n",
      "  Conditions total: 184\n",
      "Conditions covered: 49\n",
      "     Line coverage: 26.1%\n",
      "Condition coverage: 26.6%\n"
     ]
    },
    {
     "name": "stderr",
     "output_type": "stream",
     "text": [
      "OK\n",
      "Running ant (coverage.instrument).......................................... OK\n",
      "Running ant (run.gen.tests)................................................ OK\n",
      "Running ant (coverage.report).............................................. OK\n",
      "WARNING: Some tests failed (see /Users/hugoyin/Desktop/UIUC/CS_527/CS_527_Project/Defects4J/Codec_1/Buggy-Version/Codec_1B/failing_tests)!\n",
      "Extract test suite......................................................... OK\n",
      "Running ant (compile.gen.tests)............................................ "
     ]
    },
    {
     "name": "stdout",
     "output_type": "stream",
     "text": [
      "       Lines total: 234\n",
      "     Lines covered: 49\n",
      "  Conditions total: 184\n",
      "Conditions covered: 36\n",
      "     Line coverage: 20.9%\n",
      "Condition coverage: 19.6%\n"
     ]
    },
    {
     "name": "stderr",
     "output_type": "stream",
     "text": [
      "OK\n",
      "Running ant (coverage.instrument).......................................... OK\n",
      "Running ant (run.gen.tests)................................................ OK\n",
      "Running ant (coverage.report).............................................. OK\n",
      "Extract test suite......................................................... OK\n",
      "Running ant (compile.gen.tests)............................................ "
     ]
    },
    {
     "name": "stdout",
     "output_type": "stream",
     "text": [
      "       Lines total: 234\n",
      "     Lines covered: 29\n",
      "  Conditions total: 184\n",
      "Conditions covered: 13\n",
      "     Line coverage: 12.4%\n",
      "Condition coverage: 7.1%\n"
     ]
    },
    {
     "name": "stderr",
     "output_type": "stream",
     "text": [
      "OK\n",
      "Running ant (coverage.instrument).......................................... OK\n",
      "Running ant (run.gen.tests)................................................ OK\n",
      "Running ant (coverage.report).............................................. OK\n",
      "Extract test suite......................................................... OK\n",
      "Running ant (compile.gen.tests)............................................ "
     ]
    },
    {
     "name": "stdout",
     "output_type": "stream",
     "text": [
      "       Lines total: 234\n",
      "     Lines covered: 39\n",
      "  Conditions total: 184\n",
      "Conditions covered: 25\n",
      "     Line coverage: 16.7%\n",
      "Condition coverage: 13.6%\n"
     ]
    },
    {
     "name": "stderr",
     "output_type": "stream",
     "text": [
      "OK\n",
      "Running ant (coverage.instrument).......................................... OK\n",
      "Running ant (run.gen.tests)................................................ OK\n",
      "Running ant (coverage.report).............................................. OK\n",
      "Extract test suite......................................................... OK\n",
      "Running ant (compile.gen.tests)............................................ "
     ]
    },
    {
     "name": "stdout",
     "output_type": "stream",
     "text": [
      "       Lines total: 234\n",
      "     Lines covered: 54\n",
      "  Conditions total: 184\n",
      "Conditions covered: 39\n",
      "     Line coverage: 23.1%\n",
      "Condition coverage: 21.2%\n"
     ]
    },
    {
     "name": "stderr",
     "output_type": "stream",
     "text": [
      "OK\n",
      "Running ant (coverage.instrument).......................................... OK\n",
      "Running ant (run.gen.tests)................................................ OK\n",
      "Running ant (coverage.report).............................................. OK\n",
      "Extract test suite......................................................... OK\n",
      "Running ant (compile.gen.tests)............................................ "
     ]
    },
    {
     "name": "stdout",
     "output_type": "stream",
     "text": [
      "       Lines total: 234\n",
      "     Lines covered: 79\n",
      "  Conditions total: 184\n",
      "Conditions covered: 66\n",
      "     Line coverage: 33.8%\n",
      "Condition coverage: 35.9%\n"
     ]
    },
    {
     "name": "stderr",
     "output_type": "stream",
     "text": [
      "OK\n",
      "Running ant (coverage.instrument).......................................... OK\n",
      "Running ant (run.gen.tests)................................................ OK\n",
      "Running ant (coverage.report).............................................. OK\n",
      "Extract test suite......................................................... OK\n",
      "Running ant (compile.gen.tests)............................................ "
     ]
    },
    {
     "name": "stdout",
     "output_type": "stream",
     "text": [
      "       Lines total: 234\n",
      "     Lines covered: 61\n",
      "  Conditions total: 184\n",
      "Conditions covered: 53\n",
      "     Line coverage: 26.1%\n",
      "Condition coverage: 28.8%\n"
     ]
    },
    {
     "name": "stderr",
     "output_type": "stream",
     "text": [
      "OK\n",
      "Running ant (coverage.instrument).......................................... OK\n",
      "Running ant (run.gen.tests)................................................ OK\n",
      "Running ant (coverage.report).............................................. OK\n",
      "Extract test suite......................................................... OK\n",
      "Running ant (compile.gen.tests)............................................ "
     ]
    },
    {
     "name": "stdout",
     "output_type": "stream",
     "text": [
      "       Lines total: 234\n",
      "     Lines covered: 44\n",
      "  Conditions total: 184\n",
      "Conditions covered: 33\n",
      "     Line coverage: 18.8%\n",
      "Condition coverage: 17.9%\n"
     ]
    },
    {
     "name": "stderr",
     "output_type": "stream",
     "text": [
      "OK\n",
      "Running ant (coverage.instrument).......................................... OK\n",
      "Running ant (run.gen.tests)................................................ OK\n",
      "Running ant (coverage.report).............................................. OK\n",
      "WARNING: Some tests failed (see /Users/hugoyin/Desktop/UIUC/CS_527/CS_527_Project/Defects4J/Codec_1/Buggy-Version/Codec_1B/failing_tests)!\n",
      "Extract test suite......................................................... OK\n",
      "Running ant (compile.gen.tests)............................................ "
     ]
    },
    {
     "name": "stdout",
     "output_type": "stream",
     "text": [
      "       Lines total: 234\n",
      "     Lines covered: 54\n",
      "  Conditions total: 184\n",
      "Conditions covered: 41\n",
      "     Line coverage: 23.1%\n",
      "Condition coverage: 22.3%\n"
     ]
    },
    {
     "name": "stderr",
     "output_type": "stream",
     "text": [
      "OK\n",
      "Running ant (coverage.instrument).......................................... OK\n",
      "Running ant (run.gen.tests)................................................ OK\n",
      "Running ant (coverage.report).............................................. OK\n",
      "WARNING: Some tests failed (see /Users/hugoyin/Desktop/UIUC/CS_527/CS_527_Project/Defects4J/Codec_1/Buggy-Version/Codec_1B/failing_tests)!\n",
      "Extract test suite......................................................... OK\n",
      "Running ant (compile.gen.tests)............................................ "
     ]
    },
    {
     "name": "stdout",
     "output_type": "stream",
     "text": [
      "       Lines total: 234\n",
      "     Lines covered: 54\n",
      "  Conditions total: 184\n",
      "Conditions covered: 40\n",
      "     Line coverage: 23.1%\n",
      "Condition coverage: 21.7%\n"
     ]
    },
    {
     "name": "stderr",
     "output_type": "stream",
     "text": [
      "OK\n",
      "Running ant (coverage.instrument).......................................... OK\n",
      "Running ant (run.gen.tests)................................................ OK\n",
      "Running ant (coverage.report).............................................. OK\n",
      "Extract test suite......................................................... OK\n",
      "Running ant (compile.gen.tests)............................................ "
     ]
    },
    {
     "name": "stdout",
     "output_type": "stream",
     "text": [
      "       Lines total: 234\n",
      "     Lines covered: 49\n",
      "  Conditions total: 184\n",
      "Conditions covered: 40\n",
      "     Line coverage: 20.9%\n",
      "Condition coverage: 21.7%\n"
     ]
    },
    {
     "name": "stderr",
     "output_type": "stream",
     "text": [
      "OK\n",
      "Running ant (coverage.instrument).......................................... OK\n",
      "Running ant (run.gen.tests)................................................ OK\n",
      "Running ant (coverage.report).............................................. OK\n",
      "Extract test suite......................................................... OK\n",
      "Running ant (compile.gen.tests)............................................ "
     ]
    },
    {
     "name": "stdout",
     "output_type": "stream",
     "text": [
      "       Lines total: 234\n",
      "     Lines covered: 42\n",
      "  Conditions total: 184\n",
      "Conditions covered: 31\n",
      "     Line coverage: 17.9%\n",
      "Condition coverage: 16.8%\n"
     ]
    },
    {
     "name": "stderr",
     "output_type": "stream",
     "text": [
      "OK\n",
      "Running ant (coverage.instrument).......................................... OK\n",
      "Running ant (run.gen.tests)................................................ OK\n",
      "Running ant (coverage.report).............................................. OK\n",
      "Extract test suite......................................................... OK\n",
      "Running ant (compile.gen.tests)............................................ "
     ]
    },
    {
     "name": "stdout",
     "output_type": "stream",
     "text": [
      "       Lines total: 234\n",
      "     Lines covered: 53\n",
      "  Conditions total: 184\n",
      "Conditions covered: 44\n",
      "     Line coverage: 22.6%\n",
      "Condition coverage: 23.9%\n"
     ]
    },
    {
     "name": "stderr",
     "output_type": "stream",
     "text": [
      "OK\n",
      "Running ant (coverage.instrument).......................................... OK\n",
      "Running ant (run.gen.tests)................................................ OK\n",
      "Running ant (coverage.report).............................................. OK\n",
      "Extract test suite......................................................... OK\n",
      "Running ant (compile.gen.tests)............................................ "
     ]
    },
    {
     "name": "stdout",
     "output_type": "stream",
     "text": [
      "       Lines total: 234\n",
      "     Lines covered: 58\n",
      "  Conditions total: 184\n",
      "Conditions covered: 45\n",
      "     Line coverage: 24.8%\n",
      "Condition coverage: 24.5%\n"
     ]
    },
    {
     "name": "stderr",
     "output_type": "stream",
     "text": [
      "OK\n",
      "Running ant (coverage.instrument).......................................... OK\n",
      "Running ant (run.gen.tests)................................................ OK\n",
      "Running ant (coverage.report).............................................. OK\n",
      "Extract test suite......................................................... OK\n",
      "Running ant (compile.gen.tests)............................................ "
     ]
    },
    {
     "name": "stdout",
     "output_type": "stream",
     "text": [
      "       Lines total: 234\n",
      "     Lines covered: 34\n",
      "  Conditions total: 184\n",
      "Conditions covered: 21\n",
      "     Line coverage: 14.5%\n",
      "Condition coverage: 11.4%\n"
     ]
    },
    {
     "name": "stderr",
     "output_type": "stream",
     "text": [
      "OK\n",
      "Running ant (coverage.instrument).......................................... OK\n",
      "Running ant (run.gen.tests)................................................ OK\n",
      "Running ant (coverage.report).............................................. OK\n",
      "Extract test suite......................................................... OK\n",
      "Running ant (compile.gen.tests)............................................ "
     ]
    },
    {
     "name": "stdout",
     "output_type": "stream",
     "text": [
      "       Lines total: 234\n",
      "     Lines covered: 61\n",
      "  Conditions total: 184\n",
      "Conditions covered: 54\n",
      "     Line coverage: 26.1%\n",
      "Condition coverage: 29.3%\n"
     ]
    },
    {
     "name": "stderr",
     "output_type": "stream",
     "text": [
      "OK\n",
      "Running ant (coverage.instrument).......................................... OK\n",
      "Running ant (run.gen.tests)................................................ OK\n",
      "Running ant (coverage.report).............................................. OK\n",
      "WARNING: Some tests failed (see /Users/hugoyin/Desktop/UIUC/CS_527/CS_527_Project/Defects4J/Codec_1/Buggy-Version/Codec_1B/failing_tests)!\n",
      "Extract test suite......................................................... OK\n",
      "Running ant (compile.gen.tests)............................................ "
     ]
    },
    {
     "name": "stdout",
     "output_type": "stream",
     "text": [
      "       Lines total: 234\n",
      "     Lines covered: 54\n",
      "  Conditions total: 184\n",
      "Conditions covered: 40\n",
      "     Line coverage: 23.1%\n",
      "Condition coverage: 21.7%\n"
     ]
    },
    {
     "name": "stderr",
     "output_type": "stream",
     "text": [
      "OK\n",
      "Running ant (coverage.instrument).......................................... OK\n",
      "Running ant (run.gen.tests)................................................ OK\n",
      "Running ant (coverage.report).............................................. OK\n",
      "WARNING: Some tests failed (see /Users/hugoyin/Desktop/UIUC/CS_527/CS_527_Project/Defects4J/Codec_1/Buggy-Version/Codec_1B/failing_tests)!\n",
      "Extract test suite......................................................... OK\n",
      "Running ant (compile.gen.tests)............................................ "
     ]
    },
    {
     "name": "stdout",
     "output_type": "stream",
     "text": [
      "       Lines total: 234\n",
      "     Lines covered: 38\n",
      "  Conditions total: 184\n",
      "Conditions covered: 25\n",
      "     Line coverage: 16.2%\n",
      "Condition coverage: 13.6%\n"
     ]
    },
    {
     "name": "stderr",
     "output_type": "stream",
     "text": [
      "OK\n",
      "Running ant (coverage.instrument).......................................... OK\n",
      "Running ant (run.gen.tests)................................................ OK\n",
      "Running ant (coverage.report).............................................. OK\n",
      "WARNING: Some tests failed (see /Users/hugoyin/Desktop/UIUC/CS_527/CS_527_Project/Defects4J/Codec_1/Buggy-Version/Codec_1B/failing_tests)!\n",
      "Extract test suite......................................................... OK\n",
      "Running ant (compile.gen.tests)............................................ "
     ]
    },
    {
     "name": "stdout",
     "output_type": "stream",
     "text": [
      "       Lines total: 234\n",
      "     Lines covered: 50\n",
      "  Conditions total: 184\n",
      "Conditions covered: 37\n",
      "     Line coverage: 21.4%\n",
      "Condition coverage: 20.1%\n"
     ]
    },
    {
     "name": "stderr",
     "output_type": "stream",
     "text": [
      "OK\n",
      "Running ant (coverage.instrument).......................................... OK\n",
      "Running ant (run.gen.tests)................................................ OK\n",
      "Running ant (coverage.report).............................................. OK\n",
      "Extract test suite......................................................... OK\n",
      "Running ant (compile.gen.tests)............................................ "
     ]
    },
    {
     "name": "stdout",
     "output_type": "stream",
     "text": [
      "       Lines total: 234\n",
      "     Lines covered: 41\n",
      "  Conditions total: 184\n",
      "Conditions covered: 24\n",
      "     Line coverage: 17.5%\n",
      "Condition coverage: 13.0%\n"
     ]
    },
    {
     "name": "stderr",
     "output_type": "stream",
     "text": [
      "OK\n",
      "Running ant (coverage.instrument).......................................... OK\n",
      "Running ant (run.gen.tests)................................................ OK\n",
      "Running ant (coverage.report).............................................. OK\n",
      "Extract test suite......................................................... OK\n",
      "Running ant (compile.gen.tests)............................................ "
     ]
    },
    {
     "name": "stdout",
     "output_type": "stream",
     "text": [
      "       Lines total: 234\n",
      "     Lines covered: 6\n",
      "  Conditions total: 184\n",
      "Conditions covered: 1\n",
      "     Line coverage: 2.6%\n",
      "Condition coverage: 0.5%\n"
     ]
    },
    {
     "name": "stderr",
     "output_type": "stream",
     "text": [
      "OK\n",
      "Running ant (coverage.instrument).......................................... OK\n",
      "Running ant (run.gen.tests)................................................ OK\n",
      "Running ant (coverage.report).............................................. OK\n",
      "Extract test suite......................................................... OK\n",
      "Running ant (compile.gen.tests)............................................ "
     ]
    },
    {
     "name": "stdout",
     "output_type": "stream",
     "text": [
      "       Lines total: 234\n",
      "     Lines covered: 1\n",
      "  Conditions total: 184\n",
      "Conditions covered: 0\n",
      "     Line coverage: 0.4%\n",
      "Condition coverage: 0.0%\n"
     ]
    },
    {
     "name": "stderr",
     "output_type": "stream",
     "text": [
      "OK\n",
      "Running ant (coverage.instrument).......................................... OK\n",
      "Running ant (run.gen.tests)................................................ OK\n",
      "Running ant (coverage.report).............................................. OK\n",
      "Extract test suite......................................................... OK\n",
      "Running ant (compile.gen.tests)............................................ "
     ]
    },
    {
     "name": "stdout",
     "output_type": "stream",
     "text": [
      "       Lines total: 234\n",
      "     Lines covered: 16\n",
      "  Conditions total: 184\n",
      "Conditions covered: 10\n",
      "     Line coverage: 6.8%\n",
      "Condition coverage: 5.4%\n"
     ]
    },
    {
     "name": "stderr",
     "output_type": "stream",
     "text": [
      "OK\n",
      "Running ant (coverage.instrument).......................................... OK\n",
      "Running ant (run.gen.tests)................................................ OK\n",
      "Running ant (coverage.report).............................................. OK\n",
      "Extract test suite......................................................... OK\n",
      "Running ant (compile.gen.tests)............................................ "
     ]
    },
    {
     "name": "stdout",
     "output_type": "stream",
     "text": [
      "       Lines total: 234\n",
      "     Lines covered: 2\n",
      "  Conditions total: 184\n",
      "Conditions covered: 1\n",
      "     Line coverage: 0.9%\n",
      "Condition coverage: 0.5%\n"
     ]
    },
    {
     "name": "stderr",
     "output_type": "stream",
     "text": [
      "OK\n",
      "Running ant (coverage.instrument).......................................... OK\n",
      "Running ant (run.gen.tests)................................................ OK\n",
      "Running ant (coverage.report).............................................. OK\n",
      "Extract test suite......................................................... OK\n",
      "Running ant (compile.gen.tests)............................................ "
     ]
    },
    {
     "name": "stdout",
     "output_type": "stream",
     "text": [
      "       Lines total: 234\n",
      "     Lines covered: 2\n",
      "  Conditions total: 184\n",
      "Conditions covered: 1\n",
      "     Line coverage: 0.9%\n",
      "Condition coverage: 0.5%\n"
     ]
    },
    {
     "name": "stderr",
     "output_type": "stream",
     "text": [
      "OK\n",
      "Running ant (coverage.instrument).......................................... OK\n",
      "Running ant (run.gen.tests)................................................ OK\n",
      "Running ant (coverage.report).............................................. OK\n",
      "Extract test suite......................................................... OK\n",
      "Running ant (compile.gen.tests)............................................ "
     ]
    },
    {
     "name": "stdout",
     "output_type": "stream",
     "text": [
      "       Lines total: 234\n",
      "     Lines covered: 2\n",
      "  Conditions total: 184\n",
      "Conditions covered: 2\n",
      "     Line coverage: 0.9%\n",
      "Condition coverage: 1.1%\n"
     ]
    },
    {
     "name": "stderr",
     "output_type": "stream",
     "text": [
      "OK\n",
      "Running ant (coverage.instrument).......................................... OK\n",
      "Running ant (run.gen.tests)................................................ OK\n",
      "Running ant (coverage.report).............................................. OK\n",
      "Extract test suite......................................................... OK\n",
      "Running ant (compile.gen.tests)............................................ "
     ]
    },
    {
     "name": "stdout",
     "output_type": "stream",
     "text": [
      "       Lines total: 234\n",
      "     Lines covered: 17\n",
      "  Conditions total: 184\n",
      "Conditions covered: 13\n",
      "     Line coverage: 7.3%\n",
      "Condition coverage: 7.1%\n"
     ]
    },
    {
     "name": "stderr",
     "output_type": "stream",
     "text": [
      "OK\n",
      "Running ant (coverage.instrument).......................................... OK\n",
      "Running ant (run.gen.tests)................................................ OK\n",
      "Running ant (coverage.report).............................................. OK\n",
      "Extract test suite......................................................... OK\n",
      "Running ant (compile.gen.tests)............................................ "
     ]
    },
    {
     "name": "stdout",
     "output_type": "stream",
     "text": [
      "       Lines total: 234\n",
      "     Lines covered: 9\n",
      "  Conditions total: 184\n",
      "Conditions covered: 7\n",
      "     Line coverage: 3.8%\n",
      "Condition coverage: 3.8%\n"
     ]
    },
    {
     "name": "stderr",
     "output_type": "stream",
     "text": [
      "OK\n",
      "Running ant (coverage.instrument).......................................... OK\n",
      "Running ant (run.gen.tests)................................................ OK\n",
      "Running ant (coverage.report).............................................. OK\n",
      "Extract test suite......................................................... OK\n",
      "Running ant (compile.gen.tests)............................................ "
     ]
    },
    {
     "name": "stdout",
     "output_type": "stream",
     "text": [
      "       Lines total: 234\n",
      "     Lines covered: 5\n",
      "  Conditions total: 184\n",
      "Conditions covered: 3\n",
      "     Line coverage: 2.1%\n",
      "Condition coverage: 1.6%\n"
     ]
    },
    {
     "name": "stderr",
     "output_type": "stream",
     "text": [
      "OK\n",
      "Running ant (coverage.instrument).......................................... OK\n",
      "Running ant (run.gen.tests)................................................ OK\n",
      "Running ant (coverage.report).............................................. OK\n",
      "Extract test suite......................................................... OK\n",
      "Running ant (compile.gen.tests)............................................ "
     ]
    },
    {
     "name": "stdout",
     "output_type": "stream",
     "text": [
      "       Lines total: 234\n",
      "     Lines covered: 9\n",
      "  Conditions total: 184\n",
      "Conditions covered: 7\n",
      "     Line coverage: 3.8%\n",
      "Condition coverage: 3.8%\n"
     ]
    },
    {
     "name": "stderr",
     "output_type": "stream",
     "text": [
      "OK\n",
      "Running ant (coverage.instrument).......................................... OK\n",
      "Running ant (run.gen.tests)................................................ OK\n",
      "Running ant (coverage.report).............................................. OK\n",
      "Extract test suite......................................................... OK\n",
      "Running ant (compile.gen.tests)............................................ "
     ]
    },
    {
     "name": "stdout",
     "output_type": "stream",
     "text": [
      "       Lines total: 234\n",
      "     Lines covered: 14\n",
      "  Conditions total: 184\n",
      "Conditions covered: 9\n",
      "     Line coverage: 6.0%\n",
      "Condition coverage: 4.9%\n"
     ]
    },
    {
     "name": "stderr",
     "output_type": "stream",
     "text": [
      "OK\n",
      "Running ant (coverage.instrument).......................................... OK\n",
      "Running ant (run.gen.tests)................................................ OK\n",
      "Running ant (coverage.report).............................................. OK\n",
      "Extract test suite......................................................... OK\n",
      "Running ant (compile.gen.tests)............................................ "
     ]
    },
    {
     "name": "stdout",
     "output_type": "stream",
     "text": [
      "       Lines total: 234\n",
      "     Lines covered: 3\n",
      "  Conditions total: 184\n",
      "Conditions covered: 2\n",
      "     Line coverage: 1.3%\n",
      "Condition coverage: 1.1%\n"
     ]
    },
    {
     "name": "stderr",
     "output_type": "stream",
     "text": [
      "OK\n",
      "Running ant (coverage.instrument).......................................... OK\n",
      "Running ant (run.gen.tests)................................................ OK\n",
      "Running ant (coverage.report).............................................. OK\n",
      "Extract test suite......................................................... OK\n",
      "Running ant (compile.gen.tests)............................................ "
     ]
    },
    {
     "name": "stdout",
     "output_type": "stream",
     "text": [
      "       Lines total: 234\n",
      "     Lines covered: 3\n",
      "  Conditions total: 184\n",
      "Conditions covered: 2\n",
      "     Line coverage: 1.3%\n",
      "Condition coverage: 1.1%\n"
     ]
    },
    {
     "name": "stderr",
     "output_type": "stream",
     "text": [
      "OK\n",
      "Running ant (coverage.instrument).......................................... OK\n",
      "Running ant (run.gen.tests)................................................ OK\n",
      "Running ant (coverage.report).............................................. OK\n",
      "Extract test suite......................................................... OK\n",
      "Running ant (compile.gen.tests)............................................ "
     ]
    },
    {
     "name": "stdout",
     "output_type": "stream",
     "text": [
      "       Lines total: 234\n",
      "     Lines covered: 3\n",
      "  Conditions total: 184\n",
      "Conditions covered: 2\n",
      "     Line coverage: 1.3%\n",
      "Condition coverage: 1.1%\n"
     ]
    },
    {
     "name": "stderr",
     "output_type": "stream",
     "text": [
      "OK\n",
      "Running ant (coverage.instrument).......................................... OK\n",
      "Running ant (run.gen.tests)................................................ OK\n",
      "Running ant (coverage.report).............................................. OK\n",
      "Extract test suite......................................................... OK\n",
      "Running ant (compile.gen.tests)............................................ "
     ]
    },
    {
     "name": "stdout",
     "output_type": "stream",
     "text": [
      "       Lines total: 234\n",
      "     Lines covered: 5\n",
      "  Conditions total: 184\n",
      "Conditions covered: 3\n",
      "     Line coverage: 2.1%\n",
      "Condition coverage: 1.6%\n"
     ]
    },
    {
     "name": "stderr",
     "output_type": "stream",
     "text": [
      "OK\n",
      "Running ant (coverage.instrument).......................................... OK\n",
      "Running ant (run.gen.tests)................................................ OK\n",
      "Running ant (coverage.report).............................................. OK\n",
      "Extract test suite......................................................... OK\n",
      "Running ant (compile.gen.tests)............................................ "
     ]
    },
    {
     "name": "stdout",
     "output_type": "stream",
     "text": [
      "       Lines total: 234\n",
      "     Lines covered: 33\n",
      "  Conditions total: 184\n",
      "Conditions covered: 22\n",
      "     Line coverage: 14.1%\n",
      "Condition coverage: 12.0%\n"
     ]
    },
    {
     "name": "stderr",
     "output_type": "stream",
     "text": [
      "OK\n",
      "Running ant (coverage.instrument).......................................... OK\n",
      "Running ant (run.gen.tests)................................................ OK\n",
      "Running ant (coverage.report).............................................. OK\n",
      "Extract test suite......................................................... OK\n",
      "Running ant (compile.gen.tests)............................................ "
     ]
    },
    {
     "name": "stdout",
     "output_type": "stream",
     "text": [
      "       Lines total: 234\n",
      "     Lines covered: 9\n",
      "  Conditions total: 184\n",
      "Conditions covered: 6\n",
      "     Line coverage: 3.8%\n",
      "Condition coverage: 3.3%\n"
     ]
    },
    {
     "name": "stderr",
     "output_type": "stream",
     "text": [
      "OK\n",
      "Running ant (coverage.instrument).......................................... OK\n",
      "Running ant (run.gen.tests)................................................ OK\n",
      "Running ant (coverage.report).............................................. OK\n",
      "Extract test suite......................................................... OK\n",
      "Running ant (compile.gen.tests)............................................ "
     ]
    },
    {
     "name": "stdout",
     "output_type": "stream",
     "text": [
      "       Lines total: 234\n",
      "     Lines covered: 3\n",
      "  Conditions total: 184\n",
      "Conditions covered: 2\n",
      "     Line coverage: 1.3%\n",
      "Condition coverage: 1.1%\n"
     ]
    },
    {
     "name": "stderr",
     "output_type": "stream",
     "text": [
      "OK\n",
      "Running ant (coverage.instrument).......................................... OK\n",
      "Running ant (run.gen.tests)................................................ OK\n",
      "Running ant (coverage.report).............................................. OK\n",
      "Extract test suite......................................................... OK\n",
      "Running ant (compile.gen.tests)............................................ "
     ]
    },
    {
     "name": "stdout",
     "output_type": "stream",
     "text": [
      "       Lines total: 234\n",
      "     Lines covered: 16\n",
      "  Conditions total: 184\n",
      "Conditions covered: 11\n",
      "     Line coverage: 6.8%\n",
      "Condition coverage: 6.0%\n"
     ]
    },
    {
     "name": "stderr",
     "output_type": "stream",
     "text": [
      "OK\n",
      "Running ant (coverage.instrument).......................................... OK\n",
      "Running ant (run.gen.tests)................................................ OK\n",
      "Running ant (coverage.report).............................................. OK\n",
      "Extract test suite......................................................... OK\n",
      "Running ant (compile.gen.tests)............................................ "
     ]
    },
    {
     "name": "stdout",
     "output_type": "stream",
     "text": [
      "       Lines total: 234\n",
      "     Lines covered: 5\n",
      "  Conditions total: 184\n",
      "Conditions covered: 1\n",
      "     Line coverage: 2.1%\n",
      "Condition coverage: 0.5%\n"
     ]
    },
    {
     "name": "stderr",
     "output_type": "stream",
     "text": [
      "OK\n",
      "Running ant (coverage.instrument).......................................... OK\n",
      "Running ant (run.gen.tests)................................................ OK\n",
      "Running ant (coverage.report).............................................. OK\n",
      "Extract test suite......................................................... OK\n",
      "Running ant (compile.gen.tests)............................................ "
     ]
    },
    {
     "name": "stdout",
     "output_type": "stream",
     "text": [
      "       Lines total: 234\n",
      "     Lines covered: 16\n",
      "  Conditions total: 184\n",
      "Conditions covered: 11\n",
      "     Line coverage: 6.8%\n",
      "Condition coverage: 6.0%\n"
     ]
    },
    {
     "name": "stderr",
     "output_type": "stream",
     "text": [
      "OK\n",
      "Running ant (coverage.instrument).......................................... OK\n",
      "Running ant (run.gen.tests)................................................ OK\n",
      "Running ant (coverage.report).............................................. OK\n",
      "Extract test suite......................................................... OK\n",
      "Running ant (compile.gen.tests)............................................ "
     ]
    },
    {
     "name": "stdout",
     "output_type": "stream",
     "text": [
      "       Lines total: 234\n",
      "     Lines covered: 3\n",
      "  Conditions total: 184\n",
      "Conditions covered: 2\n",
      "     Line coverage: 1.3%\n",
      "Condition coverage: 1.1%\n"
     ]
    },
    {
     "name": "stderr",
     "output_type": "stream",
     "text": [
      "OK\n",
      "Running ant (coverage.instrument).......................................... OK\n",
      "Running ant (run.gen.tests)................................................ OK\n",
      "Running ant (coverage.report).............................................. OK\n",
      "Extract test suite......................................................... OK\n",
      "Running ant (compile.gen.tests)............................................ "
     ]
    },
    {
     "name": "stdout",
     "output_type": "stream",
     "text": [
      "       Lines total: 234\n",
      "     Lines covered: 9\n",
      "  Conditions total: 184\n",
      "Conditions covered: 7\n",
      "     Line coverage: 3.8%\n",
      "Condition coverage: 3.8%\n"
     ]
    },
    {
     "name": "stderr",
     "output_type": "stream",
     "text": [
      "OK\n",
      "Running ant (coverage.instrument).......................................... OK\n",
      "Running ant (run.gen.tests)................................................ OK\n",
      "Running ant (coverage.report).............................................. OK\n",
      "Extract test suite......................................................... OK\n",
      "Running ant (compile.gen.tests)............................................ "
     ]
    },
    {
     "name": "stdout",
     "output_type": "stream",
     "text": [
      "       Lines total: 234\n",
      "     Lines covered: 3\n",
      "  Conditions total: 184\n",
      "Conditions covered: 3\n",
      "     Line coverage: 1.3%\n",
      "Condition coverage: 1.6%\n"
     ]
    },
    {
     "name": "stderr",
     "output_type": "stream",
     "text": [
      "OK\n",
      "Running ant (coverage.instrument).......................................... OK\n",
      "Running ant (run.gen.tests)................................................ OK\n",
      "Running ant (coverage.report).............................................. OK\n",
      "Extract test suite......................................................... OK\n",
      "Running ant (compile.gen.tests)............................................ "
     ]
    },
    {
     "name": "stdout",
     "output_type": "stream",
     "text": [
      "       Lines total: 234\n",
      "     Lines covered: 6\n",
      "  Conditions total: 184\n",
      "Conditions covered: 5\n",
      "     Line coverage: 2.6%\n",
      "Condition coverage: 2.7%\n"
     ]
    },
    {
     "name": "stderr",
     "output_type": "stream",
     "text": [
      "OK\n",
      "Running ant (coverage.instrument).......................................... OK\n",
      "Running ant (run.gen.tests)................................................ OK\n",
      "Running ant (coverage.report).............................................. OK\n",
      "Extract test suite......................................................... OK\n",
      "Running ant (compile.gen.tests)............................................ "
     ]
    },
    {
     "name": "stdout",
     "output_type": "stream",
     "text": [
      "       Lines total: 234\n",
      "     Lines covered: 65\n",
      "  Conditions total: 184\n",
      "Conditions covered: 50\n",
      "     Line coverage: 27.8%\n",
      "Condition coverage: 27.2%\n"
     ]
    },
    {
     "name": "stderr",
     "output_type": "stream",
     "text": [
      "OK\n",
      "Running ant (coverage.instrument).......................................... OK\n",
      "Running ant (run.gen.tests)................................................ OK\n",
      "Running ant (coverage.report).............................................. OK\n",
      "Extract test suite......................................................... OK\n",
      "Running ant (compile.gen.tests)............................................ "
     ]
    },
    {
     "name": "stdout",
     "output_type": "stream",
     "text": [
      "       Lines total: 234\n",
      "     Lines covered: 9\n",
      "  Conditions total: 184\n",
      "Conditions covered: 6\n",
      "     Line coverage: 3.8%\n",
      "Condition coverage: 3.3%\n"
     ]
    },
    {
     "name": "stderr",
     "output_type": "stream",
     "text": [
      "OK\n",
      "Running ant (coverage.instrument).......................................... OK\n",
      "Running ant (run.gen.tests)................................................ OK\n",
      "Running ant (coverage.report).............................................. OK\n",
      "Extract test suite......................................................... OK\n",
      "Running ant (compile.gen.tests)............................................ "
     ]
    },
    {
     "name": "stdout",
     "output_type": "stream",
     "text": [
      "       Lines total: 234\n",
      "     Lines covered: 61\n",
      "  Conditions total: 184\n",
      "Conditions covered: 48\n",
      "     Line coverage: 26.1%\n",
      "Condition coverage: 26.1%\n"
     ]
    },
    {
     "name": "stderr",
     "output_type": "stream",
     "text": [
      "OK\n",
      "Running ant (coverage.instrument).......................................... OK\n",
      "Running ant (run.gen.tests)................................................ OK\n",
      "Running ant (coverage.report).............................................. OK\n",
      "Extract test suite......................................................... OK\n",
      "Running ant (compile.gen.tests)............................................ "
     ]
    },
    {
     "name": "stdout",
     "output_type": "stream",
     "text": [
      "       Lines total: 234\n",
      "     Lines covered: 16\n",
      "  Conditions total: 184\n",
      "Conditions covered: 11\n",
      "     Line coverage: 6.8%\n",
      "Condition coverage: 6.0%\n"
     ]
    },
    {
     "name": "stderr",
     "output_type": "stream",
     "text": [
      "OK\n",
      "Running ant (coverage.instrument).......................................... OK\n",
      "Running ant (run.gen.tests)................................................ OK\n",
      "Running ant (coverage.report).............................................. OK\n",
      "Extract test suite......................................................... OK\n",
      "Running ant (compile.gen.tests)............................................ "
     ]
    },
    {
     "name": "stdout",
     "output_type": "stream",
     "text": [
      "       Lines total: 234\n",
      "     Lines covered: 9\n",
      "  Conditions total: 184\n",
      "Conditions covered: 6\n",
      "     Line coverage: 3.8%\n",
      "Condition coverage: 3.3%\n"
     ]
    },
    {
     "name": "stderr",
     "output_type": "stream",
     "text": [
      "OK\n",
      "Running ant (coverage.instrument).......................................... OK\n",
      "Running ant (run.gen.tests)................................................ OK\n",
      "Running ant (coverage.report).............................................. OK\n",
      "Extract test suite......................................................... OK\n",
      "Running ant (compile.gen.tests)............................................ "
     ]
    },
    {
     "name": "stdout",
     "output_type": "stream",
     "text": [
      "       Lines total: 234\n",
      "     Lines covered: 7\n",
      "  Conditions total: 184\n",
      "Conditions covered: 6\n",
      "     Line coverage: 3.0%\n",
      "Condition coverage: 3.3%\n"
     ]
    },
    {
     "name": "stderr",
     "output_type": "stream",
     "text": [
      "OK\n",
      "Running ant (coverage.instrument).......................................... OK\n",
      "Running ant (run.gen.tests)................................................ OK\n",
      "Running ant (coverage.report).............................................. OK\n",
      "Extract test suite......................................................... OK\n",
      "Running ant (compile.gen.tests)............................................ "
     ]
    },
    {
     "name": "stdout",
     "output_type": "stream",
     "text": [
      "       Lines total: 234\n",
      "     Lines covered: 17\n",
      "  Conditions total: 184\n",
      "Conditions covered: 12\n",
      "     Line coverage: 7.3%\n",
      "Condition coverage: 6.5%\n"
     ]
    },
    {
     "name": "stderr",
     "output_type": "stream",
     "text": [
      "OK\n",
      "Running ant (coverage.instrument).......................................... OK\n",
      "Running ant (run.gen.tests)................................................ OK\n",
      "Running ant (coverage.report).............................................. OK\n",
      "Extract test suite......................................................... OK\n",
      "Running ant (compile.gen.tests)............................................ "
     ]
    },
    {
     "name": "stdout",
     "output_type": "stream",
     "text": [
      "       Lines total: 234\n",
      "     Lines covered: 6\n",
      "  Conditions total: 184\n",
      "Conditions covered: 5\n",
      "     Line coverage: 2.6%\n",
      "Condition coverage: 2.7%\n"
     ]
    },
    {
     "name": "stderr",
     "output_type": "stream",
     "text": [
      "OK\n",
      "Running ant (coverage.instrument).......................................... OK\n",
      "Running ant (run.gen.tests)................................................ OK\n",
      "Running ant (coverage.report).............................................. OK\n",
      "Extract test suite......................................................... OK\n",
      "Running ant (compile.gen.tests)............................................ "
     ]
    },
    {
     "name": "stdout",
     "output_type": "stream",
     "text": [
      "       Lines total: 234\n",
      "     Lines covered: 3\n",
      "  Conditions total: 184\n",
      "Conditions covered: 2\n",
      "     Line coverage: 1.3%\n",
      "Condition coverage: 1.1%\n"
     ]
    },
    {
     "name": "stderr",
     "output_type": "stream",
     "text": [
      "OK\n",
      "Running ant (coverage.instrument).......................................... OK\n",
      "Running ant (run.gen.tests)................................................ OK\n",
      "Running ant (coverage.report).............................................. OK\n",
      "Extract test suite......................................................... OK\n",
      "Running ant (compile.gen.tests)............................................ "
     ]
    },
    {
     "name": "stdout",
     "output_type": "stream",
     "text": [
      "       Lines total: 234\n",
      "     Lines covered: 9\n",
      "  Conditions total: 184\n",
      "Conditions covered: 6\n",
      "     Line coverage: 3.8%\n",
      "Condition coverage: 3.3%\n"
     ]
    },
    {
     "name": "stderr",
     "output_type": "stream",
     "text": [
      "OK\n",
      "Running ant (coverage.instrument).......................................... OK\n",
      "Running ant (run.gen.tests)................................................ OK\n",
      "Running ant (coverage.report).............................................. OK\n",
      "Extract test suite......................................................... OK\n",
      "Running ant (compile.gen.tests)............................................ "
     ]
    },
    {
     "name": "stdout",
     "output_type": "stream",
     "text": [
      "       Lines total: 234\n",
      "     Lines covered: 14\n",
      "  Conditions total: 184\n",
      "Conditions covered: 11\n",
      "     Line coverage: 6.0%\n",
      "Condition coverage: 6.0%\n"
     ]
    },
    {
     "name": "stderr",
     "output_type": "stream",
     "text": [
      "OK\n",
      "Running ant (coverage.instrument).......................................... OK\n",
      "Running ant (run.gen.tests)................................................ OK\n",
      "Running ant (coverage.report).............................................. OK\n",
      "Extract test suite......................................................... OK\n",
      "Running ant (compile.gen.tests)............................................ "
     ]
    },
    {
     "name": "stdout",
     "output_type": "stream",
     "text": [
      "       Lines total: 234\n",
      "     Lines covered: 7\n",
      "  Conditions total: 184\n",
      "Conditions covered: 6\n",
      "     Line coverage: 3.0%\n",
      "Condition coverage: 3.3%\n"
     ]
    },
    {
     "name": "stderr",
     "output_type": "stream",
     "text": [
      "OK\n",
      "Running ant (coverage.instrument).......................................... OK\n",
      "Running ant (run.gen.tests)................................................ OK\n",
      "Running ant (coverage.report).............................................. OK\n",
      "Extract test suite......................................................... OK\n",
      "Running ant (compile.gen.tests)............................................ "
     ]
    },
    {
     "name": "stdout",
     "output_type": "stream",
     "text": [
      "       Lines total: 234\n",
      "     Lines covered: 1\n",
      "  Conditions total: 184\n",
      "Conditions covered: 0\n",
      "     Line coverage: 0.4%\n",
      "Condition coverage: 0.0%\n"
     ]
    },
    {
     "name": "stderr",
     "output_type": "stream",
     "text": [
      "OK\n",
      "Running ant (coverage.instrument).......................................... OK\n",
      "Running ant (run.gen.tests)................................................ OK\n",
      "Running ant (coverage.report).............................................. OK\n",
      "Extract test suite......................................................... OK\n",
      "Running ant (compile.gen.tests)............................................ "
     ]
    },
    {
     "name": "stdout",
     "output_type": "stream",
     "text": [
      "       Lines total: 234\n",
      "     Lines covered: 8\n",
      "  Conditions total: 184\n",
      "Conditions covered: 6\n",
      "     Line coverage: 3.4%\n",
      "Condition coverage: 3.3%\n"
     ]
    },
    {
     "name": "stderr",
     "output_type": "stream",
     "text": [
      "OK\n",
      "Running ant (coverage.instrument).......................................... OK\n",
      "Running ant (run.gen.tests)................................................ OK\n",
      "Running ant (coverage.report).............................................. OK\n",
      "Extract test suite......................................................... OK\n",
      "Running ant (compile.gen.tests)............................................ "
     ]
    },
    {
     "name": "stdout",
     "output_type": "stream",
     "text": [
      "       Lines total: 234\n",
      "     Lines covered: 6\n",
      "  Conditions total: 184\n",
      "Conditions covered: 5\n",
      "     Line coverage: 2.6%\n",
      "Condition coverage: 2.7%\n"
     ]
    },
    {
     "name": "stderr",
     "output_type": "stream",
     "text": [
      "OK\n",
      "Running ant (coverage.instrument).......................................... OK\n",
      "Running ant (run.gen.tests)................................................ OK\n",
      "Running ant (coverage.report).............................................. OK\n",
      "Extract test suite......................................................... OK\n",
      "Running ant (compile.gen.tests)............................................ "
     ]
    },
    {
     "name": "stdout",
     "output_type": "stream",
     "text": [
      "       Lines total: 234\n",
      "     Lines covered: 5\n",
      "  Conditions total: 184\n",
      "Conditions covered: 3\n",
      "     Line coverage: 2.1%\n",
      "Condition coverage: 1.6%\n"
     ]
    },
    {
     "name": "stderr",
     "output_type": "stream",
     "text": [
      "OK\n",
      "Running ant (coverage.instrument).......................................... OK\n",
      "Running ant (run.gen.tests)................................................ OK\n",
      "Running ant (coverage.report).............................................. OK\n",
      "Extract test suite......................................................... OK\n",
      "Running ant (compile.gen.tests)............................................ "
     ]
    },
    {
     "name": "stdout",
     "output_type": "stream",
     "text": [
      "       Lines total: 234\n",
      "     Lines covered: 9\n",
      "  Conditions total: 184\n",
      "Conditions covered: 6\n",
      "     Line coverage: 3.8%\n",
      "Condition coverage: 3.3%\n"
     ]
    },
    {
     "name": "stderr",
     "output_type": "stream",
     "text": [
      "OK\n",
      "Running ant (coverage.instrument).......................................... OK\n",
      "Running ant (run.gen.tests)................................................ OK\n",
      "Running ant (coverage.report).............................................. OK\n",
      "Extract test suite......................................................... OK\n",
      "Running ant (compile.gen.tests)............................................ "
     ]
    },
    {
     "name": "stdout",
     "output_type": "stream",
     "text": [
      "       Lines total: 234\n",
      "     Lines covered: 3\n",
      "  Conditions total: 184\n",
      "Conditions covered: 2\n",
      "     Line coverage: 1.3%\n",
      "Condition coverage: 1.1%\n"
     ]
    },
    {
     "name": "stderr",
     "output_type": "stream",
     "text": [
      "OK\n",
      "Running ant (coverage.instrument).......................................... OK\n",
      "Running ant (run.gen.tests)................................................ OK\n",
      "Running ant (coverage.report).............................................. OK\n",
      "Extract test suite......................................................... OK\n",
      "Running ant (compile.gen.tests)............................................ "
     ]
    },
    {
     "name": "stdout",
     "output_type": "stream",
     "text": [
      "       Lines total: 234\n",
      "     Lines covered: 34\n",
      "  Conditions total: 184\n",
      "Conditions covered: 23\n",
      "     Line coverage: 14.5%\n",
      "Condition coverage: 12.5%\n"
     ]
    },
    {
     "name": "stderr",
     "output_type": "stream",
     "text": [
      "OK\n",
      "Running ant (coverage.instrument).......................................... OK\n",
      "Running ant (run.gen.tests)................................................ OK\n",
      "Running ant (coverage.report).............................................. OK\n",
      "Extract test suite......................................................... OK\n",
      "Running ant (compile.gen.tests)............................................ "
     ]
    },
    {
     "name": "stdout",
     "output_type": "stream",
     "text": [
      "       Lines total: 234\n",
      "     Lines covered: 9\n",
      "  Conditions total: 184\n",
      "Conditions covered: 7\n",
      "     Line coverage: 3.8%\n",
      "Condition coverage: 3.8%\n"
     ]
    },
    {
     "name": "stderr",
     "output_type": "stream",
     "text": [
      "OK\n",
      "Running ant (coverage.instrument).......................................... OK\n",
      "Running ant (run.gen.tests)................................................ OK\n",
      "Running ant (coverage.report).............................................. OK\n",
      "Extract test suite......................................................... OK\n",
      "Running ant (compile.gen.tests)............................................ "
     ]
    },
    {
     "name": "stdout",
     "output_type": "stream",
     "text": [
      "       Lines total: 234\n",
      "     Lines covered: 9\n",
      "  Conditions total: 184\n",
      "Conditions covered: 7\n",
      "     Line coverage: 3.8%\n",
      "Condition coverage: 3.8%\n"
     ]
    },
    {
     "name": "stderr",
     "output_type": "stream",
     "text": [
      "OK\n",
      "Running ant (coverage.instrument).......................................... OK\n",
      "Running ant (run.gen.tests)................................................ OK\n",
      "Running ant (coverage.report).............................................. OK\n",
      "Extract test suite......................................................... OK\n",
      "Running ant (compile.gen.tests)............................................ "
     ]
    },
    {
     "name": "stdout",
     "output_type": "stream",
     "text": [
      "       Lines total: 234\n",
      "     Lines covered: 59\n",
      "  Conditions total: 184\n",
      "Conditions covered: 46\n",
      "     Line coverage: 25.2%\n",
      "Condition coverage: 25.0%\n"
     ]
    },
    {
     "name": "stderr",
     "output_type": "stream",
     "text": [
      "OK\n",
      "Running ant (coverage.instrument).......................................... OK\n",
      "Running ant (run.gen.tests)................................................ OK\n",
      "Running ant (coverage.report).............................................. OK\n",
      "Extract test suite......................................................... OK\n",
      "Running ant (compile.gen.tests)............................................ "
     ]
    },
    {
     "name": "stdout",
     "output_type": "stream",
     "text": [
      "       Lines total: 234\n",
      "     Lines covered: 3\n",
      "  Conditions total: 184\n",
      "Conditions covered: 2\n",
      "     Line coverage: 1.3%\n",
      "Condition coverage: 1.1%\n"
     ]
    },
    {
     "name": "stderr",
     "output_type": "stream",
     "text": [
      "OK\n",
      "Running ant (coverage.instrument).......................................... OK\n",
      "Running ant (run.gen.tests)................................................ OK\n",
      "Running ant (coverage.report).............................................. OK\n",
      "Extract test suite......................................................... OK\n",
      "Running ant (compile.gen.tests)............................................ "
     ]
    },
    {
     "name": "stdout",
     "output_type": "stream",
     "text": [
      "       Lines total: 234\n",
      "     Lines covered: 68\n",
      "  Conditions total: 184\n",
      "Conditions covered: 4\n",
      "     Line coverage: 29.1%\n",
      "Condition coverage: 2.2%\n"
     ]
    },
    {
     "name": "stderr",
     "output_type": "stream",
     "text": [
      "OK\n",
      "Running ant (coverage.instrument).......................................... OK\n",
      "Running ant (run.gen.tests)................................................ OK\n",
      "Running ant (coverage.report).............................................. OK\n",
      "Extract test suite......................................................... OK\n",
      "Running ant (compile.gen.tests)............................................ "
     ]
    },
    {
     "name": "stdout",
     "output_type": "stream",
     "text": [
      "       Lines total: 234\n",
      "     Lines covered: 16\n",
      "  Conditions total: 184\n",
      "Conditions covered: 10\n",
      "     Line coverage: 6.8%\n",
      "Condition coverage: 5.4%\n"
     ]
    },
    {
     "name": "stderr",
     "output_type": "stream",
     "text": [
      "OK\n",
      "Running ant (coverage.instrument).......................................... OK\n",
      "Running ant (run.gen.tests)................................................ OK\n",
      "Running ant (coverage.report).............................................. OK\n",
      "Extract test suite......................................................... OK\n",
      "Running ant (compile.gen.tests)............................................ "
     ]
    },
    {
     "name": "stdout",
     "output_type": "stream",
     "text": [
      "       Lines total: 234\n",
      "     Lines covered: 18\n",
      "  Conditions total: 184\n",
      "Conditions covered: 14\n",
      "     Line coverage: 7.7%\n",
      "Condition coverage: 7.6%\n"
     ]
    },
    {
     "name": "stderr",
     "output_type": "stream",
     "text": [
      "OK\n",
      "Running ant (coverage.instrument).......................................... OK\n",
      "Running ant (run.gen.tests)................................................ OK\n",
      "Running ant (coverage.report).............................................. OK\n",
      "Extract test suite......................................................... OK\n",
      "Running ant (compile.gen.tests)............................................ "
     ]
    },
    {
     "name": "stdout",
     "output_type": "stream",
     "text": [
      "       Lines total: 234\n",
      "     Lines covered: 67\n",
      "  Conditions total: 184\n",
      "Conditions covered: 4\n",
      "     Line coverage: 28.6%\n",
      "Condition coverage: 2.2%\n"
     ]
    },
    {
     "name": "stderr",
     "output_type": "stream",
     "text": [
      "OK\n",
      "Running ant (coverage.instrument).......................................... OK\n",
      "Running ant (run.gen.tests)................................................ OK\n",
      "Running ant (coverage.report).............................................. OK\n",
      "Extract test suite......................................................... OK\n",
      "Running ant (compile.gen.tests)............................................ "
     ]
    },
    {
     "name": "stdout",
     "output_type": "stream",
     "text": [
      "       Lines total: 234\n",
      "     Lines covered: 79\n",
      "  Conditions total: 184\n",
      "Conditions covered: 62\n",
      "     Line coverage: 33.8%\n",
      "Condition coverage: 33.7%\n"
     ]
    },
    {
     "name": "stderr",
     "output_type": "stream",
     "text": [
      "OK\n",
      "Running ant (coverage.instrument).......................................... OK\n",
      "Running ant (run.gen.tests)................................................ OK\n",
      "Running ant (coverage.report).............................................. OK\n",
      "Extract test suite......................................................... OK\n",
      "Running ant (compile.gen.tests)............................................ "
     ]
    },
    {
     "name": "stdout",
     "output_type": "stream",
     "text": [
      "       Lines total: 234\n",
      "     Lines covered: 17\n",
      "  Conditions total: 184\n",
      "Conditions covered: 12\n",
      "     Line coverage: 7.3%\n",
      "Condition coverage: 6.5%\n"
     ]
    },
    {
     "name": "stderr",
     "output_type": "stream",
     "text": [
      "OK\n",
      "Running ant (coverage.instrument).......................................... OK\n",
      "Running ant (run.gen.tests)................................................ OK\n",
      "Running ant (coverage.report).............................................. OK\n",
      "Extract test suite......................................................... OK\n",
      "Running ant (compile.gen.tests)............................................ "
     ]
    },
    {
     "name": "stdout",
     "output_type": "stream",
     "text": [
      "       Lines total: 234\n",
      "     Lines covered: 13\n",
      "  Conditions total: 184\n",
      "Conditions covered: 10\n",
      "     Line coverage: 5.6%\n",
      "Condition coverage: 5.4%\n"
     ]
    },
    {
     "name": "stderr",
     "output_type": "stream",
     "text": [
      "OK\n",
      "Running ant (coverage.instrument).......................................... OK\n",
      "Running ant (run.gen.tests)................................................ OK\n",
      "Running ant (coverage.report).............................................. OK\n",
      "Extract test suite......................................................... OK\n",
      "Running ant (compile.gen.tests)............................................ "
     ]
    },
    {
     "name": "stdout",
     "output_type": "stream",
     "text": [
      "       Lines total: 234\n",
      "     Lines covered: 60\n",
      "  Conditions total: 184\n",
      "Conditions covered: 47\n",
      "     Line coverage: 25.6%\n",
      "Condition coverage: 25.5%\n"
     ]
    },
    {
     "name": "stderr",
     "output_type": "stream",
     "text": [
      "OK\n",
      "Running ant (coverage.instrument).......................................... OK\n",
      "Running ant (run.gen.tests)................................................ OK\n",
      "Running ant (coverage.report).............................................. OK\n",
      "Extract test suite......................................................... OK\n",
      "Running ant (compile.gen.tests)............................................ "
     ]
    },
    {
     "name": "stdout",
     "output_type": "stream",
     "text": [
      "       Lines total: 234\n",
      "     Lines covered: 3\n",
      "  Conditions total: 184\n",
      "Conditions covered: 2\n",
      "     Line coverage: 1.3%\n",
      "Condition coverage: 1.1%\n"
     ]
    },
    {
     "name": "stderr",
     "output_type": "stream",
     "text": [
      "OK\n",
      "Running ant (coverage.instrument).......................................... OK\n",
      "Running ant (run.gen.tests)................................................ OK\n",
      "Running ant (coverage.report).............................................. OK\n",
      "Extract test suite......................................................... OK\n",
      "Running ant (compile.gen.tests)............................................ "
     ]
    },
    {
     "name": "stdout",
     "output_type": "stream",
     "text": [
      "       Lines total: 234\n",
      "     Lines covered: 16\n",
      "  Conditions total: 184\n",
      "Conditions covered: 11\n",
      "     Line coverage: 6.8%\n",
      "Condition coverage: 6.0%\n"
     ]
    },
    {
     "name": "stderr",
     "output_type": "stream",
     "text": [
      "OK\n",
      "Running ant (coverage.instrument).......................................... OK\n",
      "Running ant (run.gen.tests)................................................ OK\n",
      "Running ant (coverage.report).............................................. OK\n",
      "Extract test suite......................................................... OK\n",
      "Running ant (compile.gen.tests)............................................ "
     ]
    },
    {
     "name": "stdout",
     "output_type": "stream",
     "text": [
      "       Lines total: 234\n",
      "     Lines covered: 59\n",
      "  Conditions total: 184\n",
      "Conditions covered: 46\n",
      "     Line coverage: 25.2%\n",
      "Condition coverage: 25.0%\n"
     ]
    },
    {
     "name": "stderr",
     "output_type": "stream",
     "text": [
      "OK\n",
      "Running ant (coverage.instrument).......................................... OK\n",
      "Running ant (run.gen.tests)................................................ OK\n",
      "Running ant (coverage.report).............................................. OK\n",
      "Extract test suite......................................................... OK\n",
      "Running ant (compile.gen.tests)............................................ "
     ]
    },
    {
     "name": "stdout",
     "output_type": "stream",
     "text": [
      "       Lines total: 234\n",
      "     Lines covered: 68\n",
      "  Conditions total: 184\n",
      "Conditions covered: 53\n",
      "     Line coverage: 29.1%\n",
      "Condition coverage: 28.8%\n"
     ]
    },
    {
     "name": "stderr",
     "output_type": "stream",
     "text": [
      "OK\n",
      "Running ant (coverage.instrument).......................................... OK\n",
      "Running ant (run.gen.tests)................................................ OK\n",
      "Running ant (coverage.report).............................................. OK\n",
      "Extract test suite......................................................... OK\n",
      "Running ant (compile.gen.tests)............................................ "
     ]
    },
    {
     "name": "stdout",
     "output_type": "stream",
     "text": [
      "       Lines total: 234\n",
      "     Lines covered: 9\n",
      "  Conditions total: 184\n",
      "Conditions covered: 6\n",
      "     Line coverage: 3.8%\n",
      "Condition coverage: 3.3%\n"
     ]
    },
    {
     "name": "stderr",
     "output_type": "stream",
     "text": [
      "OK\n",
      "Running ant (coverage.instrument).......................................... OK\n",
      "Running ant (run.gen.tests)................................................ OK\n",
      "Running ant (coverage.report).............................................. OK\n",
      "Extract test suite......................................................... OK\n",
      "Running ant (compile.gen.tests)............................................ "
     ]
    },
    {
     "name": "stdout",
     "output_type": "stream",
     "text": [
      "       Lines total: 234\n",
      "     Lines covered: 8\n",
      "  Conditions total: 184\n",
      "Conditions covered: 6\n",
      "     Line coverage: 3.4%\n",
      "Condition coverage: 3.3%\n"
     ]
    },
    {
     "name": "stderr",
     "output_type": "stream",
     "text": [
      "OK\n",
      "Running ant (coverage.instrument).......................................... OK\n",
      "Running ant (run.gen.tests)................................................ OK\n",
      "Running ant (coverage.report).............................................. OK\n",
      "Extract test suite......................................................... OK\n",
      "Running ant (compile.gen.tests)............................................ "
     ]
    },
    {
     "name": "stdout",
     "output_type": "stream",
     "text": [
      "       Lines total: 234\n",
      "     Lines covered: 17\n",
      "  Conditions total: 184\n",
      "Conditions covered: 12\n",
      "     Line coverage: 7.3%\n",
      "Condition coverage: 6.5%\n"
     ]
    },
    {
     "name": "stderr",
     "output_type": "stream",
     "text": [
      "OK\n",
      "Running ant (coverage.instrument).......................................... OK\n",
      "Running ant (run.gen.tests)................................................ OK\n",
      "Running ant (coverage.report).............................................. OK\n",
      "Extract test suite......................................................... OK\n",
      "Running ant (compile.gen.tests)............................................ "
     ]
    },
    {
     "name": "stdout",
     "output_type": "stream",
     "text": [
      "       Lines total: 234\n",
      "     Lines covered: 8\n",
      "  Conditions total: 184\n",
      "Conditions covered: 6\n",
      "     Line coverage: 3.4%\n",
      "Condition coverage: 3.3%\n"
     ]
    },
    {
     "name": "stderr",
     "output_type": "stream",
     "text": [
      "OK\n",
      "Running ant (coverage.instrument).......................................... OK\n",
      "Running ant (run.gen.tests)................................................ OK\n",
      "Running ant (coverage.report).............................................. OK\n",
      "Extract test suite......................................................... OK\n",
      "Running ant (compile.gen.tests)............................................ "
     ]
    },
    {
     "name": "stdout",
     "output_type": "stream",
     "text": [
      "       Lines total: 234\n",
      "     Lines covered: 16\n",
      "  Conditions total: 184\n",
      "Conditions covered: 11\n",
      "     Line coverage: 6.8%\n",
      "Condition coverage: 6.0%\n"
     ]
    },
    {
     "name": "stderr",
     "output_type": "stream",
     "text": [
      "OK\n",
      "Running ant (coverage.instrument).......................................... OK\n",
      "Running ant (run.gen.tests)................................................ OK\n",
      "Running ant (coverage.report).............................................. OK\n",
      "Extract test suite......................................................... OK\n",
      "Running ant (compile.gen.tests)............................................ "
     ]
    },
    {
     "name": "stdout",
     "output_type": "stream",
     "text": [
      "       Lines total: 234\n",
      "     Lines covered: 3\n",
      "  Conditions total: 184\n",
      "Conditions covered: 2\n",
      "     Line coverage: 1.3%\n",
      "Condition coverage: 1.1%\n"
     ]
    },
    {
     "name": "stderr",
     "output_type": "stream",
     "text": [
      "OK\n",
      "Running ant (coverage.instrument).......................................... OK\n",
      "Running ant (run.gen.tests)................................................ OK\n",
      "Running ant (coverage.report).............................................. OK\n",
      "Extract test suite......................................................... OK\n",
      "Running ant (compile.gen.tests)............................................ "
     ]
    },
    {
     "name": "stdout",
     "output_type": "stream",
     "text": [
      "       Lines total: 234\n",
      "     Lines covered: 16\n",
      "  Conditions total: 184\n",
      "Conditions covered: 11\n",
      "     Line coverage: 6.8%\n",
      "Condition coverage: 6.0%\n"
     ]
    },
    {
     "name": "stderr",
     "output_type": "stream",
     "text": [
      "OK\n",
      "Running ant (coverage.instrument).......................................... OK\n",
      "Running ant (run.gen.tests)................................................ OK\n",
      "Running ant (coverage.report).............................................. OK\n",
      "Extract test suite......................................................... OK\n",
      "Running ant (compile.gen.tests)............................................ "
     ]
    },
    {
     "name": "stdout",
     "output_type": "stream",
     "text": [
      "       Lines total: 234\n",
      "     Lines covered: 9\n",
      "  Conditions total: 184\n",
      "Conditions covered: 6\n",
      "     Line coverage: 3.8%\n",
      "Condition coverage: 3.3%\n"
     ]
    },
    {
     "name": "stderr",
     "output_type": "stream",
     "text": [
      "OK\n",
      "Running ant (coverage.instrument).......................................... OK\n",
      "Running ant (run.gen.tests)................................................ OK\n",
      "Running ant (coverage.report).............................................. OK\n",
      "Extract test suite......................................................... OK\n",
      "Running ant (compile.gen.tests)............................................ "
     ]
    },
    {
     "name": "stdout",
     "output_type": "stream",
     "text": [
      "       Lines total: 234\n",
      "     Lines covered: 77\n",
      "  Conditions total: 184\n",
      "Conditions covered: 59\n",
      "     Line coverage: 32.9%\n",
      "Condition coverage: 32.1%\n"
     ]
    },
    {
     "name": "stderr",
     "output_type": "stream",
     "text": [
      "OK\n",
      "Running ant (coverage.instrument).......................................... OK\n",
      "Running ant (run.gen.tests)................................................ OK\n",
      "Running ant (coverage.report).............................................. OK\n",
      "Extract test suite......................................................... OK\n",
      "Running ant (compile.gen.tests)............................................ "
     ]
    },
    {
     "name": "stdout",
     "output_type": "stream",
     "text": [
      "       Lines total: 234\n",
      "     Lines covered: 14\n",
      "  Conditions total: 184\n",
      "Conditions covered: 11\n",
      "     Line coverage: 6.0%\n",
      "Condition coverage: 6.0%\n"
     ]
    },
    {
     "name": "stderr",
     "output_type": "stream",
     "text": [
      "OK\n",
      "Running ant (coverage.instrument).......................................... OK\n",
      "Running ant (run.gen.tests)................................................ OK\n",
      "Running ant (coverage.report).............................................. OK\n",
      "Extract test suite......................................................... OK\n",
      "Running ant (compile.gen.tests)............................................ "
     ]
    },
    {
     "name": "stdout",
     "output_type": "stream",
     "text": [
      "       Lines total: 234\n",
      "     Lines covered: 16\n",
      "  Conditions total: 184\n",
      "Conditions covered: 11\n",
      "     Line coverage: 6.8%\n",
      "Condition coverage: 6.0%\n"
     ]
    },
    {
     "name": "stderr",
     "output_type": "stream",
     "text": [
      "OK\n",
      "Running ant (coverage.instrument).......................................... OK\n",
      "Running ant (run.gen.tests)................................................ OK\n",
      "Running ant (coverage.report).............................................. OK\n",
      "Extract test suite......................................................... OK\n",
      "Running ant (compile.gen.tests)............................................ "
     ]
    },
    {
     "name": "stdout",
     "output_type": "stream",
     "text": [
      "       Lines total: 234\n",
      "     Lines covered: 6\n",
      "  Conditions total: 184\n",
      "Conditions covered: 5\n",
      "     Line coverage: 2.6%\n",
      "Condition coverage: 2.7%\n"
     ]
    },
    {
     "name": "stderr",
     "output_type": "stream",
     "text": [
      "OK\n",
      "Running ant (coverage.instrument).......................................... OK\n",
      "Running ant (run.gen.tests)................................................ OK\n",
      "Running ant (coverage.report).............................................. OK\n",
      "Extract test suite......................................................... OK\n",
      "Running ant (compile.gen.tests)............................................ "
     ]
    },
    {
     "name": "stdout",
     "output_type": "stream",
     "text": [
      "       Lines total: 234\n",
      "     Lines covered: 17\n",
      "  Conditions total: 184\n",
      "Conditions covered: 12\n",
      "     Line coverage: 7.3%\n",
      "Condition coverage: 6.5%\n"
     ]
    },
    {
     "name": "stderr",
     "output_type": "stream",
     "text": [
      "OK\n",
      "Running ant (coverage.instrument).......................................... OK\n",
      "Running ant (run.gen.tests)................................................ OK\n",
      "Running ant (coverage.report).............................................. OK\n",
      "Extract test suite......................................................... OK\n",
      "Running ant (compile.gen.tests)............................................ "
     ]
    },
    {
     "name": "stdout",
     "output_type": "stream",
     "text": [
      "       Lines total: 234\n",
      "     Lines covered: 17\n",
      "  Conditions total: 184\n",
      "Conditions covered: 12\n",
      "     Line coverage: 7.3%\n",
      "Condition coverage: 6.5%\n"
     ]
    },
    {
     "name": "stderr",
     "output_type": "stream",
     "text": [
      "OK\n",
      "Running ant (coverage.instrument).......................................... OK\n",
      "Running ant (run.gen.tests)................................................ OK\n",
      "Running ant (coverage.report).............................................. OK\n",
      "Extract test suite......................................................... OK\n",
      "Running ant (compile.gen.tests)............................................ "
     ]
    },
    {
     "name": "stdout",
     "output_type": "stream",
     "text": [
      "       Lines total: 234\n",
      "     Lines covered: 16\n",
      "  Conditions total: 184\n",
      "Conditions covered: 11\n",
      "     Line coverage: 6.8%\n",
      "Condition coverage: 6.0%\n"
     ]
    },
    {
     "name": "stderr",
     "output_type": "stream",
     "text": [
      "OK\n",
      "Running ant (coverage.instrument).......................................... OK\n",
      "Running ant (run.gen.tests)................................................ OK\n",
      "Running ant (coverage.report).............................................. OK\n",
      "Extract test suite......................................................... OK\n",
      "Running ant (compile.gen.tests)............................................ "
     ]
    },
    {
     "name": "stdout",
     "output_type": "stream",
     "text": [
      "       Lines total: 234\n",
      "     Lines covered: 70\n",
      "  Conditions total: 184\n",
      "Conditions covered: 6\n",
      "     Line coverage: 29.9%\n",
      "Condition coverage: 3.3%\n"
     ]
    },
    {
     "name": "stderr",
     "output_type": "stream",
     "text": [
      "OK\n",
      "Running ant (coverage.instrument).......................................... OK\n",
      "Running ant (run.gen.tests)................................................ OK\n",
      "Running ant (coverage.report).............................................. OK\n",
      "Extract test suite......................................................... OK\n",
      "Running ant (compile.gen.tests)............................................ "
     ]
    },
    {
     "name": "stdout",
     "output_type": "stream",
     "text": [
      "       Lines total: 234\n",
      "     Lines covered: 14\n",
      "  Conditions total: 184\n",
      "Conditions covered: 11\n",
      "     Line coverage: 6.0%\n",
      "Condition coverage: 6.0%\n"
     ]
    },
    {
     "name": "stderr",
     "output_type": "stream",
     "text": [
      "OK\n",
      "Running ant (coverage.instrument).......................................... OK\n",
      "Running ant (run.gen.tests)................................................ OK\n",
      "Running ant (coverage.report).............................................. OK\n",
      "Extract test suite......................................................... OK\n",
      "Running ant (compile.gen.tests)............................................ "
     ]
    },
    {
     "name": "stdout",
     "output_type": "stream",
     "text": [
      "       Lines total: 234\n",
      "     Lines covered: 67\n",
      "  Conditions total: 184\n",
      "Conditions covered: 4\n",
      "     Line coverage: 28.6%\n",
      "Condition coverage: 2.2%\n"
     ]
    },
    {
     "name": "stderr",
     "output_type": "stream",
     "text": [
      "OK\n",
      "Running ant (coverage.instrument).......................................... OK\n",
      "Running ant (run.gen.tests)................................................ OK\n",
      "Running ant (coverage.report).............................................. OK\n",
      "Extract test suite......................................................... OK\n",
      "Running ant (compile.gen.tests)............................................ "
     ]
    },
    {
     "name": "stdout",
     "output_type": "stream",
     "text": [
      "       Lines total: 234\n",
      "     Lines covered: 3\n",
      "  Conditions total: 184\n",
      "Conditions covered: 2\n",
      "     Line coverage: 1.3%\n",
      "Condition coverage: 1.1%\n"
     ]
    },
    {
     "name": "stderr",
     "output_type": "stream",
     "text": [
      "OK\n",
      "Running ant (coverage.instrument).......................................... OK\n",
      "Running ant (run.gen.tests)................................................ OK\n",
      "Running ant (coverage.report).............................................. OK\n",
      "Extract test suite......................................................... OK\n",
      "Running ant (compile.gen.tests)............................................ "
     ]
    },
    {
     "name": "stdout",
     "output_type": "stream",
     "text": [
      "       Lines total: 234\n",
      "     Lines covered: 3\n",
      "  Conditions total: 184\n",
      "Conditions covered: 2\n",
      "     Line coverage: 1.3%\n",
      "Condition coverage: 1.1%\n"
     ]
    },
    {
     "name": "stderr",
     "output_type": "stream",
     "text": [
      "OK\n",
      "Running ant (coverage.instrument).......................................... OK\n",
      "Running ant (run.gen.tests)................................................ OK\n",
      "Running ant (coverage.report).............................................. OK\n",
      "Extract test suite......................................................... OK\n",
      "Running ant (compile.gen.tests)............................................ "
     ]
    },
    {
     "name": "stdout",
     "output_type": "stream",
     "text": [
      "       Lines total: 234\n",
      "     Lines covered: 14\n",
      "  Conditions total: 184\n",
      "Conditions covered: 11\n",
      "     Line coverage: 6.0%\n",
      "Condition coverage: 6.0%\n"
     ]
    },
    {
     "name": "stderr",
     "output_type": "stream",
     "text": [
      "OK\n",
      "Running ant (coverage.instrument).......................................... OK\n",
      "Running ant (run.gen.tests)................................................ OK\n",
      "Running ant (coverage.report).............................................. OK\n",
      "Extract test suite......................................................... OK\n",
      "Running ant (compile.gen.tests)............................................ "
     ]
    },
    {
     "name": "stdout",
     "output_type": "stream",
     "text": [
      "       Lines total: 234\n",
      "     Lines covered: 3\n",
      "  Conditions total: 184\n",
      "Conditions covered: 2\n",
      "     Line coverage: 1.3%\n",
      "Condition coverage: 1.1%\n"
     ]
    },
    {
     "name": "stderr",
     "output_type": "stream",
     "text": [
      "OK\n",
      "Running ant (coverage.instrument).......................................... OK\n",
      "Running ant (run.gen.tests)................................................ OK\n",
      "Running ant (coverage.report).............................................. OK\n",
      "Extract test suite......................................................... OK\n",
      "Running ant (compile.gen.tests)............................................ "
     ]
    },
    {
     "name": "stdout",
     "output_type": "stream",
     "text": [
      "       Lines total: 234\n",
      "     Lines covered: 63\n",
      "  Conditions total: 184\n",
      "Conditions covered: 49\n",
      "     Line coverage: 26.9%\n",
      "Condition coverage: 26.6%\n"
     ]
    },
    {
     "name": "stderr",
     "output_type": "stream",
     "text": [
      "OK\n",
      "Running ant (coverage.instrument).......................................... OK\n",
      "Running ant (run.gen.tests)................................................ OK\n",
      "Running ant (coverage.report).............................................. OK\n",
      "Extract test suite......................................................... OK\n",
      "Running ant (compile.gen.tests)............................................ "
     ]
    },
    {
     "name": "stdout",
     "output_type": "stream",
     "text": [
      "       Lines total: 234\n",
      "     Lines covered: 19\n",
      "  Conditions total: 184\n",
      "Conditions covered: 15\n",
      "     Line coverage: 8.1%\n",
      "Condition coverage: 8.2%\n"
     ]
    },
    {
     "name": "stderr",
     "output_type": "stream",
     "text": [
      "OK\n",
      "Running ant (coverage.instrument).......................................... OK\n",
      "Running ant (run.gen.tests)................................................ OK\n",
      "Running ant (coverage.report).............................................. OK\n",
      "Extract test suite......................................................... OK\n",
      "Running ant (compile.gen.tests)............................................ "
     ]
    },
    {
     "name": "stdout",
     "output_type": "stream",
     "text": [
      "       Lines total: 234\n",
      "     Lines covered: 60\n",
      "  Conditions total: 184\n",
      "Conditions covered: 48\n",
      "     Line coverage: 25.6%\n",
      "Condition coverage: 26.1%\n"
     ]
    },
    {
     "name": "stderr",
     "output_type": "stream",
     "text": [
      "OK\n",
      "Running ant (coverage.instrument).......................................... OK\n",
      "Running ant (run.gen.tests)................................................ OK\n",
      "Running ant (coverage.report).............................................. OK\n",
      "Extract test suite......................................................... OK\n",
      "Running ant (compile.gen.tests)............................................ "
     ]
    },
    {
     "name": "stdout",
     "output_type": "stream",
     "text": [
      "       Lines total: 234\n",
      "     Lines covered: 7\n",
      "  Conditions total: 184\n",
      "Conditions covered: 5\n",
      "     Line coverage: 3.0%\n",
      "Condition coverage: 2.7%\n"
     ]
    },
    {
     "name": "stderr",
     "output_type": "stream",
     "text": [
      "OK\n",
      "Running ant (coverage.instrument).......................................... OK\n",
      "Running ant (run.gen.tests)................................................ OK\n",
      "Running ant (coverage.report).............................................. OK\n",
      "Extract test suite......................................................... OK\n",
      "Running ant (compile.gen.tests)............................................ "
     ]
    },
    {
     "name": "stdout",
     "output_type": "stream",
     "text": [
      "       Lines total: 234\n",
      "     Lines covered: 3\n",
      "  Conditions total: 184\n",
      "Conditions covered: 2\n",
      "     Line coverage: 1.3%\n",
      "Condition coverage: 1.1%\n"
     ]
    },
    {
     "name": "stderr",
     "output_type": "stream",
     "text": [
      "OK\n",
      "Running ant (coverage.instrument).......................................... OK\n",
      "Running ant (run.gen.tests)................................................ OK\n",
      "Running ant (coverage.report).............................................. OK\n",
      "Extract test suite......................................................... OK\n",
      "Running ant (compile.gen.tests)............................................ "
     ]
    },
    {
     "name": "stdout",
     "output_type": "stream",
     "text": [
      "       Lines total: 234\n",
      "     Lines covered: 7\n",
      "  Conditions total: 184\n",
      "Conditions covered: 6\n",
      "     Line coverage: 3.0%\n",
      "Condition coverage: 3.3%\n"
     ]
    },
    {
     "name": "stderr",
     "output_type": "stream",
     "text": [
      "OK\n",
      "Running ant (coverage.instrument).......................................... OK\n",
      "Running ant (run.gen.tests)................................................ OK\n",
      "Running ant (coverage.report).............................................. OK\n",
      "Extract test suite......................................................... OK\n",
      "Running ant (compile.gen.tests)............................................ "
     ]
    },
    {
     "name": "stdout",
     "output_type": "stream",
     "text": [
      "       Lines total: 234\n",
      "     Lines covered: 65\n",
      "  Conditions total: 184\n",
      "Conditions covered: 3\n",
      "     Line coverage: 27.8%\n",
      "Condition coverage: 1.6%\n"
     ]
    },
    {
     "name": "stderr",
     "output_type": "stream",
     "text": [
      "OK\n",
      "Running ant (coverage.instrument).......................................... OK\n",
      "Running ant (run.gen.tests)................................................ OK\n",
      "Running ant (coverage.report).............................................. OK\n",
      "Extract test suite......................................................... OK\n",
      "Running ant (compile.gen.tests)............................................ "
     ]
    },
    {
     "name": "stdout",
     "output_type": "stream",
     "text": [
      "       Lines total: 234\n",
      "     Lines covered: 66\n",
      "  Conditions total: 184\n",
      "Conditions covered: 3\n",
      "     Line coverage: 28.2%\n",
      "Condition coverage: 1.6%\n"
     ]
    },
    {
     "name": "stderr",
     "output_type": "stream",
     "text": [
      "OK\n",
      "Running ant (coverage.instrument).......................................... OK\n",
      "Running ant (run.gen.tests)................................................ OK\n",
      "Running ant (coverage.report).............................................. OK\n",
      "Extract test suite......................................................... OK\n",
      "Running ant (compile.gen.tests)............................................ "
     ]
    },
    {
     "name": "stdout",
     "output_type": "stream",
     "text": [
      "       Lines total: 234\n",
      "     Lines covered: 16\n",
      "  Conditions total: 184\n",
      "Conditions covered: 11\n",
      "     Line coverage: 6.8%\n",
      "Condition coverage: 6.0%\n"
     ]
    },
    {
     "name": "stderr",
     "output_type": "stream",
     "text": [
      "OK\n",
      "Running ant (coverage.instrument).......................................... OK\n",
      "Running ant (run.gen.tests)................................................ OK\n",
      "Running ant (coverage.report).............................................. OK\n",
      "Extract test suite......................................................... OK\n",
      "Running ant (compile.gen.tests)............................................ "
     ]
    },
    {
     "name": "stdout",
     "output_type": "stream",
     "text": [
      "       Lines total: 234\n",
      "     Lines covered: 16\n",
      "  Conditions total: 184\n",
      "Conditions covered: 11\n",
      "     Line coverage: 6.8%\n",
      "Condition coverage: 6.0%\n"
     ]
    },
    {
     "name": "stderr",
     "output_type": "stream",
     "text": [
      "OK\n",
      "Running ant (coverage.instrument).......................................... OK\n",
      "Running ant (run.gen.tests)................................................ OK\n",
      "Running ant (coverage.report).............................................. OK\n",
      "Extract test suite......................................................... OK\n",
      "Running ant (compile.gen.tests)............................................ "
     ]
    },
    {
     "name": "stdout",
     "output_type": "stream",
     "text": [
      "       Lines total: 234\n",
      "     Lines covered: 59\n",
      "  Conditions total: 184\n",
      "Conditions covered: 46\n",
      "     Line coverage: 25.2%\n",
      "Condition coverage: 25.0%\n"
     ]
    },
    {
     "name": "stderr",
     "output_type": "stream",
     "text": [
      "OK\n",
      "Running ant (coverage.instrument).......................................... OK\n",
      "Running ant (run.gen.tests)................................................ OK\n",
      "Running ant (coverage.report).............................................. OK\n",
      "Extract test suite......................................................... OK\n",
      "Running ant (compile.gen.tests)............................................ "
     ]
    },
    {
     "name": "stdout",
     "output_type": "stream",
     "text": [
      "       Lines total: 234\n",
      "     Lines covered: 9\n",
      "  Conditions total: 184\n",
      "Conditions covered: 6\n",
      "     Line coverage: 3.8%\n",
      "Condition coverage: 3.3%\n"
     ]
    },
    {
     "name": "stderr",
     "output_type": "stream",
     "text": [
      "OK\n",
      "Running ant (coverage.instrument).......................................... OK\n",
      "Running ant (run.gen.tests)................................................ OK\n",
      "Running ant (coverage.report).............................................. OK\n",
      "Extract test suite......................................................... OK\n",
      "Running ant (compile.gen.tests)............................................ "
     ]
    },
    {
     "name": "stdout",
     "output_type": "stream",
     "text": [
      "       Lines total: 234\n",
      "     Lines covered: 9\n",
      "  Conditions total: 184\n",
      "Conditions covered: 7\n",
      "     Line coverage: 3.8%\n",
      "Condition coverage: 3.8%\n"
     ]
    },
    {
     "name": "stderr",
     "output_type": "stream",
     "text": [
      "OK\n",
      "Running ant (coverage.instrument).......................................... OK\n",
      "Running ant (run.gen.tests)................................................ OK\n",
      "Running ant (coverage.report).............................................. OK\n",
      "Extract test suite......................................................... OK\n",
      "Running ant (compile.gen.tests)............................................ "
     ]
    },
    {
     "name": "stdout",
     "output_type": "stream",
     "text": [
      "       Lines total: 234\n",
      "     Lines covered: 3\n",
      "  Conditions total: 184\n",
      "Conditions covered: 2\n",
      "     Line coverage: 1.3%\n",
      "Condition coverage: 1.1%\n"
     ]
    },
    {
     "name": "stderr",
     "output_type": "stream",
     "text": [
      "OK\n",
      "Running ant (coverage.instrument).......................................... OK\n",
      "Running ant (run.gen.tests)................................................ OK\n",
      "Running ant (coverage.report).............................................. OK\n",
      "Extract test suite......................................................... OK\n",
      "Running ant (compile.gen.tests)............................................ "
     ]
    },
    {
     "name": "stdout",
     "output_type": "stream",
     "text": [
      "       Lines total: 234\n",
      "     Lines covered: 67\n",
      "  Conditions total: 184\n",
      "Conditions covered: 52\n",
      "     Line coverage: 28.6%\n",
      "Condition coverage: 28.3%\n"
     ]
    },
    {
     "name": "stderr",
     "output_type": "stream",
     "text": [
      "OK\n",
      "Running ant (coverage.instrument).......................................... OK\n",
      "Running ant (run.gen.tests)................................................ OK\n",
      "Running ant (coverage.report).............................................. OK\n",
      "Extract test suite......................................................... OK\n",
      "Running ant (compile.gen.tests)............................................ "
     ]
    },
    {
     "name": "stdout",
     "output_type": "stream",
     "text": [
      "       Lines total: 234\n",
      "     Lines covered: 18\n",
      "  Conditions total: 184\n",
      "Conditions covered: 14\n",
      "     Line coverage: 7.7%\n",
      "Condition coverage: 7.6%\n"
     ]
    },
    {
     "name": "stderr",
     "output_type": "stream",
     "text": [
      "OK\n",
      "Running ant (coverage.instrument).......................................... OK\n",
      "Running ant (run.gen.tests)................................................ OK\n",
      "Running ant (coverage.report).............................................. OK\n",
      "Extract test suite......................................................... OK\n",
      "Running ant (compile.gen.tests)............................................ "
     ]
    },
    {
     "name": "stdout",
     "output_type": "stream",
     "text": [
      "       Lines total: 234\n",
      "     Lines covered: 3\n",
      "  Conditions total: 184\n",
      "Conditions covered: 2\n",
      "     Line coverage: 1.3%\n",
      "Condition coverage: 1.1%\n"
     ]
    },
    {
     "name": "stderr",
     "output_type": "stream",
     "text": [
      "OK\n",
      "Running ant (coverage.instrument).......................................... OK\n",
      "Running ant (run.gen.tests)................................................ OK\n",
      "Running ant (coverage.report).............................................. OK\n",
      "Extract test suite......................................................... OK\n",
      "Running ant (compile.gen.tests)............................................ "
     ]
    },
    {
     "name": "stdout",
     "output_type": "stream",
     "text": [
      "       Lines total: 234\n",
      "     Lines covered: 65\n",
      "  Conditions total: 184\n",
      "Conditions covered: 3\n",
      "     Line coverage: 27.8%\n",
      "Condition coverage: 1.6%\n"
     ]
    },
    {
     "name": "stderr",
     "output_type": "stream",
     "text": [
      "OK\n",
      "Running ant (coverage.instrument).......................................... OK\n",
      "Running ant (run.gen.tests)................................................ OK\n",
      "Running ant (coverage.report).............................................. OK\n",
      "Extract test suite......................................................... OK\n",
      "Running ant (compile.gen.tests)............................................ "
     ]
    },
    {
     "name": "stdout",
     "output_type": "stream",
     "text": [
      "       Lines total: 234\n",
      "     Lines covered: 65\n",
      "  Conditions total: 184\n",
      "Conditions covered: 51\n",
      "     Line coverage: 27.8%\n",
      "Condition coverage: 27.7%\n"
     ]
    },
    {
     "name": "stderr",
     "output_type": "stream",
     "text": [
      "OK\n",
      "Running ant (coverage.instrument).......................................... OK\n",
      "Running ant (run.gen.tests)................................................ OK\n",
      "Running ant (coverage.report).............................................. OK\n",
      "Extract test suite......................................................... OK\n",
      "Running ant (compile.gen.tests)............................................ "
     ]
    },
    {
     "name": "stdout",
     "output_type": "stream",
     "text": [
      "       Lines total: 234\n",
      "     Lines covered: 68\n",
      "  Conditions total: 184\n",
      "Conditions covered: 4\n",
      "     Line coverage: 29.1%\n",
      "Condition coverage: 2.2%\n"
     ]
    },
    {
     "name": "stderr",
     "output_type": "stream",
     "text": [
      "OK\n",
      "Running ant (coverage.instrument).......................................... OK\n",
      "Running ant (run.gen.tests)................................................ OK\n",
      "Running ant (coverage.report).............................................. OK\n",
      "Extract test suite......................................................... OK\n",
      "Running ant (compile.gen.tests)............................................ "
     ]
    },
    {
     "name": "stdout",
     "output_type": "stream",
     "text": [
      "       Lines total: 234\n",
      "     Lines covered: 75\n",
      "  Conditions total: 184\n",
      "Conditions covered: 10\n",
      "     Line coverage: 32.1%\n",
      "Condition coverage: 5.4%\n"
     ]
    },
    {
     "name": "stderr",
     "output_type": "stream",
     "text": [
      "OK\n",
      "Running ant (coverage.instrument).......................................... OK\n",
      "Running ant (run.gen.tests)................................................ OK\n",
      "Running ant (coverage.report).............................................. OK\n",
      "Extract test suite......................................................... OK\n",
      "Running ant (compile.gen.tests)............................................ "
     ]
    },
    {
     "name": "stdout",
     "output_type": "stream",
     "text": [
      "       Lines total: 234\n",
      "     Lines covered: 16\n",
      "  Conditions total: 184\n",
      "Conditions covered: 11\n",
      "     Line coverage: 6.8%\n",
      "Condition coverage: 6.0%\n"
     ]
    },
    {
     "name": "stderr",
     "output_type": "stream",
     "text": [
      "OK\n",
      "Running ant (coverage.instrument).......................................... OK\n",
      "Running ant (run.gen.tests)................................................ OK\n",
      "Running ant (coverage.report).............................................. OK\n",
      "Extract test suite......................................................... OK\n",
      "Running ant (compile.gen.tests)............................................ "
     ]
    },
    {
     "name": "stdout",
     "output_type": "stream",
     "text": [
      "       Lines total: 234\n",
      "     Lines covered: 8\n",
      "  Conditions total: 184\n",
      "Conditions covered: 6\n",
      "     Line coverage: 3.4%\n",
      "Condition coverage: 3.3%\n"
     ]
    },
    {
     "name": "stderr",
     "output_type": "stream",
     "text": [
      "OK\n",
      "Running ant (coverage.instrument).......................................... OK\n",
      "Running ant (run.gen.tests)................................................ OK\n",
      "Running ant (coverage.report).............................................. OK\n",
      "Extract test suite......................................................... OK\n",
      "Running ant (compile.gen.tests)............................................ "
     ]
    },
    {
     "name": "stdout",
     "output_type": "stream",
     "text": [
      "       Lines total: 234\n",
      "     Lines covered: 16\n",
      "  Conditions total: 184\n",
      "Conditions covered: 11\n",
      "     Line coverage: 6.8%\n",
      "Condition coverage: 6.0%\n"
     ]
    },
    {
     "name": "stderr",
     "output_type": "stream",
     "text": [
      "OK\n",
      "Running ant (coverage.instrument).......................................... OK\n",
      "Running ant (run.gen.tests)................................................ OK\n",
      "Running ant (coverage.report).............................................. OK\n",
      "Extract test suite......................................................... OK\n",
      "Running ant (compile.gen.tests)............................................ "
     ]
    },
    {
     "name": "stdout",
     "output_type": "stream",
     "text": [
      "       Lines total: 234\n",
      "     Lines covered: 64\n",
      "  Conditions total: 184\n",
      "Conditions covered: 50\n",
      "     Line coverage: 27.4%\n",
      "Condition coverage: 27.2%\n"
     ]
    },
    {
     "name": "stderr",
     "output_type": "stream",
     "text": [
      "OK\n",
      "Running ant (coverage.instrument).......................................... OK\n",
      "Running ant (run.gen.tests)................................................ OK\n",
      "Running ant (coverage.report).............................................. OK\n",
      "Extract test suite......................................................... OK\n",
      "Running ant (compile.gen.tests)............................................ "
     ]
    },
    {
     "name": "stdout",
     "output_type": "stream",
     "text": [
      "       Lines total: 234\n",
      "     Lines covered: 9\n",
      "  Conditions total: 184\n",
      "Conditions covered: 6\n",
      "     Line coverage: 3.8%\n",
      "Condition coverage: 3.3%\n"
     ]
    },
    {
     "name": "stderr",
     "output_type": "stream",
     "text": [
      "OK\n",
      "Running ant (coverage.instrument).......................................... OK\n",
      "Running ant (run.gen.tests)................................................ OK\n",
      "Running ant (coverage.report).............................................. OK\n",
      "Extract test suite......................................................... OK\n",
      "Running ant (compile.gen.tests)............................................ "
     ]
    },
    {
     "name": "stdout",
     "output_type": "stream",
     "text": [
      "       Lines total: 234\n",
      "     Lines covered: 7\n",
      "  Conditions total: 184\n",
      "Conditions covered: 5\n",
      "     Line coverage: 3.0%\n",
      "Condition coverage: 2.7%\n"
     ]
    },
    {
     "name": "stderr",
     "output_type": "stream",
     "text": [
      "OK\n",
      "Running ant (coverage.instrument).......................................... OK\n",
      "Running ant (run.gen.tests)................................................ OK\n",
      "Running ant (coverage.report).............................................. OK\n",
      "Extract test suite......................................................... OK\n",
      "Running ant (compile.gen.tests)............................................ "
     ]
    },
    {
     "name": "stdout",
     "output_type": "stream",
     "text": [
      "       Lines total: 234\n",
      "     Lines covered: 19\n",
      "  Conditions total: 184\n",
      "Conditions covered: 15\n",
      "     Line coverage: 8.1%\n",
      "Condition coverage: 8.2%\n"
     ]
    },
    {
     "name": "stderr",
     "output_type": "stream",
     "text": [
      "OK\n",
      "Running ant (coverage.instrument).......................................... OK\n",
      "Running ant (run.gen.tests)................................................ OK\n",
      "Running ant (coverage.report).............................................. OK\n",
      "Extract test suite......................................................... OK\n",
      "Running ant (compile.gen.tests)............................................ "
     ]
    },
    {
     "name": "stdout",
     "output_type": "stream",
     "text": [
      "       Lines total: 234\n",
      "     Lines covered: 75\n",
      "  Conditions total: 184\n",
      "Conditions covered: 10\n",
      "     Line coverage: 32.1%\n",
      "Condition coverage: 5.4%\n"
     ]
    },
    {
     "name": "stderr",
     "output_type": "stream",
     "text": [
      "OK\n",
      "Running ant (coverage.instrument).......................................... OK\n",
      "Running ant (run.gen.tests)................................................ OK\n",
      "Running ant (coverage.report).............................................. OK\n",
      "Extract test suite......................................................... OK\n",
      "Running ant (compile.gen.tests)............................................ "
     ]
    },
    {
     "name": "stdout",
     "output_type": "stream",
     "text": [
      "       Lines total: 234\n",
      "     Lines covered: 7\n",
      "  Conditions total: 184\n",
      "Conditions covered: 5\n",
      "     Line coverage: 3.0%\n",
      "Condition coverage: 2.7%\n"
     ]
    },
    {
     "name": "stderr",
     "output_type": "stream",
     "text": [
      "OK\n",
      "Running ant (coverage.instrument).......................................... OK\n",
      "Running ant (run.gen.tests)................................................ OK\n",
      "Running ant (coverage.report).............................................. OK\n",
      "Extract test suite......................................................... OK\n",
      "Running ant (compile.gen.tests)............................................ "
     ]
    },
    {
     "name": "stdout",
     "output_type": "stream",
     "text": [
      "       Lines total: 234\n",
      "     Lines covered: 14\n",
      "  Conditions total: 184\n",
      "Conditions covered: 11\n",
      "     Line coverage: 6.0%\n",
      "Condition coverage: 6.0%\n"
     ]
    },
    {
     "name": "stderr",
     "output_type": "stream",
     "text": [
      "OK\n",
      "Running ant (coverage.instrument).......................................... OK\n",
      "Running ant (run.gen.tests)................................................ OK\n",
      "Running ant (coverage.report).............................................. OK\n",
      "Extract test suite......................................................... OK\n",
      "Running ant (compile.gen.tests)............................................ "
     ]
    },
    {
     "name": "stdout",
     "output_type": "stream",
     "text": [
      "       Lines total: 234\n",
      "     Lines covered: 18\n",
      "  Conditions total: 184\n",
      "Conditions covered: 13\n",
      "     Line coverage: 7.7%\n",
      "Condition coverage: 7.1%\n"
     ]
    },
    {
     "name": "stderr",
     "output_type": "stream",
     "text": [
      "OK\n",
      "Running ant (coverage.instrument).......................................... OK\n",
      "Running ant (run.gen.tests)................................................ OK\n",
      "Running ant (coverage.report).............................................. OK\n",
      "Extract test suite......................................................... OK\n",
      "Running ant (compile.gen.tests)............................................ "
     ]
    },
    {
     "name": "stdout",
     "output_type": "stream",
     "text": [
      "       Lines total: 234\n",
      "     Lines covered: 14\n",
      "  Conditions total: 184\n",
      "Conditions covered: 8\n",
      "     Line coverage: 6.0%\n",
      "Condition coverage: 4.3%\n"
     ]
    },
    {
     "name": "stderr",
     "output_type": "stream",
     "text": [
      "OK\n",
      "Running ant (coverage.instrument).......................................... OK\n",
      "Running ant (run.gen.tests)................................................ OK\n",
      "Running ant (coverage.report).............................................. OK\n",
      "Extract test suite......................................................... OK\n",
      "Running ant (compile.gen.tests)............................................ "
     ]
    },
    {
     "name": "stdout",
     "output_type": "stream",
     "text": [
      "       Lines total: 234\n",
      "     Lines covered: 7\n",
      "  Conditions total: 184\n",
      "Conditions covered: 5\n",
      "     Line coverage: 3.0%\n",
      "Condition coverage: 2.7%\n"
     ]
    },
    {
     "name": "stderr",
     "output_type": "stream",
     "text": [
      "OK\n",
      "Running ant (coverage.instrument).......................................... OK\n",
      "Running ant (run.gen.tests)................................................ OK\n",
      "Running ant (coverage.report).............................................. OK\n",
      "Extract test suite......................................................... OK\n",
      "Running ant (compile.gen.tests)............................................ "
     ]
    },
    {
     "name": "stdout",
     "output_type": "stream",
     "text": [
      "       Lines total: 234\n",
      "     Lines covered: 36\n",
      "  Conditions total: 184\n",
      "Conditions covered: 26\n",
      "     Line coverage: 15.4%\n",
      "Condition coverage: 14.1%\n"
     ]
    },
    {
     "name": "stderr",
     "output_type": "stream",
     "text": [
      "OK\n",
      "Running ant (coverage.instrument).......................................... OK\n",
      "Running ant (run.gen.tests)................................................ OK\n",
      "Running ant (coverage.report).............................................. OK\n",
      "Extract test suite......................................................... OK\n",
      "Running ant (compile.gen.tests)............................................ "
     ]
    },
    {
     "name": "stdout",
     "output_type": "stream",
     "text": [
      "       Lines total: 234\n",
      "     Lines covered: 64\n",
      "  Conditions total: 184\n",
      "Conditions covered: 45\n",
      "     Line coverage: 27.4%\n",
      "Condition coverage: 24.5%\n"
     ]
    },
    {
     "name": "stderr",
     "output_type": "stream",
     "text": [
      "OK\n",
      "Running ant (coverage.instrument).......................................... OK\n",
      "Running ant (run.gen.tests)................................................ OK\n",
      "Running ant (coverage.report).............................................. OK\n",
      "Extract test suite......................................................... OK\n",
      "Running ant (compile.gen.tests)............................................ "
     ]
    },
    {
     "name": "stdout",
     "output_type": "stream",
     "text": [
      "       Lines total: 234\n",
      "     Lines covered: 19\n",
      "  Conditions total: 184\n",
      "Conditions covered: 14\n",
      "     Line coverage: 8.1%\n",
      "Condition coverage: 7.6%\n"
     ]
    },
    {
     "name": "stderr",
     "output_type": "stream",
     "text": [
      "OK\n",
      "Running ant (coverage.instrument).......................................... OK\n",
      "Running ant (run.gen.tests)................................................ OK\n",
      "Running ant (coverage.report).............................................. OK\n",
      "Extract test suite......................................................... OK\n",
      "Running ant (compile.gen.tests)............................................ "
     ]
    },
    {
     "name": "stdout",
     "output_type": "stream",
     "text": [
      "       Lines total: 234\n",
      "     Lines covered: 64\n",
      "  Conditions total: 184\n",
      "Conditions covered: 2\n",
      "     Line coverage: 27.4%\n",
      "Condition coverage: 1.1%\n"
     ]
    },
    {
     "name": "stderr",
     "output_type": "stream",
     "text": [
      "OK\n",
      "Running ant (coverage.instrument).......................................... OK\n",
      "Running ant (run.gen.tests)................................................ OK\n",
      "Running ant (coverage.report).............................................. OK\n",
      "Extract test suite......................................................... OK\n",
      "Running ant (compile.gen.tests)............................................ "
     ]
    },
    {
     "name": "stdout",
     "output_type": "stream",
     "text": [
      "       Lines total: 234\n",
      "     Lines covered: 9\n",
      "  Conditions total: 184\n",
      "Conditions covered: 6\n",
      "     Line coverage: 3.8%\n",
      "Condition coverage: 3.3%\n"
     ]
    },
    {
     "name": "stderr",
     "output_type": "stream",
     "text": [
      "OK\n",
      "Running ant (coverage.instrument).......................................... OK\n",
      "Running ant (run.gen.tests)................................................ OK\n",
      "Running ant (coverage.report).............................................. OK\n",
      "Extract test suite......................................................... OK\n",
      "Running ant (compile.gen.tests)............................................ "
     ]
    },
    {
     "name": "stdout",
     "output_type": "stream",
     "text": [
      "       Lines total: 234\n",
      "     Lines covered: 52\n",
      "  Conditions total: 184\n",
      "Conditions covered: 35\n",
      "     Line coverage: 22.2%\n",
      "Condition coverage: 19.0%\n"
     ]
    },
    {
     "name": "stderr",
     "output_type": "stream",
     "text": [
      "OK\n",
      "Running ant (coverage.instrument).......................................... OK\n",
      "Running ant (run.gen.tests)................................................ OK\n",
      "Running ant (coverage.report).............................................. OK\n",
      "Extract test suite......................................................... OK\n",
      "Running ant (compile.gen.tests)............................................ "
     ]
    },
    {
     "name": "stdout",
     "output_type": "stream",
     "text": [
      "       Lines total: 234\n",
      "     Lines covered: 13\n",
      "  Conditions total: 184\n",
      "Conditions covered: 10\n",
      "     Line coverage: 5.6%\n",
      "Condition coverage: 5.4%\n"
     ]
    },
    {
     "name": "stderr",
     "output_type": "stream",
     "text": [
      "OK\n",
      "Running ant (coverage.instrument).......................................... OK\n",
      "Running ant (run.gen.tests)................................................ OK\n",
      "Running ant (coverage.report).............................................. OK\n",
      "Extract test suite......................................................... OK\n",
      "Running ant (compile.gen.tests)............................................ "
     ]
    },
    {
     "name": "stdout",
     "output_type": "stream",
     "text": [
      "       Lines total: 234\n",
      "     Lines covered: 9\n",
      "  Conditions total: 184\n",
      "Conditions covered: 7\n",
      "     Line coverage: 3.8%\n",
      "Condition coverage: 3.8%\n"
     ]
    },
    {
     "name": "stderr",
     "output_type": "stream",
     "text": [
      "OK\n",
      "Running ant (coverage.instrument).......................................... OK\n",
      "Running ant (run.gen.tests)................................................ OK\n",
      "Running ant (coverage.report).............................................. OK\n",
      "Extract test suite......................................................... OK\n",
      "Running ant (compile.gen.tests)............................................ "
     ]
    },
    {
     "name": "stdout",
     "output_type": "stream",
     "text": [
      "       Lines total: 234\n",
      "     Lines covered: 66\n",
      "  Conditions total: 184\n",
      "Conditions covered: 51\n",
      "     Line coverage: 28.2%\n",
      "Condition coverage: 27.7%\n"
     ]
    },
    {
     "name": "stderr",
     "output_type": "stream",
     "text": [
      "OK\n",
      "Running ant (coverage.instrument).......................................... OK\n",
      "Running ant (run.gen.tests)................................................ OK\n",
      "Running ant (coverage.report).............................................. OK\n",
      "Extract test suite......................................................... OK\n",
      "Running ant (compile.gen.tests)............................................ "
     ]
    },
    {
     "name": "stdout",
     "output_type": "stream",
     "text": [
      "       Lines total: 234\n",
      "     Lines covered: 74\n",
      "  Conditions total: 184\n",
      "Conditions covered: 9\n",
      "     Line coverage: 31.6%\n",
      "Condition coverage: 4.9%\n"
     ]
    },
    {
     "name": "stderr",
     "output_type": "stream",
     "text": [
      "OK\n",
      "Running ant (coverage.instrument).......................................... OK\n",
      "Running ant (run.gen.tests)................................................ OK\n",
      "Running ant (coverage.report).............................................. OK\n",
      "Extract test suite......................................................... OK\n",
      "Running ant (compile.gen.tests)............................................ "
     ]
    },
    {
     "name": "stdout",
     "output_type": "stream",
     "text": [
      "       Lines total: 234\n",
      "     Lines covered: 9\n",
      "  Conditions total: 184\n",
      "Conditions covered: 7\n",
      "     Line coverage: 3.8%\n",
      "Condition coverage: 3.8%\n"
     ]
    },
    {
     "name": "stderr",
     "output_type": "stream",
     "text": [
      "OK\n",
      "Running ant (coverage.instrument).......................................... OK\n",
      "Running ant (run.gen.tests)................................................ OK\n",
      "Running ant (coverage.report).............................................. OK\n",
      "Extract test suite......................................................... OK\n",
      "Running ant (compile.gen.tests)............................................ "
     ]
    },
    {
     "name": "stdout",
     "output_type": "stream",
     "text": [
      "       Lines total: 234\n",
      "     Lines covered: 3\n",
      "  Conditions total: 184\n",
      "Conditions covered: 2\n",
      "     Line coverage: 1.3%\n",
      "Condition coverage: 1.1%\n"
     ]
    },
    {
     "name": "stderr",
     "output_type": "stream",
     "text": [
      "OK\n",
      "Running ant (coverage.instrument).......................................... OK\n",
      "Running ant (run.gen.tests)................................................ OK\n",
      "Running ant (coverage.report).............................................. OK\n",
      "Extract test suite......................................................... OK\n",
      "Running ant (compile.gen.tests)............................................ "
     ]
    },
    {
     "name": "stdout",
     "output_type": "stream",
     "text": [
      "       Lines total: 234\n",
      "     Lines covered: 66\n",
      "  Conditions total: 184\n",
      "Conditions covered: 51\n",
      "     Line coverage: 28.2%\n",
      "Condition coverage: 27.7%\n"
     ]
    },
    {
     "name": "stderr",
     "output_type": "stream",
     "text": [
      "OK\n",
      "Running ant (coverage.instrument).......................................... OK\n",
      "Running ant (run.gen.tests)................................................ OK\n",
      "Running ant (coverage.report).............................................. OK\n",
      "Extract test suite......................................................... OK\n",
      "Running ant (compile.gen.tests)............................................ "
     ]
    },
    {
     "name": "stdout",
     "output_type": "stream",
     "text": [
      "       Lines total: 234\n",
      "     Lines covered: 65\n",
      "  Conditions total: 184\n",
      "Conditions covered: 2\n",
      "     Line coverage: 27.8%\n",
      "Condition coverage: 1.1%\n"
     ]
    },
    {
     "name": "stderr",
     "output_type": "stream",
     "text": [
      "OK\n",
      "Running ant (coverage.instrument).......................................... OK\n",
      "Running ant (run.gen.tests)................................................ OK\n",
      "Running ant (coverage.report).............................................. OK\n",
      "Extract test suite......................................................... OK\n",
      "Running ant (compile.gen.tests)............................................ "
     ]
    },
    {
     "name": "stdout",
     "output_type": "stream",
     "text": [
      "       Lines total: 234\n",
      "     Lines covered: 73\n",
      "  Conditions total: 184\n",
      "Conditions covered: 61\n",
      "     Line coverage: 31.2%\n",
      "Condition coverage: 33.2%\n"
     ]
    },
    {
     "name": "stderr",
     "output_type": "stream",
     "text": [
      "OK\n",
      "Running ant (coverage.instrument).......................................... OK\n",
      "Running ant (run.gen.tests)................................................ OK\n",
      "Running ant (coverage.report).............................................. OK\n",
      "Extract test suite......................................................... OK\n",
      "Running ant (compile.gen.tests)............................................ "
     ]
    },
    {
     "name": "stdout",
     "output_type": "stream",
     "text": [
      "       Lines total: 234\n",
      "     Lines covered: 13\n",
      "  Conditions total: 184\n",
      "Conditions covered: 10\n",
      "     Line coverage: 5.6%\n",
      "Condition coverage: 5.4%\n"
     ]
    },
    {
     "name": "stderr",
     "output_type": "stream",
     "text": [
      "OK\n",
      "Running ant (coverage.instrument).......................................... OK\n",
      "Running ant (run.gen.tests)................................................ OK\n",
      "Running ant (coverage.report).............................................. OK\n",
      "Extract test suite......................................................... OK\n",
      "Running ant (compile.gen.tests)............................................ "
     ]
    },
    {
     "name": "stdout",
     "output_type": "stream",
     "text": [
      "       Lines total: 234\n",
      "     Lines covered: 3\n",
      "  Conditions total: 184\n",
      "Conditions covered: 2\n",
      "     Line coverage: 1.3%\n",
      "Condition coverage: 1.1%\n"
     ]
    },
    {
     "name": "stderr",
     "output_type": "stream",
     "text": [
      "OK\n",
      "Running ant (coverage.instrument).......................................... OK\n",
      "Running ant (run.gen.tests)................................................ OK\n",
      "Running ant (coverage.report).............................................. OK\n",
      "Extract test suite......................................................... OK\n",
      "Running ant (compile.gen.tests)............................................ "
     ]
    },
    {
     "name": "stdout",
     "output_type": "stream",
     "text": [
      "       Lines total: 234\n",
      "     Lines covered: 18\n",
      "  Conditions total: 184\n",
      "Conditions covered: 13\n",
      "     Line coverage: 7.7%\n",
      "Condition coverage: 7.1%\n"
     ]
    },
    {
     "name": "stderr",
     "output_type": "stream",
     "text": [
      "OK\n",
      "Running ant (coverage.instrument).......................................... OK\n",
      "Running ant (run.gen.tests)................................................ OK\n",
      "Running ant (coverage.report).............................................. OK\n",
      "Extract test suite......................................................... OK\n",
      "Running ant (compile.gen.tests)............................................ "
     ]
    },
    {
     "name": "stdout",
     "output_type": "stream",
     "text": [
      "       Lines total: 234\n",
      "     Lines covered: 9\n",
      "  Conditions total: 184\n",
      "Conditions covered: 6\n",
      "     Line coverage: 3.8%\n",
      "Condition coverage: 3.3%\n"
     ]
    },
    {
     "name": "stderr",
     "output_type": "stream",
     "text": [
      "OK\n",
      "Running ant (coverage.instrument).......................................... OK\n",
      "Running ant (run.gen.tests)................................................ OK\n",
      "Running ant (coverage.report).............................................. OK\n",
      "Extract test suite......................................................... OK\n",
      "Running ant (compile.gen.tests)............................................ "
     ]
    },
    {
     "name": "stdout",
     "output_type": "stream",
     "text": [
      "       Lines total: 234\n",
      "     Lines covered: 10\n",
      "  Conditions total: 184\n",
      "Conditions covered: 8\n",
      "     Line coverage: 4.3%\n",
      "Condition coverage: 4.3%\n"
     ]
    },
    {
     "name": "stderr",
     "output_type": "stream",
     "text": [
      "OK\n",
      "Running ant (coverage.instrument).......................................... OK\n",
      "Running ant (run.gen.tests)................................................ OK\n",
      "Running ant (coverage.report).............................................. OK\n",
      "Extract test suite......................................................... OK\n",
      "Running ant (compile.gen.tests)............................................ "
     ]
    },
    {
     "name": "stdout",
     "output_type": "stream",
     "text": [
      "       Lines total: 234\n",
      "     Lines covered: 66\n",
      "  Conditions total: 184\n",
      "Conditions covered: 3\n",
      "     Line coverage: 28.2%\n",
      "Condition coverage: 1.6%\n"
     ]
    },
    {
     "name": "stderr",
     "output_type": "stream",
     "text": [
      "OK\n",
      "Running ant (coverage.instrument).......................................... OK\n",
      "Running ant (run.gen.tests)................................................ OK\n",
      "Running ant (coverage.report).............................................. OK\n",
      "Extract test suite......................................................... OK\n",
      "Running ant (compile.gen.tests)............................................ "
     ]
    },
    {
     "name": "stdout",
     "output_type": "stream",
     "text": [
      "       Lines total: 234\n",
      "     Lines covered: 18\n",
      "  Conditions total: 184\n",
      "Conditions covered: 13\n",
      "     Line coverage: 7.7%\n",
      "Condition coverage: 7.1%\n"
     ]
    },
    {
     "name": "stderr",
     "output_type": "stream",
     "text": [
      "OK\n",
      "Running ant (coverage.instrument).......................................... OK\n",
      "Running ant (run.gen.tests)................................................ OK\n",
      "Running ant (coverage.report).............................................. OK\n",
      "Extract test suite......................................................... OK\n",
      "Running ant (compile.gen.tests)............................................ "
     ]
    },
    {
     "name": "stdout",
     "output_type": "stream",
     "text": [
      "       Lines total: 234\n",
      "     Lines covered: 3\n",
      "  Conditions total: 184\n",
      "Conditions covered: 2\n",
      "     Line coverage: 1.3%\n",
      "Condition coverage: 1.1%\n"
     ]
    },
    {
     "name": "stderr",
     "output_type": "stream",
     "text": [
      "OK\n",
      "Running ant (coverage.instrument).......................................... OK\n",
      "Running ant (run.gen.tests)................................................ OK\n",
      "Running ant (coverage.report).............................................. OK\n",
      "Extract test suite......................................................... OK\n",
      "Running ant (compile.gen.tests)............................................ "
     ]
    },
    {
     "name": "stdout",
     "output_type": "stream",
     "text": [
      "       Lines total: 234\n",
      "     Lines covered: 3\n",
      "  Conditions total: 184\n",
      "Conditions covered: 2\n",
      "     Line coverage: 1.3%\n",
      "Condition coverage: 1.1%\n"
     ]
    },
    {
     "name": "stderr",
     "output_type": "stream",
     "text": [
      "OK\n",
      "Running ant (coverage.instrument).......................................... OK\n",
      "Running ant (run.gen.tests)................................................ OK\n",
      "Running ant (coverage.report).............................................. OK\n",
      "Extract test suite......................................................... OK\n",
      "Running ant (compile.gen.tests)............................................ "
     ]
    },
    {
     "name": "stdout",
     "output_type": "stream",
     "text": [
      "       Lines total: 234\n",
      "     Lines covered: 16\n",
      "  Conditions total: 184\n",
      "Conditions covered: 11\n",
      "     Line coverage: 6.8%\n",
      "Condition coverage: 6.0%\n"
     ]
    },
    {
     "name": "stderr",
     "output_type": "stream",
     "text": [
      "OK\n",
      "Running ant (coverage.instrument).......................................... OK\n",
      "Running ant (run.gen.tests)................................................ OK\n",
      "Running ant (coverage.report).............................................. OK\n",
      "Extract test suite......................................................... OK\n",
      "Running ant (compile.gen.tests)............................................ "
     ]
    },
    {
     "name": "stdout",
     "output_type": "stream",
     "text": [
      "       Lines total: 234\n",
      "     Lines covered: 19\n",
      "  Conditions total: 184\n",
      "Conditions covered: 15\n",
      "     Line coverage: 8.1%\n",
      "Condition coverage: 8.2%\n"
     ]
    },
    {
     "name": "stderr",
     "output_type": "stream",
     "text": [
      "OK\n",
      "Running ant (coverage.instrument).......................................... OK\n",
      "Running ant (run.gen.tests)................................................ OK\n",
      "Running ant (coverage.report).............................................. OK\n",
      "Extract test suite......................................................... OK\n",
      "Running ant (compile.gen.tests)............................................ "
     ]
    },
    {
     "name": "stdout",
     "output_type": "stream",
     "text": [
      "       Lines total: 234\n",
      "     Lines covered: 62\n",
      "  Conditions total: 184\n",
      "Conditions covered: 48\n",
      "     Line coverage: 26.5%\n",
      "Condition coverage: 26.1%\n"
     ]
    },
    {
     "name": "stderr",
     "output_type": "stream",
     "text": [
      "OK\n",
      "Running ant (coverage.instrument).......................................... OK\n",
      "Running ant (run.gen.tests)................................................ OK\n",
      "Running ant (coverage.report).............................................. OK\n",
      "Extract test suite......................................................... OK\n",
      "Running ant (compile.gen.tests)............................................ "
     ]
    },
    {
     "name": "stdout",
     "output_type": "stream",
     "text": [
      "       Lines total: 234\n",
      "     Lines covered: 18\n",
      "  Conditions total: 184\n",
      "Conditions covered: 14\n",
      "     Line coverage: 7.7%\n",
      "Condition coverage: 7.6%\n"
     ]
    },
    {
     "name": "stderr",
     "output_type": "stream",
     "text": [
      "OK\n",
      "Running ant (coverage.instrument).......................................... OK\n",
      "Running ant (run.gen.tests)................................................ OK\n",
      "Running ant (coverage.report).............................................. OK\n",
      "Extract test suite......................................................... OK\n",
      "Running ant (compile.gen.tests)............................................ "
     ]
    },
    {
     "name": "stdout",
     "output_type": "stream",
     "text": [
      "       Lines total: 234\n",
      "     Lines covered: 16\n",
      "  Conditions total: 184\n",
      "Conditions covered: 11\n",
      "     Line coverage: 6.8%\n",
      "Condition coverage: 6.0%\n"
     ]
    },
    {
     "name": "stderr",
     "output_type": "stream",
     "text": [
      "OK\n",
      "Running ant (coverage.instrument).......................................... OK\n",
      "Running ant (run.gen.tests)................................................ OK\n",
      "Running ant (coverage.report).............................................. OK\n",
      "Extract test suite......................................................... OK\n",
      "Running ant (compile.gen.tests)............................................ "
     ]
    },
    {
     "name": "stdout",
     "output_type": "stream",
     "text": [
      "       Lines total: 234\n",
      "     Lines covered: 74\n",
      "  Conditions total: 184\n",
      "Conditions covered: 8\n",
      "     Line coverage: 31.6%\n",
      "Condition coverage: 4.3%\n"
     ]
    },
    {
     "name": "stderr",
     "output_type": "stream",
     "text": [
      "OK\n",
      "Running ant (coverage.instrument).......................................... OK\n",
      "Running ant (run.gen.tests)................................................ OK\n",
      "Running ant (coverage.report).............................................. OK\n",
      "Extract test suite......................................................... OK\n",
      "Running ant (compile.gen.tests)............................................ "
     ]
    },
    {
     "name": "stdout",
     "output_type": "stream",
     "text": [
      "       Lines total: 234\n",
      "     Lines covered: 18\n",
      "  Conditions total: 184\n",
      "Conditions covered: 14\n",
      "     Line coverage: 7.7%\n",
      "Condition coverage: 7.6%\n"
     ]
    },
    {
     "name": "stderr",
     "output_type": "stream",
     "text": [
      "OK\n",
      "Running ant (coverage.instrument).......................................... OK\n",
      "Running ant (run.gen.tests)................................................ OK\n",
      "Running ant (coverage.report).............................................. OK\n",
      "Extract test suite......................................................... OK\n",
      "Running ant (compile.gen.tests)............................................ "
     ]
    },
    {
     "name": "stdout",
     "output_type": "stream",
     "text": [
      "       Lines total: 234\n",
      "     Lines covered: 7\n",
      "  Conditions total: 184\n",
      "Conditions covered: 6\n",
      "     Line coverage: 3.0%\n",
      "Condition coverage: 3.3%\n"
     ]
    },
    {
     "name": "stderr",
     "output_type": "stream",
     "text": [
      "OK\n",
      "Running ant (coverage.instrument).......................................... OK\n",
      "Running ant (run.gen.tests)................................................ OK\n",
      "Running ant (coverage.report).............................................. OK\n",
      "Extract test suite......................................................... OK\n",
      "Running ant (compile.gen.tests)............................................ "
     ]
    },
    {
     "name": "stdout",
     "output_type": "stream",
     "text": [
      "       Lines total: 234\n",
      "     Lines covered: 10\n",
      "  Conditions total: 184\n",
      "Conditions covered: 7\n",
      "     Line coverage: 4.3%\n",
      "Condition coverage: 3.8%\n"
     ]
    },
    {
     "name": "stderr",
     "output_type": "stream",
     "text": [
      "OK\n",
      "Running ant (coverage.instrument).......................................... OK\n",
      "Running ant (run.gen.tests)................................................ OK\n",
      "Running ant (coverage.report).............................................. OK\n",
      "Extract test suite......................................................... OK\n",
      "Running ant (compile.gen.tests)............................................ "
     ]
    },
    {
     "name": "stdout",
     "output_type": "stream",
     "text": [
      "       Lines total: 234\n",
      "     Lines covered: 3\n",
      "  Conditions total: 184\n",
      "Conditions covered: 2\n",
      "     Line coverage: 1.3%\n",
      "Condition coverage: 1.1%\n"
     ]
    },
    {
     "name": "stderr",
     "output_type": "stream",
     "text": [
      "OK\n",
      "Running ant (coverage.instrument).......................................... OK\n",
      "Running ant (run.gen.tests)................................................ OK\n",
      "Running ant (coverage.report).............................................. OK\n",
      "Extract test suite......................................................... OK\n",
      "Running ant (compile.gen.tests)............................................ "
     ]
    },
    {
     "name": "stdout",
     "output_type": "stream",
     "text": [
      "       Lines total: 234\n",
      "     Lines covered: 18\n",
      "  Conditions total: 184\n",
      "Conditions covered: 13\n",
      "     Line coverage: 7.7%\n",
      "Condition coverage: 7.1%\n"
     ]
    },
    {
     "name": "stderr",
     "output_type": "stream",
     "text": [
      "OK\n",
      "Running ant (coverage.instrument).......................................... OK\n",
      "Running ant (run.gen.tests)................................................ OK\n",
      "Running ant (coverage.report).............................................. OK\n",
      "Extract test suite......................................................... OK\n",
      "Running ant (compile.gen.tests)............................................ "
     ]
    },
    {
     "name": "stdout",
     "output_type": "stream",
     "text": [
      "       Lines total: 234\n",
      "     Lines covered: 3\n",
      "  Conditions total: 184\n",
      "Conditions covered: 2\n",
      "     Line coverage: 1.3%\n",
      "Condition coverage: 1.1%\n"
     ]
    },
    {
     "name": "stderr",
     "output_type": "stream",
     "text": [
      "OK\n",
      "Running ant (coverage.instrument).......................................... OK\n",
      "Running ant (run.gen.tests)................................................ OK\n",
      "Running ant (coverage.report).............................................. OK\n",
      "Extract test suite......................................................... OK\n",
      "Running ant (compile.gen.tests)............................................ "
     ]
    },
    {
     "name": "stdout",
     "output_type": "stream",
     "text": [
      "       Lines total: 234\n",
      "     Lines covered: 62\n",
      "  Conditions total: 184\n",
      "Conditions covered: 48\n",
      "     Line coverage: 26.5%\n",
      "Condition coverage: 26.1%\n"
     ]
    },
    {
     "name": "stderr",
     "output_type": "stream",
     "text": [
      "OK\n",
      "Running ant (coverage.instrument).......................................... OK\n",
      "Running ant (run.gen.tests)................................................ OK\n",
      "Running ant (coverage.report).............................................. OK\n",
      "Extract test suite......................................................... OK\n",
      "Running ant (compile.gen.tests)............................................ "
     ]
    },
    {
     "name": "stdout",
     "output_type": "stream",
     "text": [
      "       Lines total: 234\n",
      "     Lines covered: 18\n",
      "  Conditions total: 184\n",
      "Conditions covered: 14\n",
      "     Line coverage: 7.7%\n",
      "Condition coverage: 7.6%\n"
     ]
    },
    {
     "name": "stderr",
     "output_type": "stream",
     "text": [
      "OK\n",
      "Running ant (coverage.instrument).......................................... OK\n",
      "Running ant (run.gen.tests)................................................ OK\n",
      "Running ant (coverage.report).............................................. OK\n",
      "Extract test suite......................................................... OK\n",
      "Running ant (compile.gen.tests)............................................ "
     ]
    },
    {
     "name": "stdout",
     "output_type": "stream",
     "text": [
      "       Lines total: 234\n",
      "     Lines covered: 19\n",
      "  Conditions total: 184\n",
      "Conditions covered: 14\n",
      "     Line coverage: 8.1%\n",
      "Condition coverage: 7.6%\n"
     ]
    },
    {
     "name": "stderr",
     "output_type": "stream",
     "text": [
      "OK\n",
      "Running ant (coverage.instrument).......................................... OK\n",
      "Running ant (run.gen.tests)................................................ OK\n",
      "Running ant (coverage.report).............................................. OK\n",
      "Extract test suite......................................................... OK\n",
      "Running ant (compile.gen.tests)............................................ "
     ]
    },
    {
     "name": "stdout",
     "output_type": "stream",
     "text": [
      "       Lines total: 234\n",
      "     Lines covered: 67\n",
      "  Conditions total: 184\n",
      "Conditions covered: 3\n",
      "     Line coverage: 28.6%\n",
      "Condition coverage: 1.6%\n"
     ]
    },
    {
     "name": "stderr",
     "output_type": "stream",
     "text": [
      "OK\n",
      "Running ant (coverage.instrument).......................................... OK\n",
      "Running ant (run.gen.tests)................................................ OK\n",
      "Running ant (coverage.report).............................................. OK\n",
      "Extract test suite......................................................... OK\n",
      "Running ant (compile.gen.tests)............................................ "
     ]
    },
    {
     "name": "stdout",
     "output_type": "stream",
     "text": [
      "       Lines total: 234\n",
      "     Lines covered: 43\n",
      "  Conditions total: 184\n",
      "Conditions covered: 30\n",
      "     Line coverage: 18.4%\n",
      "Condition coverage: 16.3%\n"
     ]
    },
    {
     "name": "stderr",
     "output_type": "stream",
     "text": [
      "OK\n",
      "Running ant (coverage.instrument).......................................... OK\n",
      "Running ant (run.gen.tests)................................................ OK\n",
      "Running ant (coverage.report).............................................. OK\n",
      "Extract test suite......................................................... OK\n",
      "Running ant (compile.gen.tests)............................................ "
     ]
    },
    {
     "name": "stdout",
     "output_type": "stream",
     "text": [
      "       Lines total: 234\n",
      "     Lines covered: 78\n",
      "  Conditions total: 184\n",
      "Conditions covered: 61\n",
      "     Line coverage: 33.3%\n",
      "Condition coverage: 33.2%\n"
     ]
    },
    {
     "name": "stderr",
     "output_type": "stream",
     "text": [
      "OK\n",
      "Running ant (coverage.instrument).......................................... OK\n",
      "Running ant (run.gen.tests)................................................ OK\n",
      "Running ant (coverage.report).............................................. OK\n",
      "Extract test suite......................................................... OK\n",
      "Running ant (compile.gen.tests)............................................ "
     ]
    },
    {
     "name": "stdout",
     "output_type": "stream",
     "text": [
      "       Lines total: 234\n",
      "     Lines covered: 6\n",
      "  Conditions total: 184\n",
      "Conditions covered: 5\n",
      "     Line coverage: 2.6%\n",
      "Condition coverage: 2.7%\n"
     ]
    },
    {
     "name": "stderr",
     "output_type": "stream",
     "text": [
      "OK\n",
      "Running ant (coverage.instrument).......................................... OK\n",
      "Running ant (run.gen.tests)................................................ OK\n",
      "Running ant (coverage.report).............................................. OK\n",
      "Extract test suite......................................................... OK\n",
      "Running ant (compile.gen.tests)............................................ "
     ]
    },
    {
     "name": "stdout",
     "output_type": "stream",
     "text": [
      "       Lines total: 234\n",
      "     Lines covered: 57\n",
      "  Conditions total: 184\n",
      "Conditions covered: 45\n",
      "     Line coverage: 24.4%\n",
      "Condition coverage: 24.5%\n"
     ]
    },
    {
     "name": "stderr",
     "output_type": "stream",
     "text": [
      "OK\n",
      "Running ant (coverage.instrument).......................................... OK\n",
      "Running ant (run.gen.tests)................................................ OK\n",
      "Running ant (coverage.report).............................................. OK\n",
      "Extract test suite......................................................... OK\n",
      "Running ant (compile.gen.tests)............................................ "
     ]
    },
    {
     "name": "stdout",
     "output_type": "stream",
     "text": [
      "       Lines total: 234\n",
      "     Lines covered: 16\n",
      "  Conditions total: 184\n",
      "Conditions covered: 11\n",
      "     Line coverage: 6.8%\n",
      "Condition coverage: 6.0%\n"
     ]
    },
    {
     "name": "stderr",
     "output_type": "stream",
     "text": [
      "OK\n",
      "Running ant (coverage.instrument).......................................... OK\n",
      "Running ant (run.gen.tests)................................................ OK\n",
      "Running ant (coverage.report).............................................. OK\n",
      "Extract test suite......................................................... OK\n",
      "Running ant (compile.gen.tests)............................................ "
     ]
    },
    {
     "name": "stdout",
     "output_type": "stream",
     "text": [
      "       Lines total: 234\n",
      "     Lines covered: 3\n",
      "  Conditions total: 184\n",
      "Conditions covered: 2\n",
      "     Line coverage: 1.3%\n",
      "Condition coverage: 1.1%\n"
     ]
    },
    {
     "name": "stderr",
     "output_type": "stream",
     "text": [
      "OK\n",
      "Running ant (coverage.instrument).......................................... OK\n",
      "Running ant (run.gen.tests)................................................ OK\n",
      "Running ant (coverage.report).............................................. OK\n",
      "Extract test suite......................................................... OK\n",
      "Running ant (compile.gen.tests)............................................ "
     ]
    },
    {
     "name": "stdout",
     "output_type": "stream",
     "text": [
      "       Lines total: 234\n",
      "     Lines covered: 7\n",
      "  Conditions total: 184\n",
      "Conditions covered: 5\n",
      "     Line coverage: 3.0%\n",
      "Condition coverage: 2.7%\n"
     ]
    },
    {
     "name": "stderr",
     "output_type": "stream",
     "text": [
      "OK\n",
      "Running ant (coverage.instrument).......................................... OK\n",
      "Running ant (run.gen.tests)................................................ OK\n",
      "Running ant (coverage.report).............................................. OK\n",
      "Extract test suite......................................................... OK\n",
      "Running ant (compile.gen.tests)............................................ "
     ]
    },
    {
     "name": "stdout",
     "output_type": "stream",
     "text": [
      "       Lines total: 234\n",
      "     Lines covered: 3\n",
      "  Conditions total: 184\n",
      "Conditions covered: 2\n",
      "     Line coverage: 1.3%\n",
      "Condition coverage: 1.1%\n"
     ]
    },
    {
     "name": "stderr",
     "output_type": "stream",
     "text": [
      "OK\n",
      "Running ant (coverage.instrument).......................................... OK\n",
      "Running ant (run.gen.tests)................................................ OK\n",
      "Running ant (coverage.report).............................................. OK\n",
      "Extract test suite......................................................... OK\n",
      "Running ant (compile.gen.tests)............................................ "
     ]
    },
    {
     "name": "stdout",
     "output_type": "stream",
     "text": [
      "       Lines total: 234\n",
      "     Lines covered: 65\n",
      "  Conditions total: 184\n",
      "Conditions covered: 3\n",
      "     Line coverage: 27.8%\n",
      "Condition coverage: 1.6%\n"
     ]
    },
    {
     "name": "stderr",
     "output_type": "stream",
     "text": [
      "OK\n",
      "Running ant (coverage.instrument).......................................... OK\n",
      "Running ant (run.gen.tests)................................................ OK\n",
      "Running ant (coverage.report).............................................. OK\n",
      "Extract test suite......................................................... OK\n",
      "Running ant (compile.gen.tests)............................................ "
     ]
    },
    {
     "name": "stdout",
     "output_type": "stream",
     "text": [
      "       Lines total: 234\n",
      "     Lines covered: 10\n",
      "  Conditions total: 184\n",
      "Conditions covered: 8\n",
      "     Line coverage: 4.3%\n",
      "Condition coverage: 4.3%\n"
     ]
    },
    {
     "name": "stderr",
     "output_type": "stream",
     "text": [
      "OK\n",
      "Running ant (coverage.instrument).......................................... OK\n",
      "Running ant (run.gen.tests)................................................ OK\n",
      "Running ant (coverage.report).............................................. OK\n",
      "WARNING: Some tests failed (see /Users/hugoyin/Desktop/UIUC/CS_527/CS_527_Project/Defects4J/Codec_1/Buggy-Version/Codec_1B/failing_tests)!\n",
      "Extract test suite......................................................... OK\n",
      "Running ant (compile.gen.tests)............................................ "
     ]
    },
    {
     "name": "stdout",
     "output_type": "stream",
     "text": [
      "       Lines total: 234\n",
      "     Lines covered: 9\n",
      "  Conditions total: 184\n",
      "Conditions covered: 6\n",
      "     Line coverage: 3.8%\n",
      "Condition coverage: 3.3%\n"
     ]
    },
    {
     "name": "stderr",
     "output_type": "stream",
     "text": [
      "OK\n",
      "Running ant (coverage.instrument).......................................... OK\n",
      "Running ant (run.gen.tests)................................................ OK\n",
      "Running ant (coverage.report).............................................. OK\n",
      "Extract test suite......................................................... OK\n",
      "Running ant (compile.gen.tests)............................................ "
     ]
    },
    {
     "name": "stdout",
     "output_type": "stream",
     "text": [
      "       Lines total: 234\n",
      "     Lines covered: 1\n",
      "  Conditions total: 184\n",
      "Conditions covered: 0\n",
      "     Line coverage: 0.4%\n",
      "Condition coverage: 0.0%\n"
     ]
    },
    {
     "name": "stderr",
     "output_type": "stream",
     "text": [
      "OK\n",
      "Running ant (coverage.instrument).......................................... OK\n",
      "Running ant (run.gen.tests)................................................ OK\n",
      "Running ant (coverage.report).............................................. OK\n",
      "Extract test suite......................................................... OK\n",
      "Running ant (compile.gen.tests)............................................ "
     ]
    },
    {
     "name": "stdout",
     "output_type": "stream",
     "text": [
      "       Lines total: 234\n",
      "     Lines covered: 75\n",
      "  Conditions total: 184\n",
      "Conditions covered: 9\n",
      "     Line coverage: 32.1%\n",
      "Condition coverage: 4.9%\n"
     ]
    },
    {
     "name": "stderr",
     "output_type": "stream",
     "text": [
      "OK\n",
      "Running ant (coverage.instrument).......................................... OK\n",
      "Running ant (run.gen.tests)................................................ OK\n",
      "Running ant (coverage.report).............................................. OK\n",
      "Extract test suite......................................................... OK\n",
      "Running ant (compile.gen.tests)............................................ "
     ]
    },
    {
     "name": "stdout",
     "output_type": "stream",
     "text": [
      "       Lines total: 234\n",
      "     Lines covered: 66\n",
      "  Conditions total: 184\n",
      "Conditions covered: 3\n",
      "     Line coverage: 28.2%\n",
      "Condition coverage: 1.6%\n"
     ]
    },
    {
     "name": "stderr",
     "output_type": "stream",
     "text": [
      "OK\n",
      "Running ant (coverage.instrument).......................................... OK\n",
      "Running ant (run.gen.tests)................................................ OK\n",
      "Running ant (coverage.report).............................................. OK\n",
      "Extract test suite......................................................... OK\n",
      "Running ant (compile.gen.tests)............................................ "
     ]
    },
    {
     "name": "stdout",
     "output_type": "stream",
     "text": [
      "       Lines total: 234\n",
      "     Lines covered: 9\n",
      "  Conditions total: 184\n",
      "Conditions covered: 7\n",
      "     Line coverage: 3.8%\n",
      "Condition coverage: 3.8%\n"
     ]
    },
    {
     "name": "stderr",
     "output_type": "stream",
     "text": [
      "OK\n",
      "Running ant (coverage.instrument).......................................... OK\n",
      "Running ant (run.gen.tests)................................................ OK\n",
      "Running ant (coverage.report).............................................. OK\n",
      "Extract test suite......................................................... OK\n",
      "Running ant (compile.gen.tests)............................................ "
     ]
    },
    {
     "name": "stdout",
     "output_type": "stream",
     "text": [
      "       Lines total: 234\n",
      "     Lines covered: 20\n",
      "  Conditions total: 184\n",
      "Conditions covered: 16\n",
      "     Line coverage: 8.5%\n",
      "Condition coverage: 8.7%\n"
     ]
    },
    {
     "name": "stderr",
     "output_type": "stream",
     "text": [
      "OK\n",
      "Running ant (coverage.instrument).......................................... OK\n",
      "Running ant (run.gen.tests)................................................ OK\n",
      "Running ant (coverage.report).............................................. OK\n",
      "Extract test suite......................................................... OK\n",
      "Running ant (compile.gen.tests)............................................ "
     ]
    },
    {
     "name": "stdout",
     "output_type": "stream",
     "text": [
      "       Lines total: 234\n",
      "     Lines covered: 19\n",
      "  Conditions total: 184\n",
      "Conditions covered: 15\n",
      "     Line coverage: 8.1%\n",
      "Condition coverage: 8.2%\n"
     ]
    },
    {
     "name": "stderr",
     "output_type": "stream",
     "text": [
      "OK\n",
      "Running ant (coverage.instrument).......................................... OK\n",
      "Running ant (run.gen.tests)................................................ OK\n",
      "Running ant (coverage.report).............................................. OK\n",
      "Extract test suite......................................................... OK\n",
      "Running ant (compile.gen.tests)............................................ "
     ]
    },
    {
     "name": "stdout",
     "output_type": "stream",
     "text": [
      "       Lines total: 234\n",
      "     Lines covered: 3\n",
      "  Conditions total: 184\n",
      "Conditions covered: 2\n",
      "     Line coverage: 1.3%\n",
      "Condition coverage: 1.1%\n"
     ]
    },
    {
     "name": "stderr",
     "output_type": "stream",
     "text": [
      "OK\n",
      "Running ant (coverage.instrument).......................................... OK\n",
      "Running ant (run.gen.tests)................................................ OK\n",
      "Running ant (coverage.report).............................................. OK\n",
      "Extract test suite......................................................... OK\n",
      "Running ant (compile.gen.tests)............................................ "
     ]
    },
    {
     "name": "stdout",
     "output_type": "stream",
     "text": [
      "       Lines total: 234\n",
      "     Lines covered: 3\n",
      "  Conditions total: 184\n",
      "Conditions covered: 2\n",
      "     Line coverage: 1.3%\n",
      "Condition coverage: 1.1%\n"
     ]
    },
    {
     "name": "stderr",
     "output_type": "stream",
     "text": [
      "OK\n",
      "Running ant (coverage.instrument).......................................... OK\n",
      "Running ant (run.gen.tests)................................................ OK\n",
      "Running ant (coverage.report).............................................. OK\n",
      "Extract test suite......................................................... OK\n",
      "Running ant (compile.gen.tests)............................................ "
     ]
    },
    {
     "name": "stdout",
     "output_type": "stream",
     "text": [
      "       Lines total: 234\n",
      "     Lines covered: 13\n",
      "  Conditions total: 184\n",
      "Conditions covered: 10\n",
      "     Line coverage: 5.6%\n",
      "Condition coverage: 5.4%\n"
     ]
    },
    {
     "name": "stderr",
     "output_type": "stream",
     "text": [
      "OK\n",
      "Running ant (coverage.instrument).......................................... OK\n",
      "Running ant (run.gen.tests)................................................ OK\n",
      "Running ant (coverage.report).............................................. OK\n",
      "Extract test suite......................................................... OK\n",
      "Running ant (compile.gen.tests)............................................ "
     ]
    },
    {
     "name": "stdout",
     "output_type": "stream",
     "text": [
      "       Lines total: 234\n",
      "     Lines covered: 5\n",
      "  Conditions total: 184\n",
      "Conditions covered: 3\n",
      "     Line coverage: 2.1%\n",
      "Condition coverage: 1.6%\n"
     ]
    },
    {
     "name": "stderr",
     "output_type": "stream",
     "text": [
      "OK\n",
      "Running ant (coverage.instrument).......................................... OK\n",
      "Running ant (run.gen.tests)................................................ OK\n",
      "Running ant (coverage.report).............................................. OK\n",
      "Extract test suite......................................................... OK\n",
      "Running ant (compile.gen.tests)............................................ "
     ]
    },
    {
     "name": "stdout",
     "output_type": "stream",
     "text": [
      "       Lines total: 234\n",
      "     Lines covered: 3\n",
      "  Conditions total: 184\n",
      "Conditions covered: 2\n",
      "     Line coverage: 1.3%\n",
      "Condition coverage: 1.1%\n"
     ]
    },
    {
     "name": "stderr",
     "output_type": "stream",
     "text": [
      "OK\n",
      "Running ant (coverage.instrument).......................................... OK\n",
      "Running ant (run.gen.tests)................................................ OK\n",
      "Running ant (coverage.report).............................................. OK\n",
      "Extract test suite......................................................... OK\n",
      "Running ant (compile.gen.tests)............................................ "
     ]
    },
    {
     "name": "stdout",
     "output_type": "stream",
     "text": [
      "       Lines total: 234\n",
      "     Lines covered: 51\n",
      "  Conditions total: 184\n",
      "Conditions covered: 34\n",
      "     Line coverage: 21.8%\n",
      "Condition coverage: 18.5%\n"
     ]
    },
    {
     "name": "stderr",
     "output_type": "stream",
     "text": [
      "OK\n",
      "Running ant (coverage.instrument).......................................... OK\n",
      "Running ant (run.gen.tests)................................................ OK\n",
      "Running ant (coverage.report).............................................. OK\n",
      "Extract test suite......................................................... OK\n",
      "Running ant (compile.gen.tests)............................................ "
     ]
    },
    {
     "name": "stdout",
     "output_type": "stream",
     "text": [
      "       Lines total: 234\n",
      "     Lines covered: 70\n",
      "  Conditions total: 184\n",
      "Conditions covered: 6\n",
      "     Line coverage: 29.9%\n",
      "Condition coverage: 3.3%\n"
     ]
    },
    {
     "name": "stderr",
     "output_type": "stream",
     "text": [
      "OK\n",
      "Running ant (coverage.instrument).......................................... OK\n",
      "Running ant (run.gen.tests)................................................ OK\n",
      "Running ant (coverage.report).............................................. OK\n",
      "Extract test suite......................................................... OK\n",
      "Running ant (compile.gen.tests)............................................ "
     ]
    },
    {
     "name": "stdout",
     "output_type": "stream",
     "text": [
      "       Lines total: 234\n",
      "     Lines covered: 9\n",
      "  Conditions total: 184\n",
      "Conditions covered: 7\n",
      "     Line coverage: 3.8%\n",
      "Condition coverage: 3.8%\n"
     ]
    },
    {
     "name": "stderr",
     "output_type": "stream",
     "text": [
      "OK\n",
      "Running ant (coverage.instrument).......................................... OK\n",
      "Running ant (run.gen.tests)................................................ OK\n",
      "Running ant (coverage.report).............................................. OK\n",
      "Extract test suite......................................................... OK\n",
      "Running ant (compile.gen.tests)............................................ "
     ]
    },
    {
     "name": "stdout",
     "output_type": "stream",
     "text": [
      "       Lines total: 234\n",
      "     Lines covered: 62\n",
      "  Conditions total: 184\n",
      "Conditions covered: 51\n",
      "     Line coverage: 26.5%\n",
      "Condition coverage: 27.7%\n"
     ]
    },
    {
     "name": "stderr",
     "output_type": "stream",
     "text": [
      "OK\n",
      "Running ant (coverage.instrument).......................................... OK\n",
      "Running ant (run.gen.tests)................................................ OK\n",
      "Running ant (coverage.report).............................................. OK\n",
      "Extract test suite......................................................... OK\n",
      "Running ant (compile.gen.tests)............................................ "
     ]
    },
    {
     "name": "stdout",
     "output_type": "stream",
     "text": [
      "       Lines total: 234\n",
      "     Lines covered: 3\n",
      "  Conditions total: 184\n",
      "Conditions covered: 2\n",
      "     Line coverage: 1.3%\n",
      "Condition coverage: 1.1%\n"
     ]
    },
    {
     "name": "stderr",
     "output_type": "stream",
     "text": [
      "OK\n",
      "Running ant (coverage.instrument).......................................... OK\n",
      "Running ant (run.gen.tests)................................................ OK\n",
      "Running ant (coverage.report).............................................. OK\n",
      "Extract test suite......................................................... OK\n",
      "Running ant (compile.gen.tests)............................................ "
     ]
    },
    {
     "name": "stdout",
     "output_type": "stream",
     "text": [
      "       Lines total: 234\n",
      "     Lines covered: 17\n",
      "  Conditions total: 184\n",
      "Conditions covered: 12\n",
      "     Line coverage: 7.3%\n",
      "Condition coverage: 6.5%\n"
     ]
    },
    {
     "name": "stderr",
     "output_type": "stream",
     "text": [
      "OK\n",
      "Running ant (coverage.instrument).......................................... OK\n",
      "Running ant (run.gen.tests)................................................ OK\n",
      "Running ant (coverage.report).............................................. OK\n",
      "Extract test suite......................................................... OK\n",
      "Running ant (compile.gen.tests)............................................ "
     ]
    },
    {
     "name": "stdout",
     "output_type": "stream",
     "text": [
      "       Lines total: 234\n",
      "     Lines covered: 16\n",
      "  Conditions total: 184\n",
      "Conditions covered: 11\n",
      "     Line coverage: 6.8%\n",
      "Condition coverage: 6.0%\n"
     ]
    },
    {
     "name": "stderr",
     "output_type": "stream",
     "text": [
      "OK\n",
      "Running ant (coverage.instrument).......................................... OK\n",
      "Running ant (run.gen.tests)................................................ OK\n",
      "Running ant (coverage.report).............................................. OK\n",
      "Extract test suite......................................................... OK\n",
      "Running ant (compile.gen.tests)............................................ "
     ]
    },
    {
     "name": "stdout",
     "output_type": "stream",
     "text": [
      "       Lines total: 234\n",
      "     Lines covered: 65\n",
      "  Conditions total: 184\n",
      "Conditions covered: 53\n",
      "     Line coverage: 27.8%\n",
      "Condition coverage: 28.8%\n"
     ]
    },
    {
     "name": "stderr",
     "output_type": "stream",
     "text": [
      "OK\n",
      "Running ant (coverage.instrument).......................................... OK\n",
      "Running ant (run.gen.tests)................................................ OK\n",
      "Running ant (coverage.report).............................................. OK\n",
      "Extract test suite......................................................... OK\n",
      "Running ant (compile.gen.tests)............................................ "
     ]
    },
    {
     "name": "stdout",
     "output_type": "stream",
     "text": [
      "       Lines total: 234\n",
      "     Lines covered: 14\n",
      "  Conditions total: 184\n",
      "Conditions covered: 11\n",
      "     Line coverage: 6.0%\n",
      "Condition coverage: 6.0%\n"
     ]
    },
    {
     "name": "stderr",
     "output_type": "stream",
     "text": [
      "OK\n",
      "Running ant (coverage.instrument).......................................... OK\n",
      "Running ant (run.gen.tests)................................................ OK\n",
      "Running ant (coverage.report).............................................. OK\n",
      "Extract test suite......................................................... OK\n",
      "Running ant (compile.gen.tests)............................................ "
     ]
    },
    {
     "name": "stdout",
     "output_type": "stream",
     "text": [
      "       Lines total: 234\n",
      "     Lines covered: 13\n",
      "  Conditions total: 184\n",
      "Conditions covered: 10\n",
      "     Line coverage: 5.6%\n",
      "Condition coverage: 5.4%\n"
     ]
    },
    {
     "name": "stderr",
     "output_type": "stream",
     "text": [
      "OK\n",
      "Running ant (coverage.instrument).......................................... OK\n",
      "Running ant (run.gen.tests)................................................ OK\n",
      "Running ant (coverage.report).............................................. OK\n",
      "Extract test suite......................................................... OK\n",
      "Running ant (compile.gen.tests)............................................ "
     ]
    },
    {
     "name": "stdout",
     "output_type": "stream",
     "text": [
      "       Lines total: 234\n",
      "     Lines covered: 75\n",
      "  Conditions total: 184\n",
      "Conditions covered: 9\n",
      "     Line coverage: 32.1%\n",
      "Condition coverage: 4.9%\n"
     ]
    },
    {
     "name": "stderr",
     "output_type": "stream",
     "text": [
      "OK\n",
      "Running ant (coverage.instrument).......................................... OK\n",
      "Running ant (run.gen.tests)................................................ OK\n",
      "Running ant (coverage.report).............................................. OK\n",
      "Extract test suite......................................................... OK\n",
      "Running ant (compile.gen.tests)............................................ "
     ]
    },
    {
     "name": "stdout",
     "output_type": "stream",
     "text": [
      "       Lines total: 234\n",
      "     Lines covered: 2\n",
      "  Conditions total: 184\n",
      "Conditions covered: 2\n",
      "     Line coverage: 0.9%\n",
      "Condition coverage: 1.1%\n"
     ]
    },
    {
     "name": "stderr",
     "output_type": "stream",
     "text": [
      "OK\n",
      "Running ant (coverage.instrument).......................................... OK\n",
      "Running ant (run.gen.tests)................................................ OK\n",
      "Running ant (coverage.report).............................................. OK\n",
      "Extract test suite......................................................... OK\n",
      "Running ant (compile.gen.tests)............................................ "
     ]
    },
    {
     "name": "stdout",
     "output_type": "stream",
     "text": [
      "       Lines total: 234\n",
      "     Lines covered: 63\n",
      "  Conditions total: 184\n",
      "Conditions covered: 50\n",
      "     Line coverage: 26.9%\n",
      "Condition coverage: 27.2%\n"
     ]
    },
    {
     "name": "stderr",
     "output_type": "stream",
     "text": [
      "OK\n",
      "Running ant (coverage.instrument).......................................... OK\n",
      "Running ant (run.gen.tests)................................................ OK\n",
      "Running ant (coverage.report).............................................. OK\n",
      "Extract test suite......................................................... OK\n",
      "Running ant (compile.gen.tests)............................................ "
     ]
    },
    {
     "name": "stdout",
     "output_type": "stream",
     "text": [
      "       Lines total: 234\n",
      "     Lines covered: 9\n",
      "  Conditions total: 184\n",
      "Conditions covered: 6\n",
      "     Line coverage: 3.8%\n",
      "Condition coverage: 3.3%\n"
     ]
    },
    {
     "name": "stderr",
     "output_type": "stream",
     "text": [
      "OK\n",
      "Running ant (coverage.instrument).......................................... OK\n",
      "Running ant (run.gen.tests)................................................ OK\n",
      "Running ant (coverage.report).............................................. OK\n",
      "Extract test suite......................................................... OK\n",
      "Running ant (compile.gen.tests)............................................ "
     ]
    },
    {
     "name": "stdout",
     "output_type": "stream",
     "text": [
      "       Lines total: 234\n",
      "     Lines covered: 64\n",
      "  Conditions total: 184\n",
      "Conditions covered: 51\n",
      "     Line coverage: 27.4%\n",
      "Condition coverage: 27.7%\n"
     ]
    },
    {
     "name": "stderr",
     "output_type": "stream",
     "text": [
      "OK\n",
      "Running ant (coverage.instrument).......................................... OK\n",
      "Running ant (run.gen.tests)................................................ OK\n",
      "Running ant (coverage.report).............................................. OK\n",
      "Extract test suite......................................................... OK\n",
      "Running ant (compile.gen.tests)............................................ "
     ]
    },
    {
     "name": "stdout",
     "output_type": "stream",
     "text": [
      "       Lines total: 234\n",
      "     Lines covered: 66\n",
      "  Conditions total: 184\n",
      "Conditions covered: 51\n",
      "     Line coverage: 28.2%\n",
      "Condition coverage: 27.7%\n"
     ]
    },
    {
     "name": "stderr",
     "output_type": "stream",
     "text": [
      "OK\n",
      "Running ant (coverage.instrument).......................................... OK\n",
      "Running ant (run.gen.tests)................................................ OK\n",
      "Running ant (coverage.report).............................................. OK\n",
      "Extract test suite......................................................... OK\n",
      "Running ant (compile.gen.tests)............................................ "
     ]
    },
    {
     "name": "stdout",
     "output_type": "stream",
     "text": [
      "       Lines total: 234\n",
      "     Lines covered: 7\n",
      "  Conditions total: 184\n",
      "Conditions covered: 6\n",
      "     Line coverage: 3.0%\n",
      "Condition coverage: 3.3%\n"
     ]
    },
    {
     "name": "stderr",
     "output_type": "stream",
     "text": [
      "OK\n",
      "Running ant (coverage.instrument).......................................... OK\n",
      "Running ant (run.gen.tests)................................................ OK\n",
      "Running ant (coverage.report).............................................. OK\n",
      "Extract test suite......................................................... OK\n",
      "Running ant (compile.gen.tests)............................................ "
     ]
    },
    {
     "name": "stdout",
     "output_type": "stream",
     "text": [
      "       Lines total: 234\n",
      "     Lines covered: 7\n",
      "  Conditions total: 184\n",
      "Conditions covered: 5\n",
      "     Line coverage: 3.0%\n",
      "Condition coverage: 2.7%\n"
     ]
    },
    {
     "name": "stderr",
     "output_type": "stream",
     "text": [
      "OK\n",
      "Running ant (coverage.instrument).......................................... OK\n",
      "Running ant (run.gen.tests)................................................ OK\n",
      "Running ant (coverage.report).............................................. OK\n",
      "Extract test suite......................................................... OK\n",
      "Running ant (compile.gen.tests)............................................ "
     ]
    },
    {
     "name": "stdout",
     "output_type": "stream",
     "text": [
      "       Lines total: 234\n",
      "     Lines covered: 66\n",
      "  Conditions total: 184\n",
      "Conditions covered: 3\n",
      "     Line coverage: 28.2%\n",
      "Condition coverage: 1.6%\n"
     ]
    },
    {
     "name": "stderr",
     "output_type": "stream",
     "text": [
      "OK\n",
      "Running ant (coverage.instrument).......................................... OK\n",
      "Running ant (run.gen.tests)................................................ OK\n",
      "Running ant (coverage.report).............................................. OK\n",
      "Extract test suite......................................................... OK\n",
      "Running ant (compile.gen.tests)............................................ "
     ]
    },
    {
     "name": "stdout",
     "output_type": "stream",
     "text": [
      "       Lines total: 234\n",
      "     Lines covered: 9\n",
      "  Conditions total: 184\n",
      "Conditions covered: 7\n",
      "     Line coverage: 3.8%\n",
      "Condition coverage: 3.8%\n"
     ]
    },
    {
     "name": "stderr",
     "output_type": "stream",
     "text": [
      "OK\n",
      "Running ant (coverage.instrument).......................................... OK\n",
      "Running ant (run.gen.tests)................................................ OK\n",
      "Running ant (coverage.report).............................................. OK\n",
      "Extract test suite......................................................... OK\n",
      "Running ant (compile.gen.tests)............................................ "
     ]
    },
    {
     "name": "stdout",
     "output_type": "stream",
     "text": [
      "       Lines total: 234\n",
      "     Lines covered: 76\n",
      "  Conditions total: 184\n",
      "Conditions covered: 59\n",
      "     Line coverage: 32.5%\n",
      "Condition coverage: 32.1%\n"
     ]
    },
    {
     "name": "stderr",
     "output_type": "stream",
     "text": [
      "OK\n",
      "Running ant (coverage.instrument).......................................... OK\n",
      "Running ant (run.gen.tests)................................................ OK\n",
      "Running ant (coverage.report).............................................. OK\n",
      "Extract test suite......................................................... OK\n",
      "Running ant (compile.gen.tests)............................................ "
     ]
    },
    {
     "name": "stdout",
     "output_type": "stream",
     "text": [
      "       Lines total: 234\n",
      "     Lines covered: 18\n",
      "  Conditions total: 184\n",
      "Conditions covered: 13\n",
      "     Line coverage: 7.7%\n",
      "Condition coverage: 7.1%\n"
     ]
    },
    {
     "name": "stderr",
     "output_type": "stream",
     "text": [
      "OK\n",
      "Running ant (coverage.instrument).......................................... OK\n",
      "Running ant (run.gen.tests)................................................ OK\n",
      "Running ant (coverage.report).............................................. OK\n",
      "Extract test suite......................................................... OK\n",
      "Running ant (compile.gen.tests)............................................ "
     ]
    },
    {
     "name": "stdout",
     "output_type": "stream",
     "text": [
      "       Lines total: 234\n",
      "     Lines covered: 7\n",
      "  Conditions total: 184\n",
      "Conditions covered: 5\n",
      "     Line coverage: 3.0%\n",
      "Condition coverage: 2.7%\n"
     ]
    },
    {
     "name": "stderr",
     "output_type": "stream",
     "text": [
      "OK\n",
      "Running ant (coverage.instrument).......................................... OK\n",
      "Running ant (run.gen.tests)................................................ OK\n",
      "Running ant (coverage.report).............................................. OK\n",
      "Extract test suite......................................................... OK\n",
      "Running ant (compile.gen.tests)............................................ "
     ]
    },
    {
     "name": "stdout",
     "output_type": "stream",
     "text": [
      "       Lines total: 234\n",
      "     Lines covered: 3\n",
      "  Conditions total: 184\n",
      "Conditions covered: 2\n",
      "     Line coverage: 1.3%\n",
      "Condition coverage: 1.1%\n"
     ]
    },
    {
     "name": "stderr",
     "output_type": "stream",
     "text": [
      "OK\n",
      "Running ant (coverage.instrument).......................................... OK\n",
      "Running ant (run.gen.tests)................................................ OK\n",
      "Running ant (coverage.report).............................................. OK\n",
      "Extract test suite......................................................... OK\n",
      "Running ant (compile.gen.tests)............................................ "
     ]
    },
    {
     "name": "stdout",
     "output_type": "stream",
     "text": [
      "       Lines total: 234\n",
      "     Lines covered: 10\n",
      "  Conditions total: 184\n",
      "Conditions covered: 8\n",
      "     Line coverage: 4.3%\n",
      "Condition coverage: 4.3%\n"
     ]
    },
    {
     "name": "stderr",
     "output_type": "stream",
     "text": [
      "OK\n",
      "Running ant (coverage.instrument).......................................... OK\n",
      "Running ant (run.gen.tests)................................................ OK\n",
      "Running ant (coverage.report).............................................. OK\n",
      "Extract test suite......................................................... OK\n",
      "Running ant (compile.gen.tests)............................................ "
     ]
    },
    {
     "name": "stdout",
     "output_type": "stream",
     "text": [
      "       Lines total: 234\n",
      "     Lines covered: 65\n",
      "  Conditions total: 184\n",
      "Conditions covered: 3\n",
      "     Line coverage: 27.8%\n",
      "Condition coverage: 1.6%\n"
     ]
    },
    {
     "name": "stderr",
     "output_type": "stream",
     "text": [
      "OK\n",
      "Running ant (coverage.instrument).......................................... OK\n",
      "Running ant (run.gen.tests)................................................ OK\n",
      "Running ant (coverage.report).............................................. OK\n",
      "Extract test suite......................................................... OK\n",
      "Running ant (compile.gen.tests)............................................ "
     ]
    },
    {
     "name": "stdout",
     "output_type": "stream",
     "text": [
      "       Lines total: 234\n",
      "     Lines covered: 3\n",
      "  Conditions total: 184\n",
      "Conditions covered: 2\n",
      "     Line coverage: 1.3%\n",
      "Condition coverage: 1.1%\n"
     ]
    },
    {
     "name": "stderr",
     "output_type": "stream",
     "text": [
      "OK\n",
      "Running ant (coverage.instrument).......................................... OK\n",
      "Running ant (run.gen.tests)................................................ OK\n",
      "Running ant (coverage.report).............................................. OK\n",
      "Extract test suite......................................................... OK\n",
      "Running ant (compile.gen.tests)............................................ "
     ]
    },
    {
     "name": "stdout",
     "output_type": "stream",
     "text": [
      "       Lines total: 234\n",
      "     Lines covered: 11\n",
      "  Conditions total: 184\n",
      "Conditions covered: 9\n",
      "     Line coverage: 4.7%\n",
      "Condition coverage: 4.9%\n"
     ]
    },
    {
     "name": "stderr",
     "output_type": "stream",
     "text": [
      "OK\n",
      "Running ant (coverage.instrument).......................................... OK\n",
      "Running ant (run.gen.tests)................................................ OK\n",
      "Running ant (coverage.report).............................................. OK\n",
      "Extract test suite......................................................... OK\n",
      "Running ant (compile.gen.tests)............................................ "
     ]
    },
    {
     "name": "stdout",
     "output_type": "stream",
     "text": [
      "       Lines total: 234\n",
      "     Lines covered: 7\n",
      "  Conditions total: 184\n",
      "Conditions covered: 5\n",
      "     Line coverage: 3.0%\n",
      "Condition coverage: 2.7%\n"
     ]
    },
    {
     "name": "stderr",
     "output_type": "stream",
     "text": [
      "OK\n",
      "Running ant (coverage.instrument).......................................... OK\n",
      "Running ant (run.gen.tests)................................................ OK\n",
      "Running ant (coverage.report).............................................. OK\n",
      "Extract test suite......................................................... OK\n",
      "Running ant (compile.gen.tests)............................................ "
     ]
    },
    {
     "name": "stdout",
     "output_type": "stream",
     "text": [
      "       Lines total: 234\n",
      "     Lines covered: 18\n",
      "  Conditions total: 184\n",
      "Conditions covered: 14\n",
      "     Line coverage: 7.7%\n",
      "Condition coverage: 7.6%\n"
     ]
    },
    {
     "name": "stderr",
     "output_type": "stream",
     "text": [
      "OK\n",
      "Running ant (coverage.instrument).......................................... OK\n",
      "Running ant (run.gen.tests)................................................ OK\n",
      "Running ant (coverage.report).............................................. OK\n",
      "Extract test suite......................................................... OK\n",
      "Running ant (compile.gen.tests)............................................ "
     ]
    },
    {
     "name": "stdout",
     "output_type": "stream",
     "text": [
      "       Lines total: 234\n",
      "     Lines covered: 18\n",
      "  Conditions total: 184\n",
      "Conditions covered: 13\n",
      "     Line coverage: 7.7%\n",
      "Condition coverage: 7.1%\n"
     ]
    },
    {
     "name": "stderr",
     "output_type": "stream",
     "text": [
      "OK\n",
      "Running ant (coverage.instrument).......................................... OK\n",
      "Running ant (run.gen.tests)................................................ OK\n",
      "Running ant (coverage.report).............................................. OK\n",
      "Extract test suite......................................................... OK\n",
      "Running ant (compile.gen.tests)............................................ "
     ]
    },
    {
     "name": "stdout",
     "output_type": "stream",
     "text": [
      "       Lines total: 234\n",
      "     Lines covered: 9\n",
      "  Conditions total: 184\n",
      "Conditions covered: 7\n",
      "     Line coverage: 3.8%\n",
      "Condition coverage: 3.8%\n"
     ]
    },
    {
     "name": "stderr",
     "output_type": "stream",
     "text": [
      "OK\n",
      "Running ant (coverage.instrument).......................................... OK\n",
      "Running ant (run.gen.tests)................................................ OK\n",
      "Running ant (coverage.report).............................................. OK\n",
      "Extract test suite......................................................... OK\n",
      "Running ant (compile.gen.tests)............................................ "
     ]
    },
    {
     "name": "stdout",
     "output_type": "stream",
     "text": [
      "       Lines total: 234\n",
      "     Lines covered: 60\n",
      "  Conditions total: 184\n",
      "Conditions covered: 47\n",
      "     Line coverage: 25.6%\n",
      "Condition coverage: 25.5%\n"
     ]
    },
    {
     "name": "stderr",
     "output_type": "stream",
     "text": [
      "OK\n",
      "Running ant (coverage.instrument).......................................... OK\n",
      "Running ant (run.gen.tests)................................................ OK\n",
      "Running ant (coverage.report).............................................. OK\n",
      "Extract test suite......................................................... OK\n",
      "Running ant (compile.gen.tests)............................................ "
     ]
    },
    {
     "name": "stdout",
     "output_type": "stream",
     "text": [
      "       Lines total: 234\n",
      "     Lines covered: 17\n",
      "  Conditions total: 184\n",
      "Conditions covered: 12\n",
      "     Line coverage: 7.3%\n",
      "Condition coverage: 6.5%\n"
     ]
    },
    {
     "name": "stderr",
     "output_type": "stream",
     "text": [
      "OK\n",
      "Running ant (coverage.instrument).......................................... OK\n",
      "Running ant (run.gen.tests)................................................ OK\n",
      "Running ant (coverage.report).............................................. OK\n",
      "Extract test suite......................................................... OK\n",
      "Running ant (compile.gen.tests)............................................ "
     ]
    },
    {
     "name": "stdout",
     "output_type": "stream",
     "text": [
      "       Lines total: 234\n",
      "     Lines covered: 3\n",
      "  Conditions total: 184\n",
      "Conditions covered: 2\n",
      "     Line coverage: 1.3%\n",
      "Condition coverage: 1.1%\n"
     ]
    },
    {
     "name": "stderr",
     "output_type": "stream",
     "text": [
      "OK\n",
      "Running ant (coverage.instrument).......................................... OK\n",
      "Running ant (run.gen.tests)................................................ OK\n",
      "Running ant (coverage.report).............................................. OK\n",
      "Extract test suite......................................................... OK\n",
      "Running ant (compile.gen.tests)............................................ "
     ]
    },
    {
     "name": "stdout",
     "output_type": "stream",
     "text": [
      "       Lines total: 234\n",
      "     Lines covered: 65\n",
      "  Conditions total: 184\n",
      "Conditions covered: 2\n",
      "     Line coverage: 27.8%\n",
      "Condition coverage: 1.1%\n"
     ]
    },
    {
     "name": "stderr",
     "output_type": "stream",
     "text": [
      "OK\n",
      "Running ant (coverage.instrument).......................................... OK\n",
      "Running ant (run.gen.tests)................................................ OK\n",
      "Running ant (coverage.report).............................................. OK\n",
      "Extract test suite......................................................... OK\n",
      "Running ant (compile.gen.tests)............................................ "
     ]
    },
    {
     "name": "stdout",
     "output_type": "stream",
     "text": [
      "       Lines total: 234\n",
      "     Lines covered: 65\n",
      "  Conditions total: 184\n",
      "Conditions covered: 3\n",
      "     Line coverage: 27.8%\n",
      "Condition coverage: 1.6%\n"
     ]
    },
    {
     "name": "stderr",
     "output_type": "stream",
     "text": [
      "OK\n",
      "Running ant (coverage.instrument).......................................... OK\n",
      "Running ant (run.gen.tests)................................................ OK\n",
      "Running ant (coverage.report).............................................. OK\n",
      "Extract test suite......................................................... OK\n",
      "Running ant (compile.gen.tests)............................................ "
     ]
    },
    {
     "name": "stdout",
     "output_type": "stream",
     "text": [
      "       Lines total: 234\n",
      "     Lines covered: 43\n",
      "  Conditions total: 184\n",
      "Conditions covered: 29\n",
      "     Line coverage: 18.4%\n",
      "Condition coverage: 15.8%\n"
     ]
    },
    {
     "name": "stderr",
     "output_type": "stream",
     "text": [
      "OK\n",
      "Running ant (coverage.instrument).......................................... OK\n",
      "Running ant (run.gen.tests)................................................ OK\n",
      "Running ant (coverage.report).............................................. OK\n",
      "Extract test suite......................................................... OK\n",
      "Running ant (compile.gen.tests)............................................ "
     ]
    },
    {
     "name": "stdout",
     "output_type": "stream",
     "text": [
      "       Lines total: 234\n",
      "     Lines covered: 3\n",
      "  Conditions total: 184\n",
      "Conditions covered: 2\n",
      "     Line coverage: 1.3%\n",
      "Condition coverage: 1.1%\n"
     ]
    },
    {
     "name": "stderr",
     "output_type": "stream",
     "text": [
      "OK\n",
      "Running ant (coverage.instrument).......................................... OK\n",
      "Running ant (run.gen.tests)................................................ OK\n",
      "Running ant (coverage.report).............................................. OK\n",
      "Extract test suite......................................................... OK\n",
      "Running ant (compile.gen.tests)............................................ "
     ]
    },
    {
     "name": "stdout",
     "output_type": "stream",
     "text": [
      "       Lines total: 234\n",
      "     Lines covered: 3\n",
      "  Conditions total: 184\n",
      "Conditions covered: 2\n",
      "     Line coverage: 1.3%\n",
      "Condition coverage: 1.1%\n"
     ]
    },
    {
     "name": "stderr",
     "output_type": "stream",
     "text": [
      "OK\n",
      "Running ant (coverage.instrument).......................................... OK\n",
      "Running ant (run.gen.tests)................................................ OK\n",
      "Running ant (coverage.report).............................................. OK\n",
      "Extract test suite......................................................... OK\n",
      "Running ant (compile.gen.tests)............................................ "
     ]
    },
    {
     "name": "stdout",
     "output_type": "stream",
     "text": [
      "       Lines total: 234\n",
      "     Lines covered: 15\n",
      "  Conditions total: 184\n",
      "Conditions covered: 10\n",
      "     Line coverage: 6.4%\n",
      "Condition coverage: 5.4%\n"
     ]
    },
    {
     "name": "stderr",
     "output_type": "stream",
     "text": [
      "OK\n",
      "Running ant (coverage.instrument).......................................... OK\n",
      "Running ant (run.gen.tests)................................................ OK\n",
      "Running ant (coverage.report).............................................. OK\n",
      "Extract test suite......................................................... OK\n",
      "Running ant (compile.gen.tests)............................................ "
     ]
    },
    {
     "name": "stdout",
     "output_type": "stream",
     "text": [
      "       Lines total: 234\n",
      "     Lines covered: 17\n",
      "  Conditions total: 184\n",
      "Conditions covered: 12\n",
      "     Line coverage: 7.3%\n",
      "Condition coverage: 6.5%\n"
     ]
    },
    {
     "name": "stderr",
     "output_type": "stream",
     "text": [
      "OK\n",
      "Running ant (coverage.instrument).......................................... OK\n",
      "Running ant (run.gen.tests)................................................ OK\n",
      "Running ant (coverage.report).............................................. OK\n",
      "Extract test suite......................................................... OK\n",
      "Running ant (compile.gen.tests)............................................ "
     ]
    },
    {
     "name": "stdout",
     "output_type": "stream",
     "text": [
      "       Lines total: 234\n",
      "     Lines covered: 3\n",
      "  Conditions total: 184\n",
      "Conditions covered: 2\n",
      "     Line coverage: 1.3%\n",
      "Condition coverage: 1.1%\n"
     ]
    },
    {
     "name": "stderr",
     "output_type": "stream",
     "text": [
      "OK\n",
      "Running ant (coverage.instrument).......................................... OK\n",
      "Running ant (run.gen.tests)................................................ OK\n",
      "Running ant (coverage.report).............................................. OK\n",
      "Extract test suite......................................................... OK\n",
      "Running ant (compile.gen.tests)............................................ "
     ]
    },
    {
     "name": "stdout",
     "output_type": "stream",
     "text": [
      "       Lines total: 234\n",
      "     Lines covered: 64\n",
      "  Conditions total: 184\n",
      "Conditions covered: 51\n",
      "     Line coverage: 27.4%\n",
      "Condition coverage: 27.7%\n"
     ]
    },
    {
     "name": "stderr",
     "output_type": "stream",
     "text": [
      "OK\n",
      "Running ant (coverage.instrument).......................................... OK\n",
      "Running ant (run.gen.tests)................................................ OK\n",
      "Running ant (coverage.report).............................................. OK\n",
      "Extract test suite......................................................... OK\n",
      "Running ant (compile.gen.tests)............................................ "
     ]
    },
    {
     "name": "stdout",
     "output_type": "stream",
     "text": [
      "       Lines total: 234\n",
      "     Lines covered: 66\n",
      "  Conditions total: 184\n",
      "Conditions covered: 53\n",
      "     Line coverage: 28.2%\n",
      "Condition coverage: 28.8%\n"
     ]
    },
    {
     "name": "stderr",
     "output_type": "stream",
     "text": [
      "OK\n",
      "Running ant (coverage.instrument).......................................... OK\n",
      "Running ant (run.gen.tests)................................................ OK\n",
      "Running ant (coverage.report).............................................. OK\n",
      "Extract test suite......................................................... OK\n",
      "Running ant (compile.gen.tests)............................................ "
     ]
    },
    {
     "name": "stdout",
     "output_type": "stream",
     "text": [
      "       Lines total: 234\n",
      "     Lines covered: 16\n",
      "  Conditions total: 184\n",
      "Conditions covered: 11\n",
      "     Line coverage: 6.8%\n",
      "Condition coverage: 6.0%\n"
     ]
    },
    {
     "name": "stderr",
     "output_type": "stream",
     "text": [
      "OK\n",
      "Running ant (coverage.instrument).......................................... OK\n",
      "Running ant (run.gen.tests)................................................ OK\n",
      "Running ant (coverage.report).............................................. OK\n",
      "Extract test suite......................................................... OK\n",
      "Running ant (compile.gen.tests)............................................ "
     ]
    },
    {
     "name": "stdout",
     "output_type": "stream",
     "text": [
      "       Lines total: 234\n",
      "     Lines covered: 16\n",
      "  Conditions total: 184\n",
      "Conditions covered: 11\n",
      "     Line coverage: 6.8%\n",
      "Condition coverage: 6.0%\n"
     ]
    },
    {
     "name": "stderr",
     "output_type": "stream",
     "text": [
      "OK\n",
      "Running ant (coverage.instrument).......................................... OK\n",
      "Running ant (run.gen.tests)................................................ OK\n",
      "Running ant (coverage.report).............................................. OK\n",
      "Extract test suite......................................................... OK\n",
      "Running ant (compile.gen.tests)............................................ "
     ]
    },
    {
     "name": "stdout",
     "output_type": "stream",
     "text": [
      "       Lines total: 234\n",
      "     Lines covered: 66\n",
      "  Conditions total: 184\n",
      "Conditions covered: 3\n",
      "     Line coverage: 28.2%\n",
      "Condition coverage: 1.6%\n"
     ]
    },
    {
     "name": "stderr",
     "output_type": "stream",
     "text": [
      "OK\n",
      "Running ant (coverage.instrument).......................................... OK\n",
      "Running ant (run.gen.tests)................................................ OK\n",
      "Running ant (coverage.report).............................................. OK\n",
      "Extract test suite......................................................... OK\n",
      "Running ant (compile.gen.tests)............................................ "
     ]
    },
    {
     "name": "stdout",
     "output_type": "stream",
     "text": [
      "       Lines total: 234\n",
      "     Lines covered: 3\n",
      "  Conditions total: 184\n",
      "Conditions covered: 2\n",
      "     Line coverage: 1.3%\n",
      "Condition coverage: 1.1%\n"
     ]
    },
    {
     "name": "stderr",
     "output_type": "stream",
     "text": [
      "OK\n",
      "Running ant (coverage.instrument).......................................... OK\n",
      "Running ant (run.gen.tests)................................................ OK\n",
      "Running ant (coverage.report).............................................. OK\n",
      "Extract test suite......................................................... OK\n",
      "Running ant (compile.gen.tests)............................................ "
     ]
    },
    {
     "name": "stdout",
     "output_type": "stream",
     "text": [
      "       Lines total: 234\n",
      "     Lines covered: 9\n",
      "  Conditions total: 184\n",
      "Conditions covered: 6\n",
      "     Line coverage: 3.8%\n",
      "Condition coverage: 3.3%\n"
     ]
    },
    {
     "name": "stderr",
     "output_type": "stream",
     "text": [
      "OK\n",
      "Running ant (coverage.instrument).......................................... OK\n",
      "Running ant (run.gen.tests)................................................ OK\n",
      "Running ant (coverage.report).............................................. OK\n",
      "Extract test suite......................................................... OK\n",
      "Running ant (compile.gen.tests)............................................ "
     ]
    },
    {
     "name": "stdout",
     "output_type": "stream",
     "text": [
      "       Lines total: 234\n",
      "     Lines covered: 9\n",
      "  Conditions total: 184\n",
      "Conditions covered: 6\n",
      "     Line coverage: 3.8%\n",
      "Condition coverage: 3.3%\n"
     ]
    },
    {
     "name": "stderr",
     "output_type": "stream",
     "text": [
      "OK\n",
      "Running ant (coverage.instrument).......................................... OK\n",
      "Running ant (run.gen.tests)................................................ OK\n",
      "Running ant (coverage.report).............................................. OK\n",
      "Extract test suite......................................................... OK\n",
      "Running ant (compile.gen.tests)............................................ "
     ]
    },
    {
     "name": "stdout",
     "output_type": "stream",
     "text": [
      "       Lines total: 234\n",
      "     Lines covered: 64\n",
      "  Conditions total: 184\n",
      "Conditions covered: 2\n",
      "     Line coverage: 27.4%\n",
      "Condition coverage: 1.1%\n"
     ]
    },
    {
     "name": "stderr",
     "output_type": "stream",
     "text": [
      "OK\n",
      "Running ant (coverage.instrument).......................................... OK\n",
      "Running ant (run.gen.tests)................................................ OK\n",
      "Running ant (coverage.report).............................................. OK\n",
      "Extract test suite......................................................... OK\n",
      "Running ant (compile.gen.tests)............................................ "
     ]
    },
    {
     "name": "stdout",
     "output_type": "stream",
     "text": [
      "       Lines total: 234\n",
      "     Lines covered: 3\n",
      "  Conditions total: 184\n",
      "Conditions covered: 2\n",
      "     Line coverage: 1.3%\n",
      "Condition coverage: 1.1%\n"
     ]
    },
    {
     "name": "stderr",
     "output_type": "stream",
     "text": [
      "OK\n",
      "Running ant (coverage.instrument).......................................... OK\n",
      "Running ant (run.gen.tests)................................................ OK\n",
      "Running ant (coverage.report).............................................. OK\n",
      "Extract test suite......................................................... OK\n",
      "Running ant (compile.gen.tests)............................................ "
     ]
    },
    {
     "name": "stdout",
     "output_type": "stream",
     "text": [
      "       Lines total: 234\n",
      "     Lines covered: 9\n",
      "  Conditions total: 184\n",
      "Conditions covered: 6\n",
      "     Line coverage: 3.8%\n",
      "Condition coverage: 3.3%\n"
     ]
    },
    {
     "name": "stderr",
     "output_type": "stream",
     "text": [
      "OK\n",
      "Running ant (coverage.instrument).......................................... OK\n",
      "Running ant (run.gen.tests)................................................ OK\n",
      "Running ant (coverage.report).............................................. OK\n",
      "Extract test suite......................................................... OK\n",
      "Running ant (compile.gen.tests)............................................ "
     ]
    },
    {
     "name": "stdout",
     "output_type": "stream",
     "text": [
      "       Lines total: 234\n",
      "     Lines covered: 62\n",
      "  Conditions total: 184\n",
      "Conditions covered: 49\n",
      "     Line coverage: 26.5%\n",
      "Condition coverage: 26.6%\n"
     ]
    },
    {
     "name": "stderr",
     "output_type": "stream",
     "text": [
      "OK\n",
      "Running ant (coverage.instrument).......................................... OK\n",
      "Running ant (run.gen.tests)................................................ OK\n",
      "Running ant (coverage.report).............................................. OK\n",
      "Extract test suite......................................................... OK\n",
      "Running ant (compile.gen.tests)............................................ "
     ]
    },
    {
     "name": "stdout",
     "output_type": "stream",
     "text": [
      "       Lines total: 234\n",
      "     Lines covered: 67\n",
      "  Conditions total: 184\n",
      "Conditions covered: 4\n",
      "     Line coverage: 28.6%\n",
      "Condition coverage: 2.2%\n"
     ]
    },
    {
     "name": "stderr",
     "output_type": "stream",
     "text": [
      "OK\n",
      "Running ant (coverage.instrument).......................................... OK\n",
      "Running ant (run.gen.tests)................................................ OK\n",
      "Running ant (coverage.report).............................................. OK\n",
      "Extract test suite......................................................... OK\n",
      "Running ant (compile.gen.tests)............................................ "
     ]
    },
    {
     "name": "stdout",
     "output_type": "stream",
     "text": [
      "       Lines total: 234\n",
      "     Lines covered: 66\n",
      "  Conditions total: 184\n",
      "Conditions covered: 53\n",
      "     Line coverage: 28.2%\n",
      "Condition coverage: 28.8%\n"
     ]
    },
    {
     "name": "stderr",
     "output_type": "stream",
     "text": [
      "OK\n",
      "Running ant (coverage.instrument).......................................... OK\n",
      "Running ant (run.gen.tests)................................................ OK\n",
      "Running ant (coverage.report).............................................. OK\n",
      "Extract test suite......................................................... OK\n",
      "Running ant (compile.gen.tests)............................................ "
     ]
    },
    {
     "name": "stdout",
     "output_type": "stream",
     "text": [
      "       Lines total: 234\n",
      "     Lines covered: 3\n",
      "  Conditions total: 184\n",
      "Conditions covered: 2\n",
      "     Line coverage: 1.3%\n",
      "Condition coverage: 1.1%\n"
     ]
    },
    {
     "name": "stderr",
     "output_type": "stream",
     "text": [
      "OK\n",
      "Running ant (coverage.instrument).......................................... OK\n",
      "Running ant (run.gen.tests)................................................ OK\n",
      "Running ant (coverage.report).............................................. OK\n",
      "Extract test suite......................................................... OK\n",
      "Running ant (compile.gen.tests)............................................ "
     ]
    },
    {
     "name": "stdout",
     "output_type": "stream",
     "text": [
      "       Lines total: 234\n",
      "     Lines covered: 3\n",
      "  Conditions total: 184\n",
      "Conditions covered: 2\n",
      "     Line coverage: 1.3%\n",
      "Condition coverage: 1.1%\n"
     ]
    },
    {
     "name": "stderr",
     "output_type": "stream",
     "text": [
      "OK\n",
      "Running ant (coverage.instrument).......................................... OK\n",
      "Running ant (run.gen.tests)................................................ OK\n",
      "Running ant (coverage.report).............................................. OK\n",
      "Extract test suite......................................................... OK\n",
      "Running ant (compile.gen.tests)............................................ "
     ]
    },
    {
     "name": "stdout",
     "output_type": "stream",
     "text": [
      "       Lines total: 234\n",
      "     Lines covered: 16\n",
      "  Conditions total: 184\n",
      "Conditions covered: 11\n",
      "     Line coverage: 6.8%\n",
      "Condition coverage: 6.0%\n"
     ]
    },
    {
     "name": "stderr",
     "output_type": "stream",
     "text": [
      "OK\n",
      "Running ant (coverage.instrument).......................................... OK\n",
      "Running ant (run.gen.tests)................................................ OK\n",
      "Running ant (coverage.report).............................................. OK\n",
      "Extract test suite......................................................... OK\n",
      "Running ant (compile.gen.tests)............................................ "
     ]
    },
    {
     "name": "stdout",
     "output_type": "stream",
     "text": [
      "       Lines total: 234\n",
      "     Lines covered: 18\n",
      "  Conditions total: 184\n",
      "Conditions covered: 14\n",
      "     Line coverage: 7.7%\n",
      "Condition coverage: 7.6%\n"
     ]
    },
    {
     "name": "stderr",
     "output_type": "stream",
     "text": [
      "OK\n",
      "Running ant (coverage.instrument).......................................... OK\n",
      "Running ant (run.gen.tests)................................................ OK\n",
      "Running ant (coverage.report).............................................. OK\n",
      "Extract test suite......................................................... OK\n",
      "Running ant (compile.gen.tests)............................................ "
     ]
    },
    {
     "name": "stdout",
     "output_type": "stream",
     "text": [
      "       Lines total: 234\n",
      "     Lines covered: 32\n",
      "  Conditions total: 184\n",
      "Conditions covered: 22\n",
      "     Line coverage: 13.7%\n",
      "Condition coverage: 12.0%\n"
     ]
    },
    {
     "name": "stderr",
     "output_type": "stream",
     "text": [
      "OK\n",
      "Running ant (coverage.instrument).......................................... OK\n",
      "Running ant (run.gen.tests)................................................ OK\n",
      "Running ant (coverage.report).............................................. OK\n",
      "Extract test suite......................................................... OK\n",
      "Running ant (compile.gen.tests)............................................ "
     ]
    },
    {
     "name": "stdout",
     "output_type": "stream",
     "text": [
      "       Lines total: 234\n",
      "     Lines covered: 65\n",
      "  Conditions total: 184\n",
      "Conditions covered: 2\n",
      "     Line coverage: 27.8%\n",
      "Condition coverage: 1.1%\n"
     ]
    },
    {
     "name": "stderr",
     "output_type": "stream",
     "text": [
      "OK\n",
      "Running ant (coverage.instrument).......................................... OK\n",
      "Running ant (run.gen.tests)................................................ OK\n",
      "Running ant (coverage.report).............................................. OK\n",
      "Extract test suite......................................................... OK\n",
      "Running ant (compile.gen.tests)............................................ "
     ]
    },
    {
     "name": "stdout",
     "output_type": "stream",
     "text": [
      "       Lines total: 234\n",
      "     Lines covered: 19\n",
      "  Conditions total: 184\n",
      "Conditions covered: 15\n",
      "     Line coverage: 8.1%\n",
      "Condition coverage: 8.2%\n"
     ]
    },
    {
     "name": "stderr",
     "output_type": "stream",
     "text": [
      "OK\n",
      "Running ant (coverage.instrument).......................................... OK\n",
      "Running ant (run.gen.tests)................................................ OK\n",
      "Running ant (coverage.report).............................................. OK\n",
      "Extract test suite......................................................... OK\n",
      "Running ant (compile.gen.tests)............................................ "
     ]
    },
    {
     "name": "stdout",
     "output_type": "stream",
     "text": [
      "       Lines total: 234\n",
      "     Lines covered: 7\n",
      "  Conditions total: 184\n",
      "Conditions covered: 5\n",
      "     Line coverage: 3.0%\n",
      "Condition coverage: 2.7%\n"
     ]
    },
    {
     "name": "stderr",
     "output_type": "stream",
     "text": [
      "OK\n",
      "Running ant (coverage.instrument).......................................... OK\n",
      "Running ant (run.gen.tests)................................................ OK\n",
      "Running ant (coverage.report).............................................. OK\n",
      "Extract test suite......................................................... OK\n",
      "Running ant (compile.gen.tests)............................................ "
     ]
    },
    {
     "name": "stdout",
     "output_type": "stream",
     "text": [
      "       Lines total: 234\n",
      "     Lines covered: 60\n",
      "  Conditions total: 184\n",
      "Conditions covered: 47\n",
      "     Line coverage: 25.6%\n",
      "Condition coverage: 25.5%\n"
     ]
    },
    {
     "name": "stderr",
     "output_type": "stream",
     "text": [
      "OK\n",
      "Running ant (coverage.instrument).......................................... OK\n",
      "Running ant (run.gen.tests)................................................ OK\n",
      "Running ant (coverage.report).............................................. OK\n",
      "Extract test suite......................................................... OK\n",
      "Running ant (compile.gen.tests)............................................ "
     ]
    },
    {
     "name": "stdout",
     "output_type": "stream",
     "text": [
      "       Lines total: 234\n",
      "     Lines covered: 18\n",
      "  Conditions total: 184\n",
      "Conditions covered: 13\n",
      "     Line coverage: 7.7%\n",
      "Condition coverage: 7.1%\n"
     ]
    },
    {
     "name": "stderr",
     "output_type": "stream",
     "text": [
      "OK\n",
      "Running ant (coverage.instrument).......................................... OK\n",
      "Running ant (run.gen.tests)................................................ OK\n",
      "Running ant (coverage.report).............................................. OK\n",
      "Extract test suite......................................................... OK\n",
      "Running ant (compile.gen.tests)............................................ "
     ]
    },
    {
     "name": "stdout",
     "output_type": "stream",
     "text": [
      "       Lines total: 234\n",
      "     Lines covered: 77\n",
      "  Conditions total: 184\n",
      "Conditions covered: 11\n",
      "     Line coverage: 32.9%\n",
      "Condition coverage: 6.0%\n"
     ]
    },
    {
     "name": "stderr",
     "output_type": "stream",
     "text": [
      "OK\n",
      "Running ant (coverage.instrument).......................................... OK\n",
      "Running ant (run.gen.tests)................................................ OK\n",
      "Running ant (coverage.report).............................................. OK\n",
      "Extract test suite......................................................... OK\n",
      "Running ant (compile.gen.tests)............................................ "
     ]
    },
    {
     "name": "stdout",
     "output_type": "stream",
     "text": [
      "       Lines total: 234\n",
      "     Lines covered: 9\n",
      "  Conditions total: 184\n",
      "Conditions covered: 7\n",
      "     Line coverage: 3.8%\n",
      "Condition coverage: 3.8%\n"
     ]
    },
    {
     "name": "stderr",
     "output_type": "stream",
     "text": [
      "OK\n",
      "Running ant (coverage.instrument).......................................... OK\n",
      "Running ant (run.gen.tests)................................................ OK\n",
      "Running ant (coverage.report).............................................. OK\n",
      "Extract test suite......................................................... OK\n",
      "Running ant (compile.gen.tests)............................................ "
     ]
    },
    {
     "name": "stdout",
     "output_type": "stream",
     "text": [
      "       Lines total: 234\n",
      "     Lines covered: 6\n",
      "  Conditions total: 184\n",
      "Conditions covered: 5\n",
      "     Line coverage: 2.6%\n",
      "Condition coverage: 2.7%\n"
     ]
    },
    {
     "name": "stderr",
     "output_type": "stream",
     "text": [
      "OK\n",
      "Running ant (coverage.instrument).......................................... OK\n",
      "Running ant (run.gen.tests)................................................ OK\n",
      "Running ant (coverage.report).............................................. OK\n",
      "Extract test suite......................................................... OK\n",
      "Running ant (compile.gen.tests)............................................ "
     ]
    },
    {
     "name": "stdout",
     "output_type": "stream",
     "text": [
      "       Lines total: 234\n",
      "     Lines covered: 17\n",
      "  Conditions total: 184\n",
      "Conditions covered: 12\n",
      "     Line coverage: 7.3%\n",
      "Condition coverage: 6.5%\n"
     ]
    },
    {
     "name": "stderr",
     "output_type": "stream",
     "text": [
      "OK\n",
      "Running ant (coverage.instrument).......................................... OK\n",
      "Running ant (run.gen.tests)................................................ OK\n",
      "Running ant (coverage.report).............................................. OK\n",
      "Extract test suite......................................................... OK\n",
      "Running ant (compile.gen.tests)............................................ "
     ]
    },
    {
     "name": "stdout",
     "output_type": "stream",
     "text": [
      "       Lines total: 234\n",
      "     Lines covered: 7\n",
      "  Conditions total: 184\n",
      "Conditions covered: 5\n",
      "     Line coverage: 3.0%\n",
      "Condition coverage: 2.7%\n"
     ]
    },
    {
     "name": "stderr",
     "output_type": "stream",
     "text": [
      "OK\n",
      "Running ant (coverage.instrument).......................................... OK\n",
      "Running ant (run.gen.tests)................................................ OK\n",
      "Running ant (coverage.report).............................................. OK\n",
      "Extract test suite......................................................... OK\n",
      "Running ant (compile.gen.tests)............................................ "
     ]
    },
    {
     "name": "stdout",
     "output_type": "stream",
     "text": [
      "       Lines total: 234\n",
      "     Lines covered: 3\n",
      "  Conditions total: 184\n",
      "Conditions covered: 2\n",
      "     Line coverage: 1.3%\n",
      "Condition coverage: 1.1%\n"
     ]
    },
    {
     "name": "stderr",
     "output_type": "stream",
     "text": [
      "OK\n",
      "Running ant (coverage.instrument).......................................... OK\n",
      "Running ant (run.gen.tests)................................................ OK\n",
      "Running ant (coverage.report).............................................. OK\n",
      "Extract test suite......................................................... OK\n",
      "Running ant (compile.gen.tests)............................................ "
     ]
    },
    {
     "name": "stdout",
     "output_type": "stream",
     "text": [
      "       Lines total: 234\n",
      "     Lines covered: 16\n",
      "  Conditions total: 184\n",
      "Conditions covered: 11\n",
      "     Line coverage: 6.8%\n",
      "Condition coverage: 6.0%\n"
     ]
    },
    {
     "name": "stderr",
     "output_type": "stream",
     "text": [
      "OK\n",
      "Running ant (coverage.instrument).......................................... OK\n",
      "Running ant (run.gen.tests)................................................ OK\n",
      "Running ant (coverage.report).............................................. OK\n",
      "Extract test suite......................................................... OK\n",
      "Running ant (compile.gen.tests)............................................ "
     ]
    },
    {
     "name": "stdout",
     "output_type": "stream",
     "text": [
      "       Lines total: 234\n",
      "     Lines covered: 3\n",
      "  Conditions total: 184\n",
      "Conditions covered: 2\n",
      "     Line coverage: 1.3%\n",
      "Condition coverage: 1.1%\n"
     ]
    },
    {
     "name": "stderr",
     "output_type": "stream",
     "text": [
      "OK\n",
      "Running ant (coverage.instrument).......................................... OK\n",
      "Running ant (run.gen.tests)................................................ OK\n",
      "Running ant (coverage.report).............................................. OK\n",
      "Extract test suite......................................................... OK\n",
      "Running ant (compile.gen.tests)............................................ "
     ]
    },
    {
     "name": "stdout",
     "output_type": "stream",
     "text": [
      "       Lines total: 234\n",
      "     Lines covered: 3\n",
      "  Conditions total: 184\n",
      "Conditions covered: 2\n",
      "     Line coverage: 1.3%\n",
      "Condition coverage: 1.1%\n"
     ]
    },
    {
     "name": "stderr",
     "output_type": "stream",
     "text": [
      "OK\n",
      "Running ant (coverage.instrument).......................................... OK\n",
      "Running ant (run.gen.tests)................................................ OK\n",
      "Running ant (coverage.report).............................................. OK\n",
      "Extract test suite......................................................... OK\n",
      "Running ant (compile.gen.tests)............................................ "
     ]
    },
    {
     "name": "stdout",
     "output_type": "stream",
     "text": [
      "       Lines total: 234\n",
      "     Lines covered: 65\n",
      "  Conditions total: 184\n",
      "Conditions covered: 51\n",
      "     Line coverage: 27.8%\n",
      "Condition coverage: 27.7%\n"
     ]
    },
    {
     "name": "stderr",
     "output_type": "stream",
     "text": [
      "OK\n",
      "Running ant (coverage.instrument).......................................... OK\n",
      "Running ant (run.gen.tests)................................................ OK\n",
      "Running ant (coverage.report).............................................. OK\n",
      "Extract test suite......................................................... OK\n",
      "Running ant (compile.gen.tests)............................................ "
     ]
    },
    {
     "name": "stdout",
     "output_type": "stream",
     "text": [
      "       Lines total: 234\n",
      "     Lines covered: 9\n",
      "  Conditions total: 184\n",
      "Conditions covered: 7\n",
      "     Line coverage: 3.8%\n",
      "Condition coverage: 3.8%\n"
     ]
    },
    {
     "name": "stderr",
     "output_type": "stream",
     "text": [
      "OK\n",
      "Running ant (coverage.instrument).......................................... OK\n",
      "Running ant (run.gen.tests)................................................ OK\n",
      "Running ant (coverage.report).............................................. OK\n",
      "Extract test suite......................................................... OK\n",
      "Running ant (compile.gen.tests)............................................ "
     ]
    },
    {
     "name": "stdout",
     "output_type": "stream",
     "text": [
      "       Lines total: 234\n",
      "     Lines covered: 3\n",
      "  Conditions total: 184\n",
      "Conditions covered: 2\n",
      "     Line coverage: 1.3%\n",
      "Condition coverage: 1.1%\n"
     ]
    },
    {
     "name": "stderr",
     "output_type": "stream",
     "text": [
      "OK\n",
      "Running ant (coverage.instrument).......................................... OK\n",
      "Running ant (run.gen.tests)................................................ OK\n",
      "Running ant (coverage.report).............................................. OK\n",
      "Extract test suite......................................................... OK\n",
      "Running ant (compile.gen.tests)............................................ "
     ]
    },
    {
     "name": "stdout",
     "output_type": "stream",
     "text": [
      "       Lines total: 234\n",
      "     Lines covered: 9\n",
      "  Conditions total: 184\n",
      "Conditions covered: 7\n",
      "     Line coverage: 3.8%\n",
      "Condition coverage: 3.8%\n"
     ]
    },
    {
     "name": "stderr",
     "output_type": "stream",
     "text": [
      "OK\n",
      "Running ant (coverage.instrument).......................................... OK\n",
      "Running ant (run.gen.tests)................................................ OK\n",
      "Running ant (coverage.report).............................................. OK\n",
      "Extract test suite......................................................... OK\n",
      "Running ant (compile.gen.tests)............................................ "
     ]
    },
    {
     "name": "stdout",
     "output_type": "stream",
     "text": [
      "       Lines total: 234\n",
      "     Lines covered: 60\n",
      "  Conditions total: 184\n",
      "Conditions covered: 47\n",
      "     Line coverage: 25.6%\n",
      "Condition coverage: 25.5%\n"
     ]
    },
    {
     "name": "stderr",
     "output_type": "stream",
     "text": [
      "OK\n",
      "Running ant (coverage.instrument).......................................... OK\n",
      "Running ant (run.gen.tests)................................................ OK\n",
      "Running ant (coverage.report).............................................. OK\n",
      "Extract test suite......................................................... OK\n",
      "Running ant (compile.gen.tests)............................................ "
     ]
    },
    {
     "name": "stdout",
     "output_type": "stream",
     "text": [
      "       Lines total: 234\n",
      "     Lines covered: 18\n",
      "  Conditions total: 184\n",
      "Conditions covered: 14\n",
      "     Line coverage: 7.7%\n",
      "Condition coverage: 7.6%\n"
     ]
    },
    {
     "name": "stderr",
     "output_type": "stream",
     "text": [
      "OK\n",
      "Running ant (coverage.instrument).......................................... OK\n",
      "Running ant (run.gen.tests)................................................ OK\n",
      "Running ant (coverage.report).............................................. OK\n",
      "Extract test suite......................................................... OK\n",
      "Running ant (compile.gen.tests)............................................ "
     ]
    },
    {
     "name": "stdout",
     "output_type": "stream",
     "text": [
      "       Lines total: 234\n",
      "     Lines covered: 77\n",
      "  Conditions total: 184\n",
      "Conditions covered: 11\n",
      "     Line coverage: 32.9%\n",
      "Condition coverage: 6.0%\n"
     ]
    },
    {
     "name": "stderr",
     "output_type": "stream",
     "text": [
      "OK\n",
      "Running ant (coverage.instrument).......................................... OK\n",
      "Running ant (run.gen.tests)................................................ OK\n",
      "Running ant (coverage.report).............................................. OK\n",
      "Extract test suite......................................................... OK\n",
      "Running ant (compile.gen.tests)............................................ "
     ]
    },
    {
     "name": "stdout",
     "output_type": "stream",
     "text": [
      "       Lines total: 234\n",
      "     Lines covered: 18\n",
      "  Conditions total: 184\n",
      "Conditions covered: 14\n",
      "     Line coverage: 7.7%\n",
      "Condition coverage: 7.6%\n"
     ]
    },
    {
     "name": "stderr",
     "output_type": "stream",
     "text": [
      "OK\n",
      "Running ant (coverage.instrument).......................................... OK\n",
      "Running ant (run.gen.tests)................................................ OK\n",
      "Running ant (coverage.report).............................................. OK\n",
      "WARNING: Some tests failed (see /Users/hugoyin/Desktop/UIUC/CS_527/CS_527_Project/Defects4J/Codec_1/Buggy-Version/Codec_1B/failing_tests)!\n",
      "Extract test suite......................................................... OK\n",
      "Running ant (compile.gen.tests)............................................ "
     ]
    },
    {
     "name": "stdout",
     "output_type": "stream",
     "text": [
      "       Lines total: 234\n",
      "     Lines covered: 10\n",
      "  Conditions total: 184\n",
      "Conditions covered: 8\n",
      "     Line coverage: 4.3%\n",
      "Condition coverage: 4.3%\n"
     ]
    },
    {
     "name": "stderr",
     "output_type": "stream",
     "text": [
      "OK\n",
      "Running ant (coverage.instrument).......................................... OK\n",
      "Running ant (run.gen.tests)................................................ OK\n",
      "Running ant (coverage.report).............................................. OK\n",
      "Extract test suite......................................................... OK\n",
      "Running ant (compile.gen.tests)............................................ "
     ]
    },
    {
     "name": "stdout",
     "output_type": "stream",
     "text": [
      "       Lines total: 234\n",
      "     Lines covered: 18\n",
      "  Conditions total: 184\n",
      "Conditions covered: 14\n",
      "     Line coverage: 7.7%\n",
      "Condition coverage: 7.6%\n"
     ]
    },
    {
     "name": "stderr",
     "output_type": "stream",
     "text": [
      "OK\n",
      "Running ant (coverage.instrument).......................................... OK\n",
      "Running ant (run.gen.tests)................................................ OK\n",
      "Running ant (coverage.report).............................................. OK\n",
      "Extract test suite......................................................... OK\n",
      "Running ant (compile.gen.tests)............................................ "
     ]
    },
    {
     "name": "stdout",
     "output_type": "stream",
     "text": [
      "       Lines total: 234\n",
      "     Lines covered: 34\n",
      "  Conditions total: 184\n",
      "Conditions covered: 24\n",
      "     Line coverage: 14.5%\n",
      "Condition coverage: 13.0%\n"
     ]
    },
    {
     "name": "stderr",
     "output_type": "stream",
     "text": [
      "OK\n",
      "Running ant (coverage.instrument).......................................... OK\n",
      "Running ant (run.gen.tests)................................................ OK\n",
      "Running ant (coverage.report).............................................. OK\n",
      "Extract test suite......................................................... OK\n",
      "Running ant (compile.gen.tests)............................................ "
     ]
    },
    {
     "name": "stdout",
     "output_type": "stream",
     "text": [
      "       Lines total: 234\n",
      "     Lines covered: 16\n",
      "  Conditions total: 184\n",
      "Conditions covered: 11\n",
      "     Line coverage: 6.8%\n",
      "Condition coverage: 6.0%\n"
     ]
    },
    {
     "name": "stderr",
     "output_type": "stream",
     "text": [
      "OK\n",
      "Running ant (coverage.instrument).......................................... OK\n",
      "Running ant (run.gen.tests)................................................ OK\n",
      "Running ant (coverage.report).............................................. OK\n",
      "Extract test suite......................................................... OK\n",
      "Running ant (compile.gen.tests)............................................ "
     ]
    },
    {
     "name": "stdout",
     "output_type": "stream",
     "text": [
      "       Lines total: 234\n",
      "     Lines covered: 65\n",
      "  Conditions total: 184\n",
      "Conditions covered: 2\n",
      "     Line coverage: 27.8%\n",
      "Condition coverage: 1.1%\n"
     ]
    },
    {
     "name": "stderr",
     "output_type": "stream",
     "text": [
      "OK\n",
      "Running ant (coverage.instrument).......................................... OK\n",
      "Running ant (run.gen.tests)................................................ OK\n",
      "Running ant (coverage.report).............................................. OK\n",
      "Extract test suite......................................................... OK\n",
      "Running ant (compile.gen.tests)............................................ "
     ]
    },
    {
     "name": "stdout",
     "output_type": "stream",
     "text": [
      "       Lines total: 234\n",
      "     Lines covered: 14\n",
      "  Conditions total: 184\n",
      "Conditions covered: 11\n",
      "     Line coverage: 6.0%\n",
      "Condition coverage: 6.0%\n"
     ]
    },
    {
     "name": "stderr",
     "output_type": "stream",
     "text": [
      "OK\n",
      "Running ant (coverage.instrument).......................................... OK\n",
      "Running ant (run.gen.tests)................................................ OK\n",
      "Running ant (coverage.report).............................................. OK\n",
      "Extract test suite......................................................... OK\n",
      "Running ant (compile.gen.tests)............................................ "
     ]
    },
    {
     "name": "stdout",
     "output_type": "stream",
     "text": [
      "       Lines total: 234\n",
      "     Lines covered: 20\n",
      "  Conditions total: 184\n",
      "Conditions covered: 16\n",
      "     Line coverage: 8.5%\n",
      "Condition coverage: 8.7%\n"
     ]
    },
    {
     "name": "stderr",
     "output_type": "stream",
     "text": [
      "OK\n",
      "Running ant (coverage.instrument).......................................... OK\n",
      "Running ant (run.gen.tests)................................................ OK\n",
      "Running ant (coverage.report).............................................. OK\n",
      "Extract test suite......................................................... OK\n",
      "Running ant (compile.gen.tests)............................................ "
     ]
    },
    {
     "name": "stdout",
     "output_type": "stream",
     "text": [
      "       Lines total: 234\n",
      "     Lines covered: 9\n",
      "  Conditions total: 184\n",
      "Conditions covered: 7\n",
      "     Line coverage: 3.8%\n",
      "Condition coverage: 3.8%\n"
     ]
    },
    {
     "name": "stderr",
     "output_type": "stream",
     "text": [
      "OK\n",
      "Running ant (coverage.instrument).......................................... OK\n",
      "Running ant (run.gen.tests)................................................ OK\n",
      "Running ant (coverage.report).............................................. OK\n",
      "Extract test suite......................................................... OK\n",
      "Running ant (compile.gen.tests)............................................ "
     ]
    },
    {
     "name": "stdout",
     "output_type": "stream",
     "text": [
      "       Lines total: 234\n",
      "     Lines covered: 16\n",
      "  Conditions total: 184\n",
      "Conditions covered: 11\n",
      "     Line coverage: 6.8%\n",
      "Condition coverage: 6.0%\n"
     ]
    },
    {
     "name": "stderr",
     "output_type": "stream",
     "text": [
      "OK\n",
      "Running ant (coverage.instrument).......................................... OK\n",
      "Running ant (run.gen.tests)................................................ OK\n",
      "Running ant (coverage.report).............................................. OK\n",
      "Extract test suite......................................................... OK\n",
      "Running ant (compile.gen.tests)............................................ "
     ]
    },
    {
     "name": "stdout",
     "output_type": "stream",
     "text": [
      "       Lines total: 234\n",
      "     Lines covered: 3\n",
      "  Conditions total: 184\n",
      "Conditions covered: 2\n",
      "     Line coverage: 1.3%\n",
      "Condition coverage: 1.1%\n"
     ]
    },
    {
     "name": "stderr",
     "output_type": "stream",
     "text": [
      "OK\n",
      "Running ant (coverage.instrument).......................................... OK\n",
      "Running ant (run.gen.tests)................................................ OK\n",
      "Running ant (coverage.report).............................................. OK\n",
      "Extract test suite......................................................... OK\n",
      "Running ant (compile.gen.tests)............................................ "
     ]
    },
    {
     "name": "stdout",
     "output_type": "stream",
     "text": [
      "       Lines total: 234\n",
      "     Lines covered: 18\n",
      "  Conditions total: 184\n",
      "Conditions covered: 14\n",
      "     Line coverage: 7.7%\n",
      "Condition coverage: 7.6%\n"
     ]
    },
    {
     "name": "stderr",
     "output_type": "stream",
     "text": [
      "OK\n",
      "Running ant (coverage.instrument).......................................... OK\n",
      "Running ant (run.gen.tests)................................................ OK\n",
      "Running ant (coverage.report).............................................. OK\n",
      "Extract test suite......................................................... OK\n",
      "Running ant (compile.gen.tests)............................................ "
     ]
    },
    {
     "name": "stdout",
     "output_type": "stream",
     "text": [
      "       Lines total: 234\n",
      "     Lines covered: 66\n",
      "  Conditions total: 184\n",
      "Conditions covered: 3\n",
      "     Line coverage: 28.2%\n",
      "Condition coverage: 1.6%\n"
     ]
    },
    {
     "name": "stderr",
     "output_type": "stream",
     "text": [
      "OK\n",
      "Running ant (coverage.instrument).......................................... OK\n",
      "Running ant (run.gen.tests)................................................ OK\n",
      "Running ant (coverage.report).............................................. OK\n",
      "Extract test suite......................................................... OK\n",
      "Running ant (compile.gen.tests)............................................ "
     ]
    },
    {
     "name": "stdout",
     "output_type": "stream",
     "text": [
      "       Lines total: 234\n",
      "     Lines covered: 9\n",
      "  Conditions total: 184\n",
      "Conditions covered: 6\n",
      "     Line coverage: 3.8%\n",
      "Condition coverage: 3.3%\n"
     ]
    },
    {
     "name": "stderr",
     "output_type": "stream",
     "text": [
      "OK\n",
      "Running ant (coverage.instrument).......................................... OK\n",
      "Running ant (run.gen.tests)................................................ OK\n",
      "Running ant (coverage.report).............................................. OK\n",
      "Extract test suite......................................................... OK\n",
      "Running ant (compile.gen.tests)............................................ "
     ]
    },
    {
     "name": "stdout",
     "output_type": "stream",
     "text": [
      "       Lines total: 234\n",
      "     Lines covered: 13\n",
      "  Conditions total: 184\n",
      "Conditions covered: 10\n",
      "     Line coverage: 5.6%\n",
      "Condition coverage: 5.4%\n"
     ]
    },
    {
     "name": "stderr",
     "output_type": "stream",
     "text": [
      "OK\n",
      "Running ant (coverage.instrument).......................................... OK\n",
      "Running ant (run.gen.tests)................................................ OK\n",
      "Running ant (coverage.report).............................................. OK\n",
      "Extract test suite......................................................... OK\n",
      "Running ant (compile.gen.tests)............................................ "
     ]
    },
    {
     "name": "stdout",
     "output_type": "stream",
     "text": [
      "       Lines total: 234\n",
      "     Lines covered: 69\n",
      "  Conditions total: 184\n",
      "Conditions covered: 53\n",
      "     Line coverage: 29.5%\n",
      "Condition coverage: 28.8%\n"
     ]
    },
    {
     "name": "stderr",
     "output_type": "stream",
     "text": [
      "OK\n",
      "Running ant (coverage.instrument).......................................... OK\n",
      "Running ant (run.gen.tests)................................................ OK\n",
      "Running ant (coverage.report).............................................. OK\n",
      "Extract test suite......................................................... OK\n",
      "Running ant (compile.gen.tests)............................................ "
     ]
    },
    {
     "name": "stdout",
     "output_type": "stream",
     "text": [
      "       Lines total: 234\n",
      "     Lines covered: 67\n",
      "  Conditions total: 184\n",
      "Conditions covered: 51\n",
      "     Line coverage: 28.6%\n",
      "Condition coverage: 27.7%\n"
     ]
    },
    {
     "name": "stderr",
     "output_type": "stream",
     "text": [
      "OK\n",
      "Running ant (coverage.instrument).......................................... OK\n",
      "Running ant (run.gen.tests)................................................ OK\n",
      "Running ant (coverage.report).............................................. OK\n",
      "Extract test suite......................................................... OK\n",
      "Running ant (compile.gen.tests)............................................ "
     ]
    },
    {
     "name": "stdout",
     "output_type": "stream",
     "text": [
      "       Lines total: 234\n",
      "     Lines covered: 55\n",
      "  Conditions total: 184\n",
      "Conditions covered: 39\n",
      "     Line coverage: 23.5%\n",
      "Condition coverage: 21.2%\n"
     ]
    },
    {
     "name": "stderr",
     "output_type": "stream",
     "text": [
      "OK\n",
      "Running ant (coverage.instrument).......................................... OK\n",
      "Running ant (run.gen.tests)................................................ OK\n",
      "Running ant (coverage.report).............................................. OK\n",
      "Extract test suite......................................................... OK\n",
      "Running ant (compile.gen.tests)............................................ "
     ]
    },
    {
     "name": "stdout",
     "output_type": "stream",
     "text": [
      "       Lines total: 234\n",
      "     Lines covered: 6\n",
      "  Conditions total: 184\n",
      "Conditions covered: 5\n",
      "     Line coverage: 2.6%\n",
      "Condition coverage: 2.7%\n"
     ]
    },
    {
     "name": "stderr",
     "output_type": "stream",
     "text": [
      "OK\n",
      "Running ant (coverage.instrument).......................................... OK\n",
      "Running ant (run.gen.tests)................................................ OK\n",
      "Running ant (coverage.report).............................................. OK\n",
      "Extract test suite......................................................... OK\n",
      "Running ant (compile.gen.tests)............................................ "
     ]
    },
    {
     "name": "stdout",
     "output_type": "stream",
     "text": [
      "       Lines total: 234\n",
      "     Lines covered: 60\n",
      "  Conditions total: 184\n",
      "Conditions covered: 47\n",
      "     Line coverage: 25.6%\n",
      "Condition coverage: 25.5%\n"
     ]
    },
    {
     "name": "stderr",
     "output_type": "stream",
     "text": [
      "OK\n",
      "Running ant (coverage.instrument).......................................... OK\n",
      "Running ant (run.gen.tests)................................................ OK\n",
      "Running ant (coverage.report).............................................. OK\n",
      "Extract test suite......................................................... OK\n",
      "Running ant (compile.gen.tests)............................................ "
     ]
    },
    {
     "name": "stdout",
     "output_type": "stream",
     "text": [
      "       Lines total: 234\n",
      "     Lines covered: 16\n",
      "  Conditions total: 184\n",
      "Conditions covered: 11\n",
      "     Line coverage: 6.8%\n",
      "Condition coverage: 6.0%\n"
     ]
    },
    {
     "name": "stderr",
     "output_type": "stream",
     "text": [
      "OK\n",
      "Running ant (coverage.instrument).......................................... OK\n",
      "Running ant (run.gen.tests)................................................ OK\n",
      "Running ant (coverage.report).............................................. OK\n",
      "Extract test suite......................................................... OK\n",
      "Running ant (compile.gen.tests)............................................ "
     ]
    },
    {
     "name": "stdout",
     "output_type": "stream",
     "text": [
      "       Lines total: 234\n",
      "     Lines covered: 65\n",
      "  Conditions total: 184\n",
      "Conditions covered: 52\n",
      "     Line coverage: 27.8%\n",
      "Condition coverage: 28.3%\n"
     ]
    },
    {
     "name": "stderr",
     "output_type": "stream",
     "text": [
      "OK\n",
      "Running ant (coverage.instrument).......................................... OK\n",
      "Running ant (run.gen.tests)................................................ OK\n",
      "Running ant (coverage.report).............................................. OK\n",
      "Extract test suite......................................................... OK\n",
      "Running ant (compile.gen.tests)............................................ "
     ]
    },
    {
     "name": "stdout",
     "output_type": "stream",
     "text": [
      "       Lines total: 234\n",
      "     Lines covered: 3\n",
      "  Conditions total: 184\n",
      "Conditions covered: 2\n",
      "     Line coverage: 1.3%\n",
      "Condition coverage: 1.1%\n"
     ]
    },
    {
     "name": "stderr",
     "output_type": "stream",
     "text": [
      "OK\n",
      "Running ant (coverage.instrument).......................................... OK\n",
      "Running ant (run.gen.tests)................................................ OK\n",
      "Running ant (coverage.report).............................................. OK\n",
      "Extract test suite......................................................... OK\n",
      "Running ant (compile.gen.tests)............................................ "
     ]
    },
    {
     "name": "stdout",
     "output_type": "stream",
     "text": [
      "       Lines total: 234\n",
      "     Lines covered: 75\n",
      "  Conditions total: 184\n",
      "Conditions covered: 57\n",
      "     Line coverage: 32.1%\n",
      "Condition coverage: 31.0%\n"
     ]
    },
    {
     "name": "stderr",
     "output_type": "stream",
     "text": [
      "OK\n",
      "Running ant (coverage.instrument).......................................... OK\n",
      "Running ant (run.gen.tests)................................................ OK\n",
      "Running ant (coverage.report).............................................. OK\n",
      "Extract test suite......................................................... OK\n",
      "Running ant (compile.gen.tests)............................................ "
     ]
    },
    {
     "name": "stdout",
     "output_type": "stream",
     "text": [
      "       Lines total: 234\n",
      "     Lines covered: 9\n",
      "  Conditions total: 184\n",
      "Conditions covered: 6\n",
      "     Line coverage: 3.8%\n",
      "Condition coverage: 3.3%\n"
     ]
    },
    {
     "name": "stderr",
     "output_type": "stream",
     "text": [
      "OK\n",
      "Running ant (coverage.instrument).......................................... OK\n",
      "Running ant (run.gen.tests)................................................ OK\n",
      "Running ant (coverage.report).............................................. OK\n",
      "Extract test suite......................................................... OK\n",
      "Running ant (compile.gen.tests)............................................ "
     ]
    },
    {
     "name": "stdout",
     "output_type": "stream",
     "text": [
      "       Lines total: 234\n",
      "     Lines covered: 10\n",
      "  Conditions total: 184\n",
      "Conditions covered: 8\n",
      "     Line coverage: 4.3%\n",
      "Condition coverage: 4.3%\n"
     ]
    },
    {
     "name": "stderr",
     "output_type": "stream",
     "text": [
      "OK\n",
      "Running ant (coverage.instrument).......................................... OK\n",
      "Running ant (run.gen.tests)................................................ OK\n",
      "Running ant (coverage.report).............................................. OK\n",
      "Extract test suite......................................................... OK\n",
      "Running ant (compile.gen.tests)............................................ "
     ]
    },
    {
     "name": "stdout",
     "output_type": "stream",
     "text": [
      "       Lines total: 234\n",
      "     Lines covered: 77\n",
      "  Conditions total: 184\n",
      "Conditions covered: 11\n",
      "     Line coverage: 32.9%\n",
      "Condition coverage: 6.0%\n"
     ]
    },
    {
     "name": "stderr",
     "output_type": "stream",
     "text": [
      "OK\n",
      "Running ant (coverage.instrument).......................................... OK\n",
      "Running ant (run.gen.tests)................................................ OK\n",
      "Running ant (coverage.report).............................................. OK\n",
      "Extract test suite......................................................... OK\n",
      "Running ant (compile.gen.tests)............................................ "
     ]
    },
    {
     "name": "stdout",
     "output_type": "stream",
     "text": [
      "       Lines total: 234\n",
      "     Lines covered: 17\n",
      "  Conditions total: 184\n",
      "Conditions covered: 12\n",
      "     Line coverage: 7.3%\n",
      "Condition coverage: 6.5%\n"
     ]
    },
    {
     "name": "stderr",
     "output_type": "stream",
     "text": [
      "OK\n",
      "Running ant (coverage.instrument).......................................... OK\n",
      "Running ant (run.gen.tests)................................................ OK\n",
      "Running ant (coverage.report).............................................. OK\n",
      "Extract test suite......................................................... OK\n",
      "Running ant (compile.gen.tests)............................................ "
     ]
    },
    {
     "name": "stdout",
     "output_type": "stream",
     "text": [
      "       Lines total: 234\n",
      "     Lines covered: 68\n",
      "  Conditions total: 184\n",
      "Conditions covered: 4\n",
      "     Line coverage: 29.1%\n",
      "Condition coverage: 2.2%\n"
     ]
    },
    {
     "name": "stderr",
     "output_type": "stream",
     "text": [
      "OK\n",
      "Running ant (coverage.instrument).......................................... OK\n",
      "Running ant (run.gen.tests)................................................ OK\n",
      "Running ant (coverage.report).............................................. OK\n",
      "Extract test suite......................................................... OK\n",
      "Running ant (compile.gen.tests)............................................ "
     ]
    },
    {
     "name": "stdout",
     "output_type": "stream",
     "text": [
      "       Lines total: 234\n",
      "     Lines covered: 17\n",
      "  Conditions total: 184\n",
      "Conditions covered: 13\n",
      "     Line coverage: 7.3%\n",
      "Condition coverage: 7.1%\n"
     ]
    },
    {
     "name": "stderr",
     "output_type": "stream",
     "text": [
      "OK\n",
      "Running ant (coverage.instrument).......................................... OK\n",
      "Running ant (run.gen.tests)................................................ OK\n",
      "Running ant (coverage.report).............................................. OK\n",
      "Extract test suite......................................................... OK\n",
      "Running ant (compile.gen.tests)............................................ "
     ]
    },
    {
     "name": "stdout",
     "output_type": "stream",
     "text": [
      "       Lines total: 234\n",
      "     Lines covered: 19\n",
      "  Conditions total: 184\n",
      "Conditions covered: 15\n",
      "     Line coverage: 8.1%\n",
      "Condition coverage: 8.2%\n"
     ]
    },
    {
     "name": "stderr",
     "output_type": "stream",
     "text": [
      "OK\n",
      "Running ant (coverage.instrument).......................................... OK\n",
      "Running ant (run.gen.tests)................................................ OK\n",
      "Running ant (coverage.report).............................................. OK\n",
      "Extract test suite......................................................... OK\n",
      "Running ant (compile.gen.tests)............................................ "
     ]
    },
    {
     "name": "stdout",
     "output_type": "stream",
     "text": [
      "       Lines total: 234\n",
      "     Lines covered: 10\n",
      "  Conditions total: 184\n",
      "Conditions covered: 8\n",
      "     Line coverage: 4.3%\n",
      "Condition coverage: 4.3%\n"
     ]
    },
    {
     "name": "stderr",
     "output_type": "stream",
     "text": [
      "OK\n",
      "Running ant (coverage.instrument).......................................... OK\n",
      "Running ant (run.gen.tests)................................................ OK\n",
      "Running ant (coverage.report).............................................. OK\n",
      "Extract test suite......................................................... OK\n",
      "Running ant (compile.gen.tests)............................................ "
     ]
    },
    {
     "name": "stdout",
     "output_type": "stream",
     "text": [
      "       Lines total: 234\n",
      "     Lines covered: 66\n",
      "  Conditions total: 184\n",
      "Conditions covered: 3\n",
      "     Line coverage: 28.2%\n",
      "Condition coverage: 1.6%\n"
     ]
    },
    {
     "name": "stderr",
     "output_type": "stream",
     "text": [
      "OK\n",
      "Running ant (coverage.instrument).......................................... OK\n",
      "Running ant (run.gen.tests)................................................ OK\n",
      "Running ant (coverage.report).............................................. OK\n",
      "Extract test suite......................................................... OK\n",
      "Running ant (compile.gen.tests)............................................ "
     ]
    },
    {
     "name": "stdout",
     "output_type": "stream",
     "text": [
      "       Lines total: 234\n",
      "     Lines covered: 10\n",
      "  Conditions total: 184\n",
      "Conditions covered: 8\n",
      "     Line coverage: 4.3%\n",
      "Condition coverage: 4.3%\n"
     ]
    },
    {
     "name": "stderr",
     "output_type": "stream",
     "text": [
      "OK\n",
      "Running ant (coverage.instrument).......................................... OK\n",
      "Running ant (run.gen.tests)................................................ OK\n",
      "Running ant (coverage.report).............................................. OK\n",
      "Extract test suite......................................................... OK\n",
      "Running ant (compile.gen.tests)............................................ "
     ]
    },
    {
     "name": "stdout",
     "output_type": "stream",
     "text": [
      "       Lines total: 234\n",
      "     Lines covered: 9\n",
      "  Conditions total: 184\n",
      "Conditions covered: 6\n",
      "     Line coverage: 3.8%\n",
      "Condition coverage: 3.3%\n"
     ]
    },
    {
     "name": "stderr",
     "output_type": "stream",
     "text": [
      "OK\n",
      "Running ant (coverage.instrument).......................................... OK\n",
      "Running ant (run.gen.tests)................................................ OK\n",
      "Running ant (coverage.report).............................................. OK\n",
      "Extract test suite......................................................... OK\n",
      "Running ant (compile.gen.tests)............................................ "
     ]
    },
    {
     "name": "stdout",
     "output_type": "stream",
     "text": [
      "       Lines total: 234\n",
      "     Lines covered: 65\n",
      "  Conditions total: 184\n",
      "Conditions covered: 53\n",
      "     Line coverage: 27.8%\n",
      "Condition coverage: 28.8%\n"
     ]
    },
    {
     "name": "stderr",
     "output_type": "stream",
     "text": [
      "OK\n",
      "Running ant (coverage.instrument).......................................... OK\n",
      "Running ant (run.gen.tests)................................................ OK\n",
      "Running ant (coverage.report).............................................. OK\n",
      "Extract test suite......................................................... OK\n",
      "Running ant (compile.gen.tests)............................................ "
     ]
    },
    {
     "name": "stdout",
     "output_type": "stream",
     "text": [
      "       Lines total: 234\n",
      "     Lines covered: 68\n",
      "  Conditions total: 184\n",
      "Conditions covered: 54\n",
      "     Line coverage: 29.1%\n",
      "Condition coverage: 29.3%\n"
     ]
    },
    {
     "name": "stderr",
     "output_type": "stream",
     "text": [
      "OK\n",
      "Running ant (coverage.instrument).......................................... OK\n",
      "Running ant (run.gen.tests)................................................ OK\n",
      "Running ant (coverage.report).............................................. OK\n",
      "Extract test suite......................................................... OK\n",
      "Running ant (compile.gen.tests)............................................ "
     ]
    },
    {
     "name": "stdout",
     "output_type": "stream",
     "text": [
      "       Lines total: 234\n",
      "     Lines covered: 19\n",
      "  Conditions total: 184\n",
      "Conditions covered: 15\n",
      "     Line coverage: 8.1%\n",
      "Condition coverage: 8.2%\n"
     ]
    },
    {
     "name": "stderr",
     "output_type": "stream",
     "text": [
      "OK\n",
      "Running ant (coverage.instrument).......................................... OK\n",
      "Running ant (run.gen.tests)................................................ OK\n",
      "Running ant (coverage.report).............................................. OK\n",
      "Extract test suite......................................................... OK\n",
      "Running ant (compile.gen.tests)............................................ "
     ]
    },
    {
     "name": "stdout",
     "output_type": "stream",
     "text": [
      "       Lines total: 234\n",
      "     Lines covered: 17\n",
      "  Conditions total: 184\n",
      "Conditions covered: 12\n",
      "     Line coverage: 7.3%\n",
      "Condition coverage: 6.5%\n"
     ]
    },
    {
     "name": "stderr",
     "output_type": "stream",
     "text": [
      "OK\n",
      "Running ant (coverage.instrument).......................................... OK\n",
      "Running ant (run.gen.tests)................................................ OK\n",
      "Running ant (coverage.report).............................................. OK\n",
      "Extract test suite......................................................... OK\n",
      "Running ant (compile.gen.tests)............................................ "
     ]
    },
    {
     "name": "stdout",
     "output_type": "stream",
     "text": [
      "       Lines total: 234\n",
      "     Lines covered: 9\n",
      "  Conditions total: 184\n",
      "Conditions covered: 7\n",
      "     Line coverage: 3.8%\n",
      "Condition coverage: 3.8%\n"
     ]
    },
    {
     "name": "stderr",
     "output_type": "stream",
     "text": [
      "OK\n",
      "Running ant (coverage.instrument).......................................... OK\n",
      "Running ant (run.gen.tests)................................................ OK\n",
      "Running ant (coverage.report).............................................. OK\n",
      "Extract test suite......................................................... OK\n",
      "Running ant (compile.gen.tests)............................................ "
     ]
    },
    {
     "name": "stdout",
     "output_type": "stream",
     "text": [
      "       Lines total: 234\n",
      "     Lines covered: 18\n",
      "  Conditions total: 184\n",
      "Conditions covered: 13\n",
      "     Line coverage: 7.7%\n",
      "Condition coverage: 7.1%\n"
     ]
    },
    {
     "name": "stderr",
     "output_type": "stream",
     "text": [
      "OK\n",
      "Running ant (coverage.instrument).......................................... OK\n",
      "Running ant (run.gen.tests)................................................ OK\n",
      "Running ant (coverage.report).............................................. OK\n",
      "Extract test suite......................................................... OK\n",
      "Running ant (compile.gen.tests)............................................ "
     ]
    },
    {
     "name": "stdout",
     "output_type": "stream",
     "text": [
      "       Lines total: 234\n",
      "     Lines covered: 17\n",
      "  Conditions total: 184\n",
      "Conditions covered: 13\n",
      "     Line coverage: 7.3%\n",
      "Condition coverage: 7.1%\n"
     ]
    },
    {
     "name": "stderr",
     "output_type": "stream",
     "text": [
      "OK\n",
      "Running ant (coverage.instrument).......................................... OK\n",
      "Running ant (run.gen.tests)................................................ OK\n",
      "Running ant (coverage.report).............................................. OK\n",
      "Extract test suite......................................................... OK\n",
      "Running ant (compile.gen.tests)............................................ "
     ]
    },
    {
     "name": "stdout",
     "output_type": "stream",
     "text": [
      "       Lines total: 234\n",
      "     Lines covered: 9\n",
      "  Conditions total: 184\n",
      "Conditions covered: 7\n",
      "     Line coverage: 3.8%\n",
      "Condition coverage: 3.8%\n"
     ]
    },
    {
     "name": "stderr",
     "output_type": "stream",
     "text": [
      "OK\n",
      "Running ant (coverage.instrument).......................................... OK\n",
      "Running ant (run.gen.tests)................................................ OK\n",
      "Running ant (coverage.report).............................................. OK\n",
      "Extract test suite......................................................... OK\n",
      "Running ant (compile.gen.tests)............................................ "
     ]
    },
    {
     "name": "stdout",
     "output_type": "stream",
     "text": [
      "       Lines total: 234\n",
      "     Lines covered: 5\n",
      "  Conditions total: 184\n",
      "Conditions covered: 1\n",
      "     Line coverage: 2.1%\n",
      "Condition coverage: 0.5%\n"
     ]
    },
    {
     "name": "stderr",
     "output_type": "stream",
     "text": [
      "OK\n",
      "Running ant (coverage.instrument).......................................... OK\n",
      "Running ant (run.gen.tests)................................................ OK\n",
      "Running ant (coverage.report).............................................. OK\n",
      "Extract test suite......................................................... OK\n",
      "Running ant (compile.gen.tests)............................................ "
     ]
    },
    {
     "name": "stdout",
     "output_type": "stream",
     "text": [
      "       Lines total: 234\n",
      "     Lines covered: 7\n",
      "  Conditions total: 184\n",
      "Conditions covered: 5\n",
      "     Line coverage: 3.0%\n",
      "Condition coverage: 2.7%\n"
     ]
    },
    {
     "name": "stderr",
     "output_type": "stream",
     "text": [
      "OK\n",
      "Running ant (coverage.instrument).......................................... OK\n",
      "Running ant (run.gen.tests)................................................ OK\n",
      "Running ant (coverage.report).............................................. OK\n",
      "Extract test suite......................................................... OK\n",
      "Running ant (compile.gen.tests)............................................ "
     ]
    },
    {
     "name": "stdout",
     "output_type": "stream",
     "text": [
      "       Lines total: 234\n",
      "     Lines covered: 67\n",
      "  Conditions total: 184\n",
      "Conditions covered: 52\n",
      "     Line coverage: 28.6%\n",
      "Condition coverage: 28.3%\n"
     ]
    },
    {
     "name": "stderr",
     "output_type": "stream",
     "text": [
      "OK\n",
      "Running ant (coverage.instrument).......................................... OK\n",
      "Running ant (run.gen.tests)................................................ OK\n",
      "Running ant (coverage.report).............................................. OK\n",
      "Extract test suite......................................................... OK\n",
      "Running ant (compile.gen.tests)............................................ "
     ]
    },
    {
     "name": "stdout",
     "output_type": "stream",
     "text": [
      "       Lines total: 234\n",
      "     Lines covered: 60\n",
      "  Conditions total: 184\n",
      "Conditions covered: 47\n",
      "     Line coverage: 25.6%\n",
      "Condition coverage: 25.5%\n"
     ]
    },
    {
     "name": "stderr",
     "output_type": "stream",
     "text": [
      "OK\n",
      "Running ant (coverage.instrument).......................................... OK\n",
      "Running ant (run.gen.tests)................................................ OK\n",
      "Running ant (coverage.report).............................................. OK\n",
      "Extract test suite......................................................... OK\n",
      "Running ant (compile.gen.tests)............................................ "
     ]
    },
    {
     "name": "stdout",
     "output_type": "stream",
     "text": [
      "       Lines total: 234\n",
      "     Lines covered: 3\n",
      "  Conditions total: 184\n",
      "Conditions covered: 2\n",
      "     Line coverage: 1.3%\n",
      "Condition coverage: 1.1%\n"
     ]
    },
    {
     "name": "stderr",
     "output_type": "stream",
     "text": [
      "OK\n",
      "Running ant (coverage.instrument).......................................... OK\n",
      "Running ant (run.gen.tests)................................................ OK\n",
      "Running ant (coverage.report).............................................. OK\n",
      "Extract test suite......................................................... OK\n",
      "Running ant (compile.gen.tests)............................................ "
     ]
    },
    {
     "name": "stdout",
     "output_type": "stream",
     "text": [
      "       Lines total: 234\n",
      "     Lines covered: 66\n",
      "  Conditions total: 184\n",
      "Conditions covered: 3\n",
      "     Line coverage: 28.2%\n",
      "Condition coverage: 1.6%\n"
     ]
    },
    {
     "name": "stderr",
     "output_type": "stream",
     "text": [
      "OK\n",
      "Running ant (coverage.instrument).......................................... OK\n",
      "Running ant (run.gen.tests)................................................ OK\n",
      "Running ant (coverage.report).............................................. OK\n",
      "Extract test suite......................................................... OK\n",
      "Running ant (compile.gen.tests)............................................ "
     ]
    },
    {
     "name": "stdout",
     "output_type": "stream",
     "text": [
      "       Lines total: 234\n",
      "     Lines covered: 10\n",
      "  Conditions total: 184\n",
      "Conditions covered: 8\n",
      "     Line coverage: 4.3%\n",
      "Condition coverage: 4.3%\n"
     ]
    },
    {
     "name": "stderr",
     "output_type": "stream",
     "text": [
      "OK\n",
      "Running ant (coverage.instrument).......................................... OK\n",
      "Running ant (run.gen.tests)................................................ OK\n",
      "Running ant (coverage.report).............................................. OK\n",
      "Extract test suite......................................................... OK\n",
      "Running ant (compile.gen.tests)............................................ "
     ]
    },
    {
     "name": "stdout",
     "output_type": "stream",
     "text": [
      "       Lines total: 234\n",
      "     Lines covered: 7\n",
      "  Conditions total: 184\n",
      "Conditions covered: 5\n",
      "     Line coverage: 3.0%\n",
      "Condition coverage: 2.7%\n"
     ]
    },
    {
     "name": "stderr",
     "output_type": "stream",
     "text": [
      "OK\n",
      "Running ant (coverage.instrument).......................................... OK\n",
      "Running ant (run.gen.tests)................................................ OK\n",
      "Running ant (coverage.report).............................................. OK\n",
      "Extract test suite......................................................... OK\n",
      "Running ant (compile.gen.tests)............................................ "
     ]
    },
    {
     "name": "stdout",
     "output_type": "stream",
     "text": [
      "       Lines total: 234\n",
      "     Lines covered: 18\n",
      "  Conditions total: 184\n",
      "Conditions covered: 14\n",
      "     Line coverage: 7.7%\n",
      "Condition coverage: 7.6%\n"
     ]
    },
    {
     "name": "stderr",
     "output_type": "stream",
     "text": [
      "OK\n",
      "Running ant (coverage.instrument).......................................... OK\n",
      "Running ant (run.gen.tests)................................................ OK\n",
      "Running ant (coverage.report).............................................. OK\n",
      "Extract test suite......................................................... OK\n",
      "Running ant (compile.gen.tests)............................................ "
     ]
    },
    {
     "name": "stdout",
     "output_type": "stream",
     "text": [
      "       Lines total: 234\n",
      "     Lines covered: 18\n",
      "  Conditions total: 184\n",
      "Conditions covered: 13\n",
      "     Line coverage: 7.7%\n",
      "Condition coverage: 7.1%\n"
     ]
    },
    {
     "name": "stderr",
     "output_type": "stream",
     "text": [
      "OK\n",
      "Running ant (coverage.instrument).......................................... OK\n",
      "Running ant (run.gen.tests)................................................ OK\n",
      "Running ant (coverage.report).............................................. OK\n",
      "Extract test suite......................................................... OK\n",
      "Running ant (compile.gen.tests)............................................ "
     ]
    },
    {
     "name": "stdout",
     "output_type": "stream",
     "text": [
      "       Lines total: 234\n",
      "     Lines covered: 17\n",
      "  Conditions total: 184\n",
      "Conditions covered: 12\n",
      "     Line coverage: 7.3%\n",
      "Condition coverage: 6.5%\n"
     ]
    },
    {
     "name": "stderr",
     "output_type": "stream",
     "text": [
      "OK\n",
      "Running ant (coverage.instrument).......................................... OK\n",
      "Running ant (run.gen.tests)................................................ OK\n",
      "Running ant (coverage.report).............................................. OK\n",
      "Extract test suite......................................................... OK\n",
      "Running ant (compile.gen.tests)............................................ "
     ]
    },
    {
     "name": "stdout",
     "output_type": "stream",
     "text": [
      "       Lines total: 234\n",
      "     Lines covered: 39\n",
      "  Conditions total: 184\n",
      "Conditions covered: 27\n",
      "     Line coverage: 16.7%\n",
      "Condition coverage: 14.7%\n"
     ]
    },
    {
     "name": "stderr",
     "output_type": "stream",
     "text": [
      "OK\n",
      "Running ant (coverage.instrument).......................................... OK\n",
      "Running ant (run.gen.tests)................................................ OK\n",
      "Running ant (coverage.report).............................................. OK\n",
      "Extract test suite......................................................... OK\n",
      "Running ant (compile.gen.tests)............................................ "
     ]
    },
    {
     "name": "stdout",
     "output_type": "stream",
     "text": [
      "       Lines total: 234\n",
      "     Lines covered: 75\n",
      "  Conditions total: 184\n",
      "Conditions covered: 11\n",
      "     Line coverage: 32.1%\n",
      "Condition coverage: 6.0%\n"
     ]
    },
    {
     "name": "stderr",
     "output_type": "stream",
     "text": [
      "OK\n",
      "Running ant (coverage.instrument).......................................... OK\n",
      "Running ant (run.gen.tests)................................................ OK\n",
      "Running ant (coverage.report).............................................. OK\n",
      "Extract test suite......................................................... OK\n",
      "Running ant (compile.gen.tests)............................................ "
     ]
    },
    {
     "name": "stdout",
     "output_type": "stream",
     "text": [
      "       Lines total: 234\n",
      "     Lines covered: 3\n",
      "  Conditions total: 184\n",
      "Conditions covered: 2\n",
      "     Line coverage: 1.3%\n",
      "Condition coverage: 1.1%\n"
     ]
    },
    {
     "name": "stderr",
     "output_type": "stream",
     "text": [
      "OK\n",
      "Running ant (coverage.instrument).......................................... OK\n",
      "Running ant (run.gen.tests)................................................ OK\n",
      "Running ant (coverage.report).............................................. OK\n",
      "Extract test suite......................................................... OK\n",
      "Running ant (compile.gen.tests)............................................ "
     ]
    },
    {
     "name": "stdout",
     "output_type": "stream",
     "text": [
      "       Lines total: 234\n",
      "     Lines covered: 18\n",
      "  Conditions total: 184\n",
      "Conditions covered: 14\n",
      "     Line coverage: 7.7%\n",
      "Condition coverage: 7.6%\n"
     ]
    },
    {
     "name": "stderr",
     "output_type": "stream",
     "text": [
      "OK\n",
      "Running ant (coverage.instrument).......................................... OK\n",
      "Running ant (run.gen.tests)................................................ OK\n",
      "Running ant (coverage.report).............................................. OK\n",
      "Extract test suite......................................................... OK\n",
      "Running ant (compile.gen.tests)............................................ "
     ]
    },
    {
     "name": "stdout",
     "output_type": "stream",
     "text": [
      "       Lines total: 234\n",
      "     Lines covered: 7\n",
      "  Conditions total: 184\n",
      "Conditions covered: 6\n",
      "     Line coverage: 3.0%\n",
      "Condition coverage: 3.3%\n"
     ]
    },
    {
     "name": "stderr",
     "output_type": "stream",
     "text": [
      "OK\n",
      "Running ant (coverage.instrument).......................................... OK\n",
      "Running ant (run.gen.tests)................................................ OK\n",
      "Running ant (coverage.report).............................................. OK\n",
      "Extract test suite......................................................... OK\n",
      "Running ant (compile.gen.tests)............................................ "
     ]
    },
    {
     "name": "stdout",
     "output_type": "stream",
     "text": [
      "       Lines total: 234\n",
      "     Lines covered: 66\n",
      "  Conditions total: 184\n",
      "Conditions covered: 3\n",
      "     Line coverage: 28.2%\n",
      "Condition coverage: 1.6%\n"
     ]
    },
    {
     "name": "stderr",
     "output_type": "stream",
     "text": [
      "OK\n",
      "Running ant (coverage.instrument).......................................... OK\n",
      "Running ant (run.gen.tests)................................................ OK\n",
      "Running ant (coverage.report).............................................. OK\n",
      "Extract test suite......................................................... OK\n",
      "Running ant (compile.gen.tests)............................................ "
     ]
    },
    {
     "name": "stdout",
     "output_type": "stream",
     "text": [
      "       Lines total: 234\n",
      "     Lines covered: 9\n",
      "  Conditions total: 184\n",
      "Conditions covered: 7\n",
      "     Line coverage: 3.8%\n",
      "Condition coverage: 3.8%\n"
     ]
    },
    {
     "name": "stderr",
     "output_type": "stream",
     "text": [
      "OK\n",
      "Running ant (coverage.instrument).......................................... OK\n",
      "Running ant (run.gen.tests)................................................ OK\n",
      "Running ant (coverage.report).............................................. OK\n",
      "WARNING: Some tests failed (see /Users/hugoyin/Desktop/UIUC/CS_527/CS_527_Project/Defects4J/Codec_1/Buggy-Version/Codec_1B/failing_tests)!\n",
      "Extract test suite......................................................... OK\n",
      "Running ant (compile.gen.tests)............................................ "
     ]
    },
    {
     "name": "stdout",
     "output_type": "stream",
     "text": [
      "       Lines total: 234\n",
      "     Lines covered: 9\n",
      "  Conditions total: 184\n",
      "Conditions covered: 6\n",
      "     Line coverage: 3.8%\n",
      "Condition coverage: 3.3%\n"
     ]
    },
    {
     "name": "stderr",
     "output_type": "stream",
     "text": [
      "OK\n",
      "Running ant (coverage.instrument).......................................... OK\n",
      "Running ant (run.gen.tests)................................................ OK\n",
      "Running ant (coverage.report).............................................. OK\n",
      "Extract test suite......................................................... OK\n",
      "Running ant (compile.gen.tests)............................................ "
     ]
    },
    {
     "name": "stdout",
     "output_type": "stream",
     "text": [
      "       Lines total: 234\n",
      "     Lines covered: 57\n",
      "  Conditions total: 184\n",
      "Conditions covered: 45\n",
      "     Line coverage: 24.4%\n",
      "Condition coverage: 24.5%\n"
     ]
    },
    {
     "name": "stderr",
     "output_type": "stream",
     "text": [
      "OK\n",
      "Running ant (coverage.instrument).......................................... OK\n",
      "Running ant (run.gen.tests)................................................ OK\n",
      "Running ant (coverage.report).............................................. OK\n",
      "Extract test suite......................................................... OK\n",
      "Running ant (compile.gen.tests)............................................ "
     ]
    },
    {
     "name": "stdout",
     "output_type": "stream",
     "text": [
      "       Lines total: 234\n",
      "     Lines covered: 7\n",
      "  Conditions total: 184\n",
      "Conditions covered: 5\n",
      "     Line coverage: 3.0%\n",
      "Condition coverage: 2.7%\n"
     ]
    },
    {
     "name": "stderr",
     "output_type": "stream",
     "text": [
      "OK\n",
      "Running ant (coverage.instrument).......................................... OK\n",
      "Running ant (run.gen.tests)................................................ OK\n",
      "Running ant (coverage.report).............................................. OK\n",
      "Extract test suite......................................................... OK\n",
      "Running ant (compile.gen.tests)............................................ "
     ]
    },
    {
     "name": "stdout",
     "output_type": "stream",
     "text": [
      "       Lines total: 234\n",
      "     Lines covered: 38\n",
      "  Conditions total: 184\n",
      "Conditions covered: 26\n",
      "     Line coverage: 16.2%\n",
      "Condition coverage: 14.1%\n"
     ]
    },
    {
     "name": "stderr",
     "output_type": "stream",
     "text": [
      "OK\n",
      "Running ant (coverage.instrument).......................................... OK\n",
      "Running ant (run.gen.tests)................................................ OK\n",
      "Running ant (coverage.report).............................................. OK\n",
      "Extract test suite......................................................... OK\n",
      "Running ant (compile.gen.tests)............................................ "
     ]
    },
    {
     "name": "stdout",
     "output_type": "stream",
     "text": [
      "       Lines total: 234\n",
      "     Lines covered: 6\n",
      "  Conditions total: 184\n",
      "Conditions covered: 5\n",
      "     Line coverage: 2.6%\n",
      "Condition coverage: 2.7%\n"
     ]
    },
    {
     "name": "stderr",
     "output_type": "stream",
     "text": [
      "OK\n",
      "Running ant (coverage.instrument).......................................... OK\n",
      "Running ant (run.gen.tests)................................................ OK\n",
      "Running ant (coverage.report).............................................. OK\n",
      "Extract test suite......................................................... OK\n",
      "Running ant (compile.gen.tests)............................................ "
     ]
    },
    {
     "name": "stdout",
     "output_type": "stream",
     "text": [
      "       Lines total: 234\n",
      "     Lines covered: 7\n",
      "  Conditions total: 184\n",
      "Conditions covered: 5\n",
      "     Line coverage: 3.0%\n",
      "Condition coverage: 2.7%\n"
     ]
    },
    {
     "name": "stderr",
     "output_type": "stream",
     "text": [
      "OK\n",
      "Running ant (coverage.instrument).......................................... OK\n",
      "Running ant (run.gen.tests)................................................ OK\n",
      "Running ant (coverage.report).............................................. OK\n",
      "Extract test suite......................................................... OK\n",
      "Running ant (compile.gen.tests)............................................ "
     ]
    },
    {
     "name": "stdout",
     "output_type": "stream",
     "text": [
      "       Lines total: 234\n",
      "     Lines covered: 19\n",
      "  Conditions total: 184\n",
      "Conditions covered: 15\n",
      "     Line coverage: 8.1%\n",
      "Condition coverage: 8.2%\n"
     ]
    },
    {
     "name": "stderr",
     "output_type": "stream",
     "text": [
      "OK\n",
      "Running ant (coverage.instrument).......................................... OK\n",
      "Running ant (run.gen.tests)................................................ OK\n",
      "Running ant (coverage.report).............................................. OK\n",
      "Extract test suite......................................................... OK\n",
      "Running ant (compile.gen.tests)............................................ "
     ]
    },
    {
     "name": "stdout",
     "output_type": "stream",
     "text": [
      "       Lines total: 234\n",
      "     Lines covered: 10\n",
      "  Conditions total: 184\n",
      "Conditions covered: 7\n",
      "     Line coverage: 4.3%\n",
      "Condition coverage: 3.8%\n"
     ]
    },
    {
     "name": "stderr",
     "output_type": "stream",
     "text": [
      "OK\n",
      "Running ant (coverage.instrument).......................................... OK\n",
      "Running ant (run.gen.tests)................................................ OK\n",
      "Running ant (coverage.report).............................................. OK\n",
      "Extract test suite......................................................... OK\n",
      "Running ant (compile.gen.tests)............................................ "
     ]
    },
    {
     "name": "stdout",
     "output_type": "stream",
     "text": [
      "       Lines total: 234\n",
      "     Lines covered: 3\n",
      "  Conditions total: 184\n",
      "Conditions covered: 2\n",
      "     Line coverage: 1.3%\n",
      "Condition coverage: 1.1%\n"
     ]
    },
    {
     "name": "stderr",
     "output_type": "stream",
     "text": [
      "OK\n",
      "Running ant (coverage.instrument).......................................... OK\n",
      "Running ant (run.gen.tests)................................................ OK\n",
      "Running ant (coverage.report).............................................. OK\n",
      "Extract test suite......................................................... OK\n",
      "Running ant (compile.gen.tests)............................................ "
     ]
    },
    {
     "name": "stdout",
     "output_type": "stream",
     "text": [
      "       Lines total: 234\n",
      "     Lines covered: 9\n",
      "  Conditions total: 184\n",
      "Conditions covered: 6\n",
      "     Line coverage: 3.8%\n",
      "Condition coverage: 3.3%\n"
     ]
    },
    {
     "name": "stderr",
     "output_type": "stream",
     "text": [
      "OK\n",
      "Running ant (coverage.instrument).......................................... OK\n",
      "Running ant (run.gen.tests)................................................ OK\n",
      "Running ant (coverage.report).............................................. OK\n",
      "Extract test suite......................................................... OK\n",
      "Running ant (compile.gen.tests)............................................ "
     ]
    },
    {
     "name": "stdout",
     "output_type": "stream",
     "text": [
      "       Lines total: 234\n",
      "     Lines covered: 66\n",
      "  Conditions total: 184\n",
      "Conditions covered: 52\n",
      "     Line coverage: 28.2%\n",
      "Condition coverage: 28.3%\n"
     ]
    },
    {
     "name": "stderr",
     "output_type": "stream",
     "text": [
      "OK\n",
      "Running ant (coverage.instrument).......................................... OK\n",
      "Running ant (run.gen.tests)................................................ OK\n",
      "Running ant (coverage.report).............................................. OK\n",
      "Extract test suite......................................................... OK\n",
      "Running ant (compile.gen.tests)............................................ "
     ]
    },
    {
     "name": "stdout",
     "output_type": "stream",
     "text": [
      "       Lines total: 234\n",
      "     Lines covered: 94\n",
      "  Conditions total: 184\n",
      "Conditions covered: 74\n",
      "     Line coverage: 40.2%\n",
      "Condition coverage: 40.2%\n"
     ]
    },
    {
     "name": "stderr",
     "output_type": "stream",
     "text": [
      "OK\n",
      "Running ant (coverage.instrument).......................................... OK\n",
      "Running ant (run.gen.tests)................................................ OK\n",
      "Running ant (coverage.report).............................................. OK\n",
      "Extract test suite......................................................... OK\n",
      "Running ant (compile.gen.tests)............................................ "
     ]
    },
    {
     "name": "stdout",
     "output_type": "stream",
     "text": [
      "       Lines total: 234\n",
      "     Lines covered: 9\n",
      "  Conditions total: 184\n",
      "Conditions covered: 7\n",
      "     Line coverage: 3.8%\n",
      "Condition coverage: 3.8%\n"
     ]
    },
    {
     "name": "stderr",
     "output_type": "stream",
     "text": [
      "OK\n",
      "Running ant (coverage.instrument).......................................... OK\n",
      "Running ant (run.gen.tests)................................................ OK\n",
      "Running ant (coverage.report).............................................. OK\n",
      "Extract test suite......................................................... OK\n",
      "Running ant (compile.gen.tests)............................................ "
     ]
    },
    {
     "name": "stdout",
     "output_type": "stream",
     "text": [
      "       Lines total: 234\n",
      "     Lines covered: 9\n",
      "  Conditions total: 184\n",
      "Conditions covered: 7\n",
      "     Line coverage: 3.8%\n",
      "Condition coverage: 3.8%\n"
     ]
    },
    {
     "name": "stderr",
     "output_type": "stream",
     "text": [
      "OK\n",
      "Running ant (coverage.instrument).......................................... OK\n",
      "Running ant (run.gen.tests)................................................ OK\n",
      "Running ant (coverage.report).............................................. OK\n",
      "Extract test suite......................................................... OK\n",
      "Running ant (compile.gen.tests)............................................ "
     ]
    },
    {
     "name": "stdout",
     "output_type": "stream",
     "text": [
      "       Lines total: 234\n",
      "     Lines covered: 17\n",
      "  Conditions total: 184\n",
      "Conditions covered: 12\n",
      "     Line coverage: 7.3%\n",
      "Condition coverage: 6.5%\n"
     ]
    },
    {
     "name": "stderr",
     "output_type": "stream",
     "text": [
      "OK\n",
      "Running ant (coverage.instrument).......................................... OK\n",
      "Running ant (run.gen.tests)................................................ OK\n",
      "Running ant (coverage.report).............................................. OK\n",
      "Extract test suite......................................................... OK\n",
      "Running ant (compile.gen.tests)............................................ "
     ]
    },
    {
     "name": "stdout",
     "output_type": "stream",
     "text": [
      "       Lines total: 234\n",
      "     Lines covered: 17\n",
      "  Conditions total: 184\n",
      "Conditions covered: 12\n",
      "     Line coverage: 7.3%\n",
      "Condition coverage: 6.5%\n"
     ]
    },
    {
     "name": "stderr",
     "output_type": "stream",
     "text": [
      "OK\n",
      "Running ant (coverage.instrument).......................................... OK\n",
      "Running ant (run.gen.tests)................................................ OK\n",
      "Running ant (coverage.report).............................................. OK\n",
      "Extract test suite......................................................... OK\n",
      "Running ant (compile.gen.tests)............................................ "
     ]
    },
    {
     "name": "stdout",
     "output_type": "stream",
     "text": [
      "       Lines total: 234\n",
      "     Lines covered: 3\n",
      "  Conditions total: 184\n",
      "Conditions covered: 2\n",
      "     Line coverage: 1.3%\n",
      "Condition coverage: 1.1%\n"
     ]
    },
    {
     "name": "stderr",
     "output_type": "stream",
     "text": [
      "OK\n",
      "Running ant (coverage.instrument).......................................... OK\n",
      "Running ant (run.gen.tests)................................................ OK\n",
      "Running ant (coverage.report).............................................. OK\n",
      "Extract test suite......................................................... OK\n",
      "Running ant (compile.gen.tests)............................................ "
     ]
    },
    {
     "name": "stdout",
     "output_type": "stream",
     "text": [
      "       Lines total: 234\n",
      "     Lines covered: 19\n",
      "  Conditions total: 184\n",
      "Conditions covered: 15\n",
      "     Line coverage: 8.1%\n",
      "Condition coverage: 8.2%\n"
     ]
    },
    {
     "name": "stderr",
     "output_type": "stream",
     "text": [
      "OK\n",
      "Running ant (coverage.instrument).......................................... OK\n",
      "Running ant (run.gen.tests)................................................ OK\n",
      "Running ant (coverage.report).............................................. OK\n",
      "Extract test suite......................................................... OK\n",
      "Running ant (compile.gen.tests)............................................ "
     ]
    },
    {
     "name": "stdout",
     "output_type": "stream",
     "text": [
      "       Lines total: 234\n",
      "     Lines covered: 67\n",
      "  Conditions total: 184\n",
      "Conditions covered: 3\n",
      "     Line coverage: 28.6%\n",
      "Condition coverage: 1.6%\n"
     ]
    },
    {
     "name": "stderr",
     "output_type": "stream",
     "text": [
      "OK\n",
      "Running ant (coverage.instrument).......................................... OK\n",
      "Running ant (run.gen.tests)................................................ OK\n",
      "Running ant (coverage.report).............................................. OK\n",
      "Extract test suite......................................................... OK\n",
      "Running ant (compile.gen.tests)............................................ "
     ]
    },
    {
     "name": "stdout",
     "output_type": "stream",
     "text": [
      "       Lines total: 234\n",
      "     Lines covered: 17\n",
      "  Conditions total: 184\n",
      "Conditions covered: 12\n",
      "     Line coverage: 7.3%\n",
      "Condition coverage: 6.5%\n"
     ]
    },
    {
     "name": "stderr",
     "output_type": "stream",
     "text": [
      "OK\n",
      "Running ant (coverage.instrument).......................................... OK\n",
      "Running ant (run.gen.tests)................................................ OK\n",
      "Running ant (coverage.report).............................................. OK\n",
      "Extract test suite......................................................... OK\n",
      "Running ant (compile.gen.tests)............................................ "
     ]
    },
    {
     "name": "stdout",
     "output_type": "stream",
     "text": [
      "       Lines total: 234\n",
      "     Lines covered: 18\n",
      "  Conditions total: 184\n",
      "Conditions covered: 13\n",
      "     Line coverage: 7.7%\n",
      "Condition coverage: 7.1%\n"
     ]
    },
    {
     "name": "stderr",
     "output_type": "stream",
     "text": [
      "OK\n",
      "Running ant (coverage.instrument).......................................... OK\n",
      "Running ant (run.gen.tests)................................................ OK\n",
      "Running ant (coverage.report).............................................. OK\n",
      "Extract test suite......................................................... OK\n",
      "Running ant (compile.gen.tests)............................................ "
     ]
    },
    {
     "name": "stdout",
     "output_type": "stream",
     "text": [
      "       Lines total: 234\n",
      "     Lines covered: 18\n",
      "  Conditions total: 184\n",
      "Conditions covered: 13\n",
      "     Line coverage: 7.7%\n",
      "Condition coverage: 7.1%\n"
     ]
    },
    {
     "name": "stderr",
     "output_type": "stream",
     "text": [
      "OK\n",
      "Running ant (coverage.instrument).......................................... OK\n",
      "Running ant (run.gen.tests)................................................ OK\n",
      "Running ant (coverage.report).............................................. OK\n",
      "Extract test suite......................................................... OK\n",
      "Running ant (compile.gen.tests)............................................ "
     ]
    },
    {
     "name": "stdout",
     "output_type": "stream",
     "text": [
      "       Lines total: 234\n",
      "     Lines covered: 62\n",
      "  Conditions total: 184\n",
      "Conditions covered: 49\n",
      "     Line coverage: 26.5%\n",
      "Condition coverage: 26.6%\n"
     ]
    },
    {
     "name": "stderr",
     "output_type": "stream",
     "text": [
      "OK\n",
      "Running ant (coverage.instrument).......................................... OK\n",
      "Running ant (run.gen.tests)................................................ OK\n",
      "Running ant (coverage.report).............................................. OK\n",
      "Extract test suite......................................................... OK\n",
      "Running ant (compile.gen.tests)............................................ "
     ]
    },
    {
     "name": "stdout",
     "output_type": "stream",
     "text": [
      "       Lines total: 234\n",
      "     Lines covered: 3\n",
      "  Conditions total: 184\n",
      "Conditions covered: 2\n",
      "     Line coverage: 1.3%\n",
      "Condition coverage: 1.1%\n"
     ]
    },
    {
     "name": "stderr",
     "output_type": "stream",
     "text": [
      "OK\n",
      "Running ant (coverage.instrument).......................................... OK\n",
      "Running ant (run.gen.tests)................................................ OK\n",
      "Running ant (coverage.report).............................................. OK\n",
      "Extract test suite......................................................... OK\n",
      "Running ant (compile.gen.tests)............................................ "
     ]
    },
    {
     "name": "stdout",
     "output_type": "stream",
     "text": [
      "       Lines total: 234\n",
      "     Lines covered: 3\n",
      "  Conditions total: 184\n",
      "Conditions covered: 2\n",
      "     Line coverage: 1.3%\n",
      "Condition coverage: 1.1%\n"
     ]
    },
    {
     "name": "stderr",
     "output_type": "stream",
     "text": [
      "OK\n",
      "Running ant (coverage.instrument).......................................... OK\n",
      "Running ant (run.gen.tests)................................................ OK\n",
      "Running ant (coverage.report).............................................. OK\n",
      "Extract test suite......................................................... OK\n",
      "Running ant (compile.gen.tests)............................................ "
     ]
    },
    {
     "name": "stdout",
     "output_type": "stream",
     "text": [
      "       Lines total: 234\n",
      "     Lines covered: 19\n",
      "  Conditions total: 184\n",
      "Conditions covered: 15\n",
      "     Line coverage: 8.1%\n",
      "Condition coverage: 8.2%\n"
     ]
    },
    {
     "name": "stderr",
     "output_type": "stream",
     "text": [
      "OK\n",
      "Running ant (coverage.instrument).......................................... OK\n",
      "Running ant (run.gen.tests)................................................ OK\n",
      "Running ant (coverage.report).............................................. OK\n",
      "Extract test suite......................................................... OK\n",
      "Running ant (compile.gen.tests)............................................ "
     ]
    },
    {
     "name": "stdout",
     "output_type": "stream",
     "text": [
      "       Lines total: 234\n",
      "     Lines covered: 62\n",
      "  Conditions total: 184\n",
      "Conditions covered: 49\n",
      "     Line coverage: 26.5%\n",
      "Condition coverage: 26.6%\n"
     ]
    },
    {
     "name": "stderr",
     "output_type": "stream",
     "text": [
      "OK\n",
      "Running ant (coverage.instrument).......................................... OK\n",
      "Running ant (run.gen.tests)................................................ OK\n",
      "Running ant (coverage.report).............................................. OK\n",
      "Extract test suite......................................................... OK\n",
      "Running ant (compile.gen.tests)............................................ "
     ]
    },
    {
     "name": "stdout",
     "output_type": "stream",
     "text": [
      "       Lines total: 234\n",
      "     Lines covered: 3\n",
      "  Conditions total: 184\n",
      "Conditions covered: 2\n",
      "     Line coverage: 1.3%\n",
      "Condition coverage: 1.1%\n"
     ]
    },
    {
     "name": "stderr",
     "output_type": "stream",
     "text": [
      "OK\n",
      "Running ant (coverage.instrument).......................................... OK\n",
      "Running ant (run.gen.tests)................................................ OK\n",
      "Running ant (coverage.report).............................................. OK\n",
      "Extract test suite......................................................... OK\n",
      "Running ant (compile.gen.tests)............................................ "
     ]
    },
    {
     "name": "stdout",
     "output_type": "stream",
     "text": [
      "       Lines total: 234\n",
      "     Lines covered: 62\n",
      "  Conditions total: 184\n",
      "Conditions covered: 48\n",
      "     Line coverage: 26.5%\n",
      "Condition coverage: 26.1%\n"
     ]
    },
    {
     "name": "stderr",
     "output_type": "stream",
     "text": [
      "OK\n",
      "Running ant (coverage.instrument).......................................... OK\n",
      "Running ant (run.gen.tests)................................................ OK\n",
      "Running ant (coverage.report).............................................. OK\n",
      "Extract test suite......................................................... OK\n",
      "Running ant (compile.gen.tests)............................................ "
     ]
    },
    {
     "name": "stdout",
     "output_type": "stream",
     "text": [
      "       Lines total: 234\n",
      "     Lines covered: 1\n",
      "  Conditions total: 184\n",
      "Conditions covered: 0\n",
      "     Line coverage: 0.4%\n",
      "Condition coverage: 0.0%\n"
     ]
    },
    {
     "name": "stderr",
     "output_type": "stream",
     "text": [
      "OK\n",
      "Running ant (coverage.instrument).......................................... OK\n",
      "Running ant (run.gen.tests)................................................ OK\n",
      "Running ant (coverage.report).............................................. OK\n",
      "Extract test suite......................................................... OK\n",
      "Running ant (compile.gen.tests)............................................ "
     ]
    },
    {
     "name": "stdout",
     "output_type": "stream",
     "text": [
      "       Lines total: 234\n",
      "     Lines covered: 65\n",
      "  Conditions total: 184\n",
      "Conditions covered: 52\n",
      "     Line coverage: 27.8%\n",
      "Condition coverage: 28.3%\n"
     ]
    },
    {
     "name": "stderr",
     "output_type": "stream",
     "text": [
      "OK\n",
      "Running ant (coverage.instrument).......................................... OK\n",
      "Running ant (run.gen.tests)................................................ OK\n",
      "Running ant (coverage.report).............................................. OK\n",
      "Extract test suite......................................................... OK\n",
      "Running ant (compile.gen.tests)............................................ "
     ]
    },
    {
     "name": "stdout",
     "output_type": "stream",
     "text": [
      "       Lines total: 234\n",
      "     Lines covered: 77\n",
      "  Conditions total: 184\n",
      "Conditions covered: 11\n",
      "     Line coverage: 32.9%\n",
      "Condition coverage: 6.0%\n"
     ]
    },
    {
     "name": "stderr",
     "output_type": "stream",
     "text": [
      "OK\n",
      "Running ant (coverage.instrument).......................................... OK\n",
      "Running ant (run.gen.tests)................................................ OK\n",
      "Running ant (coverage.report).............................................. OK\n",
      "Extract test suite......................................................... OK\n",
      "Running ant (compile.gen.tests)............................................ "
     ]
    },
    {
     "name": "stdout",
     "output_type": "stream",
     "text": [
      "       Lines total: 234\n",
      "     Lines covered: 60\n",
      "  Conditions total: 184\n",
      "Conditions covered: 48\n",
      "     Line coverage: 25.6%\n",
      "Condition coverage: 26.1%\n"
     ]
    },
    {
     "name": "stderr",
     "output_type": "stream",
     "text": [
      "OK\n",
      "Running ant (coverage.instrument).......................................... OK\n",
      "Running ant (run.gen.tests)................................................ OK\n",
      "Running ant (coverage.report).............................................. OK\n",
      "Extract test suite......................................................... OK\n",
      "Running ant (compile.gen.tests)............................................ "
     ]
    },
    {
     "name": "stdout",
     "output_type": "stream",
     "text": [
      "       Lines total: 234\n",
      "     Lines covered: 16\n",
      "  Conditions total: 184\n",
      "Conditions covered: 12\n",
      "     Line coverage: 6.8%\n",
      "Condition coverage: 6.5%\n"
     ]
    },
    {
     "name": "stderr",
     "output_type": "stream",
     "text": [
      "OK\n",
      "Running ant (coverage.instrument).......................................... OK\n",
      "Running ant (run.gen.tests)................................................ OK\n",
      "Running ant (coverage.report).............................................. OK\n",
      "Extract test suite......................................................... OK\n",
      "Running ant (compile.gen.tests)............................................ "
     ]
    },
    {
     "name": "stdout",
     "output_type": "stream",
     "text": [
      "       Lines total: 234\n",
      "     Lines covered: 19\n",
      "  Conditions total: 184\n",
      "Conditions covered: 15\n",
      "     Line coverage: 8.1%\n",
      "Condition coverage: 8.2%\n"
     ]
    },
    {
     "name": "stderr",
     "output_type": "stream",
     "text": [
      "OK\n",
      "Running ant (coverage.instrument).......................................... OK\n",
      "Running ant (run.gen.tests)................................................ OK\n",
      "Running ant (coverage.report).............................................. OK\n",
      "Extract test suite......................................................... OK\n",
      "Running ant (compile.gen.tests)............................................ "
     ]
    },
    {
     "name": "stdout",
     "output_type": "stream",
     "text": [
      "       Lines total: 234\n",
      "     Lines covered: 64\n",
      "  Conditions total: 184\n",
      "Conditions covered: 2\n",
      "     Line coverage: 27.4%\n",
      "Condition coverage: 1.1%\n"
     ]
    },
    {
     "name": "stderr",
     "output_type": "stream",
     "text": [
      "OK\n",
      "Running ant (coverage.instrument).......................................... OK\n",
      "Running ant (run.gen.tests)................................................ OK\n",
      "Running ant (coverage.report).............................................. OK\n",
      "Extract test suite......................................................... OK\n",
      "Running ant (compile.gen.tests)............................................ "
     ]
    },
    {
     "name": "stdout",
     "output_type": "stream",
     "text": [
      "       Lines total: 234\n",
      "     Lines covered: 3\n",
      "  Conditions total: 184\n",
      "Conditions covered: 2\n",
      "     Line coverage: 1.3%\n",
      "Condition coverage: 1.1%\n"
     ]
    },
    {
     "name": "stderr",
     "output_type": "stream",
     "text": [
      "OK\n",
      "Running ant (coverage.instrument).......................................... OK\n",
      "Running ant (run.gen.tests)................................................ OK\n",
      "Running ant (coverage.report).............................................. OK\n",
      "Extract test suite......................................................... OK\n",
      "Running ant (compile.gen.tests)............................................ "
     ]
    },
    {
     "name": "stdout",
     "output_type": "stream",
     "text": [
      "       Lines total: 234\n",
      "     Lines covered: 9\n",
      "  Conditions total: 184\n",
      "Conditions covered: 7\n",
      "     Line coverage: 3.8%\n",
      "Condition coverage: 3.8%\n"
     ]
    },
    {
     "name": "stderr",
     "output_type": "stream",
     "text": [
      "OK\n",
      "Running ant (coverage.instrument).......................................... OK\n",
      "Running ant (run.gen.tests)................................................ OK\n",
      "Running ant (coverage.report).............................................. OK\n",
      "Extract test suite......................................................... OK\n",
      "Running ant (compile.gen.tests)............................................ "
     ]
    },
    {
     "name": "stdout",
     "output_type": "stream",
     "text": [
      "       Lines total: 234\n",
      "     Lines covered: 67\n",
      "  Conditions total: 184\n",
      "Conditions covered: 3\n",
      "     Line coverage: 28.6%\n",
      "Condition coverage: 1.6%\n"
     ]
    },
    {
     "name": "stderr",
     "output_type": "stream",
     "text": [
      "OK\n",
      "Running ant (coverage.instrument).......................................... OK\n",
      "Running ant (run.gen.tests)................................................ OK\n",
      "Running ant (coverage.report).............................................. OK\n",
      "Extract test suite......................................................... OK\n",
      "Running ant (compile.gen.tests)............................................ "
     ]
    },
    {
     "name": "stdout",
     "output_type": "stream",
     "text": [
      "       Lines total: 234\n",
      "     Lines covered: 64\n",
      "  Conditions total: 184\n",
      "Conditions covered: 2\n",
      "     Line coverage: 27.4%\n",
      "Condition coverage: 1.1%\n"
     ]
    },
    {
     "name": "stderr",
     "output_type": "stream",
     "text": [
      "OK\n",
      "Running ant (coverage.instrument).......................................... OK\n",
      "Running ant (run.gen.tests)................................................ OK\n",
      "Running ant (coverage.report).............................................. OK\n",
      "Extract test suite......................................................... OK\n",
      "Running ant (compile.gen.tests)............................................ "
     ]
    },
    {
     "name": "stdout",
     "output_type": "stream",
     "text": [
      "       Lines total: 234\n",
      "     Lines covered: 77\n",
      "  Conditions total: 184\n",
      "Conditions covered: 60\n",
      "     Line coverage: 32.9%\n",
      "Condition coverage: 32.6%\n"
     ]
    },
    {
     "name": "stderr",
     "output_type": "stream",
     "text": [
      "OK\n",
      "Running ant (coverage.instrument).......................................... OK\n",
      "Running ant (run.gen.tests)................................................ OK\n",
      "Running ant (coverage.report).............................................. OK\n",
      "Extract test suite......................................................... OK\n",
      "Running ant (compile.gen.tests)............................................ "
     ]
    },
    {
     "name": "stdout",
     "output_type": "stream",
     "text": [
      "       Lines total: 234\n",
      "     Lines covered: 65\n",
      "  Conditions total: 184\n",
      "Conditions covered: 3\n",
      "     Line coverage: 27.8%\n",
      "Condition coverage: 1.6%\n"
     ]
    },
    {
     "name": "stderr",
     "output_type": "stream",
     "text": [
      "OK\n",
      "Running ant (coverage.instrument).......................................... OK\n",
      "Running ant (run.gen.tests)................................................ OK\n",
      "Running ant (coverage.report).............................................. OK\n",
      "Extract test suite......................................................... OK\n",
      "Running ant (compile.gen.tests)............................................ "
     ]
    },
    {
     "name": "stdout",
     "output_type": "stream",
     "text": [
      "       Lines total: 234\n",
      "     Lines covered: 19\n",
      "  Conditions total: 184\n",
      "Conditions covered: 15\n",
      "     Line coverage: 8.1%\n",
      "Condition coverage: 8.2%\n"
     ]
    },
    {
     "name": "stderr",
     "output_type": "stream",
     "text": [
      "OK\n",
      "Running ant (coverage.instrument).......................................... OK\n",
      "Running ant (run.gen.tests)................................................ OK\n",
      "Running ant (coverage.report).............................................. OK\n",
      "Extract test suite......................................................... OK\n",
      "Running ant (compile.gen.tests)............................................ "
     ]
    },
    {
     "name": "stdout",
     "output_type": "stream",
     "text": [
      "       Lines total: 234\n",
      "     Lines covered: 19\n",
      "  Conditions total: 184\n",
      "Conditions covered: 15\n",
      "     Line coverage: 8.1%\n",
      "Condition coverage: 8.2%\n"
     ]
    },
    {
     "name": "stderr",
     "output_type": "stream",
     "text": [
      "OK\n",
      "Running ant (coverage.instrument).......................................... OK\n",
      "Running ant (run.gen.tests)................................................ OK\n",
      "Running ant (coverage.report).............................................. OK\n",
      "Extract test suite......................................................... OK\n",
      "Running ant (compile.gen.tests)............................................ "
     ]
    },
    {
     "name": "stdout",
     "output_type": "stream",
     "text": [
      "       Lines total: 234\n",
      "     Lines covered: 66\n",
      "  Conditions total: 184\n",
      "Conditions covered: 54\n",
      "     Line coverage: 28.2%\n",
      "Condition coverage: 29.3%\n"
     ]
    },
    {
     "name": "stderr",
     "output_type": "stream",
     "text": [
      "OK\n",
      "Running ant (coverage.instrument).......................................... OK\n",
      "Running ant (run.gen.tests)................................................ OK\n",
      "Running ant (coverage.report).............................................. OK\n",
      "Extract test suite......................................................... OK\n",
      "Running ant (compile.gen.tests)............................................ "
     ]
    },
    {
     "name": "stdout",
     "output_type": "stream",
     "text": [
      "       Lines total: 234\n",
      "     Lines covered: 77\n",
      "  Conditions total: 184\n",
      "Conditions covered: 11\n",
      "     Line coverage: 32.9%\n",
      "Condition coverage: 6.0%\n"
     ]
    },
    {
     "name": "stderr",
     "output_type": "stream",
     "text": [
      "OK\n",
      "Running ant (coverage.instrument).......................................... OK\n",
      "Running ant (run.gen.tests)................................................ OK\n",
      "Running ant (coverage.report).............................................. OK\n",
      "Extract test suite......................................................... OK\n",
      "Running ant (compile.gen.tests)............................................ "
     ]
    },
    {
     "name": "stdout",
     "output_type": "stream",
     "text": [
      "       Lines total: 234\n",
      "     Lines covered: 3\n",
      "  Conditions total: 184\n",
      "Conditions covered: 2\n",
      "     Line coverage: 1.3%\n",
      "Condition coverage: 1.1%\n"
     ]
    },
    {
     "name": "stderr",
     "output_type": "stream",
     "text": [
      "OK\n",
      "Running ant (coverage.instrument).......................................... OK\n",
      "Running ant (run.gen.tests)................................................ OK\n",
      "Running ant (coverage.report).............................................. OK\n",
      "Extract test suite......................................................... OK\n",
      "Running ant (compile.gen.tests)............................................ "
     ]
    },
    {
     "name": "stdout",
     "output_type": "stream",
     "text": [
      "       Lines total: 234\n",
      "     Lines covered: 18\n",
      "  Conditions total: 184\n",
      "Conditions covered: 14\n",
      "     Line coverage: 7.7%\n",
      "Condition coverage: 7.6%\n"
     ]
    },
    {
     "name": "stderr",
     "output_type": "stream",
     "text": [
      "OK\n",
      "Running ant (coverage.instrument).......................................... OK\n",
      "Running ant (run.gen.tests)................................................ OK\n",
      "Running ant (coverage.report).............................................. OK\n",
      "Extract test suite......................................................... OK\n",
      "Running ant (compile.gen.tests)............................................ "
     ]
    },
    {
     "name": "stdout",
     "output_type": "stream",
     "text": [
      "       Lines total: 234\n",
      "     Lines covered: 7\n",
      "  Conditions total: 184\n",
      "Conditions covered: 5\n",
      "     Line coverage: 3.0%\n",
      "Condition coverage: 2.7%\n"
     ]
    },
    {
     "name": "stderr",
     "output_type": "stream",
     "text": [
      "OK\n",
      "Running ant (coverage.instrument).......................................... OK\n",
      "Running ant (run.gen.tests)................................................ OK\n",
      "Running ant (coverage.report).............................................. OK\n",
      "Extract test suite......................................................... OK\n",
      "Running ant (compile.gen.tests)............................................ "
     ]
    },
    {
     "name": "stdout",
     "output_type": "stream",
     "text": [
      "       Lines total: 234\n",
      "     Lines covered: 6\n",
      "  Conditions total: 184\n",
      "Conditions covered: 5\n",
      "     Line coverage: 2.6%\n",
      "Condition coverage: 2.7%\n"
     ]
    },
    {
     "name": "stderr",
     "output_type": "stream",
     "text": [
      "OK\n",
      "Running ant (coverage.instrument).......................................... OK\n",
      "Running ant (run.gen.tests)................................................ OK\n",
      "Running ant (coverage.report).............................................. OK\n",
      "Extract test suite......................................................... OK\n",
      "Running ant (compile.gen.tests)............................................ "
     ]
    },
    {
     "name": "stdout",
     "output_type": "stream",
     "text": [
      "       Lines total: 234\n",
      "     Lines covered: 65\n",
      "  Conditions total: 184\n",
      "Conditions covered: 2\n",
      "     Line coverage: 27.8%\n",
      "Condition coverage: 1.1%\n"
     ]
    },
    {
     "name": "stderr",
     "output_type": "stream",
     "text": [
      "OK\n",
      "Running ant (coverage.instrument).......................................... OK\n",
      "Running ant (run.gen.tests)................................................ OK\n",
      "Running ant (coverage.report).............................................. OK\n",
      "Extract test suite......................................................... OK\n",
      "Running ant (compile.gen.tests)............................................ "
     ]
    },
    {
     "name": "stdout",
     "output_type": "stream",
     "text": [
      "       Lines total: 234\n",
      "     Lines covered: 60\n",
      "  Conditions total: 184\n",
      "Conditions covered: 47\n",
      "     Line coverage: 25.6%\n",
      "Condition coverage: 25.5%\n"
     ]
    },
    {
     "name": "stderr",
     "output_type": "stream",
     "text": [
      "OK\n",
      "Running ant (coverage.instrument).......................................... OK\n",
      "Running ant (run.gen.tests)................................................ OK\n",
      "Running ant (coverage.report).............................................. OK\n",
      "Extract test suite......................................................... OK\n",
      "Running ant (compile.gen.tests)............................................ "
     ]
    },
    {
     "name": "stdout",
     "output_type": "stream",
     "text": [
      "       Lines total: 234\n",
      "     Lines covered: 7\n",
      "  Conditions total: 184\n",
      "Conditions covered: 5\n",
      "     Line coverage: 3.0%\n",
      "Condition coverage: 2.7%\n"
     ]
    },
    {
     "name": "stderr",
     "output_type": "stream",
     "text": [
      "OK\n",
      "Running ant (coverage.instrument).......................................... OK\n",
      "Running ant (run.gen.tests)................................................ OK\n",
      "Running ant (coverage.report).............................................. OK\n",
      "Extract test suite......................................................... OK\n",
      "Running ant (compile.gen.tests)............................................ "
     ]
    },
    {
     "name": "stdout",
     "output_type": "stream",
     "text": [
      "       Lines total: 234\n",
      "     Lines covered: 17\n",
      "  Conditions total: 184\n",
      "Conditions covered: 12\n",
      "     Line coverage: 7.3%\n",
      "Condition coverage: 6.5%\n"
     ]
    },
    {
     "name": "stderr",
     "output_type": "stream",
     "text": [
      "OK\n",
      "Running ant (coverage.instrument).......................................... OK\n",
      "Running ant (run.gen.tests)................................................ OK\n",
      "Running ant (coverage.report).............................................. OK\n",
      "Extract test suite......................................................... OK\n",
      "Running ant (compile.gen.tests)............................................ "
     ]
    },
    {
     "name": "stdout",
     "output_type": "stream",
     "text": [
      "       Lines total: 234\n",
      "     Lines covered: 9\n",
      "  Conditions total: 184\n",
      "Conditions covered: 7\n",
      "     Line coverage: 3.8%\n",
      "Condition coverage: 3.8%\n"
     ]
    },
    {
     "name": "stderr",
     "output_type": "stream",
     "text": [
      "OK\n",
      "Running ant (coverage.instrument).......................................... OK\n",
      "Running ant (run.gen.tests)................................................ OK\n",
      "Running ant (coverage.report).............................................. OK\n",
      "Extract test suite......................................................... OK\n",
      "Running ant (compile.gen.tests)............................................ "
     ]
    },
    {
     "name": "stdout",
     "output_type": "stream",
     "text": [
      "       Lines total: 234\n",
      "     Lines covered: 10\n",
      "  Conditions total: 184\n",
      "Conditions covered: 7\n",
      "     Line coverage: 4.3%\n",
      "Condition coverage: 3.8%\n"
     ]
    },
    {
     "name": "stderr",
     "output_type": "stream",
     "text": [
      "OK\n",
      "Running ant (coverage.instrument).......................................... OK\n",
      "Running ant (run.gen.tests)................................................ OK\n",
      "Running ant (coverage.report).............................................. OK\n",
      "Extract test suite......................................................... OK\n",
      "Running ant (compile.gen.tests)............................................ "
     ]
    },
    {
     "name": "stdout",
     "output_type": "stream",
     "text": [
      "       Lines total: 234\n",
      "     Lines covered: 9\n",
      "  Conditions total: 184\n",
      "Conditions covered: 6\n",
      "     Line coverage: 3.8%\n",
      "Condition coverage: 3.3%\n"
     ]
    },
    {
     "name": "stderr",
     "output_type": "stream",
     "text": [
      "OK\n",
      "Running ant (coverage.instrument).......................................... OK\n",
      "Running ant (run.gen.tests)................................................ OK\n",
      "Running ant (coverage.report).............................................. OK\n",
      "Extract test suite......................................................... OK\n",
      "Running ant (compile.gen.tests)............................................ "
     ]
    },
    {
     "name": "stdout",
     "output_type": "stream",
     "text": [
      "       Lines total: 234\n",
      "     Lines covered: 77\n",
      "  Conditions total: 184\n",
      "Conditions covered: 11\n",
      "     Line coverage: 32.9%\n",
      "Condition coverage: 6.0%\n"
     ]
    },
    {
     "name": "stderr",
     "output_type": "stream",
     "text": [
      "OK\n",
      "Running ant (coverage.instrument).......................................... OK\n",
      "Running ant (run.gen.tests)................................................ OK\n",
      "Running ant (coverage.report).............................................. OK\n",
      "Extract test suite......................................................... OK\n",
      "Running ant (compile.gen.tests)............................................ "
     ]
    },
    {
     "name": "stdout",
     "output_type": "stream",
     "text": [
      "       Lines total: 234\n",
      "     Lines covered: 65\n",
      "  Conditions total: 184\n",
      "Conditions covered: 52\n",
      "     Line coverage: 27.8%\n",
      "Condition coverage: 28.3%\n"
     ]
    },
    {
     "name": "stderr",
     "output_type": "stream",
     "text": [
      "OK\n",
      "Running ant (coverage.instrument).......................................... OK\n",
      "Running ant (run.gen.tests)................................................ OK\n",
      "Running ant (coverage.report).............................................. OK\n",
      "Extract test suite......................................................... OK\n",
      "Running ant (compile.gen.tests)............................................ "
     ]
    },
    {
     "name": "stdout",
     "output_type": "stream",
     "text": [
      "       Lines total: 234\n",
      "     Lines covered: 3\n",
      "  Conditions total: 184\n",
      "Conditions covered: 2\n",
      "     Line coverage: 1.3%\n",
      "Condition coverage: 1.1%\n"
     ]
    },
    {
     "name": "stderr",
     "output_type": "stream",
     "text": [
      "OK\n",
      "Running ant (coverage.instrument).......................................... OK\n",
      "Running ant (run.gen.tests)................................................ OK\n",
      "Running ant (coverage.report).............................................. OK\n",
      "Extract test suite......................................................... OK\n",
      "Running ant (compile.gen.tests)............................................ "
     ]
    },
    {
     "name": "stdout",
     "output_type": "stream",
     "text": [
      "       Lines total: 234\n",
      "     Lines covered: 19\n",
      "  Conditions total: 184\n",
      "Conditions covered: 15\n",
      "     Line coverage: 8.1%\n",
      "Condition coverage: 8.2%\n"
     ]
    },
    {
     "name": "stderr",
     "output_type": "stream",
     "text": [
      "OK\n",
      "Running ant (coverage.instrument).......................................... OK\n",
      "Running ant (run.gen.tests)................................................ OK\n",
      "Running ant (coverage.report).............................................. OK\n",
      "Extract test suite......................................................... OK\n",
      "Running ant (compile.gen.tests)............................................ "
     ]
    },
    {
     "name": "stdout",
     "output_type": "stream",
     "text": [
      "       Lines total: 234\n",
      "     Lines covered: 9\n",
      "  Conditions total: 184\n",
      "Conditions covered: 7\n",
      "     Line coverage: 3.8%\n",
      "Condition coverage: 3.8%\n"
     ]
    },
    {
     "name": "stderr",
     "output_type": "stream",
     "text": [
      "OK\n",
      "Running ant (coverage.instrument).......................................... OK\n",
      "Running ant (run.gen.tests)................................................ OK\n",
      "Running ant (coverage.report).............................................. OK\n",
      "Extract test suite......................................................... OK\n",
      "Running ant (compile.gen.tests)............................................ "
     ]
    },
    {
     "name": "stdout",
     "output_type": "stream",
     "text": [
      "       Lines total: 234\n",
      "     Lines covered: 79\n",
      "  Conditions total: 184\n",
      "Conditions covered: 13\n",
      "     Line coverage: 33.8%\n",
      "Condition coverage: 7.1%\n"
     ]
    },
    {
     "name": "stderr",
     "output_type": "stream",
     "text": [
      "OK\n",
      "Running ant (coverage.instrument).......................................... OK\n",
      "Running ant (run.gen.tests)................................................ OK\n",
      "Running ant (coverage.report).............................................. OK\n",
      "Extract test suite......................................................... OK\n",
      "Running ant (compile.gen.tests)............................................ "
     ]
    },
    {
     "name": "stdout",
     "output_type": "stream",
     "text": [
      "       Lines total: 234\n",
      "     Lines covered: 64\n",
      "  Conditions total: 184\n",
      "Conditions covered: 2\n",
      "     Line coverage: 27.4%\n",
      "Condition coverage: 1.1%\n"
     ]
    },
    {
     "name": "stderr",
     "output_type": "stream",
     "text": [
      "OK\n",
      "Running ant (coverage.instrument).......................................... OK\n",
      "Running ant (run.gen.tests)................................................ OK\n",
      "Running ant (coverage.report).............................................. OK\n",
      "Extract test suite......................................................... OK\n",
      "Running ant (compile.gen.tests)............................................ "
     ]
    },
    {
     "name": "stdout",
     "output_type": "stream",
     "text": [
      "       Lines total: 234\n",
      "     Lines covered: 16\n",
      "  Conditions total: 184\n",
      "Conditions covered: 11\n",
      "     Line coverage: 6.8%\n",
      "Condition coverage: 6.0%\n"
     ]
    },
    {
     "name": "stderr",
     "output_type": "stream",
     "text": [
      "OK\n",
      "Running ant (coverage.instrument).......................................... OK\n",
      "Running ant (run.gen.tests)................................................ OK\n",
      "Running ant (coverage.report).............................................. OK\n",
      "Extract test suite......................................................... OK\n",
      "Running ant (compile.gen.tests)............................................ "
     ]
    },
    {
     "name": "stdout",
     "output_type": "stream",
     "text": [
      "       Lines total: 234\n",
      "     Lines covered: 7\n",
      "  Conditions total: 184\n",
      "Conditions covered: 5\n",
      "     Line coverage: 3.0%\n",
      "Condition coverage: 2.7%\n"
     ]
    },
    {
     "name": "stderr",
     "output_type": "stream",
     "text": [
      "OK\n",
      "Running ant (coverage.instrument).......................................... OK\n",
      "Running ant (run.gen.tests)................................................ OK\n",
      "Running ant (coverage.report).............................................. OK\n",
      "Extract test suite......................................................... OK\n",
      "Running ant (compile.gen.tests)............................................ "
     ]
    },
    {
     "name": "stdout",
     "output_type": "stream",
     "text": [
      "       Lines total: 234\n",
      "     Lines covered: 73\n",
      "  Conditions total: 184\n",
      "Conditions covered: 8\n",
      "     Line coverage: 31.2%\n",
      "Condition coverage: 4.3%\n"
     ]
    },
    {
     "name": "stderr",
     "output_type": "stream",
     "text": [
      "OK\n",
      "Running ant (coverage.instrument).......................................... OK\n",
      "Running ant (run.gen.tests)................................................ OK\n",
      "Running ant (coverage.report).............................................. OK\n",
      "Extract test suite......................................................... OK\n",
      "Running ant (compile.gen.tests)............................................ "
     ]
    },
    {
     "name": "stdout",
     "output_type": "stream",
     "text": [
      "       Lines total: 234\n",
      "     Lines covered: 20\n",
      "  Conditions total: 184\n",
      "Conditions covered: 16\n",
      "     Line coverage: 8.5%\n",
      "Condition coverage: 8.7%\n"
     ]
    },
    {
     "name": "stderr",
     "output_type": "stream",
     "text": [
      "OK\n",
      "Running ant (coverage.instrument).......................................... OK\n",
      "Running ant (run.gen.tests)................................................ OK\n",
      "Running ant (coverage.report).............................................. OK\n",
      "Extract test suite......................................................... OK\n",
      "Running ant (compile.gen.tests)............................................ "
     ]
    },
    {
     "name": "stdout",
     "output_type": "stream",
     "text": [
      "       Lines total: 234\n",
      "     Lines covered: 66\n",
      "  Conditions total: 184\n",
      "Conditions covered: 3\n",
      "     Line coverage: 28.2%\n",
      "Condition coverage: 1.6%\n"
     ]
    },
    {
     "name": "stderr",
     "output_type": "stream",
     "text": [
      "OK\n",
      "Running ant (coverage.instrument).......................................... OK\n",
      "Running ant (run.gen.tests)................................................ OK\n",
      "Running ant (coverage.report).............................................. OK\n",
      "Extract test suite......................................................... OK\n",
      "Running ant (compile.gen.tests)............................................ "
     ]
    },
    {
     "name": "stdout",
     "output_type": "stream",
     "text": [
      "       Lines total: 234\n",
      "     Lines covered: 66\n",
      "  Conditions total: 184\n",
      "Conditions covered: 52\n",
      "     Line coverage: 28.2%\n",
      "Condition coverage: 28.3%\n"
     ]
    },
    {
     "name": "stderr",
     "output_type": "stream",
     "text": [
      "OK\n",
      "Running ant (coverage.instrument).......................................... OK\n",
      "Running ant (run.gen.tests)................................................ OK\n",
      "Running ant (coverage.report).............................................. OK\n",
      "Extract test suite......................................................... OK\n",
      "Running ant (compile.gen.tests)............................................ "
     ]
    },
    {
     "name": "stdout",
     "output_type": "stream",
     "text": [
      "       Lines total: 234\n",
      "     Lines covered: 9\n",
      "  Conditions total: 184\n",
      "Conditions covered: 7\n",
      "     Line coverage: 3.8%\n",
      "Condition coverage: 3.8%\n"
     ]
    },
    {
     "name": "stderr",
     "output_type": "stream",
     "text": [
      "OK\n",
      "Running ant (coverage.instrument).......................................... OK\n",
      "Running ant (run.gen.tests)................................................ OK\n",
      "Running ant (coverage.report).............................................. OK\n",
      "Extract test suite......................................................... OK\n",
      "Running ant (compile.gen.tests)............................................ "
     ]
    },
    {
     "name": "stdout",
     "output_type": "stream",
     "text": [
      "       Lines total: 234\n",
      "     Lines covered: 11\n",
      "  Conditions total: 184\n",
      "Conditions covered: 9\n",
      "     Line coverage: 4.7%\n",
      "Condition coverage: 4.9%\n"
     ]
    },
    {
     "name": "stderr",
     "output_type": "stream",
     "text": [
      "OK\n",
      "Running ant (coverage.instrument).......................................... OK\n",
      "Running ant (run.gen.tests)................................................ OK\n",
      "Running ant (coverage.report).............................................. OK\n",
      "Extract test suite......................................................... OK\n",
      "Running ant (compile.gen.tests)............................................ "
     ]
    },
    {
     "name": "stdout",
     "output_type": "stream",
     "text": [
      "       Lines total: 234\n",
      "     Lines covered: 7\n",
      "  Conditions total: 184\n",
      "Conditions covered: 5\n",
      "     Line coverage: 3.0%\n",
      "Condition coverage: 2.7%\n"
     ]
    },
    {
     "name": "stderr",
     "output_type": "stream",
     "text": [
      "OK\n",
      "Running ant (coverage.instrument).......................................... OK\n",
      "Running ant (run.gen.tests)................................................ OK\n",
      "Running ant (coverage.report).............................................. OK\n",
      "Extract test suite......................................................... OK\n",
      "Running ant (compile.gen.tests)............................................ "
     ]
    },
    {
     "name": "stdout",
     "output_type": "stream",
     "text": [
      "       Lines total: 234\n",
      "     Lines covered: 7\n",
      "  Conditions total: 184\n",
      "Conditions covered: 5\n",
      "     Line coverage: 3.0%\n",
      "Condition coverage: 2.7%\n"
     ]
    },
    {
     "name": "stderr",
     "output_type": "stream",
     "text": [
      "OK\n",
      "Running ant (coverage.instrument).......................................... OK\n",
      "Running ant (run.gen.tests)................................................ OK\n",
      "Running ant (coverage.report).............................................. OK\n",
      "Extract test suite......................................................... OK\n",
      "Running ant (compile.gen.tests)............................................ "
     ]
    },
    {
     "name": "stdout",
     "output_type": "stream",
     "text": [
      "       Lines total: 234\n",
      "     Lines covered: 9\n",
      "  Conditions total: 184\n",
      "Conditions covered: 7\n",
      "     Line coverage: 3.8%\n",
      "Condition coverage: 3.8%\n"
     ]
    },
    {
     "name": "stderr",
     "output_type": "stream",
     "text": [
      "OK\n",
      "Running ant (coverage.instrument).......................................... OK\n",
      "Running ant (run.gen.tests)................................................ OK\n",
      "Running ant (coverage.report).............................................. OK\n",
      "Extract test suite......................................................... OK\n",
      "Running ant (compile.gen.tests)............................................ "
     ]
    },
    {
     "name": "stdout",
     "output_type": "stream",
     "text": [
      "       Lines total: 234\n",
      "     Lines covered: 8\n",
      "  Conditions total: 184\n",
      "Conditions covered: 6\n",
      "     Line coverage: 3.4%\n",
      "Condition coverage: 3.3%\n"
     ]
    },
    {
     "name": "stderr",
     "output_type": "stream",
     "text": [
      "OK\n",
      "Running ant (coverage.instrument).......................................... OK\n",
      "Running ant (run.gen.tests)................................................ OK\n",
      "Running ant (coverage.report).............................................. OK\n",
      "Extract test suite......................................................... OK\n",
      "Running ant (compile.gen.tests)............................................ "
     ]
    },
    {
     "name": "stdout",
     "output_type": "stream",
     "text": [
      "       Lines total: 234\n",
      "     Lines covered: 18\n",
      "  Conditions total: 184\n",
      "Conditions covered: 14\n",
      "     Line coverage: 7.7%\n",
      "Condition coverage: 7.6%\n"
     ]
    },
    {
     "name": "stderr",
     "output_type": "stream",
     "text": [
      "OK\n",
      "Running ant (coverage.instrument).......................................... OK\n",
      "Running ant (run.gen.tests)................................................ OK\n",
      "Running ant (coverage.report).............................................. OK\n",
      "Extract test suite......................................................... OK\n",
      "Running ant (compile.gen.tests)............................................ "
     ]
    },
    {
     "name": "stdout",
     "output_type": "stream",
     "text": [
      "       Lines total: 234\n",
      "     Lines covered: 1\n",
      "  Conditions total: 184\n",
      "Conditions covered: 0\n",
      "     Line coverage: 0.4%\n",
      "Condition coverage: 0.0%\n"
     ]
    },
    {
     "name": "stderr",
     "output_type": "stream",
     "text": [
      "OK\n",
      "Running ant (coverage.instrument).......................................... OK\n",
      "Running ant (run.gen.tests)................................................ OK\n",
      "Running ant (coverage.report).............................................. OK\n",
      "Extract test suite......................................................... OK\n",
      "Running ant (compile.gen.tests)............................................ "
     ]
    },
    {
     "name": "stdout",
     "output_type": "stream",
     "text": [
      "       Lines total: 234\n",
      "     Lines covered: 69\n",
      "  Conditions total: 184\n",
      "Conditions covered: 53\n",
      "     Line coverage: 29.5%\n",
      "Condition coverage: 28.8%\n"
     ]
    },
    {
     "name": "stderr",
     "output_type": "stream",
     "text": [
      "OK\n",
      "Running ant (coverage.instrument).......................................... OK\n",
      "Running ant (run.gen.tests)................................................ OK\n",
      "Running ant (coverage.report).............................................. OK\n",
      "Extract test suite......................................................... OK\n",
      "Running ant (compile.gen.tests)............................................ "
     ]
    },
    {
     "name": "stdout",
     "output_type": "stream",
     "text": [
      "       Lines total: 234\n",
      "     Lines covered: 18\n",
      "  Conditions total: 184\n",
      "Conditions covered: 13\n",
      "     Line coverage: 7.7%\n",
      "Condition coverage: 7.1%\n"
     ]
    },
    {
     "name": "stderr",
     "output_type": "stream",
     "text": [
      "OK\n",
      "Running ant (coverage.instrument).......................................... OK\n",
      "Running ant (run.gen.tests)................................................ OK\n",
      "Running ant (coverage.report).............................................. OK\n",
      "Extract test suite......................................................... OK\n",
      "Running ant (compile.gen.tests)............................................ "
     ]
    },
    {
     "name": "stdout",
     "output_type": "stream",
     "text": [
      "       Lines total: 234\n",
      "     Lines covered: 39\n",
      "  Conditions total: 184\n",
      "Conditions covered: 28\n",
      "     Line coverage: 16.7%\n",
      "Condition coverage: 15.2%\n"
     ]
    },
    {
     "name": "stderr",
     "output_type": "stream",
     "text": [
      "OK\n",
      "Running ant (coverage.instrument).......................................... OK\n",
      "Running ant (run.gen.tests)................................................ OK\n",
      "Running ant (coverage.report).............................................. OK\n",
      "Extract test suite......................................................... OK\n",
      "Running ant (compile.gen.tests)............................................ "
     ]
    },
    {
     "name": "stdout",
     "output_type": "stream",
     "text": [
      "       Lines total: 234\n",
      "     Lines covered: 9\n",
      "  Conditions total: 184\n",
      "Conditions covered: 7\n",
      "     Line coverage: 3.8%\n",
      "Condition coverage: 3.8%\n"
     ]
    },
    {
     "name": "stderr",
     "output_type": "stream",
     "text": [
      "OK\n",
      "Running ant (coverage.instrument).......................................... OK\n",
      "Running ant (run.gen.tests)................................................ OK\n",
      "Running ant (coverage.report).............................................. OK\n",
      "Extract test suite......................................................... OK\n",
      "Running ant (compile.gen.tests)............................................ "
     ]
    },
    {
     "name": "stdout",
     "output_type": "stream",
     "text": [
      "       Lines total: 234\n",
      "     Lines covered: 7\n",
      "  Conditions total: 184\n",
      "Conditions covered: 5\n",
      "     Line coverage: 3.0%\n",
      "Condition coverage: 2.7%\n"
     ]
    },
    {
     "name": "stderr",
     "output_type": "stream",
     "text": [
      "OK\n",
      "Running ant (coverage.instrument).......................................... OK\n",
      "Running ant (run.gen.tests)................................................ OK\n",
      "Running ant (coverage.report).............................................. OK\n",
      "Extract test suite......................................................... OK\n",
      "Running ant (compile.gen.tests)............................................ "
     ]
    },
    {
     "name": "stdout",
     "output_type": "stream",
     "text": [
      "       Lines total: 234\n",
      "     Lines covered: 76\n",
      "  Conditions total: 184\n",
      "Conditions covered: 62\n",
      "     Line coverage: 32.5%\n",
      "Condition coverage: 33.7%\n"
     ]
    },
    {
     "name": "stderr",
     "output_type": "stream",
     "text": [
      "OK\n",
      "Running ant (coverage.instrument).......................................... OK\n",
      "Running ant (run.gen.tests)................................................ OK\n",
      "Running ant (coverage.report).............................................. OK\n",
      "Extract test suite......................................................... OK\n",
      "Running ant (compile.gen.tests)............................................ "
     ]
    },
    {
     "name": "stdout",
     "output_type": "stream",
     "text": [
      "       Lines total: 234\n",
      "     Lines covered: 77\n",
      "  Conditions total: 184\n",
      "Conditions covered: 11\n",
      "     Line coverage: 32.9%\n",
      "Condition coverage: 6.0%\n"
     ]
    },
    {
     "name": "stderr",
     "output_type": "stream",
     "text": [
      "OK\n",
      "Running ant (coverage.instrument).......................................... OK\n",
      "Running ant (run.gen.tests)................................................ OK\n",
      "Running ant (coverage.report).............................................. OK\n",
      "Extract test suite......................................................... OK\n",
      "Running ant (compile.gen.tests)............................................ "
     ]
    },
    {
     "name": "stdout",
     "output_type": "stream",
     "text": [
      "       Lines total: 234\n",
      "     Lines covered: 16\n",
      "  Conditions total: 184\n",
      "Conditions covered: 11\n",
      "     Line coverage: 6.8%\n",
      "Condition coverage: 6.0%\n"
     ]
    },
    {
     "name": "stderr",
     "output_type": "stream",
     "text": [
      "OK\n",
      "Running ant (coverage.instrument).......................................... OK\n",
      "Running ant (run.gen.tests)................................................ OK\n",
      "Running ant (coverage.report).............................................. OK\n",
      "Extract test suite......................................................... OK\n",
      "Running ant (compile.gen.tests)............................................ "
     ]
    },
    {
     "name": "stdout",
     "output_type": "stream",
     "text": [
      "       Lines total: 234\n",
      "     Lines covered: 3\n",
      "  Conditions total: 184\n",
      "Conditions covered: 2\n",
      "     Line coverage: 1.3%\n",
      "Condition coverage: 1.1%\n"
     ]
    },
    {
     "name": "stderr",
     "output_type": "stream",
     "text": [
      "OK\n",
      "Running ant (coverage.instrument).......................................... OK\n",
      "Running ant (run.gen.tests)................................................ OK\n",
      "Running ant (coverage.report).............................................. OK\n",
      "Extract test suite......................................................... OK\n",
      "Running ant (compile.gen.tests)............................................ "
     ]
    },
    {
     "name": "stdout",
     "output_type": "stream",
     "text": [
      "       Lines total: 234\n",
      "     Lines covered: 62\n",
      "  Conditions total: 184\n",
      "Conditions covered: 49\n",
      "     Line coverage: 26.5%\n",
      "Condition coverage: 26.6%\n"
     ]
    },
    {
     "name": "stderr",
     "output_type": "stream",
     "text": [
      "OK\n",
      "Running ant (coverage.instrument).......................................... OK\n",
      "Running ant (run.gen.tests)................................................ OK\n",
      "Running ant (coverage.report).............................................. OK\n",
      "Extract test suite......................................................... OK\n",
      "Running ant (compile.gen.tests)............................................ "
     ]
    },
    {
     "name": "stdout",
     "output_type": "stream",
     "text": [
      "       Lines total: 234\n",
      "     Lines covered: 8\n",
      "  Conditions total: 184\n",
      "Conditions covered: 6\n",
      "     Line coverage: 3.4%\n",
      "Condition coverage: 3.3%\n"
     ]
    },
    {
     "name": "stderr",
     "output_type": "stream",
     "text": [
      "OK\n",
      "Running ant (coverage.instrument).......................................... OK\n",
      "Running ant (run.gen.tests)................................................ OK\n",
      "Running ant (coverage.report).............................................. OK\n",
      "Extract test suite......................................................... OK\n",
      "Running ant (compile.gen.tests)............................................ "
     ]
    },
    {
     "name": "stdout",
     "output_type": "stream",
     "text": [
      "       Lines total: 234\n",
      "     Lines covered: 18\n",
      "  Conditions total: 184\n",
      "Conditions covered: 13\n",
      "     Line coverage: 7.7%\n",
      "Condition coverage: 7.1%\n"
     ]
    },
    {
     "name": "stderr",
     "output_type": "stream",
     "text": [
      "OK\n",
      "Running ant (coverage.instrument).......................................... OK\n",
      "Running ant (run.gen.tests)................................................ OK\n",
      "Running ant (coverage.report).............................................. OK\n",
      "Extract test suite......................................................... OK\n",
      "Running ant (compile.gen.tests)............................................ "
     ]
    },
    {
     "name": "stdout",
     "output_type": "stream",
     "text": [
      "       Lines total: 234\n",
      "     Lines covered: 5\n",
      "  Conditions total: 184\n",
      "Conditions covered: 3\n",
      "     Line coverage: 2.1%\n",
      "Condition coverage: 1.6%\n"
     ]
    },
    {
     "name": "stderr",
     "output_type": "stream",
     "text": [
      "OK\n",
      "Running ant (coverage.instrument).......................................... OK\n",
      "Running ant (run.gen.tests)................................................ OK\n",
      "Running ant (coverage.report).............................................. OK\n",
      "Extract test suite......................................................... OK\n",
      "Running ant (compile.gen.tests)............................................ "
     ]
    },
    {
     "name": "stdout",
     "output_type": "stream",
     "text": [
      "       Lines total: 234\n",
      "     Lines covered: 14\n",
      "  Conditions total: 184\n",
      "Conditions covered: 11\n",
      "     Line coverage: 6.0%\n",
      "Condition coverage: 6.0%\n"
     ]
    },
    {
     "name": "stderr",
     "output_type": "stream",
     "text": [
      "OK\n",
      "Running ant (coverage.instrument).......................................... OK\n",
      "Running ant (run.gen.tests)................................................ OK\n",
      "Running ant (coverage.report).............................................. OK\n",
      "Extract test suite......................................................... OK\n",
      "Running ant (compile.gen.tests)............................................ "
     ]
    },
    {
     "name": "stdout",
     "output_type": "stream",
     "text": [
      "       Lines total: 234\n",
      "     Lines covered: 16\n",
      "  Conditions total: 184\n",
      "Conditions covered: 12\n",
      "     Line coverage: 6.8%\n",
      "Condition coverage: 6.5%\n"
     ]
    },
    {
     "name": "stderr",
     "output_type": "stream",
     "text": [
      "OK\n",
      "Running ant (coverage.instrument).......................................... OK\n",
      "Running ant (run.gen.tests)................................................ OK\n",
      "Running ant (coverage.report).............................................. OK\n",
      "Extract test suite......................................................... OK\n",
      "Running ant (compile.gen.tests)............................................ "
     ]
    },
    {
     "name": "stdout",
     "output_type": "stream",
     "text": [
      "       Lines total: 234\n",
      "     Lines covered: 59\n",
      "  Conditions total: 184\n",
      "Conditions covered: 46\n",
      "     Line coverage: 25.2%\n",
      "Condition coverage: 25.0%\n"
     ]
    },
    {
     "name": "stderr",
     "output_type": "stream",
     "text": [
      "OK\n",
      "Running ant (coverage.instrument).......................................... OK\n",
      "Running ant (run.gen.tests)................................................ OK\n",
      "Running ant (coverage.report).............................................. OK\n",
      "Extract test suite......................................................... OK\n",
      "Running ant (compile.gen.tests)............................................ "
     ]
    },
    {
     "name": "stdout",
     "output_type": "stream",
     "text": [
      "       Lines total: 234\n",
      "     Lines covered: 19\n",
      "  Conditions total: 184\n",
      "Conditions covered: 15\n",
      "     Line coverage: 8.1%\n",
      "Condition coverage: 8.2%\n"
     ]
    },
    {
     "name": "stderr",
     "output_type": "stream",
     "text": [
      "OK\n",
      "Running ant (coverage.instrument).......................................... OK\n",
      "Running ant (run.gen.tests)................................................ OK\n",
      "Running ant (coverage.report).............................................. OK\n",
      "Extract test suite......................................................... OK\n",
      "Running ant (compile.gen.tests)............................................ "
     ]
    },
    {
     "name": "stdout",
     "output_type": "stream",
     "text": [
      "       Lines total: 234\n",
      "     Lines covered: 66\n",
      "  Conditions total: 184\n",
      "Conditions covered: 54\n",
      "     Line coverage: 28.2%\n",
      "Condition coverage: 29.3%\n"
     ]
    },
    {
     "name": "stderr",
     "output_type": "stream",
     "text": [
      "OK\n",
      "Running ant (coverage.instrument).......................................... OK\n",
      "Running ant (run.gen.tests)................................................ OK\n",
      "Running ant (coverage.report).............................................. OK\n",
      "Extract test suite......................................................... OK\n",
      "Running ant (compile.gen.tests)............................................ "
     ]
    },
    {
     "name": "stdout",
     "output_type": "stream",
     "text": [
      "       Lines total: 234\n",
      "     Lines covered: 65\n",
      "  Conditions total: 184\n",
      "Conditions covered: 2\n",
      "     Line coverage: 27.8%\n",
      "Condition coverage: 1.1%\n"
     ]
    },
    {
     "name": "stderr",
     "output_type": "stream",
     "text": [
      "OK\n",
      "Running ant (coverage.instrument).......................................... OK\n",
      "Running ant (run.gen.tests)................................................ OK\n",
      "Running ant (coverage.report).............................................. OK\n",
      "Extract test suite......................................................... OK\n",
      "Running ant (compile.gen.tests)............................................ "
     ]
    },
    {
     "name": "stdout",
     "output_type": "stream",
     "text": [
      "       Lines total: 234\n",
      "     Lines covered: 14\n",
      "  Conditions total: 184\n",
      "Conditions covered: 11\n",
      "     Line coverage: 6.0%\n",
      "Condition coverage: 6.0%\n"
     ]
    },
    {
     "name": "stderr",
     "output_type": "stream",
     "text": [
      "OK\n",
      "Running ant (coverage.instrument).......................................... OK\n",
      "Running ant (run.gen.tests)................................................ OK\n",
      "Running ant (coverage.report).............................................. OK\n",
      "Extract test suite......................................................... OK\n",
      "Running ant (compile.gen.tests)............................................ "
     ]
    },
    {
     "name": "stdout",
     "output_type": "stream",
     "text": [
      "       Lines total: 234\n",
      "     Lines covered: 87\n",
      "  Conditions total: 184\n",
      "Conditions covered: 69\n",
      "     Line coverage: 37.2%\n",
      "Condition coverage: 37.5%\n"
     ]
    },
    {
     "name": "stderr",
     "output_type": "stream",
     "text": [
      "OK\n",
      "Running ant (coverage.instrument).......................................... OK\n",
      "Running ant (run.gen.tests)................................................ OK\n",
      "Running ant (coverage.report).............................................. OK\n",
      "Extract test suite......................................................... OK\n",
      "Running ant (compile.gen.tests)............................................ "
     ]
    },
    {
     "name": "stdout",
     "output_type": "stream",
     "text": [
      "       Lines total: 234\n",
      "     Lines covered: 68\n",
      "  Conditions total: 184\n",
      "Conditions covered: 54\n",
      "     Line coverage: 29.1%\n",
      "Condition coverage: 29.3%\n"
     ]
    },
    {
     "name": "stderr",
     "output_type": "stream",
     "text": [
      "OK\n",
      "Running ant (coverage.instrument).......................................... OK\n",
      "Running ant (run.gen.tests)................................................ OK\n",
      "Running ant (coverage.report).............................................. OK\n",
      "Extract test suite......................................................... OK\n",
      "Running ant (compile.gen.tests)............................................ "
     ]
    },
    {
     "name": "stdout",
     "output_type": "stream",
     "text": [
      "       Lines total: 234\n",
      "     Lines covered: 3\n",
      "  Conditions total: 184\n",
      "Conditions covered: 2\n",
      "     Line coverage: 1.3%\n",
      "Condition coverage: 1.1%\n"
     ]
    },
    {
     "name": "stderr",
     "output_type": "stream",
     "text": [
      "OK\n",
      "Running ant (coverage.instrument).......................................... OK\n",
      "Running ant (run.gen.tests)................................................ OK\n",
      "Running ant (coverage.report).............................................. OK\n",
      "Extract test suite......................................................... OK\n",
      "Running ant (compile.gen.tests)............................................ "
     ]
    },
    {
     "name": "stdout",
     "output_type": "stream",
     "text": [
      "       Lines total: 234\n",
      "     Lines covered: 18\n",
      "  Conditions total: 184\n",
      "Conditions covered: 14\n",
      "     Line coverage: 7.7%\n",
      "Condition coverage: 7.6%\n"
     ]
    },
    {
     "name": "stderr",
     "output_type": "stream",
     "text": [
      "OK\n",
      "Running ant (coverage.instrument).......................................... OK\n",
      "Running ant (run.gen.tests)................................................ OK\n",
      "Running ant (coverage.report).............................................. OK\n",
      "Extract test suite......................................................... OK\n",
      "Running ant (compile.gen.tests)............................................ "
     ]
    },
    {
     "name": "stdout",
     "output_type": "stream",
     "text": [
      "       Lines total: 234\n",
      "     Lines covered: 12\n",
      "  Conditions total: 184\n",
      "Conditions covered: 8\n",
      "     Line coverage: 5.1%\n",
      "Condition coverage: 4.3%\n"
     ]
    },
    {
     "name": "stderr",
     "output_type": "stream",
     "text": [
      "OK\n",
      "Running ant (coverage.instrument).......................................... OK\n",
      "Running ant (run.gen.tests)................................................ OK\n",
      "Running ant (coverage.report).............................................. OK\n",
      "Extract test suite......................................................... OK\n",
      "Running ant (compile.gen.tests)............................................ "
     ]
    },
    {
     "name": "stdout",
     "output_type": "stream",
     "text": [
      "       Lines total: 234\n",
      "     Lines covered: 125\n",
      "  Conditions total: 184\n",
      "Conditions covered: 49\n",
      "     Line coverage: 53.4%\n",
      "Condition coverage: 26.6%\n"
     ]
    },
    {
     "name": "stderr",
     "output_type": "stream",
     "text": [
      "OK\n",
      "Running ant (coverage.instrument).......................................... OK\n",
      "Running ant (run.gen.tests)................................................ OK\n",
      "Running ant (coverage.report).............................................. OK\n",
      "Extract test suite......................................................... OK\n",
      "Running ant (compile.gen.tests)............................................ "
     ]
    },
    {
     "name": "stdout",
     "output_type": "stream",
     "text": [
      "       Lines total: 234\n",
      "     Lines covered: 18\n",
      "  Conditions total: 184\n",
      "Conditions covered: 14\n",
      "     Line coverage: 7.7%\n",
      "Condition coverage: 7.6%\n"
     ]
    },
    {
     "name": "stderr",
     "output_type": "stream",
     "text": [
      "OK\n",
      "Running ant (coverage.instrument).......................................... OK\n",
      "Running ant (run.gen.tests)................................................ OK\n",
      "Running ant (coverage.report).............................................. OK\n",
      "Extract test suite......................................................... OK\n",
      "Running ant (compile.gen.tests)............................................ "
     ]
    },
    {
     "name": "stdout",
     "output_type": "stream",
     "text": [
      "       Lines total: 234\n",
      "     Lines covered: 17\n",
      "  Conditions total: 184\n",
      "Conditions covered: 12\n",
      "     Line coverage: 7.3%\n",
      "Condition coverage: 6.5%\n"
     ]
    },
    {
     "name": "stderr",
     "output_type": "stream",
     "text": [
      "OK\n",
      "Running ant (coverage.instrument).......................................... OK\n",
      "Running ant (run.gen.tests)................................................ OK\n",
      "Running ant (coverage.report).............................................. OK\n",
      "Extract test suite......................................................... OK\n",
      "Running ant (compile.gen.tests)............................................ "
     ]
    },
    {
     "name": "stdout",
     "output_type": "stream",
     "text": [
      "       Lines total: 234\n",
      "     Lines covered: 7\n",
      "  Conditions total: 184\n",
      "Conditions covered: 5\n",
      "     Line coverage: 3.0%\n",
      "Condition coverage: 2.7%\n"
     ]
    },
    {
     "name": "stderr",
     "output_type": "stream",
     "text": [
      "OK\n",
      "Running ant (coverage.instrument).......................................... OK\n",
      "Running ant (run.gen.tests)................................................ OK\n",
      "Running ant (coverage.report).............................................. OK\n",
      "WARNING: Some tests failed (see /Users/hugoyin/Desktop/UIUC/CS_527/CS_527_Project/Defects4J/Codec_1/Buggy-Version/Codec_1B/failing_tests)!\n",
      "Extract test suite......................................................... OK\n",
      "Running ant (compile.gen.tests)............................................ "
     ]
    },
    {
     "name": "stdout",
     "output_type": "stream",
     "text": [
      "       Lines total: 234\n",
      "     Lines covered: 17\n",
      "  Conditions total: 184\n",
      "Conditions covered: 13\n",
      "     Line coverage: 7.3%\n",
      "Condition coverage: 7.1%\n"
     ]
    },
    {
     "name": "stderr",
     "output_type": "stream",
     "text": [
      "OK\n",
      "Running ant (coverage.instrument).......................................... OK\n",
      "Running ant (run.gen.tests)................................................ OK\n",
      "Running ant (coverage.report).............................................. OK\n",
      "Extract test suite......................................................... OK\n",
      "Running ant (compile.gen.tests)............................................ "
     ]
    },
    {
     "name": "stdout",
     "output_type": "stream",
     "text": [
      "       Lines total: 234\n",
      "     Lines covered: 19\n",
      "  Conditions total: 184\n",
      "Conditions covered: 15\n",
      "     Line coverage: 8.1%\n",
      "Condition coverage: 8.2%\n"
     ]
    },
    {
     "name": "stderr",
     "output_type": "stream",
     "text": [
      "OK\n",
      "Running ant (coverage.instrument).......................................... OK\n",
      "Running ant (run.gen.tests)................................................ OK\n",
      "Running ant (coverage.report).............................................. OK\n",
      "Extract test suite......................................................... OK\n",
      "Running ant (compile.gen.tests)............................................ "
     ]
    },
    {
     "name": "stdout",
     "output_type": "stream",
     "text": [
      "       Lines total: 234\n",
      "     Lines covered: 77\n",
      "  Conditions total: 184\n",
      "Conditions covered: 11\n",
      "     Line coverage: 32.9%\n",
      "Condition coverage: 6.0%\n"
     ]
    },
    {
     "name": "stderr",
     "output_type": "stream",
     "text": [
      "OK\n",
      "Running ant (coverage.instrument).......................................... OK\n",
      "Running ant (run.gen.tests)................................................ OK\n",
      "Running ant (coverage.report).............................................. OK\n",
      "Extract test suite......................................................... OK\n",
      "Running ant (compile.gen.tests)............................................ "
     ]
    },
    {
     "name": "stdout",
     "output_type": "stream",
     "text": [
      "       Lines total: 234\n",
      "     Lines covered: 9\n",
      "  Conditions total: 184\n",
      "Conditions covered: 7\n",
      "     Line coverage: 3.8%\n",
      "Condition coverage: 3.8%\n"
     ]
    },
    {
     "name": "stderr",
     "output_type": "stream",
     "text": [
      "OK\n",
      "Running ant (coverage.instrument).......................................... OK\n",
      "Running ant (run.gen.tests)................................................ OK\n",
      "Running ant (coverage.report).............................................. OK\n",
      "Extract test suite......................................................... OK\n",
      "Running ant (compile.gen.tests)............................................ "
     ]
    },
    {
     "name": "stdout",
     "output_type": "stream",
     "text": [
      "       Lines total: 234\n",
      "     Lines covered: 7\n",
      "  Conditions total: 184\n",
      "Conditions covered: 5\n",
      "     Line coverage: 3.0%\n",
      "Condition coverage: 2.7%\n"
     ]
    },
    {
     "name": "stderr",
     "output_type": "stream",
     "text": [
      "OK\n",
      "Running ant (coverage.instrument).......................................... OK\n",
      "Running ant (run.gen.tests)................................................ OK\n",
      "Running ant (coverage.report).............................................. OK\n",
      "Extract test suite......................................................... OK\n",
      "Running ant (compile.gen.tests)............................................ "
     ]
    },
    {
     "name": "stdout",
     "output_type": "stream",
     "text": [
      "       Lines total: 234\n",
      "     Lines covered: 65\n",
      "  Conditions total: 184\n",
      "Conditions covered: 51\n",
      "     Line coverage: 27.8%\n",
      "Condition coverage: 27.7%\n"
     ]
    },
    {
     "name": "stderr",
     "output_type": "stream",
     "text": [
      "OK\n",
      "Running ant (coverage.instrument).......................................... OK\n",
      "Running ant (run.gen.tests)................................................ OK\n",
      "Running ant (coverage.report).............................................. "
     ]
    },
    {
     "name": "stdout",
     "output_type": "stream",
     "text": [
      "       Lines total: 234\n",
      "     Lines covered: 18\n",
      "  Conditions total: 184\n",
      "Conditions covered: 14\n",
      "     Line coverage: 7.7%\n",
      "Condition coverage: 7.6%\n"
     ]
    },
    {
     "name": "stderr",
     "output_type": "stream",
     "text": [
      "OK\n"
     ]
    }
   ],
   "source": [
    "import subprocess\n",
    "import xml.etree.ElementTree as ET\n",
    "\n",
    "\n",
    "line_info = {number: [0, 0] for number in line_numbers}\n",
    "\n",
    "print(line_info)\n",
    "\n",
    "failed_evo_tests = ['test05','test03','test23','test22','test21','test06','test14','test13']\n",
    "\n",
    "suspiciousness_scores = {}\n",
    "\n",
    "# Path to the coverage file\n",
    "coverage_xml_path = \"/Users/hugoyin/Desktop/UIUC/CS_527/CS_527_Project/Defects4J/Codec_1/Buggy-Version/Codec_1B/coverage.xml\"\n",
    "\n",
    "for i in range(4):\n",
    "    visited = []\n",
    "    test_name = f\"test{i:01d}\"  # Formats i to 3 digits, padded with zeros\n",
    "    command = f\"defects4j coverage -t org.apache.commons.codec.language.Caverphone_ESTest::{test_name} -s /Users/hugoyin/Desktop/UIUC/CS_527/defects4j/tests/Codec/evosuite/1/Codec-1b-evosuite.1.tar.bz2\"\n",
    "    \n",
    "    # Run the command\n",
    "    subprocess.run(command, shell=True, check=True)\n",
    "    \n",
    "    # Parse the coverage XML file\n",
    "    tree = ET.parse(coverage_xml_path)\n",
    "    root = tree.getroot()\n",
    "\n",
    "    class_xpath = \".//class[@name='org.apache.commons.codec.language.Metaphone']\"\n",
    "    metaphone_class = root.find(class_xpath)\n",
    "    \n",
    "    if metaphone_class is not None:\n",
    "        for line in metaphone_class.findall(\".//line\"):\n",
    "            num = int(line.get('number'))\n",
    "            if num in visited:\n",
    "                continue\n",
    "    \n",
    "            if num in line_numbers:\n",
    "                hits = int(line.get('hits'))\n",
    "                if hits > 0:\n",
    "                    line_info[num][1] += 1\n",
    "    \n",
    "            visited.append(num)\n",
    "\n",
    "\n",
    "for i in range(26):\n",
    "    visited = []\n",
    "    test_name = f\"test{i:02d}\"  # Formats i to 3 digits, padded with zeros\n",
    "    command = f\"defects4j coverage -t org.apache.commons.codec.language.Metaphone_ESTest::{test_name} -s /Users/hugoyin/Desktop/UIUC/CS_527/defects4j/tests/Codec/evosuite/1/Codec-1b-evosuite.1.tar.bz2\"\n",
    "    \n",
    "    # Run the command\n",
    "    subprocess.run(command, shell=True, check=True)\n",
    "    \n",
    "    # Parse the coverage XML file\n",
    "    tree = ET.parse(coverage_xml_path)\n",
    "    root = tree.getroot()\n",
    "\n",
    "    class_xpath = \".//class[@name='org.apache.commons.codec.language.Metaphone']\"\n",
    "    metaphone_class = root.find(class_xpath)\n",
    "    \n",
    "    if metaphone_class is not None:\n",
    "        for line in metaphone_class.findall(\".//line\"):\n",
    "            num = int(line.get('number'))\n",
    "            if num in visited:\n",
    "                continue\n",
    "    \n",
    "            if num in line_numbers:\n",
    "                hits = int(line.get('hits'))\n",
    "                if hits > 0:\n",
    "                    if test_name in failed_evo_tests:\n",
    "                        line_info[num][0] += 1\n",
    "                    else:\n",
    "                        line_info[num][1] += 1\n",
    "    \n",
    "            visited.append(num)\n",
    "                \n",
    "for i in range(6):\n",
    "    visited = []\n",
    "    test_name = f\"test{i:01d}\"  # Formats i to 3 digits, padded with zeros\n",
    "    command = f\"defects4j coverage -t org.apache.commons.codec.language.SoundexUtils_ESTest::{test_name} -s /Users/hugoyin/Desktop/UIUC/CS_527/defects4j/tests/Codec/evosuite/1/Codec-1b-evosuite.1.tar.bz2\"\n",
    "    \n",
    "    # Run the command\n",
    "    subprocess.run(command, shell=True, check=True)\n",
    "    \n",
    "    # Parse the coverage XML file\n",
    "    tree = ET.parse(coverage_xml_path)\n",
    "    root = tree.getroot()\n",
    "\n",
    "    class_xpath = \".//class[@name='org.apache.commons.codec.language.Metaphone']\"\n",
    "    metaphone_class = root.find(class_xpath)\n",
    "    \n",
    "    if metaphone_class is not None:\n",
    "        for line in metaphone_class.findall(\".//line\"):\n",
    "            num = int(line.get('number'))\n",
    "            if num in visited:\n",
    "                continue\n",
    "    \n",
    "            if num in line_numbers:\n",
    "                hits = int(line.get('hits'))\n",
    "                if hits > 0:\n",
    "                    line_info[num][1] += 1\n",
    "    \n",
    "            visited.append(num)\n",
    "\n",
    "for i in range(429):\n",
    "    index = i + 1\n",
    "    visited = []\n",
    "    test_name = f\"test{index:03d}\"  # Formats i to 3 digits, padded with zeros\n",
    "    command = f\"defects4j coverage -t org.apache.commons.codec.language.RegressionTest0::{test_name} -s /Users/hugoyin/Desktop/UIUC/CS_527/defects4j/tests/Codec/randoop/1/Codec-1b-randoop.1.tar.bz2\"\n",
    "    \n",
    "    # Run the command\n",
    "    subprocess.run(command, shell=True, check=True)\n",
    "    \n",
    "    # Parse the coverage XML file\n",
    "    tree = ET.parse(coverage_xml_path)\n",
    "    root = tree.getroot()\n",
    "\n",
    "    class_xpath = \".//class[@name='org.apache.commons.codec.language.Metaphone']\"\n",
    "    metaphone_class = root.find(class_xpath)\n",
    "    \n",
    "    if metaphone_class is not None:\n",
    "        for line in metaphone_class.findall(\".//line\"):\n",
    "            num = int(line.get('number'))\n",
    "            if num in visited:\n",
    "                continue\n",
    "    \n",
    "            if num in line_numbers:\n",
    "                hits = int(line.get('hits'))\n",
    "                if hits > 0:\n",
    "                    line_info[num][1] += 1\n",
    "    \n",
    "            visited.append(num)"
   ]
  },
  {
   "cell_type": "code",
   "execution_count": 4,
   "id": "09a53b10-3381-452d-8ce0-a5ebe21323e3",
   "metadata": {},
   "outputs": [
    {
     "data": {
      "text/plain": [
       "{62: [8, 101],\n",
       " 68: [8, 101],\n",
       " 69: [8, 101],\n",
       " 365: [2, 26],\n",
       " 366: [0, 19],\n",
       " 368: [2, 8],\n",
       " 378: [1, 65],\n",
       " 397: [8, 98],\n",
       " 348: [7, 91],\n",
       " 390: [0, 78],\n",
       " 329: [5, 80],\n",
       " 330: [5, 80],\n",
       " 332: [5, 78],\n",
       " 334: [5, 80],\n",
       " 320: [8, 96],\n",
       " 321: [8, 96],\n",
       " 323: [8, 95],\n",
       " 325: [8, 96],\n",
       " 316: [4, 85],\n",
       " 82: [8, 97],\n",
       " 83: [8, 97],\n",
       " 84: [0, 43],\n",
       " 87: [8, 96],\n",
       " 88: [0, 8],\n",
       " 91: [8, 96],\n",
       " 93: [8, 96],\n",
       " 94: [8, 96],\n",
       " 96: [8, 96],\n",
       " 100: [1, 3],\n",
       " 101: [0, 1],\n",
       " 103: [1, 2],\n",
       " 105: [1, 2],\n",
       " 107: [0, 47],\n",
       " 108: [0, 1],\n",
       " 110: [0, 46],\n",
       " 112: [0, 46],\n",
       " 114: [1, 0],\n",
       " 115: [0, 0],\n",
       " 116: [0, 0],\n",
       " 118: [1, 0],\n",
       " 119: [0, 0],\n",
       " 120: [0, 0],\n",
       " 122: [1, 0],\n",
       " 124: [1, 0],\n",
       " 126: [1, 0],\n",
       " 127: [1, 0],\n",
       " 128: [1, 0],\n",
       " 130: [5, 92],\n",
       " 133: [8, 96],\n",
       " 134: [8, 96],\n",
       " 136: [8, 96],\n",
       " 138: [8, 96],\n",
       " 140: [8, 96],\n",
       " 141: [0, 69],\n",
       " 143: [8, 96],\n",
       " 145: [2, 86],\n",
       " 146: [0, 78],\n",
       " 150: [0, 2],\n",
       " 152: [0, 0],\n",
       " 154: [0, 2],\n",
       " 155: [0, 2],\n",
       " 158: [2, 7],\n",
       " 161: [0, 0],\n",
       " 163: [2, 7],\n",
       " 164: [0, 0],\n",
       " 165: [0, 0],\n",
       " 167: [2, 7],\n",
       " 169: [0, 2],\n",
       " 170: [0, 2],\n",
       " 172: [2, 6],\n",
       " 174: [0, 0],\n",
       " 175: [0, 0],\n",
       " 177: [2, 6],\n",
       " 178: [0, 3],\n",
       " 181: [0, 0],\n",
       " 183: [0, 3],\n",
       " 186: [2, 4],\n",
       " 188: [2, 4],\n",
       " 190: [1, 5],\n",
       " 193: [0, 0],\n",
       " 195: [1, 5],\n",
       " 197: [1, 5],\n",
       " 199: [4, 72],\n",
       " 201: [0, 0],\n",
       " 203: [4, 72],\n",
       " 206: [0, 0],\n",
       " 208: [4, 72],\n",
       " 211: [0, 0],\n",
       " 213: [4, 72],\n",
       " 214: [0, 0],\n",
       " 216: [4, 72],\n",
       " 218: [4, 72],\n",
       " 221: [0, 1],\n",
       " 223: [4, 71],\n",
       " 225: [4, 71],\n",
       " 227: [2, 87],\n",
       " 228: [0, 2],\n",
       " 230: [2, 85],\n",
       " 232: [0, 1],\n",
       " 234: [2, 84],\n",
       " 235: [2, 43],\n",
       " 244: [4, 76],\n",
       " 245: [4, 76],\n",
       " 247: [1, 34],\n",
       " 248: [1, 34],\n",
       " 249: [1, 33],\n",
       " 252: [1, 0],\n",
       " 254: [1, 0],\n",
       " 256: [2, 73],\n",
       " 258: [0, 0],\n",
       " 260: [2, 73],\n",
       " 262: [2, 73],\n",
       " 264: [0, 1],\n",
       " 265: [0, 1],\n",
       " 267: [5, 8],\n",
       " 270: [0, 1],\n",
       " 272: [5, 7],\n",
       " 274: [5, 7],\n",
       " 276: [3, 6],\n",
       " 278: [0, 1],\n",
       " 279: [0, 1],\n",
       " 281: [3, 5],\n",
       " 283: [0, 1],\n",
       " 286: [3, 4],\n",
       " 287: [0, 0],\n",
       " 289: [3, 4],\n",
       " 291: [3, 4],\n",
       " 293: [2, 2],\n",
       " 295: [3, 1],\n",
       " 297: [1, 0],\n",
       " 301: [0, 4],\n",
       " 302: [0, 4],\n",
       " 304: [2, 4],\n",
       " 306: [8, 96],\n",
       " 308: [8, 96],\n",
       " 309: [0, 1],\n",
       " 311: [8, 96],\n",
       " 312: [8, 96],\n",
       " 338: [8, 77],\n",
       " 339: [8, 77],\n",
       " 341: [8, 74],\n",
       " 342: [8, 74],\n",
       " 344: [8, 77],\n",
       " 403: [1, 22]}"
      ]
     },
     "execution_count": 4,
     "metadata": {},
     "output_type": "execute_result"
    }
   ],
   "source": [
    "line_info"
   ]
  },
  {
   "cell_type": "code",
   "execution_count": 7,
   "id": "015941a4-e720-4a47-810f-b181d38e1a70",
   "metadata": {},
   "outputs": [
    {
     "name": "stdout",
     "output_type": "stream",
     "text": [
      "['org.apache.commons.codec.language.CaverphoneTest::testLocaleIndependence', 'org.apache.commons.codec.language.DoubleMetaphoneTest::testLocaleIndependence', 'org.apache.commons.codec.language.MetaphoneTest::testLocaleIndependence', 'org.apache.commons.codec.language.RefinedSoundexTest::testLocaleIndependence', 'org.apache.commons.codec.language.SoundexTest::testLocaleIndependence', 'org.apache.commons.codec.language.Metaphone_ESTest::test04', 'org.apache.commons.codec.language.Metaphone_ESTest::test25', 'org.apache.commons.codec.language.Metaphone_ESTest::test24', 'org.apache.commons.codec.language.Metaphone_ESTest::test08', 'org.apache.commons.codec.language.Metaphone_ESTest::test15', 'org.apache.commons.codec.language.Metaphone_ESTest::test11', 'org.apache.commons.codec.language.Metaphone_ESTest::test19']\n"
     ]
    },
    {
     "name": "stderr",
     "output_type": "stream",
     "text": [
      "Running ant (compile.tests)................................................ OK\n",
      "Running ant (coverage.instrument).......................................... OK\n",
      "Running ant (run.dev.tests)................................................ OK\n",
      "Running ant (coverage.report).............................................. OK\n",
      "Running ant (compile.tests)................................................ "
     ]
    },
    {
     "name": "stdout",
     "output_type": "stream",
     "text": [
      "       Lines total: 234\n",
      "     Lines covered: 0\n",
      "  Conditions total: 184\n",
      "Conditions covered: 0\n",
      "     Line coverage: 0.0%\n",
      "Condition coverage: 0.0%\n"
     ]
    },
    {
     "name": "stderr",
     "output_type": "stream",
     "text": [
      "OK\n",
      "Running ant (coverage.instrument).......................................... OK\n",
      "Running ant (run.dev.tests)................................................ OK\n",
      "Running ant (coverage.report).............................................. OK\n",
      "Running ant (compile.tests)................................................ "
     ]
    },
    {
     "name": "stdout",
     "output_type": "stream",
     "text": [
      "       Lines total: 234\n",
      "     Lines covered: 0\n",
      "  Conditions total: 184\n",
      "Conditions covered: 0\n",
      "     Line coverage: 0.0%\n",
      "Condition coverage: 0.0%\n"
     ]
    },
    {
     "name": "stderr",
     "output_type": "stream",
     "text": [
      "OK\n",
      "Running ant (coverage.instrument).......................................... OK\n",
      "Running ant (run.dev.tests)................................................ OK\n",
      "Running ant (coverage.report).............................................. OK\n",
      "Running ant (compile.tests)................................................ "
     ]
    },
    {
     "name": "stdout",
     "output_type": "stream",
     "text": [
      "       Lines total: 234\n",
      "     Lines covered: 0\n",
      "  Conditions total: 184\n",
      "Conditions covered: 0\n",
      "     Line coverage: 0.0%\n",
      "Condition coverage: 0.0%\n"
     ]
    },
    {
     "name": "stderr",
     "output_type": "stream",
     "text": [
      "OK\n",
      "Running ant (coverage.instrument).......................................... OK\n",
      "Running ant (run.dev.tests)................................................ OK\n",
      "Running ant (coverage.report).............................................. OK\n",
      "Running ant (compile.tests)................................................ "
     ]
    },
    {
     "name": "stdout",
     "output_type": "stream",
     "text": [
      "       Lines total: 234\n",
      "     Lines covered: 9\n",
      "  Conditions total: 184\n",
      "Conditions covered: 7\n",
      "     Line coverage: 3.8%\n",
      "Condition coverage: 3.8%\n"
     ]
    },
    {
     "name": "stderr",
     "output_type": "stream",
     "text": [
      "OK\n",
      "Running ant (coverage.instrument).......................................... OK\n",
      "Running ant (run.dev.tests)................................................ OK\n",
      "Running ant (coverage.report).............................................. OK\n",
      "Running ant (compile.tests)................................................ "
     ]
    },
    {
     "name": "stdout",
     "output_type": "stream",
     "text": [
      "       Lines total: 234\n",
      "     Lines covered: 63\n",
      "  Conditions total: 184\n",
      "Conditions covered: 2\n",
      "     Line coverage: 26.9%\n",
      "Condition coverage: 1.1%\n"
     ]
    },
    {
     "name": "stderr",
     "output_type": "stream",
     "text": [
      "OK\n",
      "Running ant (coverage.instrument).......................................... OK\n",
      "Running ant (run.dev.tests)................................................ OK\n",
      "Running ant (coverage.report).............................................. OK\n",
      "Running ant (compile.tests)................................................ "
     ]
    },
    {
     "name": "stdout",
     "output_type": "stream",
     "text": [
      "       Lines total: 234\n",
      "     Lines covered: 4\n",
      "  Conditions total: 184\n",
      "Conditions covered: 1\n",
      "     Line coverage: 1.7%\n",
      "Condition coverage: 0.5%\n"
     ]
    },
    {
     "name": "stderr",
     "output_type": "stream",
     "text": [
      "OK\n",
      "Running ant (coverage.instrument).......................................... OK\n",
      "Running ant (run.dev.tests)................................................ OK\n",
      "Running ant (coverage.report).............................................. OK\n",
      "Running ant (compile.tests)................................................ "
     ]
    },
    {
     "name": "stdout",
     "output_type": "stream",
     "text": [
      "       Lines total: 234\n",
      "     Lines covered: 5\n",
      "  Conditions total: 184\n",
      "Conditions covered: 1\n",
      "     Line coverage: 2.1%\n",
      "Condition coverage: 0.5%\n"
     ]
    },
    {
     "name": "stderr",
     "output_type": "stream",
     "text": [
      "OK\n",
      "Running ant (coverage.instrument).......................................... OK\n",
      "Running ant (run.dev.tests)................................................ OK\n",
      "Running ant (coverage.report).............................................. OK\n",
      "Running ant (compile.tests)................................................ "
     ]
    },
    {
     "name": "stdout",
     "output_type": "stream",
     "text": [
      "       Lines total: 234\n",
      "     Lines covered: 66\n",
      "  Conditions total: 184\n",
      "Conditions covered: 4\n",
      "     Line coverage: 28.2%\n",
      "Condition coverage: 2.2%\n"
     ]
    },
    {
     "name": "stderr",
     "output_type": "stream",
     "text": [
      "OK\n",
      "Running ant (coverage.instrument).......................................... OK\n",
      "Running ant (run.dev.tests)................................................ OK\n",
      "Running ant (coverage.report).............................................. OK\n",
      "WARNING: Some tests failed (see /Users/hugoyin/Desktop/UIUC/CS_527/CS_527_Project/Defects4J/Codec_1/Buggy-Version/Codec_1B/failing_tests)!\n",
      "Running ant (compile.tests)................................................ "
     ]
    },
    {
     "name": "stdout",
     "output_type": "stream",
     "text": [
      "       Lines total: 234\n",
      "     Lines covered: 64\n",
      "  Conditions total: 184\n",
      "Conditions covered: 2\n",
      "     Line coverage: 27.4%\n",
      "Condition coverage: 1.1%\n"
     ]
    },
    {
     "name": "stderr",
     "output_type": "stream",
     "text": [
      "OK\n",
      "Running ant (coverage.instrument).......................................... OK\n",
      "Running ant (run.dev.tests)................................................ OK\n",
      "Running ant (coverage.report).............................................. OK\n",
      "Running ant (compile.tests)................................................ "
     ]
    },
    {
     "name": "stdout",
     "output_type": "stream",
     "text": [
      "       Lines total: 234\n",
      "     Lines covered: 0\n",
      "  Conditions total: 184\n",
      "Conditions covered: 0\n",
      "     Line coverage: 0.0%\n",
      "Condition coverage: 0.0%\n"
     ]
    },
    {
     "name": "stderr",
     "output_type": "stream",
     "text": [
      "OK\n",
      "Running ant (coverage.instrument).......................................... OK\n",
      "Running ant (run.dev.tests)................................................ OK\n",
      "Running ant (coverage.report).............................................. OK\n",
      "Running ant (compile.tests)................................................ "
     ]
    },
    {
     "name": "stdout",
     "output_type": "stream",
     "text": [
      "       Lines total: 234\n",
      "     Lines covered: 0\n",
      "  Conditions total: 184\n",
      "Conditions covered: 0\n",
      "     Line coverage: 0.0%\n",
      "Condition coverage: 0.0%\n"
     ]
    },
    {
     "name": "stderr",
     "output_type": "stream",
     "text": [
      "OK\n",
      "Running ant (coverage.instrument).......................................... OK\n",
      "Running ant (run.dev.tests)................................................ OK\n",
      "Running ant (coverage.report).............................................. OK\n",
      "Running ant (compile.tests)................................................ "
     ]
    },
    {
     "name": "stdout",
     "output_type": "stream",
     "text": [
      "       Lines total: 234\n",
      "     Lines covered: 0\n",
      "  Conditions total: 184\n",
      "Conditions covered: 0\n",
      "     Line coverage: 0.0%\n",
      "Condition coverage: 0.0%\n"
     ]
    },
    {
     "name": "stderr",
     "output_type": "stream",
     "text": [
      "OK\n",
      "Running ant (coverage.instrument).......................................... OK\n",
      "Running ant (run.dev.tests)................................................ OK\n",
      "Running ant (coverage.report).............................................. OK\n",
      "Running ant (compile.tests)................................................ "
     ]
    },
    {
     "name": "stdout",
     "output_type": "stream",
     "text": [
      "       Lines total: 234\n",
      "     Lines covered: 0\n",
      "  Conditions total: 184\n",
      "Conditions covered: 0\n",
      "     Line coverage: 0.0%\n",
      "Condition coverage: 0.0%\n"
     ]
    },
    {
     "name": "stderr",
     "output_type": "stream",
     "text": [
      "OK\n",
      "Running ant (coverage.instrument).......................................... OK\n",
      "Running ant (run.dev.tests)................................................ OK\n",
      "Running ant (coverage.report).............................................. OK\n",
      "Running ant (compile.tests)................................................ "
     ]
    },
    {
     "name": "stdout",
     "output_type": "stream",
     "text": [
      "       Lines total: 234\n",
      "     Lines covered: 0\n",
      "  Conditions total: 184\n",
      "Conditions covered: 0\n",
      "     Line coverage: 0.0%\n",
      "Condition coverage: 0.0%\n"
     ]
    },
    {
     "name": "stderr",
     "output_type": "stream",
     "text": [
      "OK\n",
      "Running ant (coverage.instrument).......................................... OK\n",
      "Running ant (run.dev.tests)................................................ OK\n",
      "Running ant (coverage.report).............................................. OK\n",
      "Running ant (compile.tests)................................................ "
     ]
    },
    {
     "name": "stdout",
     "output_type": "stream",
     "text": [
      "       Lines total: 234\n",
      "     Lines covered: 0\n",
      "  Conditions total: 184\n",
      "Conditions covered: 0\n",
      "     Line coverage: 0.0%\n",
      "Condition coverage: 0.0%\n"
     ]
    },
    {
     "name": "stderr",
     "output_type": "stream",
     "text": [
      "OK\n",
      "Running ant (coverage.instrument).......................................... OK\n",
      "Running ant (run.dev.tests)................................................ OK\n",
      "Running ant (coverage.report).............................................. OK\n",
      "Running ant (compile.tests)................................................ "
     ]
    },
    {
     "name": "stdout",
     "output_type": "stream",
     "text": [
      "       Lines total: 234\n",
      "     Lines covered: 0\n",
      "  Conditions total: 184\n",
      "Conditions covered: 0\n",
      "     Line coverage: 0.0%\n",
      "Condition coverage: 0.0%\n"
     ]
    },
    {
     "name": "stderr",
     "output_type": "stream",
     "text": [
      "OK\n",
      "Running ant (coverage.instrument).......................................... OK\n",
      "Running ant (run.dev.tests)................................................ OK\n",
      "Running ant (coverage.report).............................................. OK\n",
      "Running ant (compile.tests)................................................ "
     ]
    },
    {
     "name": "stdout",
     "output_type": "stream",
     "text": [
      "       Lines total: 234\n",
      "     Lines covered: 0\n",
      "  Conditions total: 184\n",
      "Conditions covered: 0\n",
      "     Line coverage: 0.0%\n",
      "Condition coverage: 0.0%\n"
     ]
    },
    {
     "name": "stderr",
     "output_type": "stream",
     "text": [
      "OK\n",
      "Running ant (coverage.instrument).......................................... OK\n",
      "Running ant (run.dev.tests)................................................ OK\n",
      "Running ant (coverage.report).............................................. OK\n",
      "Running ant (compile.tests)................................................ "
     ]
    },
    {
     "name": "stdout",
     "output_type": "stream",
     "text": [
      "       Lines total: 234\n",
      "     Lines covered: 0\n",
      "  Conditions total: 184\n",
      "Conditions covered: 0\n",
      "     Line coverage: 0.0%\n",
      "Condition coverage: 0.0%\n"
     ]
    },
    {
     "name": "stderr",
     "output_type": "stream",
     "text": [
      "OK\n",
      "Running ant (coverage.instrument).......................................... OK\n",
      "Running ant (run.dev.tests)................................................ OK\n",
      "Running ant (coverage.report).............................................. OK\n",
      "Running ant (compile.tests)................................................ "
     ]
    },
    {
     "name": "stdout",
     "output_type": "stream",
     "text": [
      "       Lines total: 234\n",
      "     Lines covered: 0\n",
      "  Conditions total: 184\n",
      "Conditions covered: 0\n",
      "     Line coverage: 0.0%\n",
      "Condition coverage: 0.0%\n"
     ]
    },
    {
     "name": "stderr",
     "output_type": "stream",
     "text": [
      "OK\n",
      "Running ant (coverage.instrument).......................................... OK\n",
      "Running ant (run.dev.tests)................................................ OK\n",
      "Running ant (coverage.report).............................................. OK\n",
      "Running ant (compile.tests)................................................ "
     ]
    },
    {
     "name": "stdout",
     "output_type": "stream",
     "text": [
      "       Lines total: 234\n",
      "     Lines covered: 5\n",
      "  Conditions total: 184\n",
      "Conditions covered: 1\n",
      "     Line coverage: 2.1%\n",
      "Condition coverage: 0.5%\n"
     ]
    },
    {
     "name": "stderr",
     "output_type": "stream",
     "text": [
      "OK\n",
      "Running ant (coverage.instrument).......................................... OK\n",
      "Running ant (run.dev.tests)................................................ OK\n",
      "Running ant (coverage.report).............................................. OK\n",
      "Running ant (compile.tests)................................................ "
     ]
    },
    {
     "name": "stdout",
     "output_type": "stream",
     "text": [
      "       Lines total: 234\n",
      "     Lines covered: 7\n",
      "  Conditions total: 184\n",
      "Conditions covered: 1\n",
      "     Line coverage: 3.0%\n",
      "Condition coverage: 0.5%\n"
     ]
    },
    {
     "name": "stderr",
     "output_type": "stream",
     "text": [
      "OK\n",
      "Running ant (coverage.instrument).......................................... OK\n",
      "Running ant (run.dev.tests)................................................ OK\n",
      "Running ant (coverage.report).............................................. OK\n",
      "Running ant (compile.tests)................................................ "
     ]
    },
    {
     "name": "stdout",
     "output_type": "stream",
     "text": [
      "       Lines total: 234\n",
      "     Lines covered: 10\n",
      "  Conditions total: 184\n",
      "Conditions covered: 5\n",
      "     Line coverage: 4.3%\n",
      "Condition coverage: 2.7%\n"
     ]
    },
    {
     "name": "stderr",
     "output_type": "stream",
     "text": [
      "OK\n",
      "Running ant (coverage.instrument).......................................... OK\n",
      "Running ant (run.dev.tests)................................................ OK\n",
      "Running ant (coverage.report).............................................. OK\n",
      "WARNING: Some tests failed (see /Users/hugoyin/Desktop/UIUC/CS_527/CS_527_Project/Defects4J/Codec_1/Buggy-Version/Codec_1B/failing_tests)!\n",
      "Running ant (compile.tests)................................................ "
     ]
    },
    {
     "name": "stdout",
     "output_type": "stream",
     "text": [
      "       Lines total: 234\n",
      "     Lines covered: 8\n",
      "  Conditions total: 184\n",
      "Conditions covered: 3\n",
      "     Line coverage: 3.4%\n",
      "Condition coverage: 1.6%\n"
     ]
    },
    {
     "name": "stderr",
     "output_type": "stream",
     "text": [
      "OK\n",
      "Running ant (coverage.instrument).......................................... OK\n",
      "Running ant (run.dev.tests)................................................ OK\n",
      "Running ant (coverage.report).............................................. OK\n",
      "Running ant (compile.tests)................................................ "
     ]
    },
    {
     "name": "stdout",
     "output_type": "stream",
     "text": [
      "       Lines total: 234\n",
      "     Lines covered: 67\n",
      "  Conditions total: 184\n",
      "Conditions covered: 64\n",
      "     Line coverage: 28.6%\n",
      "Condition coverage: 34.8%\n"
     ]
    },
    {
     "name": "stderr",
     "output_type": "stream",
     "text": [
      "OK\n",
      "Running ant (coverage.instrument).......................................... OK\n",
      "Running ant (run.dev.tests)................................................ OK\n",
      "Running ant (coverage.report).............................................. OK\n",
      "Running ant (compile.tests)................................................ "
     ]
    },
    {
     "name": "stdout",
     "output_type": "stream",
     "text": [
      "       Lines total: 234\n",
      "     Lines covered: 52\n",
      "  Conditions total: 184\n",
      "Conditions covered: 39\n",
      "     Line coverage: 22.2%\n",
      "Condition coverage: 21.2%\n"
     ]
    },
    {
     "name": "stderr",
     "output_type": "stream",
     "text": [
      "OK\n",
      "Running ant (coverage.instrument).......................................... OK\n",
      "Running ant (run.dev.tests)................................................ OK\n",
      "Running ant (coverage.report).............................................. OK\n",
      "Running ant (compile.tests)................................................ "
     ]
    },
    {
     "name": "stdout",
     "output_type": "stream",
     "text": [
      "       Lines total: 234\n",
      "     Lines covered: 58\n",
      "  Conditions total: 184\n",
      "Conditions covered: 47\n",
      "     Line coverage: 24.8%\n",
      "Condition coverage: 25.5%\n"
     ]
    },
    {
     "name": "stderr",
     "output_type": "stream",
     "text": [
      "OK\n",
      "Running ant (coverage.instrument).......................................... OK\n",
      "Running ant (run.dev.tests)................................................ OK\n",
      "Running ant (coverage.report).............................................. OK\n",
      "Running ant (compile.tests)................................................ "
     ]
    },
    {
     "name": "stdout",
     "output_type": "stream",
     "text": [
      "       Lines total: 234\n",
      "     Lines covered: 32\n",
      "  Conditions total: 184\n",
      "Conditions covered: 23\n",
      "     Line coverage: 13.7%\n",
      "Condition coverage: 12.5%\n"
     ]
    },
    {
     "name": "stderr",
     "output_type": "stream",
     "text": [
      "OK\n",
      "Running ant (coverage.instrument).......................................... OK\n",
      "Running ant (run.dev.tests)................................................ OK\n",
      "Running ant (coverage.report).............................................. OK\n",
      "Running ant (compile.tests)................................................ "
     ]
    },
    {
     "name": "stdout",
     "output_type": "stream",
     "text": [
      "       Lines total: 234\n",
      "     Lines covered: 54\n",
      "  Conditions total: 184\n",
      "Conditions covered: 42\n",
      "     Line coverage: 23.1%\n",
      "Condition coverage: 22.8%\n"
     ]
    },
    {
     "name": "stderr",
     "output_type": "stream",
     "text": [
      "OK\n",
      "Running ant (coverage.instrument).......................................... OK\n",
      "Running ant (run.dev.tests)................................................ OK\n",
      "Running ant (coverage.report).............................................. OK\n",
      "Running ant (compile.tests)................................................ "
     ]
    },
    {
     "name": "stdout",
     "output_type": "stream",
     "text": [
      "       Lines total: 234\n",
      "     Lines covered: 66\n",
      "  Conditions total: 184\n",
      "Conditions covered: 56\n",
      "     Line coverage: 28.2%\n",
      "Condition coverage: 30.4%\n"
     ]
    },
    {
     "name": "stderr",
     "output_type": "stream",
     "text": [
      "OK\n",
      "Running ant (coverage.instrument).......................................... OK\n",
      "Running ant (run.dev.tests)................................................ OK\n",
      "Running ant (coverage.report).............................................. OK\n",
      "Running ant (compile.tests)................................................ "
     ]
    },
    {
     "name": "stdout",
     "output_type": "stream",
     "text": [
      "       Lines total: 234\n",
      "     Lines covered: 47\n",
      "  Conditions total: 184\n",
      "Conditions covered: 33\n",
      "     Line coverage: 20.1%\n",
      "Condition coverage: 17.9%\n"
     ]
    },
    {
     "name": "stderr",
     "output_type": "stream",
     "text": [
      "OK\n",
      "Running ant (coverage.instrument).......................................... OK\n",
      "Running ant (run.dev.tests)................................................ OK\n",
      "Running ant (coverage.report).............................................. OK\n",
      "Running ant (compile.tests)................................................ "
     ]
    },
    {
     "name": "stdout",
     "output_type": "stream",
     "text": [
      "       Lines total: 234\n",
      "     Lines covered: 50\n",
      "  Conditions total: 184\n",
      "Conditions covered: 39\n",
      "     Line coverage: 21.4%\n",
      "Condition coverage: 21.2%\n"
     ]
    },
    {
     "name": "stderr",
     "output_type": "stream",
     "text": [
      "OK\n",
      "Running ant (coverage.instrument).......................................... OK\n",
      "Running ant (run.dev.tests)................................................ OK\n",
      "Running ant (coverage.report).............................................. OK\n",
      "Running ant (compile.tests)................................................ "
     ]
    },
    {
     "name": "stdout",
     "output_type": "stream",
     "text": [
      "       Lines total: 234\n",
      "     Lines covered: 57\n",
      "  Conditions total: 184\n",
      "Conditions covered: 46\n",
      "     Line coverage: 24.4%\n",
      "Condition coverage: 25.0%\n"
     ]
    },
    {
     "name": "stderr",
     "output_type": "stream",
     "text": [
      "OK\n",
      "Running ant (coverage.instrument).......................................... OK\n",
      "Running ant (run.dev.tests)................................................ OK\n",
      "Running ant (coverage.report).............................................. OK\n",
      "Running ant (compile.tests)................................................ "
     ]
    },
    {
     "name": "stdout",
     "output_type": "stream",
     "text": [
      "       Lines total: 234\n",
      "     Lines covered: 55\n",
      "  Conditions total: 184\n",
      "Conditions covered: 39\n",
      "     Line coverage: 23.5%\n",
      "Condition coverage: 21.2%\n"
     ]
    },
    {
     "name": "stderr",
     "output_type": "stream",
     "text": [
      "OK\n",
      "Running ant (coverage.instrument).......................................... OK\n",
      "Running ant (run.dev.tests)................................................ OK\n",
      "Running ant (coverage.report).............................................. OK\n",
      "Running ant (compile.tests)................................................ "
     ]
    },
    {
     "name": "stdout",
     "output_type": "stream",
     "text": [
      "       Lines total: 234\n",
      "     Lines covered: 43\n",
      "  Conditions total: 184\n",
      "Conditions covered: 29\n",
      "     Line coverage: 18.4%\n",
      "Condition coverage: 15.8%\n"
     ]
    },
    {
     "name": "stderr",
     "output_type": "stream",
     "text": [
      "OK\n",
      "Running ant (coverage.instrument).......................................... OK\n",
      "Running ant (run.dev.tests)................................................ OK\n",
      "Running ant (coverage.report).............................................. OK\n",
      "Running ant (compile.tests)................................................ "
     ]
    },
    {
     "name": "stdout",
     "output_type": "stream",
     "text": [
      "       Lines total: 234\n",
      "     Lines covered: 55\n",
      "  Conditions total: 184\n",
      "Conditions covered: 44\n",
      "     Line coverage: 23.5%\n",
      "Condition coverage: 23.9%\n"
     ]
    },
    {
     "name": "stderr",
     "output_type": "stream",
     "text": [
      "OK\n",
      "Running ant (coverage.instrument).......................................... OK\n",
      "Running ant (run.dev.tests)................................................ OK\n",
      "Running ant (coverage.report).............................................. OK\n",
      "Running ant (compile.tests)................................................ "
     ]
    },
    {
     "name": "stdout",
     "output_type": "stream",
     "text": [
      "       Lines total: 234\n",
      "     Lines covered: 50\n",
      "  Conditions total: 184\n",
      "Conditions covered: 37\n",
      "     Line coverage: 21.4%\n",
      "Condition coverage: 20.1%\n"
     ]
    },
    {
     "name": "stderr",
     "output_type": "stream",
     "text": [
      "OK\n",
      "Running ant (coverage.instrument).......................................... OK\n",
      "Running ant (run.dev.tests)................................................ OK\n",
      "Running ant (coverage.report).............................................. OK\n",
      "Running ant (compile.tests)................................................ "
     ]
    },
    {
     "name": "stdout",
     "output_type": "stream",
     "text": [
      "       Lines total: 234\n",
      "     Lines covered: 36\n",
      "  Conditions total: 184\n",
      "Conditions covered: 21\n",
      "     Line coverage: 15.4%\n",
      "Condition coverage: 11.4%\n"
     ]
    },
    {
     "name": "stderr",
     "output_type": "stream",
     "text": [
      "OK\n",
      "Running ant (coverage.instrument).......................................... OK\n",
      "Running ant (run.dev.tests)................................................ OK\n",
      "Running ant (coverage.report).............................................. OK\n",
      "Running ant (compile.tests)................................................ "
     ]
    },
    {
     "name": "stdout",
     "output_type": "stream",
     "text": [
      "       Lines total: 234\n",
      "     Lines covered: 60\n",
      "  Conditions total: 184\n",
      "Conditions covered: 55\n",
      "     Line coverage: 25.6%\n",
      "Condition coverage: 29.9%\n"
     ]
    },
    {
     "name": "stderr",
     "output_type": "stream",
     "text": [
      "OK\n",
      "Running ant (coverage.instrument).......................................... OK\n",
      "Running ant (run.dev.tests)................................................ OK\n",
      "Running ant (coverage.report).............................................. OK\n",
      "Running ant (compile.tests)................................................ "
     ]
    },
    {
     "name": "stdout",
     "output_type": "stream",
     "text": [
      "       Lines total: 234\n",
      "     Lines covered: 88\n",
      "  Conditions total: 184\n",
      "Conditions covered: 83\n",
      "     Line coverage: 37.6%\n",
      "Condition coverage: 45.1%\n"
     ]
    },
    {
     "name": "stderr",
     "output_type": "stream",
     "text": [
      "OK\n",
      "Running ant (coverage.instrument).......................................... OK\n",
      "Running ant (run.dev.tests)................................................ OK\n",
      "Running ant (coverage.report).............................................. OK\n",
      "Running ant (compile.tests)................................................ "
     ]
    },
    {
     "name": "stdout",
     "output_type": "stream",
     "text": [
      "       Lines total: 234\n",
      "     Lines covered: 60\n",
      "  Conditions total: 184\n",
      "Conditions covered: 49\n",
      "     Line coverage: 25.6%\n",
      "Condition coverage: 26.6%\n"
     ]
    },
    {
     "name": "stderr",
     "output_type": "stream",
     "text": [
      "OK\n",
      "Running ant (coverage.instrument).......................................... OK\n",
      "Running ant (run.dev.tests)................................................ OK\n",
      "Running ant (coverage.report).............................................. OK\n",
      "Running ant (compile.tests)................................................ "
     ]
    },
    {
     "name": "stdout",
     "output_type": "stream",
     "text": [
      "       Lines total: 234\n",
      "     Lines covered: 59\n",
      "  Conditions total: 184\n",
      "Conditions covered: 48\n",
      "     Line coverage: 25.2%\n",
      "Condition coverage: 26.1%\n"
     ]
    },
    {
     "name": "stderr",
     "output_type": "stream",
     "text": [
      "OK\n",
      "Running ant (coverage.instrument).......................................... OK\n",
      "Running ant (run.dev.tests)................................................ OK\n",
      "Running ant (coverage.report).............................................. OK\n",
      "Running ant (compile.tests)................................................ "
     ]
    },
    {
     "name": "stdout",
     "output_type": "stream",
     "text": [
      "       Lines total: 234\n",
      "     Lines covered: 34\n",
      "  Conditions total: 184\n",
      "Conditions covered: 20\n",
      "     Line coverage: 14.5%\n",
      "Condition coverage: 10.9%\n"
     ]
    },
    {
     "name": "stderr",
     "output_type": "stream",
     "text": [
      "OK\n",
      "Running ant (coverage.instrument).......................................... OK\n",
      "Running ant (run.dev.tests)................................................ OK\n",
      "Running ant (coverage.report).............................................. OK\n",
      "Running ant (compile.tests)................................................ "
     ]
    },
    {
     "name": "stdout",
     "output_type": "stream",
     "text": [
      "       Lines total: 234\n",
      "     Lines covered: 48\n",
      "  Conditions total: 184\n",
      "Conditions covered: 32\n",
      "     Line coverage: 20.5%\n",
      "Condition coverage: 17.4%\n"
     ]
    },
    {
     "name": "stderr",
     "output_type": "stream",
     "text": [
      "OK\n",
      "Running ant (coverage.instrument).......................................... OK\n",
      "Running ant (run.dev.tests)................................................ OK\n",
      "Running ant (coverage.report).............................................. OK\n",
      "Running ant (compile.tests)................................................ "
     ]
    },
    {
     "name": "stdout",
     "output_type": "stream",
     "text": [
      "       Lines total: 234\n",
      "     Lines covered: 33\n",
      "  Conditions total: 184\n",
      "Conditions covered: 20\n",
      "     Line coverage: 14.1%\n",
      "Condition coverage: 10.9%\n"
     ]
    },
    {
     "name": "stderr",
     "output_type": "stream",
     "text": [
      "OK\n",
      "Running ant (coverage.instrument).......................................... OK\n",
      "Running ant (run.dev.tests)................................................ OK\n",
      "Running ant (coverage.report).............................................. OK\n",
      "Running ant (compile.tests)................................................ "
     ]
    },
    {
     "name": "stdout",
     "output_type": "stream",
     "text": [
      "       Lines total: 234\n",
      "     Lines covered: 60\n",
      "  Conditions total: 184\n",
      "Conditions covered: 48\n",
      "     Line coverage: 25.6%\n",
      "Condition coverage: 26.1%\n"
     ]
    },
    {
     "name": "stderr",
     "output_type": "stream",
     "text": [
      "OK\n",
      "Running ant (coverage.instrument).......................................... OK\n",
      "Running ant (run.dev.tests)................................................ OK\n",
      "Running ant (coverage.report).............................................. OK\n",
      "Running ant (compile.tests)................................................ "
     ]
    },
    {
     "name": "stdout",
     "output_type": "stream",
     "text": [
      "       Lines total: 234\n",
      "     Lines covered: 33\n",
      "  Conditions total: 184\n",
      "Conditions covered: 20\n",
      "     Line coverage: 14.1%\n",
      "Condition coverage: 10.9%\n"
     ]
    },
    {
     "name": "stderr",
     "output_type": "stream",
     "text": [
      "OK\n",
      "Running ant (coverage.instrument).......................................... OK\n",
      "Running ant (run.dev.tests)................................................ OK\n",
      "Running ant (coverage.report).............................................. OK\n",
      "Running ant (compile.tests)................................................ "
     ]
    },
    {
     "name": "stdout",
     "output_type": "stream",
     "text": [
      "       Lines total: 234\n",
      "     Lines covered: 68\n",
      "  Conditions total: 184\n",
      "Conditions covered: 55\n",
      "     Line coverage: 29.1%\n",
      "Condition coverage: 29.9%\n"
     ]
    },
    {
     "name": "stderr",
     "output_type": "stream",
     "text": [
      "OK\n",
      "Running ant (coverage.instrument).......................................... OK\n",
      "Running ant (run.dev.tests)................................................ OK\n",
      "Running ant (coverage.report).............................................. OK\n",
      "Running ant (compile.tests)................................................ "
     ]
    },
    {
     "name": "stdout",
     "output_type": "stream",
     "text": [
      "       Lines total: 234\n",
      "     Lines covered: 51\n",
      "  Conditions total: 184\n",
      "Conditions covered: 46\n",
      "     Line coverage: 21.8%\n",
      "Condition coverage: 25.0%\n"
     ]
    },
    {
     "name": "stderr",
     "output_type": "stream",
     "text": [
      "OK\n",
      "Running ant (coverage.instrument).......................................... OK\n",
      "Running ant (run.dev.tests)................................................ OK\n",
      "Running ant (coverage.report).............................................. OK\n",
      "Running ant (compile.tests)................................................ "
     ]
    },
    {
     "name": "stdout",
     "output_type": "stream",
     "text": [
      "       Lines total: 234\n",
      "     Lines covered: 36\n",
      "  Conditions total: 184\n",
      "Conditions covered: 28\n",
      "     Line coverage: 15.4%\n",
      "Condition coverage: 15.2%\n"
     ]
    },
    {
     "name": "stderr",
     "output_type": "stream",
     "text": [
      "OK\n",
      "Running ant (coverage.instrument).......................................... OK\n",
      "Running ant (run.dev.tests)................................................ OK\n",
      "Running ant (coverage.report).............................................. OK\n",
      "Running ant (compile.tests)................................................ "
     ]
    },
    {
     "name": "stdout",
     "output_type": "stream",
     "text": [
      "       Lines total: 234\n",
      "     Lines covered: 62\n",
      "  Conditions total: 184\n",
      "Conditions covered: 50\n",
      "     Line coverage: 26.5%\n",
      "Condition coverage: 27.2%\n"
     ]
    },
    {
     "name": "stderr",
     "output_type": "stream",
     "text": [
      "OK\n",
      "Running ant (coverage.instrument).......................................... OK\n",
      "Running ant (run.dev.tests)................................................ OK\n",
      "Running ant (coverage.report).............................................. OK\n",
      "Running ant (compile.tests)................................................ "
     ]
    },
    {
     "name": "stdout",
     "output_type": "stream",
     "text": [
      "       Lines total: 234\n",
      "     Lines covered: 43\n",
      "  Conditions total: 184\n",
      "Conditions covered: 27\n",
      "     Line coverage: 18.4%\n",
      "Condition coverage: 14.7%\n"
     ]
    },
    {
     "name": "stderr",
     "output_type": "stream",
     "text": [
      "OK\n",
      "Running ant (coverage.instrument).......................................... OK\n",
      "Running ant (run.dev.tests)................................................ OK\n",
      "Running ant (coverage.report).............................................. OK\n",
      "Running ant (compile.tests)................................................ "
     ]
    },
    {
     "name": "stdout",
     "output_type": "stream",
     "text": [
      "       Lines total: 234\n",
      "     Lines covered: 45\n",
      "  Conditions total: 184\n",
      "Conditions covered: 38\n",
      "     Line coverage: 19.2%\n",
      "Condition coverage: 20.7%\n"
     ]
    },
    {
     "name": "stderr",
     "output_type": "stream",
     "text": [
      "OK\n",
      "Running ant (coverage.instrument).......................................... OK\n",
      "Running ant (run.dev.tests)................................................ OK\n",
      "Running ant (coverage.report).............................................. OK\n",
      "Running ant (compile.tests)................................................ "
     ]
    },
    {
     "name": "stdout",
     "output_type": "stream",
     "text": [
      "       Lines total: 234\n",
      "     Lines covered: 32\n",
      "  Conditions total: 184\n",
      "Conditions covered: 20\n",
      "     Line coverage: 13.7%\n",
      "Condition coverage: 10.9%\n"
     ]
    },
    {
     "name": "stderr",
     "output_type": "stream",
     "text": [
      "OK\n",
      "Running ant (coverage.instrument).......................................... OK\n",
      "Running ant (run.dev.tests)................................................ OK\n",
      "Running ant (coverage.report).............................................. OK\n",
      "Running ant (compile.tests)................................................ "
     ]
    },
    {
     "name": "stdout",
     "output_type": "stream",
     "text": [
      "       Lines total: 234\n",
      "     Lines covered: 5\n",
      "  Conditions total: 184\n",
      "Conditions covered: 1\n",
      "     Line coverage: 2.1%\n",
      "Condition coverage: 0.5%\n"
     ]
    },
    {
     "name": "stderr",
     "output_type": "stream",
     "text": [
      "OK\n",
      "Running ant (coverage.instrument).......................................... OK\n",
      "Running ant (run.dev.tests)................................................ OK\n",
      "Running ant (coverage.report).............................................. OK\n",
      "Running ant (compile.tests)................................................ "
     ]
    },
    {
     "name": "stdout",
     "output_type": "stream",
     "text": [
      "       Lines total: 234\n",
      "     Lines covered: 7\n",
      "  Conditions total: 184\n",
      "Conditions covered: 1\n",
      "     Line coverage: 3.0%\n",
      "Condition coverage: 0.5%\n"
     ]
    },
    {
     "name": "stderr",
     "output_type": "stream",
     "text": [
      "OK\n",
      "Running ant (coverage.instrument).......................................... OK\n",
      "Running ant (run.dev.tests)................................................ OK\n",
      "Running ant (coverage.report).............................................. OK\n",
      "Running ant (compile.tests)................................................ "
     ]
    },
    {
     "name": "stdout",
     "output_type": "stream",
     "text": [
      "       Lines total: 234\n",
      "     Lines covered: 10\n",
      "  Conditions total: 184\n",
      "Conditions covered: 5\n",
      "     Line coverage: 4.3%\n",
      "Condition coverage: 2.7%\n"
     ]
    },
    {
     "name": "stderr",
     "output_type": "stream",
     "text": [
      "OK\n",
      "Running ant (coverage.instrument).......................................... OK\n",
      "Running ant (run.dev.tests)................................................ OK\n",
      "Running ant (coverage.report).............................................. OK\n",
      "WARNING: Some tests failed (see /Users/hugoyin/Desktop/UIUC/CS_527/CS_527_Project/Defects4J/Codec_1/Buggy-Version/Codec_1B/failing_tests)!\n",
      "Running ant (compile.tests)................................................ "
     ]
    },
    {
     "name": "stdout",
     "output_type": "stream",
     "text": [
      "       Lines total: 234\n",
      "     Lines covered: 8\n",
      "  Conditions total: 184\n",
      "Conditions covered: 3\n",
      "     Line coverage: 3.4%\n",
      "Condition coverage: 1.6%\n"
     ]
    },
    {
     "name": "stderr",
     "output_type": "stream",
     "text": [
      "OK\n",
      "Running ant (coverage.instrument).......................................... OK\n",
      "Running ant (run.dev.tests)................................................ OK\n",
      "Running ant (coverage.report).............................................. OK\n",
      "Running ant (compile.tests)................................................ "
     ]
    },
    {
     "name": "stdout",
     "output_type": "stream",
     "text": [
      "       Lines total: 234\n",
      "     Lines covered: 20\n",
      "  Conditions total: 184\n",
      "Conditions covered: 16\n",
      "     Line coverage: 8.5%\n",
      "Condition coverage: 8.7%\n"
     ]
    },
    {
     "name": "stderr",
     "output_type": "stream",
     "text": [
      "OK\n",
      "Running ant (coverage.instrument).......................................... OK\n",
      "Running ant (run.dev.tests)................................................ OK\n",
      "Running ant (coverage.report).............................................. OK\n",
      "Running ant (compile.tests)................................................ "
     ]
    },
    {
     "name": "stdout",
     "output_type": "stream",
     "text": [
      "       Lines total: 234\n",
      "     Lines covered: 0\n",
      "  Conditions total: 184\n",
      "Conditions covered: 0\n",
      "     Line coverage: 0.0%\n",
      "Condition coverage: 0.0%\n"
     ]
    },
    {
     "name": "stderr",
     "output_type": "stream",
     "text": [
      "OK\n",
      "Running ant (coverage.instrument).......................................... OK\n",
      "Running ant (run.dev.tests)................................................ OK\n",
      "Running ant (coverage.report).............................................. OK\n",
      "Running ant (compile.tests)................................................ "
     ]
    },
    {
     "name": "stdout",
     "output_type": "stream",
     "text": [
      "       Lines total: 234\n",
      "     Lines covered: 9\n",
      "  Conditions total: 184\n",
      "Conditions covered: 6\n",
      "     Line coverage: 3.8%\n",
      "Condition coverage: 3.3%\n"
     ]
    },
    {
     "name": "stderr",
     "output_type": "stream",
     "text": [
      "OK\n",
      "Running ant (coverage.instrument).......................................... OK\n",
      "Running ant (run.dev.tests)................................................ OK\n",
      "Running ant (coverage.report).............................................. OK\n",
      "Running ant (compile.tests)................................................ "
     ]
    },
    {
     "name": "stdout",
     "output_type": "stream",
     "text": [
      "       Lines total: 234\n",
      "     Lines covered: 0\n",
      "  Conditions total: 184\n",
      "Conditions covered: 0\n",
      "     Line coverage: 0.0%\n",
      "Condition coverage: 0.0%\n"
     ]
    },
    {
     "name": "stderr",
     "output_type": "stream",
     "text": [
      "OK\n",
      "Running ant (coverage.instrument).......................................... OK\n",
      "Running ant (run.dev.tests)................................................ OK\n",
      "Running ant (coverage.report).............................................. OK\n",
      "Running ant (compile.tests)................................................ "
     ]
    },
    {
     "name": "stdout",
     "output_type": "stream",
     "text": [
      "       Lines total: 234\n",
      "     Lines covered: 0\n",
      "  Conditions total: 184\n",
      "Conditions covered: 0\n",
      "     Line coverage: 0.0%\n",
      "Condition coverage: 0.0%\n"
     ]
    },
    {
     "name": "stderr",
     "output_type": "stream",
     "text": [
      "OK\n",
      "Running ant (coverage.instrument).......................................... OK\n",
      "Running ant (run.dev.tests)................................................ OK\n",
      "Running ant (coverage.report).............................................. OK\n",
      "Running ant (compile.tests)................................................ "
     ]
    },
    {
     "name": "stdout",
     "output_type": "stream",
     "text": [
      "       Lines total: 234\n",
      "     Lines covered: 9\n",
      "  Conditions total: 184\n",
      "Conditions covered: 7\n",
      "     Line coverage: 3.8%\n",
      "Condition coverage: 3.8%\n"
     ]
    },
    {
     "name": "stderr",
     "output_type": "stream",
     "text": [
      "OK\n",
      "Running ant (coverage.instrument).......................................... OK\n",
      "Running ant (run.dev.tests)................................................ OK\n",
      "Running ant (coverage.report).............................................. OK\n",
      "WARNING: Some tests failed (see /Users/hugoyin/Desktop/UIUC/CS_527/CS_527_Project/Defects4J/Codec_1/Buggy-Version/Codec_1B/failing_tests)!\n",
      "Running ant (compile.tests)................................................ "
     ]
    },
    {
     "name": "stdout",
     "output_type": "stream",
     "text": [
      "       Lines total: 234\n",
      "     Lines covered: 9\n",
      "  Conditions total: 184\n",
      "Conditions covered: 6\n",
      "     Line coverage: 3.8%\n",
      "Condition coverage: 3.3%\n"
     ]
    },
    {
     "name": "stderr",
     "output_type": "stream",
     "text": [
      "OK\n",
      "Running ant (coverage.instrument).......................................... OK\n",
      "Running ant (run.dev.tests)................................................ OK\n",
      "Running ant (coverage.report).............................................. OK\n",
      "Running ant (compile.tests)................................................ "
     ]
    },
    {
     "name": "stdout",
     "output_type": "stream",
     "text": [
      "       Lines total: 234\n",
      "     Lines covered: 9\n",
      "  Conditions total: 184\n",
      "Conditions covered: 7\n",
      "     Line coverage: 3.8%\n",
      "Condition coverage: 3.8%\n"
     ]
    },
    {
     "name": "stderr",
     "output_type": "stream",
     "text": [
      "OK\n",
      "Running ant (coverage.instrument).......................................... OK\n",
      "Running ant (run.dev.tests)................................................ OK\n",
      "Running ant (coverage.report).............................................. OK\n",
      "Running ant (compile.tests)................................................ "
     ]
    },
    {
     "name": "stdout",
     "output_type": "stream",
     "text": [
      "       Lines total: 234\n",
      "     Lines covered: 9\n",
      "  Conditions total: 184\n",
      "Conditions covered: 6\n",
      "     Line coverage: 3.8%\n",
      "Condition coverage: 3.3%\n"
     ]
    },
    {
     "name": "stderr",
     "output_type": "stream",
     "text": [
      "OK\n",
      "Running ant (coverage.instrument).......................................... OK\n",
      "Running ant (run.dev.tests)................................................ OK\n",
      "Running ant (coverage.report).............................................. OK\n",
      "Running ant (compile.tests)................................................ "
     ]
    },
    {
     "name": "stdout",
     "output_type": "stream",
     "text": [
      "       Lines total: 234\n",
      "     Lines covered: 9\n",
      "  Conditions total: 184\n",
      "Conditions covered: 6\n",
      "     Line coverage: 3.8%\n",
      "Condition coverage: 3.3%\n"
     ]
    },
    {
     "name": "stderr",
     "output_type": "stream",
     "text": [
      "OK\n",
      "Running ant (coverage.instrument).......................................... OK\n",
      "Running ant (run.dev.tests)................................................ OK\n",
      "Running ant (coverage.report).............................................. OK\n",
      "Running ant (compile.tests)................................................ "
     ]
    },
    {
     "name": "stdout",
     "output_type": "stream",
     "text": [
      "       Lines total: 234\n",
      "     Lines covered: 9\n",
      "  Conditions total: 184\n",
      "Conditions covered: 6\n",
      "     Line coverage: 3.8%\n",
      "Condition coverage: 3.3%\n"
     ]
    },
    {
     "name": "stderr",
     "output_type": "stream",
     "text": [
      "OK\n",
      "Running ant (coverage.instrument).......................................... OK\n",
      "Running ant (run.dev.tests)................................................ OK\n",
      "Running ant (coverage.report).............................................. OK\n",
      "Running ant (compile.tests)................................................ "
     ]
    },
    {
     "name": "stdout",
     "output_type": "stream",
     "text": [
      "       Lines total: 234\n",
      "     Lines covered: 9\n",
      "  Conditions total: 184\n",
      "Conditions covered: 6\n",
      "     Line coverage: 3.8%\n",
      "Condition coverage: 3.3%\n"
     ]
    },
    {
     "name": "stderr",
     "output_type": "stream",
     "text": [
      "OK\n",
      "Running ant (coverage.instrument).......................................... OK\n",
      "Running ant (run.dev.tests)................................................ OK\n",
      "Running ant (coverage.report).............................................. OK\n",
      "Running ant (compile.tests)................................................ "
     ]
    },
    {
     "name": "stdout",
     "output_type": "stream",
     "text": [
      "       Lines total: 234\n",
      "     Lines covered: 9\n",
      "  Conditions total: 184\n",
      "Conditions covered: 6\n",
      "     Line coverage: 3.8%\n",
      "Condition coverage: 3.3%\n"
     ]
    },
    {
     "name": "stderr",
     "output_type": "stream",
     "text": [
      "OK\n",
      "Running ant (coverage.instrument).......................................... OK\n",
      "Running ant (run.dev.tests)................................................ OK\n",
      "Running ant (coverage.report).............................................. OK\n",
      "Running ant (compile.tests)................................................ "
     ]
    },
    {
     "name": "stdout",
     "output_type": "stream",
     "text": [
      "       Lines total: 234\n",
      "     Lines covered: 9\n",
      "  Conditions total: 184\n",
      "Conditions covered: 6\n",
      "     Line coverage: 3.8%\n",
      "Condition coverage: 3.3%\n"
     ]
    },
    {
     "name": "stderr",
     "output_type": "stream",
     "text": [
      "OK\n",
      "Running ant (coverage.instrument).......................................... OK\n",
      "Running ant (run.dev.tests)................................................ OK\n",
      "Running ant (coverage.report).............................................. OK\n",
      "Running ant (compile.tests)................................................ "
     ]
    },
    {
     "name": "stdout",
     "output_type": "stream",
     "text": [
      "       Lines total: 234\n",
      "     Lines covered: 9\n",
      "  Conditions total: 184\n",
      "Conditions covered: 6\n",
      "     Line coverage: 3.8%\n",
      "Condition coverage: 3.3%\n"
     ]
    },
    {
     "name": "stderr",
     "output_type": "stream",
     "text": [
      "OK\n",
      "Running ant (coverage.instrument).......................................... OK\n",
      "Running ant (run.dev.tests)................................................ OK\n",
      "Running ant (coverage.report).............................................. OK\n",
      "Running ant (compile.tests)................................................ "
     ]
    },
    {
     "name": "stdout",
     "output_type": "stream",
     "text": [
      "       Lines total: 234\n",
      "     Lines covered: 9\n",
      "  Conditions total: 184\n",
      "Conditions covered: 6\n",
      "     Line coverage: 3.8%\n",
      "Condition coverage: 3.3%\n"
     ]
    },
    {
     "name": "stderr",
     "output_type": "stream",
     "text": [
      "OK\n",
      "Running ant (coverage.instrument).......................................... OK\n",
      "Running ant (run.dev.tests)................................................ OK\n",
      "Running ant (coverage.report).............................................. OK\n",
      "Running ant (compile.tests)................................................ "
     ]
    },
    {
     "name": "stdout",
     "output_type": "stream",
     "text": [
      "       Lines total: 234\n",
      "     Lines covered: 9\n",
      "  Conditions total: 184\n",
      "Conditions covered: 6\n",
      "     Line coverage: 3.8%\n",
      "Condition coverage: 3.3%\n"
     ]
    },
    {
     "name": "stderr",
     "output_type": "stream",
     "text": [
      "OK\n",
      "Running ant (coverage.instrument).......................................... OK\n",
      "Running ant (run.dev.tests)................................................ OK\n",
      "Running ant (coverage.report).............................................. OK\n",
      "Running ant (compile.tests)................................................ "
     ]
    },
    {
     "name": "stdout",
     "output_type": "stream",
     "text": [
      "       Lines total: 234\n",
      "     Lines covered: 9\n",
      "  Conditions total: 184\n",
      "Conditions covered: 6\n",
      "     Line coverage: 3.8%\n",
      "Condition coverage: 3.3%\n"
     ]
    },
    {
     "name": "stderr",
     "output_type": "stream",
     "text": [
      "OK\n",
      "Running ant (coverage.instrument).......................................... OK\n",
      "Running ant (run.dev.tests)................................................ OK\n",
      "Running ant (coverage.report).............................................. OK\n",
      "Running ant (compile.tests)................................................ "
     ]
    },
    {
     "name": "stdout",
     "output_type": "stream",
     "text": [
      "       Lines total: 234\n",
      "     Lines covered: 10\n",
      "  Conditions total: 184\n",
      "Conditions covered: 8\n",
      "     Line coverage: 4.3%\n",
      "Condition coverage: 4.3%\n"
     ]
    },
    {
     "name": "stderr",
     "output_type": "stream",
     "text": [
      "OK\n",
      "Running ant (coverage.instrument).......................................... OK\n",
      "Running ant (run.dev.tests)................................................ OK\n",
      "Running ant (coverage.report).............................................. OK\n",
      "Running ant (compile.tests)................................................ "
     ]
    },
    {
     "name": "stdout",
     "output_type": "stream",
     "text": [
      "       Lines total: 234\n",
      "     Lines covered: 9\n",
      "  Conditions total: 184\n",
      "Conditions covered: 7\n",
      "     Line coverage: 3.8%\n",
      "Condition coverage: 3.8%\n"
     ]
    },
    {
     "name": "stderr",
     "output_type": "stream",
     "text": [
      "OK\n",
      "Running ant (coverage.instrument).......................................... OK\n",
      "Running ant (run.dev.tests)................................................ OK\n",
      "Running ant (coverage.report).............................................. OK\n",
      "Running ant (compile.tests)................................................ "
     ]
    },
    {
     "name": "stdout",
     "output_type": "stream",
     "text": [
      "       Lines total: 234\n",
      "     Lines covered: 10\n",
      "  Conditions total: 184\n",
      "Conditions covered: 8\n",
      "     Line coverage: 4.3%\n",
      "Condition coverage: 4.3%\n"
     ]
    },
    {
     "name": "stderr",
     "output_type": "stream",
     "text": [
      "OK\n",
      "Running ant (coverage.instrument).......................................... OK\n",
      "Running ant (run.dev.tests)................................................ OK\n",
      "Running ant (coverage.report).............................................. OK\n",
      "Running ant (compile.tests)................................................ "
     ]
    },
    {
     "name": "stdout",
     "output_type": "stream",
     "text": [
      "       Lines total: 234\n",
      "     Lines covered: 20\n",
      "  Conditions total: 184\n",
      "Conditions covered: 16\n",
      "     Line coverage: 8.5%\n",
      "Condition coverage: 8.7%\n"
     ]
    },
    {
     "name": "stderr",
     "output_type": "stream",
     "text": [
      "OK\n",
      "Running ant (coverage.instrument).......................................... OK\n",
      "Running ant (run.dev.tests)................................................ OK\n",
      "Running ant (coverage.report).............................................. OK\n",
      "Running ant (compile.tests)................................................ "
     ]
    },
    {
     "name": "stdout",
     "output_type": "stream",
     "text": [
      "       Lines total: 234\n",
      "     Lines covered: 9\n",
      "  Conditions total: 184\n",
      "Conditions covered: 6\n",
      "     Line coverage: 3.8%\n",
      "Condition coverage: 3.3%\n"
     ]
    },
    {
     "name": "stderr",
     "output_type": "stream",
     "text": [
      "OK\n",
      "Running ant (coverage.instrument).......................................... OK\n",
      "Running ant (run.dev.tests)................................................ OK\n",
      "Running ant (coverage.report).............................................. OK\n",
      "Running ant (compile.tests)................................................ "
     ]
    },
    {
     "name": "stdout",
     "output_type": "stream",
     "text": [
      "       Lines total: 234\n",
      "     Lines covered: 9\n",
      "  Conditions total: 184\n",
      "Conditions covered: 6\n",
      "     Line coverage: 3.8%\n",
      "Condition coverage: 3.3%\n"
     ]
    },
    {
     "name": "stderr",
     "output_type": "stream",
     "text": [
      "OK\n",
      "Running ant (coverage.instrument).......................................... OK\n",
      "Running ant (run.dev.tests)................................................ OK\n",
      "Running ant (coverage.report).............................................. OK\n",
      "Running ant (compile.tests)................................................ "
     ]
    },
    {
     "name": "stdout",
     "output_type": "stream",
     "text": [
      "       Lines total: 234\n",
      "     Lines covered: 9\n",
      "  Conditions total: 184\n",
      "Conditions covered: 6\n",
      "     Line coverage: 3.8%\n",
      "Condition coverage: 3.3%\n"
     ]
    },
    {
     "name": "stderr",
     "output_type": "stream",
     "text": [
      "OK\n",
      "Running ant (coverage.instrument).......................................... OK\n",
      "Running ant (run.dev.tests)................................................ OK\n",
      "Running ant (coverage.report).............................................. OK\n",
      "Running ant (compile.tests)................................................ "
     ]
    },
    {
     "name": "stdout",
     "output_type": "stream",
     "text": [
      "       Lines total: 234\n",
      "     Lines covered: 9\n",
      "  Conditions total: 184\n",
      "Conditions covered: 6\n",
      "     Line coverage: 3.8%\n",
      "Condition coverage: 3.3%\n"
     ]
    },
    {
     "name": "stderr",
     "output_type": "stream",
     "text": [
      "OK\n",
      "Running ant (coverage.instrument).......................................... OK\n",
      "Running ant (run.dev.tests)................................................ OK\n",
      "Running ant (coverage.report).............................................. OK\n",
      "Running ant (compile.tests)................................................ "
     ]
    },
    {
     "name": "stdout",
     "output_type": "stream",
     "text": [
      "       Lines total: 234\n",
      "     Lines covered: 9\n",
      "  Conditions total: 184\n",
      "Conditions covered: 6\n",
      "     Line coverage: 3.8%\n",
      "Condition coverage: 3.3%\n"
     ]
    },
    {
     "name": "stderr",
     "output_type": "stream",
     "text": [
      "OK\n",
      "Running ant (coverage.instrument).......................................... OK\n",
      "Running ant (run.dev.tests)................................................ OK\n",
      "Running ant (coverage.report).............................................. OK\n",
      "Running ant (compile.tests)................................................ "
     ]
    },
    {
     "name": "stdout",
     "output_type": "stream",
     "text": [
      "       Lines total: 234\n",
      "     Lines covered: 10\n",
      "  Conditions total: 184\n",
      "Conditions covered: 8\n",
      "     Line coverage: 4.3%\n",
      "Condition coverage: 4.3%\n"
     ]
    },
    {
     "name": "stderr",
     "output_type": "stream",
     "text": [
      "OK\n",
      "Running ant (coverage.instrument).......................................... OK\n",
      "Running ant (run.dev.tests)................................................ OK\n",
      "Running ant (coverage.report).............................................. OK\n",
      "Running ant (compile.tests)................................................ "
     ]
    },
    {
     "name": "stdout",
     "output_type": "stream",
     "text": [
      "       Lines total: 234\n",
      "     Lines covered: 9\n",
      "  Conditions total: 184\n",
      "Conditions covered: 6\n",
      "     Line coverage: 3.8%\n",
      "Condition coverage: 3.3%\n"
     ]
    },
    {
     "name": "stderr",
     "output_type": "stream",
     "text": [
      "OK\n",
      "Running ant (coverage.instrument).......................................... OK\n",
      "Running ant (run.dev.tests)................................................ OK\n",
      "Running ant (coverage.report).............................................. OK\n",
      "Running ant (compile.tests)................................................ "
     ]
    },
    {
     "name": "stdout",
     "output_type": "stream",
     "text": [
      "       Lines total: 234\n",
      "     Lines covered: 0\n",
      "  Conditions total: 184\n",
      "Conditions covered: 0\n",
      "     Line coverage: 0.0%\n",
      "Condition coverage: 0.0%\n"
     ]
    },
    {
     "name": "stderr",
     "output_type": "stream",
     "text": [
      "OK\n",
      "Running ant (coverage.instrument).......................................... OK\n",
      "Running ant (run.dev.tests)................................................ OK\n",
      "Running ant (coverage.report).............................................. OK\n",
      "Running ant (compile.tests)................................................ "
     ]
    },
    {
     "name": "stdout",
     "output_type": "stream",
     "text": [
      "       Lines total: 234\n",
      "     Lines covered: 0\n",
      "  Conditions total: 184\n",
      "Conditions covered: 0\n",
      "     Line coverage: 0.0%\n",
      "Condition coverage: 0.0%\n"
     ]
    },
    {
     "name": "stderr",
     "output_type": "stream",
     "text": [
      "OK\n",
      "Running ant (coverage.instrument).......................................... OK\n",
      "Running ant (run.dev.tests)................................................ OK\n",
      "Running ant (coverage.report).............................................. OK\n",
      "Running ant (compile.tests)................................................ "
     ]
    },
    {
     "name": "stdout",
     "output_type": "stream",
     "text": [
      "       Lines total: 234\n",
      "     Lines covered: 9\n",
      "  Conditions total: 184\n",
      "Conditions covered: 7\n",
      "     Line coverage: 3.8%\n",
      "Condition coverage: 3.8%\n"
     ]
    },
    {
     "name": "stderr",
     "output_type": "stream",
     "text": [
      "OK\n",
      "Running ant (coverage.instrument).......................................... OK\n",
      "Running ant (run.dev.tests)................................................ OK\n",
      "Running ant (coverage.report).............................................. "
     ]
    },
    {
     "name": "stdout",
     "output_type": "stream",
     "text": [
      "       Lines total: 234\n",
      "     Lines covered: 9\n",
      "  Conditions total: 184\n",
      "Conditions covered: 6\n",
      "     Line coverage: 3.8%\n",
      "Condition coverage: 3.3%\n"
     ]
    },
    {
     "name": "stderr",
     "output_type": "stream",
     "text": [
      "OK\n",
      "WARNING: Some tests failed (see /Users/hugoyin/Desktop/UIUC/CS_527/CS_527_Project/Defects4J/Codec_1/Buggy-Version/Codec_1B/failing_tests)!\n"
     ]
    }
   ],
   "source": [
    "default_failed_tests = \"../../Codec_1_test_failed.txt\"\n",
    "default_failed_list = []\n",
    "\n",
    "\n",
    "with open(default_failed_tests, 'r') as file:\n",
    "        # Read all lines from the file and convert each to an integer\n",
    "        default_failed_list = [line.strip() for line in file]\n",
    "\n",
    "print(default_failed_list)\n",
    "\n",
    "all_test_file = \"default_tests.txt\"\n",
    "relevant_class = [\"org.apache.commons.codec.StringEncoderComparatorTest\",\"org.apache.commons.codec.language.CaverphoneTest\",\"org.apache.commons.codec.language.DoubleMetaphoneTest\",\"org.apache.commons.codec.language.MetaphoneTest\",\"org.apache.commons.codec.language.RefinedSoundexTest\",\"org.apache.commons.codec.language.SoundexTest\"]\n",
    "default_test_count = 0\n",
    "\n",
    "with open(all_test_file, 'r') as file:\n",
    "        for line in file:\n",
    "            test_name, test_class = line.strip().split('(')\n",
    "            test_class = test_class[:-1]  # Remove the closing parenthesis\n",
    "            if test_class not in relevant_class:\n",
    "                continue\n",
    "            complete_test = test_class + \"::\" + test_name\n",
    "            default_test_count += 1\n",
    "\n",
    "            visited = []\n",
    "            command = f\"defects4j coverage -t {complete_test}\"\n",
    "            \n",
    "            # Run the command\n",
    "            subprocess.run(command, shell=True, check=True)\n",
    "            \n",
    "            # Parse the coverage XML file\n",
    "            tree = ET.parse(coverage_xml_path)\n",
    "            root = tree.getroot()\n",
    "            \n",
    "            class_xpath = \".//class[@name='org.apache.commons.codec.language.Metaphone']\"\n",
    "            metaphone_class = root.find(class_xpath)\n",
    "            \n",
    "            if metaphone_class is not None:\n",
    "                for line in metaphone_class.findall(\".//line\"):\n",
    "                    num = int(line.get('number'))\n",
    "                    if num in visited:\n",
    "                        continue\n",
    "            \n",
    "                    if num in line_numbers:\n",
    "                        hits = int(line.get('hits'))\n",
    "                        if hits > 0:\n",
    "                            if complete_test in default_failed_list:\n",
    "                                line_info[num][0] += 1\n",
    "                            else:\n",
    "                                line_info[num][1] += 1\n",
    "            \n",
    "                    visited.append(num)"
   ]
  },
  {
   "cell_type": "code",
   "execution_count": 8,
   "id": "c5f71e12-77e4-4837-8c69-1efae8527c22",
   "metadata": {},
   "outputs": [
    {
     "name": "stdout",
     "output_type": "stream",
     "text": [
      "90\n"
     ]
    },
    {
     "data": {
      "text/plain": [
       "{62: [10, 137],\n",
       " 68: [10, 137],\n",
       " 69: [10, 137],\n",
       " 365: [2, 30],\n",
       " 366: [0, 21],\n",
       " 368: [2, 10],\n",
       " 378: [3, 67],\n",
       " 397: [8, 128],\n",
       " 348: [7, 115],\n",
       " 390: [0, 93],\n",
       " 329: [5, 100],\n",
       " 330: [5, 100],\n",
       " 332: [5, 98],\n",
       " 334: [5, 100],\n",
       " 320: [8, 126],\n",
       " 321: [8, 126],\n",
       " 323: [8, 125],\n",
       " 325: [8, 126],\n",
       " 316: [4, 101],\n",
       " 82: [10, 131],\n",
       " 83: [10, 131],\n",
       " 84: [0, 47],\n",
       " 87: [10, 128],\n",
       " 88: [2, 10],\n",
       " 91: [8, 126],\n",
       " 93: [8, 126],\n",
       " 94: [8, 126],\n",
       " 96: [8, 126],\n",
       " 100: [1, 14],\n",
       " 101: [0, 3],\n",
       " 103: [1, 11],\n",
       " 105: [1, 11],\n",
       " 107: [0, 52],\n",
       " 108: [0, 2],\n",
       " 110: [0, 50],\n",
       " 112: [0, 50],\n",
       " 114: [1, 5],\n",
       " 115: [0, 1],\n",
       " 116: [0, 1],\n",
       " 118: [1, 4],\n",
       " 119: [0, 2],\n",
       " 120: [0, 2],\n",
       " 122: [1, 3],\n",
       " 124: [1, 3],\n",
       " 126: [1, 1],\n",
       " 127: [1, 1],\n",
       " 128: [1, 1],\n",
       " 130: [5, 114],\n",
       " 133: [8, 126],\n",
       " 134: [8, 126],\n",
       " 136: [8, 126],\n",
       " 138: [8, 126],\n",
       " 140: [8, 126],\n",
       " 141: [0, 79],\n",
       " 143: [8, 126],\n",
       " 145: [2, 115],\n",
       " 146: [0, 86],\n",
       " 150: [0, 6],\n",
       " 152: [0, 1],\n",
       " 154: [0, 5],\n",
       " 155: [0, 5],\n",
       " 158: [2, 18],\n",
       " 161: [0, 1],\n",
       " 163: [2, 18],\n",
       " 164: [0, 1],\n",
       " 165: [0, 1],\n",
       " 167: [2, 17],\n",
       " 169: [0, 6],\n",
       " 170: [0, 6],\n",
       " 172: [2, 13],\n",
       " 174: [0, 1],\n",
       " 175: [0, 1],\n",
       " 177: [2, 13],\n",
       " 178: [0, 5],\n",
       " 181: [0, 1],\n",
       " 183: [0, 5],\n",
       " 186: [2, 10],\n",
       " 188: [2, 10],\n",
       " 190: [1, 14],\n",
       " 193: [0, 1],\n",
       " 195: [1, 14],\n",
       " 197: [1, 14],\n",
       " 199: [4, 80],\n",
       " 201: [0, 1],\n",
       " 203: [4, 80],\n",
       " 206: [0, 2],\n",
       " 208: [4, 78],\n",
       " 211: [0, 0],\n",
       " 213: [4, 77],\n",
       " 214: [0, 0],\n",
       " 216: [4, 77],\n",
       " 218: [4, 77],\n",
       " 221: [0, 2],\n",
       " 223: [4, 75],\n",
       " 225: [4, 75],\n",
       " 227: [2, 100],\n",
       " 228: [0, 9],\n",
       " 230: [2, 95],\n",
       " 232: [0, 8],\n",
       " 234: [2, 89],\n",
       " 235: [2, 44],\n",
       " 244: [4, 99],\n",
       " 245: [4, 99],\n",
       " 247: [1, 37],\n",
       " 248: [1, 36],\n",
       " 249: [1, 34],\n",
       " 252: [1, 1],\n",
       " 254: [1, 1],\n",
       " 256: [2, 80],\n",
       " 258: [0, 1],\n",
       " 260: [2, 79],\n",
       " 262: [2, 79],\n",
       " 264: [0, 3],\n",
       " 265: [0, 3],\n",
       " 267: [5, 18],\n",
       " 270: [0, 3],\n",
       " 272: [5, 15],\n",
       " 274: [5, 15],\n",
       " 276: [3, 18],\n",
       " 278: [0, 2],\n",
       " 279: [0, 2],\n",
       " 281: [3, 16],\n",
       " 283: [0, 2],\n",
       " 286: [3, 14],\n",
       " 287: [0, 1],\n",
       " 289: [3, 14],\n",
       " 291: [3, 14],\n",
       " 293: [2, 3],\n",
       " 295: [3, 17],\n",
       " 297: [1, 3],\n",
       " 301: [0, 7],\n",
       " 302: [0, 7],\n",
       " 304: [2, 8],\n",
       " 306: [8, 126],\n",
       " 308: [8, 126],\n",
       " 309: [0, 3],\n",
       " 311: [8, 126],\n",
       " 312: [8, 126],\n",
       " 338: [8, 99],\n",
       " 339: [8, 99],\n",
       " 341: [8, 95],\n",
       " 342: [8, 95],\n",
       " 344: [8, 99],\n",
       " 403: [1, 23]}"
      ]
     },
     "execution_count": 8,
     "metadata": {},
     "output_type": "execute_result"
    }
   ],
   "source": [
    "print(default_test_count)\n",
    "line_info"
   ]
  },
  {
   "cell_type": "code",
   "execution_count": 9,
   "id": "bc58f705-23c3-4cca-b4ce-8a8835adcaac",
   "metadata": {},
   "outputs": [
    {
     "data": {
      "text/plain": [
       "{62: 0.7675996607294318,\n",
       " 68: 0.7675996607294318,\n",
       " 69: 0.7675996607294318,\n",
       " 365: 0.7510373443983402,\n",
       " 366: 0.0,\n",
       " 368: 0.900497512437811,\n",
       " 378: 0.6695437731196054,\n",
       " 397: 0.7387755102040816,\n",
       " 348: 0.7336421540243196,\n",
       " 390: 0.0,\n",
       " 329: 0.6934865900383141,\n",
       " 330: 0.6934865900383141,\n",
       " 332: 0.6977640709329221,\n",
       " 334: 0.6934865900383141,\n",
       " 320: 0.7418032786885246,\n",
       " 321: 0.7418032786885246,\n",
       " 323: 0.7433264887063655,\n",
       " 325: 0.7418032786885246,\n",
       " 316: 0.6418439716312057,\n",
       " 82: 0.7754927163667523,\n",
       " 83: 0.7754927163667523,\n",
       " 84: 0.0,\n",
       " 87: 0.7795004306632214,\n",
       " 88: 0.900497512437811,\n",
       " 91: 0.7418032786885246,\n",
       " 93: 0.7418032786885246,\n",
       " 94: 0.7418032786885246,\n",
       " 96: 0.7418032786885246,\n",
       " 100: 0.7637130801687764,\n",
       " 101: 0.0,\n",
       " 103: 0.8044444444444444,\n",
       " 105: 0.8044444444444444,\n",
       " 107: 0.0,\n",
       " 108: 0.0,\n",
       " 110: 0.0,\n",
       " 112: 0.0,\n",
       " 114: 0.900497512437811,\n",
       " 115: 0.0,\n",
       " 116: 0.0,\n",
       " 118: 0.918781725888325,\n",
       " 119: 0.0,\n",
       " 120: 0.0,\n",
       " 122: 0.9378238341968912,\n",
       " 124: 0.9378238341968912,\n",
       " 126: 0.9783783783783784,\n",
       " 127: 0.9783783783783784,\n",
       " 128: 0.9783783783783784,\n",
       " 130: 0.6649522409992653,\n",
       " 133: 0.7418032786885246,\n",
       " 134: 0.7418032786885246,\n",
       " 136: 0.7418032786885246,\n",
       " 138: 0.7418032786885246,\n",
       " 140: 0.7418032786885246,\n",
       " 141: 0.0,\n",
       " 143: 0.7418032786885246,\n",
       " 145: 0.44038929440389296,\n",
       " 146: 0.0,\n",
       " 150: 0.0,\n",
       " 152: 0.0,\n",
       " 154: 0.0,\n",
       " 155: 0.0,\n",
       " 158: 0.8341013824884793,\n",
       " 161: 0.0,\n",
       " 163: 0.8341013824884793,\n",
       " 164: 0.0,\n",
       " 165: 0.0,\n",
       " 167: 0.8418604651162791,\n",
       " 169: 0.0,\n",
       " 170: 0.0,\n",
       " 172: 0.8743961352657005,\n",
       " 174: 0.0,\n",
       " 175: 0.0,\n",
       " 177: 0.8743961352657005,\n",
       " 178: 0.0,\n",
       " 181: 0.0,\n",
       " 183: 0.0,\n",
       " 186: 0.900497512437811,\n",
       " 188: 0.900497512437811,\n",
       " 190: 0.7637130801687764,\n",
       " 193: 0.0,\n",
       " 195: 0.7637130801687764,\n",
       " 197: 0.7637130801687764,\n",
       " 199: 0.6934865900383141,\n",
       " 201: 0.0,\n",
       " 203: 0.6934865900383141,\n",
       " 206: 0.0,\n",
       " 208: 0.6988416988416988,\n",
       " 211: 0,\n",
       " 213: 0.7015503875968991,\n",
       " 214: 0,\n",
       " 216: 0.7015503875968991,\n",
       " 218: 0.7015503875968991,\n",
       " 221: 0.0,\n",
       " 223: 0.7070312499999999,\n",
       " 225: 0.7070312499999999,\n",
       " 227: 0.47506561679790027,\n",
       " 228: 0.0,\n",
       " 230: 0.48787061994609165,\n",
       " 232: 0.0,\n",
       " 234: 0.5041782729805013,\n",
       " 235: 0.6728624535315986,\n",
       " 244: 0.6464285714285714,\n",
       " 245: 0.6464285714285714,\n",
       " 247: 0.5501519756838905,\n",
       " 248: 0.556923076923077,\n",
       " 249: 0.5709779179810726,\n",
       " 252: 0.9783783783783784,\n",
       " 254: 0.9783783783783784,\n",
       " 256: 0.530791788856305,\n",
       " 258: 0.0,\n",
       " 260: 0.5339233038348082,\n",
       " 262: 0.5339233038348082,\n",
       " 264: 0.0,\n",
       " 265: 0.0,\n",
       " 267: 0.9263050153531218,\n",
       " 270: 0.0,\n",
       " 272: 0.9378238341968912,\n",
       " 274: 0.9378238341968912,\n",
       " 276: 0.8829268292682926,\n",
       " 278: 0.0,\n",
       " 279: 0.0,\n",
       " 281: 0.8945634266886326,\n",
       " 283: 0.0,\n",
       " 286: 0.9065108514190318,\n",
       " 287: 0.0,\n",
       " 289: 0.9065108514190318,\n",
       " 291: 0.9065108514190318,\n",
       " 293: 0.9679144385026737,\n",
       " 295: 0.8887070376432078,\n",
       " 297: 0.9378238341968912,\n",
       " 301: 0.0,\n",
       " 302: 0.0,\n",
       " 304: 0.918781725888325,\n",
       " 306: 0.7418032786885246,\n",
       " 308: 0.7418032786885246,\n",
       " 309: 0.0,\n",
       " 311: 0.7418032786885246,\n",
       " 312: 0.7418032786885246,\n",
       " 338: 0.7852494577006508,\n",
       " 339: 0.7852494577006508,\n",
       " 341: 0.7921225382932167,\n",
       " 342: 0.7921225382932167,\n",
       " 344: 0.7852494577006508,\n",
       " 403: 0.6630036630036631}"
      ]
     },
     "execution_count": 9,
     "metadata": {},
     "output_type": "execute_result"
    }
   ],
   "source": [
    "total_fail = 12\n",
    "total_pass = 36 + 429 + default_test_count - total_fail\n",
    "for key, value in line_info.items():\n",
    "    failed = value[0]\n",
    "    passed = value[1]\n",
    "\n",
    "    if (failed == 0 and passed == 0):\n",
    "        suspiciousness_score = 0\n",
    "    else:\n",
    "        suspiciousness_score = (failed / total_fail) / ((failed / total_fail) + (passed / total_pass))\n",
    "    suspiciousness_scores[key] = suspiciousness_score\n",
    "\n",
    "suspiciousness_scores\n",
    "\n"
   ]
  },
  {
   "cell_type": "code",
   "execution_count": 10,
   "id": "89acf4d3-9025-4f40-8ead-1500a104df46",
   "metadata": {},
   "outputs": [
    {
     "name": "stdout",
     "output_type": "stream",
     "text": [
      "{126: 1, 127: 1, 128: 1, 252: 1, 254: 1, 293: 6, 122: 7, 124: 7, 272: 7, 274: 7, 297: 7, 267: 12, 118: 13, 304: 13, 286: 15, 289: 15, 291: 15, 368: 18, 88: 18, 114: 18, 186: 18, 188: 18, 281: 23, 295: 24, 276: 25, 172: 26, 177: 26, 167: 28, 158: 29, 163: 29, 103: 31, 105: 31, 341: 33, 342: 33, 338: 35, 339: 35, 344: 35, 87: 38, 82: 39, 83: 39, 62: 41, 68: 41, 69: 41, 100: 44, 190: 44, 195: 44, 197: 44, 365: 48, 323: 49, 320: 50, 321: 50, 325: 50, 91: 50, 93: 50, 94: 50, 96: 50, 133: 50, 134: 50, 136: 50, 138: 50, 140: 50, 143: 50, 306: 50, 308: 50, 311: 50, 312: 50, 397: 67, 348: 68, 223: 69, 225: 69, 213: 71, 216: 71, 218: 71, 208: 74, 332: 75, 329: 76, 330: 76, 334: 76, 199: 76, 203: 76, 235: 81, 378: 82, 130: 83, 403: 84, 244: 85, 245: 85, 316: 87, 249: 88, 248: 89, 247: 90, 260: 91, 262: 91, 256: 93, 234: 94, 230: 95, 227: 96, 145: 97, 366: 98, 390: 98, 84: 98, 101: 98, 107: 98, 108: 98, 110: 98, 112: 98, 115: 98, 116: 98, 119: 98, 120: 98, 141: 98, 146: 98, 150: 98, 152: 98, 154: 98, 155: 98, 161: 98, 164: 98, 165: 98, 169: 98, 170: 98, 174: 98, 175: 98, 178: 98, 181: 98, 183: 98, 193: 98, 201: 98, 206: 98, 211: 98, 214: 98, 221: 98, 228: 98, 232: 98, 258: 98, 264: 98, 265: 98, 270: 98, 278: 98, 279: 98, 283: 98, 287: 98, 301: 98, 302: 98, 309: 98}\n"
     ]
    }
   ],
   "source": [
    "sorted_items = sorted(suspiciousness_scores.items(), key=lambda item: item[1], reverse=True)\n",
    "\n",
    "# Assigning ranks, skipping ranks properly when there are ties\n",
    "modified_competition_ranking = {}\n",
    "current_rank = 1\n",
    "previous_value = None\n",
    "items_skipped = 0\n",
    "\n",
    "for index, (key, value) in enumerate(sorted_items):\n",
    "    if value == previous_value:\n",
    "        modified_competition_ranking[key] = current_rank\n",
    "        items_skipped += 1\n",
    "    else:\n",
    "        if previous_value is not None:\n",
    "            current_rank += items_skipped + 1\n",
    "        modified_competition_ranking[key] = current_rank\n",
    "        items_skipped = 0\n",
    "    previous_value = value\n",
    "\n",
    "# Printing the modified competition ranking\n",
    "print(modified_competition_ranking)"
   ]
  },
  {
   "cell_type": "code",
   "execution_count": 11,
   "id": "4213e20d-59e6-4442-b074-e6c94210e7a1",
   "metadata": {},
   "outputs": [
    {
     "name": "stdout",
     "output_type": "stream",
     "text": [
      "18\n",
      "50\n"
     ]
    }
   ],
   "source": [
    "print(modified_competition_ranking[88])\n",
    "print(modified_competition_ranking[91])"
   ]
  },
  {
   "cell_type": "code",
   "execution_count": null,
   "id": "ea962c7b-6ea8-4468-b03e-72c4541bf5d7",
   "metadata": {},
   "outputs": [],
   "source": []
  }
 ],
 "metadata": {
  "kernelspec": {
   "display_name": "Python 3 (ipykernel)",
   "language": "python",
   "name": "python3"
  },
  "language_info": {
   "codemirror_mode": {
    "name": "ipython",
    "version": 3
   },
   "file_extension": ".py",
   "mimetype": "text/x-python",
   "name": "python",
   "nbconvert_exporter": "python",
   "pygments_lexer": "ipython3",
   "version": "3.11.7"
  }
 },
 "nbformat": 4,
 "nbformat_minor": 5
}
