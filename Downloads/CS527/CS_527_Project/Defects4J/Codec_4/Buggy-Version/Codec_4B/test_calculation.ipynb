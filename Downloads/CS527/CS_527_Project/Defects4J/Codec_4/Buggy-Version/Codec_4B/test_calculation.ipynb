{
 "cells": [
  {
   "cell_type": "code",
   "execution_count": 3,
   "id": "0540d8c7-f725-4114-b755-9a4ecfe4f448",
   "metadata": {},
   "outputs": [
    {
     "name": "stdout",
     "output_type": "stream",
     "text": [
      "[79, 88, 101, 125, 225, 226, 266, 267, 292, 293, 320, 321, 322, 323, 325, 326, 327, 328, 329, 331, 333, 334, 335, 336, 338, 339, 244, 245, 366, 626, 627, 628, 631, 705, 706, 707, 708, 710, 723, 734, 735, 736, 738, 739, 740, 741, 742, 750, 751, 752, 539, 540, 542, 543, 545, 546, 547, 549, 550, 552, 553, 555, 556, 557, 558, 559, 560, 561, 562, 563, 573, 574, 575, 577, 578, 579, 581, 582, 586, 830, 841, 992, 853, 854, 855, 856, 861, 863, 866, 867, 868, 903, 904, 906, 929, 930, 931, 933, 934, 935, 936, 937, 939, 940, 944, 945, 946, 947, 949, 453, 454, 458, 459, 460, 461, 463, 465, 466, 468, 469, 470, 475, 476, 477, 479, 480, 484, 485, 486, 489, 490, 491, 493, 494, 495, 496, 498, 499, 500, 501, 502, 503, 504, 505, 506, 507, 508, 513, 642, 767, 785, 805, 806, 809, 810, 811, 817, 818, 691, 654, 667, 680, 1006, 1007, 1009, 918, 965, 967, 968, 969, 970, 972, 973, 974, 975, 976, 979, 357, 610, 611, 612, 615, 597, 348, 879, 884, 886, 395, 396, 397, 398, 399, 400, 401, 406, 408, 410, 1047, 1048, 1049, 1050, 1051, 1052, 1053, 371, 372, 373, 374, 376, 377, 378, 380, 427, 428, 429, 430, 432, 1020, 1022, 1023, 1025, 1026, 1029, 1030, 1033, 1034, 1035, 1037, 1038, 1039, 1040]\n"
     ]
    }
   ],
   "source": [
    "import xml.etree.ElementTree as ET\n",
    "\n",
    "def extract_line_numbers(xml_file_path, class_name):\n",
    "    # Parse the XML file\n",
    "    tree = ET.parse(xml_file_path)\n",
    "    root = tree.getroot()\n",
    "\n",
    "    # Initialize a list to collect line numbers\n",
    "    line_numbers = []\n",
    "\n",
    "    # Function to recursively find all line numbers under the specified class name\n",
    "    def find_line_numbers(element, target_class):\n",
    "        for child in element:\n",
    "            if child.tag == \"class\" and child.get(\"name\") == target_class:\n",
    "                # If the class is found, get line numbers from its child elements\n",
    "                for lines in child.findall(\".//line\"):\n",
    "                    line_number = lines.get(\"number\")\n",
    "                    if line_number:\n",
    "                        if int(line_number) in line_numbers:\n",
    "                            continue\n",
    "                        line_numbers.append(int(line_number))\n",
    "            else:\n",
    "                # Continue searching recursively through other elements\n",
    "                find_line_numbers(child, target_class)\n",
    "\n",
    "    # Start the search from the root for the specified class name\n",
    "    find_line_numbers(root, class_name)\n",
    "\n",
    "    return line_numbers\n",
    "\n",
    "# Example usage\n",
    "xml_file_path = 'coverage.xml'  # Replace with your actual XML file path\n",
    "class_name = 'org.apache.commons.codec.binary.Base64'\n",
    "line_numbers = extract_line_numbers(xml_file_path, class_name)\n",
    "print(line_numbers)"
   ]
  },
  {
   "cell_type": "code",
   "execution_count": 4,
   "id": "8d7007bc-8f4b-477d-ba5c-5bc314bad0ea",
   "metadata": {},
   "outputs": [
    {
     "name": "stdout",
     "output_type": "stream",
     "text": [
      "{79: [0, 0], 88: [0, 0], 101: [0, 0], 125: [0, 0], 225: [0, 0], 226: [0, 0], 266: [0, 0], 267: [0, 0], 292: [0, 0], 293: [0, 0], 320: [0, 0], 321: [0, 0], 322: [0, 0], 323: [0, 0], 325: [0, 0], 326: [0, 0], 327: [0, 0], 328: [0, 0], 329: [0, 0], 331: [0, 0], 333: [0, 0], 334: [0, 0], 335: [0, 0], 336: [0, 0], 338: [0, 0], 339: [0, 0], 244: [0, 0], 245: [0, 0], 366: [0, 0], 626: [0, 0], 627: [0, 0], 628: [0, 0], 631: [0, 0], 705: [0, 0], 706: [0, 0], 707: [0, 0], 708: [0, 0], 710: [0, 0], 723: [0, 0], 734: [0, 0], 735: [0, 0], 736: [0, 0], 738: [0, 0], 739: [0, 0], 740: [0, 0], 741: [0, 0], 742: [0, 0], 750: [0, 0], 751: [0, 0], 752: [0, 0], 539: [0, 0], 540: [0, 0], 542: [0, 0], 543: [0, 0], 545: [0, 0], 546: [0, 0], 547: [0, 0], 549: [0, 0], 550: [0, 0], 552: [0, 0], 553: [0, 0], 555: [0, 0], 556: [0, 0], 557: [0, 0], 558: [0, 0], 559: [0, 0], 560: [0, 0], 561: [0, 0], 562: [0, 0], 563: [0, 0], 573: [0, 0], 574: [0, 0], 575: [0, 0], 577: [0, 0], 578: [0, 0], 579: [0, 0], 581: [0, 0], 582: [0, 0], 586: [0, 0], 830: [0, 0], 841: [0, 0], 992: [0, 0], 853: [0, 0], 854: [0, 0], 855: [0, 0], 856: [0, 0], 861: [0, 0], 863: [0, 0], 866: [0, 0], 867: [0, 0], 868: [0, 0], 903: [0, 0], 904: [0, 0], 906: [0, 0], 929: [0, 0], 930: [0, 0], 931: [0, 0], 933: [0, 0], 934: [0, 0], 935: [0, 0], 936: [0, 0], 937: [0, 0], 939: [0, 0], 940: [0, 0], 944: [0, 0], 945: [0, 0], 946: [0, 0], 947: [0, 0], 949: [0, 0], 453: [0, 0], 454: [0, 0], 458: [0, 0], 459: [0, 0], 460: [0, 0], 461: [0, 0], 463: [0, 0], 465: [0, 0], 466: [0, 0], 468: [0, 0], 469: [0, 0], 470: [0, 0], 475: [0, 0], 476: [0, 0], 477: [0, 0], 479: [0, 0], 480: [0, 0], 484: [0, 0], 485: [0, 0], 486: [0, 0], 489: [0, 0], 490: [0, 0], 491: [0, 0], 493: [0, 0], 494: [0, 0], 495: [0, 0], 496: [0, 0], 498: [0, 0], 499: [0, 0], 500: [0, 0], 501: [0, 0], 502: [0, 0], 503: [0, 0], 504: [0, 0], 505: [0, 0], 506: [0, 0], 507: [0, 0], 508: [0, 0], 513: [0, 0], 642: [0, 0], 767: [0, 0], 785: [0, 0], 805: [0, 0], 806: [0, 0], 809: [0, 0], 810: [0, 0], 811: [0, 0], 817: [0, 0], 818: [0, 0], 691: [0, 0], 654: [0, 0], 667: [0, 0], 680: [0, 0], 1006: [0, 0], 1007: [0, 0], 1009: [0, 0], 918: [0, 0], 965: [0, 0], 967: [0, 0], 968: [0, 0], 969: [0, 0], 970: [0, 0], 972: [0, 0], 973: [0, 0], 974: [0, 0], 975: [0, 0], 976: [0, 0], 979: [0, 0], 357: [0, 0], 610: [0, 0], 611: [0, 0], 612: [0, 0], 615: [0, 0], 597: [0, 0], 348: [0, 0], 879: [0, 0], 884: [0, 0], 886: [0, 0], 395: [0, 0], 396: [0, 0], 397: [0, 0], 398: [0, 0], 399: [0, 0], 400: [0, 0], 401: [0, 0], 406: [0, 0], 408: [0, 0], 410: [0, 0], 1047: [0, 0], 1048: [0, 0], 1049: [0, 0], 1050: [0, 0], 1051: [0, 0], 1052: [0, 0], 1053: [0, 0], 371: [0, 0], 372: [0, 0], 373: [0, 0], 374: [0, 0], 376: [0, 0], 377: [0, 0], 378: [0, 0], 380: [0, 0], 427: [0, 0], 428: [0, 0], 429: [0, 0], 430: [0, 0], 432: [0, 0], 1020: [0, 0], 1022: [0, 0], 1023: [0, 0], 1025: [0, 0], 1026: [0, 0], 1029: [0, 0], 1030: [0, 0], 1033: [0, 0], 1034: [0, 0], 1035: [0, 0], 1037: [0, 0], 1038: [0, 0], 1039: [0, 0], 1040: [0, 0]}\n"
     ]
    },
    {
     "name": "stderr",
     "output_type": "stream",
     "text": [
      "Extract test suite......................................................... OK\n",
      "Running ant (compile.gen.tests)............................................ OK\n",
      "Running ant (coverage.instrument).......................................... OK\n",
      "Running ant (run.gen.tests)................................................ OK\n",
      "Running ant (coverage.report).............................................. OK\n",
      "Extract test suite......................................................... OK\n",
      "Running ant (compile.gen.tests)............................................ "
     ]
    },
    {
     "name": "stdout",
     "output_type": "stream",
     "text": [
      "       Lines total: 231\n",
      "     Lines covered: 55\n",
      "  Conditions total: 158\n",
      "Conditions covered: 26\n",
      "     Line coverage: 23.8%\n",
      "Condition coverage: 16.5%\n"
     ]
    },
    {
     "name": "stderr",
     "output_type": "stream",
     "text": [
      "OK\n",
      "Running ant (coverage.instrument).......................................... OK\n",
      "Running ant (run.gen.tests)................................................ OK\n",
      "Running ant (coverage.report).............................................. OK\n",
      "Extract test suite......................................................... OK\n",
      "Running ant (compile.gen.tests)............................................ "
     ]
    },
    {
     "name": "stdout",
     "output_type": "stream",
     "text": [
      "       Lines total: 231\n",
      "     Lines covered: 87\n",
      "  Conditions total: 158\n",
      "Conditions covered: 43\n",
      "     Line coverage: 37.7%\n",
      "Condition coverage: 27.2%\n"
     ]
    },
    {
     "name": "stderr",
     "output_type": "stream",
     "text": [
      "OK\n",
      "Running ant (coverage.instrument).......................................... OK\n",
      "Running ant (run.gen.tests)................................................ OK\n",
      "Running ant (coverage.report).............................................. OK\n",
      "Extract test suite......................................................... OK\n",
      "Running ant (compile.gen.tests)............................................ "
     ]
    },
    {
     "name": "stdout",
     "output_type": "stream",
     "text": [
      "       Lines total: 231\n",
      "     Lines covered: 128\n",
      "  Conditions total: 158\n",
      "Conditions covered: 65\n",
      "     Line coverage: 55.4%\n",
      "Condition coverage: 41.1%\n"
     ]
    },
    {
     "name": "stderr",
     "output_type": "stream",
     "text": [
      "OK\n",
      "Running ant (coverage.instrument).......................................... OK\n",
      "Running ant (run.gen.tests)................................................ OK\n",
      "Running ant (coverage.report).............................................. OK\n",
      "Extract test suite......................................................... OK\n",
      "Running ant (compile.gen.tests)............................................ "
     ]
    },
    {
     "name": "stdout",
     "output_type": "stream",
     "text": [
      "       Lines total: 231\n",
      "     Lines covered: 9\n",
      "  Conditions total: 158\n",
      "Conditions covered: 2\n",
      "     Line coverage: 3.9%\n",
      "Condition coverage: 1.3%\n"
     ]
    },
    {
     "name": "stderr",
     "output_type": "stream",
     "text": [
      "OK\n",
      "Running ant (coverage.instrument).......................................... OK\n",
      "Running ant (run.gen.tests)................................................ OK\n",
      "Running ant (coverage.report).............................................. OK\n",
      "Extract test suite......................................................... OK\n",
      "Running ant (compile.gen.tests)............................................ "
     ]
    },
    {
     "name": "stdout",
     "output_type": "stream",
     "text": [
      "       Lines total: 231\n",
      "     Lines covered: 87\n",
      "  Conditions total: 158\n",
      "Conditions covered: 45\n",
      "     Line coverage: 37.7%\n",
      "Condition coverage: 28.5%\n"
     ]
    },
    {
     "name": "stderr",
     "output_type": "stream",
     "text": [
      "OK\n",
      "Running ant (coverage.instrument).......................................... OK\n",
      "Running ant (run.gen.tests)................................................ OK\n",
      "Running ant (coverage.report).............................................. OK\n",
      "Extract test suite......................................................... OK\n",
      "Running ant (compile.gen.tests)............................................ "
     ]
    },
    {
     "name": "stdout",
     "output_type": "stream",
     "text": [
      "       Lines total: 231\n",
      "     Lines covered: 86\n",
      "  Conditions total: 158\n",
      "Conditions covered: 45\n",
      "     Line coverage: 37.2%\n",
      "Condition coverage: 28.5%\n"
     ]
    },
    {
     "name": "stderr",
     "output_type": "stream",
     "text": [
      "OK\n",
      "Running ant (coverage.instrument).......................................... OK\n",
      "Running ant (run.gen.tests)................................................ OK\n",
      "Running ant (coverage.report).............................................. OK\n",
      "Extract test suite......................................................... OK\n",
      "Running ant (compile.gen.tests)............................................ "
     ]
    },
    {
     "name": "stdout",
     "output_type": "stream",
     "text": [
      "       Lines total: 231\n",
      "     Lines covered: 85\n",
      "  Conditions total: 158\n",
      "Conditions covered: 44\n",
      "     Line coverage: 36.8%\n",
      "Condition coverage: 27.8%\n"
     ]
    },
    {
     "name": "stderr",
     "output_type": "stream",
     "text": [
      "OK\n",
      "Running ant (coverage.instrument).......................................... OK\n",
      "Running ant (run.gen.tests)................................................ OK\n",
      "Running ant (coverage.report).............................................. OK\n",
      "Extract test suite......................................................... OK\n",
      "Running ant (compile.gen.tests)............................................ "
     ]
    },
    {
     "name": "stdout",
     "output_type": "stream",
     "text": [
      "       Lines total: 231\n",
      "     Lines covered: 133\n",
      "  Conditions total: 158\n",
      "Conditions covered: 69\n",
      "     Line coverage: 57.6%\n",
      "Condition coverage: 43.7%\n"
     ]
    },
    {
     "name": "stderr",
     "output_type": "stream",
     "text": [
      "OK\n",
      "Running ant (coverage.instrument).......................................... OK\n",
      "Running ant (run.gen.tests)................................................ OK\n",
      "Running ant (coverage.report).............................................. OK\n",
      "Extract test suite......................................................... OK\n",
      "Running ant (compile.gen.tests)............................................ "
     ]
    },
    {
     "name": "stdout",
     "output_type": "stream",
     "text": [
      "       Lines total: 231\n",
      "     Lines covered: 23\n",
      "  Conditions total: 158\n",
      "Conditions covered: 13\n",
      "     Line coverage: 10.0%\n",
      "Condition coverage: 8.2%\n"
     ]
    },
    {
     "name": "stderr",
     "output_type": "stream",
     "text": [
      "OK\n",
      "Running ant (coverage.instrument).......................................... OK\n",
      "Running ant (run.gen.tests)................................................ OK\n",
      "Running ant (coverage.report).............................................. OK\n",
      "Extract test suite......................................................... OK\n",
      "Running ant (compile.gen.tests)............................................ "
     ]
    },
    {
     "name": "stdout",
     "output_type": "stream",
     "text": [
      "       Lines total: 231\n",
      "     Lines covered: 20\n",
      "  Conditions total: 158\n",
      "Conditions covered: 10\n",
      "     Line coverage: 8.7%\n",
      "Condition coverage: 6.3%\n"
     ]
    },
    {
     "name": "stderr",
     "output_type": "stream",
     "text": [
      "OK\n",
      "Running ant (coverage.instrument).......................................... OK\n",
      "Running ant (run.gen.tests)................................................ OK\n",
      "Running ant (coverage.report).............................................. OK\n",
      "Extract test suite......................................................... OK\n",
      "Running ant (compile.gen.tests)............................................ "
     ]
    },
    {
     "name": "stdout",
     "output_type": "stream",
     "text": [
      "       Lines total: 231\n",
      "     Lines covered: 24\n",
      "  Conditions total: 158\n",
      "Conditions covered: 13\n",
      "     Line coverage: 10.4%\n",
      "Condition coverage: 8.2%\n"
     ]
    },
    {
     "name": "stderr",
     "output_type": "stream",
     "text": [
      "OK\n",
      "Running ant (coverage.instrument).......................................... OK\n",
      "Running ant (run.gen.tests)................................................ OK\n",
      "Running ant (coverage.report).............................................. OK\n",
      "Extract test suite......................................................... OK\n",
      "Running ant (compile.gen.tests)............................................ "
     ]
    },
    {
     "name": "stdout",
     "output_type": "stream",
     "text": [
      "       Lines total: 231\n",
      "     Lines covered: 22\n",
      "  Conditions total: 158\n",
      "Conditions covered: 13\n",
      "     Line coverage: 9.5%\n",
      "Condition coverage: 8.2%\n"
     ]
    },
    {
     "name": "stderr",
     "output_type": "stream",
     "text": [
      "OK\n",
      "Running ant (coverage.instrument).......................................... OK\n",
      "Running ant (run.gen.tests)................................................ OK\n",
      "Running ant (coverage.report).............................................. OK\n",
      "Extract test suite......................................................... OK\n",
      "Running ant (compile.gen.tests)............................................ "
     ]
    },
    {
     "name": "stdout",
     "output_type": "stream",
     "text": [
      "       Lines total: 231\n",
      "     Lines covered: 23\n",
      "  Conditions total: 158\n",
      "Conditions covered: 14\n",
      "     Line coverage: 10.0%\n",
      "Condition coverage: 8.9%\n"
     ]
    },
    {
     "name": "stderr",
     "output_type": "stream",
     "text": [
      "OK\n",
      "Running ant (coverage.instrument).......................................... OK\n",
      "Running ant (run.gen.tests)................................................ OK\n",
      "Running ant (coverage.report).............................................. OK\n",
      "Extract test suite......................................................... OK\n",
      "Running ant (compile.gen.tests)............................................ "
     ]
    },
    {
     "name": "stdout",
     "output_type": "stream",
     "text": [
      "       Lines total: 231\n",
      "     Lines covered: 103\n",
      "  Conditions total: 158\n",
      "Conditions covered: 55\n",
      "     Line coverage: 44.6%\n",
      "Condition coverage: 34.8%\n"
     ]
    },
    {
     "name": "stderr",
     "output_type": "stream",
     "text": [
      "OK\n",
      "Running ant (coverage.instrument).......................................... OK\n",
      "Running ant (run.gen.tests)................................................ OK\n",
      "Running ant (coverage.report).............................................. OK\n",
      "Extract test suite......................................................... OK\n",
      "Running ant (compile.gen.tests)............................................ "
     ]
    },
    {
     "name": "stdout",
     "output_type": "stream",
     "text": [
      "       Lines total: 231\n",
      "     Lines covered: 139\n",
      "  Conditions total: 158\n",
      "Conditions covered: 68\n",
      "     Line coverage: 60.2%\n",
      "Condition coverage: 43.0%\n"
     ]
    },
    {
     "name": "stderr",
     "output_type": "stream",
     "text": [
      "OK\n",
      "Running ant (coverage.instrument).......................................... OK\n",
      "Running ant (run.gen.tests)................................................ OK\n",
      "Running ant (coverage.report).............................................. OK\n",
      "Extract test suite......................................................... OK\n",
      "Running ant (compile.gen.tests)............................................ "
     ]
    },
    {
     "name": "stdout",
     "output_type": "stream",
     "text": [
      "       Lines total: 231\n",
      "     Lines covered: 67\n",
      "  Conditions total: 158\n",
      "Conditions covered: 36\n",
      "     Line coverage: 29.0%\n",
      "Condition coverage: 22.8%\n"
     ]
    },
    {
     "name": "stderr",
     "output_type": "stream",
     "text": [
      "OK\n",
      "Running ant (coverage.instrument).......................................... OK\n",
      "Running ant (run.gen.tests)................................................ OK\n",
      "Running ant (coverage.report).............................................. OK\n",
      "Extract test suite......................................................... OK\n",
      "Running ant (compile.gen.tests)............................................ "
     ]
    },
    {
     "name": "stdout",
     "output_type": "stream",
     "text": [
      "       Lines total: 231\n",
      "     Lines covered: 83\n",
      "  Conditions total: 158\n",
      "Conditions covered: 39\n",
      "     Line coverage: 35.9%\n",
      "Condition coverage: 24.7%\n"
     ]
    },
    {
     "name": "stderr",
     "output_type": "stream",
     "text": [
      "OK\n",
      "Running ant (coverage.instrument).......................................... OK\n",
      "Running ant (run.gen.tests)................................................ OK\n",
      "Running ant (coverage.report).............................................. OK\n",
      "Extract test suite......................................................... OK\n",
      "Running ant (compile.gen.tests)............................................ "
     ]
    },
    {
     "name": "stdout",
     "output_type": "stream",
     "text": [
      "       Lines total: 231\n",
      "     Lines covered: 35\n",
      "  Conditions total: 158\n",
      "Conditions covered: 20\n",
      "     Line coverage: 15.2%\n",
      "Condition coverage: 12.7%\n"
     ]
    },
    {
     "name": "stderr",
     "output_type": "stream",
     "text": [
      "OK\n",
      "Running ant (coverage.instrument).......................................... OK\n",
      "Running ant (run.gen.tests)................................................ OK\n",
      "Running ant (coverage.report).............................................. OK\n",
      "Extract test suite......................................................... OK\n",
      "Running ant (compile.gen.tests)............................................ "
     ]
    },
    {
     "name": "stdout",
     "output_type": "stream",
     "text": [
      "       Lines total: 231\n",
      "     Lines covered: 94\n",
      "  Conditions total: 158\n",
      "Conditions covered: 51\n",
      "     Line coverage: 40.7%\n",
      "Condition coverage: 32.3%\n"
     ]
    },
    {
     "name": "stderr",
     "output_type": "stream",
     "text": [
      "OK\n",
      "Running ant (coverage.instrument).......................................... OK\n",
      "Running ant (run.gen.tests)................................................ OK\n",
      "Running ant (coverage.report).............................................. OK\n",
      "Extract test suite......................................................... OK\n",
      "Running ant (compile.gen.tests)............................................ "
     ]
    },
    {
     "name": "stdout",
     "output_type": "stream",
     "text": [
      "       Lines total: 231\n",
      "     Lines covered: 93\n",
      "  Conditions total: 158\n",
      "Conditions covered: 43\n",
      "     Line coverage: 40.3%\n",
      "Condition coverage: 27.2%\n"
     ]
    },
    {
     "name": "stderr",
     "output_type": "stream",
     "text": [
      "OK\n",
      "Running ant (coverage.instrument).......................................... OK\n",
      "Running ant (run.gen.tests)................................................ OK\n",
      "Running ant (coverage.report).............................................. OK\n",
      "Extract test suite......................................................... OK\n",
      "Running ant (compile.gen.tests)............................................ "
     ]
    },
    {
     "name": "stdout",
     "output_type": "stream",
     "text": [
      "       Lines total: 231\n",
      "     Lines covered: 143\n",
      "  Conditions total: 158\n",
      "Conditions covered: 74\n",
      "     Line coverage: 61.9%\n",
      "Condition coverage: 46.8%\n"
     ]
    },
    {
     "name": "stderr",
     "output_type": "stream",
     "text": [
      "OK\n",
      "Running ant (coverage.instrument).......................................... OK\n",
      "Running ant (run.gen.tests)................................................ OK\n",
      "Running ant (coverage.report).............................................. OK\n",
      "Extract test suite......................................................... OK\n",
      "Running ant (compile.gen.tests)............................................ "
     ]
    },
    {
     "name": "stdout",
     "output_type": "stream",
     "text": [
      "       Lines total: 231\n",
      "     Lines covered: 80\n",
      "  Conditions total: 158\n",
      "Conditions covered: 42\n",
      "     Line coverage: 34.6%\n",
      "Condition coverage: 26.6%\n"
     ]
    },
    {
     "name": "stderr",
     "output_type": "stream",
     "text": [
      "OK\n",
      "Running ant (coverage.instrument).......................................... OK\n",
      "Running ant (run.gen.tests)................................................ OK\n",
      "Running ant (coverage.report).............................................. OK\n",
      "Extract test suite......................................................... OK\n",
      "Running ant (compile.gen.tests)............................................ "
     ]
    },
    {
     "name": "stdout",
     "output_type": "stream",
     "text": [
      "       Lines total: 231\n",
      "     Lines covered: 78\n",
      "  Conditions total: 158\n",
      "Conditions covered: 38\n",
      "     Line coverage: 33.8%\n",
      "Condition coverage: 24.1%\n"
     ]
    },
    {
     "name": "stderr",
     "output_type": "stream",
     "text": [
      "OK\n",
      "Running ant (coverage.instrument).......................................... OK\n",
      "Running ant (run.gen.tests)................................................ OK\n",
      "Running ant (coverage.report).............................................. OK\n",
      "Extract test suite......................................................... OK\n",
      "Running ant (compile.gen.tests)............................................ "
     ]
    },
    {
     "name": "stdout",
     "output_type": "stream",
     "text": [
      "       Lines total: 231\n",
      "     Lines covered: 5\n",
      "  Conditions total: 158\n",
      "Conditions covered: 3\n",
      "     Line coverage: 2.2%\n",
      "Condition coverage: 1.9%\n"
     ]
    },
    {
     "name": "stderr",
     "output_type": "stream",
     "text": [
      "OK\n",
      "Running ant (coverage.instrument).......................................... OK\n",
      "Running ant (run.gen.tests)................................................ OK\n",
      "Running ant (coverage.report).............................................. OK\n",
      "Extract test suite......................................................... OK\n",
      "Running ant (compile.gen.tests)............................................ "
     ]
    },
    {
     "name": "stdout",
     "output_type": "stream",
     "text": [
      "       Lines total: 231\n",
      "     Lines covered: 102\n",
      "  Conditions total: 158\n",
      "Conditions covered: 61\n",
      "     Line coverage: 44.2%\n",
      "Condition coverage: 38.6%\n"
     ]
    },
    {
     "name": "stderr",
     "output_type": "stream",
     "text": [
      "OK\n",
      "Running ant (coverage.instrument).......................................... OK\n",
      "Running ant (run.gen.tests)................................................ OK\n",
      "Running ant (coverage.report).............................................. OK\n",
      "Extract test suite......................................................... OK\n",
      "Running ant (compile.gen.tests)............................................ "
     ]
    },
    {
     "name": "stdout",
     "output_type": "stream",
     "text": [
      "       Lines total: 231\n",
      "     Lines covered: 24\n",
      "  Conditions total: 158\n",
      "Conditions covered: 14\n",
      "     Line coverage: 10.4%\n",
      "Condition coverage: 8.9%\n"
     ]
    },
    {
     "name": "stderr",
     "output_type": "stream",
     "text": [
      "OK\n",
      "Running ant (coverage.instrument).......................................... OK\n",
      "Running ant (run.gen.tests)................................................ OK\n",
      "Running ant (coverage.report).............................................. OK\n",
      "Extract test suite......................................................... OK\n",
      "Running ant (compile.gen.tests)............................................ "
     ]
    },
    {
     "name": "stdout",
     "output_type": "stream",
     "text": [
      "       Lines total: 231\n",
      "     Lines covered: 35\n",
      "  Conditions total: 158\n",
      "Conditions covered: 13\n",
      "     Line coverage: 15.2%\n",
      "Condition coverage: 8.2%\n"
     ]
    },
    {
     "name": "stderr",
     "output_type": "stream",
     "text": [
      "OK\n",
      "Running ant (coverage.instrument).......................................... OK\n",
      "Running ant (run.gen.tests)................................................ OK\n",
      "Running ant (coverage.report).............................................. OK\n",
      "Extract test suite......................................................... OK\n",
      "Running ant (compile.gen.tests)............................................ "
     ]
    },
    {
     "name": "stdout",
     "output_type": "stream",
     "text": [
      "       Lines total: 231\n",
      "     Lines covered: 6\n",
      "  Conditions total: 158\n",
      "Conditions covered: 1\n",
      "     Line coverage: 2.6%\n",
      "Condition coverage: 0.6%\n"
     ]
    },
    {
     "name": "stderr",
     "output_type": "stream",
     "text": [
      "OK\n",
      "Running ant (coverage.instrument).......................................... OK\n",
      "Running ant (run.gen.tests)................................................ OK\n",
      "Running ant (coverage.report).............................................. OK\n",
      "Extract test suite......................................................... OK\n",
      "Running ant (compile.gen.tests)............................................ "
     ]
    },
    {
     "name": "stdout",
     "output_type": "stream",
     "text": [
      "       Lines total: 231\n",
      "     Lines covered: 18\n",
      "  Conditions total: 158\n",
      "Conditions covered: 7\n",
      "     Line coverage: 7.8%\n",
      "Condition coverage: 4.4%\n"
     ]
    },
    {
     "name": "stderr",
     "output_type": "stream",
     "text": [
      "OK\n",
      "Running ant (coverage.instrument).......................................... OK\n",
      "Running ant (run.gen.tests)................................................ OK\n",
      "Running ant (coverage.report).............................................. OK\n",
      "Extract test suite......................................................... OK\n",
      "Running ant (compile.gen.tests)............................................ "
     ]
    },
    {
     "name": "stdout",
     "output_type": "stream",
     "text": [
      "       Lines total: 231\n",
      "     Lines covered: 23\n",
      "  Conditions total: 158\n",
      "Conditions covered: 3\n",
      "     Line coverage: 10.0%\n",
      "Condition coverage: 1.9%\n"
     ]
    },
    {
     "name": "stderr",
     "output_type": "stream",
     "text": [
      "OK\n",
      "Running ant (coverage.instrument).......................................... OK\n",
      "Running ant (run.gen.tests)................................................ OK\n",
      "Running ant (coverage.report).............................................. OK\n",
      "Extract test suite......................................................... OK\n",
      "Running ant (compile.gen.tests)............................................ "
     ]
    },
    {
     "name": "stdout",
     "output_type": "stream",
     "text": [
      "       Lines total: 231\n",
      "     Lines covered: 13\n",
      "  Conditions total: 158\n",
      "Conditions covered: 4\n",
      "     Line coverage: 5.6%\n",
      "Condition coverage: 2.5%\n"
     ]
    },
    {
     "name": "stderr",
     "output_type": "stream",
     "text": [
      "OK\n",
      "Running ant (coverage.instrument).......................................... OK\n",
      "Running ant (run.gen.tests)................................................ OK\n",
      "Running ant (coverage.report).............................................. OK\n",
      "Extract test suite......................................................... OK\n",
      "Running ant (compile.gen.tests)............................................ "
     ]
    },
    {
     "name": "stdout",
     "output_type": "stream",
     "text": [
      "       Lines total: 231\n",
      "     Lines covered: 12\n",
      "  Conditions total: 158\n",
      "Conditions covered: 3\n",
      "     Line coverage: 5.2%\n",
      "Condition coverage: 1.9%\n"
     ]
    },
    {
     "name": "stderr",
     "output_type": "stream",
     "text": [
      "OK\n",
      "Running ant (coverage.instrument).......................................... OK\n",
      "Running ant (run.gen.tests)................................................ OK\n",
      "Running ant (coverage.report).............................................. OK\n",
      "Extract test suite......................................................... OK\n",
      "Running ant (compile.gen.tests)............................................ "
     ]
    },
    {
     "name": "stdout",
     "output_type": "stream",
     "text": [
      "       Lines total: 231\n",
      "     Lines covered: 13\n",
      "  Conditions total: 158\n",
      "Conditions covered: 4\n",
      "     Line coverage: 5.6%\n",
      "Condition coverage: 2.5%\n"
     ]
    },
    {
     "name": "stderr",
     "output_type": "stream",
     "text": [
      "OK\n",
      "Running ant (coverage.instrument).......................................... OK\n",
      "Running ant (run.gen.tests)................................................ OK\n",
      "Running ant (coverage.report).............................................. OK\n",
      "Extract test suite......................................................... OK\n",
      "Running ant (compile.gen.tests)............................................ "
     ]
    },
    {
     "name": "stdout",
     "output_type": "stream",
     "text": [
      "       Lines total: 231\n",
      "     Lines covered: 13\n",
      "  Conditions total: 158\n",
      "Conditions covered: 4\n",
      "     Line coverage: 5.6%\n",
      "Condition coverage: 2.5%\n"
     ]
    },
    {
     "name": "stderr",
     "output_type": "stream",
     "text": [
      "OK\n",
      "Running ant (coverage.instrument).......................................... OK\n",
      "Running ant (run.gen.tests)................................................ OK\n",
      "Running ant (coverage.report).............................................. OK\n",
      "Extract test suite......................................................... OK\n",
      "Running ant (compile.gen.tests)............................................ "
     ]
    },
    {
     "name": "stdout",
     "output_type": "stream",
     "text": [
      "       Lines total: 231\n",
      "     Lines covered: 11\n",
      "  Conditions total: 158\n",
      "Conditions covered: 12\n",
      "     Line coverage: 4.8%\n",
      "Condition coverage: 7.6%\n"
     ]
    },
    {
     "name": "stderr",
     "output_type": "stream",
     "text": [
      "OK\n",
      "Running ant (coverage.instrument).......................................... OK\n",
      "Running ant (run.gen.tests)................................................ OK\n",
      "Running ant (coverage.report).............................................. OK\n",
      "Extract test suite......................................................... OK\n",
      "Running ant (compile.gen.tests)............................................ "
     ]
    },
    {
     "name": "stdout",
     "output_type": "stream",
     "text": [
      "       Lines total: 231\n",
      "     Lines covered: 91\n",
      "  Conditions total: 158\n",
      "Conditions covered: 47\n",
      "     Line coverage: 39.4%\n",
      "Condition coverage: 29.7%\n"
     ]
    },
    {
     "name": "stderr",
     "output_type": "stream",
     "text": [
      "OK\n",
      "Running ant (coverage.instrument).......................................... OK\n",
      "Running ant (run.gen.tests)................................................ OK\n",
      "Running ant (coverage.report).............................................. OK\n",
      "Extract test suite......................................................... OK\n",
      "Running ant (compile.gen.tests)............................................ "
     ]
    },
    {
     "name": "stdout",
     "output_type": "stream",
     "text": [
      "       Lines total: 231\n",
      "     Lines covered: 23\n",
      "  Conditions total: 158\n",
      "Conditions covered: 13\n",
      "     Line coverage: 10.0%\n",
      "Condition coverage: 8.2%\n"
     ]
    },
    {
     "name": "stderr",
     "output_type": "stream",
     "text": [
      "OK\n",
      "Running ant (coverage.instrument).......................................... OK\n",
      "Running ant (run.gen.tests)................................................ OK\n",
      "Running ant (coverage.report).............................................. OK\n",
      "Extract test suite......................................................... OK\n",
      "Running ant (compile.gen.tests)............................................ "
     ]
    },
    {
     "name": "stdout",
     "output_type": "stream",
     "text": [
      "       Lines total: 231\n",
      "     Lines covered: 34\n",
      "  Conditions total: 158\n",
      "Conditions covered: 14\n",
      "     Line coverage: 14.7%\n",
      "Condition coverage: 8.9%\n"
     ]
    },
    {
     "name": "stderr",
     "output_type": "stream",
     "text": [
      "OK\n",
      "Running ant (coverage.instrument).......................................... OK\n",
      "Running ant (run.gen.tests)................................................ OK\n",
      "Running ant (coverage.report).............................................. OK\n",
      "Extract test suite......................................................... OK\n",
      "Running ant (compile.gen.tests)............................................ "
     ]
    },
    {
     "name": "stdout",
     "output_type": "stream",
     "text": [
      "       Lines total: 231\n",
      "     Lines covered: 41\n",
      "  Conditions total: 158\n",
      "Conditions covered: 17\n",
      "     Line coverage: 17.7%\n",
      "Condition coverage: 10.8%\n"
     ]
    },
    {
     "name": "stderr",
     "output_type": "stream",
     "text": [
      "OK\n",
      "Running ant (coverage.instrument).......................................... OK\n",
      "Running ant (run.gen.tests)................................................ OK\n",
      "Running ant (coverage.report).............................................. OK\n",
      "Extract test suite......................................................... OK\n",
      "Running ant (compile.gen.tests)............................................ "
     ]
    },
    {
     "name": "stdout",
     "output_type": "stream",
     "text": [
      "       Lines total: 231\n",
      "     Lines covered: 131\n",
      "  Conditions total: 158\n",
      "Conditions covered: 72\n",
      "     Line coverage: 56.7%\n",
      "Condition coverage: 45.6%\n"
     ]
    },
    {
     "name": "stderr",
     "output_type": "stream",
     "text": [
      "OK\n",
      "Running ant (coverage.instrument).......................................... OK\n",
      "Running ant (run.gen.tests)................................................ OK\n",
      "Running ant (coverage.report).............................................. OK\n",
      "WARNING: Some tests failed (see /Users/hugoyin/Desktop/UIUC/CS_527/CS_527_Project/Defects4J/Codec_4/Buggy-Version/Codec_4B/failing_tests)!\n",
      "Extract test suite......................................................... OK\n",
      "Running ant (compile.gen.tests)............................................ "
     ]
    },
    {
     "name": "stdout",
     "output_type": "stream",
     "text": [
      "       Lines total: 231\n",
      "     Lines covered: 83\n",
      "  Conditions total: 158\n",
      "Conditions covered: 41\n",
      "     Line coverage: 35.9%\n",
      "Condition coverage: 25.9%\n"
     ]
    },
    {
     "name": "stderr",
     "output_type": "stream",
     "text": [
      "OK\n",
      "Running ant (coverage.instrument).......................................... OK\n",
      "Running ant (run.gen.tests)................................................ OK\n",
      "Running ant (coverage.report).............................................. OK\n",
      "Extract test suite......................................................... OK\n",
      "Running ant (compile.gen.tests)............................................ "
     ]
    },
    {
     "name": "stdout",
     "output_type": "stream",
     "text": [
      "       Lines total: 231\n",
      "     Lines covered: 6\n",
      "  Conditions total: 158\n",
      "Conditions covered: 1\n",
      "     Line coverage: 2.6%\n",
      "Condition coverage: 0.6%\n"
     ]
    },
    {
     "name": "stderr",
     "output_type": "stream",
     "text": [
      "OK\n",
      "Running ant (coverage.instrument).......................................... OK\n",
      "Running ant (run.gen.tests)................................................ OK\n",
      "Running ant (coverage.report).............................................. OK\n",
      "Extract test suite......................................................... OK\n",
      "Running ant (compile.gen.tests)............................................ "
     ]
    },
    {
     "name": "stdout",
     "output_type": "stream",
     "text": [
      "       Lines total: 231\n",
      "     Lines covered: 9\n",
      "  Conditions total: 158\n",
      "Conditions covered: 1\n",
      "     Line coverage: 3.9%\n",
      "Condition coverage: 0.6%\n"
     ]
    },
    {
     "name": "stderr",
     "output_type": "stream",
     "text": [
      "OK\n",
      "Running ant (coverage.instrument).......................................... OK\n",
      "Running ant (run.gen.tests)................................................ OK\n",
      "Running ant (coverage.report).............................................. OK\n",
      "Extract test suite......................................................... OK\n",
      "Running ant (compile.gen.tests)............................................ "
     ]
    },
    {
     "name": "stdout",
     "output_type": "stream",
     "text": [
      "       Lines total: 231\n",
      "     Lines covered: 85\n",
      "  Conditions total: 158\n",
      "Conditions covered: 45\n",
      "     Line coverage: 36.8%\n",
      "Condition coverage: 28.5%\n"
     ]
    },
    {
     "name": "stderr",
     "output_type": "stream",
     "text": [
      "OK\n",
      "Running ant (coverage.instrument).......................................... OK\n",
      "Running ant (run.gen.tests)................................................ OK\n",
      "Running ant (coverage.report).............................................. OK\n",
      "Extract test suite......................................................... OK\n",
      "Running ant (compile.gen.tests)............................................ "
     ]
    },
    {
     "name": "stdout",
     "output_type": "stream",
     "text": [
      "       Lines total: 231\n",
      "     Lines covered: 26\n",
      "  Conditions total: 158\n",
      "Conditions covered: 14\n",
      "     Line coverage: 11.3%\n",
      "Condition coverage: 8.9%\n"
     ]
    },
    {
     "name": "stderr",
     "output_type": "stream",
     "text": [
      "OK\n",
      "Running ant (coverage.instrument).......................................... OK\n",
      "Running ant (run.gen.tests)................................................ OK\n",
      "Running ant (coverage.report).............................................. OK\n",
      "Extract test suite......................................................... OK\n",
      "Running ant (compile.gen.tests)............................................ "
     ]
    },
    {
     "name": "stdout",
     "output_type": "stream",
     "text": [
      "       Lines total: 231\n",
      "     Lines covered: 6\n",
      "  Conditions total: 158\n",
      "Conditions covered: 1\n",
      "     Line coverage: 2.6%\n",
      "Condition coverage: 0.6%\n"
     ]
    },
    {
     "name": "stderr",
     "output_type": "stream",
     "text": [
      "OK\n",
      "Running ant (coverage.instrument).......................................... OK\n",
      "Running ant (run.gen.tests)................................................ OK\n",
      "Running ant (coverage.report).............................................. OK\n",
      "Extract test suite......................................................... OK\n",
      "Running ant (compile.gen.tests)............................................ "
     ]
    },
    {
     "name": "stdout",
     "output_type": "stream",
     "text": [
      "       Lines total: 231\n",
      "     Lines covered: 5\n",
      "  Conditions total: 158\n",
      "Conditions covered: 0\n",
      "     Line coverage: 2.2%\n",
      "Condition coverage: 0.0%\n"
     ]
    },
    {
     "name": "stderr",
     "output_type": "stream",
     "text": [
      "OK\n",
      "Running ant (coverage.instrument).......................................... OK\n",
      "Running ant (run.gen.tests)................................................ OK\n",
      "Running ant (coverage.report).............................................. OK\n",
      "Extract test suite......................................................... OK\n",
      "Running ant (compile.gen.tests)............................................ "
     ]
    },
    {
     "name": "stdout",
     "output_type": "stream",
     "text": [
      "       Lines total: 231\n",
      "     Lines covered: 9\n",
      "  Conditions total: 158\n",
      "Conditions covered: 2\n",
      "     Line coverage: 3.9%\n",
      "Condition coverage: 1.3%\n"
     ]
    },
    {
     "name": "stderr",
     "output_type": "stream",
     "text": [
      "OK\n",
      "Running ant (coverage.instrument).......................................... OK\n",
      "Running ant (run.gen.tests)................................................ OK\n",
      "Running ant (coverage.report).............................................. OK\n",
      "Extract test suite......................................................... OK\n",
      "Running ant (compile.gen.tests)............................................ "
     ]
    },
    {
     "name": "stdout",
     "output_type": "stream",
     "text": [
      "       Lines total: 231\n",
      "     Lines covered: 38\n",
      "  Conditions total: 158\n",
      "Conditions covered: 18\n",
      "     Line coverage: 16.5%\n",
      "Condition coverage: 11.4%\n"
     ]
    },
    {
     "name": "stderr",
     "output_type": "stream",
     "text": [
      "OK\n",
      "Running ant (coverage.instrument).......................................... OK\n",
      "Running ant (run.gen.tests)................................................ OK\n",
      "Running ant (coverage.report).............................................. OK\n",
      "Extract test suite......................................................... OK\n",
      "Running ant (compile.gen.tests)............................................ "
     ]
    },
    {
     "name": "stdout",
     "output_type": "stream",
     "text": [
      "       Lines total: 231\n",
      "     Lines covered: 10\n",
      "  Conditions total: 158\n",
      "Conditions covered: 3\n",
      "     Line coverage: 4.3%\n",
      "Condition coverage: 1.9%\n"
     ]
    },
    {
     "name": "stderr",
     "output_type": "stream",
     "text": [
      "OK\n",
      "Running ant (coverage.instrument).......................................... OK\n",
      "Running ant (run.gen.tests)................................................ OK\n",
      "Running ant (coverage.report).............................................. OK\n",
      "Extract test suite......................................................... OK\n",
      "Running ant (compile.gen.tests)............................................ "
     ]
    },
    {
     "name": "stdout",
     "output_type": "stream",
     "text": [
      "       Lines total: 231\n",
      "     Lines covered: 49\n",
      "  Conditions total: 158\n",
      "Conditions covered: 25\n",
      "     Line coverage: 21.2%\n",
      "Condition coverage: 15.8%\n"
     ]
    },
    {
     "name": "stderr",
     "output_type": "stream",
     "text": [
      "OK\n",
      "Running ant (coverage.instrument).......................................... OK\n",
      "Running ant (run.gen.tests)................................................ OK\n",
      "Running ant (coverage.report).............................................. OK\n",
      "Extract test suite......................................................... OK\n",
      "Running ant (compile.gen.tests)............................................ "
     ]
    },
    {
     "name": "stdout",
     "output_type": "stream",
     "text": [
      "       Lines total: 231\n",
      "     Lines covered: 5\n",
      "  Conditions total: 158\n",
      "Conditions covered: 2\n",
      "     Line coverage: 2.2%\n",
      "Condition coverage: 1.3%\n"
     ]
    },
    {
     "name": "stderr",
     "output_type": "stream",
     "text": [
      "OK\n",
      "Running ant (coverage.instrument).......................................... OK\n",
      "Running ant (run.gen.tests)................................................ OK\n",
      "Running ant (coverage.report).............................................. OK\n",
      "Extract test suite......................................................... OK\n",
      "Running ant (compile.gen.tests)............................................ "
     ]
    },
    {
     "name": "stdout",
     "output_type": "stream",
     "text": [
      "       Lines total: 231\n",
      "     Lines covered: 105\n",
      "  Conditions total: 158\n",
      "Conditions covered: 54\n",
      "     Line coverage: 45.5%\n",
      "Condition coverage: 34.2%\n"
     ]
    },
    {
     "name": "stderr",
     "output_type": "stream",
     "text": [
      "OK\n",
      "Running ant (coverage.instrument).......................................... OK\n",
      "Running ant (run.gen.tests)................................................ OK\n",
      "Running ant (coverage.report).............................................. OK\n",
      "Extract test suite......................................................... OK\n",
      "Running ant (compile.gen.tests)............................................ "
     ]
    },
    {
     "name": "stdout",
     "output_type": "stream",
     "text": [
      "       Lines total: 231\n",
      "     Lines covered: 23\n",
      "  Conditions total: 158\n",
      "Conditions covered: 12\n",
      "     Line coverage: 10.0%\n",
      "Condition coverage: 7.6%\n"
     ]
    },
    {
     "name": "stderr",
     "output_type": "stream",
     "text": [
      "OK\n",
      "Running ant (coverage.instrument).......................................... OK\n",
      "Running ant (run.gen.tests)................................................ OK\n",
      "Running ant (coverage.report).............................................. OK\n",
      "Extract test suite......................................................... OK\n",
      "Running ant (compile.gen.tests)............................................ "
     ]
    },
    {
     "name": "stdout",
     "output_type": "stream",
     "text": [
      "       Lines total: 231\n",
      "     Lines covered: 82\n",
      "  Conditions total: 158\n",
      "Conditions covered: 39\n",
      "     Line coverage: 35.5%\n",
      "Condition coverage: 24.7%\n"
     ]
    },
    {
     "name": "stderr",
     "output_type": "stream",
     "text": [
      "OK\n",
      "Running ant (coverage.instrument).......................................... OK\n",
      "Running ant (run.gen.tests)................................................ OK\n",
      "Running ant (coverage.report).............................................. OK\n",
      "Extract test suite......................................................... OK\n",
      "Running ant (compile.gen.tests)............................................ "
     ]
    },
    {
     "name": "stdout",
     "output_type": "stream",
     "text": [
      "       Lines total: 231\n",
      "     Lines covered: 38\n",
      "  Conditions total: 158\n",
      "Conditions covered: 18\n",
      "     Line coverage: 16.5%\n",
      "Condition coverage: 11.4%\n"
     ]
    },
    {
     "name": "stderr",
     "output_type": "stream",
     "text": [
      "OK\n",
      "Running ant (coverage.instrument).......................................... OK\n",
      "Running ant (run.gen.tests)................................................ OK\n",
      "Running ant (coverage.report).............................................. OK\n",
      "Extract test suite......................................................... OK\n",
      "Running ant (compile.gen.tests)............................................ "
     ]
    },
    {
     "name": "stdout",
     "output_type": "stream",
     "text": [
      "       Lines total: 231\n",
      "     Lines covered: 43\n",
      "  Conditions total: 158\n",
      "Conditions covered: 18\n",
      "     Line coverage: 18.6%\n",
      "Condition coverage: 11.4%\n"
     ]
    },
    {
     "name": "stderr",
     "output_type": "stream",
     "text": [
      "OK\n",
      "Running ant (coverage.instrument).......................................... OK\n",
      "Running ant (run.gen.tests)................................................ OK\n",
      "Running ant (coverage.report).............................................. OK\n",
      "Extract test suite......................................................... OK\n",
      "Running ant (compile.gen.tests)............................................ "
     ]
    },
    {
     "name": "stdout",
     "output_type": "stream",
     "text": [
      "       Lines total: 231\n",
      "     Lines covered: 48\n",
      "  Conditions total: 158\n",
      "Conditions covered: 21\n",
      "     Line coverage: 20.8%\n",
      "Condition coverage: 13.3%\n"
     ]
    },
    {
     "name": "stderr",
     "output_type": "stream",
     "text": [
      "OK\n",
      "Running ant (coverage.instrument).......................................... OK\n",
      "Running ant (run.gen.tests)................................................ OK\n",
      "Running ant (coverage.report).............................................. OK\n",
      "Extract test suite......................................................... OK\n",
      "Running ant (compile.gen.tests)............................................ "
     ]
    },
    {
     "name": "stdout",
     "output_type": "stream",
     "text": [
      "       Lines total: 231\n",
      "     Lines covered: 9\n",
      "  Conditions total: 158\n",
      "Conditions covered: 1\n",
      "     Line coverage: 3.9%\n",
      "Condition coverage: 0.6%\n"
     ]
    },
    {
     "name": "stderr",
     "output_type": "stream",
     "text": [
      "OK\n",
      "Running ant (coverage.instrument).......................................... OK\n",
      "Running ant (run.gen.tests)................................................ OK\n",
      "Running ant (coverage.report).............................................. OK\n",
      "Extract test suite......................................................... OK\n",
      "Running ant (compile.gen.tests)............................................ "
     ]
    },
    {
     "name": "stdout",
     "output_type": "stream",
     "text": [
      "       Lines total: 231\n",
      "     Lines covered: 8\n",
      "  Conditions total: 158\n",
      "Conditions covered: 1\n",
      "     Line coverage: 3.5%\n",
      "Condition coverage: 0.6%\n"
     ]
    },
    {
     "name": "stderr",
     "output_type": "stream",
     "text": [
      "OK\n",
      "Running ant (coverage.instrument).......................................... OK\n",
      "Running ant (run.gen.tests)................................................ OK\n",
      "Running ant (coverage.report).............................................. OK\n",
      "Extract test suite......................................................... OK\n",
      "Running ant (compile.gen.tests)............................................ "
     ]
    },
    {
     "name": "stdout",
     "output_type": "stream",
     "text": [
      "       Lines total: 231\n",
      "     Lines covered: 37\n",
      "  Conditions total: 158\n",
      "Conditions covered: 20\n",
      "     Line coverage: 16.0%\n",
      "Condition coverage: 12.7%\n"
     ]
    },
    {
     "name": "stderr",
     "output_type": "stream",
     "text": [
      "OK\n",
      "Running ant (coverage.instrument).......................................... OK\n",
      "Running ant (run.gen.tests)................................................ OK\n",
      "Running ant (coverage.report).............................................. OK\n",
      "Extract test suite......................................................... OK\n",
      "Running ant (compile.gen.tests)............................................ "
     ]
    },
    {
     "name": "stdout",
     "output_type": "stream",
     "text": [
      "       Lines total: 231\n",
      "     Lines covered: 43\n",
      "  Conditions total: 158\n",
      "Conditions covered: 24\n",
      "     Line coverage: 18.6%\n",
      "Condition coverage: 15.2%\n"
     ]
    },
    {
     "name": "stderr",
     "output_type": "stream",
     "text": [
      "OK\n",
      "Running ant (coverage.instrument).......................................... OK\n",
      "Running ant (run.gen.tests)................................................ OK\n",
      "Running ant (coverage.report).............................................. OK\n",
      "Extract test suite......................................................... OK\n",
      "Running ant (compile.gen.tests)............................................ "
     ]
    },
    {
     "name": "stdout",
     "output_type": "stream",
     "text": [
      "       Lines total: 231\n",
      "     Lines covered: 31\n",
      "  Conditions total: 158\n",
      "Conditions covered: 17\n",
      "     Line coverage: 13.4%\n",
      "Condition coverage: 10.8%\n"
     ]
    },
    {
     "name": "stderr",
     "output_type": "stream",
     "text": [
      "OK\n",
      "Running ant (coverage.instrument).......................................... OK\n",
      "Running ant (run.gen.tests)................................................ OK\n",
      "Running ant (coverage.report).............................................. OK\n",
      "Extract test suite......................................................... OK\n",
      "Running ant (compile.gen.tests)............................................ "
     ]
    },
    {
     "name": "stdout",
     "output_type": "stream",
     "text": [
      "       Lines total: 231\n",
      "     Lines covered: 32\n",
      "  Conditions total: 158\n",
      "Conditions covered: 19\n",
      "     Line coverage: 13.9%\n",
      "Condition coverage: 12.0%\n"
     ]
    },
    {
     "name": "stderr",
     "output_type": "stream",
     "text": [
      "OK\n",
      "Running ant (coverage.instrument).......................................... OK\n",
      "Running ant (run.gen.tests)................................................ OK\n",
      "Running ant (coverage.report).............................................. OK\n",
      "Extract test suite......................................................... OK\n",
      "Running ant (compile.gen.tests)............................................ "
     ]
    },
    {
     "name": "stdout",
     "output_type": "stream",
     "text": [
      "       Lines total: 231\n",
      "     Lines covered: 91\n",
      "  Conditions total: 158\n",
      "Conditions covered: 42\n",
      "     Line coverage: 39.4%\n",
      "Condition coverage: 26.6%\n"
     ]
    },
    {
     "name": "stderr",
     "output_type": "stream",
     "text": [
      "OK\n",
      "Running ant (coverage.instrument).......................................... OK\n",
      "Running ant (run.gen.tests)................................................ OK\n",
      "Running ant (coverage.report).............................................. OK\n",
      "Extract test suite......................................................... OK\n",
      "Running ant (compile.gen.tests)............................................ "
     ]
    },
    {
     "name": "stdout",
     "output_type": "stream",
     "text": [
      "       Lines total: 231\n",
      "     Lines covered: 36\n",
      "  Conditions total: 158\n",
      "Conditions covered: 23\n",
      "     Line coverage: 15.6%\n",
      "Condition coverage: 14.6%\n"
     ]
    },
    {
     "name": "stderr",
     "output_type": "stream",
     "text": [
      "OK\n",
      "Running ant (coverage.instrument).......................................... OK\n",
      "Running ant (run.gen.tests)................................................ OK\n",
      "Running ant (coverage.report).............................................. OK\n",
      "Extract test suite......................................................... OK\n",
      "Running ant (compile.gen.tests)............................................ "
     ]
    },
    {
     "name": "stdout",
     "output_type": "stream",
     "text": [
      "       Lines total: 231\n",
      "     Lines covered: 31\n",
      "  Conditions total: 158\n",
      "Conditions covered: 19\n",
      "     Line coverage: 13.4%\n",
      "Condition coverage: 12.0%\n"
     ]
    },
    {
     "name": "stderr",
     "output_type": "stream",
     "text": [
      "OK\n",
      "Running ant (coverage.instrument).......................................... OK\n",
      "Running ant (run.gen.tests)................................................ OK\n",
      "Running ant (coverage.report).............................................. OK\n",
      "Extract test suite......................................................... OK\n",
      "Running ant (compile.gen.tests)............................................ "
     ]
    },
    {
     "name": "stdout",
     "output_type": "stream",
     "text": [
      "       Lines total: 231\n",
      "     Lines covered: 27\n",
      "  Conditions total: 158\n",
      "Conditions covered: 15\n",
      "     Line coverage: 11.7%\n",
      "Condition coverage: 9.5%\n"
     ]
    },
    {
     "name": "stderr",
     "output_type": "stream",
     "text": [
      "OK\n",
      "Running ant (coverage.instrument).......................................... OK\n",
      "Running ant (run.gen.tests)................................................ OK\n",
      "Running ant (coverage.report).............................................. OK\n",
      "Extract test suite......................................................... OK\n",
      "Running ant (compile.gen.tests)............................................ "
     ]
    },
    {
     "name": "stdout",
     "output_type": "stream",
     "text": [
      "       Lines total: 231\n",
      "     Lines covered: 108\n",
      "  Conditions total: 158\n",
      "Conditions covered: 61\n",
      "     Line coverage: 46.8%\n",
      "Condition coverage: 38.6%\n"
     ]
    },
    {
     "name": "stderr",
     "output_type": "stream",
     "text": [
      "OK\n",
      "Running ant (coverage.instrument).......................................... OK\n",
      "Running ant (run.gen.tests)................................................ OK\n",
      "Running ant (coverage.report).............................................. OK\n",
      "Extract test suite......................................................... OK\n",
      "Running ant (compile.gen.tests)............................................ "
     ]
    },
    {
     "name": "stdout",
     "output_type": "stream",
     "text": [
      "       Lines total: 231\n",
      "     Lines covered: 41\n",
      "  Conditions total: 158\n",
      "Conditions covered: 18\n",
      "     Line coverage: 17.7%\n",
      "Condition coverage: 11.4%\n"
     ]
    },
    {
     "name": "stderr",
     "output_type": "stream",
     "text": [
      "OK\n",
      "Running ant (coverage.instrument).......................................... OK\n",
      "Running ant (run.gen.tests)................................................ OK\n",
      "Running ant (coverage.report).............................................. OK\n",
      "Extract test suite......................................................... OK\n",
      "Running ant (compile.gen.tests)............................................ "
     ]
    },
    {
     "name": "stdout",
     "output_type": "stream",
     "text": [
      "       Lines total: 231\n",
      "     Lines covered: 7\n",
      "  Conditions total: 158\n",
      "Conditions covered: 1\n",
      "     Line coverage: 3.0%\n",
      "Condition coverage: 0.6%\n"
     ]
    },
    {
     "name": "stderr",
     "output_type": "stream",
     "text": [
      "OK\n",
      "Running ant (coverage.instrument).......................................... OK\n",
      "Running ant (run.gen.tests)................................................ OK\n",
      "Running ant (coverage.report).............................................. OK\n",
      "Extract test suite......................................................... OK\n",
      "Running ant (compile.gen.tests)............................................ "
     ]
    },
    {
     "name": "stdout",
     "output_type": "stream",
     "text": [
      "       Lines total: 231\n",
      "     Lines covered: 5\n",
      "  Conditions total: 158\n",
      "Conditions covered: 4\n",
      "     Line coverage: 2.2%\n",
      "Condition coverage: 2.5%\n"
     ]
    },
    {
     "name": "stderr",
     "output_type": "stream",
     "text": [
      "OK\n",
      "Running ant (coverage.instrument).......................................... OK\n",
      "Running ant (run.gen.tests)................................................ OK\n",
      "Running ant (coverage.report).............................................. OK\n",
      "Extract test suite......................................................... OK\n",
      "Running ant (compile.gen.tests)............................................ "
     ]
    },
    {
     "name": "stdout",
     "output_type": "stream",
     "text": [
      "       Lines total: 231\n",
      "     Lines covered: 44\n",
      "  Conditions total: 158\n",
      "Conditions covered: 18\n",
      "     Line coverage: 19.0%\n",
      "Condition coverage: 11.4%\n"
     ]
    },
    {
     "name": "stderr",
     "output_type": "stream",
     "text": [
      "OK\n",
      "Running ant (coverage.instrument).......................................... OK\n",
      "Running ant (run.gen.tests)................................................ OK\n",
      "Running ant (coverage.report).............................................. OK\n",
      "Extract test suite......................................................... OK\n",
      "Running ant (compile.gen.tests)............................................ "
     ]
    },
    {
     "name": "stdout",
     "output_type": "stream",
     "text": [
      "       Lines total: 231\n",
      "     Lines covered: 82\n",
      "  Conditions total: 158\n",
      "Conditions covered: 40\n",
      "     Line coverage: 35.5%\n",
      "Condition coverage: 25.3%\n"
     ]
    },
    {
     "name": "stderr",
     "output_type": "stream",
     "text": [
      "OK\n",
      "Running ant (coverage.instrument).......................................... OK\n",
      "Running ant (run.gen.tests)................................................ OK\n",
      "Running ant (coverage.report).............................................. OK\n",
      "Extract test suite......................................................... OK\n",
      "Running ant (compile.gen.tests)............................................ "
     ]
    },
    {
     "name": "stdout",
     "output_type": "stream",
     "text": [
      "       Lines total: 231\n",
      "     Lines covered: 38\n",
      "  Conditions total: 158\n",
      "Conditions covered: 18\n",
      "     Line coverage: 16.5%\n",
      "Condition coverage: 11.4%\n"
     ]
    },
    {
     "name": "stderr",
     "output_type": "stream",
     "text": [
      "OK\n",
      "Running ant (coverage.instrument).......................................... OK\n",
      "Running ant (run.gen.tests)................................................ OK\n",
      "Running ant (coverage.report).............................................. OK\n",
      "Extract test suite......................................................... OK\n",
      "Running ant (compile.gen.tests)............................................ "
     ]
    },
    {
     "name": "stdout",
     "output_type": "stream",
     "text": [
      "       Lines total: 231\n",
      "     Lines covered: 39\n",
      "  Conditions total: 158\n",
      "Conditions covered: 14\n",
      "     Line coverage: 16.9%\n",
      "Condition coverage: 8.9%\n"
     ]
    },
    {
     "name": "stderr",
     "output_type": "stream",
     "text": [
      "OK\n",
      "Running ant (coverage.instrument).......................................... OK\n",
      "Running ant (run.gen.tests)................................................ OK\n",
      "Running ant (coverage.report).............................................. OK\n",
      "Extract test suite......................................................... OK\n",
      "Running ant (compile.gen.tests)............................................ "
     ]
    },
    {
     "name": "stdout",
     "output_type": "stream",
     "text": [
      "       Lines total: 231\n",
      "     Lines covered: 26\n",
      "  Conditions total: 158\n",
      "Conditions covered: 14\n",
      "     Line coverage: 11.3%\n",
      "Condition coverage: 8.9%\n"
     ]
    },
    {
     "name": "stderr",
     "output_type": "stream",
     "text": [
      "OK\n",
      "Running ant (coverage.instrument).......................................... OK\n",
      "Running ant (run.gen.tests)................................................ OK\n",
      "Running ant (coverage.report).............................................. OK\n",
      "Extract test suite......................................................... OK\n",
      "Running ant (compile.gen.tests)............................................ "
     ]
    },
    {
     "name": "stdout",
     "output_type": "stream",
     "text": [
      "       Lines total: 231\n",
      "     Lines covered: 36\n",
      "  Conditions total: 158\n",
      "Conditions covered: 20\n",
      "     Line coverage: 15.6%\n",
      "Condition coverage: 12.7%\n"
     ]
    },
    {
     "name": "stderr",
     "output_type": "stream",
     "text": [
      "OK\n",
      "Running ant (coverage.instrument).......................................... OK\n",
      "Running ant (run.gen.tests)................................................ OK\n",
      "Running ant (coverage.report).............................................. OK\n",
      "Extract test suite......................................................... OK\n",
      "Running ant (compile.gen.tests)............................................ "
     ]
    },
    {
     "name": "stdout",
     "output_type": "stream",
     "text": [
      "       Lines total: 231\n",
      "     Lines covered: 172\n",
      "  Conditions total: 158\n",
      "Conditions covered: 86\n",
      "     Line coverage: 74.5%\n",
      "Condition coverage: 54.4%\n"
     ]
    },
    {
     "name": "stderr",
     "output_type": "stream",
     "text": [
      "OK\n",
      "Running ant (coverage.instrument).......................................... OK\n",
      "Running ant (run.gen.tests)................................................ OK\n",
      "Running ant (coverage.report).............................................. OK\n",
      "Extract test suite......................................................... OK\n",
      "Running ant (compile.gen.tests)............................................ "
     ]
    },
    {
     "name": "stdout",
     "output_type": "stream",
     "text": [
      "       Lines total: 231\n",
      "     Lines covered: 183\n",
      "  Conditions total: 158\n",
      "Conditions covered: 95\n",
      "     Line coverage: 79.2%\n",
      "Condition coverage: 60.1%\n"
     ]
    },
    {
     "name": "stderr",
     "output_type": "stream",
     "text": [
      "OK\n",
      "Running ant (coverage.instrument).......................................... OK\n",
      "Running ant (run.gen.tests)................................................ OK\n",
      "Running ant (coverage.report).............................................. OK\n",
      "Extract test suite......................................................... OK\n",
      "Running ant (compile.gen.tests)............................................ "
     ]
    },
    {
     "name": "stdout",
     "output_type": "stream",
     "text": [
      "       Lines total: 231\n",
      "     Lines covered: 185\n",
      "  Conditions total: 158\n",
      "Conditions covered: 96\n",
      "     Line coverage: 80.1%\n",
      "Condition coverage: 60.8%\n"
     ]
    },
    {
     "name": "stderr",
     "output_type": "stream",
     "text": [
      "OK\n",
      "Running ant (coverage.instrument).......................................... OK\n",
      "Running ant (run.gen.tests)................................................ OK\n",
      "Running ant (coverage.report).............................................. OK\n",
      "Extract test suite......................................................... OK\n",
      "Running ant (compile.gen.tests)............................................ "
     ]
    },
    {
     "name": "stdout",
     "output_type": "stream",
     "text": [
      "       Lines total: 231\n",
      "     Lines covered: 37\n",
      "  Conditions total: 158\n",
      "Conditions covered: 20\n",
      "     Line coverage: 16.0%\n",
      "Condition coverage: 12.7%\n"
     ]
    },
    {
     "name": "stderr",
     "output_type": "stream",
     "text": [
      "OK\n",
      "Running ant (coverage.instrument).......................................... OK\n",
      "Running ant (run.gen.tests)................................................ OK\n",
      "Running ant (coverage.report).............................................. OK\n",
      "Extract test suite......................................................... OK\n",
      "Running ant (compile.gen.tests)............................................ "
     ]
    },
    {
     "name": "stdout",
     "output_type": "stream",
     "text": [
      "       Lines total: 231\n",
      "     Lines covered: 5\n",
      "  Conditions total: 158\n",
      "Conditions covered: 4\n",
      "     Line coverage: 2.2%\n",
      "Condition coverage: 2.5%\n"
     ]
    },
    {
     "name": "stderr",
     "output_type": "stream",
     "text": [
      "OK\n",
      "Running ant (coverage.instrument).......................................... OK\n",
      "Running ant (run.gen.tests)................................................ OK\n",
      "Running ant (coverage.report).............................................. OK\n",
      "Extract test suite......................................................... OK\n",
      "Running ant (compile.gen.tests)............................................ "
     ]
    },
    {
     "name": "stdout",
     "output_type": "stream",
     "text": [
      "       Lines total: 231\n",
      "     Lines covered: 153\n",
      "  Conditions total: 158\n",
      "Conditions covered: 77\n",
      "     Line coverage: 66.2%\n",
      "Condition coverage: 48.7%\n"
     ]
    },
    {
     "name": "stderr",
     "output_type": "stream",
     "text": [
      "OK\n",
      "Running ant (coverage.instrument).......................................... OK\n",
      "Running ant (run.gen.tests)................................................ OK\n",
      "Running ant (coverage.report).............................................. OK\n",
      "Extract test suite......................................................... OK\n",
      "Running ant (compile.gen.tests)............................................ "
     ]
    },
    {
     "name": "stdout",
     "output_type": "stream",
     "text": [
      "       Lines total: 231\n",
      "     Lines covered: 135\n",
      "  Conditions total: 158\n",
      "Conditions covered: 73\n",
      "     Line coverage: 58.4%\n",
      "Condition coverage: 46.2%\n"
     ]
    },
    {
     "name": "stderr",
     "output_type": "stream",
     "text": [
      "OK\n",
      "Running ant (coverage.instrument).......................................... OK\n",
      "Running ant (run.gen.tests)................................................ OK\n",
      "Running ant (coverage.report).............................................. OK\n",
      "Extract test suite......................................................... OK\n",
      "Running ant (compile.gen.tests)............................................ "
     ]
    },
    {
     "name": "stdout",
     "output_type": "stream",
     "text": [
      "       Lines total: 231\n",
      "     Lines covered: 106\n",
      "  Conditions total: 158\n",
      "Conditions covered: 58\n",
      "     Line coverage: 45.9%\n",
      "Condition coverage: 36.7%\n"
     ]
    },
    {
     "name": "stderr",
     "output_type": "stream",
     "text": [
      "OK\n",
      "Running ant (coverage.instrument).......................................... OK\n",
      "Running ant (run.gen.tests)................................................ OK\n",
      "Running ant (coverage.report).............................................. OK\n",
      "Extract test suite......................................................... OK\n",
      "Running ant (compile.gen.tests)............................................ "
     ]
    },
    {
     "name": "stdout",
     "output_type": "stream",
     "text": [
      "       Lines total: 231\n",
      "     Lines covered: 87\n",
      "  Conditions total: 158\n",
      "Conditions covered: 38\n",
      "     Line coverage: 37.7%\n",
      "Condition coverage: 24.1%\n"
     ]
    },
    {
     "name": "stderr",
     "output_type": "stream",
     "text": [
      "OK\n",
      "Running ant (coverage.instrument).......................................... OK\n",
      "Running ant (run.gen.tests)................................................ OK\n",
      "Running ant (coverage.report).............................................. OK\n",
      "Extract test suite......................................................... OK\n",
      "Running ant (compile.gen.tests)............................................ "
     ]
    },
    {
     "name": "stdout",
     "output_type": "stream",
     "text": [
      "       Lines total: 231\n",
      "     Lines covered: 36\n",
      "  Conditions total: 158\n",
      "Conditions covered: 15\n",
      "     Line coverage: 15.6%\n",
      "Condition coverage: 9.5%\n"
     ]
    },
    {
     "name": "stderr",
     "output_type": "stream",
     "text": [
      "OK\n",
      "Running ant (coverage.instrument).......................................... OK\n",
      "Running ant (run.gen.tests)................................................ OK\n",
      "Running ant (coverage.report).............................................. OK\n",
      "Extract test suite......................................................... OK\n",
      "Running ant (compile.gen.tests)............................................ "
     ]
    },
    {
     "name": "stdout",
     "output_type": "stream",
     "text": [
      "       Lines total: 231\n",
      "     Lines covered: 39\n",
      "  Conditions total: 158\n",
      "Conditions covered: 19\n",
      "     Line coverage: 16.9%\n",
      "Condition coverage: 12.0%\n"
     ]
    },
    {
     "name": "stderr",
     "output_type": "stream",
     "text": [
      "OK\n",
      "Running ant (coverage.instrument).......................................... OK\n",
      "Running ant (run.gen.tests)................................................ OK\n",
      "Running ant (coverage.report).............................................. OK\n",
      "Extract test suite......................................................... OK\n",
      "Running ant (compile.gen.tests)............................................ "
     ]
    },
    {
     "name": "stdout",
     "output_type": "stream",
     "text": [
      "       Lines total: 231\n",
      "     Lines covered: 95\n",
      "  Conditions total: 158\n",
      "Conditions covered: 43\n",
      "     Line coverage: 41.1%\n",
      "Condition coverage: 27.2%\n"
     ]
    },
    {
     "name": "stderr",
     "output_type": "stream",
     "text": [
      "OK\n",
      "Running ant (coverage.instrument).......................................... OK\n",
      "Running ant (run.gen.tests)................................................ OK\n",
      "Running ant (coverage.report).............................................. OK\n",
      "Extract test suite......................................................... OK\n",
      "Running ant (compile.gen.tests)............................................ "
     ]
    },
    {
     "name": "stdout",
     "output_type": "stream",
     "text": [
      "       Lines total: 231\n",
      "     Lines covered: 110\n",
      "  Conditions total: 158\n",
      "Conditions covered: 65\n",
      "     Line coverage: 47.6%\n",
      "Condition coverage: 41.1%\n"
     ]
    },
    {
     "name": "stderr",
     "output_type": "stream",
     "text": [
      "OK\n",
      "Running ant (coverage.instrument).......................................... OK\n",
      "Running ant (run.gen.tests)................................................ OK\n",
      "Running ant (coverage.report).............................................. OK\n",
      "Extract test suite......................................................... OK\n",
      "Running ant (compile.gen.tests)............................................ "
     ]
    },
    {
     "name": "stdout",
     "output_type": "stream",
     "text": [
      "       Lines total: 231\n",
      "     Lines covered: 181\n",
      "  Conditions total: 158\n",
      "Conditions covered: 96\n",
      "     Line coverage: 78.4%\n",
      "Condition coverage: 60.8%\n"
     ]
    },
    {
     "name": "stderr",
     "output_type": "stream",
     "text": [
      "OK\n",
      "Running ant (coverage.instrument).......................................... OK\n",
      "Running ant (run.gen.tests)................................................ OK\n",
      "Running ant (coverage.report).............................................. OK\n",
      "Extract test suite......................................................... OK\n",
      "Running ant (compile.gen.tests)............................................ "
     ]
    },
    {
     "name": "stdout",
     "output_type": "stream",
     "text": [
      "       Lines total: 231\n",
      "     Lines covered: 5\n",
      "  Conditions total: 158\n",
      "Conditions covered: 4\n",
      "     Line coverage: 2.2%\n",
      "Condition coverage: 2.5%\n"
     ]
    },
    {
     "name": "stderr",
     "output_type": "stream",
     "text": [
      "OK\n",
      "Running ant (coverage.instrument).......................................... OK\n",
      "Running ant (run.gen.tests)................................................ OK\n",
      "Running ant (coverage.report).............................................. OK\n",
      "Extract test suite......................................................... OK\n",
      "Running ant (compile.gen.tests)............................................ "
     ]
    },
    {
     "name": "stdout",
     "output_type": "stream",
     "text": [
      "       Lines total: 231\n",
      "     Lines covered: 43\n",
      "  Conditions total: 158\n",
      "Conditions covered: 21\n",
      "     Line coverage: 18.6%\n",
      "Condition coverage: 13.3%\n"
     ]
    },
    {
     "name": "stderr",
     "output_type": "stream",
     "text": [
      "OK\n",
      "Running ant (coverage.instrument).......................................... OK\n",
      "Running ant (run.gen.tests)................................................ OK\n",
      "Running ant (coverage.report).............................................. OK\n",
      "Extract test suite......................................................... OK\n",
      "Running ant (compile.gen.tests)............................................ "
     ]
    },
    {
     "name": "stdout",
     "output_type": "stream",
     "text": [
      "       Lines total: 231\n",
      "     Lines covered: 79\n",
      "  Conditions total: 158\n",
      "Conditions covered: 38\n",
      "     Line coverage: 34.2%\n",
      "Condition coverage: 24.1%\n"
     ]
    },
    {
     "name": "stderr",
     "output_type": "stream",
     "text": [
      "OK\n",
      "Running ant (coverage.instrument).......................................... OK\n",
      "Running ant (run.gen.tests)................................................ OK\n",
      "Running ant (coverage.report).............................................. OK\n",
      "Extract test suite......................................................... OK\n",
      "Running ant (compile.gen.tests)............................................ "
     ]
    },
    {
     "name": "stdout",
     "output_type": "stream",
     "text": [
      "       Lines total: 231\n",
      "     Lines covered: 156\n",
      "  Conditions total: 158\n",
      "Conditions covered: 84\n",
      "     Line coverage: 67.5%\n",
      "Condition coverage: 53.2%\n"
     ]
    },
    {
     "name": "stderr",
     "output_type": "stream",
     "text": [
      "OK\n",
      "Running ant (coverage.instrument).......................................... OK\n",
      "Running ant (run.gen.tests)................................................ OK\n",
      "Running ant (coverage.report).............................................. OK\n",
      "Extract test suite......................................................... OK\n",
      "Running ant (compile.gen.tests)............................................ "
     ]
    },
    {
     "name": "stdout",
     "output_type": "stream",
     "text": [
      "       Lines total: 231\n",
      "     Lines covered: 88\n",
      "  Conditions total: 158\n",
      "Conditions covered: 49\n",
      "     Line coverage: 38.1%\n",
      "Condition coverage: 31.0%\n"
     ]
    },
    {
     "name": "stderr",
     "output_type": "stream",
     "text": [
      "OK\n",
      "Running ant (coverage.instrument).......................................... OK\n",
      "Running ant (run.gen.tests)................................................ OK\n",
      "Running ant (coverage.report).............................................. OK\n",
      "Extract test suite......................................................... OK\n",
      "Running ant (compile.gen.tests)............................................ "
     ]
    },
    {
     "name": "stdout",
     "output_type": "stream",
     "text": [
      "       Lines total: 231\n",
      "     Lines covered: 5\n",
      "  Conditions total: 158\n",
      "Conditions covered: 4\n",
      "     Line coverage: 2.2%\n",
      "Condition coverage: 2.5%\n"
     ]
    },
    {
     "name": "stderr",
     "output_type": "stream",
     "text": [
      "OK\n",
      "Running ant (coverage.instrument).......................................... OK\n",
      "Running ant (run.gen.tests)................................................ OK\n",
      "Running ant (coverage.report).............................................. OK\n",
      "Extract test suite......................................................... OK\n",
      "Running ant (compile.gen.tests)............................................ "
     ]
    },
    {
     "name": "stdout",
     "output_type": "stream",
     "text": [
      "       Lines total: 231\n",
      "     Lines covered: 33\n",
      "  Conditions total: 158\n",
      "Conditions covered: 21\n",
      "     Line coverage: 14.3%\n",
      "Condition coverage: 13.3%\n"
     ]
    },
    {
     "name": "stderr",
     "output_type": "stream",
     "text": [
      "OK\n",
      "Running ant (coverage.instrument).......................................... OK\n",
      "Running ant (run.gen.tests)................................................ OK\n",
      "Running ant (coverage.report).............................................. OK\n",
      "Extract test suite......................................................... OK\n",
      "Running ant (compile.gen.tests)............................................ "
     ]
    },
    {
     "name": "stdout",
     "output_type": "stream",
     "text": [
      "       Lines total: 231\n",
      "     Lines covered: 45\n",
      "  Conditions total: 158\n",
      "Conditions covered: 20\n",
      "     Line coverage: 19.5%\n",
      "Condition coverage: 12.7%\n"
     ]
    },
    {
     "name": "stderr",
     "output_type": "stream",
     "text": [
      "OK\n",
      "Running ant (coverage.instrument).......................................... OK\n",
      "Running ant (run.gen.tests)................................................ OK\n",
      "Running ant (coverage.report).............................................. OK\n",
      "Extract test suite......................................................... OK\n",
      "Running ant (compile.gen.tests)............................................ "
     ]
    },
    {
     "name": "stdout",
     "output_type": "stream",
     "text": [
      "       Lines total: 231\n",
      "     Lines covered: 153\n",
      "  Conditions total: 158\n",
      "Conditions covered: 79\n",
      "     Line coverage: 66.2%\n",
      "Condition coverage: 50.0%\n"
     ]
    },
    {
     "name": "stderr",
     "output_type": "stream",
     "text": [
      "OK\n",
      "Running ant (coverage.instrument).......................................... OK\n",
      "Running ant (run.gen.tests)................................................ OK\n",
      "Running ant (coverage.report).............................................. OK\n",
      "Extract test suite......................................................... OK\n",
      "Running ant (compile.gen.tests)............................................ "
     ]
    },
    {
     "name": "stdout",
     "output_type": "stream",
     "text": [
      "       Lines total: 231\n",
      "     Lines covered: 36\n",
      "  Conditions total: 158\n",
      "Conditions covered: 20\n",
      "     Line coverage: 15.6%\n",
      "Condition coverage: 12.7%\n"
     ]
    },
    {
     "name": "stderr",
     "output_type": "stream",
     "text": [
      "OK\n",
      "Running ant (coverage.instrument).......................................... OK\n",
      "Running ant (run.gen.tests)................................................ OK\n",
      "Running ant (coverage.report).............................................. OK\n",
      "Extract test suite......................................................... OK\n",
      "Running ant (compile.gen.tests)............................................ "
     ]
    },
    {
     "name": "stdout",
     "output_type": "stream",
     "text": [
      "       Lines total: 231\n",
      "     Lines covered: 159\n",
      "  Conditions total: 158\n",
      "Conditions covered: 80\n",
      "     Line coverage: 68.8%\n",
      "Condition coverage: 50.6%\n"
     ]
    },
    {
     "name": "stderr",
     "output_type": "stream",
     "text": [
      "OK\n",
      "Running ant (coverage.instrument).......................................... OK\n",
      "Running ant (run.gen.tests)................................................ OK\n",
      "Running ant (coverage.report).............................................. OK\n",
      "Extract test suite......................................................... OK\n",
      "Running ant (compile.gen.tests)............................................ "
     ]
    },
    {
     "name": "stdout",
     "output_type": "stream",
     "text": [
      "       Lines total: 231\n",
      "     Lines covered: 160\n",
      "  Conditions total: 158\n",
      "Conditions covered: 79\n",
      "     Line coverage: 69.3%\n",
      "Condition coverage: 50.0%\n"
     ]
    },
    {
     "name": "stderr",
     "output_type": "stream",
     "text": [
      "OK\n",
      "Running ant (coverage.instrument).......................................... OK\n",
      "Running ant (run.gen.tests)................................................ OK\n",
      "Running ant (coverage.report).............................................. OK\n",
      "Extract test suite......................................................... OK\n",
      "Running ant (compile.gen.tests)............................................ "
     ]
    },
    {
     "name": "stdout",
     "output_type": "stream",
     "text": [
      "       Lines total: 231\n",
      "     Lines covered: 114\n",
      "  Conditions total: 158\n",
      "Conditions covered: 60\n",
      "     Line coverage: 49.4%\n",
      "Condition coverage: 38.0%\n"
     ]
    },
    {
     "name": "stderr",
     "output_type": "stream",
     "text": [
      "OK\n",
      "Running ant (coverage.instrument).......................................... OK\n",
      "Running ant (run.gen.tests)................................................ OK\n",
      "Running ant (coverage.report).............................................. OK\n",
      "Extract test suite......................................................... OK\n",
      "Running ant (compile.gen.tests)............................................ "
     ]
    },
    {
     "name": "stdout",
     "output_type": "stream",
     "text": [
      "       Lines total: 231\n",
      "     Lines covered: 84\n",
      "  Conditions total: 158\n",
      "Conditions covered: 39\n",
      "     Line coverage: 36.4%\n",
      "Condition coverage: 24.7%\n"
     ]
    },
    {
     "name": "stderr",
     "output_type": "stream",
     "text": [
      "OK\n",
      "Running ant (coverage.instrument).......................................... OK\n",
      "Running ant (run.gen.tests)................................................ OK\n",
      "Running ant (coverage.report).............................................. OK\n",
      "Extract test suite......................................................... OK\n",
      "Running ant (compile.gen.tests)............................................ "
     ]
    },
    {
     "name": "stdout",
     "output_type": "stream",
     "text": [
      "       Lines total: 231\n",
      "     Lines covered: 86\n",
      "  Conditions total: 158\n",
      "Conditions covered: 38\n",
      "     Line coverage: 37.2%\n",
      "Condition coverage: 24.1%\n"
     ]
    },
    {
     "name": "stderr",
     "output_type": "stream",
     "text": [
      "OK\n",
      "Running ant (coverage.instrument).......................................... OK\n",
      "Running ant (run.gen.tests)................................................ OK\n",
      "Running ant (coverage.report).............................................. OK\n",
      "Extract test suite......................................................... OK\n",
      "Running ant (compile.gen.tests)............................................ "
     ]
    },
    {
     "name": "stdout",
     "output_type": "stream",
     "text": [
      "       Lines total: 231\n",
      "     Lines covered: 81\n",
      "  Conditions total: 158\n",
      "Conditions covered: 38\n",
      "     Line coverage: 35.1%\n",
      "Condition coverage: 24.1%\n"
     ]
    },
    {
     "name": "stderr",
     "output_type": "stream",
     "text": [
      "OK\n",
      "Running ant (coverage.instrument).......................................... OK\n",
      "Running ant (run.gen.tests)................................................ OK\n",
      "Running ant (coverage.report).............................................. OK\n",
      "Extract test suite......................................................... OK\n",
      "Running ant (compile.gen.tests)............................................ "
     ]
    },
    {
     "name": "stdout",
     "output_type": "stream",
     "text": [
      "       Lines total: 231\n",
      "     Lines covered: 24\n",
      "  Conditions total: 158\n",
      "Conditions covered: 13\n",
      "     Line coverage: 10.4%\n",
      "Condition coverage: 8.2%\n"
     ]
    },
    {
     "name": "stderr",
     "output_type": "stream",
     "text": [
      "OK\n",
      "Running ant (coverage.instrument).......................................... OK\n",
      "Running ant (run.gen.tests)................................................ OK\n",
      "Running ant (coverage.report).............................................. OK\n",
      "Extract test suite......................................................... OK\n",
      "Running ant (compile.gen.tests)............................................ "
     ]
    },
    {
     "name": "stdout",
     "output_type": "stream",
     "text": [
      "       Lines total: 231\n",
      "     Lines covered: 36\n",
      "  Conditions total: 158\n",
      "Conditions covered: 24\n",
      "     Line coverage: 15.6%\n",
      "Condition coverage: 15.2%\n"
     ]
    },
    {
     "name": "stderr",
     "output_type": "stream",
     "text": [
      "OK\n",
      "Running ant (coverage.instrument).......................................... OK\n",
      "Running ant (run.gen.tests)................................................ OK\n",
      "Running ant (coverage.report).............................................. OK\n",
      "Extract test suite......................................................... OK\n",
      "Running ant (compile.gen.tests)............................................ "
     ]
    },
    {
     "name": "stdout",
     "output_type": "stream",
     "text": [
      "       Lines total: 231\n",
      "     Lines covered: 51\n",
      "  Conditions total: 158\n",
      "Conditions covered: 24\n",
      "     Line coverage: 22.1%\n",
      "Condition coverage: 15.2%\n"
     ]
    },
    {
     "name": "stderr",
     "output_type": "stream",
     "text": [
      "OK\n",
      "Running ant (coverage.instrument).......................................... OK\n",
      "Running ant (run.gen.tests)................................................ OK\n",
      "Running ant (coverage.report).............................................. OK\n",
      "Extract test suite......................................................... OK\n",
      "Running ant (compile.gen.tests)............................................ "
     ]
    },
    {
     "name": "stdout",
     "output_type": "stream",
     "text": [
      "       Lines total: 231\n",
      "     Lines covered: 175\n",
      "  Conditions total: 158\n",
      "Conditions covered: 85\n",
      "     Line coverage: 75.8%\n",
      "Condition coverage: 53.8%\n"
     ]
    },
    {
     "name": "stderr",
     "output_type": "stream",
     "text": [
      "OK\n",
      "Running ant (coverage.instrument).......................................... OK\n",
      "Running ant (run.gen.tests)................................................ OK\n",
      "Running ant (coverage.report).............................................. OK\n",
      "Extract test suite......................................................... OK\n",
      "Running ant (compile.gen.tests)............................................ "
     ]
    },
    {
     "name": "stdout",
     "output_type": "stream",
     "text": [
      "       Lines total: 231\n",
      "     Lines covered: 176\n",
      "  Conditions total: 158\n",
      "Conditions covered: 92\n",
      "     Line coverage: 76.2%\n",
      "Condition coverage: 58.2%\n"
     ]
    },
    {
     "name": "stderr",
     "output_type": "stream",
     "text": [
      "OK\n",
      "Running ant (coverage.instrument).......................................... OK\n",
      "Running ant (run.gen.tests)................................................ OK\n",
      "Running ant (coverage.report).............................................. OK\n",
      "Extract test suite......................................................... OK\n",
      "Running ant (compile.gen.tests)............................................ "
     ]
    },
    {
     "name": "stdout",
     "output_type": "stream",
     "text": [
      "       Lines total: 231\n",
      "     Lines covered: 172\n",
      "  Conditions total: 158\n",
      "Conditions covered: 88\n",
      "     Line coverage: 74.5%\n",
      "Condition coverage: 55.7%\n"
     ]
    },
    {
     "name": "stderr",
     "output_type": "stream",
     "text": [
      "OK\n",
      "Running ant (coverage.instrument).......................................... OK\n",
      "Running ant (run.gen.tests)................................................ OK\n",
      "Running ant (coverage.report).............................................. OK\n",
      "Extract test suite......................................................... OK\n",
      "Running ant (compile.gen.tests)............................................ "
     ]
    },
    {
     "name": "stdout",
     "output_type": "stream",
     "text": [
      "       Lines total: 231\n",
      "     Lines covered: 5\n",
      "  Conditions total: 158\n",
      "Conditions covered: 0\n",
      "     Line coverage: 2.2%\n",
      "Condition coverage: 0.0%\n"
     ]
    },
    {
     "name": "stderr",
     "output_type": "stream",
     "text": [
      "OK\n",
      "Running ant (coverage.instrument).......................................... OK\n",
      "Running ant (run.gen.tests)................................................ OK\n",
      "Running ant (coverage.report).............................................. OK\n",
      "Extract test suite......................................................... OK\n",
      "Running ant (compile.gen.tests)............................................ "
     ]
    },
    {
     "name": "stdout",
     "output_type": "stream",
     "text": [
      "       Lines total: 231\n",
      "     Lines covered: 150\n",
      "  Conditions total: 158\n",
      "Conditions covered: 81\n",
      "     Line coverage: 64.9%\n",
      "Condition coverage: 51.3%\n"
     ]
    },
    {
     "name": "stderr",
     "output_type": "stream",
     "text": [
      "OK\n",
      "Running ant (coverage.instrument).......................................... OK\n",
      "Running ant (run.gen.tests)................................................ OK\n",
      "Running ant (coverage.report).............................................. OK\n",
      "Extract test suite......................................................... OK\n",
      "Running ant (compile.gen.tests)............................................ "
     ]
    },
    {
     "name": "stdout",
     "output_type": "stream",
     "text": [
      "       Lines total: 231\n",
      "     Lines covered: 40\n",
      "  Conditions total: 158\n",
      "Conditions covered: 19\n",
      "     Line coverage: 17.3%\n",
      "Condition coverage: 12.0%\n"
     ]
    },
    {
     "name": "stderr",
     "output_type": "stream",
     "text": [
      "OK\n",
      "Running ant (coverage.instrument).......................................... OK\n",
      "Running ant (run.gen.tests)................................................ OK\n",
      "Running ant (coverage.report).............................................. OK\n",
      "Extract test suite......................................................... OK\n",
      "Running ant (compile.gen.tests)............................................ "
     ]
    },
    {
     "name": "stdout",
     "output_type": "stream",
     "text": [
      "       Lines total: 231\n",
      "     Lines covered: 48\n",
      "  Conditions total: 158\n",
      "Conditions covered: 23\n",
      "     Line coverage: 20.8%\n",
      "Condition coverage: 14.6%\n"
     ]
    },
    {
     "name": "stderr",
     "output_type": "stream",
     "text": [
      "OK\n",
      "Running ant (coverage.instrument).......................................... OK\n",
      "Running ant (run.gen.tests)................................................ OK\n",
      "Running ant (coverage.report).............................................. OK\n",
      "Extract test suite......................................................... OK\n",
      "Running ant (compile.gen.tests)............................................ "
     ]
    },
    {
     "name": "stdout",
     "output_type": "stream",
     "text": [
      "       Lines total: 231\n",
      "     Lines covered: 90\n",
      "  Conditions total: 158\n",
      "Conditions covered: 49\n",
      "     Line coverage: 39.0%\n",
      "Condition coverage: 31.0%\n"
     ]
    },
    {
     "name": "stderr",
     "output_type": "stream",
     "text": [
      "OK\n",
      "Running ant (coverage.instrument).......................................... OK\n",
      "Running ant (run.gen.tests)................................................ OK\n",
      "Running ant (coverage.report).............................................. OK\n",
      "Extract test suite......................................................... OK\n",
      "Running ant (compile.gen.tests)............................................ "
     ]
    },
    {
     "name": "stdout",
     "output_type": "stream",
     "text": [
      "       Lines total: 231\n",
      "     Lines covered: 135\n",
      "  Conditions total: 158\n",
      "Conditions covered: 69\n",
      "     Line coverage: 58.4%\n",
      "Condition coverage: 43.7%\n"
     ]
    },
    {
     "name": "stderr",
     "output_type": "stream",
     "text": [
      "OK\n",
      "Running ant (coverage.instrument).......................................... OK\n",
      "Running ant (run.gen.tests)................................................ OK\n",
      "Running ant (coverage.report).............................................. OK\n",
      "Extract test suite......................................................... OK\n",
      "Running ant (compile.gen.tests)............................................ "
     ]
    },
    {
     "name": "stdout",
     "output_type": "stream",
     "text": [
      "       Lines total: 231\n",
      "     Lines covered: 52\n",
      "  Conditions total: 158\n",
      "Conditions covered: 26\n",
      "     Line coverage: 22.5%\n",
      "Condition coverage: 16.5%\n"
     ]
    },
    {
     "name": "stderr",
     "output_type": "stream",
     "text": [
      "OK\n",
      "Running ant (coverage.instrument).......................................... OK\n",
      "Running ant (run.gen.tests)................................................ OK\n",
      "Running ant (coverage.report).............................................. OK\n",
      "Extract test suite......................................................... OK\n",
      "Running ant (compile.gen.tests)............................................ "
     ]
    },
    {
     "name": "stdout",
     "output_type": "stream",
     "text": [
      "       Lines total: 231\n",
      "     Lines covered: 41\n",
      "  Conditions total: 158\n",
      "Conditions covered: 19\n",
      "     Line coverage: 17.7%\n",
      "Condition coverage: 12.0%\n"
     ]
    },
    {
     "name": "stderr",
     "output_type": "stream",
     "text": [
      "OK\n",
      "Running ant (coverage.instrument).......................................... OK\n",
      "Running ant (run.gen.tests)................................................ OK\n",
      "Running ant (coverage.report).............................................. OK\n",
      "Extract test suite......................................................... OK\n",
      "Running ant (compile.gen.tests)............................................ "
     ]
    },
    {
     "name": "stdout",
     "output_type": "stream",
     "text": [
      "       Lines total: 231\n",
      "     Lines covered: 43\n",
      "  Conditions total: 158\n",
      "Conditions covered: 22\n",
      "     Line coverage: 18.6%\n",
      "Condition coverage: 13.9%\n"
     ]
    },
    {
     "name": "stderr",
     "output_type": "stream",
     "text": [
      "OK\n",
      "Running ant (coverage.instrument).......................................... OK\n",
      "Running ant (run.gen.tests)................................................ OK\n",
      "Running ant (coverage.report).............................................. OK\n",
      "Extract test suite......................................................... OK\n",
      "Running ant (compile.gen.tests)............................................ "
     ]
    },
    {
     "name": "stdout",
     "output_type": "stream",
     "text": [
      "       Lines total: 231\n",
      "     Lines covered: 31\n",
      "  Conditions total: 158\n",
      "Conditions covered: 20\n",
      "     Line coverage: 13.4%\n",
      "Condition coverage: 12.7%\n"
     ]
    },
    {
     "name": "stderr",
     "output_type": "stream",
     "text": [
      "OK\n",
      "Running ant (coverage.instrument).......................................... OK\n",
      "Running ant (run.gen.tests)................................................ OK\n",
      "Running ant (coverage.report).............................................. OK\n",
      "Extract test suite......................................................... OK\n",
      "Running ant (compile.gen.tests)............................................ "
     ]
    },
    {
     "name": "stdout",
     "output_type": "stream",
     "text": [
      "       Lines total: 231\n",
      "     Lines covered: 161\n",
      "  Conditions total: 158\n",
      "Conditions covered: 79\n",
      "     Line coverage: 69.7%\n",
      "Condition coverage: 50.0%\n"
     ]
    },
    {
     "name": "stderr",
     "output_type": "stream",
     "text": [
      "OK\n",
      "Running ant (coverage.instrument).......................................... OK\n",
      "Running ant (run.gen.tests)................................................ OK\n",
      "Running ant (coverage.report).............................................. OK\n",
      "Extract test suite......................................................... OK\n",
      "Running ant (compile.gen.tests)............................................ "
     ]
    },
    {
     "name": "stdout",
     "output_type": "stream",
     "text": [
      "       Lines total: 231\n",
      "     Lines covered: 38\n",
      "  Conditions total: 158\n",
      "Conditions covered: 18\n",
      "     Line coverage: 16.5%\n",
      "Condition coverage: 11.4%\n"
     ]
    },
    {
     "name": "stderr",
     "output_type": "stream",
     "text": [
      "OK\n",
      "Running ant (coverage.instrument).......................................... OK\n",
      "Running ant (run.gen.tests)................................................ OK\n",
      "Running ant (coverage.report).............................................. OK\n",
      "Extract test suite......................................................... OK\n",
      "Running ant (compile.gen.tests)............................................ "
     ]
    },
    {
     "name": "stdout",
     "output_type": "stream",
     "text": [
      "       Lines total: 231\n",
      "     Lines covered: 158\n",
      "  Conditions total: 158\n",
      "Conditions covered: 86\n",
      "     Line coverage: 68.4%\n",
      "Condition coverage: 54.4%\n"
     ]
    },
    {
     "name": "stderr",
     "output_type": "stream",
     "text": [
      "OK\n",
      "Running ant (coverage.instrument).......................................... OK\n",
      "Running ant (run.gen.tests)................................................ OK\n",
      "Running ant (coverage.report).............................................. OK\n",
      "Extract test suite......................................................... OK\n",
      "Running ant (compile.gen.tests)............................................ "
     ]
    },
    {
     "name": "stdout",
     "output_type": "stream",
     "text": [
      "       Lines total: 231\n",
      "     Lines covered: 35\n",
      "  Conditions total: 158\n",
      "Conditions covered: 20\n",
      "     Line coverage: 15.2%\n",
      "Condition coverage: 12.7%\n"
     ]
    },
    {
     "name": "stderr",
     "output_type": "stream",
     "text": [
      "OK\n",
      "Running ant (coverage.instrument).......................................... OK\n",
      "Running ant (run.gen.tests)................................................ OK\n",
      "Running ant (coverage.report).............................................. OK\n",
      "Extract test suite......................................................... OK\n",
      "Running ant (compile.gen.tests)............................................ "
     ]
    },
    {
     "name": "stdout",
     "output_type": "stream",
     "text": [
      "       Lines total: 231\n",
      "     Lines covered: 23\n",
      "  Conditions total: 158\n",
      "Conditions covered: 8\n",
      "     Line coverage: 10.0%\n",
      "Condition coverage: 5.1%\n"
     ]
    },
    {
     "name": "stderr",
     "output_type": "stream",
     "text": [
      "OK\n",
      "Running ant (coverage.instrument).......................................... OK\n",
      "Running ant (run.gen.tests)................................................ OK\n",
      "Running ant (coverage.report).............................................. OK\n",
      "Extract test suite......................................................... OK\n",
      "Running ant (compile.gen.tests)............................................ "
     ]
    },
    {
     "name": "stdout",
     "output_type": "stream",
     "text": [
      "       Lines total: 231\n",
      "     Lines covered: 62\n",
      "  Conditions total: 158\n",
      "Conditions covered: 25\n",
      "     Line coverage: 26.8%\n",
      "Condition coverage: 15.8%\n"
     ]
    },
    {
     "name": "stderr",
     "output_type": "stream",
     "text": [
      "OK\n",
      "Running ant (coverage.instrument).......................................... OK\n",
      "Running ant (run.gen.tests)................................................ OK\n",
      "Running ant (coverage.report).............................................. OK\n",
      "Extract test suite......................................................... OK\n",
      "Running ant (compile.gen.tests)............................................ "
     ]
    },
    {
     "name": "stdout",
     "output_type": "stream",
     "text": [
      "       Lines total: 231\n",
      "     Lines covered: 52\n",
      "  Conditions total: 158\n",
      "Conditions covered: 28\n",
      "     Line coverage: 22.5%\n",
      "Condition coverage: 17.7%\n"
     ]
    },
    {
     "name": "stderr",
     "output_type": "stream",
     "text": [
      "OK\n",
      "Running ant (coverage.instrument).......................................... OK\n",
      "Running ant (run.gen.tests)................................................ OK\n",
      "Running ant (coverage.report).............................................. OK\n",
      "Extract test suite......................................................... OK\n",
      "Running ant (compile.gen.tests)............................................ "
     ]
    },
    {
     "name": "stdout",
     "output_type": "stream",
     "text": [
      "       Lines total: 231\n",
      "     Lines covered: 50\n",
      "  Conditions total: 158\n",
      "Conditions covered: 24\n",
      "     Line coverage: 21.6%\n",
      "Condition coverage: 15.2%\n"
     ]
    },
    {
     "name": "stderr",
     "output_type": "stream",
     "text": [
      "OK\n",
      "Running ant (coverage.instrument).......................................... OK\n",
      "Running ant (run.gen.tests)................................................ OK\n",
      "Running ant (coverage.report).............................................. OK\n",
      "Extract test suite......................................................... OK\n",
      "Running ant (compile.gen.tests)............................................ "
     ]
    },
    {
     "name": "stdout",
     "output_type": "stream",
     "text": [
      "       Lines total: 231\n",
      "     Lines covered: 194\n",
      "  Conditions total: 158\n",
      "Conditions covered: 99\n",
      "     Line coverage: 84.0%\n",
      "Condition coverage: 62.7%\n"
     ]
    },
    {
     "name": "stderr",
     "output_type": "stream",
     "text": [
      "OK\n",
      "Running ant (coverage.instrument).......................................... OK\n",
      "Running ant (run.gen.tests)................................................ OK\n",
      "Running ant (coverage.report).............................................. OK\n",
      "Extract test suite......................................................... OK\n",
      "Running ant (compile.gen.tests)............................................ "
     ]
    },
    {
     "name": "stdout",
     "output_type": "stream",
     "text": [
      "       Lines total: 231\n",
      "     Lines covered: 52\n",
      "  Conditions total: 158\n",
      "Conditions covered: 26\n",
      "     Line coverage: 22.5%\n",
      "Condition coverage: 16.5%\n"
     ]
    },
    {
     "name": "stderr",
     "output_type": "stream",
     "text": [
      "OK\n",
      "Running ant (coverage.instrument).......................................... OK\n",
      "Running ant (run.gen.tests)................................................ OK\n",
      "Running ant (coverage.report).............................................. OK\n",
      "Extract test suite......................................................... OK\n",
      "Running ant (compile.gen.tests)............................................ "
     ]
    },
    {
     "name": "stdout",
     "output_type": "stream",
     "text": [
      "       Lines total: 231\n",
      "     Lines covered: 114\n",
      "  Conditions total: 158\n",
      "Conditions covered: 69\n",
      "     Line coverage: 49.4%\n",
      "Condition coverage: 43.7%\n"
     ]
    },
    {
     "name": "stderr",
     "output_type": "stream",
     "text": [
      "OK\n",
      "Running ant (coverage.instrument).......................................... OK\n",
      "Running ant (run.gen.tests)................................................ OK\n",
      "Running ant (coverage.report).............................................. OK\n",
      "Extract test suite......................................................... OK\n",
      "Running ant (compile.gen.tests)............................................ "
     ]
    },
    {
     "name": "stdout",
     "output_type": "stream",
     "text": [
      "       Lines total: 231\n",
      "     Lines covered: 161\n",
      "  Conditions total: 158\n",
      "Conditions covered: 80\n",
      "     Line coverage: 69.7%\n",
      "Condition coverage: 50.6%\n"
     ]
    },
    {
     "name": "stderr",
     "output_type": "stream",
     "text": [
      "OK\n",
      "Running ant (coverage.instrument).......................................... OK\n",
      "Running ant (run.gen.tests)................................................ OK\n",
      "Running ant (coverage.report).............................................. OK\n",
      "Extract test suite......................................................... OK\n",
      "Running ant (compile.gen.tests)............................................ "
     ]
    },
    {
     "name": "stdout",
     "output_type": "stream",
     "text": [
      "       Lines total: 231\n",
      "     Lines covered: 173\n",
      "  Conditions total: 158\n",
      "Conditions covered: 91\n",
      "     Line coverage: 74.9%\n",
      "Condition coverage: 57.6%\n"
     ]
    },
    {
     "name": "stderr",
     "output_type": "stream",
     "text": [
      "OK\n",
      "Running ant (coverage.instrument).......................................... OK\n",
      "Running ant (run.gen.tests)................................................ OK\n",
      "Running ant (coverage.report).............................................. OK\n",
      "Extract test suite......................................................... OK\n",
      "Running ant (compile.gen.tests)............................................ "
     ]
    },
    {
     "name": "stdout",
     "output_type": "stream",
     "text": [
      "       Lines total: 231\n",
      "     Lines covered: 42\n",
      "  Conditions total: 158\n",
      "Conditions covered: 18\n",
      "     Line coverage: 18.2%\n",
      "Condition coverage: 11.4%\n"
     ]
    },
    {
     "name": "stderr",
     "output_type": "stream",
     "text": [
      "OK\n",
      "Running ant (coverage.instrument).......................................... OK\n",
      "Running ant (run.gen.tests)................................................ OK\n",
      "Running ant (coverage.report).............................................. OK\n",
      "Extract test suite......................................................... OK\n",
      "Running ant (compile.gen.tests)............................................ "
     ]
    },
    {
     "name": "stdout",
     "output_type": "stream",
     "text": [
      "       Lines total: 231\n",
      "     Lines covered: 24\n",
      "  Conditions total: 158\n",
      "Conditions covered: 13\n",
      "     Line coverage: 10.4%\n",
      "Condition coverage: 8.2%\n"
     ]
    },
    {
     "name": "stderr",
     "output_type": "stream",
     "text": [
      "OK\n",
      "Running ant (coverage.instrument).......................................... OK\n",
      "Running ant (run.gen.tests)................................................ OK\n",
      "Running ant (coverage.report).............................................. OK\n",
      "Extract test suite......................................................... OK\n",
      "Running ant (compile.gen.tests)............................................ "
     ]
    },
    {
     "name": "stdout",
     "output_type": "stream",
     "text": [
      "       Lines total: 231\n",
      "     Lines covered: 44\n",
      "  Conditions total: 158\n",
      "Conditions covered: 19\n",
      "     Line coverage: 19.0%\n",
      "Condition coverage: 12.0%\n"
     ]
    },
    {
     "name": "stderr",
     "output_type": "stream",
     "text": [
      "OK\n",
      "Running ant (coverage.instrument).......................................... OK\n",
      "Running ant (run.gen.tests)................................................ OK\n",
      "Running ant (coverage.report).............................................. OK\n",
      "Extract test suite......................................................... OK\n",
      "Running ant (compile.gen.tests)............................................ "
     ]
    },
    {
     "name": "stdout",
     "output_type": "stream",
     "text": [
      "       Lines total: 231\n",
      "     Lines covered: 92\n",
      "  Conditions total: 158\n",
      "Conditions covered: 49\n",
      "     Line coverage: 39.8%\n",
      "Condition coverage: 31.0%\n"
     ]
    },
    {
     "name": "stderr",
     "output_type": "stream",
     "text": [
      "OK\n",
      "Running ant (coverage.instrument).......................................... OK\n",
      "Running ant (run.gen.tests)................................................ OK\n",
      "Running ant (coverage.report).............................................. OK\n",
      "Extract test suite......................................................... OK\n",
      "Running ant (compile.gen.tests)............................................ "
     ]
    },
    {
     "name": "stdout",
     "output_type": "stream",
     "text": [
      "       Lines total: 231\n",
      "     Lines covered: 103\n",
      "  Conditions total: 158\n",
      "Conditions covered: 59\n",
      "     Line coverage: 44.6%\n",
      "Condition coverage: 37.3%\n"
     ]
    },
    {
     "name": "stderr",
     "output_type": "stream",
     "text": [
      "OK\n",
      "Running ant (coverage.instrument).......................................... OK\n",
      "Running ant (run.gen.tests)................................................ OK\n",
      "Running ant (coverage.report).............................................. OK\n",
      "Extract test suite......................................................... OK\n",
      "Running ant (compile.gen.tests)............................................ "
     ]
    },
    {
     "name": "stdout",
     "output_type": "stream",
     "text": [
      "       Lines total: 231\n",
      "     Lines covered: 154\n",
      "  Conditions total: 158\n",
      "Conditions covered: 73\n",
      "     Line coverage: 66.7%\n",
      "Condition coverage: 46.2%\n"
     ]
    },
    {
     "name": "stderr",
     "output_type": "stream",
     "text": [
      "OK\n",
      "Running ant (coverage.instrument).......................................... OK\n",
      "Running ant (run.gen.tests)................................................ OK\n",
      "Running ant (coverage.report).............................................. OK\n",
      "Extract test suite......................................................... OK\n",
      "Running ant (compile.gen.tests)............................................ "
     ]
    },
    {
     "name": "stdout",
     "output_type": "stream",
     "text": [
      "       Lines total: 231\n",
      "     Lines covered: 157\n",
      "  Conditions total: 158\n",
      "Conditions covered: 74\n",
      "     Line coverage: 68.0%\n",
      "Condition coverage: 46.8%\n"
     ]
    },
    {
     "name": "stderr",
     "output_type": "stream",
     "text": [
      "OK\n",
      "Running ant (coverage.instrument).......................................... OK\n",
      "Running ant (run.gen.tests)................................................ OK\n",
      "Running ant (coverage.report).............................................. OK\n",
      "Extract test suite......................................................... OK\n",
      "Running ant (compile.gen.tests)............................................ "
     ]
    },
    {
     "name": "stdout",
     "output_type": "stream",
     "text": [
      "       Lines total: 231\n",
      "     Lines covered: 89\n",
      "  Conditions total: 158\n",
      "Conditions covered: 48\n",
      "     Line coverage: 38.5%\n",
      "Condition coverage: 30.4%\n"
     ]
    },
    {
     "name": "stderr",
     "output_type": "stream",
     "text": [
      "OK\n",
      "Running ant (coverage.instrument).......................................... OK\n",
      "Running ant (run.gen.tests)................................................ OK\n",
      "Running ant (coverage.report).............................................. OK\n",
      "Extract test suite......................................................... OK\n",
      "Running ant (compile.gen.tests)............................................ "
     ]
    },
    {
     "name": "stdout",
     "output_type": "stream",
     "text": [
      "       Lines total: 231\n",
      "     Lines covered: 97\n",
      "  Conditions total: 158\n",
      "Conditions covered: 54\n",
      "     Line coverage: 42.0%\n",
      "Condition coverage: 34.2%\n"
     ]
    },
    {
     "name": "stderr",
     "output_type": "stream",
     "text": [
      "OK\n",
      "Running ant (coverage.instrument).......................................... OK\n",
      "Running ant (run.gen.tests)................................................ OK\n",
      "Running ant (coverage.report).............................................. OK\n",
      "Extract test suite......................................................... OK\n",
      "Running ant (compile.gen.tests)............................................ "
     ]
    },
    {
     "name": "stdout",
     "output_type": "stream",
     "text": [
      "       Lines total: 231\n",
      "     Lines covered: 66\n",
      "  Conditions total: 158\n",
      "Conditions covered: 34\n",
      "     Line coverage: 28.6%\n",
      "Condition coverage: 21.5%\n"
     ]
    },
    {
     "name": "stderr",
     "output_type": "stream",
     "text": [
      "OK\n",
      "Running ant (coverage.instrument).......................................... OK\n",
      "Running ant (run.gen.tests)................................................ OK\n",
      "Running ant (coverage.report).............................................. OK\n",
      "Extract test suite......................................................... OK\n",
      "Running ant (compile.gen.tests)............................................ "
     ]
    },
    {
     "name": "stdout",
     "output_type": "stream",
     "text": [
      "       Lines total: 231\n",
      "     Lines covered: 21\n",
      "  Conditions total: 158\n",
      "Conditions covered: 12\n",
      "     Line coverage: 9.1%\n",
      "Condition coverage: 7.6%\n"
     ]
    },
    {
     "name": "stderr",
     "output_type": "stream",
     "text": [
      "OK\n",
      "Running ant (coverage.instrument).......................................... OK\n",
      "Running ant (run.gen.tests)................................................ OK\n",
      "Running ant (coverage.report).............................................. OK\n",
      "Extract test suite......................................................... OK\n",
      "Running ant (compile.gen.tests)............................................ "
     ]
    },
    {
     "name": "stdout",
     "output_type": "stream",
     "text": [
      "       Lines total: 231\n",
      "     Lines covered: 181\n",
      "  Conditions total: 158\n",
      "Conditions covered: 90\n",
      "     Line coverage: 78.4%\n",
      "Condition coverage: 57.0%\n"
     ]
    },
    {
     "name": "stderr",
     "output_type": "stream",
     "text": [
      "OK\n",
      "Running ant (coverage.instrument).......................................... OK\n",
      "Running ant (run.gen.tests)................................................ OK\n",
      "Running ant (coverage.report).............................................. OK\n",
      "Extract test suite......................................................... OK\n",
      "Running ant (compile.gen.tests)............................................ "
     ]
    },
    {
     "name": "stdout",
     "output_type": "stream",
     "text": [
      "       Lines total: 231\n",
      "     Lines covered: 35\n",
      "  Conditions total: 158\n",
      "Conditions covered: 13\n",
      "     Line coverage: 15.2%\n",
      "Condition coverage: 8.2%\n"
     ]
    },
    {
     "name": "stderr",
     "output_type": "stream",
     "text": [
      "OK\n",
      "Running ant (coverage.instrument).......................................... OK\n",
      "Running ant (run.gen.tests)................................................ OK\n",
      "Running ant (coverage.report).............................................. OK\n",
      "Extract test suite......................................................... OK\n",
      "Running ant (compile.gen.tests)............................................ "
     ]
    },
    {
     "name": "stdout",
     "output_type": "stream",
     "text": [
      "       Lines total: 231\n",
      "     Lines covered: 45\n",
      "  Conditions total: 158\n",
      "Conditions covered: 19\n",
      "     Line coverage: 19.5%\n",
      "Condition coverage: 12.0%\n"
     ]
    },
    {
     "name": "stderr",
     "output_type": "stream",
     "text": [
      "OK\n",
      "Running ant (coverage.instrument).......................................... OK\n",
      "Running ant (run.gen.tests)................................................ OK\n",
      "Running ant (coverage.report).............................................. OK\n",
      "Extract test suite......................................................... OK\n",
      "Running ant (compile.gen.tests)............................................ "
     ]
    },
    {
     "name": "stdout",
     "output_type": "stream",
     "text": [
      "       Lines total: 231\n",
      "     Lines covered: 51\n",
      "  Conditions total: 158\n",
      "Conditions covered: 21\n",
      "     Line coverage: 22.1%\n",
      "Condition coverage: 13.3%\n"
     ]
    },
    {
     "name": "stderr",
     "output_type": "stream",
     "text": [
      "OK\n",
      "Running ant (coverage.instrument).......................................... OK\n",
      "Running ant (run.gen.tests)................................................ OK\n",
      "Running ant (coverage.report).............................................. OK\n",
      "Extract test suite......................................................... OK\n",
      "Running ant (compile.gen.tests)............................................ "
     ]
    },
    {
     "name": "stdout",
     "output_type": "stream",
     "text": [
      "       Lines total: 231\n",
      "     Lines covered: 188\n",
      "  Conditions total: 158\n",
      "Conditions covered: 93\n",
      "     Line coverage: 81.4%\n",
      "Condition coverage: 58.9%\n"
     ]
    },
    {
     "name": "stderr",
     "output_type": "stream",
     "text": [
      "OK\n",
      "Running ant (coverage.instrument).......................................... OK\n",
      "Running ant (run.gen.tests)................................................ OK\n",
      "Running ant (coverage.report).............................................. OK\n",
      "Extract test suite......................................................... OK\n",
      "Running ant (compile.gen.tests)............................................ "
     ]
    },
    {
     "name": "stdout",
     "output_type": "stream",
     "text": [
      "       Lines total: 231\n",
      "     Lines covered: 48\n",
      "  Conditions total: 158\n",
      "Conditions covered: 26\n",
      "     Line coverage: 20.8%\n",
      "Condition coverage: 16.5%\n"
     ]
    },
    {
     "name": "stderr",
     "output_type": "stream",
     "text": [
      "OK\n",
      "Running ant (coverage.instrument).......................................... OK\n",
      "Running ant (run.gen.tests)................................................ OK\n",
      "Running ant (coverage.report).............................................. OK\n",
      "Extract test suite......................................................... OK\n",
      "Running ant (compile.gen.tests)............................................ "
     ]
    },
    {
     "name": "stdout",
     "output_type": "stream",
     "text": [
      "       Lines total: 231\n",
      "     Lines covered: 59\n",
      "  Conditions total: 158\n",
      "Conditions covered: 28\n",
      "     Line coverage: 25.5%\n",
      "Condition coverage: 17.7%\n"
     ]
    },
    {
     "name": "stderr",
     "output_type": "stream",
     "text": [
      "OK\n",
      "Running ant (coverage.instrument).......................................... OK\n",
      "Running ant (run.gen.tests)................................................ OK\n",
      "Running ant (coverage.report).............................................. OK\n",
      "Extract test suite......................................................... OK\n",
      "Running ant (compile.gen.tests)............................................ "
     ]
    },
    {
     "name": "stdout",
     "output_type": "stream",
     "text": [
      "       Lines total: 231\n",
      "     Lines covered: 49\n",
      "  Conditions total: 158\n",
      "Conditions covered: 24\n",
      "     Line coverage: 21.2%\n",
      "Condition coverage: 15.2%\n"
     ]
    },
    {
     "name": "stderr",
     "output_type": "stream",
     "text": [
      "OK\n",
      "Running ant (coverage.instrument).......................................... OK\n",
      "Running ant (run.gen.tests)................................................ OK\n",
      "Running ant (coverage.report).............................................. OK\n",
      "Extract test suite......................................................... OK\n",
      "Running ant (compile.gen.tests)............................................ "
     ]
    },
    {
     "name": "stdout",
     "output_type": "stream",
     "text": [
      "       Lines total: 231\n",
      "     Lines covered: 8\n",
      "  Conditions total: 158\n",
      "Conditions covered: 1\n",
      "     Line coverage: 3.5%\n",
      "Condition coverage: 0.6%\n"
     ]
    },
    {
     "name": "stderr",
     "output_type": "stream",
     "text": [
      "OK\n",
      "Running ant (coverage.instrument).......................................... OK\n",
      "Running ant (run.gen.tests)................................................ OK\n",
      "Running ant (coverage.report).............................................. OK\n",
      "Extract test suite......................................................... OK\n",
      "Running ant (compile.gen.tests)............................................ "
     ]
    },
    {
     "name": "stdout",
     "output_type": "stream",
     "text": [
      "       Lines total: 231\n",
      "     Lines covered: 184\n",
      "  Conditions total: 158\n",
      "Conditions covered: 94\n",
      "     Line coverage: 79.7%\n",
      "Condition coverage: 59.5%\n"
     ]
    },
    {
     "name": "stderr",
     "output_type": "stream",
     "text": [
      "OK\n",
      "Running ant (coverage.instrument).......................................... OK\n",
      "Running ant (run.gen.tests)................................................ OK\n",
      "Running ant (coverage.report).............................................. OK\n",
      "Extract test suite......................................................... OK\n",
      "Running ant (compile.gen.tests)............................................ "
     ]
    },
    {
     "name": "stdout",
     "output_type": "stream",
     "text": [
      "       Lines total: 231\n",
      "     Lines covered: 50\n",
      "  Conditions total: 158\n",
      "Conditions covered: 23\n",
      "     Line coverage: 21.6%\n",
      "Condition coverage: 14.6%\n"
     ]
    },
    {
     "name": "stderr",
     "output_type": "stream",
     "text": [
      "OK\n",
      "Running ant (coverage.instrument).......................................... OK\n",
      "Running ant (run.gen.tests)................................................ OK\n",
      "Running ant (coverage.report).............................................. OK\n",
      "Extract test suite......................................................... OK\n",
      "Running ant (compile.gen.tests)............................................ "
     ]
    },
    {
     "name": "stdout",
     "output_type": "stream",
     "text": [
      "       Lines total: 231\n",
      "     Lines covered: 100\n",
      "  Conditions total: 158\n",
      "Conditions covered: 58\n",
      "     Line coverage: 43.3%\n",
      "Condition coverage: 36.7%\n"
     ]
    },
    {
     "name": "stderr",
     "output_type": "stream",
     "text": [
      "OK\n",
      "Running ant (coverage.instrument).......................................... OK\n",
      "Running ant (run.gen.tests)................................................ OK\n",
      "Running ant (coverage.report).............................................. OK\n",
      "Extract test suite......................................................... OK\n",
      "Running ant (compile.gen.tests)............................................ "
     ]
    },
    {
     "name": "stdout",
     "output_type": "stream",
     "text": [
      "       Lines total: 231\n",
      "     Lines covered: 85\n",
      "  Conditions total: 158\n",
      "Conditions covered: 45\n",
      "     Line coverage: 36.8%\n",
      "Condition coverage: 28.5%\n"
     ]
    },
    {
     "name": "stderr",
     "output_type": "stream",
     "text": [
      "OK\n",
      "Running ant (coverage.instrument).......................................... OK\n",
      "Running ant (run.gen.tests)................................................ OK\n",
      "Running ant (coverage.report).............................................. OK\n",
      "Extract test suite......................................................... OK\n",
      "Running ant (compile.gen.tests)............................................ "
     ]
    },
    {
     "name": "stdout",
     "output_type": "stream",
     "text": [
      "       Lines total: 231\n",
      "     Lines covered: 143\n",
      "  Conditions total: 158\n",
      "Conditions covered: 73\n",
      "     Line coverage: 61.9%\n",
      "Condition coverage: 46.2%\n"
     ]
    },
    {
     "name": "stderr",
     "output_type": "stream",
     "text": [
      "OK\n",
      "Running ant (coverage.instrument).......................................... OK\n",
      "Running ant (run.gen.tests)................................................ OK\n",
      "Running ant (coverage.report).............................................. OK\n",
      "Extract test suite......................................................... OK\n",
      "Running ant (compile.gen.tests)............................................ "
     ]
    },
    {
     "name": "stdout",
     "output_type": "stream",
     "text": [
      "       Lines total: 231\n",
      "     Lines covered: 36\n",
      "  Conditions total: 158\n",
      "Conditions covered: 20\n",
      "     Line coverage: 15.6%\n",
      "Condition coverage: 12.7%\n"
     ]
    },
    {
     "name": "stderr",
     "output_type": "stream",
     "text": [
      "OK\n",
      "Running ant (coverage.instrument).......................................... OK\n",
      "Running ant (run.gen.tests)................................................ OK\n",
      "Running ant (coverage.report).............................................. OK\n",
      "Extract test suite......................................................... OK\n",
      "Running ant (compile.gen.tests)............................................ "
     ]
    },
    {
     "name": "stdout",
     "output_type": "stream",
     "text": [
      "       Lines total: 231\n",
      "     Lines covered: 32\n",
      "  Conditions total: 158\n",
      "Conditions covered: 19\n",
      "     Line coverage: 13.9%\n",
      "Condition coverage: 12.0%\n"
     ]
    },
    {
     "name": "stderr",
     "output_type": "stream",
     "text": [
      "OK\n",
      "Running ant (coverage.instrument).......................................... OK\n",
      "Running ant (run.gen.tests)................................................ OK\n",
      "Running ant (coverage.report).............................................. OK\n",
      "Extract test suite......................................................... OK\n",
      "Running ant (compile.gen.tests)............................................ "
     ]
    },
    {
     "name": "stdout",
     "output_type": "stream",
     "text": [
      "       Lines total: 231\n",
      "     Lines covered: 153\n",
      "  Conditions total: 158\n",
      "Conditions covered: 78\n",
      "     Line coverage: 66.2%\n",
      "Condition coverage: 49.4%\n"
     ]
    },
    {
     "name": "stderr",
     "output_type": "stream",
     "text": [
      "OK\n",
      "Running ant (coverage.instrument).......................................... OK\n",
      "Running ant (run.gen.tests)................................................ OK\n",
      "Running ant (coverage.report).............................................. OK\n",
      "Extract test suite......................................................... OK\n",
      "Running ant (compile.gen.tests)............................................ "
     ]
    },
    {
     "name": "stdout",
     "output_type": "stream",
     "text": [
      "       Lines total: 231\n",
      "     Lines covered: 98\n",
      "  Conditions total: 158\n",
      "Conditions covered: 55\n",
      "     Line coverage: 42.4%\n",
      "Condition coverage: 34.8%\n"
     ]
    },
    {
     "name": "stderr",
     "output_type": "stream",
     "text": [
      "OK\n",
      "Running ant (coverage.instrument).......................................... OK\n",
      "Running ant (run.gen.tests)................................................ OK\n",
      "Running ant (coverage.report).............................................. OK\n",
      "Extract test suite......................................................... OK\n",
      "Running ant (compile.gen.tests)............................................ "
     ]
    },
    {
     "name": "stdout",
     "output_type": "stream",
     "text": [
      "       Lines total: 231\n",
      "     Lines covered: 135\n",
      "  Conditions total: 158\n",
      "Conditions covered: 73\n",
      "     Line coverage: 58.4%\n",
      "Condition coverage: 46.2%\n"
     ]
    },
    {
     "name": "stderr",
     "output_type": "stream",
     "text": [
      "OK\n",
      "Running ant (coverage.instrument).......................................... OK\n",
      "Running ant (run.gen.tests)................................................ OK\n",
      "Running ant (coverage.report).............................................. OK\n",
      "Extract test suite......................................................... OK\n",
      "Running ant (compile.gen.tests)............................................ "
     ]
    },
    {
     "name": "stdout",
     "output_type": "stream",
     "text": [
      "       Lines total: 231\n",
      "     Lines covered: 173\n",
      "  Conditions total: 158\n",
      "Conditions covered: 88\n",
      "     Line coverage: 74.9%\n",
      "Condition coverage: 55.7%\n"
     ]
    },
    {
     "name": "stderr",
     "output_type": "stream",
     "text": [
      "OK\n",
      "Running ant (coverage.instrument).......................................... OK\n",
      "Running ant (run.gen.tests)................................................ OK\n",
      "Running ant (coverage.report).............................................. OK\n",
      "Extract test suite......................................................... OK\n",
      "Running ant (compile.gen.tests)............................................ "
     ]
    },
    {
     "name": "stdout",
     "output_type": "stream",
     "text": [
      "       Lines total: 231\n",
      "     Lines covered: 40\n",
      "  Conditions total: 158\n",
      "Conditions covered: 20\n",
      "     Line coverage: 17.3%\n",
      "Condition coverage: 12.7%\n"
     ]
    },
    {
     "name": "stderr",
     "output_type": "stream",
     "text": [
      "OK\n",
      "Running ant (coverage.instrument).......................................... OK\n",
      "Running ant (run.gen.tests)................................................ OK\n",
      "Running ant (coverage.report).............................................. OK\n",
      "Extract test suite......................................................... OK\n",
      "Running ant (compile.gen.tests)............................................ "
     ]
    },
    {
     "name": "stdout",
     "output_type": "stream",
     "text": [
      "       Lines total: 231\n",
      "     Lines covered: 161\n",
      "  Conditions total: 158\n",
      "Conditions covered: 79\n",
      "     Line coverage: 69.7%\n",
      "Condition coverage: 50.0%\n"
     ]
    },
    {
     "name": "stderr",
     "output_type": "stream",
     "text": [
      "OK\n",
      "Running ant (coverage.instrument).......................................... OK\n",
      "Running ant (run.gen.tests)................................................ OK\n",
      "Running ant (coverage.report).............................................. OK\n",
      "Extract test suite......................................................... OK\n",
      "Running ant (compile.gen.tests)............................................ "
     ]
    },
    {
     "name": "stdout",
     "output_type": "stream",
     "text": [
      "       Lines total: 231\n",
      "     Lines covered: 172\n",
      "  Conditions total: 158\n",
      "Conditions covered: 87\n",
      "     Line coverage: 74.5%\n",
      "Condition coverage: 55.1%\n"
     ]
    },
    {
     "name": "stderr",
     "output_type": "stream",
     "text": [
      "OK\n",
      "Running ant (coverage.instrument).......................................... OK\n",
      "Running ant (run.gen.tests)................................................ OK\n",
      "Running ant (coverage.report).............................................. OK\n",
      "Extract test suite......................................................... OK\n",
      "Running ant (compile.gen.tests)............................................ "
     ]
    },
    {
     "name": "stdout",
     "output_type": "stream",
     "text": [
      "       Lines total: 231\n",
      "     Lines covered: 23\n",
      "  Conditions total: 158\n",
      "Conditions covered: 12\n",
      "     Line coverage: 10.0%\n",
      "Condition coverage: 7.6%\n"
     ]
    },
    {
     "name": "stderr",
     "output_type": "stream",
     "text": [
      "OK\n",
      "Running ant (coverage.instrument).......................................... OK\n",
      "Running ant (run.gen.tests)................................................ OK\n",
      "Running ant (coverage.report).............................................. OK\n",
      "Extract test suite......................................................... OK\n",
      "Running ant (compile.gen.tests)............................................ "
     ]
    },
    {
     "name": "stdout",
     "output_type": "stream",
     "text": [
      "       Lines total: 231\n",
      "     Lines covered: 24\n",
      "  Conditions total: 158\n",
      "Conditions covered: 13\n",
      "     Line coverage: 10.4%\n",
      "Condition coverage: 8.2%\n"
     ]
    },
    {
     "name": "stderr",
     "output_type": "stream",
     "text": [
      "OK\n",
      "Running ant (coverage.instrument).......................................... OK\n",
      "Running ant (run.gen.tests)................................................ OK\n",
      "Running ant (coverage.report).............................................. OK\n",
      "Extract test suite......................................................... OK\n",
      "Running ant (compile.gen.tests)............................................ "
     ]
    },
    {
     "name": "stdout",
     "output_type": "stream",
     "text": [
      "       Lines total: 231\n",
      "     Lines covered: 173\n",
      "  Conditions total: 158\n",
      "Conditions covered: 87\n",
      "     Line coverage: 74.9%\n",
      "Condition coverage: 55.1%\n"
     ]
    },
    {
     "name": "stderr",
     "output_type": "stream",
     "text": [
      "OK\n",
      "Running ant (coverage.instrument).......................................... OK\n",
      "Running ant (run.gen.tests)................................................ OK\n",
      "Running ant (coverage.report).............................................. OK\n",
      "Extract test suite......................................................... OK\n",
      "Running ant (compile.gen.tests)............................................ "
     ]
    },
    {
     "name": "stdout",
     "output_type": "stream",
     "text": [
      "       Lines total: 231\n",
      "     Lines covered: 49\n",
      "  Conditions total: 158\n",
      "Conditions covered: 27\n",
      "     Line coverage: 21.2%\n",
      "Condition coverage: 17.1%\n"
     ]
    },
    {
     "name": "stderr",
     "output_type": "stream",
     "text": [
      "OK\n",
      "Running ant (coverage.instrument).......................................... OK\n",
      "Running ant (run.gen.tests)................................................ OK\n",
      "Running ant (coverage.report).............................................. OK\n",
      "Extract test suite......................................................... OK\n",
      "Running ant (compile.gen.tests)............................................ "
     ]
    },
    {
     "name": "stdout",
     "output_type": "stream",
     "text": [
      "       Lines total: 231\n",
      "     Lines covered: 91\n",
      "  Conditions total: 158\n",
      "Conditions covered: 46\n",
      "     Line coverage: 39.4%\n",
      "Condition coverage: 29.1%\n"
     ]
    },
    {
     "name": "stderr",
     "output_type": "stream",
     "text": [
      "OK\n",
      "Running ant (coverage.instrument).......................................... OK\n",
      "Running ant (run.gen.tests)................................................ OK\n",
      "Running ant (coverage.report).............................................. OK\n",
      "Extract test suite......................................................... OK\n",
      "Running ant (compile.gen.tests)............................................ "
     ]
    },
    {
     "name": "stdout",
     "output_type": "stream",
     "text": [
      "       Lines total: 231\n",
      "     Lines covered: 81\n",
      "  Conditions total: 158\n",
      "Conditions covered: 42\n",
      "     Line coverage: 35.1%\n",
      "Condition coverage: 26.6%\n"
     ]
    },
    {
     "name": "stderr",
     "output_type": "stream",
     "text": [
      "OK\n",
      "Running ant (coverage.instrument).......................................... OK\n",
      "Running ant (run.gen.tests)................................................ OK\n",
      "Running ant (coverage.report).............................................. OK\n",
      "Extract test suite......................................................... OK\n",
      "Running ant (compile.gen.tests)............................................ "
     ]
    },
    {
     "name": "stdout",
     "output_type": "stream",
     "text": [
      "       Lines total: 231\n",
      "     Lines covered: 172\n",
      "  Conditions total: 158\n",
      "Conditions covered: 88\n",
      "     Line coverage: 74.5%\n",
      "Condition coverage: 55.7%\n"
     ]
    },
    {
     "name": "stderr",
     "output_type": "stream",
     "text": [
      "OK\n",
      "Running ant (coverage.instrument).......................................... OK\n",
      "Running ant (run.gen.tests)................................................ OK\n",
      "Running ant (coverage.report).............................................. OK\n",
      "Extract test suite......................................................... OK\n",
      "Running ant (compile.gen.tests)............................................ "
     ]
    },
    {
     "name": "stdout",
     "output_type": "stream",
     "text": [
      "       Lines total: 231\n",
      "     Lines covered: 50\n",
      "  Conditions total: 158\n",
      "Conditions covered: 23\n",
      "     Line coverage: 21.6%\n",
      "Condition coverage: 14.6%\n"
     ]
    },
    {
     "name": "stderr",
     "output_type": "stream",
     "text": [
      "OK\n",
      "Running ant (coverage.instrument).......................................... OK\n",
      "Running ant (run.gen.tests)................................................ OK\n",
      "Running ant (coverage.report).............................................. OK\n",
      "Extract test suite......................................................... OK\n",
      "Running ant (compile.gen.tests)............................................ "
     ]
    },
    {
     "name": "stdout",
     "output_type": "stream",
     "text": [
      "       Lines total: 231\n",
      "     Lines covered: 36\n",
      "  Conditions total: 158\n",
      "Conditions covered: 16\n",
      "     Line coverage: 15.6%\n",
      "Condition coverage: 10.1%\n"
     ]
    },
    {
     "name": "stderr",
     "output_type": "stream",
     "text": [
      "OK\n",
      "Running ant (coverage.instrument).......................................... OK\n",
      "Running ant (run.gen.tests)................................................ OK\n",
      "Running ant (coverage.report).............................................. OK\n",
      "Extract test suite......................................................... OK\n",
      "Running ant (compile.gen.tests)............................................ "
     ]
    },
    {
     "name": "stdout",
     "output_type": "stream",
     "text": [
      "       Lines total: 231\n",
      "     Lines covered: 33\n",
      "  Conditions total: 158\n",
      "Conditions covered: 20\n",
      "     Line coverage: 14.3%\n",
      "Condition coverage: 12.7%\n"
     ]
    },
    {
     "name": "stderr",
     "output_type": "stream",
     "text": [
      "OK\n",
      "Running ant (coverage.instrument).......................................... OK\n",
      "Running ant (run.gen.tests)................................................ OK\n",
      "Running ant (coverage.report).............................................. OK\n",
      "Extract test suite......................................................... OK\n",
      "Running ant (compile.gen.tests)............................................ "
     ]
    },
    {
     "name": "stdout",
     "output_type": "stream",
     "text": [
      "       Lines total: 231\n",
      "     Lines covered: 59\n",
      "  Conditions total: 158\n",
      "Conditions covered: 28\n",
      "     Line coverage: 25.5%\n",
      "Condition coverage: 17.7%\n"
     ]
    },
    {
     "name": "stderr",
     "output_type": "stream",
     "text": [
      "OK\n",
      "Running ant (coverage.instrument).......................................... OK\n",
      "Running ant (run.gen.tests)................................................ OK\n",
      "Running ant (coverage.report).............................................. OK\n",
      "Extract test suite......................................................... "
     ]
    },
    {
     "name": "stdout",
     "output_type": "stream",
     "text": [
      "       Lines total: 231\n",
      "     Lines covered: 158\n",
      "  Conditions total: 158\n",
      "Conditions covered: 79\n",
      "     Line coverage: 68.4%\n",
      "Condition coverage: 50.0%\n"
     ]
    },
    {
     "name": "stderr",
     "output_type": "stream",
     "text": [
      "OK\n",
      "Running ant (compile.gen.tests)............................................ OK\n",
      "Running ant (coverage.instrument).......................................... OK\n",
      "Running ant (run.gen.tests)................................................ OK\n",
      "Running ant (coverage.report).............................................. OK\n",
      "Extract test suite......................................................... OK\n",
      "Running ant (compile.gen.tests)............................................ "
     ]
    },
    {
     "name": "stdout",
     "output_type": "stream",
     "text": [
      "       Lines total: 231\n",
      "     Lines covered: 92\n",
      "  Conditions total: 158\n",
      "Conditions covered: 47\n",
      "     Line coverage: 39.8%\n",
      "Condition coverage: 29.7%\n"
     ]
    },
    {
     "name": "stderr",
     "output_type": "stream",
     "text": [
      "OK\n",
      "Running ant (coverage.instrument).......................................... OK\n",
      "Running ant (run.gen.tests)................................................ OK\n",
      "Running ant (coverage.report).............................................. OK\n",
      "Extract test suite......................................................... OK\n",
      "Running ant (compile.gen.tests)............................................ "
     ]
    },
    {
     "name": "stdout",
     "output_type": "stream",
     "text": [
      "       Lines total: 231\n",
      "     Lines covered: 39\n",
      "  Conditions total: 158\n",
      "Conditions covered: 16\n",
      "     Line coverage: 16.9%\n",
      "Condition coverage: 10.1%\n"
     ]
    },
    {
     "name": "stderr",
     "output_type": "stream",
     "text": [
      "OK\n",
      "Running ant (coverage.instrument).......................................... OK\n",
      "Running ant (run.gen.tests)................................................ OK\n",
      "Running ant (coverage.report).............................................. OK\n",
      "Extract test suite......................................................... OK\n",
      "Running ant (compile.gen.tests)............................................ "
     ]
    },
    {
     "name": "stdout",
     "output_type": "stream",
     "text": [
      "       Lines total: 231\n",
      "     Lines covered: 37\n",
      "  Conditions total: 158\n",
      "Conditions covered: 17\n",
      "     Line coverage: 16.0%\n",
      "Condition coverage: 10.8%\n"
     ]
    },
    {
     "name": "stderr",
     "output_type": "stream",
     "text": [
      "OK\n",
      "Running ant (coverage.instrument).......................................... OK\n",
      "Running ant (run.gen.tests)................................................ OK\n",
      "Running ant (coverage.report).............................................. OK\n",
      "Extract test suite......................................................... OK\n",
      "Running ant (compile.gen.tests)............................................ "
     ]
    },
    {
     "name": "stdout",
     "output_type": "stream",
     "text": [
      "       Lines total: 231\n",
      "     Lines covered: 114\n",
      "  Conditions total: 158\n",
      "Conditions covered: 65\n",
      "     Line coverage: 49.4%\n",
      "Condition coverage: 41.1%\n"
     ]
    },
    {
     "name": "stderr",
     "output_type": "stream",
     "text": [
      "OK\n",
      "Running ant (coverage.instrument).......................................... OK\n",
      "Running ant (run.gen.tests)................................................ OK\n",
      "Running ant (coverage.report).............................................. OK\n",
      "Extract test suite......................................................... OK\n",
      "Running ant (compile.gen.tests)............................................ "
     ]
    },
    {
     "name": "stdout",
     "output_type": "stream",
     "text": [
      "       Lines total: 231\n",
      "     Lines covered: 177\n",
      "  Conditions total: 158\n",
      "Conditions covered: 93\n",
      "     Line coverage: 76.6%\n",
      "Condition coverage: 58.9%\n"
     ]
    },
    {
     "name": "stderr",
     "output_type": "stream",
     "text": [
      "OK\n",
      "Running ant (coverage.instrument).......................................... OK\n",
      "Running ant (run.gen.tests)................................................ OK\n",
      "Running ant (coverage.report).............................................. OK\n",
      "Extract test suite......................................................... OK\n",
      "Running ant (compile.gen.tests)............................................ "
     ]
    },
    {
     "name": "stdout",
     "output_type": "stream",
     "text": [
      "       Lines total: 231\n",
      "     Lines covered: 89\n",
      "  Conditions total: 158\n",
      "Conditions covered: 44\n",
      "     Line coverage: 38.5%\n",
      "Condition coverage: 27.8%\n"
     ]
    },
    {
     "name": "stderr",
     "output_type": "stream",
     "text": [
      "OK\n",
      "Running ant (coverage.instrument).......................................... OK\n",
      "Running ant (run.gen.tests)................................................ OK\n",
      "Running ant (coverage.report).............................................. OK\n",
      "Extract test suite......................................................... OK\n",
      "Running ant (compile.gen.tests)............................................ "
     ]
    },
    {
     "name": "stdout",
     "output_type": "stream",
     "text": [
      "       Lines total: 231\n",
      "     Lines covered: 44\n",
      "  Conditions total: 158\n",
      "Conditions covered: 18\n",
      "     Line coverage: 19.0%\n",
      "Condition coverage: 11.4%\n"
     ]
    },
    {
     "name": "stderr",
     "output_type": "stream",
     "text": [
      "OK\n",
      "Running ant (coverage.instrument).......................................... OK\n",
      "Running ant (run.gen.tests)................................................ OK\n",
      "Running ant (coverage.report).............................................. OK\n",
      "Extract test suite......................................................... OK\n",
      "Running ant (compile.gen.tests)............................................ "
     ]
    },
    {
     "name": "stdout",
     "output_type": "stream",
     "text": [
      "       Lines total: 231\n",
      "     Lines covered: 175\n",
      "  Conditions total: 158\n",
      "Conditions covered: 89\n",
      "     Line coverage: 75.8%\n",
      "Condition coverage: 56.3%\n"
     ]
    },
    {
     "name": "stderr",
     "output_type": "stream",
     "text": [
      "OK\n",
      "Running ant (coverage.instrument).......................................... OK\n",
      "Running ant (run.gen.tests)................................................ OK\n",
      "Running ant (coverage.report).............................................. OK\n",
      "Extract test suite......................................................... OK\n",
      "Running ant (compile.gen.tests)............................................ "
     ]
    },
    {
     "name": "stdout",
     "output_type": "stream",
     "text": [
      "       Lines total: 231\n",
      "     Lines covered: 110\n",
      "  Conditions total: 158\n",
      "Conditions covered: 62\n",
      "     Line coverage: 47.6%\n",
      "Condition coverage: 39.2%\n"
     ]
    },
    {
     "name": "stderr",
     "output_type": "stream",
     "text": [
      "OK\n",
      "Running ant (coverage.instrument).......................................... OK\n",
      "Running ant (run.gen.tests)................................................ OK\n",
      "Running ant (coverage.report).............................................. OK\n",
      "Extract test suite......................................................... OK\n",
      "Running ant (compile.gen.tests)............................................ "
     ]
    },
    {
     "name": "stdout",
     "output_type": "stream",
     "text": [
      "       Lines total: 231\n",
      "     Lines covered: 49\n",
      "  Conditions total: 158\n",
      "Conditions covered: 24\n",
      "     Line coverage: 21.2%\n",
      "Condition coverage: 15.2%\n"
     ]
    },
    {
     "name": "stderr",
     "output_type": "stream",
     "text": [
      "OK\n",
      "Running ant (coverage.instrument).......................................... OK\n",
      "Running ant (run.gen.tests)................................................ OK\n",
      "Running ant (coverage.report).............................................. OK\n",
      "Extract test suite......................................................... OK\n",
      "Running ant (compile.gen.tests)............................................ "
     ]
    },
    {
     "name": "stdout",
     "output_type": "stream",
     "text": [
      "       Lines total: 231\n",
      "     Lines covered: 175\n",
      "  Conditions total: 158\n",
      "Conditions covered: 85\n",
      "     Line coverage: 75.8%\n",
      "Condition coverage: 53.8%\n"
     ]
    },
    {
     "name": "stderr",
     "output_type": "stream",
     "text": [
      "OK\n",
      "Running ant (coverage.instrument).......................................... OK\n",
      "Running ant (run.gen.tests)................................................ OK\n",
      "Running ant (coverage.report).............................................. OK\n",
      "Extract test suite......................................................... OK\n",
      "Running ant (compile.gen.tests)............................................ "
     ]
    },
    {
     "name": "stdout",
     "output_type": "stream",
     "text": [
      "       Lines total: 231\n",
      "     Lines covered: 157\n",
      "  Conditions total: 158\n",
      "Conditions covered: 74\n",
      "     Line coverage: 68.0%\n",
      "Condition coverage: 46.8%\n"
     ]
    },
    {
     "name": "stderr",
     "output_type": "stream",
     "text": [
      "OK\n",
      "Running ant (coverage.instrument).......................................... OK\n",
      "Running ant (run.gen.tests)................................................ OK\n",
      "Running ant (coverage.report).............................................. OK\n",
      "Extract test suite......................................................... OK\n",
      "Running ant (compile.gen.tests)............................................ "
     ]
    },
    {
     "name": "stdout",
     "output_type": "stream",
     "text": [
      "       Lines total: 231\n",
      "     Lines covered: 115\n",
      "  Conditions total: 158\n",
      "Conditions covered: 69\n",
      "     Line coverage: 49.8%\n",
      "Condition coverage: 43.7%\n"
     ]
    },
    {
     "name": "stderr",
     "output_type": "stream",
     "text": [
      "OK\n",
      "Running ant (coverage.instrument).......................................... OK\n",
      "Running ant (run.gen.tests)................................................ OK\n",
      "Running ant (coverage.report).............................................. OK\n",
      "Extract test suite......................................................... OK\n",
      "Running ant (compile.gen.tests)............................................ "
     ]
    },
    {
     "name": "stdout",
     "output_type": "stream",
     "text": [
      "       Lines total: 231\n",
      "     Lines covered: 46\n",
      "  Conditions total: 158\n",
      "Conditions covered: 23\n",
      "     Line coverage: 19.9%\n",
      "Condition coverage: 14.6%\n"
     ]
    },
    {
     "name": "stderr",
     "output_type": "stream",
     "text": [
      "OK\n",
      "Running ant (coverage.instrument).......................................... OK\n",
      "Running ant (run.gen.tests)................................................ OK\n",
      "Running ant (coverage.report).............................................. OK\n",
      "Extract test suite......................................................... OK\n",
      "Running ant (compile.gen.tests)............................................ "
     ]
    },
    {
     "name": "stdout",
     "output_type": "stream",
     "text": [
      "       Lines total: 231\n",
      "     Lines covered: 153\n",
      "  Conditions total: 158\n",
      "Conditions covered: 87\n",
      "     Line coverage: 66.2%\n",
      "Condition coverage: 55.1%\n"
     ]
    },
    {
     "name": "stderr",
     "output_type": "stream",
     "text": [
      "OK\n",
      "Running ant (coverage.instrument).......................................... OK\n",
      "Running ant (run.gen.tests)................................................ OK\n",
      "Running ant (coverage.report).............................................. OK\n",
      "Extract test suite......................................................... OK\n",
      "Running ant (compile.gen.tests)............................................ "
     ]
    },
    {
     "name": "stdout",
     "output_type": "stream",
     "text": [
      "       Lines total: 231\n",
      "     Lines covered: 44\n",
      "  Conditions total: 158\n",
      "Conditions covered: 18\n",
      "     Line coverage: 19.0%\n",
      "Condition coverage: 11.4%\n"
     ]
    },
    {
     "name": "stderr",
     "output_type": "stream",
     "text": [
      "OK\n",
      "Running ant (coverage.instrument).......................................... OK\n",
      "Running ant (run.gen.tests)................................................ OK\n",
      "Running ant (coverage.report).............................................. OK\n",
      "Extract test suite......................................................... OK\n",
      "Running ant (compile.gen.tests)............................................ "
     ]
    },
    {
     "name": "stdout",
     "output_type": "stream",
     "text": [
      "       Lines total: 231\n",
      "     Lines covered: 170\n",
      "  Conditions total: 158\n",
      "Conditions covered: 87\n",
      "     Line coverage: 73.6%\n",
      "Condition coverage: 55.1%\n"
     ]
    },
    {
     "name": "stderr",
     "output_type": "stream",
     "text": [
      "OK\n",
      "Running ant (coverage.instrument).......................................... OK\n",
      "Running ant (run.gen.tests)................................................ OK\n",
      "Running ant (coverage.report).............................................. OK\n",
      "Extract test suite......................................................... OK\n",
      "Running ant (compile.gen.tests)............................................ "
     ]
    },
    {
     "name": "stdout",
     "output_type": "stream",
     "text": [
      "       Lines total: 231\n",
      "     Lines covered: 37\n",
      "  Conditions total: 158\n",
      "Conditions covered: 16\n",
      "     Line coverage: 16.0%\n",
      "Condition coverage: 10.1%\n"
     ]
    },
    {
     "name": "stderr",
     "output_type": "stream",
     "text": [
      "OK\n",
      "Running ant (coverage.instrument).......................................... OK\n",
      "Running ant (run.gen.tests)................................................ OK\n",
      "Running ant (coverage.report).............................................. OK\n",
      "Extract test suite......................................................... OK\n",
      "Running ant (compile.gen.tests)............................................ "
     ]
    },
    {
     "name": "stdout",
     "output_type": "stream",
     "text": [
      "       Lines total: 231\n",
      "     Lines covered: 144\n",
      "  Conditions total: 158\n",
      "Conditions covered: 73\n",
      "     Line coverage: 62.3%\n",
      "Condition coverage: 46.2%\n"
     ]
    },
    {
     "name": "stderr",
     "output_type": "stream",
     "text": [
      "OK\n",
      "Running ant (coverage.instrument).......................................... OK\n",
      "Running ant (run.gen.tests)................................................ OK\n",
      "Running ant (coverage.report).............................................. OK\n",
      "Extract test suite......................................................... OK\n",
      "Running ant (compile.gen.tests)............................................ "
     ]
    },
    {
     "name": "stdout",
     "output_type": "stream",
     "text": [
      "       Lines total: 231\n",
      "     Lines covered: 148\n",
      "  Conditions total: 158\n",
      "Conditions covered: 73\n",
      "     Line coverage: 64.1%\n",
      "Condition coverage: 46.2%\n"
     ]
    },
    {
     "name": "stderr",
     "output_type": "stream",
     "text": [
      "OK\n",
      "Running ant (coverage.instrument).......................................... OK\n",
      "Running ant (run.gen.tests)................................................ OK\n",
      "Running ant (coverage.report).............................................. OK\n",
      "Extract test suite......................................................... OK\n",
      "Running ant (compile.gen.tests)............................................ "
     ]
    },
    {
     "name": "stdout",
     "output_type": "stream",
     "text": [
      "       Lines total: 231\n",
      "     Lines covered: 156\n",
      "  Conditions total: 158\n",
      "Conditions covered: 82\n",
      "     Line coverage: 67.5%\n",
      "Condition coverage: 51.9%\n"
     ]
    },
    {
     "name": "stderr",
     "output_type": "stream",
     "text": [
      "OK\n",
      "Running ant (coverage.instrument).......................................... OK\n",
      "Running ant (run.gen.tests)................................................ OK\n",
      "Running ant (coverage.report).............................................. OK\n",
      "Extract test suite......................................................... OK\n",
      "Running ant (compile.gen.tests)............................................ "
     ]
    },
    {
     "name": "stdout",
     "output_type": "stream",
     "text": [
      "       Lines total: 231\n",
      "     Lines covered: 79\n",
      "  Conditions total: 158\n",
      "Conditions covered: 38\n",
      "     Line coverage: 34.2%\n",
      "Condition coverage: 24.1%\n"
     ]
    },
    {
     "name": "stderr",
     "output_type": "stream",
     "text": [
      "OK\n",
      "Running ant (coverage.instrument).......................................... OK\n",
      "Running ant (run.gen.tests)................................................ OK\n",
      "Running ant (coverage.report).............................................. OK\n",
      "Extract test suite......................................................... OK\n",
      "Running ant (compile.gen.tests)............................................ "
     ]
    },
    {
     "name": "stdout",
     "output_type": "stream",
     "text": [
      "       Lines total: 231\n",
      "     Lines covered: 53\n",
      "  Conditions total: 158\n",
      "Conditions covered: 26\n",
      "     Line coverage: 22.9%\n",
      "Condition coverage: 16.5%\n"
     ]
    },
    {
     "name": "stderr",
     "output_type": "stream",
     "text": [
      "OK\n",
      "Running ant (coverage.instrument).......................................... OK\n",
      "Running ant (run.gen.tests)................................................ OK\n",
      "Running ant (coverage.report).............................................. OK\n",
      "Extract test suite......................................................... OK\n",
      "Running ant (compile.gen.tests)............................................ "
     ]
    },
    {
     "name": "stdout",
     "output_type": "stream",
     "text": [
      "       Lines total: 231\n",
      "     Lines covered: 23\n",
      "  Conditions total: 158\n",
      "Conditions covered: 12\n",
      "     Line coverage: 10.0%\n",
      "Condition coverage: 7.6%\n"
     ]
    },
    {
     "name": "stderr",
     "output_type": "stream",
     "text": [
      "OK\n",
      "Running ant (coverage.instrument).......................................... OK\n",
      "Running ant (run.gen.tests)................................................ OK\n",
      "Running ant (coverage.report).............................................. OK\n",
      "Extract test suite......................................................... OK\n",
      "Running ant (compile.gen.tests)............................................ "
     ]
    },
    {
     "name": "stdout",
     "output_type": "stream",
     "text": [
      "       Lines total: 231\n",
      "     Lines covered: 63\n",
      "  Conditions total: 158\n",
      "Conditions covered: 29\n",
      "     Line coverage: 27.3%\n",
      "Condition coverage: 18.4%\n"
     ]
    },
    {
     "name": "stderr",
     "output_type": "stream",
     "text": [
      "OK\n",
      "Running ant (coverage.instrument).......................................... OK\n",
      "Running ant (run.gen.tests)................................................ OK\n",
      "Running ant (coverage.report).............................................. OK\n",
      "Extract test suite......................................................... OK\n",
      "Running ant (compile.gen.tests)............................................ "
     ]
    },
    {
     "name": "stdout",
     "output_type": "stream",
     "text": [
      "       Lines total: 231\n",
      "     Lines covered: 156\n",
      "  Conditions total: 158\n",
      "Conditions covered: 81\n",
      "     Line coverage: 67.5%\n",
      "Condition coverage: 51.3%\n"
     ]
    },
    {
     "name": "stderr",
     "output_type": "stream",
     "text": [
      "OK\n",
      "Running ant (coverage.instrument).......................................... OK\n",
      "Running ant (run.gen.tests)................................................ OK\n",
      "Running ant (coverage.report).............................................. OK\n",
      "Extract test suite......................................................... OK\n",
      "Running ant (compile.gen.tests)............................................ "
     ]
    },
    {
     "name": "stdout",
     "output_type": "stream",
     "text": [
      "       Lines total: 231\n",
      "     Lines covered: 52\n",
      "  Conditions total: 158\n",
      "Conditions covered: 26\n",
      "     Line coverage: 22.5%\n",
      "Condition coverage: 16.5%\n"
     ]
    },
    {
     "name": "stderr",
     "output_type": "stream",
     "text": [
      "OK\n",
      "Running ant (coverage.instrument).......................................... OK\n",
      "Running ant (run.gen.tests)................................................ OK\n",
      "Running ant (coverage.report).............................................. OK\n",
      "Extract test suite......................................................... OK\n",
      "Running ant (compile.gen.tests)............................................ "
     ]
    },
    {
     "name": "stdout",
     "output_type": "stream",
     "text": [
      "       Lines total: 231\n",
      "     Lines covered: 192\n",
      "  Conditions total: 158\n",
      "Conditions covered: 98\n",
      "     Line coverage: 83.1%\n",
      "Condition coverage: 62.0%\n"
     ]
    },
    {
     "name": "stderr",
     "output_type": "stream",
     "text": [
      "OK\n",
      "Running ant (coverage.instrument).......................................... OK\n",
      "Running ant (run.gen.tests)................................................ OK\n",
      "Running ant (coverage.report).............................................. OK\n",
      "Extract test suite......................................................... OK\n",
      "Running ant (compile.gen.tests)............................................ "
     ]
    },
    {
     "name": "stdout",
     "output_type": "stream",
     "text": [
      "       Lines total: 231\n",
      "     Lines covered: 52\n",
      "  Conditions total: 158\n",
      "Conditions covered: 24\n",
      "     Line coverage: 22.5%\n",
      "Condition coverage: 15.2%\n"
     ]
    },
    {
     "name": "stderr",
     "output_type": "stream",
     "text": [
      "OK\n",
      "Running ant (coverage.instrument).......................................... OK\n",
      "Running ant (run.gen.tests)................................................ OK\n",
      "Running ant (coverage.report).............................................. OK\n",
      "Extract test suite......................................................... OK\n",
      "Running ant (compile.gen.tests)............................................ "
     ]
    },
    {
     "name": "stdout",
     "output_type": "stream",
     "text": [
      "       Lines total: 231\n",
      "     Lines covered: 40\n",
      "  Conditions total: 158\n",
      "Conditions covered: 19\n",
      "     Line coverage: 17.3%\n",
      "Condition coverage: 12.0%\n"
     ]
    },
    {
     "name": "stderr",
     "output_type": "stream",
     "text": [
      "OK\n",
      "Running ant (coverage.instrument).......................................... OK\n",
      "Running ant (run.gen.tests)................................................ OK\n",
      "Running ant (coverage.report).............................................. OK\n",
      "Extract test suite......................................................... OK\n",
      "Running ant (compile.gen.tests)............................................ "
     ]
    },
    {
     "name": "stdout",
     "output_type": "stream",
     "text": [
      "       Lines total: 231\n",
      "     Lines covered: 80\n",
      "  Conditions total: 158\n",
      "Conditions covered: 40\n",
      "     Line coverage: 34.6%\n",
      "Condition coverage: 25.3%\n"
     ]
    },
    {
     "name": "stderr",
     "output_type": "stream",
     "text": [
      "OK\n",
      "Running ant (coverage.instrument).......................................... OK\n",
      "Running ant (run.gen.tests)................................................ OK\n",
      "Running ant (coverage.report).............................................. OK\n",
      "Extract test suite......................................................... OK\n",
      "Running ant (compile.gen.tests)............................................ "
     ]
    },
    {
     "name": "stdout",
     "output_type": "stream",
     "text": [
      "       Lines total: 231\n",
      "     Lines covered: 18\n",
      "  Conditions total: 158\n",
      "Conditions covered: 4\n",
      "     Line coverage: 7.8%\n",
      "Condition coverage: 2.5%\n"
     ]
    },
    {
     "name": "stderr",
     "output_type": "stream",
     "text": [
      "OK\n",
      "Running ant (coverage.instrument).......................................... OK\n",
      "Running ant (run.gen.tests)................................................ OK\n",
      "Running ant (coverage.report).............................................. OK\n",
      "Extract test suite......................................................... OK\n",
      "Running ant (compile.gen.tests)............................................ "
     ]
    },
    {
     "name": "stdout",
     "output_type": "stream",
     "text": [
      "       Lines total: 231\n",
      "     Lines covered: 169\n",
      "  Conditions total: 158\n",
      "Conditions covered: 85\n",
      "     Line coverage: 73.2%\n",
      "Condition coverage: 53.8%\n"
     ]
    },
    {
     "name": "stderr",
     "output_type": "stream",
     "text": [
      "OK\n",
      "Running ant (coverage.instrument).......................................... OK\n",
      "Running ant (run.gen.tests)................................................ OK\n",
      "Running ant (coverage.report).............................................. OK\n",
      "Extract test suite......................................................... OK\n",
      "Running ant (compile.gen.tests)............................................ "
     ]
    },
    {
     "name": "stdout",
     "output_type": "stream",
     "text": [
      "       Lines total: 231\n",
      "     Lines covered: 76\n",
      "  Conditions total: 158\n",
      "Conditions covered: 38\n",
      "     Line coverage: 32.9%\n",
      "Condition coverage: 24.1%\n"
     ]
    },
    {
     "name": "stderr",
     "output_type": "stream",
     "text": [
      "OK\n",
      "Running ant (coverage.instrument).......................................... OK\n",
      "Running ant (run.gen.tests)................................................ OK\n",
      "Running ant (coverage.report).............................................. OK\n",
      "Extract test suite......................................................... OK\n",
      "Running ant (compile.gen.tests)............................................ "
     ]
    },
    {
     "name": "stdout",
     "output_type": "stream",
     "text": [
      "       Lines total: 231\n",
      "     Lines covered: 15\n",
      "  Conditions total: 158\n",
      "Conditions covered: 3\n",
      "     Line coverage: 6.5%\n",
      "Condition coverage: 1.9%\n"
     ]
    },
    {
     "name": "stderr",
     "output_type": "stream",
     "text": [
      "OK\n",
      "Running ant (coverage.instrument).......................................... OK\n",
      "Running ant (run.gen.tests)................................................ OK\n",
      "Running ant (coverage.report).............................................. OK\n",
      "Extract test suite......................................................... OK\n",
      "Running ant (compile.gen.tests)............................................ "
     ]
    },
    {
     "name": "stdout",
     "output_type": "stream",
     "text": [
      "       Lines total: 231\n",
      "     Lines covered: 52\n",
      "  Conditions total: 158\n",
      "Conditions covered: 27\n",
      "     Line coverage: 22.5%\n",
      "Condition coverage: 17.1%\n"
     ]
    },
    {
     "name": "stderr",
     "output_type": "stream",
     "text": [
      "OK\n",
      "Running ant (coverage.instrument).......................................... OK\n",
      "Running ant (run.gen.tests)................................................ OK\n",
      "Running ant (coverage.report).............................................. OK\n",
      "Extract test suite......................................................... OK\n",
      "Running ant (compile.gen.tests)............................................ "
     ]
    },
    {
     "name": "stdout",
     "output_type": "stream",
     "text": [
      "       Lines total: 231\n",
      "     Lines covered: 84\n",
      "  Conditions total: 158\n",
      "Conditions covered: 41\n",
      "     Line coverage: 36.4%\n",
      "Condition coverage: 25.9%\n"
     ]
    },
    {
     "name": "stderr",
     "output_type": "stream",
     "text": [
      "OK\n",
      "Running ant (coverage.instrument).......................................... OK\n",
      "Running ant (run.gen.tests)................................................ OK\n",
      "Running ant (coverage.report).............................................. OK\n",
      "Extract test suite......................................................... OK\n",
      "Running ant (compile.gen.tests)............................................ "
     ]
    },
    {
     "name": "stdout",
     "output_type": "stream",
     "text": [
      "       Lines total: 231\n",
      "     Lines covered: 49\n",
      "  Conditions total: 158\n",
      "Conditions covered: 25\n",
      "     Line coverage: 21.2%\n",
      "Condition coverage: 15.8%\n"
     ]
    },
    {
     "name": "stderr",
     "output_type": "stream",
     "text": [
      "OK\n",
      "Running ant (coverage.instrument).......................................... OK\n",
      "Running ant (run.gen.tests)................................................ OK\n",
      "Running ant (coverage.report).............................................. OK\n",
      "Extract test suite......................................................... OK\n",
      "Running ant (compile.gen.tests)............................................ "
     ]
    },
    {
     "name": "stdout",
     "output_type": "stream",
     "text": [
      "       Lines total: 231\n",
      "     Lines covered: 24\n",
      "  Conditions total: 158\n",
      "Conditions covered: 13\n",
      "     Line coverage: 10.4%\n",
      "Condition coverage: 8.2%\n"
     ]
    },
    {
     "name": "stderr",
     "output_type": "stream",
     "text": [
      "OK\n",
      "Running ant (coverage.instrument).......................................... OK\n",
      "Running ant (run.gen.tests)................................................ OK\n",
      "Running ant (coverage.report).............................................. OK\n",
      "Extract test suite......................................................... OK\n",
      "Running ant (compile.gen.tests)............................................ "
     ]
    },
    {
     "name": "stdout",
     "output_type": "stream",
     "text": [
      "       Lines total: 231\n",
      "     Lines covered: 150\n",
      "  Conditions total: 158\n",
      "Conditions covered: 75\n",
      "     Line coverage: 64.9%\n",
      "Condition coverage: 47.5%\n"
     ]
    },
    {
     "name": "stderr",
     "output_type": "stream",
     "text": [
      "OK\n",
      "Running ant (coverage.instrument).......................................... OK\n",
      "Running ant (run.gen.tests)................................................ OK\n",
      "Running ant (coverage.report).............................................. OK\n",
      "Extract test suite......................................................... OK\n",
      "Running ant (compile.gen.tests)............................................ "
     ]
    },
    {
     "name": "stdout",
     "output_type": "stream",
     "text": [
      "       Lines total: 231\n",
      "     Lines covered: 35\n",
      "  Conditions total: 158\n",
      "Conditions covered: 16\n",
      "     Line coverage: 15.2%\n",
      "Condition coverage: 10.1%\n"
     ]
    },
    {
     "name": "stderr",
     "output_type": "stream",
     "text": [
      "OK\n",
      "Running ant (coverage.instrument).......................................... OK\n",
      "Running ant (run.gen.tests)................................................ OK\n",
      "Running ant (coverage.report).............................................. "
     ]
    },
    {
     "name": "stdout",
     "output_type": "stream",
     "text": [
      "       Lines total: 231\n",
      "     Lines covered: 171\n",
      "  Conditions total: 158\n",
      "Conditions covered: 86\n",
      "     Line coverage: 74.0%\n",
      "Condition coverage: 54.4%\n"
     ]
    },
    {
     "name": "stderr",
     "output_type": "stream",
     "text": [
      "OK\n"
     ]
    }
   ],
   "source": [
    "import subprocess\n",
    "import xml.etree.ElementTree as ET\n",
    "\n",
    "\n",
    "line_info = {number: [0, 0] for number in line_numbers}\n",
    "\n",
    "print(line_info)\n",
    "\n",
    "failed_evo_tests = ['test40']\n",
    "\n",
    "suspiciousness_scores = {}\n",
    "\n",
    "# Path to the coverage file\n",
    "coverage_xml_path = \"/Users/hugoyin/Desktop/UIUC/CS_527/CS_527_Project/Defects4J/Codec_4/Buggy-Version/Codec_4B/coverage.xml\"\n",
    "\n",
    "\n",
    "\n",
    "for i in range(42):\n",
    "    visited = []\n",
    "    test_name = f\"test{i:02d}\"  # Formats i to 3 digits, padded with zeros\n",
    "    command = f\"defects4j coverage -t org.apache.commons.codec.binary.Base64_ESTest::{test_name} -s /Users/hugoyin/Desktop/UIUC/CS_527/defects4j/tests/Codec/evosuite/1/Codec-4b-evosuite.1.tar.bz2\"\n",
    "    \n",
    "    # Run the command\n",
    "    subprocess.run(command, shell=True, check=True)\n",
    "    \n",
    "    # Parse the coverage XML file\n",
    "    tree = ET.parse(coverage_xml_path)\n",
    "    root = tree.getroot()\n",
    "\n",
    "    class_xpath = \".//class[@name='org.apache.commons.codec.binary.Base64']\"\n",
    "    metaphone_class = root.find(class_xpath)\n",
    "    \n",
    "    if metaphone_class is not None:\n",
    "        for line in metaphone_class.findall(\".//line\"):\n",
    "            num = int(line.get('number'))\n",
    "            if num in visited:\n",
    "                continue\n",
    "    \n",
    "            if num in line_numbers:\n",
    "                hits = int(line.get('hits'))\n",
    "                if hits > 0:\n",
    "                    if test_name in failed_evo_tests:\n",
    "                        line_info[num][0] += 1\n",
    "                    else:\n",
    "                        line_info[num][1] += 1\n",
    "    \n",
    "            visited.append(num)\n",
    "                \n",
    "\n",
    "for i in range(183):\n",
    "    index = i + 1\n",
    "    visited = []\n",
    "    test_name = f\"test{index:03d}\"  # Formats i to 3 digits, padded with zeros\n",
    "    command = f\"defects4j coverage -t org.apache.commons.codec.binary.RegressionTest0::{test_name} -s /Users/hugoyin/Desktop/UIUC/CS_527/defects4j/tests/Codec/randoop/1/Codec-4b-randoop.1.tar.bz2\"\n",
    "    \n",
    "    # Run the command\n",
    "    subprocess.run(command, shell=True, check=True)\n",
    "    \n",
    "    # Parse the coverage XML file\n",
    "    tree = ET.parse(coverage_xml_path)\n",
    "    root = tree.getroot()\n",
    "\n",
    "    class_xpath = \".//class[@name='org.apache.commons.codec.binary.Base64']\"\n",
    "    metaphone_class = root.find(class_xpath)\n",
    "    \n",
    "    if metaphone_class is not None:\n",
    "        for line in metaphone_class.findall(\".//line\"):\n",
    "            num = int(line.get('number'))\n",
    "            if num in visited:\n",
    "                continue\n",
    "    \n",
    "            if num in line_numbers:\n",
    "                hits = int(line.get('hits'))\n",
    "                if hits > 0:\n",
    "                    line_info[num][1] += 1\n",
    "    \n",
    "            visited.append(num)"
   ]
  },
  {
   "cell_type": "code",
   "execution_count": 5,
   "id": "f2fdcd36-ca49-415c-8f1c-4239abbb5903",
   "metadata": {},
   "outputs": [
    {
     "data": {
      "text/plain": [
       "{79: [1, 224],\n",
       " 88: [1, 224],\n",
       " 101: [1, 224],\n",
       " 125: [1, 224],\n",
       " 225: [0, 79],\n",
       " 226: [0, 79],\n",
       " 266: [1, 121],\n",
       " 267: [1, 121],\n",
       " 292: [1, 133],\n",
       " 293: [1, 127],\n",
       " 320: [1, 196],\n",
       " 321: [1, 196],\n",
       " 322: [0, 13],\n",
       " 323: [0, 13],\n",
       " 325: [1, 196],\n",
       " 326: [1, 196],\n",
       " 327: [1, 196],\n",
       " 328: [1, 196],\n",
       " 329: [1, 181],\n",
       " 331: [0, 86],\n",
       " 333: [1, 196],\n",
       " 334: [1, 196],\n",
       " 335: [0, 10],\n",
       " 336: [0, 10],\n",
       " 338: [1, 195],\n",
       " 339: [1, 195],\n",
       " 244: [0, 98],\n",
       " 245: [0, 98],\n",
       " 366: [0, 95],\n",
       " 626: [1, 196],\n",
       " 627: [1, 195],\n",
       " 628: [0, 10],\n",
       " 631: [1, 195],\n",
       " 705: [0, 26],\n",
       " 706: [0, 9],\n",
       " 707: [0, 18],\n",
       " 708: [0, 1],\n",
       " 710: [0, 17],\n",
       " 723: [0, 88],\n",
       " 734: [0, 136],\n",
       " 735: [0, 136],\n",
       " 736: [0, 78],\n",
       " 738: [0, 77],\n",
       " 739: [0, 77],\n",
       " 740: [0, 77],\n",
       " 741: [0, 77],\n",
       " 742: [0, 77],\n",
       " 750: [0, 77],\n",
       " 751: [0, 77],\n",
       " 752: [0, 77],\n",
       " 539: [0, 121],\n",
       " 540: [0, 45],\n",
       " 542: [0, 121],\n",
       " 543: [0, 99],\n",
       " 545: [0, 121],\n",
       " 546: [0, 83],\n",
       " 547: [0, 70],\n",
       " 549: [0, 83],\n",
       " 550: [0, 77],\n",
       " 552: [0, 43],\n",
       " 553: [0, 43],\n",
       " 555: [0, 77],\n",
       " 556: [0, 77],\n",
       " 557: [0, 77],\n",
       " 558: [0, 76],\n",
       " 559: [0, 76],\n",
       " 560: [0, 76],\n",
       " 561: [0, 67],\n",
       " 562: [0, 67],\n",
       " 563: [0, 67],\n",
       " 573: [0, 118],\n",
       " 574: [0, 73],\n",
       " 575: [0, 73],\n",
       " 577: [0, 22],\n",
       " 578: [0, 22],\n",
       " 579: [0, 22],\n",
       " 581: [0, 53],\n",
       " 582: [0, 53],\n",
       " 586: [0, 118],\n",
       " 830: [0, 26],\n",
       " 841: [0, 56],\n",
       " 992: [0, 45],\n",
       " 853: [0, 31],\n",
       " 854: [0, 30],\n",
       " 855: [0, 30],\n",
       " 856: [0, 27],\n",
       " 861: [0, 4],\n",
       " 863: [0, 26],\n",
       " 866: [0, 30],\n",
       " 867: [0, 30],\n",
       " 868: [0, 30],\n",
       " 903: [0, 42],\n",
       " 904: [0, 10],\n",
       " 906: [0, 35],\n",
       " 929: [1, 115],\n",
       " 930: [1, 115],\n",
       " 931: [0, 51],\n",
       " 933: [1, 78],\n",
       " 934: [1, 78],\n",
       " 935: [1, 78],\n",
       " 936: [1, 78],\n",
       " 937: [1, 78],\n",
       " 939: [1, 78],\n",
       " 940: [0, 7],\n",
       " 944: [1, 78],\n",
       " 945: [0, 26],\n",
       " 946: [0, 26],\n",
       " 947: [0, 26],\n",
       " 949: [1, 78],\n",
       " 453: [1, 85],\n",
       " 454: [0, 11],\n",
       " 458: [1, 85],\n",
       " 459: [1, 80],\n",
       " 460: [1, 80],\n",
       " 461: [0, 9],\n",
       " 463: [1, 80],\n",
       " 465: [0, 42],\n",
       " 466: [0, 42],\n",
       " 468: [0, 42],\n",
       " 469: [0, 33],\n",
       " 470: [0, 33],\n",
       " 475: [1, 54],\n",
       " 476: [1, 54],\n",
       " 477: [1, 54],\n",
       " 479: [1, 54],\n",
       " 480: [1, 51],\n",
       " 484: [1, 80],\n",
       " 485: [1, 47],\n",
       " 486: [1, 47],\n",
       " 489: [1, 83],\n",
       " 490: [1, 83],\n",
       " 491: [0, 6],\n",
       " 493: [1, 83],\n",
       " 494: [1, 83],\n",
       " 495: [1, 78],\n",
       " 496: [0, 46],\n",
       " 498: [1, 78],\n",
       " 499: [1, 78],\n",
       " 500: [1, 73],\n",
       " 501: [1, 73],\n",
       " 502: [1, 73],\n",
       " 503: [1, 73],\n",
       " 504: [1, 73],\n",
       " 505: [1, 73],\n",
       " 506: [0, 1],\n",
       " 507: [0, 1],\n",
       " 508: [0, 1],\n",
       " 513: [1, 80],\n",
       " 642: [0, 6],\n",
       " 767: [0, 78],\n",
       " 785: [0, 121],\n",
       " 805: [0, 158],\n",
       " 806: [0, 104],\n",
       " 809: [0, 74],\n",
       " 810: [0, 74],\n",
       " 811: [0, 3],\n",
       " 817: [0, 73],\n",
       " 818: [0, 73],\n",
       " 691: [0, 33],\n",
       " 654: [0, 10],\n",
       " 667: [0, 14],\n",
       " 680: [0, 22],\n",
       " 1006: [0, 35],\n",
       " 1007: [0, 2],\n",
       " 1009: [0, 33],\n",
       " 918: [0, 18],\n",
       " 965: [1, 79],\n",
       " 967: [1, 79],\n",
       " 968: [1, 79],\n",
       " 969: [1, 79],\n",
       " 970: [1, 75],\n",
       " 972: [1, 79],\n",
       " 973: [1, 78],\n",
       " 974: [1, 78],\n",
       " 975: [1, 78],\n",
       " 976: [0, 78],\n",
       " 979: [1, 79],\n",
       " 357: [0, 15],\n",
       " 610: [0, 30],\n",
       " 611: [0, 8],\n",
       " 612: [0, 3],\n",
       " 615: [0, 27],\n",
       " 597: [1, 202],\n",
       " 348: [1, 94],\n",
       " 879: [0, 4],\n",
       " 884: [0, 3],\n",
       " 886: [0, 3],\n",
       " 395: [0, 93],\n",
       " 396: [0, 81],\n",
       " 397: [0, 81],\n",
       " 398: [0, 80],\n",
       " 399: [0, 80],\n",
       " 400: [0, 80],\n",
       " 401: [0, 80],\n",
       " 406: [0, 1],\n",
       " 408: [0, 81],\n",
       " 410: [0, 15],\n",
       " 1047: [1, 159],\n",
       " 1048: [1, 159],\n",
       " 1049: [1, 159],\n",
       " 1050: [1, 159],\n",
       " 1051: [1, 159],\n",
       " 1052: [1, 159],\n",
       " 1053: [1, 159],\n",
       " 371: [0, 82],\n",
       " 372: [0, 15],\n",
       " 373: [0, 15],\n",
       " 374: [0, 15],\n",
       " 376: [0, 70],\n",
       " 377: [0, 70],\n",
       " 378: [0, 70],\n",
       " 380: [0, 82],\n",
       " 427: [1, 114],\n",
       " 428: [1, 108],\n",
       " 429: [1, 108],\n",
       " 430: [1, 108],\n",
       " 432: [1, 114],\n",
       " 1020: [0, 39],\n",
       " 1022: [0, 38],\n",
       " 1023: [0, 38],\n",
       " 1025: [0, 38],\n",
       " 1026: [0, 3],\n",
       " 1029: [0, 35],\n",
       " 1030: [0, 35],\n",
       " 1033: [0, 35],\n",
       " 1034: [0, 35],\n",
       " 1035: [0, 35],\n",
       " 1037: [0, 35],\n",
       " 1038: [0, 35],\n",
       " 1039: [0, 35],\n",
       " 1040: [0, 35]}"
      ]
     },
     "execution_count": 5,
     "metadata": {},
     "output_type": "execute_result"
    }
   ],
   "source": [
    "line_info"
   ]
  },
  {
   "cell_type": "code",
   "execution_count": 7,
   "id": "acb836ad-b5d4-4434-bd28-0e90158e86b5",
   "metadata": {},
   "outputs": [
    {
     "name": "stdout",
     "output_type": "stream",
     "text": [
      "['org.apache.commons.codec.binary.Base64Codec13Test::testEncoder', 'org.apache.commons.codec.binary.Base64Codec13Test::testBinaryEncoder', 'org.apache.commons.codec.binary.Base64_ESTest::test33', 'org.apache.commons.codec.binary.RegressionTest0::test096', 'org.apache.commons.codec.binary.RegressionTest0::test105', 'org.apache.commons.codec.binary.RegressionTest0::test114', 'org.apache.commons.codec.binary.RegressionTest0::test096', 'org.apache.commons.codec.binary.RegressionTest0::test105', 'org.apache.commons.codec.binary.RegressionTest0::test114']\n"
     ]
    },
    {
     "name": "stderr",
     "output_type": "stream",
     "text": [
      "Running ant (compile.tests)................................................ OK\n",
      "Running ant (coverage.instrument).......................................... OK\n",
      "Running ant (run.dev.tests)................................................ OK\n",
      "Running ant (coverage.report).............................................. OK\n",
      "WARNING: Some tests failed (see /Users/hugoyin/Desktop/UIUC/CS_527/CS_527_Project/Defects4J/Codec_4/Buggy-Version/Codec_4B/failing_tests)!\n",
      "Running ant (compile.tests)................................................ "
     ]
    },
    {
     "name": "stdout",
     "output_type": "stream",
     "text": [
      "       Lines total: 231\n",
      "     Lines covered: 82\n",
      "  Conditions total: 158\n",
      "Conditions covered: 40\n",
      "     Line coverage: 35.5%\n",
      "Condition coverage: 25.3%\n"
     ]
    },
    {
     "name": "stderr",
     "output_type": "stream",
     "text": [
      "OK\n",
      "Running ant (coverage.instrument).......................................... OK\n",
      "Running ant (run.dev.tests)................................................ OK\n",
      "Running ant (coverage.report).............................................. OK\n",
      "WARNING: Some tests failed (see /Users/hugoyin/Desktop/UIUC/CS_527/CS_527_Project/Defects4J/Codec_4/Buggy-Version/Codec_4B/failing_tests)!\n",
      "Running ant (compile.tests)................................................ "
     ]
    },
    {
     "name": "stdout",
     "output_type": "stream",
     "text": [
      "       Lines total: 231\n",
      "     Lines covered: 80\n",
      "  Conditions total: 158\n",
      "Conditions covered: 39\n",
      "     Line coverage: 34.6%\n",
      "Condition coverage: 24.7%\n"
     ]
    },
    {
     "name": "stderr",
     "output_type": "stream",
     "text": [
      "OK\n",
      "Running ant (coverage.instrument).......................................... OK\n",
      "Running ant (run.dev.tests)................................................ OK\n",
      "Running ant (coverage.report).............................................. OK\n",
      "Running ant (compile.tests)................................................ "
     ]
    },
    {
     "name": "stdout",
     "output_type": "stream",
     "text": [
      "       Lines total: 231\n",
      "     Lines covered: 116\n",
      "  Conditions total: 158\n",
      "Conditions covered: 62\n",
      "     Line coverage: 50.2%\n",
      "Condition coverage: 39.2%\n"
     ]
    },
    {
     "name": "stderr",
     "output_type": "stream",
     "text": [
      "OK\n",
      "Running ant (coverage.instrument).......................................... OK\n",
      "Running ant (run.dev.tests)................................................ OK\n",
      "Running ant (coverage.report).............................................. OK\n",
      "Running ant (compile.tests)................................................ "
     ]
    },
    {
     "name": "stdout",
     "output_type": "stream",
     "text": [
      "       Lines total: 231\n",
      "     Lines covered: 91\n",
      "  Conditions total: 158\n",
      "Conditions covered: 45\n",
      "     Line coverage: 39.4%\n",
      "Condition coverage: 28.5%\n"
     ]
    },
    {
     "name": "stderr",
     "output_type": "stream",
     "text": [
      "OK\n",
      "Running ant (coverage.instrument).......................................... OK\n",
      "Running ant (run.dev.tests)................................................ OK\n",
      "Running ant (coverage.report).............................................. OK\n",
      "Running ant (compile.tests)................................................ "
     ]
    },
    {
     "name": "stdout",
     "output_type": "stream",
     "text": [
      "       Lines total: 231\n",
      "     Lines covered: 89\n",
      "  Conditions total: 158\n",
      "Conditions covered: 44\n",
      "     Line coverage: 38.5%\n",
      "Condition coverage: 27.8%\n"
     ]
    },
    {
     "name": "stderr",
     "output_type": "stream",
     "text": [
      "OK\n",
      "Running ant (coverage.instrument).......................................... OK\n",
      "Running ant (run.dev.tests)................................................ OK\n",
      "Running ant (coverage.report).............................................. OK\n",
      "Running ant (compile.tests)................................................ "
     ]
    },
    {
     "name": "stdout",
     "output_type": "stream",
     "text": [
      "       Lines total: 231\n",
      "     Lines covered: 90\n",
      "  Conditions total: 158\n",
      "Conditions covered: 45\n",
      "     Line coverage: 39.0%\n",
      "Condition coverage: 28.5%\n"
     ]
    },
    {
     "name": "stderr",
     "output_type": "stream",
     "text": [
      "OK\n",
      "Running ant (coverage.instrument).......................................... OK\n",
      "Running ant (run.dev.tests)................................................ OK\n",
      "Running ant (coverage.report).............................................. OK\n",
      "Running ant (compile.tests)................................................ "
     ]
    },
    {
     "name": "stdout",
     "output_type": "stream",
     "text": [
      "       Lines total: 231\n",
      "     Lines covered: 90\n",
      "  Conditions total: 158\n",
      "Conditions covered: 44\n",
      "     Line coverage: 39.0%\n",
      "Condition coverage: 27.8%\n"
     ]
    },
    {
     "name": "stderr",
     "output_type": "stream",
     "text": [
      "OK\n",
      "Running ant (coverage.instrument).......................................... OK\n",
      "Running ant (run.dev.tests)................................................ OK\n",
      "Running ant (coverage.report).............................................. OK\n",
      "Running ant (compile.tests)................................................ "
     ]
    },
    {
     "name": "stdout",
     "output_type": "stream",
     "text": [
      "       Lines total: 231\n",
      "     Lines covered: 109\n",
      "  Conditions total: 158\n",
      "Conditions covered: 59\n",
      "     Line coverage: 47.2%\n",
      "Condition coverage: 37.3%\n"
     ]
    },
    {
     "name": "stderr",
     "output_type": "stream",
     "text": [
      "OK\n",
      "Running ant (coverage.instrument).......................................... OK\n",
      "Running ant (run.dev.tests)................................................ OK\n",
      "Running ant (coverage.report).............................................. OK\n",
      "Running ant (compile.tests)................................................ "
     ]
    },
    {
     "name": "stdout",
     "output_type": "stream",
     "text": [
      "       Lines total: 231\n",
      "     Lines covered: 21\n",
      "  Conditions total: 158\n",
      "Conditions covered: 12\n",
      "     Line coverage: 9.1%\n",
      "Condition coverage: 7.6%\n"
     ]
    },
    {
     "name": "stderr",
     "output_type": "stream",
     "text": [
      "OK\n",
      "Running ant (coverage.instrument).......................................... OK\n",
      "Running ant (run.dev.tests)................................................ OK\n",
      "Running ant (coverage.report).............................................. OK\n",
      "Running ant (compile.tests)................................................ "
     ]
    },
    {
     "name": "stdout",
     "output_type": "stream",
     "text": [
      "       Lines total: 231\n",
      "     Lines covered: 156\n",
      "  Conditions total: 158\n",
      "Conditions covered: 101\n",
      "     Line coverage: 67.5%\n",
      "Condition coverage: 63.9%\n"
     ]
    },
    {
     "name": "stderr",
     "output_type": "stream",
     "text": [
      "OK\n",
      "Running ant (coverage.instrument).......................................... OK\n",
      "Running ant (run.dev.tests)................................................ OK\n",
      "Running ant (coverage.report).............................................. OK\n",
      "Running ant (compile.tests)................................................ "
     ]
    },
    {
     "name": "stdout",
     "output_type": "stream",
     "text": [
      "       Lines total: 231\n",
      "     Lines covered: 21\n",
      "  Conditions total: 158\n",
      "Conditions covered: 12\n",
      "     Line coverage: 9.1%\n",
      "Condition coverage: 7.6%\n"
     ]
    },
    {
     "name": "stderr",
     "output_type": "stream",
     "text": [
      "OK\n",
      "Running ant (coverage.instrument).......................................... OK\n",
      "Running ant (run.dev.tests)................................................ OK\n",
      "Running ant (coverage.report).............................................. OK\n",
      "Running ant (compile.tests)................................................ "
     ]
    },
    {
     "name": "stdout",
     "output_type": "stream",
     "text": [
      "       Lines total: 231\n",
      "     Lines covered: 21\n",
      "  Conditions total: 158\n",
      "Conditions covered: 12\n",
      "     Line coverage: 9.1%\n",
      "Condition coverage: 7.6%\n"
     ]
    },
    {
     "name": "stderr",
     "output_type": "stream",
     "text": [
      "OK\n",
      "Running ant (coverage.instrument).......................................... OK\n",
      "Running ant (run.dev.tests)................................................ OK\n",
      "Running ant (coverage.report).............................................. OK\n",
      "Running ant (compile.tests)................................................ "
     ]
    },
    {
     "name": "stdout",
     "output_type": "stream",
     "text": [
      "       Lines total: 231\n",
      "     Lines covered: 21\n",
      "  Conditions total: 158\n",
      "Conditions covered: 12\n",
      "     Line coverage: 9.1%\n",
      "Condition coverage: 7.6%\n"
     ]
    },
    {
     "name": "stderr",
     "output_type": "stream",
     "text": [
      "OK\n",
      "Running ant (coverage.instrument).......................................... OK\n",
      "Running ant (run.dev.tests)................................................ OK\n",
      "Running ant (coverage.report).............................................. OK\n",
      "Running ant (compile.tests)................................................ "
     ]
    },
    {
     "name": "stdout",
     "output_type": "stream",
     "text": [
      "       Lines total: 231\n",
      "     Lines covered: 56\n",
      "  Conditions total: 158\n",
      "Conditions covered: 38\n",
      "     Line coverage: 24.2%\n",
      "Condition coverage: 24.1%\n"
     ]
    },
    {
     "name": "stderr",
     "output_type": "stream",
     "text": [
      "OK\n",
      "Running ant (coverage.instrument).......................................... OK\n",
      "Running ant (run.dev.tests)................................................ OK\n",
      "Running ant (coverage.report).............................................. OK\n",
      "Running ant (compile.tests)................................................ "
     ]
    },
    {
     "name": "stdout",
     "output_type": "stream",
     "text": [
      "       Lines total: 231\n",
      "     Lines covered: 156\n",
      "  Conditions total: 158\n",
      "Conditions covered: 100\n",
      "     Line coverage: 67.5%\n",
      "Condition coverage: 63.3%\n"
     ]
    },
    {
     "name": "stderr",
     "output_type": "stream",
     "text": [
      "OK\n",
      "Running ant (coverage.instrument).......................................... OK\n",
      "Running ant (run.dev.tests)................................................ OK\n",
      "Running ant (coverage.report).............................................. OK\n",
      "Running ant (compile.tests)................................................ "
     ]
    },
    {
     "name": "stdout",
     "output_type": "stream",
     "text": [
      "       Lines total: 231\n",
      "     Lines covered: 21\n",
      "  Conditions total: 158\n",
      "Conditions covered: 12\n",
      "     Line coverage: 9.1%\n",
      "Condition coverage: 7.6%\n"
     ]
    },
    {
     "name": "stderr",
     "output_type": "stream",
     "text": [
      "OK\n",
      "Running ant (coverage.instrument).......................................... OK\n",
      "Running ant (run.dev.tests)................................................ OK\n",
      "Running ant (coverage.report).............................................. OK\n",
      "Running ant (compile.tests)................................................ "
     ]
    },
    {
     "name": "stdout",
     "output_type": "stream",
     "text": [
      "       Lines total: 231\n",
      "     Lines covered: 152\n",
      "  Conditions total: 158\n",
      "Conditions covered: 93\n",
      "     Line coverage: 65.8%\n",
      "Condition coverage: 58.9%\n"
     ]
    },
    {
     "name": "stderr",
     "output_type": "stream",
     "text": [
      "OK\n",
      "Running ant (coverage.instrument).......................................... OK\n",
      "Running ant (run.dev.tests)................................................ OK\n",
      "Running ant (coverage.report).............................................. OK\n",
      "Running ant (compile.tests)................................................ "
     ]
    },
    {
     "name": "stdout",
     "output_type": "stream",
     "text": [
      "       Lines total: 231\n",
      "     Lines covered: 43\n",
      "  Conditions total: 158\n",
      "Conditions covered: 26\n",
      "     Line coverage: 18.6%\n",
      "Condition coverage: 16.5%\n"
     ]
    },
    {
     "name": "stderr",
     "output_type": "stream",
     "text": [
      "OK\n",
      "Running ant (coverage.instrument).......................................... OK\n",
      "Running ant (run.dev.tests)................................................ OK\n",
      "Running ant (coverage.report).............................................. OK\n",
      "Running ant (compile.tests)................................................ "
     ]
    },
    {
     "name": "stdout",
     "output_type": "stream",
     "text": [
      "       Lines total: 231\n",
      "     Lines covered: 21\n",
      "  Conditions total: 158\n",
      "Conditions covered: 12\n",
      "     Line coverage: 9.1%\n",
      "Condition coverage: 7.6%\n"
     ]
    },
    {
     "name": "stderr",
     "output_type": "stream",
     "text": [
      "OK\n",
      "Running ant (coverage.instrument).......................................... OK\n",
      "Running ant (run.dev.tests)................................................ OK\n",
      "Running ant (coverage.report).............................................. OK\n",
      "Running ant (compile.tests)................................................ "
     ]
    },
    {
     "name": "stdout",
     "output_type": "stream",
     "text": [
      "       Lines total: 231\n",
      "     Lines covered: 152\n",
      "  Conditions total: 158\n",
      "Conditions covered: 93\n",
      "     Line coverage: 65.8%\n",
      "Condition coverage: 58.9%\n"
     ]
    },
    {
     "name": "stderr",
     "output_type": "stream",
     "text": [
      "OK\n",
      "Running ant (coverage.instrument).......................................... OK\n",
      "Running ant (run.dev.tests)................................................ OK\n",
      "Running ant (coverage.report).............................................. OK\n",
      "Running ant (compile.tests)................................................ "
     ]
    },
    {
     "name": "stdout",
     "output_type": "stream",
     "text": [
      "       Lines total: 231\n",
      "     Lines covered: 96\n",
      "  Conditions total: 158\n",
      "Conditions covered: 48\n",
      "     Line coverage: 41.6%\n",
      "Condition coverage: 30.4%\n"
     ]
    },
    {
     "name": "stderr",
     "output_type": "stream",
     "text": [
      "OK\n",
      "Running ant (coverage.instrument).......................................... OK\n",
      "Running ant (run.dev.tests)................................................ OK\n",
      "Running ant (coverage.report).............................................. OK\n",
      "Running ant (compile.tests)................................................ "
     ]
    },
    {
     "name": "stdout",
     "output_type": "stream",
     "text": [
      "       Lines total: 231\n",
      "     Lines covered: 0\n",
      "  Conditions total: 158\n",
      "Conditions covered: 0\n",
      "     Line coverage: 0.0%\n",
      "Condition coverage: 0.0%\n"
     ]
    },
    {
     "name": "stderr",
     "output_type": "stream",
     "text": [
      "OK\n",
      "Running ant (coverage.instrument).......................................... OK\n",
      "Running ant (run.dev.tests)................................................ OK\n",
      "Running ant (coverage.report).............................................. OK\n",
      "Running ant (compile.tests)................................................ "
     ]
    },
    {
     "name": "stdout",
     "output_type": "stream",
     "text": [
      "       Lines total: 231\n",
      "     Lines covered: 94\n",
      "  Conditions total: 158\n",
      "Conditions covered: 46\n",
      "     Line coverage: 40.7%\n",
      "Condition coverage: 29.1%\n"
     ]
    },
    {
     "name": "stderr",
     "output_type": "stream",
     "text": [
      "OK\n",
      "Running ant (coverage.instrument).......................................... OK\n",
      "Running ant (run.dev.tests)................................................ OK\n",
      "Running ant (coverage.report).............................................. OK\n",
      "Running ant (compile.tests)................................................ "
     ]
    },
    {
     "name": "stdout",
     "output_type": "stream",
     "text": [
      "       Lines total: 231\n",
      "     Lines covered: 86\n",
      "  Conditions total: 158\n",
      "Conditions covered: 44\n",
      "     Line coverage: 37.2%\n",
      "Condition coverage: 27.8%\n"
     ]
    },
    {
     "name": "stderr",
     "output_type": "stream",
     "text": [
      "OK\n",
      "Running ant (coverage.instrument).......................................... OK\n",
      "Running ant (run.dev.tests)................................................ OK\n",
      "Running ant (coverage.report).............................................. OK\n",
      "Running ant (compile.tests)................................................ "
     ]
    },
    {
     "name": "stdout",
     "output_type": "stream",
     "text": [
      "       Lines total: 231\n",
      "     Lines covered: 84\n",
      "  Conditions total: 158\n",
      "Conditions covered: 42\n",
      "     Line coverage: 36.4%\n",
      "Condition coverage: 26.6%\n"
     ]
    },
    {
     "name": "stderr",
     "output_type": "stream",
     "text": [
      "OK\n",
      "Running ant (coverage.instrument).......................................... OK\n",
      "Running ant (run.dev.tests)................................................ OK\n",
      "Running ant (coverage.report).............................................. OK\n",
      "Running ant (compile.tests)................................................ "
     ]
    },
    {
     "name": "stdout",
     "output_type": "stream",
     "text": [
      "       Lines total: 231\n",
      "     Lines covered: 89\n",
      "  Conditions total: 158\n",
      "Conditions covered: 43\n",
      "     Line coverage: 38.5%\n",
      "Condition coverage: 27.2%\n"
     ]
    },
    {
     "name": "stderr",
     "output_type": "stream",
     "text": [
      "OK\n",
      "Running ant (coverage.instrument).......................................... OK\n",
      "Running ant (run.dev.tests)................................................ OK\n",
      "Running ant (coverage.report).............................................. OK\n",
      "Running ant (compile.tests)................................................ "
     ]
    },
    {
     "name": "stdout",
     "output_type": "stream",
     "text": [
      "       Lines total: 231\n",
      "     Lines covered: 140\n",
      "  Conditions total: 158\n",
      "Conditions covered: 74\n",
      "     Line coverage: 60.6%\n",
      "Condition coverage: 46.8%\n"
     ]
    },
    {
     "name": "stderr",
     "output_type": "stream",
     "text": [
      "OK\n",
      "Running ant (coverage.instrument).......................................... OK\n",
      "Running ant (run.dev.tests)................................................ OK\n",
      "Running ant (coverage.report).............................................. OK\n",
      "Running ant (compile.tests)................................................ "
     ]
    },
    {
     "name": "stdout",
     "output_type": "stream",
     "text": [
      "       Lines total: 231\n",
      "     Lines covered: 133\n",
      "  Conditions total: 158\n",
      "Conditions covered: 68\n",
      "     Line coverage: 57.6%\n",
      "Condition coverage: 43.0%\n"
     ]
    },
    {
     "name": "stderr",
     "output_type": "stream",
     "text": [
      "OK\n",
      "Running ant (coverage.instrument).......................................... OK\n",
      "Running ant (run.dev.tests)................................................ OK\n",
      "Running ant (coverage.report).............................................. OK\n",
      "Running ant (compile.tests)................................................ "
     ]
    },
    {
     "name": "stdout",
     "output_type": "stream",
     "text": [
      "       Lines total: 231\n",
      "     Lines covered: 148\n",
      "  Conditions total: 158\n",
      "Conditions covered: 79\n",
      "     Line coverage: 64.1%\n",
      "Condition coverage: 50.0%\n"
     ]
    },
    {
     "name": "stderr",
     "output_type": "stream",
     "text": [
      "OK\n",
      "Running ant (coverage.instrument).......................................... OK\n",
      "Running ant (run.dev.tests)................................................ OK\n",
      "Running ant (coverage.report).............................................. OK\n",
      "Running ant (compile.tests)................................................ "
     ]
    },
    {
     "name": "stdout",
     "output_type": "stream",
     "text": [
      "       Lines total: 231\n",
      "     Lines covered: 158\n",
      "  Conditions total: 158\n",
      "Conditions covered: 89\n",
      "     Line coverage: 68.4%\n",
      "Condition coverage: 56.3%\n"
     ]
    },
    {
     "name": "stderr",
     "output_type": "stream",
     "text": [
      "OK\n",
      "Running ant (coverage.instrument).......................................... OK\n",
      "Running ant (run.dev.tests)................................................ OK\n",
      "Running ant (coverage.report).............................................. OK\n",
      "Running ant (compile.tests)................................................ "
     ]
    },
    {
     "name": "stdout",
     "output_type": "stream",
     "text": [
      "       Lines total: 231\n",
      "     Lines covered: 31\n",
      "  Conditions total: 158\n",
      "Conditions covered: 18\n",
      "     Line coverage: 13.4%\n",
      "Condition coverage: 11.4%\n"
     ]
    },
    {
     "name": "stderr",
     "output_type": "stream",
     "text": [
      "OK\n",
      "Running ant (coverage.instrument).......................................... OK\n",
      "Running ant (run.dev.tests)................................................ OK\n",
      "Running ant (coverage.report).............................................. OK\n",
      "Running ant (compile.tests)................................................ "
     ]
    },
    {
     "name": "stdout",
     "output_type": "stream",
     "text": [
      "       Lines total: 231\n",
      "     Lines covered: 132\n",
      "  Conditions total: 158\n",
      "Conditions covered: 70\n",
      "     Line coverage: 57.1%\n",
      "Condition coverage: 44.3%\n"
     ]
    },
    {
     "name": "stderr",
     "output_type": "stream",
     "text": [
      "OK\n",
      "Running ant (coverage.instrument).......................................... OK\n",
      "Running ant (run.dev.tests)................................................ OK\n",
      "Running ant (coverage.report).............................................. OK\n",
      "Running ant (compile.tests)................................................ "
     ]
    },
    {
     "name": "stdout",
     "output_type": "stream",
     "text": [
      "       Lines total: 231\n",
      "     Lines covered: 157\n",
      "  Conditions total: 158\n",
      "Conditions covered: 74\n",
      "     Line coverage: 68.0%\n",
      "Condition coverage: 46.8%\n"
     ]
    },
    {
     "name": "stderr",
     "output_type": "stream",
     "text": [
      "OK\n",
      "Running ant (coverage.instrument).......................................... OK\n",
      "Running ant (run.dev.tests)................................................ OK\n",
      "Running ant (coverage.report).............................................. OK\n",
      "Running ant (compile.tests)................................................ "
     ]
    },
    {
     "name": "stdout",
     "output_type": "stream",
     "text": [
      "       Lines total: 231\n",
      "     Lines covered: 157\n",
      "  Conditions total: 158\n",
      "Conditions covered: 74\n",
      "     Line coverage: 68.0%\n",
      "Condition coverage: 46.8%\n"
     ]
    },
    {
     "name": "stderr",
     "output_type": "stream",
     "text": [
      "OK\n",
      "Running ant (coverage.instrument).......................................... OK\n",
      "Running ant (run.dev.tests)................................................ OK\n",
      "Running ant (coverage.report).............................................. OK\n",
      "Running ant (compile.tests)................................................ "
     ]
    },
    {
     "name": "stdout",
     "output_type": "stream",
     "text": [
      "       Lines total: 231\n",
      "     Lines covered: 150\n",
      "  Conditions total: 158\n",
      "Conditions covered: 74\n",
      "     Line coverage: 64.9%\n",
      "Condition coverage: 46.8%\n"
     ]
    },
    {
     "name": "stderr",
     "output_type": "stream",
     "text": [
      "OK\n",
      "Running ant (coverage.instrument).......................................... OK\n",
      "Running ant (run.dev.tests)................................................ OK\n",
      "Running ant (coverage.report).............................................. OK\n",
      "Running ant (compile.tests)................................................ "
     ]
    },
    {
     "name": "stdout",
     "output_type": "stream",
     "text": [
      "       Lines total: 231\n",
      "     Lines covered: 149\n",
      "  Conditions total: 158\n",
      "Conditions covered: 74\n",
      "     Line coverage: 64.5%\n",
      "Condition coverage: 46.8%\n"
     ]
    },
    {
     "name": "stderr",
     "output_type": "stream",
     "text": [
      "OK\n",
      "Running ant (coverage.instrument).......................................... OK\n",
      "Running ant (run.dev.tests)................................................ OK\n",
      "Running ant (coverage.report).............................................. OK\n",
      "Running ant (compile.tests)................................................ "
     ]
    },
    {
     "name": "stdout",
     "output_type": "stream",
     "text": [
      "       Lines total: 231\n",
      "     Lines covered: 0\n",
      "  Conditions total: 158\n",
      "Conditions covered: 0\n",
      "     Line coverage: 0.0%\n",
      "Condition coverage: 0.0%\n"
     ]
    },
    {
     "name": "stderr",
     "output_type": "stream",
     "text": [
      "OK\n",
      "Running ant (coverage.instrument).......................................... OK\n",
      "Running ant (run.dev.tests)................................................ OK\n",
      "Running ant (coverage.report).............................................. OK\n",
      "Running ant (compile.tests)................................................ "
     ]
    },
    {
     "name": "stdout",
     "output_type": "stream",
     "text": [
      "       Lines total: 231\n",
      "     Lines covered: 151\n",
      "  Conditions total: 158\n",
      "Conditions covered: 87\n",
      "     Line coverage: 65.4%\n",
      "Condition coverage: 55.1%\n"
     ]
    },
    {
     "name": "stderr",
     "output_type": "stream",
     "text": [
      "OK\n",
      "Running ant (coverage.instrument).......................................... OK\n",
      "Running ant (run.dev.tests)................................................ OK\n",
      "Running ant (coverage.report).............................................. OK\n",
      "Running ant (compile.tests)................................................ "
     ]
    },
    {
     "name": "stdout",
     "output_type": "stream",
     "text": [
      "       Lines total: 231\n",
      "     Lines covered: 25\n",
      "  Conditions total: 158\n",
      "Conditions covered: 13\n",
      "     Line coverage: 10.8%\n",
      "Condition coverage: 8.2%\n"
     ]
    },
    {
     "name": "stderr",
     "output_type": "stream",
     "text": [
      "OK\n",
      "Running ant (coverage.instrument).......................................... OK\n",
      "Running ant (run.dev.tests)................................................ OK\n",
      "Running ant (coverage.report).............................................. OK\n",
      "Running ant (compile.tests)................................................ "
     ]
    },
    {
     "name": "stdout",
     "output_type": "stream",
     "text": [
      "       Lines total: 231\n",
      "     Lines covered: 156\n",
      "  Conditions total: 158\n",
      "Conditions covered: 87\n",
      "     Line coverage: 67.5%\n",
      "Condition coverage: 55.1%\n"
     ]
    },
    {
     "name": "stderr",
     "output_type": "stream",
     "text": [
      "OK\n",
      "Running ant (coverage.instrument).......................................... OK\n",
      "Running ant (run.dev.tests)................................................ OK\n",
      "Running ant (coverage.report).............................................. OK\n",
      "Running ant (compile.tests)................................................ "
     ]
    },
    {
     "name": "stdout",
     "output_type": "stream",
     "text": [
      "       Lines total: 231\n",
      "     Lines covered: 4\n",
      "  Conditions total: 158\n",
      "Conditions covered: 0\n",
      "     Line coverage: 1.7%\n",
      "Condition coverage: 0.0%\n"
     ]
    },
    {
     "name": "stderr",
     "output_type": "stream",
     "text": [
      "OK\n",
      "Running ant (coverage.instrument).......................................... OK\n",
      "Running ant (run.dev.tests)................................................ OK\n",
      "Running ant (coverage.report).............................................. OK\n",
      "Running ant (compile.tests)................................................ "
     ]
    },
    {
     "name": "stdout",
     "output_type": "stream",
     "text": [
      "       Lines total: 231\n",
      "     Lines covered: 130\n",
      "  Conditions total: 158\n",
      "Conditions covered: 69\n",
      "     Line coverage: 56.3%\n",
      "Condition coverage: 43.7%\n"
     ]
    },
    {
     "name": "stderr",
     "output_type": "stream",
     "text": [
      "OK\n",
      "Running ant (coverage.instrument).......................................... OK\n",
      "Running ant (run.dev.tests)................................................ OK\n",
      "Running ant (coverage.report).............................................. OK\n",
      "Running ant (compile.tests)................................................ "
     ]
    },
    {
     "name": "stdout",
     "output_type": "stream",
     "text": [
      "       Lines total: 231\n",
      "     Lines covered: 76\n",
      "  Conditions total: 158\n",
      "Conditions covered: 37\n",
      "     Line coverage: 32.9%\n",
      "Condition coverage: 23.4%\n"
     ]
    },
    {
     "name": "stderr",
     "output_type": "stream",
     "text": [
      "OK\n",
      "Running ant (coverage.instrument).......................................... OK\n",
      "Running ant (run.dev.tests)................................................ OK\n",
      "Running ant (coverage.report).............................................. OK\n",
      "Running ant (compile.tests)................................................ "
     ]
    },
    {
     "name": "stdout",
     "output_type": "stream",
     "text": [
      "       Lines total: 231\n",
      "     Lines covered: 116\n",
      "  Conditions total: 158\n",
      "Conditions covered: 63\n",
      "     Line coverage: 50.2%\n",
      "Condition coverage: 39.9%\n"
     ]
    },
    {
     "name": "stderr",
     "output_type": "stream",
     "text": [
      "OK\n",
      "Running ant (coverage.instrument).......................................... OK\n",
      "Running ant (run.dev.tests)................................................ OK\n",
      "Running ant (coverage.report).............................................. OK\n",
      "Running ant (compile.tests)................................................ "
     ]
    },
    {
     "name": "stdout",
     "output_type": "stream",
     "text": [
      "       Lines total: 231\n",
      "     Lines covered: 80\n",
      "  Conditions total: 158\n",
      "Conditions covered: 37\n",
      "     Line coverage: 34.6%\n",
      "Condition coverage: 23.4%\n"
     ]
    },
    {
     "name": "stderr",
     "output_type": "stream",
     "text": [
      "OK\n",
      "Running ant (coverage.instrument).......................................... OK\n",
      "Running ant (run.dev.tests)................................................ OK\n",
      "Running ant (coverage.report).............................................. OK\n",
      "Running ant (compile.tests)................................................ "
     ]
    },
    {
     "name": "stdout",
     "output_type": "stream",
     "text": [
      "       Lines total: 231\n",
      "     Lines covered: 83\n",
      "  Conditions total: 158\n",
      "Conditions covered: 37\n",
      "     Line coverage: 35.9%\n",
      "Condition coverage: 23.4%\n"
     ]
    },
    {
     "name": "stderr",
     "output_type": "stream",
     "text": [
      "OK\n",
      "Running ant (coverage.instrument).......................................... OK\n",
      "Running ant (run.dev.tests)................................................ OK\n",
      "Running ant (coverage.report).............................................. OK\n",
      "Running ant (compile.tests)................................................ "
     ]
    },
    {
     "name": "stdout",
     "output_type": "stream",
     "text": [
      "       Lines total: 231\n",
      "     Lines covered: 86\n",
      "  Conditions total: 158\n",
      "Conditions covered: 42\n",
      "     Line coverage: 37.2%\n",
      "Condition coverage: 26.6%\n"
     ]
    },
    {
     "name": "stderr",
     "output_type": "stream",
     "text": [
      "OK\n",
      "Running ant (coverage.instrument).......................................... OK\n",
      "Running ant (run.dev.tests)................................................ OK\n",
      "Running ant (coverage.report).............................................. OK\n",
      "Running ant (compile.tests)................................................ "
     ]
    },
    {
     "name": "stdout",
     "output_type": "stream",
     "text": [
      "       Lines total: 231\n",
      "     Lines covered: 27\n",
      "  Conditions total: 158\n",
      "Conditions covered: 20\n",
      "     Line coverage: 11.7%\n",
      "Condition coverage: 12.7%\n"
     ]
    },
    {
     "name": "stderr",
     "output_type": "stream",
     "text": [
      "OK\n",
      "Running ant (coverage.instrument).......................................... OK\n",
      "Running ant (run.dev.tests)................................................ OK\n",
      "Running ant (coverage.report).............................................. OK\n",
      "Running ant (compile.tests)................................................ "
     ]
    },
    {
     "name": "stdout",
     "output_type": "stream",
     "text": [
      "       Lines total: 231\n",
      "     Lines covered: 18\n",
      "  Conditions total: 158\n",
      "Conditions covered: 7\n",
      "     Line coverage: 7.8%\n",
      "Condition coverage: 4.4%\n"
     ]
    },
    {
     "name": "stderr",
     "output_type": "stream",
     "text": [
      "OK\n",
      "Running ant (coverage.instrument).......................................... OK\n",
      "Running ant (run.dev.tests)................................................ OK\n",
      "Running ant (coverage.report).............................................. OK\n",
      "Running ant (compile.tests)................................................ "
     ]
    },
    {
     "name": "stdout",
     "output_type": "stream",
     "text": [
      "       Lines total: 231\n",
      "     Lines covered: 39\n",
      "  Conditions total: 158\n",
      "Conditions covered: 18\n",
      "     Line coverage: 16.9%\n",
      "Condition coverage: 11.4%\n"
     ]
    },
    {
     "name": "stderr",
     "output_type": "stream",
     "text": [
      "OK\n",
      "Running ant (coverage.instrument).......................................... OK\n",
      "Running ant (run.dev.tests)................................................ OK\n",
      "Running ant (coverage.report).............................................. OK\n",
      "Running ant (compile.tests)................................................ "
     ]
    },
    {
     "name": "stdout",
     "output_type": "stream",
     "text": [
      "       Lines total: 231\n",
      "     Lines covered: 134\n",
      "  Conditions total: 158\n",
      "Conditions covered: 68\n",
      "     Line coverage: 58.0%\n",
      "Condition coverage: 43.0%\n"
     ]
    },
    {
     "name": "stderr",
     "output_type": "stream",
     "text": [
      "OK\n",
      "Running ant (coverage.instrument).......................................... OK\n",
      "Running ant (run.dev.tests)................................................ OK\n",
      "Running ant (coverage.report).............................................. OK\n",
      "Running ant (compile.tests)................................................ "
     ]
    },
    {
     "name": "stdout",
     "output_type": "stream",
     "text": [
      "       Lines total: 231\n",
      "     Lines covered: 100\n",
      "  Conditions total: 158\n",
      "Conditions covered: 49\n",
      "     Line coverage: 43.3%\n",
      "Condition coverage: 31.0%\n"
     ]
    },
    {
     "name": "stderr",
     "output_type": "stream",
     "text": [
      "OK\n",
      "Running ant (coverage.instrument).......................................... OK\n",
      "Running ant (run.dev.tests)................................................ OK\n",
      "Running ant (coverage.report).............................................. OK\n",
      "Running ant (compile.tests)................................................ "
     ]
    },
    {
     "name": "stdout",
     "output_type": "stream",
     "text": [
      "       Lines total: 231\n",
      "     Lines covered: 83\n",
      "  Conditions total: 158\n",
      "Conditions covered: 37\n",
      "     Line coverage: 35.9%\n",
      "Condition coverage: 23.4%\n"
     ]
    },
    {
     "name": "stderr",
     "output_type": "stream",
     "text": [
      "OK\n",
      "Running ant (coverage.instrument).......................................... OK\n",
      "Running ant (run.dev.tests)................................................ OK\n",
      "Running ant (coverage.report).............................................. OK\n",
      "Running ant (compile.tests)................................................ "
     ]
    },
    {
     "name": "stdout",
     "output_type": "stream",
     "text": [
      "       Lines total: 231\n",
      "     Lines covered: 26\n",
      "  Conditions total: 158\n",
      "Conditions covered: 14\n",
      "     Line coverage: 11.3%\n",
      "Condition coverage: 8.9%\n"
     ]
    },
    {
     "name": "stderr",
     "output_type": "stream",
     "text": [
      "OK\n",
      "Running ant (coverage.instrument).......................................... OK\n",
      "Running ant (run.dev.tests)................................................ OK\n",
      "Running ant (coverage.report).............................................. OK\n",
      "Running ant (compile.tests)................................................ "
     ]
    },
    {
     "name": "stdout",
     "output_type": "stream",
     "text": [
      "       Lines total: 231\n",
      "     Lines covered: 11\n",
      "  Conditions total: 158\n",
      "Conditions covered: 14\n",
      "     Line coverage: 4.8%\n",
      "Condition coverage: 8.9%\n"
     ]
    },
    {
     "name": "stderr",
     "output_type": "stream",
     "text": [
      "OK\n",
      "Running ant (coverage.instrument).......................................... OK\n",
      "Running ant (run.dev.tests)................................................ OK\n",
      "Running ant (coverage.report).............................................. OK\n",
      "Running ant (compile.tests)................................................ "
     ]
    },
    {
     "name": "stdout",
     "output_type": "stream",
     "text": [
      "       Lines total: 231\n",
      "     Lines covered: 73\n",
      "  Conditions total: 158\n",
      "Conditions covered: 31\n",
      "     Line coverage: 31.6%\n",
      "Condition coverage: 19.6%\n"
     ]
    },
    {
     "name": "stderr",
     "output_type": "stream",
     "text": [
      "OK\n",
      "Running ant (coverage.instrument).......................................... OK\n",
      "Running ant (run.dev.tests)................................................ OK\n",
      "Running ant (coverage.report).............................................. OK\n",
      "Running ant (compile.tests)................................................ "
     ]
    },
    {
     "name": "stdout",
     "output_type": "stream",
     "text": [
      "       Lines total: 231\n",
      "     Lines covered: 92\n",
      "  Conditions total: 158\n",
      "Conditions covered: 47\n",
      "     Line coverage: 39.8%\n",
      "Condition coverage: 29.7%\n"
     ]
    },
    {
     "name": "stderr",
     "output_type": "stream",
     "text": [
      "OK\n",
      "Running ant (coverage.instrument).......................................... OK\n",
      "Running ant (run.dev.tests)................................................ OK\n",
      "Running ant (coverage.report).............................................. OK\n",
      "Running ant (compile.tests)................................................ "
     ]
    },
    {
     "name": "stdout",
     "output_type": "stream",
     "text": [
      "       Lines total: 231\n",
      "     Lines covered: 134\n",
      "  Conditions total: 158\n",
      "Conditions covered: 69\n",
      "     Line coverage: 58.0%\n",
      "Condition coverage: 43.7%\n"
     ]
    },
    {
     "name": "stderr",
     "output_type": "stream",
     "text": [
      "OK\n",
      "Running ant (coverage.instrument).......................................... OK\n",
      "Running ant (run.dev.tests)................................................ OK\n",
      "Running ant (coverage.report).............................................. OK\n",
      "Running ant (compile.tests)................................................ "
     ]
    },
    {
     "name": "stdout",
     "output_type": "stream",
     "text": [
      "       Lines total: 231\n",
      "     Lines covered: 77\n",
      "  Conditions total: 158\n",
      "Conditions covered: 39\n",
      "     Line coverage: 33.3%\n",
      "Condition coverage: 24.7%\n"
     ]
    },
    {
     "name": "stderr",
     "output_type": "stream",
     "text": [
      "OK\n",
      "Running ant (coverage.instrument).......................................... OK\n",
      "Running ant (run.dev.tests)................................................ OK\n",
      "Running ant (coverage.report).............................................. OK\n",
      "Running ant (compile.tests)................................................ "
     ]
    },
    {
     "name": "stdout",
     "output_type": "stream",
     "text": [
      "       Lines total: 231\n",
      "     Lines covered: 84\n",
      "  Conditions total: 158\n",
      "Conditions covered: 43\n",
      "     Line coverage: 36.4%\n",
      "Condition coverage: 27.2%\n"
     ]
    },
    {
     "name": "stderr",
     "output_type": "stream",
     "text": [
      "OK\n",
      "Running ant (coverage.instrument).......................................... OK\n",
      "Running ant (run.dev.tests)................................................ OK\n",
      "Running ant (coverage.report).............................................. OK\n",
      "Running ant (compile.tests)................................................ "
     ]
    },
    {
     "name": "stdout",
     "output_type": "stream",
     "text": [
      "       Lines total: 231\n",
      "     Lines covered: 108\n",
      "  Conditions total: 158\n",
      "Conditions covered: 63\n",
      "     Line coverage: 46.8%\n",
      "Condition coverage: 39.9%\n"
     ]
    },
    {
     "name": "stderr",
     "output_type": "stream",
     "text": [
      "OK\n",
      "Running ant (coverage.instrument).......................................... OK\n",
      "Running ant (run.dev.tests)................................................ OK\n",
      "Running ant (coverage.report).............................................. OK\n",
      "Running ant (compile.tests)................................................ "
     ]
    },
    {
     "name": "stdout",
     "output_type": "stream",
     "text": [
      "       Lines total: 231\n",
      "     Lines covered: 126\n",
      "  Conditions total: 158\n",
      "Conditions covered: 66\n",
      "     Line coverage: 54.5%\n",
      "Condition coverage: 41.8%\n"
     ]
    },
    {
     "name": "stderr",
     "output_type": "stream",
     "text": [
      "OK\n",
      "Running ant (coverage.instrument).......................................... OK\n",
      "Running ant (run.dev.tests)................................................ OK\n",
      "Running ant (coverage.report).............................................. OK\n",
      "Running ant (compile.tests)................................................ "
     ]
    },
    {
     "name": "stdout",
     "output_type": "stream",
     "text": [
      "       Lines total: 231\n",
      "     Lines covered: 6\n",
      "  Conditions total: 158\n",
      "Conditions covered: 1\n",
      "     Line coverage: 2.6%\n",
      "Condition coverage: 0.6%\n"
     ]
    },
    {
     "name": "stderr",
     "output_type": "stream",
     "text": [
      "OK\n",
      "Running ant (coverage.instrument).......................................... OK\n",
      "Running ant (run.dev.tests)................................................ OK\n",
      "Running ant (coverage.report).............................................. OK\n",
      "Running ant (compile.tests)................................................ "
     ]
    },
    {
     "name": "stdout",
     "output_type": "stream",
     "text": [
      "       Lines total: 231\n",
      "     Lines covered: 145\n",
      "  Conditions total: 158\n",
      "Conditions covered: 79\n",
      "     Line coverage: 62.8%\n",
      "Condition coverage: 50.0%\n"
     ]
    },
    {
     "name": "stderr",
     "output_type": "stream",
     "text": [
      "OK\n",
      "Running ant (coverage.instrument).......................................... OK\n",
      "Running ant (run.dev.tests)................................................ OK\n",
      "Running ant (coverage.report).............................................. OK\n",
      "Running ant (compile.tests)................................................ "
     ]
    },
    {
     "name": "stdout",
     "output_type": "stream",
     "text": [
      "       Lines total: 231\n",
      "     Lines covered: 141\n",
      "  Conditions total: 158\n",
      "Conditions covered: 70\n",
      "     Line coverage: 61.0%\n",
      "Condition coverage: 44.3%\n"
     ]
    },
    {
     "name": "stderr",
     "output_type": "stream",
     "text": [
      "OK\n",
      "Running ant (coverage.instrument).......................................... OK\n",
      "Running ant (run.dev.tests)................................................ OK\n",
      "Running ant (coverage.report).............................................. OK\n",
      "Running ant (compile.tests)................................................ "
     ]
    },
    {
     "name": "stdout",
     "output_type": "stream",
     "text": [
      "       Lines total: 231\n",
      "     Lines covered: 0\n",
      "  Conditions total: 158\n",
      "Conditions covered: 0\n",
      "     Line coverage: 0.0%\n",
      "Condition coverage: 0.0%\n"
     ]
    },
    {
     "name": "stderr",
     "output_type": "stream",
     "text": [
      "OK\n",
      "Running ant (coverage.instrument).......................................... OK\n",
      "Running ant (run.dev.tests)................................................ OK\n",
      "Running ant (coverage.report).............................................. OK\n",
      "Running ant (compile.tests)................................................ "
     ]
    },
    {
     "name": "stdout",
     "output_type": "stream",
     "text": [
      "       Lines total: 231\n",
      "     Lines covered: 85\n",
      "  Conditions total: 158\n",
      "Conditions covered: 38\n",
      "     Line coverage: 36.8%\n",
      "Condition coverage: 24.1%\n"
     ]
    },
    {
     "name": "stderr",
     "output_type": "stream",
     "text": [
      "OK\n",
      "Running ant (coverage.instrument).......................................... OK\n",
      "Running ant (run.dev.tests)................................................ OK\n",
      "Running ant (coverage.report).............................................. OK\n",
      "Running ant (compile.tests)................................................ "
     ]
    },
    {
     "name": "stdout",
     "output_type": "stream",
     "text": [
      "       Lines total: 231\n",
      "     Lines covered: 0\n",
      "  Conditions total: 158\n",
      "Conditions covered: 0\n",
      "     Line coverage: 0.0%\n",
      "Condition coverage: 0.0%\n"
     ]
    },
    {
     "name": "stderr",
     "output_type": "stream",
     "text": [
      "OK\n",
      "Running ant (coverage.instrument).......................................... OK\n",
      "Running ant (run.dev.tests)................................................ OK\n",
      "Running ant (coverage.report).............................................. OK\n",
      "Running ant (compile.tests)................................................ "
     ]
    },
    {
     "name": "stdout",
     "output_type": "stream",
     "text": [
      "       Lines total: 231\n",
      "     Lines covered: 84\n",
      "  Conditions total: 158\n",
      "Conditions covered: 40\n",
      "     Line coverage: 36.4%\n",
      "Condition coverage: 25.3%\n"
     ]
    },
    {
     "name": "stderr",
     "output_type": "stream",
     "text": [
      "OK\n",
      "Running ant (coverage.instrument).......................................... OK\n",
      "Running ant (run.dev.tests)................................................ OK\n",
      "Running ant (coverage.report).............................................. OK\n",
      "Running ant (compile.tests)................................................ "
     ]
    },
    {
     "name": "stdout",
     "output_type": "stream",
     "text": [
      "       Lines total: 231\n",
      "     Lines covered: 0\n",
      "  Conditions total: 158\n",
      "Conditions covered: 0\n",
      "     Line coverage: 0.0%\n",
      "Condition coverage: 0.0%\n"
     ]
    },
    {
     "name": "stderr",
     "output_type": "stream",
     "text": [
      "OK\n",
      "Running ant (coverage.instrument).......................................... OK\n",
      "Running ant (run.dev.tests)................................................ OK\n",
      "Running ant (coverage.report).............................................. OK\n",
      "Running ant (compile.tests)................................................ "
     ]
    },
    {
     "name": "stdout",
     "output_type": "stream",
     "text": [
      "       Lines total: 231\n",
      "     Lines covered: 86\n",
      "  Conditions total: 158\n",
      "Conditions covered: 44\n",
      "     Line coverage: 37.2%\n",
      "Condition coverage: 27.8%\n"
     ]
    },
    {
     "name": "stderr",
     "output_type": "stream",
     "text": [
      "OK\n",
      "Running ant (coverage.instrument).......................................... OK\n",
      "Running ant (run.dev.tests)................................................ OK\n",
      "Running ant (coverage.report).............................................. "
     ]
    },
    {
     "name": "stdout",
     "output_type": "stream",
     "text": [
      "       Lines total: 231\n",
      "     Lines covered: 0\n",
      "  Conditions total: 158\n",
      "Conditions covered: 0\n",
      "     Line coverage: 0.0%\n",
      "Condition coverage: 0.0%\n"
     ]
    },
    {
     "name": "stderr",
     "output_type": "stream",
     "text": [
      "OK\n"
     ]
    }
   ],
   "source": [
    "default_failed_tests = \"../../Codec_4_test_failed.txt\"\n",
    "default_failed_list = []\n",
    "\n",
    "\n",
    "with open(default_failed_tests, 'r') as file:\n",
    "        # Read all lines from the file and convert each to an integer\n",
    "        default_failed_list = [line.strip() for line in file]\n",
    "\n",
    "print(default_failed_list)\n",
    "\n",
    "all_test_file = \"default_tests.txt\"\n",
    "relevant_class = [\"org.apache.commons.codec.binary.Base64Codec13Test\",\"org.apache.commons.codec.binary.Base64InputStreamTest\",\"org.apache.commons.codec.binary.Base64OutputStreamTest\",\"org.apache.commons.codec.binary.Base64Test\",\"org.apache.commons.codec.net.BCodecTest\"]\n",
    "default_test_count = 0\n",
    "\n",
    "with open(all_test_file, 'r') as file:\n",
    "        for line in file:\n",
    "            test_name, test_class = line.strip().split('(')\n",
    "            test_class = test_class[:-1]  # Remove the closing parenthesis\n",
    "            if test_class not in relevant_class:\n",
    "                continue\n",
    "            complete_test = test_class + \"::\" + test_name\n",
    "            default_test_count += 1\n",
    "\n",
    "            visited = []\n",
    "            command = f\"defects4j coverage -t {complete_test}\"\n",
    "            \n",
    "            # Run the command\n",
    "            subprocess.run(command, shell=True, check=True)\n",
    "            \n",
    "            # Parse the coverage XML file\n",
    "            tree = ET.parse(coverage_xml_path)\n",
    "            root = tree.getroot()\n",
    "            \n",
    "            class_xpath = \".//class[@name='org.apache.commons.codec.binary.Base64']\"\n",
    "            metaphone_class = root.find(class_xpath)\n",
    "            \n",
    "            if metaphone_class is not None:\n",
    "                for line in metaphone_class.findall(\".//line\"):\n",
    "                    num = int(line.get('number'))\n",
    "                    if num in visited:\n",
    "                        continue\n",
    "            \n",
    "                    if num in line_numbers:\n",
    "                        hits = int(line.get('hits'))\n",
    "                        if hits > 0:\n",
    "                            if complete_test in default_failed_list:\n",
    "                                line_info[num][0] += 1\n",
    "                            else:\n",
    "                                line_info[num][1] += 1\n",
    "            \n",
    "                    visited.append(num)"
   ]
  },
  {
   "cell_type": "code",
   "execution_count": 9,
   "id": "7c6f59d4-ef35-4891-b23c-85d0709c2292",
   "metadata": {},
   "outputs": [
    {
     "name": "stdout",
     "output_type": "stream",
     "text": [
      "72\n"
     ]
    },
    {
     "data": {
      "text/plain": [
       "{79: [3, 288],\n",
       " 88: [3, 288],\n",
       " 101: [3, 288],\n",
       " 125: [3, 288],\n",
       " 225: [2, 114],\n",
       " 226: [2, 114],\n",
       " 266: [1, 123],\n",
       " 267: [1, 123],\n",
       " 292: [1, 146],\n",
       " 293: [1, 140],\n",
       " 320: [3, 256],\n",
       " 321: [3, 256],\n",
       " 322: [0, 14],\n",
       " 323: [0, 14],\n",
       " 325: [3, 256],\n",
       " 326: [3, 256],\n",
       " 327: [3, 256],\n",
       " 328: [3, 256],\n",
       " 329: [3, 237],\n",
       " 331: [0, 112],\n",
       " 333: [3, 256],\n",
       " 334: [3, 256],\n",
       " 335: [0, 11],\n",
       " 336: [0, 11],\n",
       " 338: [3, 255],\n",
       " 339: [3, 255],\n",
       " 244: [2, 148],\n",
       " 245: [2, 148],\n",
       " 366: [0, 138],\n",
       " 626: [3, 256],\n",
       " 627: [3, 255],\n",
       " 628: [0, 11],\n",
       " 631: [3, 255],\n",
       " 705: [0, 30],\n",
       " 706: [0, 11],\n",
       " 707: [0, 20],\n",
       " 708: [0, 2],\n",
       " 710: [0, 18],\n",
       " 723: [0, 90],\n",
       " 734: [0, 169],\n",
       " 735: [0, 169],\n",
       " 736: [0, 87],\n",
       " 738: [0, 109],\n",
       " 739: [0, 109],\n",
       " 740: [0, 109],\n",
       " 741: [0, 109],\n",
       " 742: [0, 109],\n",
       " 750: [0, 109],\n",
       " 751: [0, 109],\n",
       " 752: [0, 109],\n",
       " 539: [0, 159],\n",
       " 540: [0, 75],\n",
       " 542: [0, 159],\n",
       " 543: [0, 124],\n",
       " 545: [0, 159],\n",
       " 546: [0, 119],\n",
       " 547: [0, 103],\n",
       " 549: [0, 119],\n",
       " 550: [0, 113],\n",
       " 552: [0, 72],\n",
       " 553: [0, 72],\n",
       " 555: [0, 112],\n",
       " 556: [0, 112],\n",
       " 557: [0, 112],\n",
       " 558: [0, 109],\n",
       " 559: [0, 109],\n",
       " 560: [0, 109],\n",
       " 561: [0, 96],\n",
       " 562: [0, 96],\n",
       " 563: [0, 96],\n",
       " 573: [0, 156],\n",
       " 574: [0, 102],\n",
       " 575: [0, 102],\n",
       " 577: [0, 42],\n",
       " 578: [0, 42],\n",
       " 579: [0, 42],\n",
       " 581: [0, 75],\n",
       " 582: [0, 75],\n",
       " 586: [0, 156],\n",
       " 830: [0, 27],\n",
       " 841: [0, 83],\n",
       " 992: [0, 49],\n",
       " 853: [0, 32],\n",
       " 854: [0, 31],\n",
       " 855: [0, 31],\n",
       " 856: [0, 28],\n",
       " 861: [0, 5],\n",
       " 863: [0, 27],\n",
       " 866: [0, 31],\n",
       " 867: [0, 31],\n",
       " 868: [0, 31],\n",
       " 903: [1, 44],\n",
       " 904: [0, 11],\n",
       " 906: [1, 36],\n",
       " 929: [3, 147],\n",
       " 930: [3, 147],\n",
       " 931: [2, 52],\n",
       " 933: [3, 110],\n",
       " 934: [3, 110],\n",
       " 935: [3, 110],\n",
       " 936: [3, 110],\n",
       " 937: [3, 110],\n",
       " 939: [3, 110],\n",
       " 940: [0, 24],\n",
       " 944: [3, 110],\n",
       " 945: [0, 30],\n",
       " 946: [0, 30],\n",
       " 947: [0, 30],\n",
       " 949: [3, 110],\n",
       " 453: [3, 119],\n",
       " 454: [0, 14],\n",
       " 458: [3, 119],\n",
       " 459: [3, 114],\n",
       " 460: [3, 114],\n",
       " 461: [0, 28],\n",
       " 463: [3, 114],\n",
       " 465: [2, 57],\n",
       " 466: [2, 57],\n",
       " 468: [2, 57],\n",
       " 469: [2, 47],\n",
       " 470: [2, 47],\n",
       " 475: [1, 76],\n",
       " 476: [1, 76],\n",
       " 477: [1, 76],\n",
       " 479: [1, 76],\n",
       " 480: [1, 71],\n",
       " 484: [3, 114],\n",
       " 485: [3, 60],\n",
       " 486: [3, 60],\n",
       " 489: [3, 116],\n",
       " 490: [3, 115],\n",
       " 491: [0, 10],\n",
       " 493: [3, 115],\n",
       " 494: [3, 115],\n",
       " 495: [3, 110],\n",
       " 496: [2, 67],\n",
       " 498: [3, 110],\n",
       " 499: [3, 110],\n",
       " 500: [1, 102],\n",
       " 501: [1, 102],\n",
       " 502: [1, 102],\n",
       " 503: [1, 102],\n",
       " 504: [1, 102],\n",
       " 505: [1, 102],\n",
       " 506: [0, 10],\n",
       " 507: [0, 10],\n",
       " 508: [0, 10],\n",
       " 513: [3, 114],\n",
       " 642: [0, 26],\n",
       " 767: [0, 107],\n",
       " 785: [0, 151],\n",
       " 805: [0, 189],\n",
       " 806: [0, 114],\n",
       " 809: [0, 104],\n",
       " 810: [0, 104],\n",
       " 811: [0, 4],\n",
       " 817: [0, 102],\n",
       " 818: [0, 102],\n",
       " 691: [0, 37],\n",
       " 654: [0, 11],\n",
       " 667: [0, 16],\n",
       " 680: [0, 23],\n",
       " 1006: [0, 40],\n",
       " 1007: [0, 3],\n",
       " 1009: [0, 37],\n",
       " 918: [0, 19],\n",
       " 965: [3, 112],\n",
       " 967: [3, 112],\n",
       " 968: [3, 112],\n",
       " 969: [3, 112],\n",
       " 970: [3, 102],\n",
       " 972: [3, 112],\n",
       " 973: [3, 111],\n",
       " 974: [3, 111],\n",
       " 975: [3, 111],\n",
       " 976: [2, 109],\n",
       " 979: [3, 112],\n",
       " 357: [0, 18],\n",
       " 610: [0, 35],\n",
       " 611: [0, 13],\n",
       " 612: [0, 5],\n",
       " 615: [0, 31],\n",
       " 597: [3, 263],\n",
       " 348: [3, 127],\n",
       " 879: [0, 7],\n",
       " 884: [0, 4],\n",
       " 886: [0, 5],\n",
       " 395: [0, 135],\n",
       " 396: [0, 123],\n",
       " 397: [0, 123],\n",
       " 398: [0, 122],\n",
       " 399: [0, 122],\n",
       " 400: [0, 122],\n",
       " 401: [0, 122],\n",
       " 406: [0, 3],\n",
       " 408: [0, 123],\n",
       " 410: [0, 18],\n",
       " 1047: [3, 207],\n",
       " 1048: [3, 207],\n",
       " 1049: [3, 207],\n",
       " 1050: [3, 207],\n",
       " 1051: [3, 207],\n",
       " 1052: [3, 207],\n",
       " 1053: [3, 207],\n",
       " 371: [0, 123],\n",
       " 372: [0, 21],\n",
       " 373: [0, 21],\n",
       " 374: [0, 21],\n",
       " 376: [0, 109],\n",
       " 377: [0, 109],\n",
       " 378: [0, 109],\n",
       " 380: [0, 123],\n",
       " 427: [3, 161],\n",
       " 428: [3, 155],\n",
       " 429: [3, 155],\n",
       " 430: [3, 155],\n",
       " 432: [3, 161],\n",
       " 1020: [0, 43],\n",
       " 1022: [0, 42],\n",
       " 1023: [0, 42],\n",
       " 1025: [0, 42],\n",
       " 1026: [0, 5],\n",
       " 1029: [0, 37],\n",
       " 1030: [0, 37],\n",
       " 1033: [0, 37],\n",
       " 1034: [0, 37],\n",
       " 1035: [0, 37],\n",
       " 1037: [0, 37],\n",
       " 1038: [0, 37],\n",
       " 1039: [0, 37],\n",
       " 1040: [0, 37]}"
      ]
     },
     "execution_count": 9,
     "metadata": {},
     "output_type": "execute_result"
    }
   ],
   "source": [
    "print(default_test_count)\n",
    "line_info"
   ]
  },
  {
   "cell_type": "code",
   "execution_count": 10,
   "id": "cb6e5736-fc9d-45ac-a54f-7f0c7eeee916",
   "metadata": {},
   "outputs": [
    {
     "data": {
      "text/plain": [
       "{79: 0.5051546391752577,\n",
       " 88: 0.5051546391752577,\n",
       " 101: 0.5051546391752577,\n",
       " 125: 0.5051546391752577,\n",
       " 225: 0.632258064516129,\n",
       " 226: 0.632258064516129,\n",
       " 266: 0.44343891402714924,\n",
       " 267: 0.44343891402714924,\n",
       " 292: 0.40163934426229503,\n",
       " 293: 0.4117647058823529,\n",
       " 320: 0.5345454545454545,\n",
       " 321: 0.5345454545454545,\n",
       " 322: 0.0,\n",
       " 323: 0.0,\n",
       " 325: 0.5345454545454545,\n",
       " 326: 0.5345454545454545,\n",
       " 327: 0.5345454545454545,\n",
       " 328: 0.5345454545454545,\n",
       " 329: 0.5536723163841808,\n",
       " 331: 0.0,\n",
       " 333: 0.5345454545454545,\n",
       " 334: 0.5345454545454545,\n",
       " 335: 0.0,\n",
       " 336: 0.0,\n",
       " 338: 0.5355191256830601,\n",
       " 339: 0.5355191256830601,\n",
       " 244: 0.5697674418604651,\n",
       " 245: 0.5697674418604651,\n",
       " 366: 0.0,\n",
       " 626: 0.5345454545454545,\n",
       " 627: 0.5355191256830601,\n",
       " 628: 0.0,\n",
       " 631: 0.5355191256830601,\n",
       " 705: 0.0,\n",
       " 706: 0.0,\n",
       " 707: 0.0,\n",
       " 708: 0.0,\n",
       " 710: 0.0,\n",
       " 723: 0.0,\n",
       " 734: 0.0,\n",
       " 735: 0.0,\n",
       " 736: 0.0,\n",
       " 738: 0.0,\n",
       " 739: 0.0,\n",
       " 740: 0.0,\n",
       " 741: 0.0,\n",
       " 742: 0.0,\n",
       " 750: 0.0,\n",
       " 751: 0.0,\n",
       " 752: 0.0,\n",
       " 539: 0.0,\n",
       " 540: 0.0,\n",
       " 542: 0.0,\n",
       " 543: 0.0,\n",
       " 545: 0.0,\n",
       " 546: 0.0,\n",
       " 547: 0.0,\n",
       " 549: 0.0,\n",
       " 550: 0.0,\n",
       " 552: 0.0,\n",
       " 553: 0.0,\n",
       " 555: 0.0,\n",
       " 556: 0.0,\n",
       " 557: 0.0,\n",
       " 558: 0.0,\n",
       " 559: 0.0,\n",
       " 560: 0.0,\n",
       " 561: 0.0,\n",
       " 562: 0.0,\n",
       " 563: 0.0,\n",
       " 573: 0.0,\n",
       " 574: 0.0,\n",
       " 575: 0.0,\n",
       " 577: 0.0,\n",
       " 578: 0.0,\n",
       " 579: 0.0,\n",
       " 581: 0.0,\n",
       " 582: 0.0,\n",
       " 586: 0.0,\n",
       " 830: 0.0,\n",
       " 841: 0.0,\n",
       " 992: 0.0,\n",
       " 853: 0.0,\n",
       " 854: 0.0,\n",
       " 855: 0.0,\n",
       " 856: 0.0,\n",
       " 861: 0.0,\n",
       " 863: 0.0,\n",
       " 866: 0.0,\n",
       " 867: 0.0,\n",
       " 868: 0.0,\n",
       " 903: 0.6901408450704225,\n",
       " 904: 0.0,\n",
       " 906: 0.7313432835820896,\n",
       " 929: 0.6666666666666666,\n",
       " 930: 0.6666666666666666,\n",
       " 931: 0.7903225806451613,\n",
       " 933: 0.7277227722772277,\n",
       " 934: 0.7277227722772277,\n",
       " 935: 0.7277227722772277,\n",
       " 936: 0.7277227722772277,\n",
       " 937: 0.7277227722772277,\n",
       " 939: 0.7277227722772277,\n",
       " 940: 0.0,\n",
       " 944: 0.7277227722772277,\n",
       " 945: 0.0,\n",
       " 946: 0.0,\n",
       " 947: 0.0,\n",
       " 949: 0.7277227722772277,\n",
       " 453: 0.7118644067796611,\n",
       " 454: 0.0,\n",
       " 458: 0.7118644067796611,\n",
       " 459: 0.7205882352941176,\n",
       " 460: 0.7205882352941176,\n",
       " 461: 0.0,\n",
       " 463: 0.7205882352941176,\n",
       " 465: 0.7747035573122529,\n",
       " 466: 0.7747035573122529,\n",
       " 468: 0.7747035573122529,\n",
       " 469: 0.8065843621399177,\n",
       " 470: 0.8065843621399177,\n",
       " 475: 0.5632183908045977,\n",
       " 476: 0.5632183908045977,\n",
       " 477: 0.5632183908045977,\n",
       " 479: 0.5632183908045977,\n",
       " 480: 0.5798816568047337,\n",
       " 484: 0.7205882352941176,\n",
       " 485: 0.8305084745762712,\n",
       " 486: 0.8305084745762712,\n",
       " 489: 0.7170731707317073,\n",
       " 490: 0.7188264058679708,\n",
       " 491: 0.0,\n",
       " 493: 0.7188264058679708,\n",
       " 494: 0.7188264058679708,\n",
       " 495: 0.7277227722772277,\n",
       " 496: 0.7452471482889733,\n",
       " 498: 0.7277227722772277,\n",
       " 499: 0.7277227722772277,\n",
       " 500: 0.49,\n",
       " 501: 0.49,\n",
       " 502: 0.49,\n",
       " 503: 0.49,\n",
       " 504: 0.49,\n",
       " 505: 0.49,\n",
       " 506: 0.0,\n",
       " 507: 0.0,\n",
       " 508: 0.0,\n",
       " 513: 0.7205882352941176,\n",
       " 642: 0.0,\n",
       " 767: 0.0,\n",
       " 785: 0.0,\n",
       " 805: 0.0,\n",
       " 806: 0.0,\n",
       " 809: 0.0,\n",
       " 810: 0.0,\n",
       " 811: 0.0,\n",
       " 817: 0.0,\n",
       " 818: 0.0,\n",
       " 691: 0.0,\n",
       " 654: 0.0,\n",
       " 667: 0.0,\n",
       " 680: 0.0,\n",
       " 1006: 0.0,\n",
       " 1007: 0.0,\n",
       " 1009: 0.0,\n",
       " 918: 0.0,\n",
       " 965: 0.7241379310344828,\n",
       " 967: 0.7241379310344828,\n",
       " 968: 0.7241379310344828,\n",
       " 969: 0.7241379310344828,\n",
       " 970: 0.7424242424242424,\n",
       " 972: 0.7241379310344828,\n",
       " 973: 0.725925925925926,\n",
       " 974: 0.725925925925926,\n",
       " 975: 0.725925925925926,\n",
       " 976: 0.6426229508196721,\n",
       " 979: 0.7241379310344828,\n",
       " 357: 0.0,\n",
       " 610: 0.0,\n",
       " 611: 0.0,\n",
       " 612: 0.0,\n",
       " 615: 0.0,\n",
       " 597: 0.5278276481149012,\n",
       " 348: 0.6983372921615202,\n",
       " 879: 0.0,\n",
       " 884: 0.0,\n",
       " 886: 0.0,\n",
       " 395: 0.0,\n",
       " 396: 0.0,\n",
       " 397: 0.0,\n",
       " 398: 0.0,\n",
       " 399: 0.0,\n",
       " 400: 0.0,\n",
       " 401: 0.0,\n",
       " 406: 0.0,\n",
       " 408: 0.0,\n",
       " 410: 0.0,\n",
       " 1047: 0.5868263473053892,\n",
       " 1048: 0.5868263473053892,\n",
       " 1049: 0.5868263473053892,\n",
       " 1050: 0.5868263473053892,\n",
       " 1051: 0.5868263473053892,\n",
       " 1052: 0.5868263473053892,\n",
       " 1053: 0.5868263473053892,\n",
       " 371: 0.0,\n",
       " 372: 0.0,\n",
       " 373: 0.0,\n",
       " 374: 0.0,\n",
       " 376: 0.0,\n",
       " 377: 0.0,\n",
       " 378: 0.0,\n",
       " 380: 0.0,\n",
       " 427: 0.6461538461538461,\n",
       " 428: 0.6547884187082406,\n",
       " 429: 0.6547884187082406,\n",
       " 430: 0.6547884187082406,\n",
       " 432: 0.6461538461538461,\n",
       " 1020: 0.0,\n",
       " 1022: 0.0,\n",
       " 1023: 0.0,\n",
       " 1025: 0.0,\n",
       " 1026: 0.0,\n",
       " 1029: 0.0,\n",
       " 1030: 0.0,\n",
       " 1033: 0.0,\n",
       " 1034: 0.0,\n",
       " 1035: 0.0,\n",
       " 1037: 0.0,\n",
       " 1038: 0.0,\n",
       " 1039: 0.0,\n",
       " 1040: 0.0}"
      ]
     },
     "execution_count": 10,
     "metadata": {},
     "output_type": "execute_result"
    }
   ],
   "source": [
    "total_fail = 3\n",
    "total_pass = 42 + 183 + default_test_count - total_fail\n",
    "for key, value in line_info.items():\n",
    "    failed = value[0]\n",
    "    passed = value[1]\n",
    "\n",
    "    if (failed == 0 and passed == 0):\n",
    "        suspiciousness_score = 0\n",
    "    else:\n",
    "        suspiciousness_score = (failed / total_fail) / ((failed / total_fail) + (passed / total_pass))\n",
    "    suspiciousness_scores[key] = suspiciousness_score\n",
    "\n",
    "suspiciousness_scores\n",
    "\n"
   ]
  },
  {
   "cell_type": "code",
   "execution_count": 11,
   "id": "f86ece23-0806-42c9-b32e-5ccda158dc2f",
   "metadata": {},
   "outputs": [
    {
     "name": "stdout",
     "output_type": "stream",
     "text": [
      "{485: 1, 486: 1, 469: 3, 470: 3, 931: 5, 465: 6, 466: 6, 468: 6, 496: 9, 970: 10, 906: 11, 933: 12, 934: 12, 935: 12, 936: 12, 937: 12, 939: 12, 944: 12, 949: 12, 495: 12, 498: 12, 499: 12, 973: 23, 974: 23, 975: 23, 965: 26, 967: 26, 968: 26, 969: 26, 972: 26, 979: 26, 459: 32, 460: 32, 463: 32, 484: 32, 513: 32, 490: 37, 493: 37, 494: 37, 489: 40, 453: 41, 458: 41, 348: 43, 903: 44, 929: 45, 930: 45, 428: 47, 429: 47, 430: 47, 427: 50, 432: 50, 976: 52, 225: 53, 226: 53, 1047: 55, 1048: 55, 1049: 55, 1050: 55, 1051: 55, 1052: 55, 1053: 55, 480: 62, 244: 63, 245: 63, 475: 65, 476: 65, 477: 65, 479: 65, 329: 69, 338: 70, 339: 70, 627: 70, 631: 70, 320: 74, 321: 74, 325: 74, 326: 74, 327: 74, 328: 74, 333: 74, 334: 74, 626: 74, 597: 83, 79: 84, 88: 84, 101: 84, 125: 84, 500: 88, 501: 88, 502: 88, 503: 88, 504: 88, 505: 88, 266: 94, 267: 94, 293: 96, 292: 97, 322: 98, 323: 98, 331: 98, 335: 98, 336: 98, 366: 98, 628: 98, 705: 98, 706: 98, 707: 98, 708: 98, 710: 98, 723: 98, 734: 98, 735: 98, 736: 98, 738: 98, 739: 98, 740: 98, 741: 98, 742: 98, 750: 98, 751: 98, 752: 98, 539: 98, 540: 98, 542: 98, 543: 98, 545: 98, 546: 98, 547: 98, 549: 98, 550: 98, 552: 98, 553: 98, 555: 98, 556: 98, 557: 98, 558: 98, 559: 98, 560: 98, 561: 98, 562: 98, 563: 98, 573: 98, 574: 98, 575: 98, 577: 98, 578: 98, 579: 98, 581: 98, 582: 98, 586: 98, 830: 98, 841: 98, 992: 98, 853: 98, 854: 98, 855: 98, 856: 98, 861: 98, 863: 98, 866: 98, 867: 98, 868: 98, 904: 98, 940: 98, 945: 98, 946: 98, 947: 98, 454: 98, 461: 98, 491: 98, 506: 98, 507: 98, 508: 98, 642: 98, 767: 98, 785: 98, 805: 98, 806: 98, 809: 98, 810: 98, 811: 98, 817: 98, 818: 98, 691: 98, 654: 98, 667: 98, 680: 98, 1006: 98, 1007: 98, 1009: 98, 918: 98, 357: 98, 610: 98, 611: 98, 612: 98, 615: 98, 879: 98, 884: 98, 886: 98, 395: 98, 396: 98, 397: 98, 398: 98, 399: 98, 400: 98, 401: 98, 406: 98, 408: 98, 410: 98, 371: 98, 372: 98, 373: 98, 374: 98, 376: 98, 377: 98, 378: 98, 380: 98, 1020: 98, 1022: 98, 1023: 98, 1025: 98, 1026: 98, 1029: 98, 1030: 98, 1033: 98, 1034: 98, 1035: 98, 1037: 98, 1038: 98, 1039: 98, 1040: 98}\n"
     ]
    }
   ],
   "source": [
    "sorted_items = sorted(suspiciousness_scores.items(), key=lambda item: item[1], reverse=True)\n",
    "\n",
    "# Assigning ranks, skipping ranks properly when there are ties\n",
    "modified_competition_ranking = {}\n",
    "current_rank = 1\n",
    "previous_value = None\n",
    "items_skipped = 0\n",
    "\n",
    "for index, (key, value) in enumerate(sorted_items):\n",
    "    if value == previous_value:\n",
    "        modified_competition_ranking[key] = current_rank\n",
    "        items_skipped += 1\n",
    "    else:\n",
    "        if previous_value is not None:\n",
    "            current_rank += items_skipped + 1\n",
    "        modified_competition_ranking[key] = current_rank\n",
    "        items_skipped = 0\n",
    "    previous_value = value\n",
    "\n",
    "# Printing the modified competition ranking\n",
    "print(modified_competition_ranking)"
   ]
  },
  {
   "cell_type": "code",
   "execution_count": 12,
   "id": "ace95a55-0209-4e86-bc23-b62ce75a0b9a",
   "metadata": {},
   "outputs": [
    {
     "name": "stdout",
     "output_type": "stream",
     "text": [
      "53\n"
     ]
    }
   ],
   "source": [
    "print(modified_competition_ranking[225])"
   ]
  },
  {
   "cell_type": "code",
   "execution_count": null,
   "id": "e0452a5f-1569-43c4-a349-9c5def3f7c55",
   "metadata": {},
   "outputs": [],
   "source": []
  }
 ],
 "metadata": {
  "kernelspec": {
   "display_name": "Python 3 (ipykernel)",
   "language": "python",
   "name": "python3"
  },
  "language_info": {
   "codemirror_mode": {
    "name": "ipython",
    "version": 3
   },
   "file_extension": ".py",
   "mimetype": "text/x-python",
   "name": "python",
   "nbconvert_exporter": "python",
   "pygments_lexer": "ipython3",
   "version": "3.11.7"
  }
 },
 "nbformat": 4,
 "nbformat_minor": 5
}
