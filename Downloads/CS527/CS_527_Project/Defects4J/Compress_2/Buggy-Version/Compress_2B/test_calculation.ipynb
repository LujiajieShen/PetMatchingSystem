{
 "cells": [
  {
   "cell_type": "code",
   "execution_count": 2,
   "id": "7a1bcdcf-9528-4de8-bf3e-3d680aca0876",
   "metadata": {},
   "outputs": [
    {
     "name": "stdout",
     "output_type": "stream",
     "text": [
      "[36, 47, 48, 49, 50, 125, 126, 127, 129, 63, 64, 65, 66, 67, 68, 70, 71, 72, 79, 80, 83, 84, 86, 87, 88, 89, 90, 91, 93, 94, 95, 96, 97, 98, 101, 102, 103, 104, 105, 107, 108, 109, 114, 121, 151, 152, 154, 155, 157, 158, 160, 161, 163, 164, 166, 167, 169, 170, 172, 173, 175, 176, 179, 132, 133, 134, 138, 142, 143, 144, 145]\n"
     ]
    }
   ],
   "source": [
    "import xml.etree.ElementTree as ET\n",
    "\n",
    "def extract_line_numbers(xml_file_path, class_name):\n",
    "    # Parse the XML file\n",
    "    tree = ET.parse(xml_file_path)\n",
    "    root = tree.getroot()\n",
    "\n",
    "    # Initialize a list to collect line numbers\n",
    "    line_numbers = []\n",
    "\n",
    "    # Function to recursively find all line numbers under the specified class name\n",
    "    def find_line_numbers(element, target_class):\n",
    "        for child in element:\n",
    "            if child.tag == \"class\" and child.get(\"name\") == target_class:\n",
    "                # If the class is found, get line numbers from its child elements\n",
    "                for lines in child.findall(\".//line\"):\n",
    "                    line_number = lines.get(\"number\")\n",
    "                    if line_number:\n",
    "                        if int(line_number) in line_numbers:\n",
    "                            continue\n",
    "                        line_numbers.append(int(line_number))\n",
    "            else:\n",
    "                # Continue searching recursively through other elements\n",
    "                find_line_numbers(child, target_class)\n",
    "\n",
    "    # Start the search from the root for the specified class name\n",
    "    find_line_numbers(root, class_name)\n",
    "\n",
    "    return line_numbers\n",
    "\n",
    "# Example usage\n",
    "xml_file_path = 'coverage.xml'  # Replace with your actual XML file path\n",
    "class_name = 'org.apache.commons.compress.archivers.ar.ArArchiveInputStream'\n",
    "line_numbers = extract_line_numbers(xml_file_path, class_name)\n",
    "print(line_numbers)"
   ]
  },
  {
   "cell_type": "code",
   "execution_count": 7,
   "id": "2046e0d1-7b18-4989-8d90-23b537c0321a",
   "metadata": {},
   "outputs": [
    {
     "name": "stdout",
     "output_type": "stream",
     "text": [
      "{36: [0, 0], 47: [0, 0], 48: [0, 0], 49: [0, 0], 50: [0, 0], 125: [0, 0], 126: [0, 0], 127: [0, 0], 129: [0, 0], 63: [0, 0], 64: [0, 0], 65: [0, 0], 66: [0, 0], 67: [0, 0], 68: [0, 0], 70: [0, 0], 71: [0, 0], 72: [0, 0], 79: [0, 0], 80: [0, 0], 83: [0, 0], 84: [0, 0], 86: [0, 0], 87: [0, 0], 88: [0, 0], 89: [0, 0], 90: [0, 0], 91: [0, 0], 93: [0, 0], 94: [0, 0], 95: [0, 0], 96: [0, 0], 97: [0, 0], 98: [0, 0], 101: [0, 0], 102: [0, 0], 103: [0, 0], 104: [0, 0], 105: [0, 0], 107: [0, 0], 108: [0, 0], 109: [0, 0], 114: [0, 0], 121: [0, 0], 151: [0, 0], 152: [0, 0], 154: [0, 0], 155: [0, 0], 157: [0, 0], 158: [0, 0], 160: [0, 0], 161: [0, 0], 163: [0, 0], 164: [0, 0], 166: [0, 0], 167: [0, 0], 169: [0, 0], 170: [0, 0], 172: [0, 0], 173: [0, 0], 175: [0, 0], 176: [0, 0], 179: [0, 0], 132: [0, 0], 133: [0, 0], 134: [0, 0], 138: [0, 0], 142: [0, 0], 143: [0, 0], 144: [0, 0], 145: [0, 0]}\n"
     ]
    },
    {
     "name": "stderr",
     "output_type": "stream",
     "text": [
      "Extract test suite......................................................... OK\n",
      "Running ant (compile.gen.tests)............................................ OK\n",
      "Running ant (coverage.instrument).......................................... OK\n",
      "Running ant (run.gen.tests)................................................ OK\n",
      "Running ant (coverage.report).............................................. OK\n",
      "WARNING: Some tests failed (see /Users/hugoyin/Desktop/UIUC/CS_527/CS_527_Project/Defects4J/Compress_2/Buggy-Version/Compress_2B/failing_tests)!\n",
      "Extract test suite......................................................... OK\n",
      "Running ant (compile.gen.tests)............................................ "
     ]
    },
    {
     "name": "stdout",
     "output_type": "stream",
     "text": [
      "       Lines total: 71\n",
      "     Lines covered: 0\n",
      "  Conditions total: 42\n",
      "Conditions covered: 0\n",
      "     Line coverage: 0.0%\n",
      "Condition coverage: 0.0%\n"
     ]
    },
    {
     "name": "stderr",
     "output_type": "stream",
     "text": [
      "OK\n",
      "Running ant (coverage.instrument).......................................... OK\n",
      "Running ant (run.gen.tests)................................................ OK\n",
      "Running ant (coverage.report).............................................. OK\n",
      "WARNING: Some tests failed (see /Users/hugoyin/Desktop/UIUC/CS_527/CS_527_Project/Defects4J/Compress_2/Buggy-Version/Compress_2B/failing_tests)!\n",
      "Extract test suite......................................................... OK\n",
      "Running ant (compile.gen.tests)............................................ "
     ]
    },
    {
     "name": "stdout",
     "output_type": "stream",
     "text": [
      "       Lines total: 71\n",
      "     Lines covered: 0\n",
      "  Conditions total: 42\n",
      "Conditions covered: 0\n",
      "     Line coverage: 0.0%\n",
      "Condition coverage: 0.0%\n"
     ]
    },
    {
     "name": "stderr",
     "output_type": "stream",
     "text": [
      "OK\n",
      "Running ant (coverage.instrument).......................................... OK\n",
      "Running ant (run.gen.tests)................................................ OK\n",
      "Running ant (coverage.report).............................................. OK\n",
      "WARNING: Some tests failed (see /Users/hugoyin/Desktop/UIUC/CS_527/CS_527_Project/Defects4J/Compress_2/Buggy-Version/Compress_2B/failing_tests)!\n",
      "Extract test suite......................................................... OK\n",
      "Running ant (compile.gen.tests)............................................ "
     ]
    },
    {
     "name": "stdout",
     "output_type": "stream",
     "text": [
      "       Lines total: 71\n",
      "     Lines covered: 0\n",
      "  Conditions total: 42\n",
      "Conditions covered: 0\n",
      "     Line coverage: 0.0%\n",
      "Condition coverage: 0.0%\n"
     ]
    },
    {
     "name": "stderr",
     "output_type": "stream",
     "text": [
      "OK\n",
      "Running ant (coverage.instrument).......................................... OK\n",
      "Running ant (run.gen.tests)................................................ OK\n",
      "Running ant (coverage.report).............................................. OK\n",
      "WARNING: Some tests failed (see /Users/hugoyin/Desktop/UIUC/CS_527/CS_527_Project/Defects4J/Compress_2/Buggy-Version/Compress_2B/failing_tests)!\n",
      "Extract test suite......................................................... OK\n",
      "Running ant (compile.gen.tests)............................................ "
     ]
    },
    {
     "name": "stdout",
     "output_type": "stream",
     "text": [
      "       Lines total: 71\n",
      "     Lines covered: 0\n",
      "  Conditions total: 42\n",
      "Conditions covered: 0\n",
      "     Line coverage: 0.0%\n",
      "Condition coverage: 0.0%\n"
     ]
    },
    {
     "name": "stderr",
     "output_type": "stream",
     "text": [
      "OK\n",
      "Running ant (coverage.instrument).......................................... OK\n",
      "Running ant (run.gen.tests)................................................ OK\n",
      "Running ant (coverage.report).............................................. OK\n",
      "WARNING: Some tests failed (see /Users/hugoyin/Desktop/UIUC/CS_527/CS_527_Project/Defects4J/Compress_2/Buggy-Version/Compress_2B/failing_tests)!\n",
      "Extract test suite......................................................... OK\n",
      "Running ant (compile.gen.tests)............................................ "
     ]
    },
    {
     "name": "stdout",
     "output_type": "stream",
     "text": [
      "       Lines total: 71\n",
      "     Lines covered: 0\n",
      "  Conditions total: 42\n",
      "Conditions covered: 0\n",
      "     Line coverage: 0.0%\n",
      "Condition coverage: 0.0%\n"
     ]
    },
    {
     "name": "stderr",
     "output_type": "stream",
     "text": [
      "OK\n",
      "Running ant (coverage.instrument).......................................... OK\n",
      "Running ant (run.gen.tests)................................................ OK\n",
      "Running ant (coverage.report).............................................. OK\n",
      "WARNING: Some tests failed (see /Users/hugoyin/Desktop/UIUC/CS_527/CS_527_Project/Defects4J/Compress_2/Buggy-Version/Compress_2B/failing_tests)!\n",
      "Extract test suite......................................................... OK\n",
      "Running ant (compile.gen.tests)............................................ "
     ]
    },
    {
     "name": "stdout",
     "output_type": "stream",
     "text": [
      "       Lines total: 71\n",
      "     Lines covered: 0\n",
      "  Conditions total: 42\n",
      "Conditions covered: 0\n",
      "     Line coverage: 0.0%\n",
      "Condition coverage: 0.0%\n"
     ]
    },
    {
     "name": "stderr",
     "output_type": "stream",
     "text": [
      "OK\n",
      "Running ant (coverage.instrument).......................................... OK\n",
      "Running ant (run.gen.tests)................................................ OK\n",
      "Running ant (coverage.report).............................................. OK\n",
      "Extract test suite......................................................... OK\n",
      "Running ant (compile.gen.tests)............................................ "
     ]
    },
    {
     "name": "stdout",
     "output_type": "stream",
     "text": [
      "       Lines total: 71\n",
      "     Lines covered: 2\n",
      "  Conditions total: 42\n",
      "Conditions covered: 1\n",
      "     Line coverage: 2.8%\n",
      "Condition coverage: 2.4%\n"
     ]
    },
    {
     "name": "stderr",
     "output_type": "stream",
     "text": [
      "OK\n",
      "Running ant (coverage.instrument).......................................... OK\n",
      "Running ant (run.gen.tests)................................................ OK\n",
      "Running ant (coverage.report).............................................. OK\n",
      "Extract test suite......................................................... OK\n",
      "Running ant (compile.gen.tests)............................................ "
     ]
    },
    {
     "name": "stdout",
     "output_type": "stream",
     "text": [
      "       Lines total: 71\n",
      "     Lines covered: 2\n",
      "  Conditions total: 42\n",
      "Conditions covered: 1\n",
      "     Line coverage: 2.8%\n",
      "Condition coverage: 2.4%\n"
     ]
    },
    {
     "name": "stderr",
     "output_type": "stream",
     "text": [
      "OK\n",
      "Running ant (coverage.instrument).......................................... OK\n",
      "Running ant (run.gen.tests)................................................ OK\n",
      "Running ant (coverage.report).............................................. OK\n",
      "Extract test suite......................................................... OK\n",
      "Running ant (compile.gen.tests)............................................ "
     ]
    },
    {
     "name": "stdout",
     "output_type": "stream",
     "text": [
      "       Lines total: 71\n",
      "     Lines covered: 2\n",
      "  Conditions total: 42\n",
      "Conditions covered: 1\n",
      "     Line coverage: 2.8%\n",
      "Condition coverage: 2.4%\n"
     ]
    },
    {
     "name": "stderr",
     "output_type": "stream",
     "text": [
      "OK\n",
      "Running ant (coverage.instrument).......................................... OK\n",
      "Running ant (run.gen.tests)................................................ OK\n",
      "Running ant (coverage.report).............................................. OK\n",
      "Extract test suite......................................................... OK\n",
      "Running ant (compile.gen.tests)............................................ "
     ]
    },
    {
     "name": "stdout",
     "output_type": "stream",
     "text": [
      "       Lines total: 71\n",
      "     Lines covered: 2\n",
      "  Conditions total: 42\n",
      "Conditions covered: 1\n",
      "     Line coverage: 2.8%\n",
      "Condition coverage: 2.4%\n"
     ]
    },
    {
     "name": "stderr",
     "output_type": "stream",
     "text": [
      "OK\n",
      "Running ant (coverage.instrument).......................................... OK\n",
      "Running ant (run.gen.tests)................................................ OK\n",
      "Running ant (coverage.report).............................................. OK\n",
      "Extract test suite......................................................... OK\n",
      "Running ant (compile.gen.tests)............................................ "
     ]
    },
    {
     "name": "stdout",
     "output_type": "stream",
     "text": [
      "       Lines total: 71\n",
      "     Lines covered: 17\n",
      "  Conditions total: 42\n",
      "Conditions covered: 3\n",
      "     Line coverage: 23.9%\n",
      "Condition coverage: 7.1%\n"
     ]
    },
    {
     "name": "stderr",
     "output_type": "stream",
     "text": [
      "OK\n",
      "Running ant (coverage.instrument).......................................... OK\n",
      "Running ant (run.gen.tests)................................................ OK\n",
      "Running ant (coverage.report).............................................. OK\n",
      "Extract test suite......................................................... OK\n",
      "Running ant (compile.gen.tests)............................................ "
     ]
    },
    {
     "name": "stdout",
     "output_type": "stream",
     "text": [
      "       Lines total: 71\n",
      "     Lines covered: 5\n",
      "  Conditions total: 42\n",
      "Conditions covered: 0\n",
      "     Line coverage: 7.0%\n",
      "Condition coverage: 0.0%\n"
     ]
    },
    {
     "name": "stderr",
     "output_type": "stream",
     "text": [
      "OK\n",
      "Running ant (coverage.instrument).......................................... OK\n",
      "Running ant (run.gen.tests)................................................ OK\n",
      "Running ant (coverage.report).............................................. OK\n",
      "Extract test suite......................................................... OK\n",
      "Running ant (compile.gen.tests)............................................ "
     ]
    },
    {
     "name": "stdout",
     "output_type": "stream",
     "text": [
      "       Lines total: 71\n",
      "     Lines covered: 16\n",
      "  Conditions total: 42\n",
      "Conditions covered: 3\n",
      "     Line coverage: 22.5%\n",
      "Condition coverage: 7.1%\n"
     ]
    },
    {
     "name": "stderr",
     "output_type": "stream",
     "text": [
      "OK\n",
      "Running ant (coverage.instrument).......................................... OK\n",
      "Running ant (run.gen.tests)................................................ OK\n",
      "Running ant (coverage.report).............................................. OK\n",
      "Extract test suite......................................................... OK\n",
      "Running ant (compile.gen.tests)............................................ "
     ]
    },
    {
     "name": "stdout",
     "output_type": "stream",
     "text": [
      "       Lines total: 71\n",
      "     Lines covered: 16\n",
      "  Conditions total: 42\n",
      "Conditions covered: 3\n",
      "     Line coverage: 22.5%\n",
      "Condition coverage: 7.1%\n"
     ]
    },
    {
     "name": "stderr",
     "output_type": "stream",
     "text": [
      "OK\n",
      "Running ant (coverage.instrument).......................................... OK\n",
      "Running ant (run.gen.tests)................................................ OK\n",
      "Running ant (coverage.report).............................................. OK\n",
      "Extract test suite......................................................... OK\n",
      "Running ant (compile.gen.tests)............................................ "
     ]
    },
    {
     "name": "stdout",
     "output_type": "stream",
     "text": [
      "       Lines total: 71\n",
      "     Lines covered: 17\n",
      "  Conditions total: 42\n",
      "Conditions covered: 3\n",
      "     Line coverage: 23.9%\n",
      "Condition coverage: 7.1%\n"
     ]
    },
    {
     "name": "stderr",
     "output_type": "stream",
     "text": [
      "OK\n",
      "Running ant (coverage.instrument).......................................... OK\n",
      "Running ant (run.gen.tests)................................................ OK\n",
      "Running ant (coverage.report).............................................. OK\n",
      "Extract test suite......................................................... OK\n",
      "Running ant (compile.gen.tests)............................................ "
     ]
    },
    {
     "name": "stdout",
     "output_type": "stream",
     "text": [
      "       Lines total: 71\n",
      "     Lines covered: 21\n",
      "  Conditions total: 42\n",
      "Conditions covered: 4\n",
      "     Line coverage: 29.6%\n",
      "Condition coverage: 9.5%\n"
     ]
    },
    {
     "name": "stderr",
     "output_type": "stream",
     "text": [
      "OK\n",
      "Running ant (coverage.instrument).......................................... OK\n",
      "Running ant (run.gen.tests)................................................ OK\n",
      "Running ant (coverage.report).............................................. OK\n",
      "Extract test suite......................................................... OK\n",
      "Running ant (compile.gen.tests)............................................ "
     ]
    },
    {
     "name": "stdout",
     "output_type": "stream",
     "text": [
      "       Lines total: 71\n",
      "     Lines covered: 12\n",
      "  Conditions total: 42\n",
      "Conditions covered: 2\n",
      "     Line coverage: 16.9%\n",
      "Condition coverage: 4.8%\n"
     ]
    },
    {
     "name": "stderr",
     "output_type": "stream",
     "text": [
      "OK\n",
      "Running ant (coverage.instrument).......................................... OK\n",
      "Running ant (run.gen.tests)................................................ OK\n",
      "Running ant (coverage.report).............................................. OK\n",
      "Extract test suite......................................................... OK\n",
      "Running ant (compile.gen.tests)............................................ "
     ]
    },
    {
     "name": "stdout",
     "output_type": "stream",
     "text": [
      "       Lines total: 71\n",
      "     Lines covered: 20\n",
      "  Conditions total: 42\n",
      "Conditions covered: 4\n",
      "     Line coverage: 28.2%\n",
      "Condition coverage: 9.5%\n"
     ]
    },
    {
     "name": "stderr",
     "output_type": "stream",
     "text": [
      "OK\n",
      "Running ant (coverage.instrument).......................................... OK\n",
      "Running ant (run.gen.tests)................................................ OK\n",
      "Running ant (coverage.report).............................................. OK\n",
      "Extract test suite......................................................... OK\n",
      "Running ant (compile.gen.tests)............................................ "
     ]
    },
    {
     "name": "stdout",
     "output_type": "stream",
     "text": [
      "       Lines total: 71\n",
      "     Lines covered: 2\n",
      "  Conditions total: 42\n",
      "Conditions covered: 1\n",
      "     Line coverage: 2.8%\n",
      "Condition coverage: 2.4%\n"
     ]
    },
    {
     "name": "stderr",
     "output_type": "stream",
     "text": [
      "OK\n",
      "Running ant (coverage.instrument).......................................... OK\n",
      "Running ant (run.gen.tests)................................................ OK\n",
      "Running ant (coverage.report).............................................. OK\n",
      "Extract test suite......................................................... OK\n",
      "Running ant (compile.gen.tests)............................................ "
     ]
    },
    {
     "name": "stdout",
     "output_type": "stream",
     "text": [
      "       Lines total: 71\n",
      "     Lines covered: 17\n",
      "  Conditions total: 42\n",
      "Conditions covered: 3\n",
      "     Line coverage: 23.9%\n",
      "Condition coverage: 7.1%\n"
     ]
    },
    {
     "name": "stderr",
     "output_type": "stream",
     "text": [
      "OK\n",
      "Running ant (coverage.instrument).......................................... OK\n",
      "Running ant (run.gen.tests)................................................ OK\n",
      "Running ant (coverage.report).............................................. OK\n",
      "Extract test suite......................................................... OK\n",
      "Running ant (compile.gen.tests)............................................ "
     ]
    },
    {
     "name": "stdout",
     "output_type": "stream",
     "text": [
      "       Lines total: 71\n",
      "     Lines covered: 12\n",
      "  Conditions total: 42\n",
      "Conditions covered: 2\n",
      "     Line coverage: 16.9%\n",
      "Condition coverage: 4.8%\n"
     ]
    },
    {
     "name": "stderr",
     "output_type": "stream",
     "text": [
      "OK\n",
      "Running ant (coverage.instrument).......................................... OK\n",
      "Running ant (run.gen.tests)................................................ OK\n",
      "Running ant (coverage.report).............................................. OK\n",
      "Extract test suite......................................................... OK\n",
      "Running ant (compile.gen.tests)............................................ "
     ]
    },
    {
     "name": "stdout",
     "output_type": "stream",
     "text": [
      "       Lines total: 71\n",
      "     Lines covered: 3\n",
      "  Conditions total: 42\n",
      "Conditions covered: 2\n",
      "     Line coverage: 4.2%\n",
      "Condition coverage: 4.8%\n"
     ]
    },
    {
     "name": "stderr",
     "output_type": "stream",
     "text": [
      "OK\n",
      "Running ant (coverage.instrument).......................................... OK\n",
      "Running ant (run.gen.tests)................................................ OK\n",
      "Running ant (coverage.report).............................................. OK\n",
      "Extract test suite......................................................... OK\n",
      "Running ant (compile.gen.tests)............................................ "
     ]
    },
    {
     "name": "stdout",
     "output_type": "stream",
     "text": [
      "       Lines total: 71\n",
      "     Lines covered: 3\n",
      "  Conditions total: 42\n",
      "Conditions covered: 2\n",
      "     Line coverage: 4.2%\n",
      "Condition coverage: 4.8%\n"
     ]
    },
    {
     "name": "stderr",
     "output_type": "stream",
     "text": [
      "OK\n",
      "Running ant (coverage.instrument).......................................... OK\n",
      "Running ant (run.gen.tests)................................................ OK\n",
      "Running ant (coverage.report).............................................. OK\n",
      "Extract test suite......................................................... OK\n",
      "Running ant (compile.gen.tests)............................................ "
     ]
    },
    {
     "name": "stdout",
     "output_type": "stream",
     "text": [
      "       Lines total: 71\n",
      "     Lines covered: 10\n",
      "  Conditions total: 42\n",
      "Conditions covered: 1\n",
      "     Line coverage: 14.1%\n",
      "Condition coverage: 2.4%\n"
     ]
    },
    {
     "name": "stderr",
     "output_type": "stream",
     "text": [
      "OK\n",
      "Running ant (coverage.instrument).......................................... OK\n",
      "Running ant (run.gen.tests)................................................ OK\n",
      "Running ant (coverage.report).............................................. OK\n",
      "Extract test suite......................................................... OK\n",
      "Running ant (compile.gen.tests)............................................ "
     ]
    },
    {
     "name": "stdout",
     "output_type": "stream",
     "text": [
      "       Lines total: 71\n",
      "     Lines covered: 2\n",
      "  Conditions total: 42\n",
      "Conditions covered: 1\n",
      "     Line coverage: 2.8%\n",
      "Condition coverage: 2.4%\n"
     ]
    },
    {
     "name": "stderr",
     "output_type": "stream",
     "text": [
      "OK\n",
      "Running ant (coverage.instrument).......................................... OK\n",
      "Running ant (run.gen.tests)................................................ OK\n",
      "Running ant (coverage.report).............................................. OK\n",
      "Extract test suite......................................................... OK\n",
      "Running ant (compile.gen.tests)............................................ "
     ]
    },
    {
     "name": "stdout",
     "output_type": "stream",
     "text": [
      "       Lines total: 71\n",
      "     Lines covered: 12\n",
      "  Conditions total: 42\n",
      "Conditions covered: 2\n",
      "     Line coverage: 16.9%\n",
      "Condition coverage: 4.8%\n"
     ]
    },
    {
     "name": "stderr",
     "output_type": "stream",
     "text": [
      "OK\n",
      "Running ant (coverage.instrument).......................................... OK\n",
      "Running ant (run.gen.tests)................................................ OK\n",
      "Running ant (coverage.report).............................................. OK\n",
      "Extract test suite......................................................... OK\n",
      "Running ant (compile.gen.tests)............................................ "
     ]
    },
    {
     "name": "stdout",
     "output_type": "stream",
     "text": [
      "       Lines total: 71\n",
      "     Lines covered: 14\n",
      "  Conditions total: 42\n",
      "Conditions covered: 2\n",
      "     Line coverage: 19.7%\n",
      "Condition coverage: 4.8%\n"
     ]
    },
    {
     "name": "stderr",
     "output_type": "stream",
     "text": [
      "OK\n",
      "Running ant (coverage.instrument).......................................... OK\n",
      "Running ant (run.gen.tests)................................................ OK\n",
      "Running ant (coverage.report).............................................. OK\n",
      "Extract test suite......................................................... OK\n",
      "Running ant (compile.gen.tests)............................................ "
     ]
    },
    {
     "name": "stdout",
     "output_type": "stream",
     "text": [
      "       Lines total: 71\n",
      "     Lines covered: 12\n",
      "  Conditions total: 42\n",
      "Conditions covered: 2\n",
      "     Line coverage: 16.9%\n",
      "Condition coverage: 4.8%\n"
     ]
    },
    {
     "name": "stderr",
     "output_type": "stream",
     "text": [
      "OK\n",
      "Running ant (coverage.instrument).......................................... OK\n",
      "Running ant (run.gen.tests)................................................ OK\n",
      "Running ant (coverage.report).............................................. OK\n",
      "Extract test suite......................................................... OK\n",
      "Running ant (compile.gen.tests)............................................ "
     ]
    },
    {
     "name": "stdout",
     "output_type": "stream",
     "text": [
      "       Lines total: 71\n",
      "     Lines covered: 10\n",
      "  Conditions total: 42\n",
      "Conditions covered: 1\n",
      "     Line coverage: 14.1%\n",
      "Condition coverage: 2.4%\n"
     ]
    },
    {
     "name": "stderr",
     "output_type": "stream",
     "text": [
      "OK\n",
      "Running ant (coverage.instrument).......................................... OK\n",
      "Running ant (run.gen.tests)................................................ OK\n",
      "Running ant (coverage.report).............................................. OK\n",
      "Extract test suite......................................................... OK\n",
      "Running ant (compile.gen.tests)............................................ "
     ]
    },
    {
     "name": "stdout",
     "output_type": "stream",
     "text": [
      "       Lines total: 71\n",
      "     Lines covered: 12\n",
      "  Conditions total: 42\n",
      "Conditions covered: 2\n",
      "     Line coverage: 16.9%\n",
      "Condition coverage: 4.8%\n"
     ]
    },
    {
     "name": "stderr",
     "output_type": "stream",
     "text": [
      "OK\n",
      "Running ant (coverage.instrument).......................................... OK\n",
      "Running ant (run.gen.tests)................................................ OK\n",
      "Running ant (coverage.report).............................................. OK\n",
      "Extract test suite......................................................... "
     ]
    },
    {
     "name": "stdout",
     "output_type": "stream",
     "text": [
      "       Lines total: 71\n",
      "     Lines covered: 2\n",
      "  Conditions total: 42\n",
      "Conditions covered: 1\n",
      "     Line coverage: 2.8%\n",
      "Condition coverage: 2.4%\n"
     ]
    },
    {
     "name": "stderr",
     "output_type": "stream",
     "text": [
      "OK\n",
      "Running ant (compile.gen.tests)............................................ OK\n",
      "Running ant (coverage.instrument).......................................... OK\n",
      "Running ant (run.gen.tests)................................................ OK\n",
      "Running ant (coverage.report).............................................. OK\n",
      "Extract test suite......................................................... OK\n",
      "Running ant (compile.gen.tests)............................................ "
     ]
    },
    {
     "name": "stdout",
     "output_type": "stream",
     "text": [
      "       Lines total: 71\n",
      "     Lines covered: 23\n",
      "  Conditions total: 42\n",
      "Conditions covered: 5\n",
      "     Line coverage: 32.4%\n",
      "Condition coverage: 11.9%\n"
     ]
    },
    {
     "name": "stderr",
     "output_type": "stream",
     "text": [
      "OK\n",
      "Running ant (coverage.instrument).......................................... OK\n",
      "Running ant (run.gen.tests)................................................ OK\n",
      "Running ant (coverage.report).............................................. OK\n",
      "Extract test suite......................................................... OK\n",
      "Running ant (compile.gen.tests)............................................ "
     ]
    },
    {
     "name": "stdout",
     "output_type": "stream",
     "text": [
      "       Lines total: 71\n",
      "     Lines covered: 21\n",
      "  Conditions total: 42\n",
      "Conditions covered: 4\n",
      "     Line coverage: 29.6%\n",
      "Condition coverage: 9.5%\n"
     ]
    },
    {
     "name": "stderr",
     "output_type": "stream",
     "text": [
      "OK\n",
      "Running ant (coverage.instrument).......................................... OK\n",
      "Running ant (run.gen.tests)................................................ OK\n",
      "Running ant (coverage.report).............................................. OK\n",
      "Extract test suite......................................................... OK\n",
      "Running ant (compile.gen.tests)............................................ "
     ]
    },
    {
     "name": "stdout",
     "output_type": "stream",
     "text": [
      "       Lines total: 71\n",
      "     Lines covered: 14\n",
      "  Conditions total: 42\n",
      "Conditions covered: 2\n",
      "     Line coverage: 19.7%\n",
      "Condition coverage: 4.8%\n"
     ]
    },
    {
     "name": "stderr",
     "output_type": "stream",
     "text": [
      "OK\n",
      "Running ant (coverage.instrument).......................................... OK\n",
      "Running ant (run.gen.tests)................................................ OK\n",
      "Running ant (coverage.report).............................................. OK\n",
      "Extract test suite......................................................... OK\n",
      "Running ant (compile.gen.tests)............................................ "
     ]
    },
    {
     "name": "stdout",
     "output_type": "stream",
     "text": [
      "       Lines total: 71\n",
      "     Lines covered: 10\n",
      "  Conditions total: 42\n",
      "Conditions covered: 1\n",
      "     Line coverage: 14.1%\n",
      "Condition coverage: 2.4%\n"
     ]
    },
    {
     "name": "stderr",
     "output_type": "stream",
     "text": [
      "OK\n",
      "Running ant (coverage.instrument).......................................... OK\n",
      "Running ant (run.gen.tests)................................................ OK\n",
      "Running ant (coverage.report).............................................. OK\n",
      "Extract test suite......................................................... OK\n",
      "Running ant (compile.gen.tests)............................................ "
     ]
    },
    {
     "name": "stdout",
     "output_type": "stream",
     "text": [
      "       Lines total: 71\n",
      "     Lines covered: 2\n",
      "  Conditions total: 42\n",
      "Conditions covered: 1\n",
      "     Line coverage: 2.8%\n",
      "Condition coverage: 2.4%\n"
     ]
    },
    {
     "name": "stderr",
     "output_type": "stream",
     "text": [
      "OK\n",
      "Running ant (coverage.instrument).......................................... OK\n",
      "Running ant (run.gen.tests)................................................ OK\n",
      "Running ant (coverage.report).............................................. OK\n",
      "Extract test suite......................................................... OK\n",
      "Running ant (compile.gen.tests)............................................ "
     ]
    },
    {
     "name": "stdout",
     "output_type": "stream",
     "text": [
      "       Lines total: 71\n",
      "     Lines covered: 9\n",
      "  Conditions total: 42\n",
      "Conditions covered: 1\n",
      "     Line coverage: 12.7%\n",
      "Condition coverage: 2.4%\n"
     ]
    },
    {
     "name": "stderr",
     "output_type": "stream",
     "text": [
      "OK\n",
      "Running ant (coverage.instrument).......................................... OK\n",
      "Running ant (run.gen.tests)................................................ OK\n",
      "Running ant (coverage.report).............................................. OK\n",
      "Extract test suite......................................................... OK\n",
      "Running ant (compile.gen.tests)............................................ "
     ]
    },
    {
     "name": "stdout",
     "output_type": "stream",
     "text": [
      "       Lines total: 71\n",
      "     Lines covered: 16\n",
      "  Conditions total: 42\n",
      "Conditions covered: 3\n",
      "     Line coverage: 22.5%\n",
      "Condition coverage: 7.1%\n"
     ]
    },
    {
     "name": "stderr",
     "output_type": "stream",
     "text": [
      "OK\n",
      "Running ant (coverage.instrument).......................................... OK\n",
      "Running ant (run.gen.tests)................................................ OK\n",
      "Running ant (coverage.report).............................................. OK\n",
      "Extract test suite......................................................... OK\n",
      "Running ant (compile.gen.tests)............................................ "
     ]
    },
    {
     "name": "stdout",
     "output_type": "stream",
     "text": [
      "       Lines total: 71\n",
      "     Lines covered: 5\n",
      "  Conditions total: 42\n",
      "Conditions covered: 0\n",
      "     Line coverage: 7.0%\n",
      "Condition coverage: 0.0%\n"
     ]
    },
    {
     "name": "stderr",
     "output_type": "stream",
     "text": [
      "OK\n",
      "Running ant (coverage.instrument).......................................... OK\n",
      "Running ant (run.gen.tests)................................................ OK\n",
      "Running ant (coverage.report).............................................. OK\n",
      "Extract test suite......................................................... OK\n",
      "Running ant (compile.gen.tests)............................................ "
     ]
    },
    {
     "name": "stdout",
     "output_type": "stream",
     "text": [
      "       Lines total: 71\n",
      "     Lines covered: 7\n",
      "  Conditions total: 42\n",
      "Conditions covered: 0\n",
      "     Line coverage: 9.9%\n",
      "Condition coverage: 0.0%\n"
     ]
    },
    {
     "name": "stderr",
     "output_type": "stream",
     "text": [
      "OK\n",
      "Running ant (coverage.instrument).......................................... OK\n",
      "Running ant (run.gen.tests)................................................ OK\n",
      "Running ant (coverage.report).............................................. OK\n",
      "Extract test suite......................................................... OK\n",
      "Running ant (compile.gen.tests)............................................ "
     ]
    },
    {
     "name": "stdout",
     "output_type": "stream",
     "text": [
      "       Lines total: 71\n",
      "     Lines covered: 2\n",
      "  Conditions total: 42\n",
      "Conditions covered: 1\n",
      "     Line coverage: 2.8%\n",
      "Condition coverage: 2.4%\n"
     ]
    },
    {
     "name": "stderr",
     "output_type": "stream",
     "text": [
      "OK\n",
      "Running ant (coverage.instrument).......................................... OK\n",
      "Running ant (run.gen.tests)................................................ OK\n",
      "Running ant (coverage.report).............................................. OK\n",
      "Extract test suite......................................................... OK\n",
      "Running ant (compile.gen.tests)............................................ "
     ]
    },
    {
     "name": "stdout",
     "output_type": "stream",
     "text": [
      "       Lines total: 71\n",
      "     Lines covered: 21\n",
      "  Conditions total: 42\n",
      "Conditions covered: 4\n",
      "     Line coverage: 29.6%\n",
      "Condition coverage: 9.5%\n"
     ]
    },
    {
     "name": "stderr",
     "output_type": "stream",
     "text": [
      "OK\n",
      "Running ant (coverage.instrument).......................................... OK\n",
      "Running ant (run.gen.tests)................................................ OK\n",
      "Running ant (coverage.report).............................................. OK\n",
      "Extract test suite......................................................... OK\n",
      "Running ant (compile.gen.tests)............................................ "
     ]
    },
    {
     "name": "stdout",
     "output_type": "stream",
     "text": [
      "       Lines total: 71\n",
      "     Lines covered: 14\n",
      "  Conditions total: 42\n",
      "Conditions covered: 2\n",
      "     Line coverage: 19.7%\n",
      "Condition coverage: 4.8%\n"
     ]
    },
    {
     "name": "stderr",
     "output_type": "stream",
     "text": [
      "OK\n",
      "Running ant (coverage.instrument).......................................... OK\n",
      "Running ant (run.gen.tests)................................................ OK\n",
      "Running ant (coverage.report).............................................. OK\n",
      "Extract test suite......................................................... OK\n",
      "Running ant (compile.gen.tests)............................................ "
     ]
    },
    {
     "name": "stdout",
     "output_type": "stream",
     "text": [
      "       Lines total: 71\n",
      "     Lines covered: 13\n",
      "  Conditions total: 42\n",
      "Conditions covered: 2\n",
      "     Line coverage: 18.3%\n",
      "Condition coverage: 4.8%\n"
     ]
    },
    {
     "name": "stderr",
     "output_type": "stream",
     "text": [
      "OK\n",
      "Running ant (coverage.instrument).......................................... OK\n",
      "Running ant (run.gen.tests)................................................ OK\n",
      "Running ant (coverage.report).............................................. OK\n",
      "Extract test suite......................................................... OK\n",
      "Running ant (compile.gen.tests)............................................ "
     ]
    },
    {
     "name": "stdout",
     "output_type": "stream",
     "text": [
      "       Lines total: 71\n",
      "     Lines covered: 10\n",
      "  Conditions total: 42\n",
      "Conditions covered: 1\n",
      "     Line coverage: 14.1%\n",
      "Condition coverage: 2.4%\n"
     ]
    },
    {
     "name": "stderr",
     "output_type": "stream",
     "text": [
      "OK\n",
      "Running ant (coverage.instrument).......................................... OK\n",
      "Running ant (run.gen.tests)................................................ OK\n",
      "Running ant (coverage.report).............................................. OK\n",
      "Extract test suite......................................................... OK\n",
      "Running ant (compile.gen.tests)............................................ "
     ]
    },
    {
     "name": "stdout",
     "output_type": "stream",
     "text": [
      "       Lines total: 71\n",
      "     Lines covered: 2\n",
      "  Conditions total: 42\n",
      "Conditions covered: 1\n",
      "     Line coverage: 2.8%\n",
      "Condition coverage: 2.4%\n"
     ]
    },
    {
     "name": "stderr",
     "output_type": "stream",
     "text": [
      "OK\n",
      "Running ant (coverage.instrument).......................................... OK\n",
      "Running ant (run.gen.tests)................................................ OK\n",
      "Running ant (coverage.report).............................................. OK\n",
      "Extract test suite......................................................... OK\n",
      "Running ant (compile.gen.tests)............................................ "
     ]
    },
    {
     "name": "stdout",
     "output_type": "stream",
     "text": [
      "       Lines total: 71\n",
      "     Lines covered: 2\n",
      "  Conditions total: 42\n",
      "Conditions covered: 1\n",
      "     Line coverage: 2.8%\n",
      "Condition coverage: 2.4%\n"
     ]
    },
    {
     "name": "stderr",
     "output_type": "stream",
     "text": [
      "OK\n",
      "Running ant (coverage.instrument).......................................... OK\n",
      "Running ant (run.gen.tests)................................................ OK\n",
      "Running ant (coverage.report).............................................. OK\n",
      "Extract test suite......................................................... OK\n",
      "Running ant (compile.gen.tests)............................................ "
     ]
    },
    {
     "name": "stdout",
     "output_type": "stream",
     "text": [
      "       Lines total: 71\n",
      "     Lines covered: 2\n",
      "  Conditions total: 42\n",
      "Conditions covered: 1\n",
      "     Line coverage: 2.8%\n",
      "Condition coverage: 2.4%\n"
     ]
    },
    {
     "name": "stderr",
     "output_type": "stream",
     "text": [
      "OK\n",
      "Running ant (coverage.instrument).......................................... OK\n",
      "Running ant (run.gen.tests)................................................ OK\n",
      "Running ant (coverage.report).............................................. OK\n",
      "Extract test suite......................................................... OK\n",
      "Running ant (compile.gen.tests)............................................ "
     ]
    },
    {
     "name": "stdout",
     "output_type": "stream",
     "text": [
      "       Lines total: 71\n",
      "     Lines covered: 3\n",
      "  Conditions total: 42\n",
      "Conditions covered: 2\n",
      "     Line coverage: 4.2%\n",
      "Condition coverage: 4.8%\n"
     ]
    },
    {
     "name": "stderr",
     "output_type": "stream",
     "text": [
      "OK\n",
      "Running ant (coverage.instrument).......................................... OK\n",
      "Running ant (run.gen.tests)................................................ OK\n",
      "Running ant (coverage.report).............................................. OK\n",
      "Extract test suite......................................................... OK\n",
      "Running ant (compile.gen.tests)............................................ "
     ]
    },
    {
     "name": "stdout",
     "output_type": "stream",
     "text": [
      "       Lines total: 71\n",
      "     Lines covered: 3\n",
      "  Conditions total: 42\n",
      "Conditions covered: 2\n",
      "     Line coverage: 4.2%\n",
      "Condition coverage: 4.8%\n"
     ]
    },
    {
     "name": "stderr",
     "output_type": "stream",
     "text": [
      "OK\n",
      "Running ant (coverage.instrument).......................................... OK\n",
      "Running ant (run.gen.tests)................................................ OK\n",
      "Running ant (coverage.report).............................................. OK\n",
      "Extract test suite......................................................... OK\n",
      "Running ant (compile.gen.tests)............................................ "
     ]
    },
    {
     "name": "stdout",
     "output_type": "stream",
     "text": [
      "       Lines total: 71\n",
      "     Lines covered: 17\n",
      "  Conditions total: 42\n",
      "Conditions covered: 3\n",
      "     Line coverage: 23.9%\n",
      "Condition coverage: 7.1%\n"
     ]
    },
    {
     "name": "stderr",
     "output_type": "stream",
     "text": [
      "OK\n",
      "Running ant (coverage.instrument).......................................... OK\n",
      "Running ant (run.gen.tests)................................................ OK\n",
      "Running ant (coverage.report).............................................. OK\n",
      "Extract test suite......................................................... OK\n",
      "Running ant (compile.gen.tests)............................................ "
     ]
    },
    {
     "name": "stdout",
     "output_type": "stream",
     "text": [
      "       Lines total: 71\n",
      "     Lines covered: 5\n",
      "  Conditions total: 42\n",
      "Conditions covered: 0\n",
      "     Line coverage: 7.0%\n",
      "Condition coverage: 0.0%\n"
     ]
    },
    {
     "name": "stderr",
     "output_type": "stream",
     "text": [
      "OK\n",
      "Running ant (coverage.instrument).......................................... OK\n",
      "Running ant (run.gen.tests)................................................ OK\n",
      "Running ant (coverage.report).............................................. OK\n",
      "Extract test suite......................................................... OK\n",
      "Running ant (compile.gen.tests)............................................ "
     ]
    },
    {
     "name": "stdout",
     "output_type": "stream",
     "text": [
      "       Lines total: 71\n",
      "     Lines covered: 12\n",
      "  Conditions total: 42\n",
      "Conditions covered: 1\n",
      "     Line coverage: 16.9%\n",
      "Condition coverage: 2.4%\n"
     ]
    },
    {
     "name": "stderr",
     "output_type": "stream",
     "text": [
      "OK\n",
      "Running ant (coverage.instrument).......................................... OK\n",
      "Running ant (run.gen.tests)................................................ OK\n",
      "Running ant (coverage.report).............................................. OK\n",
      "Extract test suite......................................................... OK\n",
      "Running ant (compile.gen.tests)............................................ "
     ]
    },
    {
     "name": "stdout",
     "output_type": "stream",
     "text": [
      "       Lines total: 71\n",
      "     Lines covered: 2\n",
      "  Conditions total: 42\n",
      "Conditions covered: 1\n",
      "     Line coverage: 2.8%\n",
      "Condition coverage: 2.4%\n"
     ]
    },
    {
     "name": "stderr",
     "output_type": "stream",
     "text": [
      "OK\n",
      "Running ant (coverage.instrument).......................................... OK\n",
      "Running ant (run.gen.tests)................................................ OK\n",
      "Running ant (coverage.report).............................................. OK\n",
      "Extract test suite......................................................... OK\n",
      "Running ant (compile.gen.tests)............................................ "
     ]
    },
    {
     "name": "stdout",
     "output_type": "stream",
     "text": [
      "       Lines total: 71\n",
      "     Lines covered: 15\n",
      "  Conditions total: 42\n",
      "Conditions covered: 3\n",
      "     Line coverage: 21.1%\n",
      "Condition coverage: 7.1%\n"
     ]
    },
    {
     "name": "stderr",
     "output_type": "stream",
     "text": [
      "OK\n",
      "Running ant (coverage.instrument).......................................... OK\n",
      "Running ant (run.gen.tests)................................................ OK\n",
      "Running ant (coverage.report).............................................. OK\n",
      "Extract test suite......................................................... OK\n",
      "Running ant (compile.gen.tests)............................................ "
     ]
    },
    {
     "name": "stdout",
     "output_type": "stream",
     "text": [
      "       Lines total: 71\n",
      "     Lines covered: 13\n",
      "  Conditions total: 42\n",
      "Conditions covered: 3\n",
      "     Line coverage: 18.3%\n",
      "Condition coverage: 7.1%\n"
     ]
    },
    {
     "name": "stderr",
     "output_type": "stream",
     "text": [
      "OK\n",
      "Running ant (coverage.instrument).......................................... OK\n",
      "Running ant (run.gen.tests)................................................ OK\n",
      "Running ant (coverage.report).............................................. OK\n",
      "Extract test suite......................................................... OK\n",
      "Running ant (compile.gen.tests)............................................ "
     ]
    },
    {
     "name": "stdout",
     "output_type": "stream",
     "text": [
      "       Lines total: 71\n",
      "     Lines covered: 23\n",
      "  Conditions total: 42\n",
      "Conditions covered: 5\n",
      "     Line coverage: 32.4%\n",
      "Condition coverage: 11.9%\n"
     ]
    },
    {
     "name": "stderr",
     "output_type": "stream",
     "text": [
      "OK\n",
      "Running ant (coverage.instrument).......................................... OK\n",
      "Running ant (run.gen.tests)................................................ OK\n",
      "Running ant (coverage.report).............................................. OK\n",
      "Extract test suite......................................................... OK\n",
      "Running ant (compile.gen.tests)............................................ "
     ]
    },
    {
     "name": "stdout",
     "output_type": "stream",
     "text": [
      "       Lines total: 71\n",
      "     Lines covered: 10\n",
      "  Conditions total: 42\n",
      "Conditions covered: 1\n",
      "     Line coverage: 14.1%\n",
      "Condition coverage: 2.4%\n"
     ]
    },
    {
     "name": "stderr",
     "output_type": "stream",
     "text": [
      "OK\n",
      "Running ant (coverage.instrument).......................................... OK\n",
      "Running ant (run.gen.tests)................................................ OK\n",
      "Running ant (coverage.report).............................................. OK\n",
      "Extract test suite......................................................... OK\n",
      "Running ant (compile.gen.tests)............................................ "
     ]
    },
    {
     "name": "stdout",
     "output_type": "stream",
     "text": [
      "       Lines total: 71\n",
      "     Lines covered: 5\n",
      "  Conditions total: 42\n",
      "Conditions covered: 0\n",
      "     Line coverage: 7.0%\n",
      "Condition coverage: 0.0%\n"
     ]
    },
    {
     "name": "stderr",
     "output_type": "stream",
     "text": [
      "OK\n",
      "Running ant (coverage.instrument).......................................... OK\n",
      "Running ant (run.gen.tests)................................................ OK\n",
      "Running ant (coverage.report).............................................. OK\n",
      "Extract test suite......................................................... OK\n",
      "Running ant (compile.gen.tests)............................................ "
     ]
    },
    {
     "name": "stdout",
     "output_type": "stream",
     "text": [
      "       Lines total: 71\n",
      "     Lines covered: 20\n",
      "  Conditions total: 42\n",
      "Conditions covered: 4\n",
      "     Line coverage: 28.2%\n",
      "Condition coverage: 9.5%\n"
     ]
    },
    {
     "name": "stderr",
     "output_type": "stream",
     "text": [
      "OK\n",
      "Running ant (coverage.instrument).......................................... OK\n",
      "Running ant (run.gen.tests)................................................ OK\n",
      "Running ant (coverage.report).............................................. OK\n",
      "Extract test suite......................................................... OK\n",
      "Running ant (compile.gen.tests)............................................ "
     ]
    },
    {
     "name": "stdout",
     "output_type": "stream",
     "text": [
      "       Lines total: 71\n",
      "     Lines covered: 2\n",
      "  Conditions total: 42\n",
      "Conditions covered: 1\n",
      "     Line coverage: 2.8%\n",
      "Condition coverage: 2.4%\n"
     ]
    },
    {
     "name": "stderr",
     "output_type": "stream",
     "text": [
      "OK\n",
      "Running ant (coverage.instrument).......................................... OK\n",
      "Running ant (run.gen.tests)................................................ OK\n",
      "Running ant (coverage.report).............................................. OK\n",
      "Extract test suite......................................................... OK\n",
      "Running ant (compile.gen.tests)............................................ "
     ]
    },
    {
     "name": "stdout",
     "output_type": "stream",
     "text": [
      "       Lines total: 71\n",
      "     Lines covered: 24\n",
      "  Conditions total: 42\n",
      "Conditions covered: 5\n",
      "     Line coverage: 33.8%\n",
      "Condition coverage: 11.9%\n"
     ]
    },
    {
     "name": "stderr",
     "output_type": "stream",
     "text": [
      "OK\n",
      "Running ant (coverage.instrument).......................................... OK\n",
      "Running ant (run.gen.tests)................................................ OK\n",
      "Running ant (coverage.report).............................................. OK\n",
      "Extract test suite......................................................... OK\n",
      "Running ant (compile.gen.tests)............................................ "
     ]
    },
    {
     "name": "stdout",
     "output_type": "stream",
     "text": [
      "       Lines total: 71\n",
      "     Lines covered: 5\n",
      "  Conditions total: 42\n",
      "Conditions covered: 0\n",
      "     Line coverage: 7.0%\n",
      "Condition coverage: 0.0%\n"
     ]
    },
    {
     "name": "stderr",
     "output_type": "stream",
     "text": [
      "OK\n",
      "Running ant (coverage.instrument).......................................... OK\n",
      "Running ant (run.gen.tests)................................................ OK\n",
      "Running ant (coverage.report).............................................. OK\n",
      "Extract test suite......................................................... OK\n",
      "Running ant (compile.gen.tests)............................................ "
     ]
    },
    {
     "name": "stdout",
     "output_type": "stream",
     "text": [
      "       Lines total: 71\n",
      "     Lines covered: 20\n",
      "  Conditions total: 42\n",
      "Conditions covered: 5\n",
      "     Line coverage: 28.2%\n",
      "Condition coverage: 11.9%\n"
     ]
    },
    {
     "name": "stderr",
     "output_type": "stream",
     "text": [
      "OK\n",
      "Running ant (coverage.instrument).......................................... OK\n",
      "Running ant (run.gen.tests)................................................ OK\n",
      "Running ant (coverage.report).............................................. OK\n",
      "Extract test suite......................................................... OK\n",
      "Running ant (compile.gen.tests)............................................ "
     ]
    },
    {
     "name": "stdout",
     "output_type": "stream",
     "text": [
      "       Lines total: 71\n",
      "     Lines covered: 13\n",
      "  Conditions total: 42\n",
      "Conditions covered: 2\n",
      "     Line coverage: 18.3%\n",
      "Condition coverage: 4.8%\n"
     ]
    },
    {
     "name": "stderr",
     "output_type": "stream",
     "text": [
      "OK\n",
      "Running ant (coverage.instrument).......................................... OK\n",
      "Running ant (run.gen.tests)................................................ OK\n",
      "Running ant (coverage.report).............................................. OK\n",
      "Extract test suite......................................................... OK\n",
      "Running ant (compile.gen.tests)............................................ "
     ]
    },
    {
     "name": "stdout",
     "output_type": "stream",
     "text": [
      "       Lines total: 71\n",
      "     Lines covered: 3\n",
      "  Conditions total: 42\n",
      "Conditions covered: 2\n",
      "     Line coverage: 4.2%\n",
      "Condition coverage: 4.8%\n"
     ]
    },
    {
     "name": "stderr",
     "output_type": "stream",
     "text": [
      "OK\n",
      "Running ant (coverage.instrument).......................................... OK\n",
      "Running ant (run.gen.tests)................................................ OK\n",
      "Running ant (coverage.report).............................................. OK\n",
      "Extract test suite......................................................... OK\n",
      "Running ant (compile.gen.tests)............................................ "
     ]
    },
    {
     "name": "stdout",
     "output_type": "stream",
     "text": [
      "       Lines total: 71\n",
      "     Lines covered: 4\n",
      "  Conditions total: 42\n",
      "Conditions covered: 3\n",
      "     Line coverage: 5.6%\n",
      "Condition coverage: 7.1%\n"
     ]
    },
    {
     "name": "stderr",
     "output_type": "stream",
     "text": [
      "OK\n",
      "Running ant (coverage.instrument).......................................... OK\n",
      "Running ant (run.gen.tests)................................................ OK\n",
      "Running ant (coverage.report).............................................. OK\n",
      "Extract test suite......................................................... OK\n",
      "Running ant (compile.gen.tests)............................................ "
     ]
    },
    {
     "name": "stdout",
     "output_type": "stream",
     "text": [
      "       Lines total: 71\n",
      "     Lines covered: 5\n",
      "  Conditions total: 42\n",
      "Conditions covered: 0\n",
      "     Line coverage: 7.0%\n",
      "Condition coverage: 0.0%\n"
     ]
    },
    {
     "name": "stderr",
     "output_type": "stream",
     "text": [
      "OK\n",
      "Running ant (coverage.instrument).......................................... OK\n",
      "Running ant (run.gen.tests)................................................ OK\n",
      "Running ant (coverage.report).............................................. OK\n",
      "Extract test suite......................................................... OK\n",
      "Running ant (compile.gen.tests)............................................ "
     ]
    },
    {
     "name": "stdout",
     "output_type": "stream",
     "text": [
      "       Lines total: 71\n",
      "     Lines covered: 17\n",
      "  Conditions total: 42\n",
      "Conditions covered: 4\n",
      "     Line coverage: 23.9%\n",
      "Condition coverage: 9.5%\n"
     ]
    },
    {
     "name": "stderr",
     "output_type": "stream",
     "text": [
      "OK\n",
      "Running ant (coverage.instrument).......................................... OK\n",
      "Running ant (run.gen.tests)................................................ OK\n",
      "Running ant (coverage.report).............................................. OK\n",
      "Extract test suite......................................................... OK\n",
      "Running ant (compile.gen.tests)............................................ "
     ]
    },
    {
     "name": "stdout",
     "output_type": "stream",
     "text": [
      "       Lines total: 71\n",
      "     Lines covered: 17\n",
      "  Conditions total: 42\n",
      "Conditions covered: 3\n",
      "     Line coverage: 23.9%\n",
      "Condition coverage: 7.1%\n"
     ]
    },
    {
     "name": "stderr",
     "output_type": "stream",
     "text": [
      "OK\n",
      "Running ant (coverage.instrument).......................................... OK\n",
      "Running ant (run.gen.tests)................................................ OK\n",
      "Running ant (coverage.report).............................................. OK\n",
      "Extract test suite......................................................... OK\n",
      "Running ant (compile.gen.tests)............................................ "
     ]
    },
    {
     "name": "stdout",
     "output_type": "stream",
     "text": [
      "       Lines total: 71\n",
      "     Lines covered: 2\n",
      "  Conditions total: 42\n",
      "Conditions covered: 1\n",
      "     Line coverage: 2.8%\n",
      "Condition coverage: 2.4%\n"
     ]
    },
    {
     "name": "stderr",
     "output_type": "stream",
     "text": [
      "OK\n",
      "Running ant (coverage.instrument).......................................... OK\n",
      "Running ant (run.gen.tests)................................................ OK\n",
      "Running ant (coverage.report).............................................. OK\n",
      "Extract test suite......................................................... OK\n",
      "Running ant (compile.gen.tests)............................................ "
     ]
    },
    {
     "name": "stdout",
     "output_type": "stream",
     "text": [
      "       Lines total: 71\n",
      "     Lines covered: 9\n",
      "  Conditions total: 42\n",
      "Conditions covered: 1\n",
      "     Line coverage: 12.7%\n",
      "Condition coverage: 2.4%\n"
     ]
    },
    {
     "name": "stderr",
     "output_type": "stream",
     "text": [
      "OK\n",
      "Running ant (coverage.instrument).......................................... OK\n",
      "Running ant (run.gen.tests)................................................ OK\n",
      "Running ant (coverage.report).............................................. OK\n",
      "Extract test suite......................................................... OK\n",
      "Running ant (compile.gen.tests)............................................ "
     ]
    },
    {
     "name": "stdout",
     "output_type": "stream",
     "text": [
      "       Lines total: 71\n",
      "     Lines covered: 17\n",
      "  Conditions total: 42\n",
      "Conditions covered: 4\n",
      "     Line coverage: 23.9%\n",
      "Condition coverage: 9.5%\n"
     ]
    },
    {
     "name": "stderr",
     "output_type": "stream",
     "text": [
      "OK\n",
      "Running ant (coverage.instrument).......................................... OK\n",
      "Running ant (run.gen.tests)................................................ OK\n",
      "Running ant (coverage.report).............................................. OK\n",
      "Extract test suite......................................................... OK\n",
      "Running ant (compile.gen.tests)............................................ "
     ]
    },
    {
     "name": "stdout",
     "output_type": "stream",
     "text": [
      "       Lines total: 71\n",
      "     Lines covered: 15\n",
      "  Conditions total: 42\n",
      "Conditions covered: 4\n",
      "     Line coverage: 21.1%\n",
      "Condition coverage: 9.5%\n"
     ]
    },
    {
     "name": "stderr",
     "output_type": "stream",
     "text": [
      "OK\n",
      "Running ant (coverage.instrument).......................................... OK\n",
      "Running ant (run.gen.tests)................................................ OK\n",
      "Running ant (coverage.report).............................................. OK\n",
      "Extract test suite......................................................... OK\n",
      "Running ant (compile.gen.tests)............................................ "
     ]
    },
    {
     "name": "stdout",
     "output_type": "stream",
     "text": [
      "       Lines total: 71\n",
      "     Lines covered: 5\n",
      "  Conditions total: 42\n",
      "Conditions covered: 0\n",
      "     Line coverage: 7.0%\n",
      "Condition coverage: 0.0%\n"
     ]
    },
    {
     "name": "stderr",
     "output_type": "stream",
     "text": [
      "OK\n",
      "Running ant (coverage.instrument).......................................... OK\n",
      "Running ant (run.gen.tests)................................................ OK\n",
      "Running ant (coverage.report).............................................. OK\n",
      "Extract test suite......................................................... OK\n",
      "Running ant (compile.gen.tests)............................................ "
     ]
    },
    {
     "name": "stdout",
     "output_type": "stream",
     "text": [
      "       Lines total: 71\n",
      "     Lines covered: 13\n",
      "  Conditions total: 42\n",
      "Conditions covered: 2\n",
      "     Line coverage: 18.3%\n",
      "Condition coverage: 4.8%\n"
     ]
    },
    {
     "name": "stderr",
     "output_type": "stream",
     "text": [
      "OK\n",
      "Running ant (coverage.instrument).......................................... OK\n",
      "Running ant (run.gen.tests)................................................ OK\n",
      "Running ant (coverage.report).............................................. OK\n",
      "Extract test suite......................................................... OK\n",
      "Running ant (compile.gen.tests)............................................ "
     ]
    },
    {
     "name": "stdout",
     "output_type": "stream",
     "text": [
      "       Lines total: 71\n",
      "     Lines covered: 5\n",
      "  Conditions total: 42\n",
      "Conditions covered: 0\n",
      "     Line coverage: 7.0%\n",
      "Condition coverage: 0.0%\n"
     ]
    },
    {
     "name": "stderr",
     "output_type": "stream",
     "text": [
      "OK\n",
      "Running ant (coverage.instrument).......................................... OK\n",
      "Running ant (run.gen.tests)................................................ OK\n",
      "Running ant (coverage.report).............................................. OK\n",
      "Extract test suite......................................................... OK\n",
      "Running ant (compile.gen.tests)............................................ "
     ]
    },
    {
     "name": "stdout",
     "output_type": "stream",
     "text": [
      "       Lines total: 71\n",
      "     Lines covered: 16\n",
      "  Conditions total: 42\n",
      "Conditions covered: 3\n",
      "     Line coverage: 22.5%\n",
      "Condition coverage: 7.1%\n"
     ]
    },
    {
     "name": "stderr",
     "output_type": "stream",
     "text": [
      "OK\n",
      "Running ant (coverage.instrument).......................................... OK\n",
      "Running ant (run.gen.tests)................................................ OK\n",
      "Running ant (coverage.report).............................................. OK\n",
      "Extract test suite......................................................... OK\n",
      "Running ant (compile.gen.tests)............................................ "
     ]
    },
    {
     "name": "stdout",
     "output_type": "stream",
     "text": [
      "       Lines total: 71\n",
      "     Lines covered: 17\n",
      "  Conditions total: 42\n",
      "Conditions covered: 3\n",
      "     Line coverage: 23.9%\n",
      "Condition coverage: 7.1%\n"
     ]
    },
    {
     "name": "stderr",
     "output_type": "stream",
     "text": [
      "OK\n",
      "Running ant (coverage.instrument).......................................... OK\n",
      "Running ant (run.gen.tests)................................................ OK\n",
      "Running ant (coverage.report).............................................. OK\n",
      "Extract test suite......................................................... OK\n",
      "Running ant (compile.gen.tests)............................................ "
     ]
    },
    {
     "name": "stdout",
     "output_type": "stream",
     "text": [
      "       Lines total: 71\n",
      "     Lines covered: 17\n",
      "  Conditions total: 42\n",
      "Conditions covered: 3\n",
      "     Line coverage: 23.9%\n",
      "Condition coverage: 7.1%\n"
     ]
    },
    {
     "name": "stderr",
     "output_type": "stream",
     "text": [
      "OK\n",
      "Running ant (coverage.instrument).......................................... OK\n",
      "Running ant (run.gen.tests)................................................ OK\n",
      "Running ant (coverage.report).............................................. OK\n",
      "Extract test suite......................................................... OK\n",
      "Running ant (compile.gen.tests)............................................ "
     ]
    },
    {
     "name": "stdout",
     "output_type": "stream",
     "text": [
      "       Lines total: 71\n",
      "     Lines covered: 3\n",
      "  Conditions total: 42\n",
      "Conditions covered: 2\n",
      "     Line coverage: 4.2%\n",
      "Condition coverage: 4.8%\n"
     ]
    },
    {
     "name": "stderr",
     "output_type": "stream",
     "text": [
      "OK\n",
      "Running ant (coverage.instrument).......................................... OK\n",
      "Running ant (run.gen.tests)................................................ OK\n",
      "Running ant (coverage.report).............................................. OK\n",
      "Extract test suite......................................................... OK\n",
      "Running ant (compile.gen.tests)............................................ "
     ]
    },
    {
     "name": "stdout",
     "output_type": "stream",
     "text": [
      "       Lines total: 71\n",
      "     Lines covered: 17\n",
      "  Conditions total: 42\n",
      "Conditions covered: 3\n",
      "     Line coverage: 23.9%\n",
      "Condition coverage: 7.1%\n"
     ]
    },
    {
     "name": "stderr",
     "output_type": "stream",
     "text": [
      "OK\n",
      "Running ant (coverage.instrument).......................................... OK\n",
      "Running ant (run.gen.tests)................................................ OK\n",
      "Running ant (coverage.report).............................................. OK\n",
      "Extract test suite......................................................... OK\n",
      "Running ant (compile.gen.tests)............................................ "
     ]
    },
    {
     "name": "stdout",
     "output_type": "stream",
     "text": [
      "       Lines total: 71\n",
      "     Lines covered: 5\n",
      "  Conditions total: 42\n",
      "Conditions covered: 0\n",
      "     Line coverage: 7.0%\n",
      "Condition coverage: 0.0%\n"
     ]
    },
    {
     "name": "stderr",
     "output_type": "stream",
     "text": [
      "OK\n",
      "Running ant (coverage.instrument).......................................... OK\n",
      "Running ant (run.gen.tests)................................................ OK\n",
      "Running ant (coverage.report).............................................. OK\n",
      "Extract test suite......................................................... OK\n",
      "Running ant (compile.gen.tests)............................................ "
     ]
    },
    {
     "name": "stdout",
     "output_type": "stream",
     "text": [
      "       Lines total: 71\n",
      "     Lines covered: 4\n",
      "  Conditions total: 42\n",
      "Conditions covered: 3\n",
      "     Line coverage: 5.6%\n",
      "Condition coverage: 7.1%\n"
     ]
    },
    {
     "name": "stderr",
     "output_type": "stream",
     "text": [
      "OK\n",
      "Running ant (coverage.instrument).......................................... OK\n",
      "Running ant (run.gen.tests)................................................ OK\n",
      "Running ant (coverage.report).............................................. OK\n",
      "Extract test suite......................................................... OK\n",
      "Running ant (compile.gen.tests)............................................ "
     ]
    },
    {
     "name": "stdout",
     "output_type": "stream",
     "text": [
      "       Lines total: 71\n",
      "     Lines covered: 3\n",
      "  Conditions total: 42\n",
      "Conditions covered: 2\n",
      "     Line coverage: 4.2%\n",
      "Condition coverage: 4.8%\n"
     ]
    },
    {
     "name": "stderr",
     "output_type": "stream",
     "text": [
      "OK\n",
      "Running ant (coverage.instrument).......................................... OK\n",
      "Running ant (run.gen.tests)................................................ OK\n",
      "Running ant (coverage.report).............................................. OK\n"
     ]
    },
    {
     "name": "stdout",
     "output_type": "stream",
     "text": [
      "       Lines total: 71\n",
      "     Lines covered: 5\n",
      "  Conditions total: 42\n",
      "Conditions covered: 0\n",
      "     Line coverage: 7.0%\n",
      "Condition coverage: 0.0%\n"
     ]
    },
    {
     "name": "stderr",
     "output_type": "stream",
     "text": [
      "Extract test suite......................................................... OK\n",
      "Running ant (compile.gen.tests)............................................ OK\n",
      "Running ant (coverage.instrument).......................................... OK\n",
      "Running ant (run.gen.tests)................................................ OK\n",
      "Running ant (coverage.report).............................................. OK\n",
      "Extract test suite......................................................... OK\n",
      "Running ant (compile.gen.tests)............................................ "
     ]
    },
    {
     "name": "stdout",
     "output_type": "stream",
     "text": [
      "       Lines total: 71\n",
      "     Lines covered: 2\n",
      "  Conditions total: 42\n",
      "Conditions covered: 1\n",
      "     Line coverage: 2.8%\n",
      "Condition coverage: 2.4%\n"
     ]
    },
    {
     "name": "stderr",
     "output_type": "stream",
     "text": [
      "OK\n",
      "Running ant (coverage.instrument).......................................... OK\n",
      "Running ant (run.gen.tests)................................................ OK\n",
      "Running ant (coverage.report).............................................. OK\n",
      "Extract test suite......................................................... OK\n",
      "Running ant (compile.gen.tests)............................................ "
     ]
    },
    {
     "name": "stdout",
     "output_type": "stream",
     "text": [
      "       Lines total: 71\n",
      "     Lines covered: 2\n",
      "  Conditions total: 42\n",
      "Conditions covered: 1\n",
      "     Line coverage: 2.8%\n",
      "Condition coverage: 2.4%\n"
     ]
    },
    {
     "name": "stderr",
     "output_type": "stream",
     "text": [
      "OK\n",
      "Running ant (coverage.instrument).......................................... OK\n",
      "Running ant (run.gen.tests)................................................ OK\n",
      "Running ant (coverage.report).............................................. OK\n",
      "Extract test suite......................................................... OK\n",
      "Running ant (compile.gen.tests)............................................ "
     ]
    },
    {
     "name": "stdout",
     "output_type": "stream",
     "text": [
      "       Lines total: 71\n",
      "     Lines covered: 3\n",
      "  Conditions total: 42\n",
      "Conditions covered: 2\n",
      "     Line coverage: 4.2%\n",
      "Condition coverage: 4.8%\n"
     ]
    },
    {
     "name": "stderr",
     "output_type": "stream",
     "text": [
      "OK\n",
      "Running ant (coverage.instrument).......................................... OK\n",
      "Running ant (run.gen.tests)................................................ OK\n",
      "Running ant (coverage.report).............................................. OK\n",
      "Extract test suite......................................................... OK\n",
      "Running ant (compile.gen.tests)............................................ "
     ]
    },
    {
     "name": "stdout",
     "output_type": "stream",
     "text": [
      "       Lines total: 71\n",
      "     Lines covered: 14\n",
      "  Conditions total: 42\n",
      "Conditions covered: 2\n",
      "     Line coverage: 19.7%\n",
      "Condition coverage: 4.8%\n"
     ]
    },
    {
     "name": "stderr",
     "output_type": "stream",
     "text": [
      "OK\n",
      "Running ant (coverage.instrument).......................................... OK\n",
      "Running ant (run.gen.tests)................................................ OK\n",
      "Running ant (coverage.report).............................................. OK\n",
      "Extract test suite......................................................... OK\n",
      "Running ant (compile.gen.tests)............................................ "
     ]
    },
    {
     "name": "stdout",
     "output_type": "stream",
     "text": [
      "       Lines total: 71\n",
      "     Lines covered: 14\n",
      "  Conditions total: 42\n",
      "Conditions covered: 2\n",
      "     Line coverage: 19.7%\n",
      "Condition coverage: 4.8%\n"
     ]
    },
    {
     "name": "stderr",
     "output_type": "stream",
     "text": [
      "OK\n",
      "Running ant (coverage.instrument).......................................... OK\n",
      "Running ant (run.gen.tests)................................................ OK\n",
      "Running ant (coverage.report).............................................. OK\n",
      "Extract test suite......................................................... OK\n",
      "Running ant (compile.gen.tests)............................................ "
     ]
    },
    {
     "name": "stdout",
     "output_type": "stream",
     "text": [
      "       Lines total: 71\n",
      "     Lines covered: 5\n",
      "  Conditions total: 42\n",
      "Conditions covered: 0\n",
      "     Line coverage: 7.0%\n",
      "Condition coverage: 0.0%\n"
     ]
    },
    {
     "name": "stderr",
     "output_type": "stream",
     "text": [
      "OK\n",
      "Running ant (coverage.instrument).......................................... OK\n",
      "Running ant (run.gen.tests)................................................ OK\n",
      "Running ant (coverage.report).............................................. OK\n",
      "Extract test suite......................................................... OK\n",
      "Running ant (compile.gen.tests)............................................ "
     ]
    },
    {
     "name": "stdout",
     "output_type": "stream",
     "text": [
      "       Lines total: 71\n",
      "     Lines covered: 17\n",
      "  Conditions total: 42\n",
      "Conditions covered: 3\n",
      "     Line coverage: 23.9%\n",
      "Condition coverage: 7.1%\n"
     ]
    },
    {
     "name": "stderr",
     "output_type": "stream",
     "text": [
      "OK\n",
      "Running ant (coverage.instrument).......................................... OK\n",
      "Running ant (run.gen.tests)................................................ OK\n",
      "Running ant (coverage.report).............................................. OK\n",
      "Extract test suite......................................................... OK\n",
      "Running ant (compile.gen.tests)............................................ "
     ]
    },
    {
     "name": "stdout",
     "output_type": "stream",
     "text": [
      "       Lines total: 71\n",
      "     Lines covered: 14\n",
      "  Conditions total: 42\n",
      "Conditions covered: 2\n",
      "     Line coverage: 19.7%\n",
      "Condition coverage: 4.8%\n"
     ]
    },
    {
     "name": "stderr",
     "output_type": "stream",
     "text": [
      "OK\n",
      "Running ant (coverage.instrument).......................................... OK\n",
      "Running ant (run.gen.tests)................................................ OK\n",
      "Running ant (coverage.report).............................................. OK\n",
      "Extract test suite......................................................... OK\n",
      "Running ant (compile.gen.tests)............................................ "
     ]
    },
    {
     "name": "stdout",
     "output_type": "stream",
     "text": [
      "       Lines total: 71\n",
      "     Lines covered: 5\n",
      "  Conditions total: 42\n",
      "Conditions covered: 0\n",
      "     Line coverage: 7.0%\n",
      "Condition coverage: 0.0%\n"
     ]
    },
    {
     "name": "stderr",
     "output_type": "stream",
     "text": [
      "OK\n",
      "Running ant (coverage.instrument).......................................... OK\n",
      "Running ant (run.gen.tests)................................................ OK\n",
      "Running ant (coverage.report).............................................. OK\n",
      "Extract test suite......................................................... OK\n",
      "Running ant (compile.gen.tests)............................................ "
     ]
    },
    {
     "name": "stdout",
     "output_type": "stream",
     "text": [
      "       Lines total: 71\n",
      "     Lines covered: 3\n",
      "  Conditions total: 42\n",
      "Conditions covered: 2\n",
      "     Line coverage: 4.2%\n",
      "Condition coverage: 4.8%\n"
     ]
    },
    {
     "name": "stderr",
     "output_type": "stream",
     "text": [
      "OK\n",
      "Running ant (coverage.instrument).......................................... OK\n",
      "Running ant (run.gen.tests)................................................ OK\n",
      "Running ant (coverage.report).............................................. OK\n",
      "Extract test suite......................................................... OK\n",
      "Running ant (compile.gen.tests)............................................ "
     ]
    },
    {
     "name": "stdout",
     "output_type": "stream",
     "text": [
      "       Lines total: 71\n",
      "     Lines covered: 5\n",
      "  Conditions total: 42\n",
      "Conditions covered: 0\n",
      "     Line coverage: 7.0%\n",
      "Condition coverage: 0.0%\n"
     ]
    },
    {
     "name": "stderr",
     "output_type": "stream",
     "text": [
      "OK\n",
      "Running ant (coverage.instrument).......................................... OK\n",
      "Running ant (run.gen.tests)................................................ OK\n",
      "Running ant (coverage.report).............................................. OK\n",
      "Extract test suite......................................................... OK\n",
      "Running ant (compile.gen.tests)............................................ "
     ]
    },
    {
     "name": "stdout",
     "output_type": "stream",
     "text": [
      "       Lines total: 71\n",
      "     Lines covered: 12\n",
      "  Conditions total: 42\n",
      "Conditions covered: 2\n",
      "     Line coverage: 16.9%\n",
      "Condition coverage: 4.8%\n"
     ]
    },
    {
     "name": "stderr",
     "output_type": "stream",
     "text": [
      "OK\n",
      "Running ant (coverage.instrument).......................................... OK\n",
      "Running ant (run.gen.tests)................................................ OK\n",
      "Running ant (coverage.report).............................................. OK\n",
      "Extract test suite......................................................... OK\n",
      "Running ant (compile.gen.tests)............................................ "
     ]
    },
    {
     "name": "stdout",
     "output_type": "stream",
     "text": [
      "       Lines total: 71\n",
      "     Lines covered: 5\n",
      "  Conditions total: 42\n",
      "Conditions covered: 0\n",
      "     Line coverage: 7.0%\n",
      "Condition coverage: 0.0%\n"
     ]
    },
    {
     "name": "stderr",
     "output_type": "stream",
     "text": [
      "OK\n",
      "Running ant (coverage.instrument).......................................... OK\n",
      "Running ant (run.gen.tests)................................................ OK\n",
      "Running ant (coverage.report).............................................. OK\n",
      "Extract test suite......................................................... OK\n",
      "Running ant (compile.gen.tests)............................................ "
     ]
    },
    {
     "name": "stdout",
     "output_type": "stream",
     "text": [
      "       Lines total: 71\n",
      "     Lines covered: 9\n",
      "  Conditions total: 42\n",
      "Conditions covered: 1\n",
      "     Line coverage: 12.7%\n",
      "Condition coverage: 2.4%\n"
     ]
    },
    {
     "name": "stderr",
     "output_type": "stream",
     "text": [
      "OK\n",
      "Running ant (coverage.instrument).......................................... OK\n",
      "Running ant (run.gen.tests)................................................ OK\n",
      "Running ant (coverage.report).............................................. OK\n",
      "Extract test suite......................................................... OK\n",
      "Running ant (compile.gen.tests)............................................ "
     ]
    },
    {
     "name": "stdout",
     "output_type": "stream",
     "text": [
      "       Lines total: 71\n",
      "     Lines covered: 3\n",
      "  Conditions total: 42\n",
      "Conditions covered: 2\n",
      "     Line coverage: 4.2%\n",
      "Condition coverage: 4.8%\n"
     ]
    },
    {
     "name": "stderr",
     "output_type": "stream",
     "text": [
      "OK\n",
      "Running ant (coverage.instrument).......................................... OK\n",
      "Running ant (run.gen.tests)................................................ OK\n",
      "Running ant (coverage.report).............................................. OK\n",
      "Extract test suite......................................................... OK\n",
      "Running ant (compile.gen.tests)............................................ "
     ]
    },
    {
     "name": "stdout",
     "output_type": "stream",
     "text": [
      "       Lines total: 71\n",
      "     Lines covered: 9\n",
      "  Conditions total: 42\n",
      "Conditions covered: 1\n",
      "     Line coverage: 12.7%\n",
      "Condition coverage: 2.4%\n"
     ]
    },
    {
     "name": "stderr",
     "output_type": "stream",
     "text": [
      "OK\n",
      "Running ant (coverage.instrument).......................................... OK\n",
      "Running ant (run.gen.tests)................................................ OK\n",
      "Running ant (coverage.report).............................................. OK\n",
      "Extract test suite......................................................... OK\n",
      "Running ant (compile.gen.tests)............................................ "
     ]
    },
    {
     "name": "stdout",
     "output_type": "stream",
     "text": [
      "       Lines total: 71\n",
      "     Lines covered: 2\n",
      "  Conditions total: 42\n",
      "Conditions covered: 1\n",
      "     Line coverage: 2.8%\n",
      "Condition coverage: 2.4%\n"
     ]
    },
    {
     "name": "stderr",
     "output_type": "stream",
     "text": [
      "OK\n",
      "Running ant (coverage.instrument).......................................... OK\n",
      "Running ant (run.gen.tests)................................................ OK\n",
      "Running ant (coverage.report).............................................. OK\n",
      "Extract test suite......................................................... OK\n",
      "Running ant (compile.gen.tests)............................................ "
     ]
    },
    {
     "name": "stdout",
     "output_type": "stream",
     "text": [
      "       Lines total: 71\n",
      "     Lines covered: 2\n",
      "  Conditions total: 42\n",
      "Conditions covered: 1\n",
      "     Line coverage: 2.8%\n",
      "Condition coverage: 2.4%\n"
     ]
    },
    {
     "name": "stderr",
     "output_type": "stream",
     "text": [
      "OK\n",
      "Running ant (coverage.instrument).......................................... OK\n",
      "Running ant (run.gen.tests)................................................ OK\n",
      "Running ant (coverage.report).............................................. OK\n",
      "Extract test suite......................................................... OK\n",
      "Running ant (compile.gen.tests)............................................ "
     ]
    },
    {
     "name": "stdout",
     "output_type": "stream",
     "text": [
      "       Lines total: 71\n",
      "     Lines covered: 24\n",
      "  Conditions total: 42\n",
      "Conditions covered: 5\n",
      "     Line coverage: 33.8%\n",
      "Condition coverage: 11.9%\n"
     ]
    },
    {
     "name": "stderr",
     "output_type": "stream",
     "text": [
      "OK\n",
      "Running ant (coverage.instrument).......................................... OK\n",
      "Running ant (run.gen.tests)................................................ OK\n",
      "Running ant (coverage.report).............................................. OK\n",
      "Extract test suite......................................................... OK\n",
      "Running ant (compile.gen.tests)............................................ "
     ]
    },
    {
     "name": "stdout",
     "output_type": "stream",
     "text": [
      "       Lines total: 71\n",
      "     Lines covered: 5\n",
      "  Conditions total: 42\n",
      "Conditions covered: 0\n",
      "     Line coverage: 7.0%\n",
      "Condition coverage: 0.0%\n"
     ]
    },
    {
     "name": "stderr",
     "output_type": "stream",
     "text": [
      "OK\n",
      "Running ant (coverage.instrument).......................................... OK\n",
      "Running ant (run.gen.tests)................................................ OK\n",
      "Running ant (coverage.report).............................................. OK\n",
      "Extract test suite......................................................... OK\n",
      "Running ant (compile.gen.tests)............................................ "
     ]
    },
    {
     "name": "stdout",
     "output_type": "stream",
     "text": [
      "       Lines total: 71\n",
      "     Lines covered: 10\n",
      "  Conditions total: 42\n",
      "Conditions covered: 1\n",
      "     Line coverage: 14.1%\n",
      "Condition coverage: 2.4%\n"
     ]
    },
    {
     "name": "stderr",
     "output_type": "stream",
     "text": [
      "OK\n",
      "Running ant (coverage.instrument).......................................... OK\n",
      "Running ant (run.gen.tests)................................................ OK\n",
      "Running ant (coverage.report).............................................. OK\n",
      "Extract test suite......................................................... OK\n",
      "Running ant (compile.gen.tests)............................................ "
     ]
    },
    {
     "name": "stdout",
     "output_type": "stream",
     "text": [
      "       Lines total: 71\n",
      "     Lines covered: 2\n",
      "  Conditions total: 42\n",
      "Conditions covered: 1\n",
      "     Line coverage: 2.8%\n",
      "Condition coverage: 2.4%\n"
     ]
    },
    {
     "name": "stderr",
     "output_type": "stream",
     "text": [
      "OK\n",
      "Running ant (coverage.instrument).......................................... OK\n",
      "Running ant (run.gen.tests)................................................ OK\n",
      "Running ant (coverage.report).............................................. OK\n",
      "Extract test suite......................................................... OK\n",
      "Running ant (compile.gen.tests)............................................ "
     ]
    },
    {
     "name": "stdout",
     "output_type": "stream",
     "text": [
      "       Lines total: 71\n",
      "     Lines covered: 16\n",
      "  Conditions total: 42\n",
      "Conditions covered: 3\n",
      "     Line coverage: 22.5%\n",
      "Condition coverage: 7.1%\n"
     ]
    },
    {
     "name": "stderr",
     "output_type": "stream",
     "text": [
      "OK\n",
      "Running ant (coverage.instrument).......................................... OK\n",
      "Running ant (run.gen.tests)................................................ OK\n",
      "Running ant (coverage.report).............................................. OK\n",
      "Extract test suite......................................................... OK\n",
      "Running ant (compile.gen.tests)............................................ "
     ]
    },
    {
     "name": "stdout",
     "output_type": "stream",
     "text": [
      "       Lines total: 71\n",
      "     Lines covered: 2\n",
      "  Conditions total: 42\n",
      "Conditions covered: 1\n",
      "     Line coverage: 2.8%\n",
      "Condition coverage: 2.4%\n"
     ]
    },
    {
     "name": "stderr",
     "output_type": "stream",
     "text": [
      "OK\n",
      "Running ant (coverage.instrument).......................................... OK\n",
      "Running ant (run.gen.tests)................................................ OK\n",
      "Running ant (coverage.report).............................................. OK\n",
      "Extract test suite......................................................... OK\n",
      "Running ant (compile.gen.tests)............................................ "
     ]
    },
    {
     "name": "stdout",
     "output_type": "stream",
     "text": [
      "       Lines total: 71\n",
      "     Lines covered: 12\n",
      "  Conditions total: 42\n",
      "Conditions covered: 2\n",
      "     Line coverage: 16.9%\n",
      "Condition coverage: 4.8%\n"
     ]
    },
    {
     "name": "stderr",
     "output_type": "stream",
     "text": [
      "OK\n",
      "Running ant (coverage.instrument).......................................... OK\n",
      "Running ant (run.gen.tests)................................................ OK\n",
      "Running ant (coverage.report).............................................. "
     ]
    },
    {
     "name": "stdout",
     "output_type": "stream",
     "text": [
      "       Lines total: 71\n",
      "     Lines covered: 3\n",
      "  Conditions total: 42\n",
      "Conditions covered: 2\n",
      "     Line coverage: 4.2%\n",
      "Condition coverage: 4.8%\n"
     ]
    },
    {
     "name": "stderr",
     "output_type": "stream",
     "text": [
      "OK\n"
     ]
    }
   ],
   "source": [
    "import subprocess\n",
    "import xml.etree.ElementTree as ET\n",
    "\n",
    "\n",
    "line_info = {number: [0, 0] for number in line_numbers}\n",
    "\n",
    "print(line_info)\n",
    "\n",
    "failed_evo_tests = []\n",
    "\n",
    "suspiciousness_scores = {}\n",
    "\n",
    "# Path to the coverage file\n",
    "coverage_xml_path = \"/Users/hugoyin/Desktop/UIUC/CS_527/CS_527_Project/Defects4J/Compress_2/Buggy-Version/Compress_2B/coverage.xml\"\n",
    "\n",
    "\n",
    "\n",
    "for i in range(6):\n",
    "    visited = []\n",
    "    test_name = f\"test{i:02d}\"  # Formats i to 3 digits, padded with zeros\n",
    "    command = f\"defects4j coverage -t org.apache.commons.compress.archivers.ar.ArArchiveInputStream_ESTest::{test_name} -s /Users/hugoyin/Desktop/UIUC/CS_527/defects4j/tests/Compress/evosuite/1/Compress-2b-evosuite.1.tar.bz2\"\n",
    "    \n",
    "    # Run the command\n",
    "    subprocess.run(command, shell=True, check=True)\n",
    "    \n",
    "    # Parse the coverage XML file\n",
    "    tree = ET.parse(coverage_xml_path)\n",
    "    root = tree.getroot()\n",
    "\n",
    "    class_xpath = \".//class[@name='org.apache.commons.compress.archivers.ar.ArArchiveInputStream']\"\n",
    "    metaphone_class = root.find(class_xpath)\n",
    "    \n",
    "    if metaphone_class is not None:\n",
    "        for line in metaphone_class.findall(\".//line\"):\n",
    "            num = int(line.get('number'))\n",
    "            if num in visited:\n",
    "                continue\n",
    "    \n",
    "            if num in line_numbers:\n",
    "                hits = int(line.get('hits'))\n",
    "                if hits > 0:\n",
    "                    if test_name in failed_evo_tests:\n",
    "                        line_info[num][0] += 1\n",
    "                    else:\n",
    "                        line_info[num][1] += 1\n",
    "    \n",
    "            visited.append(num)\n",
    "                \n",
    "\n",
    "for i in range(106):\n",
    "    index = i + 1\n",
    "    visited = []\n",
    "    test_name = f\"test{index:03d}\"  # Formats i to 3 digits, padded with zeros\n",
    "    command = f\"defects4j coverage -t org.apache.commons.compress.archivers.ar.RegressionTest0::{test_name} -s /Users/hugoyin/Desktop/UIUC/CS_527/defects4j/tests/Compress/randoop/1/Compress-2b-randoop.1.tar.bz2\"\n",
    "    \n",
    "    # Run the command\n",
    "    subprocess.run(command, shell=True, check=True)\n",
    "    \n",
    "    # Parse the coverage XML file\n",
    "    tree = ET.parse(coverage_xml_path)\n",
    "    root = tree.getroot()\n",
    "\n",
    "    class_xpath = \".//class[@name='org.apache.commons.compress.archivers.ar.ArArchiveInputStream']\"\n",
    "    metaphone_class = root.find(class_xpath)\n",
    "    \n",
    "    if metaphone_class is not None:\n",
    "        for line in metaphone_class.findall(\".//line\"):\n",
    "            num = int(line.get('number'))\n",
    "            if num in visited:\n",
    "                continue\n",
    "    \n",
    "            if num in line_numbers:\n",
    "                hits = int(line.get('hits'))\n",
    "                if hits > 0:\n",
    "                    line_info[num][1] += 1\n",
    "    \n",
    "            visited.append(num)"
   ]
  },
  {
   "cell_type": "code",
   "execution_count": 8,
   "id": "693f9f4b-13af-4d53-81b8-a1b479af36bf",
   "metadata": {},
   "outputs": [
    {
     "name": "stdout",
     "output_type": "stream",
     "text": [
      "['org.apache.commons.compress.archivers.ArTestCase::testArDelete']\n"
     ]
    },
    {
     "name": "stderr",
     "output_type": "stream",
     "text": [
      "Running ant (compile.tests)................................................ OK\n",
      "Running ant (coverage.instrument).......................................... OK\n",
      "Running ant (run.dev.tests)................................................ OK\n",
      "Running ant (coverage.report).............................................. OK\n",
      "Running ant (compile.tests)................................................ "
     ]
    },
    {
     "name": "stdout",
     "output_type": "stream",
     "text": [
      "       Lines total: 71\n",
      "     Lines covered: 16\n",
      "  Conditions total: 42\n",
      "Conditions covered: 10\n",
      "     Line coverage: 22.5%\n",
      "Condition coverage: 23.8%\n"
     ]
    },
    {
     "name": "stderr",
     "output_type": "stream",
     "text": [
      "OK\n",
      "Running ant (coverage.instrument).......................................... OK\n",
      "Running ant (run.dev.tests)................................................ OK\n",
      "Running ant (coverage.report).............................................. OK\n",
      "Running ant (compile.tests)................................................ "
     ]
    },
    {
     "name": "stdout",
     "output_type": "stream",
     "text": [
      "       Lines total: 71\n",
      "     Lines covered: 0\n",
      "  Conditions total: 42\n",
      "Conditions covered: 0\n",
      "     Line coverage: 0.0%\n",
      "Condition coverage: 0.0%\n"
     ]
    },
    {
     "name": "stderr",
     "output_type": "stream",
     "text": [
      "OK\n",
      "Running ant (coverage.instrument).......................................... OK\n",
      "Running ant (run.dev.tests)................................................ OK\n",
      "Running ant (coverage.report).............................................. OK\n",
      "Running ant (compile.tests)................................................ "
     ]
    },
    {
     "name": "stdout",
     "output_type": "stream",
     "text": [
      "       Lines total: 71\n",
      "     Lines covered: 0\n",
      "  Conditions total: 42\n",
      "Conditions covered: 0\n",
      "     Line coverage: 0.0%\n",
      "Condition coverage: 0.0%\n"
     ]
    },
    {
     "name": "stderr",
     "output_type": "stream",
     "text": [
      "OK\n",
      "Running ant (coverage.instrument).......................................... OK\n",
      "Running ant (run.dev.tests)................................................ OK\n",
      "Running ant (coverage.report).............................................. OK\n",
      "Running ant (compile.tests)................................................ "
     ]
    },
    {
     "name": "stdout",
     "output_type": "stream",
     "text": [
      "       Lines total: 71\n",
      "     Lines covered: 3\n",
      "  Conditions total: 42\n",
      "Conditions covered: 2\n",
      "     Line coverage: 4.2%\n",
      "Condition coverage: 4.8%\n"
     ]
    },
    {
     "name": "stderr",
     "output_type": "stream",
     "text": [
      "OK\n",
      "Running ant (coverage.instrument).......................................... OK\n",
      "Running ant (run.dev.tests)................................................ OK\n",
      "Running ant (coverage.report).............................................. OK\n",
      "WARNING: Some tests failed (see /Users/hugoyin/Desktop/UIUC/CS_527/CS_527_Project/Defects4J/Compress_2/Buggy-Version/Compress_2B/failing_tests)!\n",
      "Running ant (compile.tests)................................................ "
     ]
    },
    {
     "name": "stdout",
     "output_type": "stream",
     "text": [
      "       Lines total: 71\n",
      "     Lines covered: 54\n",
      "  Conditions total: 42\n",
      "Conditions covered: 25\n",
      "     Line coverage: 76.1%\n",
      "Condition coverage: 59.5%\n"
     ]
    },
    {
     "name": "stderr",
     "output_type": "stream",
     "text": [
      "OK\n",
      "Running ant (coverage.instrument).......................................... OK\n",
      "Running ant (run.dev.tests)................................................ OK\n",
      "Running ant (coverage.report).............................................. OK\n",
      "Running ant (compile.tests)................................................ "
     ]
    },
    {
     "name": "stdout",
     "output_type": "stream",
     "text": [
      "       Lines total: 71\n",
      "     Lines covered: 53\n",
      "  Conditions total: 42\n",
      "Conditions covered: 23\n",
      "     Line coverage: 74.6%\n",
      "Condition coverage: 54.8%\n"
     ]
    },
    {
     "name": "stderr",
     "output_type": "stream",
     "text": [
      "OK\n",
      "Running ant (coverage.instrument).......................................... OK\n",
      "Running ant (run.dev.tests)................................................ OK\n",
      "Running ant (coverage.report).............................................. OK\n",
      "Running ant (compile.tests)................................................ "
     ]
    },
    {
     "name": "stdout",
     "output_type": "stream",
     "text": [
      "       Lines total: 71\n",
      "     Lines covered: 0\n",
      "  Conditions total: 42\n",
      "Conditions covered: 0\n",
      "     Line coverage: 0.0%\n",
      "Condition coverage: 0.0%\n"
     ]
    },
    {
     "name": "stderr",
     "output_type": "stream",
     "text": [
      "OK\n",
      "Running ant (coverage.instrument).......................................... OK\n",
      "Running ant (run.dev.tests)................................................ OK\n",
      "Running ant (coverage.report).............................................. OK\n",
      "Running ant (compile.tests)................................................ "
     ]
    },
    {
     "name": "stdout",
     "output_type": "stream",
     "text": [
      "       Lines total: 71\n",
      "     Lines covered: 0\n",
      "  Conditions total: 42\n",
      "Conditions covered: 0\n",
      "     Line coverage: 0.0%\n",
      "Condition coverage: 0.0%\n"
     ]
    },
    {
     "name": "stderr",
     "output_type": "stream",
     "text": [
      "OK\n",
      "Running ant (coverage.instrument).......................................... OK\n",
      "Running ant (run.dev.tests)................................................ OK\n",
      "Running ant (coverage.report).............................................. OK\n",
      "Running ant (compile.tests)................................................ "
     ]
    },
    {
     "name": "stdout",
     "output_type": "stream",
     "text": [
      "       Lines total: 71\n",
      "     Lines covered: 0\n",
      "  Conditions total: 42\n",
      "Conditions covered: 0\n",
      "     Line coverage: 0.0%\n",
      "Condition coverage: 0.0%\n"
     ]
    },
    {
     "name": "stderr",
     "output_type": "stream",
     "text": [
      "OK\n",
      "Running ant (coverage.instrument).......................................... OK\n",
      "Running ant (run.dev.tests)................................................ OK\n",
      "Running ant (coverage.report).............................................. OK\n",
      "Running ant (compile.tests)................................................ "
     ]
    },
    {
     "name": "stdout",
     "output_type": "stream",
     "text": [
      "       Lines total: 71\n",
      "     Lines covered: 0\n",
      "  Conditions total: 42\n",
      "Conditions covered: 0\n",
      "     Line coverage: 0.0%\n",
      "Condition coverage: 0.0%\n"
     ]
    },
    {
     "name": "stderr",
     "output_type": "stream",
     "text": [
      "OK\n",
      "Running ant (coverage.instrument).......................................... OK\n",
      "Running ant (run.dev.tests)................................................ OK\n",
      "Running ant (coverage.report).............................................. OK\n",
      "Running ant (compile.tests)................................................ "
     ]
    },
    {
     "name": "stdout",
     "output_type": "stream",
     "text": [
      "       Lines total: 71\n",
      "     Lines covered: 0\n",
      "  Conditions total: 42\n",
      "Conditions covered: 0\n",
      "     Line coverage: 0.0%\n",
      "Condition coverage: 0.0%\n"
     ]
    },
    {
     "name": "stderr",
     "output_type": "stream",
     "text": [
      "OK\n",
      "Running ant (coverage.instrument).......................................... OK\n",
      "Running ant (run.dev.tests)................................................ OK\n",
      "Running ant (coverage.report).............................................. OK\n",
      "Running ant (compile.tests)................................................ "
     ]
    },
    {
     "name": "stdout",
     "output_type": "stream",
     "text": [
      "       Lines total: 71\n",
      "     Lines covered: 0\n",
      "  Conditions total: 42\n",
      "Conditions covered: 0\n",
      "     Line coverage: 0.0%\n",
      "Condition coverage: 0.0%\n"
     ]
    },
    {
     "name": "stderr",
     "output_type": "stream",
     "text": [
      "OK\n",
      "Running ant (coverage.instrument).......................................... OK\n",
      "Running ant (run.dev.tests)................................................ OK\n",
      "Running ant (coverage.report).............................................. OK\n",
      "Running ant (compile.tests)................................................ "
     ]
    },
    {
     "name": "stdout",
     "output_type": "stream",
     "text": [
      "       Lines total: 71\n",
      "     Lines covered: 0\n",
      "  Conditions total: 42\n",
      "Conditions covered: 0\n",
      "     Line coverage: 0.0%\n",
      "Condition coverage: 0.0%\n"
     ]
    },
    {
     "name": "stderr",
     "output_type": "stream",
     "text": [
      "OK\n",
      "Running ant (coverage.instrument).......................................... OK\n",
      "Running ant (run.dev.tests)................................................ OK\n",
      "Running ant (coverage.report).............................................. OK\n",
      "Running ant (compile.tests)................................................ "
     ]
    },
    {
     "name": "stdout",
     "output_type": "stream",
     "text": [
      "       Lines total: 71\n",
      "     Lines covered: 0\n",
      "  Conditions total: 42\n",
      "Conditions covered: 0\n",
      "     Line coverage: 0.0%\n",
      "Condition coverage: 0.0%\n"
     ]
    },
    {
     "name": "stderr",
     "output_type": "stream",
     "text": [
      "OK\n",
      "Running ant (coverage.instrument).......................................... OK\n",
      "Running ant (run.dev.tests)................................................ OK\n",
      "Running ant (coverage.report).............................................. OK\n",
      "Running ant (compile.tests)................................................ "
     ]
    },
    {
     "name": "stdout",
     "output_type": "stream",
     "text": [
      "       Lines total: 71\n",
      "     Lines covered: 0\n",
      "  Conditions total: 42\n",
      "Conditions covered: 0\n",
      "     Line coverage: 0.0%\n",
      "Condition coverage: 0.0%\n"
     ]
    },
    {
     "name": "stderr",
     "output_type": "stream",
     "text": [
      "OK\n",
      "Running ant (coverage.instrument).......................................... OK\n",
      "Running ant (run.dev.tests)................................................ OK\n",
      "Running ant (coverage.report).............................................. OK\n",
      "Running ant (compile.tests)................................................ "
     ]
    },
    {
     "name": "stdout",
     "output_type": "stream",
     "text": [
      "       Lines total: 71\n",
      "     Lines covered: 0\n",
      "  Conditions total: 42\n",
      "Conditions covered: 0\n",
      "     Line coverage: 0.0%\n",
      "Condition coverage: 0.0%\n"
     ]
    },
    {
     "name": "stderr",
     "output_type": "stream",
     "text": [
      "OK\n",
      "Running ant (coverage.instrument).......................................... OK\n",
      "Running ant (run.dev.tests)................................................ OK\n",
      "Running ant (coverage.report).............................................. OK\n",
      "Running ant (compile.tests)................................................ "
     ]
    },
    {
     "name": "stdout",
     "output_type": "stream",
     "text": [
      "       Lines total: 71\n",
      "     Lines covered: 0\n",
      "  Conditions total: 42\n",
      "Conditions covered: 0\n",
      "     Line coverage: 0.0%\n",
      "Condition coverage: 0.0%\n"
     ]
    },
    {
     "name": "stderr",
     "output_type": "stream",
     "text": [
      "OK\n",
      "Running ant (coverage.instrument).......................................... OK\n",
      "Running ant (run.dev.tests)................................................ OK\n",
      "Running ant (coverage.report).............................................. OK\n",
      "Running ant (compile.tests)................................................ "
     ]
    },
    {
     "name": "stdout",
     "output_type": "stream",
     "text": [
      "       Lines total: 71\n",
      "     Lines covered: 0\n",
      "  Conditions total: 42\n",
      "Conditions covered: 0\n",
      "     Line coverage: 0.0%\n",
      "Condition coverage: 0.0%\n"
     ]
    },
    {
     "name": "stderr",
     "output_type": "stream",
     "text": [
      "OK\n",
      "Running ant (coverage.instrument).......................................... OK\n",
      "Running ant (run.dev.tests)................................................ OK\n",
      "Running ant (coverage.report).............................................. OK\n",
      "Running ant (compile.tests)................................................ "
     ]
    },
    {
     "name": "stdout",
     "output_type": "stream",
     "text": [
      "       Lines total: 71\n",
      "     Lines covered: 0\n",
      "  Conditions total: 42\n",
      "Conditions covered: 0\n",
      "     Line coverage: 0.0%\n",
      "Condition coverage: 0.0%\n"
     ]
    },
    {
     "name": "stderr",
     "output_type": "stream",
     "text": [
      "OK\n",
      "Running ant (coverage.instrument).......................................... OK\n",
      "Running ant (run.dev.tests)................................................ OK\n",
      "Running ant (coverage.report).............................................. OK\n",
      "Running ant (compile.tests)................................................ "
     ]
    },
    {
     "name": "stdout",
     "output_type": "stream",
     "text": [
      "       Lines total: 71\n",
      "     Lines covered: 0\n",
      "  Conditions total: 42\n",
      "Conditions covered: 0\n",
      "     Line coverage: 0.0%\n",
      "Condition coverage: 0.0%\n"
     ]
    },
    {
     "name": "stderr",
     "output_type": "stream",
     "text": [
      "OK\n",
      "Running ant (coverage.instrument).......................................... OK\n",
      "Running ant (run.dev.tests)................................................ OK\n",
      "Running ant (coverage.report).............................................. OK\n",
      "Running ant (compile.tests)................................................ "
     ]
    },
    {
     "name": "stdout",
     "output_type": "stream",
     "text": [
      "       Lines total: 71\n",
      "     Lines covered: 0\n",
      "  Conditions total: 42\n",
      "Conditions covered: 0\n",
      "     Line coverage: 0.0%\n",
      "Condition coverage: 0.0%\n"
     ]
    },
    {
     "name": "stderr",
     "output_type": "stream",
     "text": [
      "OK\n",
      "Running ant (coverage.instrument).......................................... OK\n",
      "Running ant (run.dev.tests)................................................ OK\n",
      "Running ant (coverage.report).............................................. OK\n",
      "Running ant (compile.tests)................................................ "
     ]
    },
    {
     "name": "stdout",
     "output_type": "stream",
     "text": [
      "       Lines total: 71\n",
      "     Lines covered: 0\n",
      "  Conditions total: 42\n",
      "Conditions covered: 0\n",
      "     Line coverage: 0.0%\n",
      "Condition coverage: 0.0%\n"
     ]
    },
    {
     "name": "stderr",
     "output_type": "stream",
     "text": [
      "OK\n",
      "Running ant (coverage.instrument).......................................... OK\n",
      "Running ant (run.dev.tests)................................................ OK\n",
      "Running ant (coverage.report).............................................. OK\n",
      "Running ant (compile.tests)................................................ "
     ]
    },
    {
     "name": "stdout",
     "output_type": "stream",
     "text": [
      "       Lines total: 71\n",
      "     Lines covered: 0\n",
      "  Conditions total: 42\n",
      "Conditions covered: 0\n",
      "     Line coverage: 0.0%\n",
      "Condition coverage: 0.0%\n"
     ]
    },
    {
     "name": "stderr",
     "output_type": "stream",
     "text": [
      "OK\n",
      "Running ant (coverage.instrument).......................................... OK\n",
      "Running ant (run.dev.tests)................................................ OK\n",
      "Running ant (coverage.report).............................................. OK\n",
      "Running ant (compile.tests)................................................ "
     ]
    },
    {
     "name": "stdout",
     "output_type": "stream",
     "text": [
      "       Lines total: 71\n",
      "     Lines covered: 0\n",
      "  Conditions total: 42\n",
      "Conditions covered: 0\n",
      "     Line coverage: 0.0%\n",
      "Condition coverage: 0.0%\n"
     ]
    },
    {
     "name": "stderr",
     "output_type": "stream",
     "text": [
      "OK\n",
      "Running ant (coverage.instrument).......................................... OK\n",
      "Running ant (run.dev.tests)................................................ OK\n",
      "Running ant (coverage.report).............................................. OK\n",
      "Running ant (compile.tests)................................................ "
     ]
    },
    {
     "name": "stdout",
     "output_type": "stream",
     "text": [
      "       Lines total: 71\n",
      "     Lines covered: 0\n",
      "  Conditions total: 42\n",
      "Conditions covered: 0\n",
      "     Line coverage: 0.0%\n",
      "Condition coverage: 0.0%\n"
     ]
    },
    {
     "name": "stderr",
     "output_type": "stream",
     "text": [
      "OK\n",
      "Running ant (coverage.instrument).......................................... OK\n",
      "Running ant (run.dev.tests)................................................ OK\n",
      "Running ant (coverage.report).............................................. OK\n",
      "Running ant (compile.tests)................................................ "
     ]
    },
    {
     "name": "stdout",
     "output_type": "stream",
     "text": [
      "       Lines total: 71\n",
      "     Lines covered: 0\n",
      "  Conditions total: 42\n",
      "Conditions covered: 0\n",
      "     Line coverage: 0.0%\n",
      "Condition coverage: 0.0%\n"
     ]
    },
    {
     "name": "stderr",
     "output_type": "stream",
     "text": [
      "OK\n",
      "Running ant (coverage.instrument).......................................... OK\n",
      "Running ant (run.dev.tests)................................................ OK\n",
      "Running ant (coverage.report).............................................. OK\n",
      "Running ant (compile.tests)................................................ "
     ]
    },
    {
     "name": "stdout",
     "output_type": "stream",
     "text": [
      "       Lines total: 71\n",
      "     Lines covered: 0\n",
      "  Conditions total: 42\n",
      "Conditions covered: 0\n",
      "     Line coverage: 0.0%\n",
      "Condition coverage: 0.0%\n"
     ]
    },
    {
     "name": "stderr",
     "output_type": "stream",
     "text": [
      "OK\n",
      "Running ant (coverage.instrument).......................................... OK\n",
      "Running ant (run.dev.tests)................................................ OK\n",
      "Running ant (coverage.report).............................................. OK\n",
      "Running ant (compile.tests)................................................ "
     ]
    },
    {
     "name": "stdout",
     "output_type": "stream",
     "text": [
      "       Lines total: 71\n",
      "     Lines covered: 0\n",
      "  Conditions total: 42\n",
      "Conditions covered: 0\n",
      "     Line coverage: 0.0%\n",
      "Condition coverage: 0.0%\n"
     ]
    },
    {
     "name": "stderr",
     "output_type": "stream",
     "text": [
      "OK\n",
      "Running ant (coverage.instrument).......................................... OK\n",
      "Running ant (run.dev.tests)................................................ OK\n",
      "Running ant (coverage.report).............................................. OK\n",
      "Running ant (compile.tests)................................................ "
     ]
    },
    {
     "name": "stdout",
     "output_type": "stream",
     "text": [
      "       Lines total: 71\n",
      "     Lines covered: 0\n",
      "  Conditions total: 42\n",
      "Conditions covered: 0\n",
      "     Line coverage: 0.0%\n",
      "Condition coverage: 0.0%\n"
     ]
    },
    {
     "name": "stderr",
     "output_type": "stream",
     "text": [
      "OK\n",
      "Running ant (coverage.instrument).......................................... OK\n",
      "Running ant (run.dev.tests)................................................ OK\n",
      "Running ant (coverage.report).............................................. OK\n",
      "Running ant (compile.tests)................................................ "
     ]
    },
    {
     "name": "stdout",
     "output_type": "stream",
     "text": [
      "       Lines total: 71\n",
      "     Lines covered: 0\n",
      "  Conditions total: 42\n",
      "Conditions covered: 0\n",
      "     Line coverage: 0.0%\n",
      "Condition coverage: 0.0%\n"
     ]
    },
    {
     "name": "stderr",
     "output_type": "stream",
     "text": [
      "OK\n",
      "Running ant (coverage.instrument).......................................... OK\n",
      "Running ant (run.dev.tests)................................................ OK\n",
      "Running ant (coverage.report).............................................. OK\n",
      "Running ant (compile.tests)................................................ "
     ]
    },
    {
     "name": "stdout",
     "output_type": "stream",
     "text": [
      "       Lines total: 71\n",
      "     Lines covered: 0\n",
      "  Conditions total: 42\n",
      "Conditions covered: 0\n",
      "     Line coverage: 0.0%\n",
      "Condition coverage: 0.0%\n"
     ]
    },
    {
     "name": "stderr",
     "output_type": "stream",
     "text": [
      "OK\n",
      "Running ant (coverage.instrument).......................................... OK\n",
      "Running ant (run.dev.tests)................................................ OK\n",
      "Running ant (coverage.report).............................................. OK\n",
      "Running ant (compile.tests)................................................ "
     ]
    },
    {
     "name": "stdout",
     "output_type": "stream",
     "text": [
      "       Lines total: 71\n",
      "     Lines covered: 0\n",
      "  Conditions total: 42\n",
      "Conditions covered: 0\n",
      "     Line coverage: 0.0%\n",
      "Condition coverage: 0.0%\n"
     ]
    },
    {
     "name": "stderr",
     "output_type": "stream",
     "text": [
      "OK\n",
      "Running ant (coverage.instrument).......................................... OK\n",
      "Running ant (run.dev.tests)................................................ OK\n",
      "Running ant (coverage.report).............................................. OK\n",
      "Running ant (compile.tests)................................................ "
     ]
    },
    {
     "name": "stdout",
     "output_type": "stream",
     "text": [
      "       Lines total: 71\n",
      "     Lines covered: 0\n",
      "  Conditions total: 42\n",
      "Conditions covered: 0\n",
      "     Line coverage: 0.0%\n",
      "Condition coverage: 0.0%\n"
     ]
    },
    {
     "name": "stderr",
     "output_type": "stream",
     "text": [
      "OK\n",
      "Running ant (coverage.instrument).......................................... OK\n",
      "Running ant (run.dev.tests)................................................ OK\n",
      "Running ant (coverage.report).............................................. OK\n",
      "Running ant (compile.tests)................................................ "
     ]
    },
    {
     "name": "stdout",
     "output_type": "stream",
     "text": [
      "       Lines total: 71\n",
      "     Lines covered: 0\n",
      "  Conditions total: 42\n",
      "Conditions covered: 0\n",
      "     Line coverage: 0.0%\n",
      "Condition coverage: 0.0%\n"
     ]
    },
    {
     "name": "stderr",
     "output_type": "stream",
     "text": [
      "OK\n",
      "Running ant (coverage.instrument).......................................... OK\n",
      "Running ant (run.dev.tests)................................................ OK\n",
      "Running ant (coverage.report).............................................. OK\n",
      "Running ant (compile.tests)................................................ "
     ]
    },
    {
     "name": "stdout",
     "output_type": "stream",
     "text": [
      "       Lines total: 71\n",
      "     Lines covered: 0\n",
      "  Conditions total: 42\n",
      "Conditions covered: 0\n",
      "     Line coverage: 0.0%\n",
      "Condition coverage: 0.0%\n"
     ]
    },
    {
     "name": "stderr",
     "output_type": "stream",
     "text": [
      "OK\n",
      "Running ant (coverage.instrument).......................................... OK\n",
      "Running ant (run.dev.tests)................................................ OK\n",
      "Running ant (coverage.report).............................................. OK\n",
      "Running ant (compile.tests)................................................ "
     ]
    },
    {
     "name": "stdout",
     "output_type": "stream",
     "text": [
      "       Lines total: 71\n",
      "     Lines covered: 0\n",
      "  Conditions total: 42\n",
      "Conditions covered: 0\n",
      "     Line coverage: 0.0%\n",
      "Condition coverage: 0.0%\n"
     ]
    },
    {
     "name": "stderr",
     "output_type": "stream",
     "text": [
      "OK\n",
      "Running ant (coverage.instrument).......................................... OK\n",
      "Running ant (run.dev.tests)................................................ OK\n",
      "Running ant (coverage.report).............................................. OK\n",
      "Running ant (compile.tests)................................................ "
     ]
    },
    {
     "name": "stdout",
     "output_type": "stream",
     "text": [
      "       Lines total: 71\n",
      "     Lines covered: 0\n",
      "  Conditions total: 42\n",
      "Conditions covered: 0\n",
      "     Line coverage: 0.0%\n",
      "Condition coverage: 0.0%\n"
     ]
    },
    {
     "name": "stderr",
     "output_type": "stream",
     "text": [
      "OK\n",
      "Running ant (coverage.instrument).......................................... OK\n",
      "Running ant (run.dev.tests)................................................ OK\n",
      "Running ant (coverage.report).............................................. OK\n",
      "Running ant (compile.tests)................................................ "
     ]
    },
    {
     "name": "stdout",
     "output_type": "stream",
     "text": [
      "       Lines total: 71\n",
      "     Lines covered: 0\n",
      "  Conditions total: 42\n",
      "Conditions covered: 0\n",
      "     Line coverage: 0.0%\n",
      "Condition coverage: 0.0%\n"
     ]
    },
    {
     "name": "stderr",
     "output_type": "stream",
     "text": [
      "OK\n",
      "Running ant (coverage.instrument).......................................... OK\n",
      "Running ant (run.dev.tests)................................................ OK\n",
      "Running ant (coverage.report).............................................. OK\n",
      "Running ant (compile.tests)................................................ "
     ]
    },
    {
     "name": "stdout",
     "output_type": "stream",
     "text": [
      "       Lines total: 71\n",
      "     Lines covered: 0\n",
      "  Conditions total: 42\n",
      "Conditions covered: 0\n",
      "     Line coverage: 0.0%\n",
      "Condition coverage: 0.0%\n"
     ]
    },
    {
     "name": "stderr",
     "output_type": "stream",
     "text": [
      "OK\n",
      "Running ant (coverage.instrument).......................................... OK\n",
      "Running ant (run.dev.tests)................................................ OK\n",
      "Running ant (coverage.report).............................................. OK\n",
      "Running ant (compile.tests)................................................ "
     ]
    },
    {
     "name": "stdout",
     "output_type": "stream",
     "text": [
      "       Lines total: 71\n",
      "     Lines covered: 0\n",
      "  Conditions total: 42\n",
      "Conditions covered: 0\n",
      "     Line coverage: 0.0%\n",
      "Condition coverage: 0.0%\n"
     ]
    },
    {
     "name": "stderr",
     "output_type": "stream",
     "text": [
      "OK\n",
      "Running ant (coverage.instrument).......................................... OK\n",
      "Running ant (run.dev.tests)................................................ OK\n",
      "Running ant (coverage.report).............................................. OK\n",
      "Running ant (compile.tests)................................................ "
     ]
    },
    {
     "name": "stdout",
     "output_type": "stream",
     "text": [
      "       Lines total: 71\n",
      "     Lines covered: 0\n",
      "  Conditions total: 42\n",
      "Conditions covered: 0\n",
      "     Line coverage: 0.0%\n",
      "Condition coverage: 0.0%\n"
     ]
    },
    {
     "name": "stderr",
     "output_type": "stream",
     "text": [
      "OK\n",
      "Running ant (coverage.instrument).......................................... OK\n",
      "Running ant (run.dev.tests)................................................ OK\n",
      "Running ant (coverage.report).............................................. OK\n",
      "Running ant (compile.tests)................................................ "
     ]
    },
    {
     "name": "stdout",
     "output_type": "stream",
     "text": [
      "       Lines total: 71\n",
      "     Lines covered: 0\n",
      "  Conditions total: 42\n",
      "Conditions covered: 0\n",
      "     Line coverage: 0.0%\n",
      "Condition coverage: 0.0%\n"
     ]
    },
    {
     "name": "stderr",
     "output_type": "stream",
     "text": [
      "OK\n",
      "Running ant (coverage.instrument).......................................... OK\n",
      "Running ant (run.dev.tests)................................................ OK\n",
      "Running ant (coverage.report).............................................. OK\n",
      "Running ant (compile.tests)................................................ "
     ]
    },
    {
     "name": "stdout",
     "output_type": "stream",
     "text": [
      "       Lines total: 71\n",
      "     Lines covered: 0\n",
      "  Conditions total: 42\n",
      "Conditions covered: 0\n",
      "     Line coverage: 0.0%\n",
      "Condition coverage: 0.0%\n"
     ]
    },
    {
     "name": "stderr",
     "output_type": "stream",
     "text": [
      "OK\n",
      "Running ant (coverage.instrument).......................................... OK\n",
      "Running ant (run.dev.tests)................................................ OK\n",
      "Running ant (coverage.report).............................................. OK\n",
      "Running ant (compile.tests)................................................ "
     ]
    },
    {
     "name": "stdout",
     "output_type": "stream",
     "text": [
      "       Lines total: 71\n",
      "     Lines covered: 0\n",
      "  Conditions total: 42\n",
      "Conditions covered: 0\n",
      "     Line coverage: 0.0%\n",
      "Condition coverage: 0.0%\n"
     ]
    },
    {
     "name": "stderr",
     "output_type": "stream",
     "text": [
      "OK\n",
      "Running ant (coverage.instrument).......................................... OK\n",
      "Running ant (run.dev.tests)................................................ OK\n",
      "Running ant (coverage.report).............................................. OK\n",
      "Running ant (compile.tests)................................................ "
     ]
    },
    {
     "name": "stdout",
     "output_type": "stream",
     "text": [
      "       Lines total: 71\n",
      "     Lines covered: 0\n",
      "  Conditions total: 42\n",
      "Conditions covered: 0\n",
      "     Line coverage: 0.0%\n",
      "Condition coverage: 0.0%\n"
     ]
    },
    {
     "name": "stderr",
     "output_type": "stream",
     "text": [
      "OK\n",
      "Running ant (coverage.instrument).......................................... OK\n",
      "Running ant (run.dev.tests)................................................ OK\n",
      "Running ant (coverage.report).............................................. OK\n",
      "Running ant (compile.tests)................................................ "
     ]
    },
    {
     "name": "stdout",
     "output_type": "stream",
     "text": [
      "       Lines total: 71\n",
      "     Lines covered: 0\n",
      "  Conditions total: 42\n",
      "Conditions covered: 0\n",
      "     Line coverage: 0.0%\n",
      "Condition coverage: 0.0%\n"
     ]
    },
    {
     "name": "stderr",
     "output_type": "stream",
     "text": [
      "OK\n",
      "Running ant (coverage.instrument).......................................... OK\n",
      "Running ant (run.dev.tests)................................................ OK\n",
      "Running ant (coverage.report).............................................. OK\n",
      "Running ant (compile.tests)................................................ "
     ]
    },
    {
     "name": "stdout",
     "output_type": "stream",
     "text": [
      "       Lines total: 71\n",
      "     Lines covered: 0\n",
      "  Conditions total: 42\n",
      "Conditions covered: 0\n",
      "     Line coverage: 0.0%\n",
      "Condition coverage: 0.0%\n"
     ]
    },
    {
     "name": "stderr",
     "output_type": "stream",
     "text": [
      "OK\n",
      "Running ant (coverage.instrument).......................................... OK\n",
      "Running ant (run.dev.tests)................................................ OK\n",
      "Running ant (coverage.report).............................................. OK\n",
      "Running ant (compile.tests)................................................ "
     ]
    },
    {
     "name": "stdout",
     "output_type": "stream",
     "text": [
      "       Lines total: 71\n",
      "     Lines covered: 0\n",
      "  Conditions total: 42\n",
      "Conditions covered: 0\n",
      "     Line coverage: 0.0%\n",
      "Condition coverage: 0.0%\n"
     ]
    },
    {
     "name": "stderr",
     "output_type": "stream",
     "text": [
      "OK\n",
      "Running ant (coverage.instrument).......................................... OK\n",
      "Running ant (run.dev.tests)................................................ OK\n",
      "Running ant (coverage.report).............................................. OK\n",
      "Running ant (compile.tests)................................................ "
     ]
    },
    {
     "name": "stdout",
     "output_type": "stream",
     "text": [
      "       Lines total: 71\n",
      "     Lines covered: 0\n",
      "  Conditions total: 42\n",
      "Conditions covered: 0\n",
      "     Line coverage: 0.0%\n",
      "Condition coverage: 0.0%\n"
     ]
    },
    {
     "name": "stderr",
     "output_type": "stream",
     "text": [
      "OK\n",
      "Running ant (coverage.instrument).......................................... OK\n",
      "Running ant (run.dev.tests)................................................ OK\n",
      "Running ant (coverage.report).............................................. OK\n",
      "Running ant (compile.tests)................................................ "
     ]
    },
    {
     "name": "stdout",
     "output_type": "stream",
     "text": [
      "       Lines total: 71\n",
      "     Lines covered: 0\n",
      "  Conditions total: 42\n",
      "Conditions covered: 0\n",
      "     Line coverage: 0.0%\n",
      "Condition coverage: 0.0%\n"
     ]
    },
    {
     "name": "stderr",
     "output_type": "stream",
     "text": [
      "OK\n",
      "Running ant (coverage.instrument).......................................... OK\n",
      "Running ant (run.dev.tests)................................................ OK\n",
      "Running ant (coverage.report).............................................. OK\n",
      "Running ant (compile.tests)................................................ "
     ]
    },
    {
     "name": "stdout",
     "output_type": "stream",
     "text": [
      "       Lines total: 71\n",
      "     Lines covered: 0\n",
      "  Conditions total: 42\n",
      "Conditions covered: 0\n",
      "     Line coverage: 0.0%\n",
      "Condition coverage: 0.0%\n"
     ]
    },
    {
     "name": "stderr",
     "output_type": "stream",
     "text": [
      "OK\n",
      "Running ant (coverage.instrument).......................................... OK\n",
      "Running ant (run.dev.tests)................................................ OK\n",
      "Running ant (coverage.report).............................................. OK\n",
      "Running ant (compile.tests)................................................ "
     ]
    },
    {
     "name": "stdout",
     "output_type": "stream",
     "text": [
      "       Lines total: 71\n",
      "     Lines covered: 0\n",
      "  Conditions total: 42\n",
      "Conditions covered: 0\n",
      "     Line coverage: 0.0%\n",
      "Condition coverage: 0.0%\n"
     ]
    },
    {
     "name": "stderr",
     "output_type": "stream",
     "text": [
      "OK\n",
      "Running ant (coverage.instrument).......................................... OK\n",
      "Running ant (run.dev.tests)................................................ OK\n",
      "Running ant (coverage.report).............................................. "
     ]
    },
    {
     "name": "stdout",
     "output_type": "stream",
     "text": [
      "       Lines total: 71\n",
      "     Lines covered: 0\n",
      "  Conditions total: 42\n",
      "Conditions covered: 0\n",
      "     Line coverage: 0.0%\n",
      "Condition coverage: 0.0%\n"
     ]
    },
    {
     "name": "stderr",
     "output_type": "stream",
     "text": [
      "OK\n"
     ]
    }
   ],
   "source": [
    "default_failed_tests = \"../../Compress_2_test_failed.txt\"\n",
    "default_failed_list = []\n",
    "\n",
    "\n",
    "with open(default_failed_tests, 'r') as file:\n",
    "        # Read all lines from the file and convert each to an integer\n",
    "        default_failed_list = [line.strip() for line in file]\n",
    "\n",
    "print(default_failed_list)\n",
    "\n",
    "all_test_file = \"default_tests.txt\"\n",
    "relevant_class = [\"org.apache.commons.compress.DetectArchiverTestCase\",\"org.apache.commons.compress.archivers.ArTestCase\",\"org.apache.commons.compress.archivers.CpioTestCase\",\"org.apache.commons.compress.archivers.JarTestCase\",\"org.apache.commons.compress.archivers.TarTestCase\",\"org.apache.commons.compress.archivers.ZipTestCase\",\"org.apache.commons.compress.changes.ChangeSetTestCase\",\"org.apache.commons.compress.archivers.cpio.CpioArchiveInputStreamTest\",\"org.apache.commons.compress.archivers.zip.UTF8ZipFilesTest\",\"org.apache.commons.compress.changes.ChangeSetTestCase\",\"org.apache.commons.compress.compressors.BZip2TestCase\",\"org.apache.commons.compress.compressors.GZipTestCase\"]\n",
    "default_test_count = 0\n",
    "\n",
    "with open(all_test_file, 'r') as file:\n",
    "        for line in file:\n",
    "            test_name, test_class = line.strip().split('(')\n",
    "            test_class = test_class[:-1]  # Remove the closing parenthesis\n",
    "            if test_class not in relevant_class:\n",
    "                continue\n",
    "            complete_test = test_class + \"::\" + test_name\n",
    "            default_test_count += 1\n",
    "\n",
    "            visited = []\n",
    "            command = f\"defects4j coverage -t {complete_test}\"\n",
    "            \n",
    "            # Run the command\n",
    "            subprocess.run(command, shell=True, check=True)\n",
    "            \n",
    "            # Parse the coverage XML file\n",
    "            tree = ET.parse(coverage_xml_path)\n",
    "            root = tree.getroot()\n",
    "            \n",
    "            class_xpath = \".//class[@name='org.apache.commons.compress.archivers.ar.ArArchiveInputStream']\"\n",
    "            metaphone_class = root.find(class_xpath)\n",
    "            \n",
    "            if metaphone_class is not None:\n",
    "                for line in metaphone_class.findall(\".//line\"):\n",
    "                    num = int(line.get('number'))\n",
    "                    if num in visited:\n",
    "                        continue\n",
    "            \n",
    "                    if num in line_numbers:\n",
    "                        hits = int(line.get('hits'))\n",
    "                        if hits > 0:\n",
    "                            if complete_test in default_failed_list:\n",
    "                                line_info[num][0] += 1\n",
    "                            else:\n",
    "                                line_info[num][1] += 1\n",
    "            \n",
    "                    visited.append(num)"
   ]
  },
  {
   "cell_type": "code",
   "execution_count": 9,
   "id": "87624339-3d76-4d53-9933-558966edfb90",
   "metadata": {},
   "outputs": [
    {
     "name": "stdout",
     "output_type": "stream",
     "text": [
      "53\n"
     ]
    },
    {
     "data": {
      "text/plain": [
       "{36: [1, 74],\n",
       " 47: [1, 74],\n",
       " 48: [1, 74],\n",
       " 49: [1, 74],\n",
       " 50: [1, 74],\n",
       " 125: [1, 35],\n",
       " 126: [1, 35],\n",
       " 127: [1, 35],\n",
       " 129: [1, 35],\n",
       " 63: [1, 17],\n",
       " 64: [1, 17],\n",
       " 65: [1, 17],\n",
       " 66: [1, 17],\n",
       " 67: [1, 16],\n",
       " 68: [0, 15],\n",
       " 70: [1, 1],\n",
       " 71: [1, 1],\n",
       " 72: [0, 0],\n",
       " 79: [1, 1],\n",
       " 80: [1, 0],\n",
       " 83: [1, 1],\n",
       " 84: [0, 0],\n",
       " 86: [1, 1],\n",
       " 87: [1, 1],\n",
       " 88: [1, 1],\n",
       " 89: [1, 1],\n",
       " 90: [1, 1],\n",
       " 91: [1, 1],\n",
       " 93: [1, 1],\n",
       " 94: [1, 1],\n",
       " 95: [1, 1],\n",
       " 96: [1, 1],\n",
       " 97: [1, 1],\n",
       " 98: [1, 1],\n",
       " 101: [1, 1],\n",
       " 102: [1, 1],\n",
       " 103: [1, 1],\n",
       " 104: [1, 1],\n",
       " 105: [0, 0],\n",
       " 107: [1, 1],\n",
       " 108: [1, 1],\n",
       " 109: [0, 0],\n",
       " 114: [1, 1],\n",
       " 121: [1, 9],\n",
       " 151: [1, 47],\n",
       " 152: [0, 31],\n",
       " 154: [1, 18],\n",
       " 155: [0, 16],\n",
       " 157: [1, 2],\n",
       " 158: [0, 0],\n",
       " 160: [1, 2],\n",
       " 161: [0, 0],\n",
       " 163: [1, 2],\n",
       " 164: [0, 0],\n",
       " 166: [1, 2],\n",
       " 167: [0, 0],\n",
       " 169: [1, 2],\n",
       " 170: [0, 0],\n",
       " 172: [1, 2],\n",
       " 173: [0, 0],\n",
       " 175: [1, 2],\n",
       " 176: [0, 0],\n",
       " 179: [1, 2],\n",
       " 132: [0, 15],\n",
       " 133: [0, 15],\n",
       " 134: [0, 15],\n",
       " 138: [1, 45],\n",
       " 142: [1, 56],\n",
       " 143: [1, 56],\n",
       " 144: [1, 54],\n",
       " 145: [1, 54]}"
      ]
     },
     "execution_count": 9,
     "metadata": {},
     "output_type": "execute_result"
    }
   ],
   "source": [
    "print(default_test_count)\n",
    "line_info"
   ]
  },
  {
   "cell_type": "code",
   "execution_count": 10,
   "id": "4cc4ea17-738d-4e94-957c-00fb0d815cf2",
   "metadata": {},
   "outputs": [
    {
     "data": {
      "text/plain": [
       "{36: 0.6890756302521008,\n",
       " 47: 0.6890756302521008,\n",
       " 48: 0.6890756302521008,\n",
       " 49: 0.6890756302521008,\n",
       " 50: 0.6890756302521008,\n",
       " 125: 0.8241206030150754,\n",
       " 126: 0.8241206030150754,\n",
       " 127: 0.8241206030150754,\n",
       " 129: 0.8241206030150754,\n",
       " 63: 0.9060773480662982,\n",
       " 64: 0.9060773480662982,\n",
       " 65: 0.9060773480662982,\n",
       " 66: 0.9060773480662982,\n",
       " 67: 0.9111111111111111,\n",
       " 68: 0.0,\n",
       " 70: 0.9939393939393939,\n",
       " 71: 0.9939393939393939,\n",
       " 72: 0,\n",
       " 79: 0.9939393939393939,\n",
       " 80: 1.0,\n",
       " 83: 0.9939393939393939,\n",
       " 84: 0,\n",
       " 86: 0.9939393939393939,\n",
       " 87: 0.9939393939393939,\n",
       " 88: 0.9939393939393939,\n",
       " 89: 0.9939393939393939,\n",
       " 90: 0.9939393939393939,\n",
       " 91: 0.9939393939393939,\n",
       " 93: 0.9939393939393939,\n",
       " 94: 0.9939393939393939,\n",
       " 95: 0.9939393939393939,\n",
       " 96: 0.9939393939393939,\n",
       " 97: 0.9939393939393939,\n",
       " 98: 0.9939393939393939,\n",
       " 101: 0.9939393939393939,\n",
       " 102: 0.9939393939393939,\n",
       " 103: 0.9939393939393939,\n",
       " 104: 0.9939393939393939,\n",
       " 105: 0,\n",
       " 107: 0.9939393939393939,\n",
       " 108: 0.9939393939393939,\n",
       " 109: 0,\n",
       " 114: 0.9939393939393939,\n",
       " 121: 0.9479768786127167,\n",
       " 151: 0.7772511848341233,\n",
       " 152: 0.0,\n",
       " 154: 0.901098901098901,\n",
       " 155: 0.0,\n",
       " 157: 0.9879518072289156,\n",
       " 158: 0,\n",
       " 160: 0.9879518072289156,\n",
       " 161: 0,\n",
       " 163: 0.9879518072289156,\n",
       " 164: 0,\n",
       " 166: 0.9879518072289156,\n",
       " 167: 0,\n",
       " 169: 0.9879518072289156,\n",
       " 170: 0,\n",
       " 172: 0.9879518072289156,\n",
       " 173: 0,\n",
       " 175: 0.9879518072289156,\n",
       " 176: 0,\n",
       " 179: 0.9879518072289156,\n",
       " 132: 0.0,\n",
       " 133: 0.0,\n",
       " 134: 0.0,\n",
       " 138: 0.784688995215311,\n",
       " 142: 0.7454545454545454,\n",
       " 143: 0.7454545454545454,\n",
       " 144: 0.7522935779816513,\n",
       " 145: 0.7522935779816513}"
      ]
     },
     "execution_count": 10,
     "metadata": {},
     "output_type": "execute_result"
    }
   ],
   "source": [
    "total_fail = 1\n",
    "total_pass = 6 + 106 + default_test_count - total_fail\n",
    "for key, value in line_info.items():\n",
    "    failed = value[0]\n",
    "    passed = value[1]\n",
    "\n",
    "    if (failed == 0 and passed == 0):\n",
    "        suspiciousness_score = 0\n",
    "    else:\n",
    "        suspiciousness_score = (failed / total_fail) / ((failed / total_fail) + (passed / total_pass))\n",
    "    suspiciousness_scores[key] = suspiciousness_score\n",
    "\n",
    "suspiciousness_scores"
   ]
  },
  {
   "cell_type": "code",
   "execution_count": 11,
   "id": "b84f9c92-3bc4-42d4-a47d-0c34a1c97c1e",
   "metadata": {},
   "outputs": [
    {
     "name": "stdout",
     "output_type": "stream",
     "text": [
      "{80: 1, 70: 2, 71: 2, 79: 2, 83: 2, 86: 2, 87: 2, 88: 2, 89: 2, 90: 2, 91: 2, 93: 2, 94: 2, 95: 2, 96: 2, 97: 2, 98: 2, 101: 2, 102: 2, 103: 2, 104: 2, 107: 2, 108: 2, 114: 2, 157: 25, 160: 25, 163: 25, 166: 25, 169: 25, 172: 25, 175: 25, 179: 25, 121: 33, 67: 34, 63: 35, 64: 35, 65: 35, 66: 35, 154: 39, 125: 40, 126: 40, 127: 40, 129: 40, 138: 44, 151: 45, 144: 46, 145: 46, 142: 48, 143: 48, 36: 50, 47: 50, 48: 50, 49: 50, 50: 50, 68: 55, 72: 55, 84: 55, 105: 55, 109: 55, 152: 55, 155: 55, 158: 55, 161: 55, 164: 55, 167: 55, 170: 55, 173: 55, 176: 55, 132: 55, 133: 55, 134: 55}\n"
     ]
    }
   ],
   "source": [
    "sorted_items = sorted(suspiciousness_scores.items(), key=lambda item: item[1], reverse=True)\n",
    "\n",
    "# Assigning ranks, skipping ranks properly when there are ties\n",
    "modified_competition_ranking = {}\n",
    "current_rank = 1\n",
    "previous_value = None\n",
    "items_skipped = 0\n",
    "\n",
    "for index, (key, value) in enumerate(sorted_items):\n",
    "    if value == previous_value:\n",
    "        modified_competition_ranking[key] = current_rank\n",
    "        items_skipped += 1\n",
    "    else:\n",
    "        if previous_value is not None:\n",
    "            current_rank += items_skipped + 1\n",
    "        modified_competition_ranking[key] = current_rank\n",
    "        items_skipped = 0\n",
    "    previous_value = value\n",
    "\n",
    "# Printing the modified competition ranking\n",
    "print(modified_competition_ranking)"
   ]
  },
  {
   "cell_type": "code",
   "execution_count": 12,
   "id": "09a4a46f-aba0-45a7-9de2-7258b89b35a9",
   "metadata": {},
   "outputs": [
    {
     "name": "stdout",
     "output_type": "stream",
     "text": [
      "2\n",
      "55\n",
      "2\n",
      "55\n",
      "55\n",
      "55\n"
     ]
    }
   ],
   "source": [
    "print(modified_competition_ranking[83])\n",
    "print(modified_competition_ranking[84])\n",
    "print(modified_competition_ranking[114])\n",
    "print(modified_competition_ranking[132])\n",
    "print(modified_competition_ranking[133])\n",
    "print(modified_competition_ranking[134])"
   ]
  },
  {
   "cell_type": "code",
   "execution_count": null,
   "id": "0f398f74-7205-43fb-bdd4-252e634b5cea",
   "metadata": {},
   "outputs": [],
   "source": []
  }
 ],
 "metadata": {
  "kernelspec": {
   "display_name": "Python 3 (ipykernel)",
   "language": "python",
   "name": "python3"
  },
  "language_info": {
   "codemirror_mode": {
    "name": "ipython",
    "version": 3
   },
   "file_extension": ".py",
   "mimetype": "text/x-python",
   "name": "python",
   "nbconvert_exporter": "python",
   "pygments_lexer": "ipython3",
   "version": "3.11.7"
  }
 },
 "nbformat": 4,
 "nbformat_minor": 5
}
